{
  "nbformat": 4,
  "nbformat_minor": 0,
  "metadata": {
    "colab": {
      "name": "고려.ipynb",
      "provenance": [],
      "collapsed_sections": [],
      "authorship_tag": "ABX9TyMIbl+JoCE+KFgvkrtZsxwI",
      "include_colab_link": true
    },
    "kernelspec": {
      "display_name": "Python 3",
      "name": "python3"
    },
    "language_info": {
      "name": "python"
    }
  },
  "cells": [
    {
      "cell_type": "markdown",
      "metadata": {
        "id": "view-in-github",
        "colab_type": "text"
      },
      "source": [
        "<a href=\"https://colab.research.google.com/github/koreahong/parking_lot_analysis/blob/main/%EA%B3%A0%EB%A0%A4.ipynb\" target=\"_parent\"><img src=\"https://colab.research.google.com/assets/colab-badge.svg\" alt=\"Open In Colab\"/></a>"
      ]
    },
    {
      "cell_type": "markdown",
      "metadata": {
        "id": "yWSbN2wICEUm"
      },
      "source": [
        "#라이브러리 불러오기"
      ]
    },
    {
      "cell_type": "code",
      "metadata": {
        "id": "eG-MsenYA-z9"
      },
      "source": [
        "import os, sys\n",
        "my_path = '/content/notebooks'\n",
        "os.symlink('/content/drive/My Drive/머신러닝_실전예제/colab_library', my_path)\n",
        "sys.path.insert(0, my_path)"
      ],
      "execution_count": 3,
      "outputs": []
    },
    {
      "cell_type": "code",
      "metadata": {
        "id": "Rc0Hwe38A-WF"
      },
      "source": [
        "!pip install --target=$my_path pycaret\n",
        "!pip install --target=$my_path category_encoders\n",
        "!pip install --target=$my_path catboost"
      ],
      "execution_count": null,
      "outputs": []
    },
    {
      "cell_type": "code",
      "metadata": {
        "id": "GLMFxTaZC5Ta"
      },
      "source": [
        "import sys\n",
        "sys.path.append('/content/drive/My Drive/머신러닝_실전예제/colab_library')"
      ],
      "execution_count": 2,
      "outputs": []
    },
    {
      "cell_type": "code",
      "metadata": {
        "id": "AEdN9x53N3IY"
      },
      "source": [
        "#download pont\n",
        "!sudo apt-get install -y fonts-nanum\n",
        "!sudo fc-cache -fv \n",
        "!rm ~/.cache/matplotlib -rf "
      ],
      "execution_count": null,
      "outputs": []
    },
    {
      "cell_type": "code",
      "metadata": {
        "id": "sZlgseiX_37q"
      },
      "source": [
        "import pandas as pd\n",
        "import numpy as np\n",
        "import copy\n",
        "\n",
        "#시각화\n",
        "import matplotlib.pyplot as plt\n",
        "import plotly.express as px\n",
        "import plotly.graph_objects as go\n",
        "import seaborn as sns\n",
        "\n",
        "#통계\n",
        "from scipy.stats import skew\n",
        "from scipy  import stats\n",
        "\n",
        "#데이터전처리\n",
        "from sklearn.preprocessing import OneHotEncoder\n",
        "\n",
        "#머신러닝 \n",
        "from sklearn.linear_model import LinearRegression, Ridge, Lasso\n",
        "from sklearn.model_selection import train_test_split\n",
        "from sklearn.metrics import mean_absolute_error\n",
        "from sklearn.model_selection import GridSearchCV\n",
        "\n",
        "#경고무시\n",
        "import warnings\n",
        "warnings.filterwarnings(\"ignore\")\n",
        "\n",
        "#폰트설정\n",
        "plt.rc('font', family='NanumBarunGothic') "
      ],
      "execution_count": 4,
      "outputs": []
    },
    {
      "cell_type": "code",
      "metadata": {
        "id": "75Fnd_qQQN6G"
      },
      "source": [
        "from sklearn.metrics import log_loss\n",
        "from sklearn.preprocessing import StandardScaler\n",
        "from category_encoders.ordinal import OrdinalEncoder\n",
        "from sklearn.model_selection import StratifiedKFold\n",
        "\n",
        "from sklearn.cluster import KMeans\n",
        "from catboost import CatBoostClassifier, Pool, CatBoostRegressor"
      ],
      "execution_count": 5,
      "outputs": []
    },
    {
      "cell_type": "code",
      "metadata": {
        "colab": {
          "base_uri": "https://localhost:8080/"
        },
        "id": "Hf8exqDl5uyH",
        "outputId": "2cc61904-fc5c-4935-895f-87c164e1b013"
      },
      "source": [
        "#mount google drive \n",
        "from google.colab import drive \n",
        "drive.mount('/content/drive/')"
      ],
      "execution_count": 6,
      "outputs": [
        {
          "output_type": "stream",
          "name": "stdout",
          "text": [
            "Drive already mounted at /content/drive/; to attempt to forcibly remount, call drive.mount(\"/content/drive/\", force_remount=True).\n"
          ]
        }
      ]
    },
    {
      "cell_type": "code",
      "metadata": {
        "id": "BRq7MuAr_14Y"
      },
      "source": [
        "train = pd.read_csv(\"/content/drive/My Drive/머신러닝_실전예제/Dacon_주차수요예측/data/train.csv\")"
      ],
      "execution_count": 7,
      "outputs": []
    },
    {
      "cell_type": "code",
      "metadata": {
        "id": "MTPZK6cE9izf"
      },
      "source": [
        "test = pd.read_csv(\"/content/drive/My Drive/머신러닝_실전예제/Dacon_주차수요예측/data/test.csv\")"
      ],
      "execution_count": 8,
      "outputs": []
    },
    {
      "cell_type": "code",
      "metadata": {
        "id": "3fO5Lw5JVoHv"
      },
      "source": [
        "sub = pd.read_csv(\"/content/drive/My Drive/머신러닝_실전예제/Dacon_주차수요예측/data/sample_submission.csv\")"
      ],
      "execution_count": 9,
      "outputs": []
    },
    {
      "cell_type": "markdown",
      "metadata": {
        "id": "jkgwZ3n9LwIo"
      },
      "source": [
        "- train 데이터 -> 임대보증금, 임대료, 버스정류장 수 등 null값 존재"
      ]
    },
    {
      "cell_type": "markdown",
      "metadata": {
        "id": "AJ9uZlspL6TQ"
      },
      "source": [
        "- test 데이터 -> 임대보증금, 임대료, 지하철 수  null값 존재"
      ]
    },
    {
      "cell_type": "markdown",
      "metadata": {
        "id": "iyh0_HF0Omev"
      },
      "source": [
        "### 어려운 컬럼 이름 간편하게 변경"
      ]
    },
    {
      "cell_type": "code",
      "metadata": {
        "id": "R3FYrcveOjkw"
      },
      "source": [
        "train.rename(columns={'도보 10분거리 내 지하철역 수(환승노선 수 반영)':'지하철', \\\n",
        "                      '도보 10분거리 내 버스정류장 수':'버스'}, inplace=True)"
      ],
      "execution_count": 10,
      "outputs": []
    },
    {
      "cell_type": "code",
      "metadata": {
        "id": "xAR1xXTSQCWG"
      },
      "source": [
        "test.rename(columns={'도보 10분거리 내 지하철역 수(환승노선 수 반영)':'지하철', \\\n",
        "                      '도보 10분거리 내 버스정류장 수':'버스'}, inplace=True)"
      ],
      "execution_count": null,
      "outputs": []
    },
    {
      "cell_type": "markdown",
      "metadata": {
        "id": "hNwtgWsxOrcH"
      },
      "source": [
        "### 임대료, 임대보증금 int로 변환"
      ]
    },
    {
      "cell_type": "code",
      "metadata": {
        "id": "Fyhxe-E9Ok_O"
      },
      "source": [
        "train['임대료'] = train['임대료'].fillna(-1)\n",
        "train['임대보증금'] = train['임대보증금'].fillna(-1)"
      ],
      "execution_count": 11,
      "outputs": []
    },
    {
      "cell_type": "code",
      "metadata": {
        "id": "GPYtf2dDPI-Y"
      },
      "source": [
        "train['임대료'] = train['임대료'].replace('-', -1)\n",
        "train['임대보증금'] = train['임대보증금'].replace('-', -1)"
      ],
      "execution_count": 12,
      "outputs": []
    },
    {
      "cell_type": "code",
      "metadata": {
        "id": "ZHWCnJ8QPS1Y"
      },
      "source": [
        "test['임대료'] = test['임대료'].fillna(-1)\n",
        "test['임대보증금'] = test['임대보증금'].fillna(-1)"
      ],
      "execution_count": 13,
      "outputs": []
    },
    {
      "cell_type": "code",
      "metadata": {
        "id": "OkxvWx1KPS1Z"
      },
      "source": [
        "test['임대료'] = test['임대료'].replace('-', -1)\n",
        "test['임대보증금'] = test['임대보증금'].replace('-', -1)"
      ],
      "execution_count": 14,
      "outputs": []
    },
    {
      "cell_type": "code",
      "metadata": {
        "id": "7weSVTCIPXrx"
      },
      "source": [
        "train['임대료'] = train['임대료'].astype(int)\n",
        "train['임대보증금'] = train['임대보증금'].astype(int)"
      ],
      "execution_count": 15,
      "outputs": []
    },
    {
      "cell_type": "code",
      "metadata": {
        "id": "DNBQHhj-PXrx"
      },
      "source": [
        "test['임대료'] = test['임대료'].astype(int)\n",
        "test['임대보증금'] = test['임대보증금'].astype(int)"
      ],
      "execution_count": 16,
      "outputs": []
    },
    {
      "cell_type": "code",
      "metadata": {
        "colab": {
          "base_uri": "https://localhost:8080/",
          "height": 111
        },
        "id": "hONdPLlo6mtf",
        "outputId": "ee2eb468-7085-42b7-b33f-ffc2ea442720"
      },
      "source": [
        "test[test.자격유형.isnull()]"
      ],
      "execution_count": null,
      "outputs": [
        {
          "output_type": "execute_result",
          "data": {
            "text/html": [
              "<div>\n",
              "<style scoped>\n",
              "    .dataframe tbody tr th:only-of-type {\n",
              "        vertical-align: middle;\n",
              "    }\n",
              "\n",
              "    .dataframe tbody tr th {\n",
              "        vertical-align: top;\n",
              "    }\n",
              "\n",
              "    .dataframe thead th {\n",
              "        text-align: right;\n",
              "    }\n",
              "</style>\n",
              "<table border=\"1\" class=\"dataframe\">\n",
              "  <thead>\n",
              "    <tr style=\"text-align: right;\">\n",
              "      <th></th>\n",
              "      <th>단지코드</th>\n",
              "      <th>총세대수</th>\n",
              "      <th>임대건물구분</th>\n",
              "      <th>지역</th>\n",
              "      <th>공급유형</th>\n",
              "      <th>전용면적</th>\n",
              "      <th>전용면적별세대수</th>\n",
              "      <th>공가수</th>\n",
              "      <th>자격유형</th>\n",
              "      <th>임대보증금</th>\n",
              "      <th>임대료</th>\n",
              "      <th>지하철</th>\n",
              "      <th>버스</th>\n",
              "      <th>단지내주차면수</th>\n",
              "    </tr>\n",
              "  </thead>\n",
              "  <tbody>\n",
              "    <tr>\n",
              "      <th>196</th>\n",
              "      <td>C2411</td>\n",
              "      <td>962</td>\n",
              "      <td>아파트</td>\n",
              "      <td>경상남도</td>\n",
              "      <td>국민임대</td>\n",
              "      <td>46.90</td>\n",
              "      <td>240</td>\n",
              "      <td>25.0</td>\n",
              "      <td>NaN</td>\n",
              "      <td>71950000</td>\n",
              "      <td>37470</td>\n",
              "      <td>0.0</td>\n",
              "      <td>2.0</td>\n",
              "      <td>840.0</td>\n",
              "    </tr>\n",
              "    <tr>\n",
              "      <th>258</th>\n",
              "      <td>C2253</td>\n",
              "      <td>1161</td>\n",
              "      <td>아파트</td>\n",
              "      <td>강원도</td>\n",
              "      <td>영구임대</td>\n",
              "      <td>26.37</td>\n",
              "      <td>745</td>\n",
              "      <td>0.0</td>\n",
              "      <td>NaN</td>\n",
              "      <td>2249000</td>\n",
              "      <td>44770</td>\n",
              "      <td>0.0</td>\n",
              "      <td>2.0</td>\n",
              "      <td>173.0</td>\n",
              "    </tr>\n",
              "  </tbody>\n",
              "</table>\n",
              "</div>"
            ],
            "text/plain": [
              "      단지코드  총세대수 임대건물구분    지역  공급유형  ...     임대보증금    임대료  지하철   버스  단지내주차면수\n",
              "196  C2411   962    아파트  경상남도  국민임대  ...  71950000  37470  0.0  2.0    840.0\n",
              "258  C2253  1161    아파트   강원도  영구임대  ...   2249000  44770  0.0  2.0    173.0\n",
              "\n",
              "[2 rows x 14 columns]"
            ]
          },
          "metadata": {},
          "execution_count": 16
        }
      ]
    },
    {
      "cell_type": "code",
      "metadata": {
        "id": "XDnffKw26urF"
      },
      "source": [
        "test.iloc[196, 8] = 'A'"
      ],
      "execution_count": 17,
      "outputs": []
    },
    {
      "cell_type": "code",
      "metadata": {
        "id": "iv5_FtKI7KYB"
      },
      "source": [
        "test.iloc[258, 8] = 'C'"
      ],
      "execution_count": 18,
      "outputs": []
    },
    {
      "cell_type": "markdown",
      "metadata": {
        "id": "UcNotAROM6BH"
      },
      "source": [
        "## 히트맵 확인"
      ]
    },
    {
      "cell_type": "code",
      "metadata": {
        "id": "2XXbS1v_M2H4"
      },
      "source": [
        "none_duplicate = train.drop_duplicates('단지코드', keep='first')"
      ],
      "execution_count": 19,
      "outputs": []
    },
    {
      "cell_type": "code",
      "metadata": {
        "colab": {
          "base_uri": "https://localhost:8080/",
          "height": 565
        },
        "id": "_x-8AlvDNImP",
        "outputId": "8ea4d643-b451-4f46-aa40-429800a640fa"
      },
      "source": [
        "fig = plt.figure(figsize=(8,8))\n",
        "fig.set_facecolor(\"white\")\n",
        "sns.heatmap(none_duplicate.corr(), annot=True)"
      ],
      "execution_count": 20,
      "outputs": [
        {
          "output_type": "execute_result",
          "data": {
            "text/plain": [
              "<matplotlib.axes._subplots.AxesSubplot at 0x7f204b9e59d0>"
            ]
          },
          "metadata": {},
          "execution_count": 20
        },
        {
          "output_type": "display_data",
          "data": {
            "image/png": "[encoded data removed]",
            "text/plain": [
              "<Figure size 576x576 with 2 Axes>"
            ]
          },
          "metadata": {}
        }
      ]
    },
    {
      "cell_type": "markdown",
      "metadata": {
        "id": "TyT4uHZ1DoX0"
      },
      "source": [
        "- 총세대수, 전용면적, 임대보증금, 임대료, 단지내주차면수가 등록차량수와 밀접한 연관이 있음"
      ]
    },
    {
      "cell_type": "code",
      "metadata": {
        "id": "DzosLj3dAzsg"
      },
      "source": [
        "train_copy = train.copy()\n",
        "test_copy = test.copy()"
      ],
      "execution_count": 21,
      "outputs": []
    },
    {
      "cell_type": "markdown",
      "metadata": {
        "id": "jrbTTJAjHBQk"
      },
      "source": [
        "### 가정1: 단지내에 상가가 있으면 주차장 수가 줄어들 것이다."
      ]
    },
    {
      "cell_type": "code",
      "metadata": {
        "id": "wdcr8G4DZh-8"
      },
      "source": [
        "code = train_copy[train_copy.임대건물구분 == '상가'].단지코드.unique()"
      ],
      "execution_count": null,
      "outputs": []
    },
    {
      "cell_type": "code",
      "metadata": {
        "id": "bFfLp9rLbhMu"
      },
      "source": [
        "train_copy['상가유무'] = 1\n",
        "train_copy['상가유무'] = train_copy.단지코드.apply(lambda x: '상가있음' if x in code else '상가없음')"
      ],
      "execution_count": null,
      "outputs": []
    },
    {
      "cell_type": "code",
      "metadata": {
        "colab": {
          "base_uri": "https://localhost:8080/",
          "height": 515
        },
        "id": "_mwLOz9mBU9b",
        "outputId": "72db9038-8748-491b-8885-3ff2b5549c4e"
      },
      "source": [
        "fig = plt.figure(figsize=(8,8))\n",
        "fig.set_facecolor(\"white\")\n",
        "sns.violinplot(x=\"상가유무\", y=\"등록차량수\", data=train_copy, hue=\"상가유무\")"
      ],
      "execution_count": null,
      "outputs": [
        {
          "output_type": "execute_result",
          "data": {
            "text/plain": [
              "<matplotlib.axes._subplots.AxesSubplot at 0x7f0b84e11390>"
            ]
          },
          "metadata": {},
          "execution_count": 33
        },
        {
          "output_type": "display_data",
          "data": {
            "image/png": "[encoded data removed]",
            "text/plain": [
              "<Figure size 576x576 with 1 Axes>"
            ]
          },
          "metadata": {}
        }
      ]
    },
    {
      "cell_type": "markdown",
      "metadata": {
        "id": "OUlG36goGRI8"
      },
      "source": [
        "- 단지내에 상가유무에 따라서 유의미한 차이가 있음 -> 상가로 인해서 주차장 면적이 줄어드는 것으로 판단"
      ]
    },
    {
      "cell_type": "markdown",
      "metadata": {
        "id": "KWZxvJJ9AccK"
      },
      "source": [
        "### 가정2: 전용면적합, 평균이 크고 단지내 아파트수가 많으면 등록차량수가 많아지지 않을까?"
      ]
    },
    {
      "cell_type": "code",
      "metadata": {
        "id": "AUZi9UQNAnIm"
      },
      "source": [
        "temp = train_copy[train_copy.임대건물구분 == '아파트'].groupby('단지코드').agg({'전용면적':['mean', 'sum', 'count'], '전용면적별세대수':'mean', '등록차량수':'mean'}).reset_index()"
      ],
      "execution_count": 86,
      "outputs": []
    },
    {
      "cell_type": "code",
      "metadata": {
        "id": "BFgwVBYJeDaX"
      },
      "source": [
        "temp.columns = ['단지코드', '전용면적평균',  '전용면적총합', '단지내아파트개수', '전용면적별세대수평균', '등록차량수']"
      ],
      "execution_count": 87,
      "outputs": []
    },
    {
      "cell_type": "code",
      "metadata": {
        "colab": {
          "base_uri": "https://localhost:8080/",
          "height": 204
        },
        "id": "mbWNTsSSoB9o",
        "outputId": "c91bca00-df07-458f-ab03-771bcf6091d9"
      },
      "source": [
        "temp.corr()"
      ],
      "execution_count": 88,
      "outputs": [
        {
          "output_type": "execute_result",
          "data": {
            "text/html": [
              "<div>\n",
              "<style scoped>\n",
              "    .dataframe tbody tr th:only-of-type {\n",
              "        vertical-align: middle;\n",
              "    }\n",
              "\n",
              "    .dataframe tbody tr th {\n",
              "        vertical-align: top;\n",
              "    }\n",
              "\n",
              "    .dataframe thead th {\n",
              "        text-align: right;\n",
              "    }\n",
              "</style>\n",
              "<table border=\"1\" class=\"dataframe\">\n",
              "  <thead>\n",
              "    <tr style=\"text-align: right;\">\n",
              "      <th></th>\n",
              "      <th>전용면적평균</th>\n",
              "      <th>전용면적총합</th>\n",
              "      <th>단지내아파트개수</th>\n",
              "      <th>전용면적별세대수평균</th>\n",
              "      <th>등록차량수</th>\n",
              "    </tr>\n",
              "  </thead>\n",
              "  <tbody>\n",
              "    <tr>\n",
              "      <th>전용면적평균</th>\n",
              "      <td>1.000000</td>\n",
              "      <td>0.412434</td>\n",
              "      <td>0.009750</td>\n",
              "      <td>-0.132637</td>\n",
              "      <td>0.425299</td>\n",
              "    </tr>\n",
              "    <tr>\n",
              "      <th>전용면적총합</th>\n",
              "      <td>0.412434</td>\n",
              "      <td>1.000000</td>\n",
              "      <td>0.872935</td>\n",
              "      <td>-0.364646</td>\n",
              "      <td>0.513212</td>\n",
              "    </tr>\n",
              "    <tr>\n",
              "      <th>단지내아파트개수</th>\n",
              "      <td>0.009750</td>\n",
              "      <td>0.872935</td>\n",
              "      <td>1.000000</td>\n",
              "      <td>-0.396460</td>\n",
              "      <td>0.400387</td>\n",
              "    </tr>\n",
              "    <tr>\n",
              "      <th>전용면적별세대수평균</th>\n",
              "      <td>-0.132637</td>\n",
              "      <td>-0.364646</td>\n",
              "      <td>-0.396460</td>\n",
              "      <td>1.000000</td>\n",
              "      <td>0.084180</td>\n",
              "    </tr>\n",
              "    <tr>\n",
              "      <th>등록차량수</th>\n",
              "      <td>0.425299</td>\n",
              "      <td>0.513212</td>\n",
              "      <td>0.400387</td>\n",
              "      <td>0.084180</td>\n",
              "      <td>1.000000</td>\n",
              "    </tr>\n",
              "  </tbody>\n",
              "</table>\n",
              "</div>"
            ],
            "text/plain": [
              "              전용면적평균    전용면적총합  단지내아파트개수  전용면적별세대수평균     등록차량수\n",
              "전용면적평균      1.000000  0.412434  0.009750   -0.132637  0.425299\n",
              "전용면적총합      0.412434  1.000000  0.872935   -0.364646  0.513212\n",
              "단지내아파트개수    0.009750  0.872935  1.000000   -0.396460  0.400387\n",
              "전용면적별세대수평균 -0.132637 -0.364646 -0.396460    1.000000  0.084180\n",
              "등록차량수       0.425299  0.513212  0.400387    0.084180  1.000000"
            ]
          },
          "metadata": {},
          "execution_count": 88
        }
      ]
    },
    {
      "cell_type": "code",
      "metadata": {
        "colab": {
          "base_uri": "https://localhost:8080/",
          "height": 497
        },
        "id": "vmmgR5WxnCrx",
        "outputId": "aa71379b-8bc1-4c71-d5fa-4d327c129621"
      },
      "source": [
        "fig , ax = plt.subplots(figsize=(24,8))\n",
        "fig.set_facecolor('white')\n",
        "count = 1\n",
        "num = len(temp.columns[1:-1])\n",
        "for i in temp.columns[1:-1]:\n",
        "  plt.subplot(1, num, count)\n",
        "  sns.scatterplot(x=i, y=\"등록차량수\", data=temp)\n",
        "  count+=1"
      ],
      "execution_count": 89,
      "outputs": [
        {
          "output_type": "display_data",
          "data": {
            "image/png": "[encoded data removed]",
            "text/plain": [
              "<Figure size 1728x576 with 4 Axes>"
            ]
          },
          "metadata": {}
        }
      ]
    },
    {
      "cell_type": "markdown",
      "metadata": {
        "id": "oiN83LqEL7EA"
      },
      "source": [
        "일부 단지내 아파트개수가 많다는 것을 확인핧 수 있음 10개 이상인 곳들 확인"
      ]
    },
    {
      "cell_type": "code",
      "metadata": {
        "colab": {
          "base_uri": "https://localhost:8080/",
          "height": 111
        },
        "id": "8s5Jox4WMD8m",
        "outputId": "f3fdfc7d-dc6b-4b7b-c2e0-917a7829b734"
      },
      "source": [
        "temp[(temp.단지내아파트개수 > 10) & (temp.등록차량수 > 2000)]"
      ],
      "execution_count": 90,
      "outputs": [
        {
          "output_type": "execute_result",
          "data": {
            "text/html": [
              "<div>\n",
              "<style scoped>\n",
              "    .dataframe tbody tr th:only-of-type {\n",
              "        vertical-align: middle;\n",
              "    }\n",
              "\n",
              "    .dataframe tbody tr th {\n",
              "        vertical-align: top;\n",
              "    }\n",
              "\n",
              "    .dataframe thead th {\n",
              "        text-align: right;\n",
              "    }\n",
              "</style>\n",
              "<table border=\"1\" class=\"dataframe\">\n",
              "  <thead>\n",
              "    <tr style=\"text-align: right;\">\n",
              "      <th></th>\n",
              "      <th>단지코드</th>\n",
              "      <th>전용면적평균</th>\n",
              "      <th>전용면적총합</th>\n",
              "      <th>단지내아파트개수</th>\n",
              "      <th>전용면적별세대수평균</th>\n",
              "      <th>등록차량수</th>\n",
              "    </tr>\n",
              "  </thead>\n",
              "  <tbody>\n",
              "    <tr>\n",
              "      <th>81</th>\n",
              "      <td>C1350</td>\n",
              "      <td>69.866923</td>\n",
              "      <td>908.27</td>\n",
              "      <td>13</td>\n",
              "      <td>107.769231</td>\n",
              "      <td>2315.0</td>\n",
              "    </tr>\n",
              "    <tr>\n",
              "      <th>84</th>\n",
              "      <td>C1363</td>\n",
              "      <td>33.552857</td>\n",
              "      <td>469.74</td>\n",
              "      <td>14</td>\n",
              "      <td>183.428571</td>\n",
              "      <td>2550.0</td>\n",
              "    </tr>\n",
              "  </tbody>\n",
              "</table>\n",
              "</div>"
            ],
            "text/plain": [
              "     단지코드     전용면적평균  전용면적총합  단지내아파트개수  전용면적별세대수평균   등록차량수\n",
              "81  C1350  69.866923  908.27        13  107.769231  2315.0\n",
              "84  C1363  33.552857  469.74        14  183.428571  2550.0"
            ]
          },
          "metadata": {},
          "execution_count": 90
        }
      ]
    },
    {
      "cell_type": "code",
      "metadata": {
        "colab": {
          "base_uri": "https://localhost:8080/",
          "height": 452
        },
        "id": "xWkqj3q7KZgz",
        "outputId": "437f9be4-0554-4e6d-db8c-78513342fc7c"
      },
      "source": [
        "train_copy[train_copy.단지코드 == 'C1350']"
      ],
      "execution_count": 91,
      "outputs": [
        {
          "output_type": "execute_result",
          "data": {
            "text/html": [
              "<div>\n",
              "<style scoped>\n",
              "    .dataframe tbody tr th:only-of-type {\n",
              "        vertical-align: middle;\n",
              "    }\n",
              "\n",
              "    .dataframe tbody tr th {\n",
              "        vertical-align: top;\n",
              "    }\n",
              "\n",
              "    .dataframe thead th {\n",
              "        text-align: right;\n",
              "    }\n",
              "</style>\n",
              "<table border=\"1\" class=\"dataframe\">\n",
              "  <thead>\n",
              "    <tr style=\"text-align: right;\">\n",
              "      <th></th>\n",
              "      <th>단지코드</th>\n",
              "      <th>총세대수</th>\n",
              "      <th>임대건물구분</th>\n",
              "      <th>지역</th>\n",
              "      <th>공급유형</th>\n",
              "      <th>전용면적</th>\n",
              "      <th>전용면적별세대수</th>\n",
              "      <th>공가수</th>\n",
              "      <th>자격유형</th>\n",
              "      <th>임대보증금</th>\n",
              "      <th>임대료</th>\n",
              "      <th>지하철</th>\n",
              "      <th>버스</th>\n",
              "      <th>단지내주차면수</th>\n",
              "      <th>등록차량수</th>\n",
              "    </tr>\n",
              "  </thead>\n",
              "  <tbody>\n",
              "    <tr>\n",
              "      <th>2331</th>\n",
              "      <td>C1350</td>\n",
              "      <td>1401</td>\n",
              "      <td>아파트</td>\n",
              "      <td>대전광역시</td>\n",
              "      <td>공공분양</td>\n",
              "      <td>74.94</td>\n",
              "      <td>317</td>\n",
              "      <td>2.0</td>\n",
              "      <td>D</td>\n",
              "      <td>-1</td>\n",
              "      <td>-1</td>\n",
              "      <td>NaN</td>\n",
              "      <td>6.0</td>\n",
              "      <td>1636.0</td>\n",
              "      <td>2315.0</td>\n",
              "    </tr>\n",
              "    <tr>\n",
              "      <th>2332</th>\n",
              "      <td>C1350</td>\n",
              "      <td>1401</td>\n",
              "      <td>아파트</td>\n",
              "      <td>대전광역시</td>\n",
              "      <td>공공분양</td>\n",
              "      <td>74.94</td>\n",
              "      <td>137</td>\n",
              "      <td>2.0</td>\n",
              "      <td>D</td>\n",
              "      <td>-1</td>\n",
              "      <td>-1</td>\n",
              "      <td>NaN</td>\n",
              "      <td>6.0</td>\n",
              "      <td>1636.0</td>\n",
              "      <td>2315.0</td>\n",
              "    </tr>\n",
              "    <tr>\n",
              "      <th>2333</th>\n",
              "      <td>C1350</td>\n",
              "      <td>1401</td>\n",
              "      <td>아파트</td>\n",
              "      <td>대전광역시</td>\n",
              "      <td>공공분양</td>\n",
              "      <td>74.94</td>\n",
              "      <td>22</td>\n",
              "      <td>2.0</td>\n",
              "      <td>D</td>\n",
              "      <td>-1</td>\n",
              "      <td>-1</td>\n",
              "      <td>NaN</td>\n",
              "      <td>6.0</td>\n",
              "      <td>1636.0</td>\n",
              "      <td>2315.0</td>\n",
              "    </tr>\n",
              "    <tr>\n",
              "      <th>2334</th>\n",
              "      <td>C1350</td>\n",
              "      <td>1401</td>\n",
              "      <td>아파트</td>\n",
              "      <td>대전광역시</td>\n",
              "      <td>공공분양</td>\n",
              "      <td>84.94</td>\n",
              "      <td>164</td>\n",
              "      <td>2.0</td>\n",
              "      <td>D</td>\n",
              "      <td>-1</td>\n",
              "      <td>-1</td>\n",
              "      <td>NaN</td>\n",
              "      <td>6.0</td>\n",
              "      <td>1636.0</td>\n",
              "      <td>2315.0</td>\n",
              "    </tr>\n",
              "    <tr>\n",
              "      <th>2335</th>\n",
              "      <td>C1350</td>\n",
              "      <td>1401</td>\n",
              "      <td>아파트</td>\n",
              "      <td>대전광역시</td>\n",
              "      <td>공공분양</td>\n",
              "      <td>84.94</td>\n",
              "      <td>19</td>\n",
              "      <td>2.0</td>\n",
              "      <td>D</td>\n",
              "      <td>-1</td>\n",
              "      <td>-1</td>\n",
              "      <td>NaN</td>\n",
              "      <td>6.0</td>\n",
              "      <td>1636.0</td>\n",
              "      <td>2315.0</td>\n",
              "    </tr>\n",
              "    <tr>\n",
              "      <th>2336</th>\n",
              "      <td>C1350</td>\n",
              "      <td>1401</td>\n",
              "      <td>아파트</td>\n",
              "      <td>대전광역시</td>\n",
              "      <td>공공분양</td>\n",
              "      <td>84.96</td>\n",
              "      <td>26</td>\n",
              "      <td>2.0</td>\n",
              "      <td>D</td>\n",
              "      <td>-1</td>\n",
              "      <td>-1</td>\n",
              "      <td>NaN</td>\n",
              "      <td>6.0</td>\n",
              "      <td>1636.0</td>\n",
              "      <td>2315.0</td>\n",
              "    </tr>\n",
              "    <tr>\n",
              "      <th>2337</th>\n",
              "      <td>C1350</td>\n",
              "      <td>1401</td>\n",
              "      <td>아파트</td>\n",
              "      <td>대전광역시</td>\n",
              "      <td>공공분양</td>\n",
              "      <td>84.97</td>\n",
              "      <td>26</td>\n",
              "      <td>2.0</td>\n",
              "      <td>D</td>\n",
              "      <td>-1</td>\n",
              "      <td>-1</td>\n",
              "      <td>NaN</td>\n",
              "      <td>6.0</td>\n",
              "      <td>1636.0</td>\n",
              "      <td>2315.0</td>\n",
              "    </tr>\n",
              "    <tr>\n",
              "      <th>2338</th>\n",
              "      <td>C1350</td>\n",
              "      <td>1401</td>\n",
              "      <td>아파트</td>\n",
              "      <td>대전광역시</td>\n",
              "      <td>공공임대(10년)</td>\n",
              "      <td>51.99</td>\n",
              "      <td>106</td>\n",
              "      <td>2.0</td>\n",
              "      <td>A</td>\n",
              "      <td>28013000</td>\n",
              "      <td>408600</td>\n",
              "      <td>NaN</td>\n",
              "      <td>6.0</td>\n",
              "      <td>1636.0</td>\n",
              "      <td>2315.0</td>\n",
              "    </tr>\n",
              "    <tr>\n",
              "      <th>2339</th>\n",
              "      <td>C1350</td>\n",
              "      <td>1401</td>\n",
              "      <td>아파트</td>\n",
              "      <td>대전광역시</td>\n",
              "      <td>공공임대(10년)</td>\n",
              "      <td>59.91</td>\n",
              "      <td>13</td>\n",
              "      <td>2.0</td>\n",
              "      <td>A</td>\n",
              "      <td>37474000</td>\n",
              "      <td>519350</td>\n",
              "      <td>NaN</td>\n",
              "      <td>6.0</td>\n",
              "      <td>1636.0</td>\n",
              "      <td>2315.0</td>\n",
              "    </tr>\n",
              "    <tr>\n",
              "      <th>2340</th>\n",
              "      <td>C1350</td>\n",
              "      <td>1401</td>\n",
              "      <td>아파트</td>\n",
              "      <td>대전광역시</td>\n",
              "      <td>공공임대(10년)</td>\n",
              "      <td>59.92</td>\n",
              "      <td>223</td>\n",
              "      <td>2.0</td>\n",
              "      <td>A</td>\n",
              "      <td>37385000</td>\n",
              "      <td>516130</td>\n",
              "      <td>NaN</td>\n",
              "      <td>6.0</td>\n",
              "      <td>1636.0</td>\n",
              "      <td>2315.0</td>\n",
              "    </tr>\n",
              "    <tr>\n",
              "      <th>2341</th>\n",
              "      <td>C1350</td>\n",
              "      <td>1401</td>\n",
              "      <td>아파트</td>\n",
              "      <td>대전광역시</td>\n",
              "      <td>공공임대(분납)</td>\n",
              "      <td>51.99</td>\n",
              "      <td>146</td>\n",
              "      <td>2.0</td>\n",
              "      <td>A</td>\n",
              "      <td>54612000</td>\n",
              "      <td>131130</td>\n",
              "      <td>NaN</td>\n",
              "      <td>6.0</td>\n",
              "      <td>1636.0</td>\n",
              "      <td>2315.0</td>\n",
              "    </tr>\n",
              "    <tr>\n",
              "      <th>2342</th>\n",
              "      <td>C1350</td>\n",
              "      <td>1401</td>\n",
              "      <td>아파트</td>\n",
              "      <td>대전광역시</td>\n",
              "      <td>공공임대(분납)</td>\n",
              "      <td>59.91</td>\n",
              "      <td>32</td>\n",
              "      <td>2.0</td>\n",
              "      <td>A</td>\n",
              "      <td>63585000</td>\n",
              "      <td>152680</td>\n",
              "      <td>NaN</td>\n",
              "      <td>6.0</td>\n",
              "      <td>1636.0</td>\n",
              "      <td>2315.0</td>\n",
              "    </tr>\n",
              "    <tr>\n",
              "      <th>2343</th>\n",
              "      <td>C1350</td>\n",
              "      <td>1401</td>\n",
              "      <td>아파트</td>\n",
              "      <td>대전광역시</td>\n",
              "      <td>공공임대(분납)</td>\n",
              "      <td>59.92</td>\n",
              "      <td>170</td>\n",
              "      <td>2.0</td>\n",
              "      <td>A</td>\n",
              "      <td>63501000</td>\n",
              "      <td>152480</td>\n",
              "      <td>NaN</td>\n",
              "      <td>6.0</td>\n",
              "      <td>1636.0</td>\n",
              "      <td>2315.0</td>\n",
              "    </tr>\n",
              "  </tbody>\n",
              "</table>\n",
              "</div>"
            ],
            "text/plain": [
              "       단지코드  총세대수 임대건물구분     지역       공급유형  ...     임대료  지하철   버스 단지내주차면수   등록차량수\n",
              "2331  C1350  1401    아파트  대전광역시       공공분양  ...      -1  NaN  6.0  1636.0  2315.0\n",
              "2332  C1350  1401    아파트  대전광역시       공공분양  ...      -1  NaN  6.0  1636.0  2315.0\n",
              "2333  C1350  1401    아파트  대전광역시       공공분양  ...      -1  NaN  6.0  1636.0  2315.0\n",
              "2334  C1350  1401    아파트  대전광역시       공공분양  ...      -1  NaN  6.0  1636.0  2315.0\n",
              "2335  C1350  1401    아파트  대전광역시       공공분양  ...      -1  NaN  6.0  1636.0  2315.0\n",
              "2336  C1350  1401    아파트  대전광역시       공공분양  ...      -1  NaN  6.0  1636.0  2315.0\n",
              "2337  C1350  1401    아파트  대전광역시       공공분양  ...      -1  NaN  6.0  1636.0  2315.0\n",
              "2338  C1350  1401    아파트  대전광역시  공공임대(10년)  ...  408600  NaN  6.0  1636.0  2315.0\n",
              "2339  C1350  1401    아파트  대전광역시  공공임대(10년)  ...  519350  NaN  6.0  1636.0  2315.0\n",
              "2340  C1350  1401    아파트  대전광역시  공공임대(10년)  ...  516130  NaN  6.0  1636.0  2315.0\n",
              "2341  C1350  1401    아파트  대전광역시   공공임대(분납)  ...  131130  NaN  6.0  1636.0  2315.0\n",
              "2342  C1350  1401    아파트  대전광역시   공공임대(분납)  ...  152680  NaN  6.0  1636.0  2315.0\n",
              "2343  C1350  1401    아파트  대전광역시   공공임대(분납)  ...  152480  NaN  6.0  1636.0  2315.0\n",
              "\n",
              "[13 rows x 15 columns]"
            ]
          },
          "metadata": {},
          "execution_count": 91
        }
      ]
    },
    {
      "cell_type": "markdown",
      "metadata": {
        "id": "-DwaK_XON8uK"
      },
      "source": [
        "- 문제1: 전용면적이 같은데 세대수가 다르면 다른 아파트일까?\n",
        "- 문제2: 전용면적이 소숫점만 다르면 다른 아파트일까?\n",
        "\n",
        "공급유형와 전용면적 실수자리까지 동일하면 같은 아파트로 취급하고 위의 상관관계를 다시 확인해보자"
      ]
    },
    {
      "cell_type": "code",
      "metadata": {
        "id": "5alV8roEOaaz"
      },
      "source": [
        "train_new = train_copy.copy()"
      ],
      "execution_count": 105,
      "outputs": []
    },
    {
      "cell_type": "code",
      "metadata": {
        "id": "ulLSQ7jJMA7R"
      },
      "source": [
        "train_new['전용면적'] = train_new['전용면적'].apply(math.floor)"
      ],
      "execution_count": 106,
      "outputs": []
    },
    {
      "cell_type": "code",
      "metadata": {
        "id": "_IpbDn-zL6Pa"
      },
      "source": [
        "live_people = train_new.groupby(train_new.columns[:6].tolist()).agg({'전용면적별세대수':'sum'}).reset_index()"
      ],
      "execution_count": 107,
      "outputs": []
    },
    {
      "cell_type": "code",
      "metadata": {
        "id": "rguP73zLQEQK"
      },
      "source": [
        "train_new = train_new.drop_duplicates(train_new.columns[:6].tolist(), keep='first').sort_values('단지코드').reset_index(drop=True)"
      ],
      "execution_count": 108,
      "outputs": []
    },
    {
      "cell_type": "code",
      "metadata": {
        "id": "y0iw5sDwQgza"
      },
      "source": [
        "train_new.전용면적별세대수 = live_people.전용면적별세대수"
      ],
      "execution_count": 109,
      "outputs": []
    },
    {
      "cell_type": "code",
      "metadata": {
        "colab": {
          "base_uri": "https://localhost:8080/",
          "height": 359
        },
        "id": "ZxIbkyzHQn7y",
        "outputId": "27f67e7b-5271-41b1-b4ad-2dc75abecbbe"
      },
      "source": [
        "train_new.head(10)"
      ],
      "execution_count": 110,
      "outputs": [
        {
          "output_type": "execute_result",
          "data": {
            "text/html": [
              "<div>\n",
              "<style scoped>\n",
              "    .dataframe tbody tr th:only-of-type {\n",
              "        vertical-align: middle;\n",
              "    }\n",
              "\n",
              "    .dataframe tbody tr th {\n",
              "        vertical-align: top;\n",
              "    }\n",
              "\n",
              "    .dataframe thead th {\n",
              "        text-align: right;\n",
              "    }\n",
              "</style>\n",
              "<table border=\"1\" class=\"dataframe\">\n",
              "  <thead>\n",
              "    <tr style=\"text-align: right;\">\n",
              "      <th></th>\n",
              "      <th>단지코드</th>\n",
              "      <th>총세대수</th>\n",
              "      <th>임대건물구분</th>\n",
              "      <th>지역</th>\n",
              "      <th>공급유형</th>\n",
              "      <th>전용면적</th>\n",
              "      <th>전용면적별세대수</th>\n",
              "      <th>공가수</th>\n",
              "      <th>자격유형</th>\n",
              "      <th>임대보증금</th>\n",
              "      <th>임대료</th>\n",
              "      <th>지하철</th>\n",
              "      <th>버스</th>\n",
              "      <th>단지내주차면수</th>\n",
              "      <th>등록차량수</th>\n",
              "    </tr>\n",
              "  </thead>\n",
              "  <tbody>\n",
              "    <tr>\n",
              "      <th>0</th>\n",
              "      <td>C1000</td>\n",
              "      <td>566</td>\n",
              "      <td>아파트</td>\n",
              "      <td>충청북도</td>\n",
              "      <td>국민임대</td>\n",
              "      <td>39</td>\n",
              "      <td>419</td>\n",
              "      <td>10.0</td>\n",
              "      <td>A</td>\n",
              "      <td>10803000</td>\n",
              "      <td>96030</td>\n",
              "      <td>0.0</td>\n",
              "      <td>1.0</td>\n",
              "      <td>438.0</td>\n",
              "      <td>481.0</td>\n",
              "    </tr>\n",
              "    <tr>\n",
              "      <th>1</th>\n",
              "      <td>C1000</td>\n",
              "      <td>566</td>\n",
              "      <td>아파트</td>\n",
              "      <td>충청북도</td>\n",
              "      <td>국민임대</td>\n",
              "      <td>46</td>\n",
              "      <td>72</td>\n",
              "      <td>10.0</td>\n",
              "      <td>A</td>\n",
              "      <td>14404000</td>\n",
              "      <td>129640</td>\n",
              "      <td>0.0</td>\n",
              "      <td>1.0</td>\n",
              "      <td>438.0</td>\n",
              "      <td>481.0</td>\n",
              "    </tr>\n",
              "    <tr>\n",
              "      <th>2</th>\n",
              "      <td>C1000</td>\n",
              "      <td>566</td>\n",
              "      <td>아파트</td>\n",
              "      <td>충청북도</td>\n",
              "      <td>국민임대</td>\n",
              "      <td>51</td>\n",
              "      <td>75</td>\n",
              "      <td>10.0</td>\n",
              "      <td>A</td>\n",
              "      <td>15604000</td>\n",
              "      <td>150040</td>\n",
              "      <td>0.0</td>\n",
              "      <td>1.0</td>\n",
              "      <td>438.0</td>\n",
              "      <td>481.0</td>\n",
              "    </tr>\n",
              "    <tr>\n",
              "      <th>3</th>\n",
              "      <td>C1004</td>\n",
              "      <td>521</td>\n",
              "      <td>상가</td>\n",
              "      <td>충청남도</td>\n",
              "      <td>임대상가</td>\n",
              "      <td>23</td>\n",
              "      <td>1</td>\n",
              "      <td>3.0</td>\n",
              "      <td>D</td>\n",
              "      <td>-1</td>\n",
              "      <td>-1</td>\n",
              "      <td>NaN</td>\n",
              "      <td>2.0</td>\n",
              "      <td>153.0</td>\n",
              "      <td>93.0</td>\n",
              "    </tr>\n",
              "    <tr>\n",
              "      <th>4</th>\n",
              "      <td>C1004</td>\n",
              "      <td>521</td>\n",
              "      <td>상가</td>\n",
              "      <td>충청남도</td>\n",
              "      <td>임대상가</td>\n",
              "      <td>19</td>\n",
              "      <td>2</td>\n",
              "      <td>3.0</td>\n",
              "      <td>D</td>\n",
              "      <td>-1</td>\n",
              "      <td>-1</td>\n",
              "      <td>NaN</td>\n",
              "      <td>2.0</td>\n",
              "      <td>153.0</td>\n",
              "      <td>93.0</td>\n",
              "    </tr>\n",
              "    <tr>\n",
              "      <th>5</th>\n",
              "      <td>C1004</td>\n",
              "      <td>521</td>\n",
              "      <td>상가</td>\n",
              "      <td>충청남도</td>\n",
              "      <td>임대상가</td>\n",
              "      <td>22</td>\n",
              "      <td>2</td>\n",
              "      <td>3.0</td>\n",
              "      <td>D</td>\n",
              "      <td>-1</td>\n",
              "      <td>-1</td>\n",
              "      <td>NaN</td>\n",
              "      <td>2.0</td>\n",
              "      <td>153.0</td>\n",
              "      <td>93.0</td>\n",
              "    </tr>\n",
              "    <tr>\n",
              "      <th>6</th>\n",
              "      <td>C1004</td>\n",
              "      <td>521</td>\n",
              "      <td>상가</td>\n",
              "      <td>충청남도</td>\n",
              "      <td>임대상가</td>\n",
              "      <td>27</td>\n",
              "      <td>1</td>\n",
              "      <td>3.0</td>\n",
              "      <td>D</td>\n",
              "      <td>-1</td>\n",
              "      <td>-1</td>\n",
              "      <td>NaN</td>\n",
              "      <td>2.0</td>\n",
              "      <td>153.0</td>\n",
              "      <td>93.0</td>\n",
              "    </tr>\n",
              "    <tr>\n",
              "      <th>7</th>\n",
              "      <td>C1004</td>\n",
              "      <td>521</td>\n",
              "      <td>상가</td>\n",
              "      <td>충청남도</td>\n",
              "      <td>임대상가</td>\n",
              "      <td>31</td>\n",
              "      <td>4</td>\n",
              "      <td>3.0</td>\n",
              "      <td>D</td>\n",
              "      <td>-1</td>\n",
              "      <td>-1</td>\n",
              "      <td>NaN</td>\n",
              "      <td>2.0</td>\n",
              "      <td>153.0</td>\n",
              "      <td>93.0</td>\n",
              "    </tr>\n",
              "    <tr>\n",
              "      <th>8</th>\n",
              "      <td>C1004</td>\n",
              "      <td>521</td>\n",
              "      <td>아파트</td>\n",
              "      <td>충청남도</td>\n",
              "      <td>영구임대</td>\n",
              "      <td>39</td>\n",
              "      <td>1</td>\n",
              "      <td>3.0</td>\n",
              "      <td>C</td>\n",
              "      <td>4682000</td>\n",
              "      <td>104180</td>\n",
              "      <td>NaN</td>\n",
              "      <td>2.0</td>\n",
              "      <td>153.0</td>\n",
              "      <td>93.0</td>\n",
              "    </tr>\n",
              "    <tr>\n",
              "      <th>9</th>\n",
              "      <td>C1004</td>\n",
              "      <td>521</td>\n",
              "      <td>상가</td>\n",
              "      <td>충청남도</td>\n",
              "      <td>임대상가</td>\n",
              "      <td>32</td>\n",
              "      <td>1</td>\n",
              "      <td>3.0</td>\n",
              "      <td>D</td>\n",
              "      <td>-1</td>\n",
              "      <td>-1</td>\n",
              "      <td>NaN</td>\n",
              "      <td>2.0</td>\n",
              "      <td>153.0</td>\n",
              "      <td>93.0</td>\n",
              "    </tr>\n",
              "  </tbody>\n",
              "</table>\n",
              "</div>"
            ],
            "text/plain": [
              "    단지코드  총세대수 임대건물구분    지역  공급유형  ...     임대료  지하철   버스 단지내주차면수  등록차량수\n",
              "0  C1000   566    아파트  충청북도  국민임대  ...   96030  0.0  1.0   438.0  481.0\n",
              "1  C1000   566    아파트  충청북도  국민임대  ...  129640  0.0  1.0   438.0  481.0\n",
              "2  C1000   566    아파트  충청북도  국민임대  ...  150040  0.0  1.0   438.0  481.0\n",
              "3  C1004   521     상가  충청남도  임대상가  ...      -1  NaN  2.0   153.0   93.0\n",
              "4  C1004   521     상가  충청남도  임대상가  ...      -1  NaN  2.0   153.0   93.0\n",
              "5  C1004   521     상가  충청남도  임대상가  ...      -1  NaN  2.0   153.0   93.0\n",
              "6  C1004   521     상가  충청남도  임대상가  ...      -1  NaN  2.0   153.0   93.0\n",
              "7  C1004   521     상가  충청남도  임대상가  ...      -1  NaN  2.0   153.0   93.0\n",
              "8  C1004   521    아파트  충청남도  영구임대  ...  104180  NaN  2.0   153.0   93.0\n",
              "9  C1004   521     상가  충청남도  임대상가  ...      -1  NaN  2.0   153.0   93.0\n",
              "\n",
              "[10 rows x 15 columns]"
            ]
          },
          "metadata": {},
          "execution_count": 110
        }
      ]
    },
    {
      "cell_type": "code",
      "metadata": {
        "id": "q7DVPV4FQuz3"
      },
      "source": [
        "temp = train_new[train_new.임대건물구분 == '아파트'].groupby('단지코드').agg({'전용면적':['mean', 'sum', 'count'], '전용면적별세대수':'mean', '등록차량수':'mean'}).reset_index()"
      ],
      "execution_count": 111,
      "outputs": []
    },
    {
      "cell_type": "code",
      "metadata": {
        "id": "5RyiET0qQuz4"
      },
      "source": [
        "temp.columns = ['단지코드', '전용면적평균',  '전용면적총합', '단지내아파트개수', '전용면적별세대수평균', '등록차량수']"
      ],
      "execution_count": 112,
      "outputs": []
    },
    {
      "cell_type": "code",
      "metadata": {
        "colab": {
          "base_uri": "https://localhost:8080/",
          "height": 204
        },
        "id": "siqVRx_4Quz4",
        "outputId": "3b73bc9c-975c-40e5-bafd-97eef5e09c00"
      },
      "source": [
        "temp.corr()"
      ],
      "execution_count": 113,
      "outputs": [
        {
          "output_type": "execute_result",
          "data": {
            "text/html": [
              "<div>\n",
              "<style scoped>\n",
              "    .dataframe tbody tr th:only-of-type {\n",
              "        vertical-align: middle;\n",
              "    }\n",
              "\n",
              "    .dataframe tbody tr th {\n",
              "        vertical-align: top;\n",
              "    }\n",
              "\n",
              "    .dataframe thead th {\n",
              "        text-align: right;\n",
              "    }\n",
              "</style>\n",
              "<table border=\"1\" class=\"dataframe\">\n",
              "  <thead>\n",
              "    <tr style=\"text-align: right;\">\n",
              "      <th></th>\n",
              "      <th>전용면적평균</th>\n",
              "      <th>전용면적총합</th>\n",
              "      <th>단지내아파트개수</th>\n",
              "      <th>전용면적별세대수평균</th>\n",
              "      <th>등록차량수</th>\n",
              "    </tr>\n",
              "  </thead>\n",
              "  <tbody>\n",
              "    <tr>\n",
              "      <th>전용면적평균</th>\n",
              "      <td>1.000000</td>\n",
              "      <td>0.442908</td>\n",
              "      <td>-0.200500</td>\n",
              "      <td>0.246484</td>\n",
              "      <td>0.414580</td>\n",
              "    </tr>\n",
              "    <tr>\n",
              "      <th>전용면적총합</th>\n",
              "      <td>0.442908</td>\n",
              "      <td>1.000000</td>\n",
              "      <td>0.755886</td>\n",
              "      <td>-0.067874</td>\n",
              "      <td>0.474942</td>\n",
              "    </tr>\n",
              "    <tr>\n",
              "      <th>단지내아파트개수</th>\n",
              "      <td>-0.200500</td>\n",
              "      <td>0.755886</td>\n",
              "      <td>1.000000</td>\n",
              "      <td>-0.207411</td>\n",
              "      <td>0.254283</td>\n",
              "    </tr>\n",
              "    <tr>\n",
              "      <th>전용면적별세대수평균</th>\n",
              "      <td>0.246484</td>\n",
              "      <td>-0.067874</td>\n",
              "      <td>-0.207411</td>\n",
              "      <td>1.000000</td>\n",
              "      <td>0.588281</td>\n",
              "    </tr>\n",
              "    <tr>\n",
              "      <th>등록차량수</th>\n",
              "      <td>0.414580</td>\n",
              "      <td>0.474942</td>\n",
              "      <td>0.254283</td>\n",
              "      <td>0.588281</td>\n",
              "      <td>1.000000</td>\n",
              "    </tr>\n",
              "  </tbody>\n",
              "</table>\n",
              "</div>"
            ],
            "text/plain": [
              "              전용면적평균    전용면적총합  단지내아파트개수  전용면적별세대수평균     등록차량수\n",
              "전용면적평균      1.000000  0.442908 -0.200500    0.246484  0.414580\n",
              "전용면적총합      0.442908  1.000000  0.755886   -0.067874  0.474942\n",
              "단지내아파트개수   -0.200500  0.755886  1.000000   -0.207411  0.254283\n",
              "전용면적별세대수평균  0.246484 -0.067874 -0.207411    1.000000  0.588281\n",
              "등록차량수       0.414580  0.474942  0.254283    0.588281  1.000000"
            ]
          },
          "metadata": {},
          "execution_count": 113
        }
      ]
    },
    {
      "cell_type": "code",
      "metadata": {
        "colab": {
          "base_uri": "https://localhost:8080/",
          "height": 497
        },
        "id": "GNzcAxGnQ1Iq",
        "outputId": "1ad38bd6-29fa-4c1e-94df-6e1c8afa7cc6"
      },
      "source": [
        "fig , ax = plt.subplots(figsize=(24,8))\n",
        "fig.set_facecolor('white')\n",
        "count = 1\n",
        "num = len(temp.columns[1:-1])\n",
        "for i in temp.columns[1:-1]:\n",
        "  plt.subplot(1, num, count)\n",
        "  sns.scatterplot(x=i, y=\"등록차량수\", data=temp)\n",
        "  count+=1"
      ],
      "execution_count": 114,
      "outputs": [
        {
          "output_type": "display_data",
          "data": {
            "image/png": "[encoded data removed]",
            "text/plain": [
              "<Figure size 1728x576 with 4 Axes>"
            ]
          },
          "metadata": {}
        }
      ]
    },
    {
      "cell_type": "markdown",
      "metadata": {
        "id": "X1XhYZ2hJ4Bq"
      },
      "source": [
        "전용면적별세대수 평균을 제외한 전용면적총합, 평균, 단지내 아파트개수가 많을 수록 등록차량수가 많다는 것을 확인할 수 있음   \n",
        "-> 아파트개수가 타겟변수와 강한상관관계를 나타내지 않고 다른 변수들과 강한상관관계를 가짐으로 생성 x\n",
        "\n",
        "파생변수(전용면적 정수자리기준 그룹핑)  \n",
        "- 전용면적평균\n",
        "- 전용면적총합\n",
        "- 전용면적별세대수평균"
      ]
    },
    {
      "cell_type": "code",
      "metadata": {
        "id": "SWgBxJNXBVMh"
      },
      "source": [
        ""
      ],
      "execution_count": null,
      "outputs": []
    },
    {
      "cell_type": "code",
      "metadata": {
        "id": "BRiE5GmcBVP4"
      },
      "source": [
        ""
      ],
      "execution_count": null,
      "outputs": []
    },
    {
      "cell_type": "code",
      "metadata": {
        "id": "3E7bYt8CBVVc"
      },
      "source": [
        ""
      ],
      "execution_count": null,
      "outputs": []
    },
    {
      "cell_type": "code",
      "metadata": {
        "id": "8sWttQ75BVYn"
      },
      "source": [
        ""
      ],
      "execution_count": null,
      "outputs": []
    },
    {
      "cell_type": "code",
      "metadata": {
        "id": "mxl9OuGTANW2"
      },
      "source": [
        "age_info = pd.read_csv(\"/content/drive/My Drive/머신러닝_실전예제/Dacon_주차수요예측/data/age_gender_info.csv\")"
      ],
      "execution_count": null,
      "outputs": []
    },
    {
      "cell_type": "code",
      "metadata": {
        "id": "dtvxWe5EAhyu"
      },
      "source": [
        "age_info.head()"
      ],
      "execution_count": null,
      "outputs": []
    },
    {
      "cell_type": "code",
      "metadata": {
        "id": "E_fDyO6PBYho"
      },
      "source": [
        "age_info.info()"
      ],
      "execution_count": null,
      "outputs": []
    },
    {
      "cell_type": "code",
      "metadata": {
        "id": "YnxNpSOt9pa8"
      },
      "source": [
        "train_copy.drop('등록차량수', axis=1, inplace=True)"
      ],
      "execution_count": null,
      "outputs": []
    },
    {
      "cell_type": "code",
      "metadata": {
        "id": "jJoZTmkRQKdW"
      },
      "source": [
        "X = train_copy.drop(['단지코드', '비례등록차량수'], axis=1)\n",
        "y = train_copy['비례등록차량수']"
      ],
      "execution_count": null,
      "outputs": []
    },
    {
      "cell_type": "code",
      "metadata": {
        "id": "YPS7dmrZQ4rv"
      },
      "source": [
        "test_co = test_copy.iloc[:,1:].copy()"
      ],
      "execution_count": null,
      "outputs": []
    },
    {
      "cell_type": "code",
      "metadata": {
        "id": "TSLDO3yO7K8n"
      },
      "source": [
        "categorical_feats = X.dtypes[X.dtypes == 'object'].index"
      ],
      "execution_count": null,
      "outputs": []
    },
    {
      "cell_type": "code",
      "metadata": {
        "id": "jQZbZfPo8EPD"
      },
      "source": [
        "features_index = X.dtypes[X.dtypes != 'object'].index"
      ],
      "execution_count": null,
      "outputs": []
    },
    {
      "cell_type": "code",
      "metadata": {
        "id": "qVg8wFnQQkWx"
      },
      "source": [
        "encoder = OrdinalEncoder(categorical_feats)\n",
        "X[categorical_feats] = encoder.fit_transform(X[categorical_feats], y)\n",
        "test_copy[categorical_feats] = encoder.transform(test_copy[categorical_feats])"
      ],
      "execution_count": null,
      "outputs": []
    },
    {
      "cell_type": "code",
      "metadata": {
        "id": "J-uh88qNuWlo"
      },
      "source": [
        "n_est = 2000\n",
        "seed = 42\n",
        "n_fold = 15\n",
        "n_class = 1\n",
        "\n",
        "target = '등록차량수'\n",
        "X_test = test_co.copy()"
      ],
      "execution_count": null,
      "outputs": []
    },
    {
      "cell_type": "code",
      "metadata": {
        "id": "XIZznIXvMT_W",
        "colab": {
          "base_uri": "https://localhost:8080/"
        },
        "outputId": "59d9ac99-978c-46ce-d319-84aff958ee58"
      },
      "source": [
        "skfold = StratifiedKFold(n_splits=n_fold, shuffle=True, random_state=seed)\n",
        "folds=[]\n",
        "for train_idx, valid_idx in skfold.split(X, y):\n",
        "        folds.append((train_idx, valid_idx))\n",
        "\n",
        "cat_pred = np.zeros(X.shape[0])\n",
        "cat_pred_test = np.zeros(X_test.shape[0])\n",
        "cat_cols = categorical_feats.tolist()\n",
        "for fold in range(n_fold):\n",
        "  print(f'\\n----------------- Fold {fold} -----------------\\n')\n",
        "  train_idx, valid_idx = folds[fold]\n",
        "  X_train, X_valid, y_train, y_valid = X.iloc[train_idx], X.iloc[valid_idx], y[train_idx], y[valid_idx]\n",
        "  train_data = Pool(data=X_train, label=y_train, cat_features=cat_cols)\n",
        "  valid_data = Pool(data=X_valid, label=y_valid, cat_features=cat_cols)\n",
        "\n",
        "  model_cat = CatBoostRegressor()\n",
        "  model_cat.fit(train_data, eval_set=valid_data, use_best_model=True, early_stopping_rounds=100, verbose=100)\n",
        "  \n",
        "  cat_pred[valid_idx] = model_cat.predict(X_valid)\n",
        "  cat_pred_test += model_cat.predict(X_test) / n_fold\n",
        "  print(f'CV MAE Score: {mean_absolute_error(y_valid, cat_pred[valid_idx]):.6f}')\n",
        "    \n",
        "print(f'\\t MAE: {mean_absolute_error(y, cat_pred):.6f}')"
      ],
      "execution_count": null,
      "outputs": [
        {
          "output_type": "stream",
          "name": "stdout",
          "text": [
            "\n",
            "----------------- Fold 0 -----------------\n",
            "\n",
            "Learning rate set to 0.055805\n",
            "0:\tlearn: 103.3382162\ttest: 100.0801615\tbest: 100.0801615 (0)\ttotal: 5.4ms\tremaining: 5.4s\n",
            "100:\tlearn: 26.0371270\ttest: 32.2693814\tbest: 32.2693814 (100)\ttotal: 591ms\tremaining: 5.26s\n",
            "200:\tlearn: 20.6508102\ttest: 29.4452570\tbest: 29.4452570 (200)\ttotal: 1.14s\tremaining: 4.54s\n",
            "300:\tlearn: 17.2508608\ttest: 27.1604252\tbest: 27.1604252 (300)\ttotal: 1.72s\tremaining: 4s\n",
            "400:\tlearn: 14.6885910\ttest: 25.4070044\tbest: 25.3910558 (397)\ttotal: 2.31s\tremaining: 3.45s\n",
            "500:\tlearn: 12.8636899\ttest: 24.3903773\tbest: 24.3903773 (500)\ttotal: 2.87s\tremaining: 2.86s\n",
            "600:\tlearn: 11.3708321\ttest: 23.1835368\tbest: 23.1835368 (600)\ttotal: 3.41s\tremaining: 2.26s\n",
            "700:\tlearn: 10.2156200\ttest: 22.4793523\tbest: 22.4793523 (700)\ttotal: 3.95s\tremaining: 1.69s\n",
            "800:\tlearn: 9.1287566\ttest: 21.7124930\tbest: 21.7073259 (797)\ttotal: 4.49s\tremaining: 1.11s\n",
            "900:\tlearn: 8.2641574\ttest: 21.4154001\tbest: 21.4154001 (900)\ttotal: 5.03s\tremaining: 553ms\n",
            "999:\tlearn: 7.5529143\ttest: 21.0801413\tbest: 21.0675448 (995)\ttotal: 5.57s\tremaining: 0us\n",
            "\n",
            "bestTest = 21.06754483\n",
            "bestIteration = 995\n",
            "\n",
            "Shrink model to first 996 iterations.\n",
            "CV MAE Score: 10.287937\n",
            "\n",
            "----------------- Fold 1 -----------------\n",
            "\n",
            "Learning rate set to 0.055805\n",
            "0:\tlearn: 103.5468974\ttest: 97.4478272\tbest: 97.4478272 (0)\ttotal: 5.33ms\tremaining: 5.32s\n",
            "100:\tlearn: 26.5389375\ttest: 27.0841824\tbest: 27.0841824 (100)\ttotal: 540ms\tremaining: 4.8s\n",
            "200:\tlearn: 20.9683349\ttest: 25.7946486\tbest: 25.7791522 (193)\ttotal: 1.05s\tremaining: 4.19s\n",
            "300:\tlearn: 17.3865915\ttest: 24.9885075\tbest: 24.9273828 (297)\ttotal: 1.57s\tremaining: 3.65s\n",
            "400:\tlearn: 14.6974301\ttest: 23.7987269\tbest: 23.7987269 (400)\ttotal: 2.12s\tremaining: 3.16s\n",
            "500:\tlearn: 12.7999981\ttest: 22.9242983\tbest: 22.9242983 (500)\ttotal: 2.64s\tremaining: 2.63s\n",
            "600:\tlearn: 11.0161151\ttest: 22.4612702\tbest: 22.3691927 (582)\ttotal: 3.21s\tremaining: 2.13s\n",
            "700:\tlearn: 9.6640597\ttest: 22.0943198\tbest: 22.0943198 (700)\ttotal: 3.74s\tremaining: 1.59s\n",
            "800:\tlearn: 8.5311820\ttest: 21.9239518\tbest: 21.8883515 (792)\ttotal: 4.29s\tremaining: 1.06s\n",
            "900:\tlearn: 7.7474754\ttest: 21.6666329\tbest: 21.6587190 (899)\ttotal: 4.86s\tremaining: 534ms\n",
            "999:\tlearn: 7.0852682\ttest: 21.3907286\tbest: 21.3851319 (996)\ttotal: 5.37s\tremaining: 0us\n",
            "\n",
            "bestTest = 21.38513189\n",
            "bestIteration = 996\n",
            "\n",
            "Shrink model to first 997 iterations.\n",
            "CV MAE Score: 11.042941\n",
            "\n",
            "----------------- Fold 2 -----------------\n",
            "\n",
            "Learning rate set to 0.055805\n",
            "0:\tlearn: 102.6583791\ttest: 111.1108574\tbest: 111.1108574 (0)\ttotal: 5.34ms\tremaining: 5.34s\n",
            "100:\tlearn: 26.0336867\ttest: 35.6420539\tbest: 35.6420539 (100)\ttotal: 554ms\tremaining: 4.93s\n",
            "200:\tlearn: 20.7312921\ttest: 32.5948288\tbest: 32.5948288 (200)\ttotal: 1.08s\tremaining: 4.29s\n",
            "300:\tlearn: 16.9373346\ttest: 30.8425507\tbest: 30.8425507 (300)\ttotal: 1.62s\tremaining: 3.77s\n",
            "400:\tlearn: 14.5023813\ttest: 29.9624322\tbest: 29.8709673 (394)\ttotal: 2.13s\tremaining: 3.18s\n",
            "500:\tlearn: 12.7560737\ttest: 29.4742855\tbest: 29.4578296 (496)\ttotal: 2.65s\tremaining: 2.64s\n",
            "600:\tlearn: 11.1339890\ttest: 28.6937662\tbest: 28.6937662 (600)\ttotal: 3.17s\tremaining: 2.1s\n",
            "700:\tlearn: 9.8320322\ttest: 28.3389966\tbest: 28.3389966 (700)\ttotal: 3.73s\tremaining: 1.59s\n",
            "800:\tlearn: 8.8304932\ttest: 28.0424680\tbest: 28.0415975 (790)\ttotal: 4.29s\tremaining: 1.06s\n",
            "900:\tlearn: 8.0479592\ttest: 27.7657765\tbest: 27.7657765 (900)\ttotal: 4.81s\tremaining: 529ms\n",
            "999:\tlearn: 7.2920446\ttest: 27.4287601\tbest: 27.4287601 (999)\ttotal: 5.34s\tremaining: 0us\n",
            "\n",
            "bestTest = 27.42876008\n",
            "bestIteration = 999\n",
            "\n",
            "CV MAE Score: 14.226673\n",
            "\n",
            "----------------- Fold 3 -----------------\n",
            "\n",
            "Learning rate set to 0.055805\n",
            "0:\tlearn: 103.7037034\ttest: 97.7789900\tbest: 97.7789900 (0)\ttotal: 5.29ms\tremaining: 5.29s\n",
            "100:\tlearn: 26.4597341\ttest: 27.5590065\tbest: 27.5590065 (100)\ttotal: 531ms\tremaining: 4.73s\n",
            "200:\tlearn: 21.4755655\ttest: 25.4712763\tbest: 25.4712763 (200)\ttotal: 1.04s\tremaining: 4.12s\n",
            "300:\tlearn: 18.3903823\ttest: 24.4256546\tbest: 24.4256546 (300)\ttotal: 1.56s\tremaining: 3.62s\n",
            "400:\tlearn: 15.4648149\ttest: 22.9388477\tbest: 22.9388477 (400)\ttotal: 2.11s\tremaining: 3.15s\n",
            "500:\tlearn: 13.2431108\ttest: 22.1122614\tbest: 22.1122614 (500)\ttotal: 2.65s\tremaining: 2.64s\n",
            "600:\tlearn: 11.4687774\ttest: 21.2620795\tbest: 21.2620795 (600)\ttotal: 3.18s\tremaining: 2.11s\n",
            "700:\tlearn: 10.1065522\ttest: 20.5956666\tbest: 20.5725229 (696)\ttotal: 3.73s\tremaining: 1.59s\n",
            "800:\tlearn: 9.0099253\ttest: 20.1564611\tbest: 20.1521738 (799)\ttotal: 4.27s\tremaining: 1.06s\n",
            "900:\tlearn: 8.1058078\ttest: 19.6610631\tbest: 19.6610631 (900)\ttotal: 4.8s\tremaining: 528ms\n",
            "999:\tlearn: 7.3475398\ttest: 19.2880182\tbest: 19.2854703 (996)\ttotal: 5.33s\tremaining: 0us\n",
            "\n",
            "bestTest = 19.28547034\n",
            "bestIteration = 996\n",
            "\n",
            "Shrink model to first 997 iterations.\n",
            "CV MAE Score: 10.390236\n",
            "\n",
            "----------------- Fold 4 -----------------\n",
            "\n",
            "Learning rate set to 0.055805\n",
            "0:\tlearn: 103.5242019\ttest: 96.8941741\tbest: 96.8941741 (0)\ttotal: 5.38ms\tremaining: 5.38s\n",
            "100:\tlearn: 26.7474566\ttest: 30.2054236\tbest: 30.2054236 (100)\ttotal: 548ms\tremaining: 4.88s\n",
            "200:\tlearn: 21.6280241\ttest: 27.9797092\tbest: 27.9797092 (200)\ttotal: 1.06s\tremaining: 4.22s\n",
            "300:\tlearn: 18.1827987\ttest: 26.9952667\tbest: 26.9894588 (298)\ttotal: 1.6s\tremaining: 3.72s\n",
            "400:\tlearn: 15.3146049\ttest: 25.4894324\tbest: 25.4894324 (400)\ttotal: 2.15s\tremaining: 3.21s\n",
            "500:\tlearn: 13.0636409\ttest: 24.6400965\tbest: 24.6395918 (498)\ttotal: 2.7s\tremaining: 2.69s\n",
            "600:\tlearn: 11.3535332\ttest: 24.0719760\tbest: 24.0719760 (600)\ttotal: 3.26s\tremaining: 2.17s\n",
            "700:\tlearn: 9.9897511\ttest: 23.7206327\tbest: 23.7164786 (698)\ttotal: 3.82s\tremaining: 1.63s\n",
            "800:\tlearn: 8.9110151\ttest: 23.4957017\tbest: 23.4784124 (767)\ttotal: 4.37s\tremaining: 1.08s\n",
            "900:\tlearn: 7.9952736\ttest: 23.4062798\tbest: 23.3781230 (867)\ttotal: 4.9s\tremaining: 538ms\n",
            "999:\tlearn: 7.1788321\ttest: 23.1296671\tbest: 23.1296671 (999)\ttotal: 5.43s\tremaining: 0us\n",
            "\n",
            "bestTest = 23.12966713\n",
            "bestIteration = 999\n",
            "\n",
            "CV MAE Score: 11.068618\n",
            "\n",
            "----------------- Fold 5 -----------------\n",
            "\n",
            "Learning rate set to 0.055805\n",
            "0:\tlearn: 103.6206333\ttest: 96.9487262\tbest: 96.9487262 (0)\ttotal: 6.78ms\tremaining: 6.77s\n",
            "100:\tlearn: 26.4954288\ttest: 30.7159687\tbest: 30.6337044 (99)\ttotal: 552ms\tremaining: 4.91s\n",
            "200:\tlearn: 21.5489400\ttest: 28.6368578\tbest: 28.6077275 (199)\ttotal: 1.08s\tremaining: 4.32s\n",
            "300:\tlearn: 17.7015719\ttest: 27.4427275\tbest: 27.4427275 (300)\ttotal: 1.61s\tremaining: 3.75s\n",
            "400:\tlearn: 15.0872503\ttest: 26.6656251\tbest: 26.6541496 (399)\ttotal: 2.14s\tremaining: 3.2s\n",
            "500:\tlearn: 13.3646969\ttest: 26.2296535\tbest: 26.2080171 (497)\ttotal: 2.67s\tremaining: 2.66s\n",
            "600:\tlearn: 11.8090943\ttest: 25.6743714\tbest: 25.6743714 (600)\ttotal: 3.2s\tremaining: 2.12s\n",
            "700:\tlearn: 10.4543235\ttest: 25.2876549\tbest: 25.2822601 (698)\ttotal: 3.72s\tremaining: 1.59s\n",
            "800:\tlearn: 9.4516619\ttest: 24.9450851\tbest: 24.9263374 (794)\ttotal: 4.28s\tremaining: 1.06s\n",
            "900:\tlearn: 8.5407324\ttest: 24.7264288\tbest: 24.7264288 (900)\ttotal: 4.82s\tremaining: 530ms\n",
            "999:\tlearn: 7.8244818\ttest: 24.5415304\tbest: 24.5415304 (999)\ttotal: 5.34s\tremaining: 0us\n",
            "\n",
            "bestTest = 24.54153038\n",
            "bestIteration = 999\n",
            "\n",
            "CV MAE Score: 11.275674\n",
            "\n",
            "----------------- Fold 6 -----------------\n",
            "\n",
            "Learning rate set to 0.055805\n",
            "0:\tlearn: 102.1145450\ttest: 118.5732273\tbest: 118.5732273 (0)\ttotal: 5.34ms\tremaining: 5.33s\n",
            "100:\tlearn: 26.0298416\ttest: 42.6360169\tbest: 42.6009679 (98)\ttotal: 543ms\tremaining: 4.83s\n",
            "200:\tlearn: 21.2970203\ttest: 39.9526547\tbest: 39.9500532 (199)\ttotal: 1.06s\tremaining: 4.2s\n",
            "300:\tlearn: 17.7368706\ttest: 37.7892330\tbest: 37.7892330 (300)\ttotal: 1.59s\tremaining: 3.69s\n",
            "400:\tlearn: 15.1705376\ttest: 36.3315951\tbest: 36.2887999 (399)\ttotal: 2.11s\tremaining: 3.16s\n",
            "500:\tlearn: 13.3376971\ttest: 35.5312080\tbest: 35.5277383 (499)\ttotal: 2.65s\tremaining: 2.64s\n",
            "600:\tlearn: 11.6961728\ttest: 34.8538354\tbest: 34.8538354 (600)\ttotal: 3.17s\tremaining: 2.11s\n",
            "700:\tlearn: 10.4385017\ttest: 34.4994555\tbest: 34.4994555 (700)\ttotal: 3.72s\tremaining: 1.59s\n",
            "800:\tlearn: 9.3414648\ttest: 34.1755298\tbest: 34.1755298 (800)\ttotal: 4.26s\tremaining: 1.06s\n",
            "900:\tlearn: 8.4607735\ttest: 33.9042029\tbest: 33.8755198 (889)\ttotal: 4.81s\tremaining: 529ms\n",
            "999:\tlearn: 7.7034182\ttest: 33.4807777\tbest: 33.4807777 (999)\ttotal: 5.37s\tremaining: 0us\n",
            "\n",
            "bestTest = 33.48077772\n",
            "bestIteration = 999\n",
            "\n",
            "CV MAE Score: 14.066235\n",
            "\n",
            "----------------- Fold 7 -----------------\n",
            "\n",
            "Learning rate set to 0.055805\n",
            "0:\tlearn: 102.9958987\ttest: 106.2844491\tbest: 106.2844491 (0)\ttotal: 5.87ms\tremaining: 5.86s\n",
            "100:\tlearn: 26.7853544\ttest: 32.2724293\tbest: 32.2724293 (100)\ttotal: 556ms\tremaining: 4.95s\n",
            "200:\tlearn: 21.4912557\ttest: 30.7047688\tbest: 30.5942004 (180)\ttotal: 1.08s\tremaining: 4.31s\n",
            "300:\tlearn: 17.8154861\ttest: 29.6777724\tbest: 29.6777724 (300)\ttotal: 1.61s\tremaining: 3.73s\n",
            "400:\tlearn: 15.0567483\ttest: 28.9921193\tbest: 28.9920270 (397)\ttotal: 2.14s\tremaining: 3.2s\n",
            "500:\tlearn: 13.0721817\ttest: 28.7166745\tbest: 28.7072660 (498)\ttotal: 2.67s\tremaining: 2.66s\n",
            "600:\tlearn: 11.3008213\ttest: 27.9387419\tbest: 27.9360870 (599)\ttotal: 3.23s\tremaining: 2.15s\n",
            "700:\tlearn: 9.9878028\ttest: 27.5920532\tbest: 27.5716076 (696)\ttotal: 3.79s\tremaining: 1.62s\n",
            "800:\tlearn: 8.9231104\ttest: 27.2326743\tbest: 27.2269825 (799)\ttotal: 4.33s\tremaining: 1.07s\n",
            "900:\tlearn: 8.0465078\ttest: 26.9994979\tbest: 26.9932619 (895)\ttotal: 4.87s\tremaining: 535ms\n",
            "999:\tlearn: 7.3086686\ttest: 26.8672825\tbest: 26.8657215 (997)\ttotal: 5.41s\tremaining: 0us\n",
            "\n",
            "bestTest = 26.86572152\n",
            "bestIteration = 997\n",
            "\n",
            "Shrink model to first 998 iterations.\n",
            "CV MAE Score: 10.243079\n",
            "\n",
            "----------------- Fold 8 -----------------\n",
            "\n",
            "Learning rate set to 0.055805\n",
            "0:\tlearn: 101.3891600\ttest: 126.7389319\tbest: 126.7389319 (0)\ttotal: 5.25ms\tremaining: 5.24s\n",
            "100:\tlearn: 26.8226492\ttest: 31.9546017\tbest: 31.9546017 (100)\ttotal: 544ms\tremaining: 4.85s\n",
            "200:\tlearn: 21.5242467\ttest: 28.2532157\tbest: 28.2532157 (200)\ttotal: 1.05s\tremaining: 4.19s\n",
            "300:\tlearn: 17.7780100\ttest: 26.2760670\tbest: 26.2490443 (292)\ttotal: 1.6s\tremaining: 3.71s\n",
            "400:\tlearn: 15.3810136\ttest: 24.8260565\tbest: 24.8260565 (400)\ttotal: 2.11s\tremaining: 3.15s\n",
            "500:\tlearn: 13.3600504\ttest: 24.0921217\tbest: 24.0921217 (500)\ttotal: 2.65s\tremaining: 2.64s\n",
            "600:\tlearn: 11.7974904\ttest: 23.1904643\tbest: 23.1904643 (600)\ttotal: 3.17s\tremaining: 2.1s\n",
            "700:\tlearn: 10.4444544\ttest: 22.6904523\tbest: 22.6904523 (700)\ttotal: 3.69s\tremaining: 1.57s\n",
            "800:\tlearn: 9.3091552\ttest: 22.0724079\tbest: 22.0724079 (800)\ttotal: 4.24s\tremaining: 1.05s\n",
            "900:\tlearn: 8.3361604\ttest: 21.6063443\tbest: 21.6063443 (900)\ttotal: 4.77s\tremaining: 524ms\n",
            "999:\tlearn: 7.5154124\ttest: 21.2904146\tbest: 21.2904146 (999)\ttotal: 5.31s\tremaining: 0us\n",
            "\n",
            "bestTest = 21.29041461\n",
            "bestIteration = 999\n",
            "\n",
            "CV MAE Score: 10.484493\n",
            "\n",
            "----------------- Fold 9 -----------------\n",
            "\n",
            "Learning rate set to 0.055805\n",
            "0:\tlearn: 102.8457091\ttest: 107.8824107\tbest: 107.8824107 (0)\ttotal: 5.38ms\tremaining: 5.37s\n",
            "100:\tlearn: 26.7226710\ttest: 30.9836228\tbest: 30.9836228 (100)\ttotal: 532ms\tremaining: 4.73s\n",
            "200:\tlearn: 21.6132251\ttest: 29.0713683\tbest: 29.0713683 (200)\ttotal: 1.04s\tremaining: 4.14s\n",
            "300:\tlearn: 18.1184256\ttest: 27.8838158\tbest: 27.8838158 (300)\ttotal: 1.54s\tremaining: 3.58s\n",
            "400:\tlearn: 15.5033500\ttest: 27.0335918\tbest: 27.0335918 (400)\ttotal: 2.1s\tremaining: 3.13s\n",
            "500:\tlearn: 13.5325456\ttest: 26.2451227\tbest: 26.2451227 (500)\ttotal: 2.63s\tremaining: 2.62s\n",
            "600:\tlearn: 11.8524646\ttest: 25.4959121\tbest: 25.4959121 (600)\ttotal: 3.17s\tremaining: 2.1s\n",
            "700:\tlearn: 10.6030306\ttest: 24.7963070\tbest: 24.7740083 (687)\ttotal: 3.69s\tremaining: 1.57s\n",
            "800:\tlearn: 9.4745697\ttest: 24.3094266\tbest: 24.3094266 (800)\ttotal: 4.24s\tremaining: 1.05s\n",
            "900:\tlearn: 8.4905553\ttest: 23.7356632\tbest: 23.7356632 (900)\ttotal: 4.78s\tremaining: 525ms\n",
            "999:\tlearn: 7.6847462\ttest: 23.4468438\tbest: 23.4467407 (998)\ttotal: 5.31s\tremaining: 0us\n",
            "\n",
            "bestTest = 23.44674071\n",
            "bestIteration = 998\n",
            "\n",
            "Shrink model to first 999 iterations.\n",
            "CV MAE Score: 10.309834\n",
            "\n",
            "----------------- Fold 10 -----------------\n",
            "\n",
            "Learning rate set to 0.055805\n",
            "0:\tlearn: 103.1438005\ttest: 103.7127953\tbest: 103.7127953 (0)\ttotal: 5.35ms\tremaining: 5.34s\n",
            "100:\tlearn: 26.3690464\ttest: 37.1428689\tbest: 37.1220985 (99)\ttotal: 545ms\tremaining: 4.85s\n",
            "200:\tlearn: 21.1203237\ttest: 35.4506121\tbest: 35.2037191 (150)\ttotal: 1.08s\tremaining: 4.3s\n",
            "300:\tlearn: 17.6586447\ttest: 33.9502545\tbest: 33.9502545 (300)\ttotal: 1.61s\tremaining: 3.75s\n",
            "400:\tlearn: 15.1439122\ttest: 33.2026673\tbest: 33.2026673 (400)\ttotal: 2.16s\tremaining: 3.22s\n",
            "500:\tlearn: 13.1649052\ttest: 32.5843085\tbest: 32.5636927 (493)\ttotal: 2.71s\tremaining: 2.7s\n",
            "600:\tlearn: 11.7094396\ttest: 32.3569106\tbest: 32.2399849 (579)\ttotal: 3.27s\tremaining: 2.17s\n",
            "700:\tlearn: 10.4002111\ttest: 32.0156918\tbest: 32.0128812 (684)\ttotal: 3.81s\tremaining: 1.63s\n",
            "800:\tlearn: 9.4169966\ttest: 31.5131691\tbest: 31.5131691 (800)\ttotal: 4.35s\tremaining: 1.08s\n",
            "900:\tlearn: 8.4925239\ttest: 31.2622550\tbest: 31.2622550 (900)\ttotal: 4.88s\tremaining: 537ms\n",
            "999:\tlearn: 7.7113386\ttest: 31.0228568\tbest: 31.0228568 (999)\ttotal: 5.43s\tremaining: 0us\n",
            "\n",
            "bestTest = 31.02285681\n",
            "bestIteration = 999\n",
            "\n",
            "CV MAE Score: 12.960153\n",
            "\n",
            "----------------- Fold 11 -----------------\n",
            "\n",
            "Learning rate set to 0.055805\n",
            "0:\tlearn: 103.3716205\ttest: 99.3254163\tbest: 99.3254163 (0)\ttotal: 6.33ms\tremaining: 6.33s\n",
            "100:\tlearn: 25.9399158\ttest: 35.7753637\tbest: 35.7753637 (100)\ttotal: 542ms\tremaining: 4.83s\n",
            "200:\tlearn: 21.0122871\ttest: 34.2038899\tbest: 34.1814292 (195)\ttotal: 1.08s\tremaining: 4.31s\n",
            "300:\tlearn: 17.4607890\ttest: 33.2408805\tbest: 33.2250385 (299)\ttotal: 1.6s\tremaining: 3.72s\n",
            "400:\tlearn: 15.1386784\ttest: 32.1715215\tbest: 32.1715215 (400)\ttotal: 2.14s\tremaining: 3.19s\n",
            "500:\tlearn: 13.3693857\ttest: 31.2232135\tbest: 31.2232135 (500)\ttotal: 2.67s\tremaining: 2.66s\n",
            "600:\tlearn: 11.7976630\ttest: 30.3188005\tbest: 30.3188005 (600)\ttotal: 3.18s\tremaining: 2.11s\n",
            "700:\tlearn: 10.3450187\ttest: 29.5235296\tbest: 29.5157509 (699)\ttotal: 3.75s\tremaining: 1.6s\n",
            "800:\tlearn: 9.3342240\ttest: 28.9440922\tbest: 28.9367605 (799)\ttotal: 4.28s\tremaining: 1.06s\n",
            "900:\tlearn: 8.5468477\ttest: 28.5325546\tbest: 28.5242664 (899)\ttotal: 4.82s\tremaining: 530ms\n",
            "999:\tlearn: 7.8244588\ttest: 28.2816726\tbest: 28.2773414 (998)\ttotal: 5.34s\tremaining: 0us\n",
            "\n",
            "bestTest = 28.27734136\n",
            "bestIteration = 998\n",
            "\n",
            "Shrink model to first 999 iterations.\n",
            "CV MAE Score: 11.763830\n",
            "\n",
            "----------------- Fold 12 -----------------\n",
            "\n",
            "Learning rate set to 0.055808\n",
            "0:\tlearn: 103.2056567\ttest: 100.3076044\tbest: 100.3076044 (0)\ttotal: 5.7ms\tremaining: 5.69s\n",
            "100:\tlearn: 26.3448932\ttest: 33.7420038\tbest: 33.7420038 (100)\ttotal: 527ms\tremaining: 4.69s\n",
            "200:\tlearn: 21.3311586\ttest: 30.1150337\tbest: 30.1150337 (200)\ttotal: 1.03s\tremaining: 4.12s\n",
            "300:\tlearn: 17.5486838\ttest: 28.5831139\tbest: 28.5831139 (300)\ttotal: 1.58s\tremaining: 3.68s\n",
            "400:\tlearn: 14.9548612\ttest: 27.6440469\tbest: 27.6440469 (400)\ttotal: 2.11s\tremaining: 3.15s\n",
            "500:\tlearn: 13.0714277\ttest: 26.8731954\tbest: 26.8731010 (499)\ttotal: 2.64s\tremaining: 2.63s\n",
            "600:\tlearn: 11.3286864\ttest: 26.2447064\tbest: 26.2447064 (600)\ttotal: 3.21s\tremaining: 2.13s\n",
            "700:\tlearn: 9.9678764\ttest: 25.7670180\tbest: 25.7670180 (700)\ttotal: 3.74s\tremaining: 1.59s\n",
            "800:\tlearn: 8.9558872\ttest: 25.2032583\tbest: 25.2032583 (800)\ttotal: 4.31s\tremaining: 1.07s\n",
            "900:\tlearn: 8.1865837\ttest: 24.8013769\tbest: 24.8013769 (900)\ttotal: 4.83s\tremaining: 531ms\n",
            "999:\tlearn: 7.4279740\ttest: 24.2758716\tbest: 24.2758716 (999)\ttotal: 5.38s\tremaining: 0us\n",
            "\n",
            "bestTest = 24.27587157\n",
            "bestIteration = 999\n",
            "\n",
            "CV MAE Score: 11.398727\n",
            "\n",
            "----------------- Fold 13 -----------------\n",
            "\n",
            "Learning rate set to 0.055808\n",
            "0:\tlearn: 103.7407163\ttest: 91.8692651\tbest: 91.8692651 (0)\ttotal: 5.64ms\tremaining: 5.64s\n",
            "100:\tlearn: 25.8879657\ttest: 34.7327920\tbest: 34.7327920 (100)\ttotal: 539ms\tremaining: 4.79s\n",
            "200:\tlearn: 20.9144518\ttest: 32.7045039\tbest: 32.7045039 (200)\ttotal: 1.06s\tremaining: 4.2s\n",
            "300:\tlearn: 17.5101128\ttest: 32.3797453\tbest: 32.3302545 (292)\ttotal: 1.58s\tremaining: 3.67s\n",
            "400:\tlearn: 14.5575032\ttest: 31.2490922\tbest: 31.2247702 (396)\ttotal: 2.14s\tremaining: 3.2s\n",
            "500:\tlearn: 12.5608669\ttest: 30.5962772\tbest: 30.5962772 (500)\ttotal: 2.73s\tremaining: 2.72s\n",
            "600:\tlearn: 11.1910104\ttest: 30.2721541\tbest: 30.2504816 (597)\ttotal: 3.26s\tremaining: 2.17s\n",
            "700:\tlearn: 9.9761264\ttest: 29.9750198\tbest: 29.9750198 (700)\ttotal: 3.83s\tremaining: 1.63s\n",
            "800:\tlearn: 8.9835378\ttest: 29.7566562\tbest: 29.7566562 (800)\ttotal: 4.36s\tremaining: 1.08s\n",
            "900:\tlearn: 8.1457679\ttest: 29.5328351\tbest: 29.5325024 (898)\ttotal: 4.91s\tremaining: 539ms\n",
            "999:\tlearn: 7.3864956\ttest: 29.3384091\tbest: 29.3378734 (986)\ttotal: 5.44s\tremaining: 0us\n",
            "\n",
            "bestTest = 29.33787336\n",
            "bestIteration = 986\n",
            "\n",
            "Shrink model to first 987 iterations.\n",
            "CV MAE Score: 12.769130\n",
            "\n",
            "----------------- Fold 14 -----------------\n",
            "\n",
            "Learning rate set to 0.055808\n",
            "0:\tlearn: 104.0111090\ttest: 87.6931413\tbest: 87.6931413 (0)\ttotal: 5.65ms\tremaining: 5.64s\n",
            "100:\tlearn: 26.3620345\ttest: 29.0845839\tbest: 29.0845839 (100)\ttotal: 556ms\tremaining: 4.95s\n",
            "200:\tlearn: 21.4721313\ttest: 26.8811884\tbest: 26.8811884 (200)\ttotal: 1.11s\tremaining: 4.42s\n",
            "300:\tlearn: 18.0806124\ttest: 24.7824919\tbest: 24.7824919 (300)\ttotal: 1.61s\tremaining: 3.75s\n",
            "400:\tlearn: 15.4083764\ttest: 23.2670085\tbest: 23.2670085 (400)\ttotal: 2.17s\tremaining: 3.24s\n",
            "500:\tlearn: 13.3167218\ttest: 22.3973390\tbest: 22.3973390 (500)\ttotal: 2.68s\tremaining: 2.67s\n",
            "600:\tlearn: 11.7726662\ttest: 21.6940289\tbest: 21.6939543 (599)\ttotal: 3.21s\tremaining: 2.13s\n",
            "700:\tlearn: 10.4854349\ttest: 20.8809645\tbest: 20.8809645 (700)\ttotal: 3.74s\tremaining: 1.6s\n",
            "800:\tlearn: 9.3039788\ttest: 20.4050845\tbest: 20.3918543 (794)\ttotal: 4.31s\tremaining: 1.07s\n",
            "900:\tlearn: 8.3594846\ttest: 20.1404380\tbest: 20.1394330 (899)\ttotal: 4.84s\tremaining: 532ms\n",
            "999:\tlearn: 7.5626380\ttest: 19.9336187\tbest: 19.9336187 (999)\ttotal: 5.39s\tremaining: 0us\n",
            "\n",
            "bestTest = 19.93361873\n",
            "bestIteration = 999\n",
            "\n",
            "CV MAE Score: 10.180128\n",
            "\t MAE: 11.497895\n"
          ]
        }
      ]
    },
    {
      "cell_type": "code",
      "metadata": {
        "colab": {
          "base_uri": "https://localhost:8080/",
          "height": 512
        },
        "id": "6wcOgbiVUF4r",
        "outputId": "6d748a7c-646e-4aaa-fec5-d5c90b42eaa3"
      },
      "source": [
        "def plot_feature_importance(importance,names,model_type):\n",
        "    \n",
        "    feature_importance = np.array(importance)\n",
        "    feature_names = np.array(names)\n",
        "    \n",
        "    data={'feature_names':feature_names,'feature_importance':feature_importance}\n",
        "    fi_df = pd.DataFrame(data)\n",
        "    \n",
        "    fi_df.sort_values(by=['feature_importance'], ascending=False,inplace=True)\n",
        "\n",
        "    fig = plt.figure(figsize=(10,8))\n",
        "    fig.set_facecolor(\"white\")\n",
        "    sns.barplot(x=fi_df['feature_importance'], y=fi_df['feature_names'])\n",
        "\n",
        "    plt.title(model_type + ' Feature Importance')\n",
        "    plt.xlabel('Feature Importance')\n",
        "    plt.ylabel('Feature Names')\n",
        "\n",
        "plot_feature_importance(model_cat.get_feature_importance(),X_test.columns,'CATBOOST')"
      ],
      "execution_count": null,
      "outputs": [
        {
          "output_type": "display_data",
          "data": {
            "image/png": "[encoded data removed]",
            "text/plain": [
              "<Figure size 720x576 with 1 Axes>"
            ]
          },
          "metadata": {}
        }
      ]
    },
    {
      "cell_type": "code",
      "metadata": {
        "id": "QN4_8aV_V0b_"
      },
      "source": [
        "result = pd.DataFrame(cat_pred_test)"
      ],
      "execution_count": null,
      "outputs": []
    },
    {
      "cell_type": "code",
      "metadata": {
        "id": "4SlYvPTpZcEu"
      },
      "source": [
        "result['단지코드'] = test['단지코드']"
      ],
      "execution_count": null,
      "outputs": []
    },
    {
      "cell_type": "code",
      "metadata": {
        "id": "1nuoY1cjZgn2"
      },
      "source": [
        "result = result.groupby('단지코드').sum().reset_index()\n",
        "result.columns = ['code', 'num']"
      ],
      "execution_count": null,
      "outputs": []
    },
    {
      "cell_type": "code",
      "metadata": {
        "id": "8rd9iCOvaODv"
      },
      "source": [
        "sorter = sub['code']"
      ],
      "execution_count": null,
      "outputs": []
    },
    {
      "cell_type": "code",
      "metadata": {
        "id": "ohrIFwVRaODv"
      },
      "source": [
        "sorterIndex = dict(zip(sorter, range(len(sorter))))"
      ],
      "execution_count": null,
      "outputs": []
    },
    {
      "cell_type": "code",
      "metadata": {
        "id": "SDThzoenWwH3"
      },
      "source": [
        "result['Rank'] = result['code'].map(sorterIndex)"
      ],
      "execution_count": null,
      "outputs": []
    },
    {
      "cell_type": "code",
      "metadata": {
        "id": "6oZqzXYU-fK6"
      },
      "source": [
        "result.sort_values('Rank', inplace=True)"
      ],
      "execution_count": null,
      "outputs": []
    },
    {
      "cell_type": "code",
      "metadata": {
        "id": "ioeo9aRkacEe"
      },
      "source": [
        "sub = result.iloc[:, :-1]"
      ],
      "execution_count": null,
      "outputs": []
    },
    {
      "cell_type": "code",
      "metadata": {
        "colab": {
          "base_uri": "https://localhost:8080/",
          "height": 418
        },
        "id": "CJkFJ16T-Uvg",
        "outputId": "35cd485b-01a2-439d-d5c2-cb2dcd98b71b"
      },
      "source": [
        "sub"
      ],
      "execution_count": null,
      "outputs": [
        {
          "output_type": "execute_result",
          "data": {
            "text/html": [
              "<div>\n",
              "<style scoped>\n",
              "    .dataframe tbody tr th:only-of-type {\n",
              "        vertical-align: middle;\n",
              "    }\n",
              "\n",
              "    .dataframe tbody tr th {\n",
              "        vertical-align: top;\n",
              "    }\n",
              "\n",
              "    .dataframe thead th {\n",
              "        text-align: right;\n",
              "    }\n",
              "</style>\n",
              "<table border=\"1\" class=\"dataframe\">\n",
              "  <thead>\n",
              "    <tr style=\"text-align: right;\">\n",
              "      <th></th>\n",
              "      <th>code</th>\n",
              "      <th>num</th>\n",
              "    </tr>\n",
              "  </thead>\n",
              "  <tbody>\n",
              "    <tr>\n",
              "      <th>10</th>\n",
              "      <td>C1072</td>\n",
              "      <td>634.928130</td>\n",
              "    </tr>\n",
              "    <tr>\n",
              "      <th>13</th>\n",
              "      <td>C1128</td>\n",
              "      <td>1178.752153</td>\n",
              "    </tr>\n",
              "    <tr>\n",
              "      <th>44</th>\n",
              "      <td>C1456</td>\n",
              "      <td>529.769653</td>\n",
              "    </tr>\n",
              "    <tr>\n",
              "      <th>83</th>\n",
              "      <td>C1840</td>\n",
              "      <td>465.739497</td>\n",
              "    </tr>\n",
              "    <tr>\n",
              "      <th>38</th>\n",
              "      <td>C1332</td>\n",
              "      <td>1014.867228</td>\n",
              "    </tr>\n",
              "    <tr>\n",
              "      <th>...</th>\n",
              "      <td>...</td>\n",
              "      <td>...</td>\n",
              "    </tr>\n",
              "    <tr>\n",
              "      <th>132</th>\n",
              "      <td>C2456</td>\n",
              "      <td>236.407437</td>\n",
              "    </tr>\n",
              "    <tr>\n",
              "      <th>28</th>\n",
              "      <td>C1266</td>\n",
              "      <td>420.112394</td>\n",
              "    </tr>\n",
              "    <tr>\n",
              "      <th>103</th>\n",
              "      <td>C2152</td>\n",
              "      <td>37.733406</td>\n",
              "    </tr>\n",
              "    <tr>\n",
              "      <th>29</th>\n",
              "      <td>C1267</td>\n",
              "      <td>362.776939</td>\n",
              "    </tr>\n",
              "    <tr>\n",
              "      <th>107</th>\n",
              "      <td>C2189</td>\n",
              "      <td>177.795897</td>\n",
              "    </tr>\n",
              "  </tbody>\n",
              "</table>\n",
              "<p>150 rows × 2 columns</p>\n",
              "</div>"
            ],
            "text/plain": [
              "      code          num\n",
              "10   C1072   634.928130\n",
              "13   C1128  1178.752153\n",
              "44   C1456   529.769653\n",
              "83   C1840   465.739497\n",
              "38   C1332  1014.867228\n",
              "..     ...          ...\n",
              "132  C2456   236.407437\n",
              "28   C1266   420.112394\n",
              "103  C2152    37.733406\n",
              "29   C1267   362.776939\n",
              "107  C2189   177.795897\n",
              "\n",
              "[150 rows x 2 columns]"
            ]
          },
          "metadata": {},
          "execution_count": 197
        }
      ]
    },
    {
      "cell_type": "code",
      "metadata": {
        "id": "Q4_Ed5PUax9O"
      },
      "source": [
        "import os\n",
        "path = \"/content/drive/My Drive/머신러닝_실전예제/Dacon_주차수요예측/result/\"\n",
        "file_list = os.listdir(path)\n",
        "file_list_csv = [file for file in file_list if file.endswith(\".csv\")]\n",
        "num = len(file_list_csv) + 1"
      ],
      "execution_count": null,
      "outputs": []
    },
    {
      "cell_type": "code",
      "metadata": {
        "id": "583kd7DpbBbG"
      },
      "source": [
        "sub.to_csv(path + \"result\" + str(num) + \".csv\", index=False)"
      ],
      "execution_count": null,
      "outputs": []
    },
    {
      "cell_type": "markdown",
      "metadata": {
        "id": "GkztIxbCWDVC"
      },
      "source": [
        "# 효과없음"
      ]
    },
    {
      "cell_type": "markdown",
      "metadata": {
        "id": "arbns3suslCW"
      },
      "source": [
        "이런 생각도 할 수 있다.  \n",
        "동일 단지코드내에 전용면적별세대수에 비례하지 않을까"
      ]
    },
    {
      "cell_type": "code",
      "metadata": {
        "id": "5VCGrOJFr2bv"
      },
      "source": [
        "# 등록차량수, 단지내주차면수를 전용면적별세대수 비율에 맞추기\n",
        "train_copy['비례단지내주차면수'] = round(train_copy['단지내주차면수'] * train_copy['전용면적별세대수'].div(train_copy.groupby('단지코드')['전용면적별세대수'].transform(lambda x: x.sum())))\n",
        "train_copy['비례등록차량수'] = round(train_copy['등록차량수'] * train_copy['전용면적별세대수'].div(train_copy.groupby('단지코드')['전용면적별세대수'].transform(lambda x: x.sum())))"
      ],
      "execution_count": null,
      "outputs": []
    },
    {
      "cell_type": "code",
      "metadata": {
        "id": "tFZgbP0Qz1of"
      },
      "source": [
        "test_copy['비례단지내주차면수'] = round(test_copy['단지내주차면수'] * test_copy['전용면적별세대수'].div(test_copy.groupby('단지코드')['전용면적별세대수'].transform(lambda x: x.sum())))"
      ],
      "execution_count": null,
      "outputs": []
    },
    {
      "cell_type": "code",
      "metadata": {
        "colab": {
          "base_uri": "https://localhost:8080/",
          "height": 574
        },
        "id": "GPsqhK9vr35A",
        "outputId": "423deba8-b3ba-4cb4-8146-5ce586e69566"
      },
      "source": [
        "fig = plt.figure(figsize=(8,8))\n",
        "fig.set_facecolor(\"white\")\n",
        "sns.heatmap(train_copy.corr(), annot=True)"
      ],
      "execution_count": null,
      "outputs": [
        {
          "output_type": "execute_result",
          "data": {
            "text/plain": [
              "<matplotlib.axes._subplots.AxesSubplot at 0x7f7335038e10>"
            ]
          },
          "metadata": {},
          "execution_count": 200
        },
        {
          "output_type": "display_data",
          "data": {
            "image/png": "[encoded data removed]",
            "text/plain": [
              "<Figure size 576x576 with 2 Axes>"
            ]
          },
          "metadata": {}
        }
      ]
    },
    {
      "cell_type": "code",
      "metadata": {
        "id": "JcdnDwu2Qkl2"
      },
      "source": [
        ""
      ],
      "execution_count": null,
      "outputs": []
    },
    {
      "cell_type": "code",
      "metadata": {
        "id": "QfY-IvA9QkqW"
      },
      "source": [
        ""
      ],
      "execution_count": null,
      "outputs": []
    },
    {
      "cell_type": "code",
      "metadata": {
        "id": "3Oq5hW_lQkvG"
      },
      "source": [
        ""
      ],
      "execution_count": null,
      "outputs": []
    },
    {
      "cell_type": "code",
      "metadata": {
        "id": "g4Qvgm1dQkzm"
      },
      "source": [
        ""
      ],
      "execution_count": null,
      "outputs": []
    },
    {
      "cell_type": "code",
      "metadata": {
        "id": "MjHL5M1PQk4G"
      },
      "source": [
        ""
      ],
      "execution_count": null,
      "outputs": []
    },
    {
      "cell_type": "code",
      "metadata": {
        "id": "ShXBDcR1Qk8e"
      },
      "source": [
        ""
      ],
      "execution_count": null,
      "outputs": []
    },
    {
      "cell_type": "code",
      "metadata": {
        "id": "8v_V9gT4QlA_"
      },
      "source": [
        ""
      ],
      "execution_count": null,
      "outputs": []
    },
    {
      "cell_type": "code",
      "metadata": {
        "id": "nE24SSzwQlFL"
      },
      "source": [
        ""
      ],
      "execution_count": null,
      "outputs": []
    },
    {
      "cell_type": "code",
      "metadata": {
        "id": "SNbteb2LQlJI"
      },
      "source": [
        ""
      ],
      "execution_count": null,
      "outputs": []
    },
    {
      "cell_type": "code",
      "metadata": {
        "id": "riFeB5HPQlM-"
      },
      "source": [
        ""
      ],
      "execution_count": null,
      "outputs": []
    },
    {
      "cell_type": "code",
      "metadata": {
        "id": "b2sV0jKOt01Z"
      },
      "source": [
        "from sklearn.ensemble import RandomForestRegressor"
      ],
      "execution_count": null,
      "outputs": []
    },
    {
      "cell_type": "code",
      "metadata": {
        "colab": {
          "base_uri": "https://localhost:8080/",
          "height": 599
        },
        "id": "Ic7S6YgMtxZS",
        "outputId": "323b47f4-920d-42a8-8288-3622513131fa"
      },
      "source": [
        "for i in (200, 300, 400):\n",
        "  for j in (5, 10, 30, 50, 100, 200):\n",
        "    model = RandomForestRegressor(n_estimators = i, max_depth=j, random_state = 15)\n",
        "    model.fit(X_train, y_train)\n",
        "\n",
        "    relation_square = model.score(X_train, y_train)\n",
        "    print(f\"n_estimators: {i}, max_depth: {j}, 결정계수 : ', {relation_square}\")\n",
        "    \n",
        "    y_p = model.predict(X_test)\n",
        "    \n",
        "    ax1 = sns.distplot(y_test, hist = False, label = 'y_실제')\n",
        "    ax2 = sns.distplot(y_p, hist = False, label = 'y_예측')\n"
      ],
      "execution_count": null,
      "outputs": [
        {
          "output_type": "stream",
          "name": "stdout",
          "text": [
            "n_estimators: 200, max_depth: 5, 결정계수 : ', 0.9204825482256224\n",
            "n_estimators: 200, max_depth: 10, 결정계수 : ', 0.9705054273075427\n",
            "n_estimators: 200, max_depth: 30, 결정계수 : ', 0.9735192254136176\n",
            "n_estimators: 200, max_depth: 50, 결정계수 : ', 0.9735192254136176\n",
            "n_estimators: 200, max_depth: 100, 결정계수 : ', 0.9735192254136176\n",
            "n_estimators: 200, max_depth: 200, 결정계수 : ', 0.9735192254136176\n",
            "n_estimators: 300, max_depth: 5, 결정계수 : ', 0.9201347482994787\n",
            "n_estimators: 300, max_depth: 10, 결정계수 : ', 0.9702036091059068\n",
            "n_estimators: 300, max_depth: 30, 결정계수 : ', 0.9732353335079535\n",
            "n_estimators: 300, max_depth: 50, 결정계수 : ', 0.9732353335079535\n",
            "n_estimators: 300, max_depth: 100, 결정계수 : ', 0.9732353335079535\n",
            "n_estimators: 300, max_depth: 200, 결정계수 : ', 0.9732353335079535\n",
            "n_estimators: 400, max_depth: 5, 결정계수 : ', 0.9197769191990927\n",
            "n_estimators: 400, max_depth: 10, 결정계수 : ', 0.9704917348309553\n",
            "n_estimators: 400, max_depth: 30, 결정계수 : ', 0.9734845335159082\n",
            "n_estimators: 400, max_depth: 50, 결정계수 : ', 0.9734845335159082\n",
            "n_estimators: 400, max_depth: 100, 결정계수 : ', 0.9734845335159082\n",
            "n_estimators: 400, max_depth: 200, 결정계수 : ', 0.9734845335159082\n"
          ]
        },
        {
          "output_type": "display_data",
          "data": {
            "image/png": "[encoded data removed]",
            "text/plain": [
              "<Figure size 432x288 with 1 Axes>"
            ]
          },
          "metadata": {
            "needs_background": "light"
          }
        }
      ]
    },
    {
      "cell_type": "markdown",
      "metadata": {
        "id": "lgJLvFfXzcjH"
      },
      "source": [
        "# 결과처리"
      ]
    },
    {
      "cell_type": "code",
      "metadata": {
        "id": "fwZldytvphjo"
      },
      "source": [
        "sorter = test['단지코드'].unique()"
      ],
      "execution_count": null,
      "outputs": []
    },
    {
      "cell_type": "code",
      "metadata": {
        "id": "O4W7ChIXFtqh"
      },
      "source": [
        "sorterIndex = dict(zip(sorter, range(len(sorter))))"
      ],
      "execution_count": null,
      "outputs": []
    },
    {
      "cell_type": "code",
      "metadata": {
        "id": "UpczqLasnaS4"
      },
      "source": [
        "result = pd.DataFrame()\n",
        "result['code'] = test['단지코드'].drop_duplicates(keep='first').sort_values().reset_index(drop=True)\n",
        "result['num'] = np.exp(model.predict(new_test))\n",
        "result['Rank'] = result['code'].map(sorterIndex)"
      ],
      "execution_count": null,
      "outputs": []
    },
    {
      "cell_type": "code",
      "metadata": {
        "id": "SuF2LPLdsF2n"
      },
      "source": [
        "sub_ex = pd.read_csv(\"/content/drive/My Drive/머신러닝_실전예제/Dacon_주차수요예측/data/sample_submission.csv\")"
      ],
      "execution_count": null,
      "outputs": []
    },
    {
      "cell_type": "code",
      "metadata": {
        "id": "eBVsLLWHyE1d"
      },
      "source": [
        "result = result.sort_values('Rank')"
      ],
      "execution_count": null,
      "outputs": []
    },
    {
      "cell_type": "code",
      "metadata": {
        "colab": {
          "base_uri": "https://localhost:8080/"
        },
        "id": "8sQArZoxqvyI",
        "outputId": "b9e7fe3f-2926-48d7-832f-21fa1a4fa293"
      },
      "source": [
        "result[result['code'] == 'C1030']"
      ],
      "execution_count": null,
      "outputs": [
        {
          "output_type": "error",
          "ename": "NameError",
          "evalue": "ignored",
          "traceback": [
            "\u001b[0;31m---------------------------------------------------------------------------\u001b[0m",
            "\u001b[0;31mNameError\u001b[0m                                 Traceback (most recent call last)",
            "\u001b[0;32m<ipython-input-1-4705e59ff6b0>\u001b[0m in \u001b[0;36m<module>\u001b[0;34m()\u001b[0m\n\u001b[0;32m----> 1\u001b[0;31m \u001b[0mresult\u001b[0m\u001b[0;34m[\u001b[0m\u001b[0mresult\u001b[0m\u001b[0;34m[\u001b[0m\u001b[0;34m'code'\u001b[0m\u001b[0;34m]\u001b[0m \u001b[0;34m==\u001b[0m \u001b[0;34m'C1030'\u001b[0m\u001b[0;34m]\u001b[0m\u001b[0;34m\u001b[0m\u001b[0;34m\u001b[0m\u001b[0m\n\u001b[0m",
            "\u001b[0;31mNameError\u001b[0m: name 'result' is not defined"
          ]
        }
      ]
    },
    {
      "cell_type": "code",
      "metadata": {
        "id": "iifcZqR0x1QR"
      },
      "source": [
        " result.drop('Rank', axis=1, inplace=True)"
      ],
      "execution_count": null,
      "outputs": []
    },
    {
      "cell_type": "code",
      "metadata": {
        "id": "qdYSv0v3pluW"
      },
      "source": [
        "result.to_csv(\"/content/drive/My Drive/머신러닝_실전예제/Dacon_주차수요예측/data/submission.csv\", index=False)"
      ],
      "execution_count": null,
      "outputs": []
    },
    {
      "cell_type": "code",
      "metadata": {
        "id": "hA1FIojCr-sj"
      },
      "source": [
        ""
      ],
      "execution_count": null,
      "outputs": []
    },
    {
      "cell_type": "markdown",
      "metadata": {
        "id": "OVPBdL7CLgYB"
      },
      "source": [
        ""
      ]
    }
  ]
}