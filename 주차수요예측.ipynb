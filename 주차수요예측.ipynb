{
  "nbformat": 4,
  "nbformat_minor": 0,
  "metadata": {
    "colab": {
      "name": "주차수요예측",
      "provenance": [],
      "collapsed_sections": [],
      "authorship_tag": "ABX9TyPlvC1vbg8ikpRezIXVf+In",
      "include_colab_link": true
    },
    "kernelspec": {
      "display_name": "Python 3",
      "name": "python3"
    },
    "language_info": {
      "name": "python"
    }
  },
  "cells": [
    {
      "cell_type": "markdown",
      "metadata": {
        "id": "view-in-github",
        "colab_type": "text"
      },
      "source": [
        "<a href=\"https://colab.research.google.com/github/koreahong/parking_lot_analysis/blob/main/%EC%A3%BC%EC%B0%A8%EC%88%98%EC%9A%94%EC%98%88%EC%B8%A1.ipynb\" target=\"_parent\"><img src=\"https://colab.research.google.com/assets/colab-badge.svg\" alt=\"Open In Colab\"/></a>"
      ]
    },
    {
      "cell_type": "markdown",
      "metadata": {
        "id": "yWSbN2wICEUm"
      },
      "source": [
        "#라이브러리 불러오기"
      ]
    },
    {
      "cell_type": "code",
      "metadata": {
        "id": "Rc0Hwe38A-WF"
      },
      "source": [
        "# !pip install --target=$my_path pycaret\n",
        "!pip install  category_encoders\n",
        "!pip install  catboost"
      ],
      "execution_count": null,
      "outputs": []
    },
    {
      "cell_type": "code",
      "metadata": {
        "id": "AEdN9x53N3IY"
      },
      "source": [
        "#download pont\n",
        "!sudo apt-get install -y fonts-nanum\n",
        "!sudo fc-cache -fv \n",
        "!rm ~/.cache/matplotlib -rf "
      ],
      "execution_count": null,
      "outputs": []
    },
    {
      "cell_type": "code",
      "metadata": {
        "id": "sZlgseiX_37q"
      },
      "source": [
        "import pandas as pd\n",
        "import numpy as np\n",
        "import copy\n",
        "import math\n",
        "\n",
        "#시각화\n",
        "import matplotlib.pyplot as plt\n",
        "import plotly.express as px\n",
        "import plotly.graph_objects as go\n",
        "import seaborn as sns\n",
        "\n",
        "#통계\n",
        "from scipy.stats import skew\n",
        "from scipy  import stats\n",
        "\n",
        "#데이터전처리\n",
        "from sklearn.preprocessing import OneHotEncoder\n",
        "\n",
        "#머신러닝 \n",
        "from sklearn.linear_model import LinearRegression, Ridge, Lasso\n",
        "from sklearn.model_selection import train_test_split\n",
        "from sklearn.metrics import mean_absolute_error\n",
        "from sklearn.model_selection import GridSearchCV\n",
        "\n",
        "#경고무시\n",
        "import warnings\n",
        "warnings.filterwarnings(\"ignore\")\n",
        "\n",
        "#폰트설정\n",
        "plt.rc('font', family='NanumBarunGothic') "
      ],
      "execution_count": 1,
      "outputs": []
    },
    {
      "cell_type": "code",
      "metadata": {
        "id": "75Fnd_qQQN6G"
      },
      "source": [
        "from sklearn.metrics import log_loss\n",
        "from sklearn.preprocessing import StandardScaler\n",
        "from category_encoders.ordinal import OrdinalEncoder\n",
        "from sklearn.model_selection import StratifiedKFold, KFold\n",
        "\n",
        "from sklearn.cluster import KMeans\n",
        "from catboost import CatBoostClassifier, Pool, CatBoostRegressor"
      ],
      "execution_count": 171,
      "outputs": []
    },
    {
      "cell_type": "code",
      "metadata": {
        "colab": {
          "base_uri": "https://localhost:8080/"
        },
        "id": "Hf8exqDl5uyH",
        "outputId": "fce68fe7-db89-4b9d-b5d7-c8968cf6a1f5"
      },
      "source": [
        "#mount google drive \n",
        "from google.colab import drive \n",
        "drive.mount('/content/drive/')"
      ],
      "execution_count": 3,
      "outputs": [
        {
          "output_type": "stream",
          "name": "stdout",
          "text": [
            "Drive already mounted at /content/drive/; to attempt to forcibly remount, call drive.mount(\"/content/drive/\", force_remount=True).\n"
          ]
        }
      ]
    },
    {
      "cell_type": "code",
      "metadata": {
        "id": "BRq7MuAr_14Y"
      },
      "source": [
        "train = pd.read_csv(\"/content/drive/My Drive/머신러닝_실전예제/Dacon_주차수요예측/data/train.csv\")"
      ],
      "execution_count": 361,
      "outputs": []
    },
    {
      "cell_type": "code",
      "metadata": {
        "id": "MTPZK6cE9izf"
      },
      "source": [
        "test = pd.read_csv(\"/content/drive/My Drive/머신러닝_실전예제/Dacon_주차수요예측/data/test.csv\")"
      ],
      "execution_count": 362,
      "outputs": []
    },
    {
      "cell_type": "code",
      "metadata": {
        "id": "sDodSij_wyyg"
      },
      "source": [
        "train.info()"
      ],
      "execution_count": null,
      "outputs": []
    },
    {
      "cell_type": "markdown",
      "metadata": {
        "id": "jkgwZ3n9LwIo"
      },
      "source": [
        "- train 데이터 -> 임대보증금, 임대료, 버스정류장 수 등 null값 존재"
      ]
    },
    {
      "cell_type": "code",
      "metadata": {
        "id": "mLfF-9KNwkAC"
      },
      "source": [
        "test.info()"
      ],
      "execution_count": null,
      "outputs": []
    },
    {
      "cell_type": "markdown",
      "metadata": {
        "id": "AJ9uZlspL6TQ"
      },
      "source": [
        "- test 데이터 -> 임대보증금, 임대료, 지하철 수  null값 존재"
      ]
    },
    {
      "cell_type": "markdown",
      "metadata": {
        "id": "iyh0_HF0Omev"
      },
      "source": [
        "### 어려운 컬럼 이름 간편하게 변경"
      ]
    },
    {
      "cell_type": "code",
      "metadata": {
        "id": "R3FYrcveOjkw"
      },
      "source": [
        "train.rename(columns={'도보 10분거리 내 지하철역 수(환승노선 수 반영)':'지하철', \\\n",
        "                      '도보 10분거리 내 버스정류장 수':'버스'}, inplace=True)"
      ],
      "execution_count": 7,
      "outputs": []
    },
    {
      "cell_type": "code",
      "metadata": {
        "id": "xAR1xXTSQCWG"
      },
      "source": [
        "test.rename(columns={'도보 10분거리 내 지하철역 수(환승노선 수 반영)':'지하철', \\\n",
        "                      '도보 10분거리 내 버스정류장 수':'버스'}, inplace=True)"
      ],
      "execution_count": 8,
      "outputs": []
    },
    {
      "cell_type": "markdown",
      "metadata": {
        "id": "hNwtgWsxOrcH"
      },
      "source": [
        "### 임대료, 임대보증금 int로 변환\n",
        "- 지역별로 평균을 내서 넣었으나 -1으로 넣은것과 예측이 크게 다르지 않음"
      ]
    },
    {
      "cell_type": "code",
      "metadata": {
        "id": "Fyhxe-E9Ok_O"
      },
      "source": [
        "train['임대료'] = train['임대료'].fillna(-1)\n",
        "train['임대보증금'] = train['임대보증금'].fillna(-1)"
      ],
      "execution_count": 508,
      "outputs": []
    },
    {
      "cell_type": "code",
      "metadata": {
        "id": "GPYtf2dDPI-Y"
      },
      "source": [
        "train['임대료'] = train['임대료'].replace('-', -1)\n",
        "train['임대보증금'] = train['임대보증금'].replace('-', -1)"
      ],
      "execution_count": 509,
      "outputs": []
    },
    {
      "cell_type": "code",
      "metadata": {
        "id": "ZHWCnJ8QPS1Y"
      },
      "source": [
        "test['임대료'] = test['임대료'].fillna(-1)\n",
        "test['임대보증금'] = test['임대보증금'].fillna(-1)"
      ],
      "execution_count": 510,
      "outputs": []
    },
    {
      "cell_type": "code",
      "metadata": {
        "id": "OkxvWx1KPS1Z"
      },
      "source": [
        "test['임대료'] = test['임대료'].replace('-', -1)\n",
        "test['임대보증금'] = test['임대보증금'].replace('-', -1)"
      ],
      "execution_count": 511,
      "outputs": []
    },
    {
      "cell_type": "code",
      "metadata": {
        "id": "7weSVTCIPXrx"
      },
      "source": [
        "train['임대료'] = train['임대료'].astype(int)\n",
        "train['임대보증금'] = train['임대보증금'].astype(int)"
      ],
      "execution_count": 512,
      "outputs": []
    },
    {
      "cell_type": "code",
      "metadata": {
        "id": "DNBQHhj-PXrx"
      },
      "source": [
        "test['임대료'] = test['임대료'].astype(int)\n",
        "test['임대보증금'] = test['임대보증금'].astype(int)"
      ],
      "execution_count": 513,
      "outputs": []
    },
    {
      "cell_type": "markdown",
      "metadata": {
        "id": "Gsi8G7FQxIU5"
      },
      "source": [
        "### 자격유형 null값 넣기\n",
        "- 동일한 단지내에 같은 유형으로 넣기"
      ]
    },
    {
      "cell_type": "code",
      "metadata": {
        "id": "XDnffKw26urF"
      },
      "source": [
        "test.iloc[196, 8] = 'A'"
      ],
      "execution_count": 515,
      "outputs": []
    },
    {
      "cell_type": "code",
      "metadata": {
        "id": "iv5_FtKI7KYB"
      },
      "source": [
        "test.iloc[258, 8] = 'C'"
      ],
      "execution_count": 516,
      "outputs": []
    },
    {
      "cell_type": "code",
      "metadata": {
        "id": "niy_3Q6c1Lvp"
      },
      "source": [
        "def apt_groupby_statistic(df, train=True):\n",
        "  \"\"\"\n",
        "  단지별 통계치와 아파트타입 생성\n",
        "  \"\"\"\n",
        "  def apart_type(x):\n",
        "    \"\"\"\n",
        "    전용면적별 아파트타입 분류 {초소형, 소형, 중형&대형}\n",
        "    \"\"\"\n",
        "    if x <= 40:\n",
        "      return '초소형'\n",
        "    elif 40 < x < 60:\n",
        "      return '소형'\n",
        "    else:\n",
        "      return '중형&대형'\n",
        "\n",
        "  df_apt = df[df.임대건물구분 == '아파트'].copy()\n",
        "  df_apt['아파트부지'] = df_apt['전용면적'] * df_apt['전용면적별세대수']\n",
        "  df_apt['아파트타입'] = df_apt['전용면적'].apply(apart_type)\n",
        "  df_apt['개수'] = 1\n",
        "\n",
        "  apart_type_temp = df_apt.groupby(['단지코드', '아파트타입'])['개수'].mean().unstack(1).fillna(0).reset_index()\n",
        "\n",
        "  if train:\n",
        "    apt_temp = df_apt.groupby('단지코드').agg({'총세대수':'mean', '전용면적':['max'], '아파트부지':'sum', '공가수':'mean', '임대보증금':['max'], '임대료':['max'], '단지내주차면수':'mean', '등록차량수':'mean'}).reset_index()\n",
        "    apt_temp.columns = ['단지코드', '총세대수', '아파트단지내최대전용면적', '아파트부지', '공가수', '아파트최대임대보증금', '아파트최대임대료', '단지내주차면수', '등록차량수']\n",
        "  else:\n",
        "    apt_temp = df_apt.groupby('단지코드').agg({'총세대수':'mean', '전용면적':['max'], '아파트부지':'sum', '공가수':'mean', '임대보증금':['max'], '임대료':['max'], '단지내주차면수':'mean'}).reset_index()\n",
        "    apt_temp.columns = ['단지코드', '총세대수', '아파트단지내최대전용면적', '아파트부지', '공가수', '아파트최대임대보증금', '아파트최대임대료', '단지내주차면수']\n",
        "\n",
        "\n",
        "  ### 통계치 + 아파트타입\n",
        "  temp = pd.merge(apt_temp, apart_type_temp)\n",
        "  return temp"
      ],
      "execution_count": 526,
      "outputs": []
    },
    {
      "cell_type": "code",
      "metadata": {
        "id": "siqVRx_4Quz4"
      },
      "source": [
        "def store_groupby_statistic(df):\n",
        "  df_store = df[df.임대건물구분 == '상가'].copy()\n",
        "  df_store['상가부지'] = df_store['전용면적'] * df_store['전용면적별세대수']\n",
        "\n",
        "\n",
        "  store_temp = df_store.groupby('단지코드').agg({'전용면적':['max'], '상가부지':'sum', '임대보증금':['max'], '임대료':['max']}).reset_index()\n",
        "  store_temp.columns = ['단지코드', '상가단지내최대전용면적', '상가부지', '상가최대임대보증금', '상가최대임대료']\n",
        "  return store_temp"
      ],
      "execution_count": 527,
      "outputs": []
    },
    {
      "cell_type": "code",
      "metadata": {
        "id": "WXFHRCeq3zC6"
      },
      "source": [
        "train_apt_store = pd.merge(apt_groupby_statistic(train_copy), store_groupby_statistic(train_copy), how='left', on='단지코드')\n",
        "test_apt_store = pd.merge(apt_groupby_statistic(test_copy,False), store_groupby_statistic(test_copy), how='left', on='단지코드')"
      ],
      "execution_count": 528,
      "outputs": []
    },
    {
      "cell_type": "code",
      "metadata": {
        "id": "XwOJWde5_Idt"
      },
      "source": [
        "train_apt_store = train_apt_store.fillna(0)\n",
        "test_apt_store = test_apt_store.fillna(0)"
      ],
      "execution_count": 529,
      "outputs": []
    },
    {
      "cell_type": "code",
      "metadata": {
        "id": "Of1p-nlJ34B9"
      },
      "source": [
        "train_apt_store['아파트주거비율'] = train_apt_store['아파트부지'] / (train_apt_store['아파트부지'] + train_apt_store['상가부지'])\n",
        "test_apt_store['아파트주거비율'] = test_apt_store['아파트부지'] / (test_apt_store['아파트부지'] + test_apt_store['상가부지'])"
      ],
      "execution_count": 530,
      "outputs": []
    },
    {
      "cell_type": "markdown",
      "metadata": {
        "id": "pcadLTwHxjUi"
      },
      "source": [
        "### 지역컬럼 넣기"
      ]
    },
    {
      "cell_type": "code",
      "metadata": {
        "id": "rpVYXm01QQ7R"
      },
      "source": [
        "train_apt_store['지역'] = train_copy.sort_values('단지코드').drop_duplicates('단지코드', keep='first').지역.reset_index(drop=True)"
      ],
      "execution_count": 553,
      "outputs": []
    },
    {
      "cell_type": "code",
      "metadata": {
        "id": "nli_4XcLUpmu"
      },
      "source": [
        "test_apt_store['지역'] = test_copy.sort_values('단지코드').drop_duplicates('단지코드', keep='first').지역.reset_index(drop=True)"
      ],
      "execution_count": 556,
      "outputs": []
    },
    {
      "cell_type": "code",
      "metadata": {
        "colab": {
          "base_uri": "https://localhost:8080/"
        },
        "id": "cI5BJ9YBqVeV",
        "outputId": "a7f1e6ba-4d4a-473e-e5a3-03c5121a8782"
      },
      "source": [
        "set(test_final.columns) - set(train_final.columns)\n",
        "set(train_final.columns) - set(test_final.columns)"
      ],
      "execution_count": 555,
      "outputs": [
        {
          "output_type": "execute_result",
          "data": {
            "text/plain": [
              "{'등록차량수'}"
            ]
          },
          "metadata": {},
          "execution_count": 555
        }
      ]
    },
    {
      "cell_type": "markdown",
      "metadata": {
        "id": "sT0u81XexqhR"
      },
      "source": [
        "### 데이터분할 및 인코딩"
      ]
    },
    {
      "cell_type": "code",
      "metadata": {
        "id": "sCpz4Pol_2eK"
      },
      "source": [
        "X = train_apt_store.drop(['단지코드', '등록차량수'], axis=1)\n",
        "y = train_apt_store['등록차량수']"
      ],
      "execution_count": 557,
      "outputs": []
    },
    {
      "cell_type": "code",
      "metadata": {
        "id": "cSzHQBDGAAs2"
      },
      "source": [
        "test_co = test_apt_store.drop(['단지코드'], axis=1)"
      ],
      "execution_count": 558,
      "outputs": []
    },
    {
      "cell_type": "code",
      "metadata": {
        "id": "TSLDO3yO7K8n"
      },
      "source": [
        "categorical_feats = X.dtypes[X.dtypes == 'object'].index"
      ],
      "execution_count": 559,
      "outputs": []
    },
    {
      "cell_type": "code",
      "metadata": {
        "id": "jQZbZfPo8EPD"
      },
      "source": [
        "features_index = X.dtypes[X.dtypes != 'object'].index"
      ],
      "execution_count": 560,
      "outputs": []
    },
    {
      "cell_type": "code",
      "metadata": {
        "id": "qVg8wFnQQkWx"
      },
      "source": [
        "encoder = OrdinalEncoder(categorical_feats)\n",
        "X[categorical_feats] = encoder.fit_transform(X[categorical_feats], y)\n",
        "test_co[categorical_feats] = encoder.transform(test_co[categorical_feats])"
      ],
      "execution_count": 561,
      "outputs": []
    },
    {
      "cell_type": "markdown",
      "metadata": {
        "id": "WSNU3Zhxt-TO"
      },
      "source": [
        "### 모델링"
      ]
    },
    {
      "cell_type": "code",
      "metadata": {
        "id": "J-uh88qNuWlo"
      },
      "source": [
        "n_est = 4000\n",
        "seed = 42\n",
        "n_fold = 20\n",
        "n_class = 1\n",
        "\n",
        "target = '등록차량수'\n",
        "X_test = test_co.copy()"
      ],
      "execution_count": 562,
      "outputs": []
    },
    {
      "cell_type": "code",
      "metadata": {
        "id": "XIZznIXvMT_W"
      },
      "source": [
        "skfold = KFold(n_splits=n_fold, shuffle=True, random_state=seed)\n",
        "folds=[]\n",
        "for train_idx, valid_idx in skfold.split(X, y):\n",
        "        folds.append((train_idx, valid_idx))\n",
        "\n",
        "cat_pred = np.zeros(X.shape[0])\n",
        "cat_pred_test = np.zeros(X_test.shape[0])\n",
        "cat_cols = categorical_feats.tolist()\n",
        "\n",
        "for fold in range(n_fold):\n",
        "  print(f'\\n----------------- Fold {fold} -----------------\\n')\n",
        "  train_idx, valid_idx = folds[fold]\n",
        "  X_train, X_valid, y_train, y_valid = X.iloc[train_idx], X.iloc[valid_idx], y[train_idx], y[valid_idx]\n",
        "  train_data = Pool(data=X_train, label=y_train, cat_features=cat_cols)\n",
        "  valid_data = Pool(data=X_valid, label=y_valid, cat_features=cat_cols)\n",
        "\n",
        "  model_cat = CatBoostRegressor()\n",
        "  model_cat.fit(train_data, eval_set=valid_data, use_best_model=True, early_stopping_rounds=100, verbose=100)\n",
        "  \n",
        "  cat_pred[valid_idx] = model_cat.predict(X_valid)\n",
        "  cat_pred_test += model_cat.predict(X_test) / n_fold\n",
        "  print(f'CV MAE Score: {mean_absolute_error(y_valid, cat_pred[valid_idx]):.6f}')\n",
        "    \n",
        "print(f'\\t MAE: {mean_absolute_error(y, cat_pred):.6f}')"
      ],
      "execution_count": null,
      "outputs": []
    },
    {
      "cell_type": "code",
      "metadata": {
        "id": "Y4HrKXJrjnNr"
      },
      "source": [
        "data = pd.read_csv(\"/content/drive/My Drive/머신러닝_실전예제/Dacon_주차수요예측/result/result17.csv\")"
      ],
      "execution_count": 493,
      "outputs": []
    },
    {
      "cell_type": "code",
      "metadata": {
        "id": "vOM4utul76uA"
      },
      "source": [
        "sub = pd.read_csv(\"/content/drive/My Drive/머신러닝_실전예제/Dacon_주차수요예측/data/sample_submission.csv\")"
      ],
      "execution_count": 494,
      "outputs": []
    },
    {
      "cell_type": "code",
      "metadata": {
        "id": "QN4_8aV_V0b_"
      },
      "source": [
        "result = pd.DataFrame(cat_pred_test)"
      ],
      "execution_count": 495,
      "outputs": []
    },
    {
      "cell_type": "code",
      "metadata": {
        "id": "4SlYvPTpZcEu"
      },
      "source": [
        "result['단지코드'] = test_final['단지코드']"
      ],
      "execution_count": 496,
      "outputs": []
    },
    {
      "cell_type": "code",
      "metadata": {
        "id": "1nuoY1cjZgn2"
      },
      "source": [
        "result = result.groupby('단지코드').mean().reset_index()\n",
        "result.columns = ['code', 'num']"
      ],
      "execution_count": 497,
      "outputs": []
    },
    {
      "cell_type": "code",
      "metadata": {
        "id": "8rd9iCOvaODv"
      },
      "source": [
        "sorter = sub['code']"
      ],
      "execution_count": 498,
      "outputs": []
    },
    {
      "cell_type": "code",
      "metadata": {
        "id": "ohrIFwVRaODv"
      },
      "source": [
        "sorterIndex = dict(zip(sorter, range(len(sorter))))"
      ],
      "execution_count": 499,
      "outputs": []
    },
    {
      "cell_type": "code",
      "metadata": {
        "id": "SDThzoenWwH3"
      },
      "source": [
        "result['Rank'] = result['code'].map(sorterIndex)"
      ],
      "execution_count": 500,
      "outputs": []
    },
    {
      "cell_type": "code",
      "metadata": {
        "id": "6oZqzXYU-fK6"
      },
      "source": [
        "result.sort_values('Rank', inplace=True)"
      ],
      "execution_count": 501,
      "outputs": []
    },
    {
      "cell_type": "code",
      "metadata": {
        "id": "ioeo9aRkacEe"
      },
      "source": [
        "sub = result.iloc[:, :-1].reset_index(drop=True)"
      ],
      "execution_count": 502,
      "outputs": []
    },
    {
      "cell_type": "code",
      "metadata": {
        "colab": {
          "base_uri": "https://localhost:8080/",
          "height": 408
        },
        "id": "CJkFJ16T-Uvg",
        "outputId": "2ee11312-7201-426e-f611-01bd0f9dc992"
      },
      "source": [
        "sub"
      ],
      "execution_count": 503,
      "outputs": [
        {
          "output_type": "execute_result",
          "data": {
            "text/html": [
              "<div>\n",
              "<style scoped>\n",
              "    .dataframe tbody tr th:only-of-type {\n",
              "        vertical-align: middle;\n",
              "    }\n",
              "\n",
              "    .dataframe tbody tr th {\n",
              "        vertical-align: top;\n",
              "    }\n",
              "\n",
              "    .dataframe thead th {\n",
              "        text-align: right;\n",
              "    }\n",
              "</style>\n",
              "<table border=\"1\" class=\"dataframe\">\n",
              "  <thead>\n",
              "    <tr style=\"text-align: right;\">\n",
              "      <th></th>\n",
              "      <th>code</th>\n",
              "      <th>num</th>\n",
              "    </tr>\n",
              "  </thead>\n",
              "  <tbody>\n",
              "    <tr>\n",
              "      <th>0</th>\n",
              "      <td>C1072</td>\n",
              "      <td>763.058499</td>\n",
              "    </tr>\n",
              "    <tr>\n",
              "      <th>1</th>\n",
              "      <td>C1128</td>\n",
              "      <td>1312.739899</td>\n",
              "    </tr>\n",
              "    <tr>\n",
              "      <th>2</th>\n",
              "      <td>C1456</td>\n",
              "      <td>613.406169</td>\n",
              "    </tr>\n",
              "    <tr>\n",
              "      <th>3</th>\n",
              "      <td>C1840</td>\n",
              "      <td>520.452340</td>\n",
              "    </tr>\n",
              "    <tr>\n",
              "      <th>4</th>\n",
              "      <td>C1332</td>\n",
              "      <td>1260.232359</td>\n",
              "    </tr>\n",
              "    <tr>\n",
              "      <th>...</th>\n",
              "      <td>...</td>\n",
              "      <td>...</td>\n",
              "    </tr>\n",
              "    <tr>\n",
              "      <th>145</th>\n",
              "      <td>C2456</td>\n",
              "      <td>255.863843</td>\n",
              "    </tr>\n",
              "    <tr>\n",
              "      <th>146</th>\n",
              "      <td>C1266</td>\n",
              "      <td>483.417171</td>\n",
              "    </tr>\n",
              "    <tr>\n",
              "      <th>147</th>\n",
              "      <td>C2152</td>\n",
              "      <td>102.586238</td>\n",
              "    </tr>\n",
              "    <tr>\n",
              "      <th>148</th>\n",
              "      <td>C1267</td>\n",
              "      <td>429.471366</td>\n",
              "    </tr>\n",
              "    <tr>\n",
              "      <th>149</th>\n",
              "      <td>C2189</td>\n",
              "      <td>240.808767</td>\n",
              "    </tr>\n",
              "  </tbody>\n",
              "</table>\n",
              "<p>150 rows × 2 columns</p>\n",
              "</div>"
            ],
            "text/plain": [
              "      code          num\n",
              "0    C1072   763.058499\n",
              "1    C1128  1312.739899\n",
              "2    C1456   613.406169\n",
              "3    C1840   520.452340\n",
              "4    C1332  1260.232359\n",
              "..     ...          ...\n",
              "145  C2456   255.863843\n",
              "146  C1266   483.417171\n",
              "147  C2152   102.586238\n",
              "148  C1267   429.471366\n",
              "149  C2189   240.808767\n",
              "\n",
              "[150 rows x 2 columns]"
            ]
          },
          "metadata": {},
          "execution_count": 503
        }
      ]
    },
    {
      "cell_type": "code",
      "metadata": {
        "id": "Q4_Ed5PUax9O"
      },
      "source": [
        "import os\n",
        "path = \"/content/drive/My Drive/머신러닝_실전예제/Dacon_주차수요예측/result/\"\n",
        "file_list = os.listdir(path)\n",
        "file_list_csv = [file for file in file_list if file.endswith(\".csv\")]\n",
        "num = len(file_list_csv) + 1"
      ],
      "execution_count": 504,
      "outputs": []
    },
    {
      "cell_type": "code",
      "metadata": {
        "id": "583kd7DpbBbG"
      },
      "source": [
        "sub.to_csv(path + \"result\" + str(num) + \".csv\", index=False)"
      ],
      "execution_count": 505,
      "outputs": []
    }
  ]
}