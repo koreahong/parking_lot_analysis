{
  "nbformat": 4,
  "nbformat_minor": 0,
  "metadata": {
    "colab": {
      "name": "주차수요예측.ipynb",
      "provenance": [],
      "collapsed_sections": [],
      "authorship_tag": "ABX9TyMCBPb14EmcDXNhRJYSxYAN",
      "include_colab_link": true
    },
    "kernelspec": {
      "name": "python3",
      "display_name": "Python 3"
    },
    "language_info": {
      "name": "python"
    }
  },
  "cells": [
    {
      "cell_type": "markdown",
      "metadata": {
        "id": "view-in-github",
        "colab_type": "text"
      },
      "source": [
        "<a href=\"https://colab.research.google.com/github/koreahong/parking_lot_analysis/blob/main/%EC%A3%BC%EC%B0%A8%EC%88%98%EC%9A%94%EC%98%88%EC%B8%A1.ipynb\" target=\"_parent\"><img src=\"https://colab.research.google.com/assets/colab-badge.svg\" alt=\"Open In Colab\"/></a>"
      ]
    },
    {
      "cell_type": "code",
      "metadata": {
        "id": "T10BDyL4cl27"
      },
      "source": [
        "#download pont\n",
        "!sudo apt-get install -y fonts-nanum\n",
        "!sudo fc-cache -fv\n",
        "!rm ~/.cache/matplotlib -rf"
      ],
      "execution_count": null,
      "outputs": []
    },
    {
      "cell_type": "code",
      "metadata": {
        "id": "sZlgseiX_37q"
      },
      "source": [
        "import pandas as pd\n",
        "import numpy as np\n",
        "\n",
        "#시각화\n",
        "import matplotlib.pyplot as plt\n",
        "import plotly.express as px\n",
        "import plotly.graph_objects as go\n",
        "import seaborn as sns\n",
        "\n",
        "#통계\n",
        "from scipy.stats import skew\n",
        "\n",
        "#데이터전처리\n",
        "from sklearn.preprocessing import OneHotEncoder\n",
        "\n",
        "#머신러닝 \n",
        "from sklearn.linear_model import LinearRegression, Ridge, Lasso\n",
        "from sklearn.model_selection import train_test_split\n",
        "from sklearn.metrics import mean_absolute_error\n",
        "from sklearn.model_selection import GridSearchCV\n",
        "\n",
        "#경고무시\n",
        "import warnings\n",
        "warnings.filterwarnings(\"ignore\")\n",
        "\n",
        "#폰트설정\n",
        "plt.rc('font', family='NanumBarunGothic') \n",
        "\n"
      ],
      "execution_count": 22,
      "outputs": []
    },
    {
      "cell_type": "markdown",
      "metadata": {
        "id": "hoD7tvfG_uFd"
      },
      "source": [
        "#데이터 수집\n",
        "\n",
        "- 구글 드라이브 연동 후 알집 풀기\n"
      ]
    },
    {
      "cell_type": "code",
      "metadata": {
        "colab": {
          "base_uri": "https://localhost:8080/"
        },
        "id": "Hf8exqDl5uyH",
        "outputId": "8f41fbf6-06c9-4633-ee49-0cd23398f339"
      },
      "source": [
        "#mount google drive \n",
        "from google.colab import drive \n",
        "drive.mount('/content/drive/')"
      ],
      "execution_count": 23,
      "outputs": [
        {
          "output_type": "stream",
          "name": "stdout",
          "text": [
            "Drive already mounted at /content/drive/; to attempt to forcibly remount, call drive.mount(\"/content/drive/\", force_remount=True).\n"
          ]
        }
      ]
    },
    {
      "cell_type": "code",
      "metadata": {
        "id": "nzG21tWd7pIT",
        "colab": {
          "base_uri": "https://localhost:8080/"
        },
        "outputId": "7d12f7a3-bd2d-4ab6-9780-7deba1e51bd8"
      },
      "source": [
        "#path setting, you must use '%' command\n",
        "%cd \"/content/drive/My Drive/머신러닝_실전예제/Dacon_주차수요예측/data/\"\n",
        "#unzip\n",
        "!unzip -qq \"/content/drive/MyDrive/머신러닝_실전예제/Dacon_주차수요예측/data/parking_data.zip\""
      ],
      "execution_count": 24,
      "outputs": [
        {
          "output_type": "stream",
          "name": "stdout",
          "text": [
            "/content/drive/MyDrive/머신러닝_실전예제/Dacon_주차수요예측\n"
          ]
        }
      ]
    },
    {
      "cell_type": "code",
      "metadata": {
        "id": "BRq7MuAr_14Y"
      },
      "source": [
        "raw_train = pd.read_csv(\"/content/drive/My Drive/머신러닝_실전예제/Dacon_주차수요예측/data/train.csv\")"
      ],
      "execution_count": 299,
      "outputs": []
    },
    {
      "cell_type": "code",
      "metadata": {
        "id": "MTPZK6cE9izf"
      },
      "source": [
        "raw_test = pd.read_csv(\"/content/drive/My Drive/머신러닝_실전예제/Dacon_주차수요예측/data/test.csv\")"
      ],
      "execution_count": 300,
      "outputs": []
    },
    {
      "cell_type": "code",
      "metadata": {
        "id": "xGC2rFcqALcB"
      },
      "source": [
        "raw_train.head()"
      ],
      "execution_count": null,
      "outputs": []
    },
    {
      "cell_type": "code",
      "metadata": {
        "id": "qm5QmyoLA-sL"
      },
      "source": [
        "raw_train.info()"
      ],
      "execution_count": null,
      "outputs": []
    },
    {
      "cell_type": "code",
      "metadata": {
        "id": "gw3BdjVGBPfs"
      },
      "source": [
        "raw_test.info()"
      ],
      "execution_count": null,
      "outputs": []
    },
    {
      "cell_type": "code",
      "metadata": {
        "id": "mxl9OuGTANW2"
      },
      "source": [
        "age_info = pd.read_csv(\"/content/drive/My Drive/머신러닝_실전예제/Dacon_주차수요예측/age_gender_info.csv\")"
      ],
      "execution_count": null,
      "outputs": []
    },
    {
      "cell_type": "code",
      "metadata": {
        "id": "dtvxWe5EAhyu"
      },
      "source": [
        "age_info.head()"
      ],
      "execution_count": null,
      "outputs": []
    },
    {
      "cell_type": "code",
      "metadata": {
        "id": "E_fDyO6PBYho"
      },
      "source": [
        "age_info.info()"
      ],
      "execution_count": null,
      "outputs": []
    },
    {
      "cell_type": "markdown",
      "metadata": {
        "id": "j0I1hrixA1s2"
      },
      "source": [
        "# 데이터 전처리"
      ]
    },
    {
      "cell_type": "markdown",
      "metadata": {
        "id": "gnUutcb4Bli2"
      },
      "source": [
        "## null 값처리"
      ]
    },
    {
      "cell_type": "code",
      "metadata": {
        "id": "ASxRIv6uA6aZ"
      },
      "source": [
        "for col in raw_train.columns:\n",
        "  print(f\"{col} : {raw_train[col].unique()}\")"
      ],
      "execution_count": null,
      "outputs": []
    },
    {
      "cell_type": "markdown",
      "metadata": {
        "id": "f1zpuo58C3Lb"
      },
      "source": [
        "- 값을 확인해보니 해당 데이터파일의 널값 표시는 '-'로 지정하는 것으로 확인됨"
      ]
    },
    {
      "cell_type": "code",
      "metadata": {
        "id": "jwCduVpJB5B0"
      },
      "source": [
        "#'-' or null값 파악\n",
        "for col in raw_train.columns:\n",
        "  print(f\"{col} \\t '-' 개수: {len( raw_train[(raw_train[col] == '-')])} \\\n",
        "        null 개수: {len(raw_train[raw_train[col].isnull()])} \\\n",
        "        정상값: {len(raw_train[(raw_train[col] != '-') & (raw_train[col].notnull())])} \\n \\\n",
        "        합계: {len( raw_train[(raw_train[col] == '-')]) + len(raw_train[raw_train[col].isnull()]) + len(raw_train[(raw_train[col] != '-') & (raw_train[col].notnull())])}\")"
      ],
      "execution_count": null,
      "outputs": []
    },
    {
      "cell_type": "markdown",
      "metadata": {
        "id": "OYT3ZPNBEs_q"
      },
      "source": [
        "- 위 작업을 통해서 '-' 값과 null값을 처리하면 된다는 것을 파악함"
      ]
    },
    {
      "cell_type": "code",
      "metadata": {
        "id": "bUM3EMYvEsVf"
      },
      "source": [
        "#같은 프로세스로 raw_test 확인\n",
        "#'-' or null값 파악\n",
        "for col in raw_test.columns:\n",
        "  print(f\"{col} \\t '-' 개수: {len( raw_test[(raw_test[col] == '-')])} \\\n",
        "        null 개수: {len(raw_test[raw_test[col].isnull()])} \\\n",
        "        정상값: {len(raw_test[(raw_test[col] != '-') & (raw_test[col].notnull())])} \\n \\\n",
        "        합계: {len( raw_test[(raw_test[col] == '-')]) + len(raw_test[raw_test[col].isnull()]) + len(raw_test[(raw_test[col] != '-') & (raw_test[col].notnull())])}\")"
      ],
      "execution_count": null,
      "outputs": []
    },
    {
      "cell_type": "markdown",
      "metadata": {
        "id": "xlHJlagYGrIb"
      },
      "source": [
        "- raw_test도 train과 같이 '-'와 null만 처리하면 됨\n",
        "- train, test 전체적으로 '-'가 있는 컬럼은 '임대보증금', '임대료'\n",
        "- train, test 전체적으로 null이 있는 컬럼은 '임대보증금', '임대료', '도보 10분거리 내 버스정류장 수' 이다\n"
      ]
    },
    {
      "cell_type": "markdown",
      "metadata": {
        "id": "hEDZEI8omuNP"
      },
      "source": [
        "### 임대보증금, 임대료 처리"
      ]
    },
    {
      "cell_type": "code",
      "metadata": {
        "id": "x-cC9iWJDVMe"
      },
      "source": [
        "#'-'가 있는 '임대보증금', '임대료' 컬럼부터 확인\n",
        "raw_train[raw_train['임대보증금'] == '-'].head()"
      ],
      "execution_count": null,
      "outputs": []
    },
    {
      "cell_type": "code",
      "metadata": {
        "id": "niSQknPGH-3p"
      },
      "source": [
        "raw_train[raw_train['임대료'] == '-'].head()"
      ],
      "execution_count": null,
      "outputs": []
    },
    {
      "cell_type": "markdown",
      "metadata": {
        "id": "-SDBmexdNbh0"
      },
      "source": [
        "- 임대료가 없는 곳에는 임대보증금이 없음\n",
        "- null값 처리를 위해서 임대보증금과 임대료의 상관관계 확인이 필요"
      ]
    },
    {
      "cell_type": "code",
      "metadata": {
        "id": "kJIEdLg7I-xG"
      },
      "source": [
        "#공급유형별로 상관관계 확인\n",
        "for supply_type in raw_train['공급유형'].unique():\n",
        "  supply_type_check = raw_train[(raw_train['공급유형'] == supply_type) & (raw_train['임대료'] != '-') & \\\n",
        "                (raw_train['임대보증금'] != '-')& (raw_train['임대료'].notnull()) & \\\n",
        "                (raw_train['임대보증금'].notnull())][['등록차량수', '임대보증금', '임대료']] \\\n",
        "                .drop_duplicates(['등록차량수', '임대보증금', '임대료'], keep='first').astype(int)\n",
        "  print(f\"row개수 / {supply_type} : {len(supply_type_check)}\")\n",
        "  print(f\"상관관계 / {supply_type} : {supply_type_check.corr()}\")"
      ],
      "execution_count": null,
      "outputs": []
    },
    {
      "cell_type": "markdown",
      "metadata": {
        "id": "GIAi6yfjsQ1Q"
      },
      "source": [
        "- 공급유형별 임대료,임대"
      ]
    },
    {
      "cell_type": "code",
      "metadata": {
        "id": "pGDXK3swZ_VB"
      },
      "source": [
        "#공급유형별 임대료, 임대보증금 시각화\n",
        "supply_type_check = raw_train[(raw_train['임대료'] != '-') & \\\n",
        "                (raw_train['임대보증금'] != '-')& (raw_train['임대료'].notnull()) & \\\n",
        "                (raw_train['임대보증금'].notnull())][['공급유형', '임대보증금', '임대료']] \\\n",
        "                .drop_duplicates(['공급유형', '임대보증금', '임대료'], keep='first').astype({'임대보증금': 'int', '임대료': 'int'})\n",
        "\n",
        "fig = go.Figure()\n",
        "fig = px.scatter(supply_type_check, x= '임대료', y= '임대보증금', color = '공급유형',\\\n",
        "                            color_discrete_sequence=px.colors.qualitative.Alphabet)\n",
        "fig.update_layout(title='공급유형별 임대료, 임대보증금 분포') #autosize =, width = 1000, height = 500)"
      ],
      "execution_count": null,
      "outputs": []
    },
    {
      "cell_type": "markdown",
      "metadata": {
        "id": "sMxWEKiNf5pJ"
      },
      "source": [
        "- 임대상가, 장기전세, 공공분양 등은 null값이 아닌 정상적인 row가 없음  \n",
        "- 상관관계또한 \n",
        "위와 같은 이유로 평균이나 중앙값을 넣기에는 리스크가 있음 -> 해당 컬럼 삭제  "
      ]
    },
    {
      "cell_type": "markdown",
      "metadata": {
        "id": "JwkjjDW3twLh"
      },
      "source": [
        "### 자격유형 처리"
      ]
    },
    {
      "cell_type": "code",
      "metadata": {
        "colab": {
          "base_uri": "https://localhost:8080/",
          "height": 66
        },
        "id": "En1HmNBVYYS1",
        "outputId": "15c84d6f-729b-4b35-f64b-31d7152571d9"
      },
      "source": [
        "#test에 자격유형 null값 처리\n",
        "raw_test[raw_test['자격유형'] == '-'] #없음"
      ],
      "execution_count": null,
      "outputs": [
        {
          "output_type": "execute_result",
          "data": {
            "text/html": [
              "<div>\n",
              "<style scoped>\n",
              "    .dataframe tbody tr th:only-of-type {\n",
              "        vertical-align: middle;\n",
              "    }\n",
              "\n",
              "    .dataframe tbody tr th {\n",
              "        vertical-align: top;\n",
              "    }\n",
              "\n",
              "    .dataframe thead th {\n",
              "        text-align: right;\n",
              "    }\n",
              "</style>\n",
              "<table border=\"1\" class=\"dataframe\">\n",
              "  <thead>\n",
              "    <tr style=\"text-align: right;\">\n",
              "      <th></th>\n",
              "      <th>단지코드</th>\n",
              "      <th>총세대수</th>\n",
              "      <th>임대건물구분</th>\n",
              "      <th>지역</th>\n",
              "      <th>공급유형</th>\n",
              "      <th>전용면적</th>\n",
              "      <th>전용면적별세대수</th>\n",
              "      <th>공가수</th>\n",
              "      <th>자격유형</th>\n",
              "      <th>임대보증금</th>\n",
              "      <th>임대료</th>\n",
              "      <th>도보 10분거리 내 지하철역 수(환승노선 수 반영)</th>\n",
              "      <th>도보 10분거리 내 버스정류장 수</th>\n",
              "      <th>단지내주차면수</th>\n",
              "    </tr>\n",
              "  </thead>\n",
              "  <tbody>\n",
              "  </tbody>\n",
              "</table>\n",
              "</div>"
            ],
            "text/plain": [
              "Empty DataFrame\n",
              "Columns: [단지코드, 총세대수, 임대건물구분, 지역, 공급유형, 전용면적, 전용면적별세대수, 공가수, 자격유형, 임대보증금, 임대료, 도보 10분거리 내 지하철역 수(환승노선 수 반영), 도보 10분거리 내 버스정류장 수, 단지내주차면수]\n",
              "Index: []"
            ]
          },
          "metadata": {},
          "execution_count": 32
        }
      ]
    },
    {
      "cell_type": "code",
      "metadata": {
        "colab": {
          "base_uri": "https://localhost:8080/",
          "height": 162
        },
        "id": "Q042ldYcYvnY",
        "outputId": "4e782ba8-f97f-4c6a-e7dc-4e0a1ac6a51e"
      },
      "source": [
        "#test에 자격유형 null값 처리\n",
        "raw_test[raw_test['자격유형'].isnull()] #C2411과 C2253 null값임"
      ],
      "execution_count": null,
      "outputs": [
        {
          "output_type": "execute_result",
          "data": {
            "text/html": [
              "<div>\n",
              "<style scoped>\n",
              "    .dataframe tbody tr th:only-of-type {\n",
              "        vertical-align: middle;\n",
              "    }\n",
              "\n",
              "    .dataframe tbody tr th {\n",
              "        vertical-align: top;\n",
              "    }\n",
              "\n",
              "    .dataframe thead th {\n",
              "        text-align: right;\n",
              "    }\n",
              "</style>\n",
              "<table border=\"1\" class=\"dataframe\">\n",
              "  <thead>\n",
              "    <tr style=\"text-align: right;\">\n",
              "      <th></th>\n",
              "      <th>단지코드</th>\n",
              "      <th>총세대수</th>\n",
              "      <th>임대건물구분</th>\n",
              "      <th>지역</th>\n",
              "      <th>공급유형</th>\n",
              "      <th>전용면적</th>\n",
              "      <th>전용면적별세대수</th>\n",
              "      <th>공가수</th>\n",
              "      <th>자격유형</th>\n",
              "      <th>임대보증금</th>\n",
              "      <th>임대료</th>\n",
              "      <th>도보 10분거리 내 지하철역 수(환승노선 수 반영)</th>\n",
              "      <th>도보 10분거리 내 버스정류장 수</th>\n",
              "      <th>단지내주차면수</th>\n",
              "    </tr>\n",
              "  </thead>\n",
              "  <tbody>\n",
              "    <tr>\n",
              "      <th>196</th>\n",
              "      <td>C2411</td>\n",
              "      <td>962</td>\n",
              "      <td>아파트</td>\n",
              "      <td>경상남도</td>\n",
              "      <td>국민임대</td>\n",
              "      <td>46.90</td>\n",
              "      <td>240</td>\n",
              "      <td>25.0</td>\n",
              "      <td>NaN</td>\n",
              "      <td>71950000</td>\n",
              "      <td>37470</td>\n",
              "      <td>0.0</td>\n",
              "      <td>2.0</td>\n",
              "      <td>840.0</td>\n",
              "    </tr>\n",
              "    <tr>\n",
              "      <th>258</th>\n",
              "      <td>C2253</td>\n",
              "      <td>1161</td>\n",
              "      <td>아파트</td>\n",
              "      <td>강원도</td>\n",
              "      <td>영구임대</td>\n",
              "      <td>26.37</td>\n",
              "      <td>745</td>\n",
              "      <td>0.0</td>\n",
              "      <td>NaN</td>\n",
              "      <td>2249000</td>\n",
              "      <td>44770</td>\n",
              "      <td>0.0</td>\n",
              "      <td>2.0</td>\n",
              "      <td>173.0</td>\n",
              "    </tr>\n",
              "  </tbody>\n",
              "</table>\n",
              "</div>"
            ],
            "text/plain": [
              "      단지코드  총세대수  ... 도보 10분거리 내 버스정류장 수 단지내주차면수\n",
              "196  C2411   962  ...                2.0   840.0\n",
              "258  C2253  1161  ...                2.0   173.0\n",
              "\n",
              "[2 rows x 14 columns]"
            ]
          },
          "metadata": {},
          "execution_count": 33
        }
      ]
    },
    {
      "cell_type": "code",
      "metadata": {
        "id": "0dth4gvLY3_V"
      },
      "source": [
        "raw_test[(raw_test['단지코드'] == 'C2411') | (raw_test['단지코드'] == 'C2253')] "
      ],
      "execution_count": null,
      "outputs": []
    },
    {
      "cell_type": "markdown",
      "metadata": {
        "id": "5yA2DbsiZOBW"
      },
      "source": [
        "- 해당 같은 코드의 자격유형을 그대로 넣으면 된다는 것을 판단됨"
      ]
    },
    {
      "cell_type": "code",
      "metadata": {
        "id": "5O2uMwPbZUea"
      },
      "source": [
        "raw_test.loc[raw_test.단지코드.isin(['C2411']) & raw_test.자격유형.isnull(), '자격유형'] = 'A'\n",
        "raw_test.loc[raw_test.단지코드.isin(['C2253']) & raw_test.자격유형.isnull(), '자격유형'] = 'C'"
      ],
      "execution_count": 301,
      "outputs": []
    },
    {
      "cell_type": "markdown",
      "metadata": {
        "id": "AdA0Qt1Njlq1"
      },
      "source": [
        "### 버스 정류장 및 지하철 수 처리"
      ]
    },
    {
      "cell_type": "code",
      "metadata": {
        "colab": {
          "base_uri": "https://localhost:8080/"
        },
        "id": "jGc-GMj9h-XO",
        "outputId": "05e8638c-e3a7-4c50-a4a7-5ad865eccba1"
      },
      "source": [
        "#도보 10분거리 내 버스정류장 수 null값 처리\n",
        "raw_train['도보 10분거리 내 버스정류장 수'].unique()"
      ],
      "execution_count": 296,
      "outputs": [
        {
          "output_type": "execute_result",
          "data": {
            "text/plain": [
              "array([ 3.        ,  1.        ,  2.        ,  6.        , 10.        ,\n",
              "        5.        ,  4.        ,  7.        , 12.        , 14.        ,\n",
              "        8.        ,  0.        , 20.        , 11.        , 16.        ,\n",
              "       15.        ,  3.69572592, 19.        ])"
            ]
          },
          "metadata": {},
          "execution_count": 296
        }
      ]
    },
    {
      "cell_type": "code",
      "metadata": {
        "colab": {
          "base_uri": "https://localhost:8080/"
        },
        "id": "R-vAxS13jskw",
        "outputId": "e2f3b445-76a6-43dc-8649-61f04ca17a80"
      },
      "source": [
        "raw_test['도보 10분거리 내 버스정류장 수'].unique()"
      ],
      "execution_count": 297,
      "outputs": [
        {
          "output_type": "execute_result",
          "data": {
            "text/plain": [
              "array([ 2.        ,  3.        , 16.        ,  6.        ,  1.        ,\n",
              "        4.        ,  5.        ,  8.        , 10.        , 13.        ,\n",
              "        7.        , 11.        ,  4.62622309, 12.        , 14.        ,\n",
              "       18.        , 15.        , 19.        , 17.        ])"
            ]
          },
          "metadata": {},
          "execution_count": 297
        }
      ]
    },
    {
      "cell_type": "markdown",
      "metadata": {
        "id": "4pR5jPBrjvyh"
      },
      "source": [
        "- null값은 평균처리\n",
        "- 50은 너무 뜬금없고 현실적으로 불가능할 것으로 판단하여 평균값 처리"
      ]
    },
    {
      "cell_type": "code",
      "metadata": {
        "id": "oNzTmBxUkZpI"
      },
      "source": [
        "raw_train['도보 10분거리 내 버스정류장 수'] = raw_train['도보 10분거리 내 버스정류장 수'].fillna(raw_train['도보 10분거리 내 버스정류장 수'].mean())\n",
        "raw_test.loc[raw_test['도보 10분거리 내 버스정류장 수'] == 50, '도보 10분거리 내 버스정류장 수'] = raw_test['도보 10분거리 내 버스정류장 수'].mean()"
      ],
      "execution_count": 302,
      "outputs": []
    },
    {
      "cell_type": "code",
      "metadata": {
        "id": "nuohzTHPkEmt"
      },
      "source": [
        "#지하철 null값 0개 처리\n",
        "raw_train['도보 10분거리 내 지하철역 수(환승노선 수 반영)'] = raw_train['도보 10분거리 내 지하철역 수(환승노선 수 반영)'].fillna(0)\n",
        "raw_test['도보 10분거리 내 지하철역 수(환승노선 수 반영)'] = raw_test['도보 10분거리 내 지하철역 수(환승노선 수 반영)'].fillna(0)"
      ],
      "execution_count": 303,
      "outputs": []
    },
    {
      "cell_type": "markdown",
      "metadata": {
        "id": "XT9mniJDlanp"
      },
      "source": [
        "## 전용면적 단계화"
      ]
    },
    {
      "cell_type": "code",
      "metadata": {
        "id": "wQfDiTz7lfBL"
      },
      "source": [
        "raw_train['전용면적'] = raw_train['전용면적']//2*2  \n",
        "raw_test['전용면적'] = raw_test['전용면적']//2*2"
      ],
      "execution_count": 304,
      "outputs": []
    },
    {
      "cell_type": "markdown",
      "metadata": {
        "id": "MK52wwRndx99"
      },
      "source": [
        "## 총세대수, 전용면적별세대수, 단지내주차면수"
      ]
    },
    {
      "cell_type": "markdown",
      "metadata": {
        "id": "RBZbBka0d9Kc"
      },
      "source": [
        "- 위 칼럼들은 중복되는데 일단 진행하고 추후 확인"
      ]
    },
    {
      "cell_type": "markdown",
      "metadata": {
        "id": "RoXsWxcmllm7"
      },
      "source": [
        "## 중복된 의미의 컬럼 삭제"
      ]
    },
    {
      "cell_type": "code",
      "metadata": {
        "id": "E4KpGO_dPiWO"
      },
      "source": [
        "#자격유형, 공급유형 확인\n",
        "raw_train[['자격유형', '공급유형']].groupby(['자격유형', '공급유형']).count()"
      ],
      "execution_count": null,
      "outputs": []
    },
    {
      "cell_type": "markdown",
      "metadata": {
        "id": "-Tpq8-csosjb"
      },
      "source": [
        "- 자격유형과 공급유형은 다르다는 것을 확인할 수 있음"
      ]
    },
    {
      "cell_type": "code",
      "metadata": {
        "id": "lcgF_Nx5lx2I"
      },
      "source": [
        "fig = go.Figure()\n",
        "fig = px.histogram(raw_train, x= '등록차량수', color = '공급유형',\\\n",
        "                            color_discrete_sequence=px.colors.qualitative.Alphabet)\n",
        "fig.update_layout(title='자격유형별 차량수 분포') #autosize =, width = 1000, height = 500)"
      ],
      "execution_count": null,
      "outputs": []
    },
    {
      "cell_type": "markdown",
      "metadata": {
        "id": "MZn89OL0m3qM"
      },
      "source": [
        "## 파생변수, 변수변환 생성"
      ]
    },
    {
      "cell_type": "code",
      "metadata": {
        "id": "kEhW2sqaqJ_s"
      },
      "source": [
        "raw_train.head(30)"
      ],
      "execution_count": null,
      "outputs": []
    },
    {
      "cell_type": "code",
      "metadata": {
        "id": "G2k97Kfhm7PW"
      },
      "source": [
        "# 등록차량수, 단지내주차면수를 전용면적별세대수 비율에 맞추기\n",
        "raw_train['등록차량수'] = raw_train['등록차량수'] * raw_train['전용면적별세대수'].div(raw_train.groupby('단지코드')['전용면적별세대수'].transform(lambda x: x.sum()))\n",
        "raw_train['단지내주차면수'] = raw_train['단지내주차면수'] * raw_train['전용면적별세대수'].div(raw_train.groupby('단지코드')['전용면적별세대수'].transform(lambda x: x.sum()))"
      ],
      "execution_count": 305,
      "outputs": []
    },
    {
      "cell_type": "code",
      "metadata": {
        "id": "9kx2nF5T8vIB"
      },
      "source": [
        "# 등록차량수, 단지내주차면수를 전용면적별세대수 비율에 맞추기\n",
        "raw_test['단지내주차면수'] = raw_test['단지내주차면수'] * raw_test['전용면적별세대수'].div(raw_test.groupby('단지코드')['전용면적별세대수'].transform(lambda x: x.sum()))"
      ],
      "execution_count": 306,
      "outputs": []
    },
    {
      "cell_type": "markdown",
      "metadata": {
        "id": "j4IpDhVNYNdP"
      },
      "source": [
        "## 원핫 인코딩"
      ]
    },
    {
      "cell_type": "code",
      "metadata": {
        "id": "9UgnBGe1yaQn"
      },
      "source": [
        "features_index = raw_train.dtypes[raw_train.dtypes == 'object'].index[1:-2]"
      ],
      "execution_count": 307,
      "outputs": []
    },
    {
      "cell_type": "code",
      "metadata": {
        "id": "oWMrL8CPhhoJ"
      },
      "source": [
        "#원핫인코딩\n",
        "ohe = OneHotEncoder(sparse=False, handle_unknown='ignore').fit(raw_train[features_index])"
      ],
      "execution_count": 308,
      "outputs": []
    },
    {
      "cell_type": "code",
      "metadata": {
        "id": "zAB2LTOmh_Bo"
      },
      "source": [
        "raw_train_ohe = pd.DataFrame(ohe.transform(raw_train[features_index]), columns=ohe.get_feature_names()).reset_index(drop=True)"
      ],
      "execution_count": 309,
      "outputs": []
    },
    {
      "cell_type": "code",
      "metadata": {
        "id": "gHvafd51yvY7"
      },
      "source": [
        "raw_train_ohe['단지코드'] = raw_train['단지코드'].sort_values()"
      ],
      "execution_count": 310,
      "outputs": []
    },
    {
      "cell_type": "code",
      "metadata": {
        "id": "nlNq2CkCzj1n"
      },
      "source": [
        "raw_train_ohe_sum = raw_train_ohe.drop_duplicates().groupby(['단지코드']).sum().reset_index()"
      ],
      "execution_count": 311,
      "outputs": []
    },
    {
      "cell_type": "code",
      "metadata": {
        "id": "X35JLnjKu4-y"
      },
      "source": [
        "for col in ohe.get_feature_names():\n",
        "  raw_train_ohe_sum[col] = raw_train_ohe_sum[col].apply(lambda x: 1 if x > 0 else 0)"
      ],
      "execution_count": 312,
      "outputs": []
    },
    {
      "cell_type": "code",
      "metadata": {
        "id": "KgNFiH8Nlnvv"
      },
      "source": [
        "raw_test_ohe = pd.DataFrame(ohe.transform(raw_test[features_index]), columns=ohe.get_feature_names()).reset_index(drop=True)"
      ],
      "execution_count": 313,
      "outputs": []
    },
    {
      "cell_type": "code",
      "metadata": {
        "id": "A3FlhYjy9yCb"
      },
      "source": [
        "raw_test_ohe['단지코드'] = raw_test['단지코드'].sort_values()"
      ],
      "execution_count": 314,
      "outputs": []
    },
    {
      "cell_type": "code",
      "metadata": {
        "id": "lBSu8eHT9yCb"
      },
      "source": [
        "raw_test_ohe_sum = raw_test_ohe.drop_duplicates().groupby(['단지코드']).sum().reset_index()"
      ],
      "execution_count": 315,
      "outputs": []
    },
    {
      "cell_type": "code",
      "metadata": {
        "id": "Jw-uRWjYvdx5"
      },
      "source": [
        "for col in ohe.get_feature_names():\n",
        "  raw_test_ohe_sum[col] = raw_test_ohe_sum[col].apply(lambda x: 1 if x > 0 else 0)"
      ],
      "execution_count": 316,
      "outputs": []
    },
    {
      "cell_type": "markdown",
      "metadata": {
        "id": "vs1AlYJmuf16"
      },
      "source": [
        "## 데이터 그룹화\n",
        "- 코드와 공급유형, 잔격유형 별로 데이터집계"
      ]
    },
    {
      "cell_type": "code",
      "metadata": {
        "id": "qRmjI7ATvfFk"
      },
      "source": [
        "features_index_unobject = raw_train.dtypes[raw_train.dtypes != 'object'].index"
      ],
      "execution_count": 317,
      "outputs": []
    },
    {
      "cell_type": "code",
      "metadata": {
        "id": "pZqXu4ua_QCt"
      },
      "source": [
        "raw_train_agg = raw_train.groupby(['단지코드'])[features_index_unobject]\\\n",
        ".agg({'총세대수':'mean', \"전용면적\": 'sum','전용면적별세대수': 'sum', '공가수': 'mean', '도보 10분거리 내 지하철역 수(환승노선 수 반영)': 'mean',\\\n",
        "      '도보 10분거리 내 버스정류장 수': 'mean', '단지내주차면수': 'sum', '등록차량수':'sum'}).reset_index()"
      ],
      "execution_count": 319,
      "outputs": []
    },
    {
      "cell_type": "code",
      "metadata": {
        "id": "RBo4EvAW0eSD"
      },
      "source": [
        "new_train = pd.merge(raw_train_ohe_sum, raw_train_agg, on='단지코드', how='inner')"
      ],
      "execution_count": 320,
      "outputs": []
    },
    {
      "cell_type": "code",
      "metadata": {
        "id": "28KuG1Oa-QW-"
      },
      "source": [
        "raw_test_agg = raw_test.groupby(['단지코드'])[[col for col in features_index_unobject if col != '등록차량수']]\\\n",
        ".agg({'총세대수':'mean', \"전용면적\": 'sum','전용면적별세대수': 'sum', '공가수': 'mean', '도보 10분거리 내 지하철역 수(환승노선 수 반영)': 'mean',\\\n",
        "      '도보 10분거리 내 버스정류장 수': 'mean', '단지내주차면수': 'sum'}).reset_index()"
      ],
      "execution_count": 321,
      "outputs": []
    },
    {
      "cell_type": "code",
      "metadata": {
        "id": "O9IRaON9-QW-"
      },
      "source": [
        "new_test = pd.merge(raw_test_ohe_sum, raw_test_agg, on='단지코드', how='inner')"
      ],
      "execution_count": 322,
      "outputs": []
    },
    {
      "cell_type": "markdown",
      "metadata": {
        "id": "QYHqyfLaWyET"
      },
      "source": [
        "## 왜곡 확인"
      ]
    },
    {
      "cell_type": "code",
      "metadata": {
        "colab": {
          "base_uri": "https://localhost:8080/",
          "height": 282
        },
        "id": "WP3cYkP7o3LM",
        "outputId": "d19197af-271f-4a93-e693-9efe31659ad1"
      },
      "source": [
        "#target(등록차량수) 분포확인\n",
        "#분포를 확인하는 것은 타겟변수가 정상적인 데이터라는 것, 정규분포를 띨때 정확도가 올라감\n",
        "new_train['등록차량수'].hist()"
      ],
      "execution_count": 323,
      "outputs": [
        {
          "output_type": "execute_result",
          "data": {
            "text/plain": [
              "<matplotlib.axes._subplots.AxesSubplot at 0x7f012e04ba10>"
            ]
          },
          "metadata": {},
          "execution_count": 323
        },
        {
          "output_type": "display_data",
          "data": {
            "image/png": "[encoded data removed]",
            "text/plain": [
              "<Figure size 432x288 with 1 Axes>"
            ]
          },
          "metadata": {
            "needs_background": "light"
          }
        }
      ]
    },
    {
      "cell_type": "code",
      "metadata": {
        "id": "TBCH4TbSqrRn",
        "colab": {
          "base_uri": "https://localhost:8080/",
          "height": 282
        },
        "outputId": "0b41df0b-8a81-450a-964b-cf4f3b94ba55"
      },
      "source": [
        "np.log1p(new_train['등록차량수']).hist()"
      ],
      "execution_count": 324,
      "outputs": [
        {
          "output_type": "execute_result",
          "data": {
            "text/plain": [
              "<matplotlib.axes._subplots.AxesSubplot at 0x7f012db6bd50>"
            ]
          },
          "metadata": {},
          "execution_count": 324
        },
        {
          "output_type": "display_data",
          "data": {
            "image/png": "[encoded data removed]",
            "text/plain": [
              "<Figure size 432x288 with 1 Axes>"
            ]
          },
          "metadata": {
            "needs_background": "light"
          }
        }
      ]
    },
    {
      "cell_type": "markdown",
      "metadata": {
        "id": "gsLJP0nyV_HK"
      },
      "source": [
        "- 로그변환후 타겟변수가 더 정규분포에 가까워진것을 확인할 수 있음  \n",
        "  따라서 타겟변수에 로그변환을 적용\n",
        "  나머지 변수에도 동일하게 적용"
      ]
    },
    {
      "cell_type": "code",
      "metadata": {
        "id": "ytJBJfk7WakR",
        "colab": {
          "base_uri": "https://localhost:8080/"
        },
        "outputId": "9bc00650-9cca-4d7b-9c5d-ae58ac197596"
      },
      "source": [
        "#타겟변수 이후의 것도 확인 - train\n",
        "skew_features = new_train[features_index_unobject].apply(lambda x: skew(x))\n",
        "skew_features_top = skew_features[skew_features > 1]\n",
        "print(skew_features_top.sort_values(ascending=False))"
      ],
      "execution_count": 325,
      "outputs": [
        {
          "output_type": "stream",
          "name": "stdout",
          "text": [
            "전용면적                            4.113837\n",
            "도보 10분거리 내 지하철역 수(환승노선 수 반영)    3.563665\n",
            "도보 10분거리 내 버스정류장 수              2.789813\n",
            "등록차량수                           1.361853\n",
            "총세대수                            1.344617\n",
            "전용면적별세대수                        1.336908\n",
            "dtype: float64\n"
          ]
        }
      ]
    },
    {
      "cell_type": "code",
      "metadata": {
        "id": "rXDxI8MKbGly",
        "colab": {
          "base_uri": "https://localhost:8080/"
        },
        "outputId": "12fe1587-f68b-4310-e227-99b205df5b27"
      },
      "source": [
        "# 타겟변수 이후의 것도 확인 - test\n",
        "skew_features = new_test[[col for col in features_index_unobject if col != '등록차량수']].apply(lambda x: skew(x))\n",
        "skew_features_top = skew_features[skew_features > 1]\n",
        "print(skew_features_top.sort_values(ascending=False))"
      ],
      "execution_count": 326,
      "outputs": [
        {
          "output_type": "stream",
          "name": "stdout",
          "text": [
            "전용면적                            4.528783\n",
            "도보 10분거리 내 지하철역 수(환승노선 수 반영)    4.037509\n",
            "도보 10분거리 내 버스정류장 수              2.165797\n",
            "총세대수                            1.246403\n",
            "전용면적별세대수                        1.245272\n",
            "dtype: float64\n"
          ]
        }
      ]
    },
    {
      "cell_type": "markdown",
      "metadata": {
        "id": "-XDaS0wHXnna"
      },
      "source": [
        "- 보통 1이상의 왜곡이 있을때 높다고 판단, 1이상인 컬럼에 대해서 로그처리 진행"
      ]
    },
    {
      "cell_type": "code",
      "metadata": {
        "id": "52ofSjPEXfhm"
      },
      "source": [
        "new_train[features_index_unobject] = np.log1p(new_train[features_index_unobject])\n",
        "new_test[[col for col in features_index_unobject if col != '등록차량수']] = np.log1p(new_test[[col for col in features_index_unobject if col != '등록차량수']])"
      ],
      "execution_count": 327,
      "outputs": []
    },
    {
      "cell_type": "markdown",
      "metadata": {
        "id": "KEMB5O6Nbvs4"
      },
      "source": [
        "- train 데이터에서는 변환하지 않았던 도보 컬럼이 추가됨 train도 적용"
      ]
    },
    {
      "cell_type": "code",
      "metadata": {
        "id": "23xul8vg3xUn"
      },
      "source": [
        "new_train.drop('단지코드', axis=1, inplace=True)"
      ],
      "execution_count": 328,
      "outputs": []
    },
    {
      "cell_type": "code",
      "metadata": {
        "id": "5CfmqEZ1AQzv"
      },
      "source": [
        "new_test.drop('단지코드', axis=1, inplace=True)"
      ],
      "execution_count": 329,
      "outputs": []
    },
    {
      "cell_type": "markdown",
      "metadata": {
        "id": "xuLWx1Mnf5Im"
      },
      "source": [
        "## 데이터 분할"
      ]
    },
    {
      "cell_type": "code",
      "metadata": {
        "id": "09Fnmexwf9iQ"
      },
      "source": [
        "y_target = new_train.등록차량수\n",
        "X_features = new_train.drop('등록차량수', axis=1, inplace=False)\n",
        "X_train, X_test, y_train, y_test = train_test_split(X_features, y_target, test_size = 0.2, random_state=1001)\n",
        "\n",
        "ridge_params = {'alpha' : [0.05, 0.1, 1, 5, 8, 10, 12, 15, 20]}\n",
        "lasso_params = {'alpha' : [0.001, 0.005, 0.008, 0.05, 0.03, 0.1, 0.5, 1, 5, 10]} "
      ],
      "execution_count": 330,
      "outputs": []
    },
    {
      "cell_type": "markdown",
      "metadata": {
        "id": "QBFWxsnFgUhs"
      },
      "source": [
        "# 모델 생성"
      ]
    },
    {
      "cell_type": "code",
      "metadata": {
        "id": "vKVUp4MCgTxs"
      },
      "source": [
        "def get_mae(model):\n",
        "    pred = model.predict(X_test)\n",
        "    mae = mean_absolute_error(y_test , pred)\n",
        "    return mae\n",
        "\n",
        "def get_maes(models):\n",
        "    maes = [ ]\n",
        "    for model in models:\n",
        "        mae = get_mae(model)\n",
        "        maes.append(mae)\n",
        "    return maes"
      ],
      "execution_count": 331,
      "outputs": []
    },
    {
      "cell_type": "code",
      "metadata": {
        "id": "31mYhcMkheS8",
        "colab": {
          "base_uri": "https://localhost:8080/"
        },
        "outputId": "f3a14a79-58d6-4002-f30a-c522daa49d7d"
      },
      "source": [
        "# LinearRegression, Ridge, Lasso 학습, 예측, 평가\n",
        "lr_reg = LinearRegression()\n",
        "lr_reg.fit(X_train, y_train)\n",
        "\n",
        "ridge_reg = Ridge()\n",
        "ridge_reg.fit(X_train, y_train)\n",
        "\n",
        "lasso_reg = Lasso()\n",
        "lasso_reg.fit(X_train, y_train)\n",
        "\n",
        "models = [lr_reg, ridge_reg, lasso_reg]\n",
        "get_maes(models)"
      ],
      "execution_count": 332,
      "outputs": [
        {
          "output_type": "execute_result",
          "data": {
            "text/plain": [
              "[0.2293007790025757, 0.22322737567237605, 0.48601338122043636]"
            ]
          },
          "metadata": {},
          "execution_count": 332
        }
      ]
    },
    {
      "cell_type": "code",
      "metadata": {
        "id": "kiulb-6YhnRw"
      },
      "source": [
        "def get_top_bottom_coef(model):\n",
        "    # coef_ 속성을 기반으로 Series 객체를 생성. index는 컬럼명. \n",
        "    coef = pd.Series(model.coef_, index=X_features.columns)\n",
        "    \n",
        "    # + 상위 10개 , - 하위 10개 coefficient 추출하여 반환.\n",
        "    coef_high = coef.sort_values(ascending=False).head(10)\n",
        "    coef_low = coef.sort_values(ascending=False).tail(10)\n",
        "    return coef_high, coef_low"
      ],
      "execution_count": 333,
      "outputs": []
    },
    {
      "cell_type": "code",
      "metadata": {
        "id": "4anRSkSg4bb1"
      },
      "source": [
        "def visualize_coefficient(models):\n",
        "    # 3개 회귀 모델의 시각화를 위해 3개의 컬럼을 가지는 subplot 생성\n",
        "    fig, axs = plt.subplots(figsize=(24,10),nrows=1, ncols=3)\n",
        "    fig.tight_layout() \n",
        "    # 입력인자로 받은 list객체인 models에서 차례로 model을 추출하여 회귀 계수 시각화. \n",
        "    for i_num, model in enumerate(models):\n",
        "        # 상위 10개, 하위 10개 회귀 계수를 구하고, 이를 판다스 concat으로 결합. \n",
        "        coef_high, coef_low = get_top_bottom_coef(model)\n",
        "        coef_concat = pd.concat( [coef_high , coef_low] )\n",
        "        # 순차적으로 ax subplot에 barchar로 표현. 한 화면에 표현하기 위해 tick label 위치와 font 크기 조정. \n",
        "        axs[i_num].set_title(model.__class__.__name__+' Coeffiecents', size=25)\n",
        "        axs[i_num].tick_params(axis=\"y\",direction=\"in\", pad=-120)\n",
        "        for label in (axs[i_num].get_xticklabels() + axs[i_num].get_yticklabels()):\n",
        "            label.set_fontsize(22)\n",
        "        sns.barplot(x=coef_concat.values, y=coef_concat.index , ax=axs[i_num])\n",
        "\n",
        "# 앞 예제에서 학습한 lr_reg, ridge_reg, lasso_reg 모델의 회귀 계수 시각화.    \n",
        "models = [lr_reg, ridge_reg, lasso_reg]\n",
        "# visualize_coefficient(models)"
      ],
      "execution_count": 334,
      "outputs": []
    },
    {
      "cell_type": "code",
      "metadata": {
        "colab": {
          "base_uri": "https://localhost:8080/"
        },
        "id": "MJHIYGQm4fVu",
        "outputId": "e94289de-5eff-407a-fd01-4763c4b8eb07"
      },
      "source": [
        "def get_best_params(model, params):\n",
        "    grid_model = GridSearchCV(model, param_grid=params, \n",
        "                              scoring='neg_mean_squared_error', cv=5)\n",
        "    grid_model.fit(X_features, y_target)\n",
        "    mae = -1 * grid_model.best_score_\n",
        "    print('{0} 5 CV 시 최적 평균 MAE 값: {1}, 최적 alpha:{2}'.format(model.__class__.__name__,\n",
        "                                        np.round(mae, 4), grid_model.best_params_))\n",
        "    return grid_model.best_estimator_\n",
        "\n",
        "ridge_params = { 'alpha':[0.05, 0.1, 1, 5, 8, 10, 12, 15, 20] }\n",
        "lasso_params = { 'alpha':[0.001, 0.005, 0.008, 0.05, 0.03, 0.1, 0.5, 1,5, 10] }\n",
        "best_rige = get_best_params(ridge_reg, ridge_params)\n",
        "best_lasso = get_best_params(lasso_reg, lasso_params)"
      ],
      "execution_count": 335,
      "outputs": [
        {
          "output_type": "stream",
          "name": "stdout",
          "text": [
            "Ridge 5 CV 시 최적 평균 MAE 값: 0.121, 최적 alpha:{'alpha': 8}\n",
            "Lasso 5 CV 시 최적 평균 MAE 값: 0.1223, 최적 alpha:{'alpha': 0.005}\n"
          ]
        }
      ]
    },
    {
      "cell_type": "code",
      "metadata": {
        "id": "LQ9q6j_g7S4A"
      },
      "source": [
        "def evaluate_regr(model, y):\n",
        "    # MSE 는 scikit learn의 mean_absolute_error() 로 계산\n",
        "    pred = model.predict(X_test)\n",
        "    mse_val = mean_absolute_error(y,pred)\n",
        "    print('MAE: {0:.3F}'.format(mse_val))"
      ],
      "execution_count": 336,
      "outputs": []
    },
    {
      "cell_type": "code",
      "metadata": {
        "colab": {
          "base_uri": "https://localhost:8080/"
        },
        "id": "1OQfFl7b5CCJ",
        "outputId": "3a859c36-fbdb-4727-e79b-f455aa49c78d"
      },
      "source": [
        "evaluate_regr(best_rige, y_test)"
      ],
      "execution_count": 337,
      "outputs": [
        {
          "output_type": "stream",
          "name": "stdout",
          "text": [
            "MAE: 0.200\n"
          ]
        }
      ]
    },
    {
      "cell_type": "markdown",
      "metadata": {
        "id": "lgJLvFfXzcjH"
      },
      "source": [
        "# 결과처리"
      ]
    },
    {
      "cell_type": "code",
      "metadata": {
        "id": "UpczqLasnaS4"
      },
      "source": [
        "result = pd.DataFrame()\n",
        "result['code'] = raw_test['단지코드'].drop_duplicates(keep='first').sort_values().reset_index(drop=True)\n",
        "result['num'] = np.exp(best_rige.predict(new_test))\n",
        "result['Rank'] = result['code'].map(sorterIndex)"
      ],
      "execution_count": 344,
      "outputs": []
    },
    {
      "cell_type": "code",
      "metadata": {
        "id": "SuF2LPLdsF2n"
      },
      "source": [
        "sub_ex = pd.read_csv(\"/content/drive/My Drive/머신러닝_실전예제/Dacon_주차수요예측/data/sample_submission.csv\")"
      ],
      "execution_count": 292,
      "outputs": []
    },
    {
      "cell_type": "code",
      "metadata": {
        "colab": {
          "base_uri": "https://localhost:8080/",
          "height": 203
        },
        "id": "2hFUHem6q3TT",
        "outputId": "1ca00473-a86c-4be4-f649-77b67405a4c4"
      },
      "source": [
        "result.sort_values('Rank').head()"
      ],
      "execution_count": 345,
      "outputs": [
        {
          "output_type": "execute_result",
          "data": {
            "text/html": [
              "<div>\n",
              "<style scoped>\n",
              "    .dataframe tbody tr th:only-of-type {\n",
              "        vertical-align: middle;\n",
              "    }\n",
              "\n",
              "    .dataframe tbody tr th {\n",
              "        vertical-align: top;\n",
              "    }\n",
              "\n",
              "    .dataframe thead th {\n",
              "        text-align: right;\n",
              "    }\n",
              "</style>\n",
              "<table border=\"1\" class=\"dataframe\">\n",
              "  <thead>\n",
              "    <tr style=\"text-align: right;\">\n",
              "      <th></th>\n",
              "      <th>code</th>\n",
              "      <th>num</th>\n",
              "      <th>Rank</th>\n",
              "    </tr>\n",
              "  </thead>\n",
              "  <tbody>\n",
              "    <tr>\n",
              "      <th>10</th>\n",
              "      <td>C1072</td>\n",
              "      <td>743.479903</td>\n",
              "      <td>0</td>\n",
              "    </tr>\n",
              "    <tr>\n",
              "      <th>13</th>\n",
              "      <td>C1128</td>\n",
              "      <td>1281.918928</td>\n",
              "      <td>1</td>\n",
              "    </tr>\n",
              "    <tr>\n",
              "      <th>44</th>\n",
              "      <td>C1456</td>\n",
              "      <td>496.607600</td>\n",
              "      <td>2</td>\n",
              "    </tr>\n",
              "    <tr>\n",
              "      <th>83</th>\n",
              "      <td>C1840</td>\n",
              "      <td>496.347192</td>\n",
              "      <td>3</td>\n",
              "    </tr>\n",
              "    <tr>\n",
              "      <th>38</th>\n",
              "      <td>C1332</td>\n",
              "      <td>960.537965</td>\n",
              "      <td>4</td>\n",
              "    </tr>\n",
              "  </tbody>\n",
              "</table>\n",
              "</div>"
            ],
            "text/plain": [
              "     code          num  Rank\n",
              "10  C1072   743.479903     0\n",
              "13  C1128  1281.918928     1\n",
              "44  C1456   496.607600     2\n",
              "83  C1840   496.347192     3\n",
              "38  C1332   960.537965     4"
            ]
          },
          "metadata": {},
          "execution_count": 345
        }
      ]
    },
    {
      "cell_type": "code",
      "metadata": {
        "id": "eBVsLLWHyE1d"
      },
      "source": [
        "result = result.sort_values('Rank')"
      ],
      "execution_count": 346,
      "outputs": []
    },
    {
      "cell_type": "code",
      "metadata": {
        "id": "iifcZqR0x1QR"
      },
      "source": [
        "result.drop('Rank', axis=1, inplace=True)"
      ],
      "execution_count": 347,
      "outputs": []
    },
    {
      "cell_type": "code",
      "metadata": {
        "id": "qdYSv0v3pluW"
      },
      "source": [
        "result.to_csv(\"/content/drive/My Drive/머신러닝_실전예제/Dacon_주차수요예측/data/submission.csv\", index=False)"
      ],
      "execution_count": 348,
      "outputs": []
    }
  ]
}