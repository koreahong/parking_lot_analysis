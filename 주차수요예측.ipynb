{
  "nbformat": 4,
  "nbformat_minor": 0,
  "metadata": {
    "colab": {
      "name": "주차수요예측.ipynb",
      "provenance": [],
      "collapsed_sections": [],
      "authorship_tag": "ABX9TyNwiu24mAPKn0HqpajaBY3Y",
      "include_colab_link": true
    },
    "kernelspec": {
      "name": "python3",
      "display_name": "Python 3"
    },
    "language_info": {
      "name": "python"
    }
  },
  "cells": [
    {
      "cell_type": "markdown",
      "metadata": {
        "id": "view-in-github",
        "colab_type": "text"
      },
      "source": [
        "<a href=\"https://colab.research.google.com/github/koreahong/parking_lot_analysis/blob/main/%EC%A3%BC%EC%B0%A8%EC%88%98%EC%9A%94%EC%98%88%EC%B8%A1.ipynb\" target=\"_parent\"><img src=\"https://colab.research.google.com/assets/colab-badge.svg\" alt=\"Open In Colab\"/></a>"
      ]
    },
    {
      "cell_type": "markdown",
      "metadata": {
        "id": "OJMt1cDQfrFG"
      },
      "source": [
        "정리\n",
        "\n",
        "**one hot encoding - data leakage**\n",
        "- 상황(what)\n",
        "  - 앞으로 무엇이 올지 모르는 test데이터에 대해서 어떻게 one hot encoding 을 진행할 것인가\n",
        "- 문제점(why)\n",
        "  - 대회처럼 test와 train이 구분되어져 있는 경우에는 당장 모델이 쓸모 있는 것처럼 보이나, 실질적으로 `test와 train을 합쳐서 원핫인코딩을 진행하는 경우는 data leakage`이다. 그 이유는 미래에, 앞으로 올 데이터는 이제까지 없던 데이터가 올 수 있는데 도메인 명확하게 고정되지 않는 이상 합쳐서 진행하면 안됨.\n",
        "- 해결책(how)\n",
        "  - sklearn 데이터인코딩 진행시 unknown 설정을 하면, 해당 row는 모두 0으로 처리됨.\n",
        "\n",
        "\n"
      ]
    },
    {
      "cell_type": "code",
      "metadata": {
        "id": "T10BDyL4cl27"
      },
      "source": [
        "#download pont\n",
        "!sudo apt-get install -y fonts-nanum\n",
        "!sudo fc-cache -fv\n",
        "!rm ~/.cache/matplotlib -rf"
      ],
      "execution_count": null,
      "outputs": []
    },
    {
      "cell_type": "code",
      "metadata": {
        "id": "sZlgseiX_37q"
      },
      "source": [
        "import pandas as pd\n",
        "import numpy as np\n",
        "\n",
        "#시각화\n",
        "import matplotlib.pyplot as plt\n",
        "import plotly.express as px\n",
        "import plotly.graph_objects as go\n",
        "import seaborn as sns\n",
        "\n",
        "#통계\n",
        "from scipy.stats import skew\n",
        "\n",
        "#데이터전처리\n",
        "from sklearn.preprocessing import OneHotEncoder\n",
        "\n",
        "#머신러닝 \n",
        "from sklearn.linear_model import LinearRegression, Ridge, Lasso\n",
        "from sklearn.model_selection import train_test_split\n",
        "from sklearn.metrics import mean_absolute_error\n",
        "\n",
        "#경고무시\n",
        "import warnings\n",
        "warnings.filterwarnings(\"ignore\")\n",
        "\n",
        "#폰트설정\n",
        "plt.rc('font', family='NanumBarunGothic') \n",
        "\n"
      ],
      "execution_count": null,
      "outputs": []
    },
    {
      "cell_type": "markdown",
      "metadata": {
        "id": "hoD7tvfG_uFd"
      },
      "source": [
        "#데이터 수집\n",
        "\n",
        "- 구글 드라이브 연동 후 알집 풀기\n",
        "- [컬럼설명](https://dacon.io/competitions/official/235745/data)"
      ]
    },
    {
      "cell_type": "code",
      "metadata": {
        "colab": {
          "base_uri": "https://localhost:8080/"
        },
        "id": "Hf8exqDl5uyH",
        "outputId": "f3f21d64-97f9-4483-f2b6-f3199854c4e5"
      },
      "source": [
        "#mount google drive \n",
        "from google.colab import drive \n",
        "drive.mount('/content/drive/')"
      ],
      "execution_count": null,
      "outputs": [
        {
          "output_type": "stream",
          "name": "stdout",
          "text": [
            "Mounted at /content/drive/\n"
          ]
        }
      ]
    },
    {
      "cell_type": "code",
      "metadata": {
        "id": "nzG21tWd7pIT"
      },
      "source": [
        "#path setting, you must use '%' command\n",
        "%cd \"/content/drive/My Drive/머신러닝_실전예제/Dacon_주차수요예측/\"\n",
        "#unzip\n",
        "!unzip -qq \"/content/drive/MyDrive/머신러닝_실전예제/Dacon_주차수요예측/parking_data.zip\""
      ],
      "execution_count": null,
      "outputs": []
    },
    {
      "cell_type": "code",
      "metadata": {
        "id": "BRq7MuAr_14Y"
      },
      "source": [
        "raw_train = pd.read_csv(\"/content/drive/My Drive/머신러닝_실전예제/Dacon_주차수요예측/train.csv\")"
      ],
      "execution_count": null,
      "outputs": []
    },
    {
      "cell_type": "code",
      "metadata": {
        "id": "MTPZK6cE9izf"
      },
      "source": [
        "raw_test = pd.read_csv(\"/content/drive/My Drive/머신러닝_실전예제/Dacon_주차수요예측/test.csv\")"
      ],
      "execution_count": null,
      "outputs": []
    },
    {
      "cell_type": "code",
      "metadata": {
        "id": "xGC2rFcqALcB"
      },
      "source": [
        "raw_train.head()"
      ],
      "execution_count": null,
      "outputs": []
    },
    {
      "cell_type": "code",
      "metadata": {
        "id": "qm5QmyoLA-sL"
      },
      "source": [
        "raw_train.info()"
      ],
      "execution_count": null,
      "outputs": []
    },
    {
      "cell_type": "code",
      "metadata": {
        "id": "gw3BdjVGBPfs"
      },
      "source": [
        "raw_test.info()"
      ],
      "execution_count": null,
      "outputs": []
    },
    {
      "cell_type": "code",
      "metadata": {
        "id": "mxl9OuGTANW2"
      },
      "source": [
        "age_info = pd.read_csv(\"/content/drive/My Drive/머신러닝_실전예제/Dacon_주차수요예측/age_gender_info.csv\")"
      ],
      "execution_count": null,
      "outputs": []
    },
    {
      "cell_type": "code",
      "metadata": {
        "id": "dtvxWe5EAhyu"
      },
      "source": [
        "age_info.head()"
      ],
      "execution_count": null,
      "outputs": []
    },
    {
      "cell_type": "code",
      "metadata": {
        "id": "E_fDyO6PBYho"
      },
      "source": [
        "age_info.info()"
      ],
      "execution_count": null,
      "outputs": []
    },
    {
      "cell_type": "markdown",
      "metadata": {
        "id": "j0I1hrixA1s2"
      },
      "source": [
        "# 데이터 전처리"
      ]
    },
    {
      "cell_type": "markdown",
      "metadata": {
        "id": "gnUutcb4Bli2"
      },
      "source": [
        "## null 값처리"
      ]
    },
    {
      "cell_type": "code",
      "metadata": {
        "id": "ASxRIv6uA6aZ"
      },
      "source": [
        "for col in raw_train.columns:\n",
        "  print(f\"{col} : {raw_train[col].unique()}\")"
      ],
      "execution_count": null,
      "outputs": []
    },
    {
      "cell_type": "markdown",
      "metadata": {
        "id": "f1zpuo58C3Lb"
      },
      "source": [
        "- 값을 확인해보니 해당 데이터파일의 널값 표시는 '-'로 지정하는 것으로 확인됨"
      ]
    },
    {
      "cell_type": "code",
      "metadata": {
        "id": "jwCduVpJB5B0"
      },
      "source": [
        "#'-' or null값 파악\n",
        "for col in raw_train.columns:\n",
        "  print(f\"{col} \\t '-' 개수: {len( raw_train[(raw_train[col] == '-')])} \\\n",
        "        null 개수: {len(raw_train[raw_train[col].isnull()])} \\\n",
        "        정상값: {len(raw_train[(raw_train[col] != '-') & (raw_train[col].notnull())])} \\n \\\n",
        "        합계: {len( raw_train[(raw_train[col] == '-')]) + len(raw_train[raw_train[col].isnull()]) + len(raw_train[(raw_train[col] != '-') & (raw_train[col].notnull())])}\")"
      ],
      "execution_count": null,
      "outputs": []
    },
    {
      "cell_type": "markdown",
      "metadata": {
        "id": "OYT3ZPNBEs_q"
      },
      "source": [
        "- 위 작업을 통해서 '-' 값과 null값을 처리하면 된다는 것을 파악함"
      ]
    },
    {
      "cell_type": "code",
      "metadata": {
        "id": "bUM3EMYvEsVf"
      },
      "source": [
        "#같은 프로세스로 raw_test 확인\n",
        "#'-' or null값 파악\n",
        "for col in raw_test.columns:\n",
        "  print(f\"{col} \\t '-' 개수: {len( raw_test[(raw_test[col] == '-')])} \\\n",
        "        null 개수: {len(raw_test[raw_test[col].isnull()])} \\\n",
        "        정상값: {len(raw_test[(raw_test[col] != '-') & (raw_test[col].notnull())])} \\n \\\n",
        "        합계: {len( raw_test[(raw_test[col] == '-')]) + len(raw_test[raw_test[col].isnull()]) + len(raw_test[(raw_test[col] != '-') & (raw_test[col].notnull())])}\")"
      ],
      "execution_count": null,
      "outputs": []
    },
    {
      "cell_type": "markdown",
      "metadata": {
        "id": "xlHJlagYGrIb"
      },
      "source": [
        "- raw_test도 train과 같이 '-'와 null만 처리하면 됨\n",
        "- train, test 전체적으로 '-'가 있는 컬럼은 '임대보증금', '임대료'\n",
        "- train, test 전체적으로 null이 있는 컬럼은 '임대보증금', '임대료', '도보 10분거리 내 버스정류장 수' 이다\n"
      ]
    },
    {
      "cell_type": "markdown",
      "metadata": {
        "id": "hEDZEI8omuNP"
      },
      "source": [
        "### 임대보증금, 임대료 처리"
      ]
    },
    {
      "cell_type": "code",
      "metadata": {
        "id": "x-cC9iWJDVMe"
      },
      "source": [
        "#'-'가 있는 '임대보증금', '임대료' 컬럼부터 확인\n",
        "raw_train[raw_train['임대보증금'] == '-'].head()"
      ],
      "execution_count": null,
      "outputs": []
    },
    {
      "cell_type": "code",
      "metadata": {
        "id": "niSQknPGH-3p"
      },
      "source": [
        "raw_train[raw_train['임대료'] == '-'].head()"
      ],
      "execution_count": null,
      "outputs": []
    },
    {
      "cell_type": "markdown",
      "metadata": {
        "id": "-SDBmexdNbh0"
      },
      "source": [
        "- 임대료가 없는 곳에는 임대보증금이 없음\n",
        "- null값 처리를 위해서 임대보증금과 임대료의 상관관계 확인이 필요"
      ]
    },
    {
      "cell_type": "code",
      "metadata": {
        "id": "kJIEdLg7I-xG"
      },
      "source": [
        "#공급유형별로 상관관계 확인\n",
        "for supply_type in raw_train['공급유형'].unique():\n",
        "  supply_type_check = raw_train[(raw_train['공급유형'] == supply_type) & (raw_train['임대료'] != '-') & \\\n",
        "                (raw_train['임대보증금'] != '-')& (raw_train['임대료'].notnull()) & \\\n",
        "                (raw_train['임대보증금'].notnull())][['등록차량수', '임대보증금', '임대료']] \\\n",
        "                .drop_duplicates(['등록차량수', '임대보증금', '임대료'], keep='first').astype(int)\n",
        "  print(f\"row개수 / {supply_type} : {len(supply_type_check)}\")\n",
        "  print(f\"상관관계 / {supply_type} : {supply_type_check.corr()}\")"
      ],
      "execution_count": null,
      "outputs": []
    },
    {
      "cell_type": "markdown",
      "metadata": {
        "id": "GIAi6yfjsQ1Q"
      },
      "source": [
        "- 공급유형별 임대료,임대"
      ]
    },
    {
      "cell_type": "code",
      "metadata": {
        "id": "pGDXK3swZ_VB"
      },
      "source": [
        "#공급유형별 임대료, 임대보증금 시각화\n",
        "supply_type_check = raw_train[(raw_train['임대료'] != '-') & \\\n",
        "                (raw_train['임대보증금'] != '-')& (raw_train['임대료'].notnull()) & \\\n",
        "                (raw_train['임대보증금'].notnull())][['공급유형', '임대보증금', '임대료']] \\\n",
        "                .drop_duplicates(['공급유형', '임대보증금', '임대료'], keep='first').astype({'임대보증금': 'int', '임대료': 'int'})\n",
        "\n",
        "fig = go.Figure()\n",
        "fig = px.scatter(supply_type_check, x= '임대료', y= '임대보증금', color = '공급유형',\\\n",
        "                            color_discrete_sequence=px.colors.qualitative.Alphabet)\n",
        "fig.update_layout(title='공급유형별 임대료, 임대보증금 분포') #autosize =, width = 1000, height = 500)"
      ],
      "execution_count": null,
      "outputs": []
    },
    {
      "cell_type": "markdown",
      "metadata": {
        "id": "sMxWEKiNf5pJ"
      },
      "source": [
        "- 임대상가, 장기전세, 공공분양 등은 null값이 아닌 정상적인 row가 없음  \n",
        "- 상관관계또한 \n",
        "위와 같은 이유로 평균이나 중앙값을 넣기에는 리스크가 있음 -> 해당 컬럼 삭제  "
      ]
    },
    {
      "cell_type": "markdown",
      "metadata": {
        "id": "JwkjjDW3twLh"
      },
      "source": [
        "### 자격유형 처리"
      ]
    },
    {
      "cell_type": "code",
      "metadata": {
        "colab": {
          "base_uri": "https://localhost:8080/",
          "height": 66
        },
        "id": "En1HmNBVYYS1",
        "outputId": "15c84d6f-729b-4b35-f64b-31d7152571d9"
      },
      "source": [
        "#test에 자격유형 null값 처리\n",
        "raw_test[raw_test['자격유형'] == '-'] #없음"
      ],
      "execution_count": null,
      "outputs": [
        {
          "output_type": "execute_result",
          "data": {
            "text/html": [
              "<div>\n",
              "<style scoped>\n",
              "    .dataframe tbody tr th:only-of-type {\n",
              "        vertical-align: middle;\n",
              "    }\n",
              "\n",
              "    .dataframe tbody tr th {\n",
              "        vertical-align: top;\n",
              "    }\n",
              "\n",
              "    .dataframe thead th {\n",
              "        text-align: right;\n",
              "    }\n",
              "</style>\n",
              "<table border=\"1\" class=\"dataframe\">\n",
              "  <thead>\n",
              "    <tr style=\"text-align: right;\">\n",
              "      <th></th>\n",
              "      <th>단지코드</th>\n",
              "      <th>총세대수</th>\n",
              "      <th>임대건물구분</th>\n",
              "      <th>지역</th>\n",
              "      <th>공급유형</th>\n",
              "      <th>전용면적</th>\n",
              "      <th>전용면적별세대수</th>\n",
              "      <th>공가수</th>\n",
              "      <th>자격유형</th>\n",
              "      <th>임대보증금</th>\n",
              "      <th>임대료</th>\n",
              "      <th>도보 10분거리 내 지하철역 수(환승노선 수 반영)</th>\n",
              "      <th>도보 10분거리 내 버스정류장 수</th>\n",
              "      <th>단지내주차면수</th>\n",
              "    </tr>\n",
              "  </thead>\n",
              "  <tbody>\n",
              "  </tbody>\n",
              "</table>\n",
              "</div>"
            ],
            "text/plain": [
              "Empty DataFrame\n",
              "Columns: [단지코드, 총세대수, 임대건물구분, 지역, 공급유형, 전용면적, 전용면적별세대수, 공가수, 자격유형, 임대보증금, 임대료, 도보 10분거리 내 지하철역 수(환승노선 수 반영), 도보 10분거리 내 버스정류장 수, 단지내주차면수]\n",
              "Index: []"
            ]
          },
          "metadata": {},
          "execution_count": 32
        }
      ]
    },
    {
      "cell_type": "code",
      "metadata": {
        "colab": {
          "base_uri": "https://localhost:8080/",
          "height": 162
        },
        "id": "Q042ldYcYvnY",
        "outputId": "4e782ba8-f97f-4c6a-e7dc-4e0a1ac6a51e"
      },
      "source": [
        "#test에 자격유형 null값 처리\n",
        "raw_test[raw_test['자격유형'].isnull()] #C2411과 C2253 null값임"
      ],
      "execution_count": null,
      "outputs": [
        {
          "output_type": "execute_result",
          "data": {
            "text/html": [
              "<div>\n",
              "<style scoped>\n",
              "    .dataframe tbody tr th:only-of-type {\n",
              "        vertical-align: middle;\n",
              "    }\n",
              "\n",
              "    .dataframe tbody tr th {\n",
              "        vertical-align: top;\n",
              "    }\n",
              "\n",
              "    .dataframe thead th {\n",
              "        text-align: right;\n",
              "    }\n",
              "</style>\n",
              "<table border=\"1\" class=\"dataframe\">\n",
              "  <thead>\n",
              "    <tr style=\"text-align: right;\">\n",
              "      <th></th>\n",
              "      <th>단지코드</th>\n",
              "      <th>총세대수</th>\n",
              "      <th>임대건물구분</th>\n",
              "      <th>지역</th>\n",
              "      <th>공급유형</th>\n",
              "      <th>전용면적</th>\n",
              "      <th>전용면적별세대수</th>\n",
              "      <th>공가수</th>\n",
              "      <th>자격유형</th>\n",
              "      <th>임대보증금</th>\n",
              "      <th>임대료</th>\n",
              "      <th>도보 10분거리 내 지하철역 수(환승노선 수 반영)</th>\n",
              "      <th>도보 10분거리 내 버스정류장 수</th>\n",
              "      <th>단지내주차면수</th>\n",
              "    </tr>\n",
              "  </thead>\n",
              "  <tbody>\n",
              "    <tr>\n",
              "      <th>196</th>\n",
              "      <td>C2411</td>\n",
              "      <td>962</td>\n",
              "      <td>아파트</td>\n",
              "      <td>경상남도</td>\n",
              "      <td>국민임대</td>\n",
              "      <td>46.90</td>\n",
              "      <td>240</td>\n",
              "      <td>25.0</td>\n",
              "      <td>NaN</td>\n",
              "      <td>71950000</td>\n",
              "      <td>37470</td>\n",
              "      <td>0.0</td>\n",
              "      <td>2.0</td>\n",
              "      <td>840.0</td>\n",
              "    </tr>\n",
              "    <tr>\n",
              "      <th>258</th>\n",
              "      <td>C2253</td>\n",
              "      <td>1161</td>\n",
              "      <td>아파트</td>\n",
              "      <td>강원도</td>\n",
              "      <td>영구임대</td>\n",
              "      <td>26.37</td>\n",
              "      <td>745</td>\n",
              "      <td>0.0</td>\n",
              "      <td>NaN</td>\n",
              "      <td>2249000</td>\n",
              "      <td>44770</td>\n",
              "      <td>0.0</td>\n",
              "      <td>2.0</td>\n",
              "      <td>173.0</td>\n",
              "    </tr>\n",
              "  </tbody>\n",
              "</table>\n",
              "</div>"
            ],
            "text/plain": [
              "      단지코드  총세대수  ... 도보 10분거리 내 버스정류장 수 단지내주차면수\n",
              "196  C2411   962  ...                2.0   840.0\n",
              "258  C2253  1161  ...                2.0   173.0\n",
              "\n",
              "[2 rows x 14 columns]"
            ]
          },
          "metadata": {},
          "execution_count": 33
        }
      ]
    },
    {
      "cell_type": "code",
      "metadata": {
        "id": "0dth4gvLY3_V"
      },
      "source": [
        "raw_test[(raw_test['단지코드'] == 'C2411') | (raw_test['단지코드'] == 'C2253')] "
      ],
      "execution_count": null,
      "outputs": []
    },
    {
      "cell_type": "markdown",
      "metadata": {
        "id": "5yA2DbsiZOBW"
      },
      "source": [
        "- 해당 같은 코드의 자격유형을 그대로 넣으면 된다는 것을 판단됨"
      ]
    },
    {
      "cell_type": "code",
      "metadata": {
        "id": "5O2uMwPbZUea"
      },
      "source": [
        "raw_test.loc[raw_test.단지코드.isin(['C2411']) & raw_test.자격유형.isnull(), '자격유형'] = 'A'\n",
        "raw_test.loc[raw_test.단지코드.isin(['C2253']) & raw_test.자격유형.isnull(), '자격유형'] = 'C'"
      ],
      "execution_count": null,
      "outputs": []
    },
    {
      "cell_type": "markdown",
      "metadata": {
        "id": "AdA0Qt1Njlq1"
      },
      "source": [
        "### 버스 정류장 및 지하철 수 처리"
      ]
    },
    {
      "cell_type": "code",
      "metadata": {
        "colab": {
          "base_uri": "https://localhost:8080/"
        },
        "id": "jGc-GMj9h-XO",
        "outputId": "aa6723e5-b696-47b9-fe7b-d32eba73eb55"
      },
      "source": [
        "#도보 10분거리 내 버스정류장 수 null값 처리\n",
        "raw_train['도보 10분거리 내 버스정류장 수'].unique()"
      ],
      "execution_count": null,
      "outputs": [
        {
          "output_type": "execute_result",
          "data": {
            "text/plain": [
              "array([ 3.,  1.,  2.,  6., 10.,  5.,  4.,  7., 12., 14.,  8.,  0., 20.,\n",
              "       11., 16., 15., nan, 19.])"
            ]
          },
          "metadata": {},
          "execution_count": 63
        }
      ]
    },
    {
      "cell_type": "code",
      "metadata": {
        "colab": {
          "base_uri": "https://localhost:8080/"
        },
        "id": "R-vAxS13jskw",
        "outputId": "01e931af-e825-4874-ecea-eddaa9497ac8"
      },
      "source": [
        "raw_test['도보 10분거리 내 버스정류장 수'].unique()"
      ],
      "execution_count": null,
      "outputs": [
        {
          "output_type": "execute_result",
          "data": {
            "text/plain": [
              "array([ 2.,  3., 16.,  6.,  1.,  4.,  5.,  8., 10., 13.,  7., 11., 50.,\n",
              "       12., 14., 18., 15., 19., 17.])"
            ]
          },
          "metadata": {},
          "execution_count": 65
        }
      ]
    },
    {
      "cell_type": "markdown",
      "metadata": {
        "id": "4pR5jPBrjvyh"
      },
      "source": [
        "- null값은 평균처리\n",
        "- 50은 너무 뜬금없고 현실적으로 불가능할 것으로 판단하여 평균값 처리"
      ]
    },
    {
      "cell_type": "code",
      "metadata": {
        "id": "oNzTmBxUkZpI"
      },
      "source": [
        "raw_train['도보 10분거리 내 버스정류장 수'] = raw_train['도보 10분거리 내 버스정류장 수'].fillna(raw_train['도보 10분거리 내 버스정류장 수'].mean())\n",
        "raw_test.loc[raw_test['도보 10분거리 내 버스정류장 수'] == 50, '도보 10분거리 내 버스정류장 수'] = raw_test['도보 10분거리 내 버스정류장 수'].mean()"
      ],
      "execution_count": null,
      "outputs": []
    },
    {
      "cell_type": "code",
      "metadata": {
        "id": "nuohzTHPkEmt"
      },
      "source": [
        "#지하철 null값 0개 처리\n",
        "raw_train['도보 10분거리 내 지하철역 수(환승노선 수 반영)'] = raw_train['도보 10분거리 내 지하철역 수(환승노선 수 반영)'].fillna(0)\n",
        "raw_test['도보 10분거리 내 지하철역 수(환승노선 수 반영)'] = raw_test['도보 10분거리 내 지하철역 수(환승노선 수 반영)'].fillna(0)"
      ],
      "execution_count": null,
      "outputs": []
    },
    {
      "cell_type": "markdown",
      "metadata": {
        "id": "XT9mniJDlanp"
      },
      "source": [
        "## 전용면적 단계화"
      ]
    },
    {
      "cell_type": "code",
      "metadata": {
        "id": "wQfDiTz7lfBL"
      },
      "source": [
        "raw_train['전용면적'] = raw_train['전용면적']//2*2  \n",
        "raw_test['전용면적'] = raw_test['전용면적']//2*2"
      ],
      "execution_count": null,
      "outputs": []
    },
    {
      "cell_type": "markdown",
      "metadata": {
        "id": "MK52wwRndx99"
      },
      "source": [
        "## 총세대수, 전용면적별세대수, 단지내주차면수"
      ]
    },
    {
      "cell_type": "markdown",
      "metadata": {
        "id": "RBZbBka0d9Kc"
      },
      "source": [
        "- 위 칼럼들은 중복되는데 일단 진행하고 추후 확인"
      ]
    },
    {
      "cell_type": "markdown",
      "metadata": {
        "id": "RoXsWxcmllm7"
      },
      "source": [
        "## 중복된 의미의 컬럼 삭제"
      ]
    },
    {
      "cell_type": "code",
      "metadata": {
        "id": "E4KpGO_dPiWO"
      },
      "source": [
        "#자격유형, 공급유형 확인\n",
        "raw_train[['자격유형', '공급유형']].groupby(['자격유형', '공급유형']).count()"
      ],
      "execution_count": null,
      "outputs": []
    },
    {
      "cell_type": "markdown",
      "metadata": {
        "id": "-Tpq8-csosjb"
      },
      "source": [
        "- 자격유형과 공급유형은 다르다는 것을 확인할 수 있음"
      ]
    },
    {
      "cell_type": "code",
      "metadata": {
        "id": "lcgF_Nx5lx2I"
      },
      "source": [
        "fig = go.Figure()\n",
        "fig = px.histogram(raw_train, x= '등록차량수', color = '공급유형',\\\n",
        "                            color_discrete_sequence=px.colors.qualitative.Alphabet)\n",
        "fig.update_layout(title='자격유형별 차량수 분포') #autosize =, width = 1000, height = 500)"
      ],
      "execution_count": null,
      "outputs": []
    },
    {
      "cell_type": "markdown",
      "metadata": {
        "id": "MZn89OL0m3qM"
      },
      "source": [
        "## 파생변수, 변수변환 생성"
      ]
    },
    {
      "cell_type": "code",
      "metadata": {
        "id": "kEhW2sqaqJ_s"
      },
      "source": [
        "raw_train.head(30)"
      ],
      "execution_count": null,
      "outputs": []
    },
    {
      "cell_type": "code",
      "metadata": {
        "id": "G2k97Kfhm7PW"
      },
      "source": [
        "# 등록차량수, 단지내주차면수를 전용면적별세대수 비율에 맞추기\n",
        "raw_train['등록차량수'] = raw_train['전용면적별세대수'] * raw_train['전용면적별세대수'].div(raw_train.groupby('단지코드')['전용면적별세대수'].transform(lambda x: x.sum()))\n",
        "raw_train['단지내주차면수'] = raw_train['단지내주차면수'] * raw_train['전용면적별세대수'].div(raw_train.groupby('단지코드')['전용면적별세대수'].transform(lambda x: x.sum()))"
      ],
      "execution_count": null,
      "outputs": []
    },
    {
      "cell_type": "code",
      "metadata": {
        "id": "9kx2nF5T8vIB"
      },
      "source": [
        "# 등록차량수, 단지내주차면수를 전용면적별세대수 비율에 맞추기\n",
        "raw_test['단지내주차면수'] = raw_test['단지내주차면수'] * raw_test['전용면적별세대수'].div(raw_test.groupby('단지코드')['전용면적별세대수'].transform(lambda x: x.sum()))"
      ],
      "execution_count": null,
      "outputs": []
    },
    {
      "cell_type": "markdown",
      "metadata": {
        "id": "j4IpDhVNYNdP"
      },
      "source": [
        "## 원핫 인코딩"
      ]
    },
    {
      "cell_type": "code",
      "metadata": {
        "id": "9UgnBGe1yaQn"
      },
      "source": [
        "features_index = raw_train.dtypes[raw_train.dtypes == 'object'].index[1:-2]"
      ],
      "execution_count": null,
      "outputs": []
    },
    {
      "cell_type": "code",
      "metadata": {
        "id": "oWMrL8CPhhoJ"
      },
      "source": [
        "#원핫인코딩\n",
        "ohe = OneHotEncoder(sparse=False, handle_unknown='ignore').fit(raw_train[features_index])"
      ],
      "execution_count": null,
      "outputs": []
    },
    {
      "cell_type": "code",
      "metadata": {
        "id": "zAB2LTOmh_Bo"
      },
      "source": [
        "raw_train_ohe = pd.DataFrame(ohe.transform(raw_train[features_index]), columns=ohe.get_feature_names()).reset_index(drop=True)"
      ],
      "execution_count": null,
      "outputs": []
    },
    {
      "cell_type": "code",
      "metadata": {
        "id": "gHvafd51yvY7"
      },
      "source": [
        "raw_train_ohe['단지코드'] = raw_train['단지코드'].sort_values()"
      ],
      "execution_count": null,
      "outputs": []
    },
    {
      "cell_type": "code",
      "metadata": {
        "id": "nlNq2CkCzj1n"
      },
      "source": [
        "raw_train_ohe = raw_train_ohe.drop_duplicates().groupby(['단지코드']).sum().reset_index()"
      ],
      "execution_count": null,
      "outputs": []
    },
    {
      "cell_type": "code",
      "metadata": {
        "id": "X35JLnjKu4-y"
      },
      "source": [
        "for col in ohe.get_feature_names():\n",
        "  raw_train_ohe[col] = raw_train_ohe[col].apply(lambda x: 1 if x > 0 else 0)"
      ],
      "execution_count": null,
      "outputs": []
    },
    {
      "cell_type": "code",
      "metadata": {
        "id": "KgNFiH8Nlnvv"
      },
      "source": [
        "raw_test_ohe = pd.DataFrame(ohe.transform(raw_test[features_index]), columns=ohe.get_feature_names()).reset_index(drop=True)"
      ],
      "execution_count": null,
      "outputs": []
    },
    {
      "cell_type": "code",
      "metadata": {
        "id": "A3FlhYjy9yCb"
      },
      "source": [
        "raw_test_ohe['단지코드'] = raw_test['단지코드'].sort_values()"
      ],
      "execution_count": null,
      "outputs": []
    },
    {
      "cell_type": "code",
      "metadata": {
        "id": "lBSu8eHT9yCb"
      },
      "source": [
        "raw_test_ohe = raw_test_ohe.drop_duplicates().groupby(['단지코드']).mean().reset_index()"
      ],
      "execution_count": null,
      "outputs": []
    },
    {
      "cell_type": "code",
      "metadata": {
        "id": "Jw-uRWjYvdx5"
      },
      "source": [
        "for col in ohe.get_feature_names():\n",
        "  raw_test_ohe[col] = raw_test_ohe[col].apply(lambda x: 1 if x > 0 else 0)"
      ],
      "execution_count": null,
      "outputs": []
    },
    {
      "cell_type": "markdown",
      "metadata": {
        "id": "vs1AlYJmuf16"
      },
      "source": [
        "## 데이터 그룹화\n",
        "- 코드와 공급유형, 잔격유형 별로 데이터집계"
      ]
    },
    {
      "cell_type": "code",
      "metadata": {
        "id": "qRmjI7ATvfFk"
      },
      "source": [
        "features_index_unobject = raw_train.dtypes[raw_train.dtypes != 'object'].index"
      ],
      "execution_count": null,
      "outputs": []
    },
    {
      "cell_type": "code",
      "metadata": {
        "id": "pZqXu4ua_QCt"
      },
      "source": [
        "raw_train_agg = raw_train.groupby(['단지코드'])[features_index_unobject].mean().reset_index()"
      ],
      "execution_count": null,
      "outputs": []
    },
    {
      "cell_type": "code",
      "metadata": {
        "id": "RBo4EvAW0eSD"
      },
      "source": [
        "new_train = pd.merge(raw_train_ohe, raw_train_agg, on='단지코드', how='inner')"
      ],
      "execution_count": null,
      "outputs": []
    },
    {
      "cell_type": "code",
      "metadata": {
        "id": "28KuG1Oa-QW-"
      },
      "source": [
        "raw_test_agg = raw_test.groupby(['단지코드'])[[col for col in features_index_unobject if col != '등록차량수']].mean().reset_index()"
      ],
      "execution_count": null,
      "outputs": []
    },
    {
      "cell_type": "code",
      "metadata": {
        "id": "O9IRaON9-QW-"
      },
      "source": [
        "new_test = pd.merge(raw_test_ohe, raw_test_agg, on='단지코드', how='inner')"
      ],
      "execution_count": null,
      "outputs": []
    },
    {
      "cell_type": "markdown",
      "metadata": {
        "id": "QYHqyfLaWyET"
      },
      "source": [
        "## 왜곡 확인"
      ]
    },
    {
      "cell_type": "code",
      "metadata": {
        "colab": {
          "base_uri": "https://localhost:8080/",
          "height": 285
        },
        "id": "WP3cYkP7o3LM",
        "outputId": "50c54884-6486-444d-e4d2-dfc9c67737ad"
      },
      "source": [
        "#target(등록차량수) 분포확인\n",
        "#분포를 확인하는 것은 타겟변수가 정상적인 데이터라는 것, 정규분포를 띨때 정확도가 올라감\n",
        "new_train['등록차량수'].hist()"
      ],
      "execution_count": null,
      "outputs": [
        {
          "output_type": "execute_result",
          "data": {
            "text/plain": [
              "<matplotlib.axes._subplots.AxesSubplot at 0x7f59b3530790>"
            ]
          },
          "metadata": {},
          "execution_count": 298
        },
        {
          "output_type": "display_data",
          "data": {
            "image/png": "[encoded data removed]",
            "text/plain": [
              "<Figure size 432x288 with 1 Axes>"
            ]
          },
          "metadata": {
            "needs_background": "light"
          }
        }
      ]
    },
    {
      "cell_type": "code",
      "metadata": {
        "id": "TBCH4TbSqrRn",
        "colab": {
          "base_uri": "https://localhost:8080/",
          "height": 283
        },
        "outputId": "434f250b-9d10-4628-e00b-8421e5f7f968"
      },
      "source": [
        "np.log1p(new_train['등록차량수']).hist()"
      ],
      "execution_count": null,
      "outputs": [
        {
          "output_type": "execute_result",
          "data": {
            "text/plain": [
              "<matplotlib.axes._subplots.AxesSubplot at 0x7f59a1b95b50>"
            ]
          },
          "metadata": {},
          "execution_count": 299
        },
        {
          "output_type": "display_data",
          "data": {
            "image/png": "[encoded data removed]",
            "text/plain": [
              "<Figure size 432x288 with 1 Axes>"
            ]
          },
          "metadata": {
            "needs_background": "light"
          }
        }
      ]
    },
    {
      "cell_type": "markdown",
      "metadata": {
        "id": "gsLJP0nyV_HK"
      },
      "source": [
        "- 로그변환후 타겟변수가 더 정규분포에 가까워진것을 확인할 수 있음  \n",
        "  따라서 타겟변수에 로그변환을 적용\n",
        "  나머지 변수에도 동일하게 적용"
      ]
    },
    {
      "cell_type": "code",
      "metadata": {
        "id": "ytJBJfk7WakR",
        "colab": {
          "base_uri": "https://localhost:8080/"
        },
        "outputId": "79aa75c8-5dd3-42f4-89cc-3f17b8e9561f"
      },
      "source": [
        "#타겟변수 이후의 것도 확인 - train\n",
        "skew_features = new_train[features_index_unobject].apply(lambda x: skew(x))\n",
        "skew_features_top = skew_features[skew_features > 1]\n",
        "print(skew_features_top.sort_values(ascending=False))"
      ],
      "execution_count": null,
      "outputs": [
        {
          "output_type": "stream",
          "name": "stdout",
          "text": [
            "등록차량수                           8.549042\n",
            "도보 10분거리 내 지하철역 수(환승노선 수 반영)    3.563665\n",
            "전용면적별세대수                        3.193718\n",
            "도보 10분거리 내 버스정류장 수              2.789813\n",
            "단지내주차면수                         1.720645\n",
            "총세대수                            1.344617\n",
            "전용면적                            1.225169\n",
            "dtype: float64\n"
          ]
        }
      ]
    },
    {
      "cell_type": "code",
      "metadata": {
        "id": "rXDxI8MKbGly",
        "colab": {
          "base_uri": "https://localhost:8080/"
        },
        "outputId": "f92c3f1b-4c7e-45ae-de81-03bf330550cf"
      },
      "source": [
        "# 타겟변수 이후의 것도 확인 - test\n",
        "skew_features = new_test[[col for col in features_index_unobject if col != '등록차량수']].apply(lambda x: skew(x))\n",
        "skew_features_top = skew_features[skew_features > 1]\n",
        "print(skew_features_top.sort_values(ascending=False))"
      ],
      "execution_count": null,
      "outputs": [
        {
          "output_type": "stream",
          "name": "stdout",
          "text": [
            "도보 10분거리 내 지하철역 수(환승노선 수 반영)    4.037509\n",
            "도보 10분거리 내 버스정류장 수              2.165797\n",
            "전용면적별세대수                        1.309366\n",
            "총세대수                            1.246403\n",
            "단지내주차면수                         1.128265\n",
            "전용면적                            1.093880\n",
            "dtype: float64\n"
          ]
        }
      ]
    },
    {
      "cell_type": "markdown",
      "metadata": {
        "id": "-XDaS0wHXnna"
      },
      "source": [
        "- 보통 1이상의 왜곡이 있을때 높다고 판단, 1이상인 컬럼에 대해서 로그처리 진행"
      ]
    },
    {
      "cell_type": "code",
      "metadata": {
        "id": "52ofSjPEXfhm"
      },
      "source": [
        "new_train[features_index_unobject] = np.log1p(new_train[features_index_unobject])\n",
        "new_test[[col for col in features_index_unobject if col != '등록차량수']] = np.log1p(new_test[[col for col in features_index_unobject if col != '등록차량수']])"
      ],
      "execution_count": null,
      "outputs": []
    },
    {
      "cell_type": "markdown",
      "metadata": {
        "id": "KEMB5O6Nbvs4"
      },
      "source": [
        "- train 데이터에서는 변환하지 않았던 도보 컬럼이 추가됨 train도 적용"
      ]
    },
    {
      "cell_type": "code",
      "metadata": {
        "id": "23xul8vg3xUn"
      },
      "source": [
        "new_train.drop('단지코드', axis=1, inplace=True)"
      ],
      "execution_count": null,
      "outputs": []
    },
    {
      "cell_type": "code",
      "metadata": {
        "id": "5CfmqEZ1AQzv"
      },
      "source": [
        "new_test.drop('단지코드', axis=1, inplace=True)"
      ],
      "execution_count": null,
      "outputs": []
    },
    {
      "cell_type": "markdown",
      "metadata": {
        "id": "xuLWx1Mnf5Im"
      },
      "source": [
        "## 데이터 분할"
      ]
    },
    {
      "cell_type": "code",
      "metadata": {
        "id": "09Fnmexwf9iQ"
      },
      "source": [
        "y_target = new_train.등록차량수\n",
        "X_features = new_train.drop('등록차량수', axis=1, inplace=False)\n",
        "X_train, X_test, y_train, y_test = train_test_split(X_features, y_target, test_size = 0.2, random_state=1001)\n",
        "\n",
        "ridge_params = {'alpha' : [0.05, 0.1, 1, 5, 8, 10, 12, 15, 20]}\n",
        "lasso_params = {'alpha' : [0.001, 0.005, 0.008, 0.05, 0.03, 0.1, 0.5, 1, 5, 10]} "
      ],
      "execution_count": null,
      "outputs": []
    },
    {
      "cell_type": "markdown",
      "metadata": {
        "id": "QBFWxsnFgUhs"
      },
      "source": [
        "# 모델 생성"
      ]
    },
    {
      "cell_type": "code",
      "metadata": {
        "id": "vKVUp4MCgTxs"
      },
      "source": [
        "def get_mae(model):\n",
        "    pred = model.predict(X_test)\n",
        "    mae = mean_absolute_error(y_test , pred)\n",
        "    return mae\n",
        "\n",
        "def get_maes(models):\n",
        "    maes = [ ]\n",
        "    for model in models:\n",
        "        mae = get_mae(model)\n",
        "        maes.append(mae)\n",
        "    return maes"
      ],
      "execution_count": null,
      "outputs": []
    },
    {
      "cell_type": "code",
      "metadata": {
        "id": "31mYhcMkheS8",
        "colab": {
          "base_uri": "https://localhost:8080/"
        },
        "outputId": "89b929cb-fca8-4a59-b71f-fe108cf36cbc"
      },
      "source": [
        "# LinearRegression, Ridge, Lasso 학습, 예측, 평가\n",
        "lr_reg = LinearRegression()\n",
        "lr_reg.fit(X_train, y_train)\n",
        "\n",
        "ridge_reg = Ridge()\n",
        "ridge_reg.fit(X_train, y_train)\n",
        "\n",
        "lasso_reg = Lasso()\n",
        "lasso_reg.fit(X_train, y_train)\n",
        "\n",
        "models = [lr_reg, ridge_reg, lasso_reg]\n",
        "get_maes(models)"
      ],
      "execution_count": null,
      "outputs": [
        {
          "output_type": "execute_result",
          "data": {
            "text/plain": [
              "[0.11345691686106178, 0.11213718761448954, 0.6442978307057464]"
            ]
          },
          "metadata": {},
          "execution_count": 360
        }
      ]
    },
    {
      "cell_type": "code",
      "metadata": {
        "id": "kiulb-6YhnRw"
      },
      "source": [
        "def get_top_bottom_coef(model):\n",
        "    # coef_ 속성을 기반으로 Series 객체를 생성. index는 컬럼명. \n",
        "    coef = pd.Series(model.coef_, index=X_features.columns)\n",
        "    \n",
        "    # + 상위 10개 , - 하위 10개 coefficient 추출하여 반환.\n",
        "    coef_high = coef.sort_values(ascending=False).head(10)\n",
        "    coef_low = coef.sort_values(ascending=False).tail(10)\n",
        "    return coef_high, coef_low"
      ],
      "execution_count": null,
      "outputs": []
    },
    {
      "cell_type": "code",
      "metadata": {
        "colab": {
          "base_uri": "https://localhost:8080/",
          "height": 760
        },
        "id": "4anRSkSg4bb1",
        "outputId": "f8b542b0-6e88-4fac-84dc-fb559ef672d5"
      },
      "source": [
        "def visualize_coefficient(models):\n",
        "    # 3개 회귀 모델의 시각화를 위해 3개의 컬럼을 가지는 subplot 생성\n",
        "    fig, axs = plt.subplots(figsize=(24,10),nrows=1, ncols=3)\n",
        "    fig.tight_layout() \n",
        "    # 입력인자로 받은 list객체인 models에서 차례로 model을 추출하여 회귀 계수 시각화. \n",
        "    for i_num, model in enumerate(models):\n",
        "        # 상위 10개, 하위 10개 회귀 계수를 구하고, 이를 판다스 concat으로 결합. \n",
        "        coef_high, coef_low = get_top_bottom_coef(model)\n",
        "        coef_concat = pd.concat( [coef_high , coef_low] )\n",
        "        # 순차적으로 ax subplot에 barchar로 표현. 한 화면에 표현하기 위해 tick label 위치와 font 크기 조정. \n",
        "        axs[i_num].set_title(model.__class__.__name__+' Coeffiecents', size=25)\n",
        "        axs[i_num].tick_params(axis=\"y\",direction=\"in\", pad=-120)\n",
        "        for label in (axs[i_num].get_xticklabels() + axs[i_num].get_yticklabels()):\n",
        "            label.set_fontsize(22)\n",
        "        sns.barplot(x=coef_concat.values, y=coef_concat.index , ax=axs[i_num])\n",
        "\n",
        "# 앞 예제에서 학습한 lr_reg, ridge_reg, lasso_reg 모델의 회귀 계수 시각화.    \n",
        "models = [lr_reg, ridge_reg, lasso_reg]\n",
        "visualize_coefficient(models)"
      ],
      "execution_count": null,
      "outputs": [
        {
          "output_type": "display_data",
          "data": {
            "image/png": "[encoded data removed]",
            "text/plain": [
              "<Figure size 1728x720 with 3 Axes>"
            ]
          },
          "metadata": {
            "needs_background": "light"
          }
        }
      ]
    },
    {
      "cell_type": "code",
      "metadata": {
        "colab": {
          "base_uri": "https://localhost:8080/"
        },
        "id": "MJHIYGQm4fVu",
        "outputId": "3f950097-4e11-4135-ebbf-30ff130d3f87"
      },
      "source": [
        "from sklearn.model_selection import GridSearchCV\n",
        "\n",
        "def get_best_params(model, params):\n",
        "    grid_model = GridSearchCV(model, param_grid=params, \n",
        "                              scoring='neg_mean_squared_error', cv=5)\n",
        "    grid_model.fit(X_features, y_target)\n",
        "    mae = -1 * grid_model.best_score_\n",
        "    print('{0} 5 CV 시 최적 평균 MAE 값: {1}, 최적 alpha:{2}'.format(model.__class__.__name__,\n",
        "                                        np.round(mae, 4), grid_model.best_params_))\n",
        "    return grid_model.best_estimator_\n",
        "\n",
        "ridge_params = { 'alpha':[0.05, 0.1, 1, 5, 8, 10, 12, 15, 20] }\n",
        "lasso_params = { 'alpha':[0.001, 0.005, 0.008, 0.05, 0.03, 0.1, 0.5, 1,5, 10] }\n",
        "best_rige = get_best_params(ridge_reg, ridge_params)\n",
        "best_lasso = get_best_params(lasso_reg, lasso_params)"
      ],
      "execution_count": null,
      "outputs": [
        {
          "output_type": "stream",
          "name": "stdout",
          "text": [
            "Ridge 5 CV 시 최적 평균 MAE 값: 0.0316, 최적 alpha:{'alpha': 1}\n",
            "Lasso 5 CV 시 최적 평균 MAE 값: 0.0307, 최적 alpha:{'alpha': 0.001}\n"
          ]
        }
      ]
    },
    {
      "cell_type": "code",
      "metadata": {
        "id": "LQ9q6j_g7S4A"
      },
      "source": [
        "def evaluate_regr(model, y):\n",
        "    # MSE 는 scikit learn의 mean_absolute_error() 로 계산\n",
        "    pred = model.predict(X_test)\n",
        "    mse_val = mean_absolute_error(y,pred)\n",
        "    print('MAE: {0:.3F}'.format(mse_val))"
      ],
      "execution_count": null,
      "outputs": []
    },
    {
      "cell_type": "code",
      "metadata": {
        "colab": {
          "base_uri": "https://localhost:8080/"
        },
        "id": "1OQfFl7b5CCJ",
        "outputId": "11417397-5d77-4f84-a48c-ca48903f694e"
      },
      "source": [
        "evaluate_regr(best_rige, y_test)"
      ],
      "execution_count": null,
      "outputs": [
        {
          "output_type": "stream",
          "name": "stdout",
          "text": [
            "MAE: 0.094\n"
          ]
        }
      ]
    },
    {
      "cell_type": "code",
      "metadata": {
        "colab": {
          "base_uri": "https://localhost:8080/"
        },
        "id": "ecOsZGzEsC64",
        "outputId": "018d0fa4-d92e-4293-d2fa-7895c091b8c9"
      },
      "source": [
        "np.exp(best_rige.predict(new_test))"
      ],
      "execution_count": null,
      "outputs": [
        {
          "output_type": "execute_result",
          "data": {
            "text/plain": [
              "array([ 15.01159788,  18.61141351,  51.89049466,  24.14027217,\n",
              "         3.17015967,  26.46787875, 166.49480947,  18.61368065,\n",
              "        46.15997895,  28.4683944 ,  15.3001884 ,  24.25071901,\n",
              "        16.98077289,  25.7727889 ,   6.78740215,  41.27074594,\n",
              "        32.80312295, 170.01175297,  33.25243929,  85.89979832,\n",
              "         9.01124338,  30.19375541,  43.49081902,  25.53751602,\n",
              "        21.3385947 ,  42.09750555,  41.91338022,  38.67398811,\n",
              "        39.89644739,  10.05089541,  33.30768872,  24.76087657,\n",
              "       119.7991869 ,  33.20961801,  13.04052831,  50.95865151,\n",
              "        20.29254157,  12.39252843,  27.59198142,  18.83358415,\n",
              "        27.12930169,  29.16852722,  33.16164061,  27.98603117,\n",
              "        13.34269192, 111.71194059,  32.87502295,  16.17546287,\n",
              "       130.78451446,  69.11136567,  83.07440315,  28.01260053,\n",
              "         6.88611741,  24.64423191,  10.27031007,  93.02128448,\n",
              "        33.54876307,  20.72913353,  50.28035996, 141.22810695,\n",
              "        80.22071992,  20.04466488,  11.76342733,  29.40887284,\n",
              "        27.29153796,  19.22292517,  40.3081785 ,   9.26395532,\n",
              "        77.47480329,   6.7676757 ,  26.93968564,  23.95617216,\n",
              "         8.59662693,  67.10771351,  19.89269737,  88.46935514,\n",
              "        25.60686598,  59.3901205 ,  16.13464241,  34.20282316,\n",
              "        26.77225887,  18.82275834,  27.39656307,  49.83091479,\n",
              "         6.87842565,  73.84108435,  67.37326756,  15.71527625,\n",
              "        37.68136573,   9.00713844,  22.14646103,  87.49934649,\n",
              "        19.76847122,  43.31439889,  20.03727224,  25.96625773,\n",
              "        53.89382405,  11.43377529,  16.85042678,  24.94141423,\n",
              "        28.11700499,  19.46553956,  25.31396977,  33.88392745,\n",
              "        61.58607056,  32.35156375,  17.25583894,  32.76076666,\n",
              "        40.48385184,  14.06465209, 242.12494864,  13.05646636,\n",
              "        16.83840421,  15.49577192,   9.79801276,  61.6063731 ,\n",
              "        28.60599588,  42.15556561, 108.62102927,  15.45342507,\n",
              "       152.53274495,  49.13842719, 179.80901892,  16.21913185,\n",
              "        94.77013415,   1.86088757,  49.79739715, 140.31429311,\n",
              "        49.77436294,  26.07355901,  45.03121369,  56.29417632,\n",
              "        25.25323542,  18.79680613,  39.20164301,  48.03040248,\n",
              "       178.82236688,  25.63051514,  34.07320148,  74.79003199,\n",
              "        35.75102158,  33.1680597 ,  27.77283124,  27.95545189,\n",
              "       146.43238587,  78.16334049,  18.27550612,  16.65495113,\n",
              "         9.16006635, 130.218302  ])"
            ]
          },
          "metadata": {},
          "execution_count": 368
        }
      ]
    },
    {
      "cell_type": "code",
      "metadata": {
        "id": "SuF2LPLdsF2n"
      },
      "source": [
        ""
      ],
      "execution_count": null,
      "outputs": []
    }
  ]
}