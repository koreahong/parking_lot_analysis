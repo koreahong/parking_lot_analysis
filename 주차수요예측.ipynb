{
  "nbformat": 4,
  "nbformat_minor": 0,
  "metadata": {
    "colab": {
      "name": "주차수요예측.ipynb",
      "provenance": [],
      "collapsed_sections": [
        "hoD7tvfG_uFd",
        "gnUutcb4Bli2",
        "hEDZEI8omuNP",
        "JwkjjDW3twLh",
        "AdA0Qt1Njlq1",
        "XT9mniJDlanp",
        "MK52wwRndx99",
        "RoXsWxcmllm7",
        "3fb8CH0apmDY",
        "vs1AlYJmuf16",
        "QYHqyfLaWyET",
        "xuLWx1Mnf5Im",
        "QBFWxsnFgUhs"
      ],
      "toc_visible": true,
      "authorship_tag": "ABX9TyNE4zhrqv0//cmoyeMGJIAt",
      "include_colab_link": true
    },
    "kernelspec": {
      "display_name": "Python 3",
      "name": "python3"
    },
    "language_info": {
      "name": "python"
    }
  },
  "cells": [
    {
      "cell_type": "markdown",
      "metadata": {
        "id": "view-in-github",
        "colab_type": "text"
      },
      "source": [
        "<a href=\"https://colab.research.google.com/github/koreahong/parking_lot_analysis/blob/main/%EC%A3%BC%EC%B0%A8%EC%88%98%EC%9A%94%EC%98%88%EC%B8%A1.ipynb\" target=\"_parent\"><img src=\"https://colab.research.google.com/assets/colab-badge.svg\" alt=\"Open In Colab\"/></a>"
      ]
    },
    {
      "cell_type": "markdown",
      "metadata": {
        "id": "Yat1FEvhSyVY"
      },
      "source": [
        "# 과정중 발생한 문제 / 해결방법\n",
        "row 삭제하고 나서 index를 다시 설정해야 apply함수 적용시킬때 문제가 안생김"
      ]
    },
    {
      "cell_type": "markdown",
      "metadata": {
        "id": "OesyPLziwFCT"
      },
      "source": [
        "# 문제정의\n",
        "\n",
        "문제\n",
        "-  주차수요예측: 새로지을 아파트의 등록차량수가 어느정도 될 것인가\n",
        "\n",
        "컬럼 \n",
        "- 단지코드\n",
        "- 총세대수\n",
        "- 임대건물구분\n",
        "- 지역\n",
        "- 공급유형\n",
        "- 전용면적\n",
        "- 전용면적별세대수\n",
        "- 공가수\n",
        "- 신분\n",
        "- 임대료보증금\n",
        "- 임대료\n",
        "- 도보 10분거리 내 지하철역 수(환승노선 수 반영)\n",
        "- 도보 10분거리 내 버스정류장 수\n",
        "- 단지내주차면수\n",
        "- 등록차량수 (예측)\n",
        "\n"
      ]
    },
    {
      "cell_type": "markdown",
      "metadata": {
        "id": "PS8u6oc3bXJ2"
      },
      "source": [
        "# 자료 \n",
        "\n",
        "- 우리나라 주택, 차량 배경자료\n",
        "  - [참고자료1](https://biz.chosun.com/real_estate/real_estate_general/2021/05/12/2C3EFUDZOFG55LHLD3BKRCVYNI/) - 2030세대 소형, 초소형 아파트에 몰림\n",
        "\n",
        "  - [참고자료2](https://www.carisyou.com/magazine/STATS/76374) - 50대에 가까워질수록 차구매를 많이함 / 중고자동차는 2030세대\n",
        "\n",
        "- 변수별 자료  \n",
        "  - 공급유형-참고자료3\n",
        "    - [행복주택](https://namu.wiki/w/%ED%96%89%EB%B3%B5%EC%A3%BC%ED%83%9D) - 소규모 주택보급  \n",
        "    - [영구임대](https://welfaresystem.kr/%EC%98%81%EA%B5%AC%EC%9E%84%EB%8C%80%EC%A3%BC%ED%83%9D%EC%9D%B4%EB%9E%80-%EC%A7%80%EC%9B%90%EC%9E%90%EA%B2%A9-%EC%8B%A0%EC%B2%AD%EB%B0%A9%EB%B2%95/)\n",
        "    - [장기전세](https://www.law.go.kr/LSW/ordinInfoP.do?ordinSeq=561781&chrClsCd=010202&gubun=) - 장기전세는 무주택자 기준으로만 따짐, 차량과 상관없음\n",
        "    - [공급유형별정리](http://www.rcast.co.kr/sub02.php?BRD_ID=1597711411389)  "
      ]
    },
    {
      "cell_type": "markdown",
      "metadata": {
        "id": "yWSbN2wICEUm"
      },
      "source": [
        "#라이브러리 불러오기"
      ]
    },
    {
      "cell_type": "code",
      "metadata": {
        "id": "T10BDyL4cl27"
      },
      "source": [
        "#download pont\n",
        "!sudo apt-get install -y fonts-nanum\n",
        "!sudo fc-cache -fv\n",
        "!rm ~/.cache/matplotlib -rf"
      ],
      "execution_count": null,
      "outputs": []
    },
    {
      "cell_type": "code",
      "metadata": {
        "id": "sZlgseiX_37q"
      },
      "source": [
        "import pandas as pd\n",
        "import numpy as np\n",
        "import copy\n",
        "\n",
        "#시각화\n",
        "import matplotlib.pyplot as plt\n",
        "import plotly.express as px\n",
        "import plotly.graph_objects as go\n",
        "import seaborn as sns\n",
        "\n",
        "#통계\n",
        "from scipy.stats import skew\n",
        "from scipy  import stats\n",
        "\n",
        "#데이터전처리\n",
        "from sklearn.preprocessing import OneHotEncoder\n",
        "\n",
        "#머신러닝 \n",
        "from sklearn.linear_model import LinearRegression, Ridge, Lasso\n",
        "from sklearn.model_selection import train_test_split\n",
        "from sklearn.metrics import mean_absolute_error\n",
        "from sklearn.model_selection import GridSearchCV\n",
        "\n",
        "#경고무시\n",
        "import warnings\n",
        "warnings.filterwarnings(\"ignore\")\n",
        "\n",
        "#폰트설정\n",
        "plt.rc('font', family='NanumBarunGothic') "
      ],
      "execution_count": 205,
      "outputs": []
    },
    {
      "cell_type": "markdown",
      "metadata": {
        "id": "hoD7tvfG_uFd"
      },
      "source": [
        "#데이터 수집\n",
        "\n",
        "- 구글 드라이브 연동 후 알집 풀기\n"
      ]
    },
    {
      "cell_type": "code",
      "metadata": {
        "colab": {
          "base_uri": "https://localhost:8080/"
        },
        "id": "Hf8exqDl5uyH",
        "outputId": "de92a2ce-7355-4a88-fdf7-7a7ef2159091"
      },
      "source": [
        "#mount google drive \n",
        "from google.colab import drive \n",
        "drive.mount('/content/drive/')"
      ],
      "execution_count": 2,
      "outputs": [
        {
          "output_type": "stream",
          "name": "stdout",
          "text": [
            "Mounted at /content/drive/\n"
          ]
        }
      ]
    },
    {
      "cell_type": "code",
      "metadata": {
        "colab": {
          "base_uri": "https://localhost:8080/"
        },
        "id": "nzG21tWd7pIT",
        "outputId": "3148c27b-22b1-4ae7-c214-586da364fa2e"
      },
      "source": [
        "#path setting, you must use '%' command\n",
        "%cd \"/content/drive/My Drive/머신러닝_실전예제/Dacon_주차수요예측/data/\"\n",
        "#unzip\n",
        "!unzip -qq \"/content/drive/MyDrive/머신러닝_실전예제/Dacon_주차수요예측/data/parking_data.zip\""
      ],
      "execution_count": 3,
      "outputs": [
        {
          "output_type": "stream",
          "name": "stdout",
          "text": [
            "/content/drive/My Drive/머신러닝_실전예제/Dacon_주차수요예측/data\n",
            "replace age_gender_info.csv? [y]es, [n]o, [A]ll, [N]one, [r]ename: "
          ]
        }
      ]
    },
    {
      "cell_type": "code",
      "metadata": {
        "id": "BRq7MuAr_14Y"
      },
      "source": [
        "raw_train = pd.read_csv(\"/content/drive/My Drive/머신러닝_실전예제/Dacon_주차수요예측/data/train.csv\")"
      ],
      "execution_count": 283,
      "outputs": []
    },
    {
      "cell_type": "code",
      "metadata": {
        "id": "MTPZK6cE9izf"
      },
      "source": [
        "raw_test = pd.read_csv(\"/content/drive/My Drive/머신러닝_실전예제/Dacon_주차수요예측/data/test.csv\")"
      ],
      "execution_count": 284,
      "outputs": []
    },
    {
      "cell_type": "code",
      "metadata": {
        "id": "xGC2rFcqALcB"
      },
      "source": [
        "raw_train.head()"
      ],
      "execution_count": null,
      "outputs": []
    },
    {
      "cell_type": "code",
      "metadata": {
        "id": "qm5QmyoLA-sL",
        "colab": {
          "base_uri": "https://localhost:8080/"
        },
        "outputId": "5908f43c-4f7e-4944-bf94-7ceb3f88e79a"
      },
      "source": [
        "raw_train.info()"
      ],
      "execution_count": null,
      "outputs": [
        {
          "output_type": "stream",
          "name": "stdout",
          "text": [
            "<class 'pandas.core.frame.DataFrame'>\n",
            "RangeIndex: 2952 entries, 0 to 2951\n",
            "Data columns (total 15 columns):\n",
            " #   Column                        Non-Null Count  Dtype  \n",
            "---  ------                        --------------  -----  \n",
            " 0   단지코드                          2952 non-null   object \n",
            " 1   총세대수                          2952 non-null   int64  \n",
            " 2   임대건물구분                        2952 non-null   object \n",
            " 3   지역                            2952 non-null   object \n",
            " 4   공급유형                          2952 non-null   object \n",
            " 5   전용면적                          2952 non-null   float64\n",
            " 6   전용면적별세대수                      2952 non-null   int64  \n",
            " 7   공가수                           2952 non-null   float64\n",
            " 8   자격유형                          2952 non-null   object \n",
            " 9   임대보증금                         2383 non-null   object \n",
            " 10  임대료                           2383 non-null   object \n",
            " 11  도보 10분거리 내 지하철역 수(환승노선 수 반영)  2741 non-null   float64\n",
            " 12  도보 10분거리 내 버스정류장 수            2948 non-null   float64\n",
            " 13  단지내주차면수                       2952 non-null   float64\n",
            " 14  등록차량수                         2952 non-null   float64\n",
            "dtypes: float64(6), int64(2), object(7)\n",
            "memory usage: 346.1+ KB\n"
          ]
        }
      ]
    },
    {
      "cell_type": "code",
      "metadata": {
        "id": "gw3BdjVGBPfs"
      },
      "source": [
        "raw_test.info()"
      ],
      "execution_count": null,
      "outputs": []
    },
    {
      "cell_type": "code",
      "metadata": {
        "id": "mxl9OuGTANW2"
      },
      "source": [
        "age_info = pd.read_csv(\"/content/drive/My Drive/머신러닝_실전예제/Dacon_주차수요예측/data/age_gender_info.csv\")"
      ],
      "execution_count": null,
      "outputs": []
    },
    {
      "cell_type": "code",
      "metadata": {
        "id": "dtvxWe5EAhyu"
      },
      "source": [
        "age_info.head()"
      ],
      "execution_count": null,
      "outputs": []
    },
    {
      "cell_type": "code",
      "metadata": {
        "id": "E_fDyO6PBYho"
      },
      "source": [
        "age_info.info()"
      ],
      "execution_count": null,
      "outputs": []
    },
    {
      "cell_type": "markdown",
      "metadata": {
        "id": "ABqeJcB8Qgf2"
      },
      "source": [
        "## obect type인것들 unique로 간략하게 보자"
      ]
    },
    {
      "cell_type": "code",
      "metadata": {
        "colab": {
          "base_uri": "https://localhost:8080/"
        },
        "id": "AAc94VQQQyvx",
        "outputId": "6b051a02-eb4e-442c-edce-1f73dd19b947"
      },
      "source": [
        "oject_index = raw_train.dtypes[raw_train.dtypes == 'object'].index\n",
        "oject_index"
      ],
      "execution_count": null,
      "outputs": [
        {
          "output_type": "execute_result",
          "data": {
            "text/plain": [
              "Index(['단지코드', '임대건물구분', '지역', '공급유형', '자격유형', '임대보증금', '임대료'], dtype='object')"
            ]
          },
          "metadata": {},
          "execution_count": 88
        }
      ]
    },
    {
      "cell_type": "markdown",
      "metadata": {
        "id": "AtSQwa-wQ3hE"
      },
      "source": [
        "임대보증금과, 임대료는 숫자형으로 교체  \n",
        "null값이 있음 -> 추후 null값 처리\n",
        "2컬럼을 제외한 나머지만 갑 확인"
      ]
    },
    {
      "cell_type": "markdown",
      "metadata": {
        "id": "7MW3k12yRfBQ"
      },
      "source": [
        "\n"
      ]
    },
    {
      "cell_type": "code",
      "metadata": {
        "colab": {
          "base_uri": "https://localhost:8080/"
        },
        "id": "tRK_TvqmQuLu",
        "outputId": "9f7b0dd6-622f-493a-b524-8f177e8db83f"
      },
      "source": [
        "for col in oject_index[:-2]:\n",
        "  print(f\"col: {col}, \\n {raw_train[col].unique()} \\n\")"
      ],
      "execution_count": null,
      "outputs": [
        {
          "output_type": "stream",
          "name": "stdout",
          "text": [
            "col: 단지코드, \n",
            " ['C2483' 'C2515' 'C1407' 'C1945' 'C1470' 'C1898' 'C1244' 'C1171' 'C2073'\n",
            " 'C2513' 'C1936' 'C2049' 'C2202' 'C1925' 'C2576' 'C1312' 'C1874' 'C2650'\n",
            " 'C2416' 'C2013' 'C1424' 'C2100' 'C2621' 'C2520' 'C2319' 'C1616' 'C1704'\n",
            " 'C2258' 'C1032' 'C2038' 'C1859' 'C1722' 'C1850' 'C2190' 'C1476' 'C1077'\n",
            " 'C1068' 'C1983' 'C2135' 'C2034' 'C1109' 'C1497' 'C2289' 'C2597' 'C2310'\n",
            " 'C1672' 'C2132' 'C1439' 'C1613' 'C2216' 'C1899' 'C1056' 'C2644' 'C1206'\n",
            " 'C2481' 'C1718' 'C1655' 'C1430' 'C1775' 'C1519' 'C2221' 'C1790' 'C2109'\n",
            " 'C1698' 'C1866' 'C1005' 'C1004' 'C1875' 'C2156' 'C2212' 'C2401' 'C2571'\n",
            " 'C1175' 'C1833' 'C2445' 'C1885' 'C2368' 'C2016' 'C2371' 'C2536' 'C2538'\n",
            " 'C1014' 'C1592' 'C1867' 'C2326' 'C1015' 'C1620' 'C1049' 'C2000' 'C2097'\n",
            " 'C1668' 'C1689' 'C1234' 'C2514' 'C1368' 'C1057' 'C2336' 'C1026' 'C2256'\n",
            " 'C1900' 'C2666' 'C2361' 'C1642' 'C1013' 'C2232' 'C1973' 'C2458' 'C2574'\n",
            " 'C2133' 'C2096' 'C2010' 'C1879' 'C1131' 'C1468' 'C1213' 'C1173' 'C2492'\n",
            " 'C2032' 'C2094' 'C1880' 'C2089' 'C1744' 'C2046' 'C2071' 'C2635' 'C2390'\n",
            " 'C2561' 'C1663' 'C2490' 'C2066' 'C1585' 'C2276' 'C1155' 'C1693' 'C1889'\n",
            " 'C2518' 'C1962' 'C1666' 'C1988' 'C1537' 'C1329' 'C1762' 'C2008' 'C1319'\n",
            " 'C1141' 'C2340' 'C1929' 'C1681' 'C1184' 'C2383' 'C1579' 'C2173' 'C1911'\n",
            " 'C1638' 'C2412' 'C1871' 'C1309' 'C1527' 'C2208' 'C1940' 'C2596' 'C2227'\n",
            " 'C2563' 'C2358' 'C1492' 'C1601' 'C1687' 'C1236' 'C1487' 'C1379' 'C1386'\n",
            " 'C1656' 'C2526' 'C1022' 'C1896' 'C1269' 'C1916' 'C2070' 'C1967' 'C2021'\n",
            " 'C1143' 'C2188' 'C2651' 'C1036' 'C2657' 'C2527' 'C1502' 'C2262' 'C1084'\n",
            " 'C2530' 'C1046' 'C1761' 'C1102' 'C2420' 'C1122' 'C2042' 'C1375' 'C1410'\n",
            " 'C1641' 'C1706' 'C1307' 'C2601' 'C1085' 'C2385' 'C1059' 'C2162' 'C1819'\n",
            " 'C2325' 'C2394' 'C1133' 'C1281' 'C1194' 'C2308' 'C2036' 'C1394' 'C1180'\n",
            " 'C2503' 'C1907' 'C2181' 'C1768' 'C1783' 'C2192' 'C2346' 'C2680' 'C2631'\n",
            " 'C2141' 'C1569' 'C2099' 'C2287' 'C2055' 'C1428' 'C2522' 'C2560' 'C2068'\n",
            " 'C2603' 'C1965' 'C1660' 'C2378' 'C1268' 'C1994' 'C1837' 'C1000' 'C1465'\n",
            " 'C1448' 'C1516' 'C2670' 'C1365' 'C1177' 'C1360' 'C2488' 'C1406' 'C1566'\n",
            " 'C1227' 'C2460' 'C2486' 'C2106' 'C1572' 'C1773' 'C1677' 'C1823' 'C1344'\n",
            " 'C2692' 'C2505' 'C2587' 'C2127' 'C1316' 'C1674' 'C1713' 'C1845' 'C2082'\n",
            " 'C1328' 'C2357' 'C2565' 'C1804' 'C1397' 'C2255' 'C1343' 'C1987' 'C2479'\n",
            " 'C2352' 'C1310' 'C1738' 'C1039' 'C1863' 'C1426' 'C2659' 'C2489' 'C2211'\n",
            " 'C2314' 'C1861' 'C2389' 'C1490' 'C1024' 'C1788' 'C1740' 'C2620' 'C1286'\n",
            " 'C2085' 'C1089' 'C2237' 'C1341' 'C1338' 'C2405' 'C1969' 'C2274' 'C1699'\n",
            " 'C2251' 'C1340' 'C2373' 'C1455' 'C1095' 'C2137' 'C1985' 'C2583' 'C2663'\n",
            " 'C2450' 'C2329' 'C1834' 'C1649' 'C1848' 'C1743' 'C1350' 'C1402' 'C1103'\n",
            " 'C1129' 'C1027' 'C2377' 'C2431' 'C2661' 'C1263' 'C1136' 'C2605' 'C2393'\n",
            " 'C1673' 'C1017' 'C2539' 'C1933' 'C2316' 'C2051' 'C2414' 'C1301' 'C1700'\n",
            " 'C1636' 'C2612' 'C1757' 'C2507' 'C1163' 'C2627' 'C2040' 'C2609' 'C2001'\n",
            " 'C1065' 'C1363' 'C2579' 'C1048' 'C1210' 'C1320' 'C1941' 'C1326' 'C1685'\n",
            " 'C2618' 'C1451' 'C2143' 'C1968' 'C2470' 'C1258' 'C2453' 'C1659' 'C1724'\n",
            " 'C1802' 'C1939' 'C1284' 'C2595' 'C2351' 'C2506' 'C1697' 'C2259' 'C1786'\n",
            " 'C1357' 'C2570' 'C1652' 'C1565' 'C1910' 'C2359' 'C2139' 'C1979' 'C1803'\n",
            " 'C2508' 'C2531' 'C1695' 'C2556' 'C2086' 'C1544' 'C2154' 'C2496' 'C1756'\n",
            " 'C2362' 'C2568' 'C2245' 'C2059' 'C2549' 'C1584' 'C2298' 'C2225' 'C1218'\n",
            " 'C2328' 'C1045' 'C1207' 'C1970' 'C1732' 'C2433' 'C1894' 'C1156' 'C2142'\n",
            " 'C2153' 'C2186' 'C1176' 'C2446' 'C2586' 'C2035' 'C2020' 'C2437' 'C2532'] \n",
            "\n",
            "col: 임대건물구분, \n",
            " ['아파트' '상가'] \n",
            "\n",
            "col: 지역, \n",
            " ['경상북도' '경상남도' '대전광역시' '경기도' '전라북도' '강원도' '광주광역시' '충청남도' '부산광역시' '제주특별자치도'\n",
            " '울산광역시' '충청북도' '전라남도' '대구광역시' '서울특별시' '세종특별자치시'] \n",
            "\n",
            "col: 공급유형, \n",
            " ['국민임대' '공공임대(50년)' '영구임대' '임대상가' '공공임대(10년)' '공공임대(분납)' '장기전세' '공공분양'\n",
            " '행복주택' '공공임대(5년)'] \n",
            "\n",
            "col: 자격유형, \n",
            " ['A' 'B' 'C' 'D' 'E' 'F' 'G' 'H' 'I' 'J' 'K' 'L' 'M' 'N' 'O'] \n",
            "\n"
          ]
        }
      ]
    },
    {
      "cell_type": "code",
      "metadata": {
        "colab": {
          "base_uri": "https://localhost:8080/",
          "height": 418
        },
        "id": "p1276GkyiiOj",
        "outputId": "c901a64a-ff57-4f8d-9236-6c648352b353"
      },
      "source": [
        " raw_train[raw_train.dtypes[raw_train.dtypes != 'object'].index]"
      ],
      "execution_count": null,
      "outputs": [
        {
          "output_type": "execute_result",
          "data": {
            "text/html": [
              "<div>\n",
              "<style scoped>\n",
              "    .dataframe tbody tr th:only-of-type {\n",
              "        vertical-align: middle;\n",
              "    }\n",
              "\n",
              "    .dataframe tbody tr th {\n",
              "        vertical-align: top;\n",
              "    }\n",
              "\n",
              "    .dataframe thead th {\n",
              "        text-align: right;\n",
              "    }\n",
              "</style>\n",
              "<table border=\"1\" class=\"dataframe\">\n",
              "  <thead>\n",
              "    <tr style=\"text-align: right;\">\n",
              "      <th></th>\n",
              "      <th>총세대수</th>\n",
              "      <th>전용면적</th>\n",
              "      <th>전용면적별세대수</th>\n",
              "      <th>공가수</th>\n",
              "      <th>도보 10분거리 내 지하철역 수(환승노선 수 반영)</th>\n",
              "      <th>도보 10분거리 내 버스정류장 수</th>\n",
              "      <th>단지내주차면수</th>\n",
              "      <th>등록차량수</th>\n",
              "    </tr>\n",
              "  </thead>\n",
              "  <tbody>\n",
              "    <tr>\n",
              "      <th>0</th>\n",
              "      <td>900</td>\n",
              "      <td>39.72</td>\n",
              "      <td>134</td>\n",
              "      <td>38.0</td>\n",
              "      <td>0.0</td>\n",
              "      <td>3.0</td>\n",
              "      <td>1425.0</td>\n",
              "      <td>1015.0</td>\n",
              "    </tr>\n",
              "    <tr>\n",
              "      <th>1</th>\n",
              "      <td>900</td>\n",
              "      <td>39.72</td>\n",
              "      <td>15</td>\n",
              "      <td>38.0</td>\n",
              "      <td>0.0</td>\n",
              "      <td>3.0</td>\n",
              "      <td>1425.0</td>\n",
              "      <td>1015.0</td>\n",
              "    </tr>\n",
              "    <tr>\n",
              "      <th>2</th>\n",
              "      <td>900</td>\n",
              "      <td>51.93</td>\n",
              "      <td>385</td>\n",
              "      <td>38.0</td>\n",
              "      <td>0.0</td>\n",
              "      <td>3.0</td>\n",
              "      <td>1425.0</td>\n",
              "      <td>1015.0</td>\n",
              "    </tr>\n",
              "    <tr>\n",
              "      <th>3</th>\n",
              "      <td>900</td>\n",
              "      <td>51.93</td>\n",
              "      <td>15</td>\n",
              "      <td>38.0</td>\n",
              "      <td>0.0</td>\n",
              "      <td>3.0</td>\n",
              "      <td>1425.0</td>\n",
              "      <td>1015.0</td>\n",
              "    </tr>\n",
              "    <tr>\n",
              "      <th>4</th>\n",
              "      <td>900</td>\n",
              "      <td>51.93</td>\n",
              "      <td>41</td>\n",
              "      <td>38.0</td>\n",
              "      <td>0.0</td>\n",
              "      <td>3.0</td>\n",
              "      <td>1425.0</td>\n",
              "      <td>1015.0</td>\n",
              "    </tr>\n",
              "    <tr>\n",
              "      <th>...</th>\n",
              "      <td>...</td>\n",
              "      <td>...</td>\n",
              "      <td>...</td>\n",
              "      <td>...</td>\n",
              "      <td>...</td>\n",
              "      <td>...</td>\n",
              "      <td>...</td>\n",
              "      <td>...</td>\n",
              "    </tr>\n",
              "    <tr>\n",
              "      <th>2947</th>\n",
              "      <td>239</td>\n",
              "      <td>49.20</td>\n",
              "      <td>19</td>\n",
              "      <td>7.0</td>\n",
              "      <td>0.0</td>\n",
              "      <td>1.0</td>\n",
              "      <td>166.0</td>\n",
              "      <td>146.0</td>\n",
              "    </tr>\n",
              "    <tr>\n",
              "      <th>2948</th>\n",
              "      <td>239</td>\n",
              "      <td>51.08</td>\n",
              "      <td>34</td>\n",
              "      <td>7.0</td>\n",
              "      <td>0.0</td>\n",
              "      <td>1.0</td>\n",
              "      <td>166.0</td>\n",
              "      <td>146.0</td>\n",
              "    </tr>\n",
              "    <tr>\n",
              "      <th>2949</th>\n",
              "      <td>239</td>\n",
              "      <td>51.73</td>\n",
              "      <td>34</td>\n",
              "      <td>7.0</td>\n",
              "      <td>0.0</td>\n",
              "      <td>1.0</td>\n",
              "      <td>166.0</td>\n",
              "      <td>146.0</td>\n",
              "    </tr>\n",
              "    <tr>\n",
              "      <th>2950</th>\n",
              "      <td>239</td>\n",
              "      <td>51.96</td>\n",
              "      <td>114</td>\n",
              "      <td>7.0</td>\n",
              "      <td>0.0</td>\n",
              "      <td>1.0</td>\n",
              "      <td>166.0</td>\n",
              "      <td>146.0</td>\n",
              "    </tr>\n",
              "    <tr>\n",
              "      <th>2951</th>\n",
              "      <td>239</td>\n",
              "      <td>54.95</td>\n",
              "      <td>19</td>\n",
              "      <td>7.0</td>\n",
              "      <td>0.0</td>\n",
              "      <td>1.0</td>\n",
              "      <td>166.0</td>\n",
              "      <td>146.0</td>\n",
              "    </tr>\n",
              "  </tbody>\n",
              "</table>\n",
              "<p>2952 rows × 8 columns</p>\n",
              "</div>"
            ],
            "text/plain": [
              "      총세대수   전용면적  전용면적별세대수  ...  도보 10분거리 내 버스정류장 수  단지내주차면수   등록차량수\n",
              "0      900  39.72       134  ...                 3.0   1425.0  1015.0\n",
              "1      900  39.72        15  ...                 3.0   1425.0  1015.0\n",
              "2      900  51.93       385  ...                 3.0   1425.0  1015.0\n",
              "3      900  51.93        15  ...                 3.0   1425.0  1015.0\n",
              "4      900  51.93        41  ...                 3.0   1425.0  1015.0\n",
              "...    ...    ...       ...  ...                 ...      ...     ...\n",
              "2947   239  49.20        19  ...                 1.0    166.0   146.0\n",
              "2948   239  51.08        34  ...                 1.0    166.0   146.0\n",
              "2949   239  51.73        34  ...                 1.0    166.0   146.0\n",
              "2950   239  51.96       114  ...                 1.0    166.0   146.0\n",
              "2951   239  54.95        19  ...                 1.0    166.0   146.0\n",
              "\n",
              "[2952 rows x 8 columns]"
            ]
          },
          "metadata": {},
          "execution_count": 155
        }
      ]
    },
    {
      "cell_type": "markdown",
      "metadata": {
        "id": "j0I1hrixA1s2"
      },
      "source": [
        "# 데이터 전처리 1 - (null값처리)"
      ]
    },
    {
      "cell_type": "markdown",
      "metadata": {
        "id": "gnUutcb4Bli2"
      },
      "source": [
        "## null 값처리"
      ]
    },
    {
      "cell_type": "code",
      "metadata": {
        "id": "ASxRIv6uA6aZ"
      },
      "source": [
        "for col in raw_train.columns:\n",
        "  print(f\"{col} : {raw_train[col].unique()}\")"
      ],
      "execution_count": null,
      "outputs": []
    },
    {
      "cell_type": "markdown",
      "metadata": {
        "id": "f1zpuo58C3Lb"
      },
      "source": [
        "- 값을 확인해보니 해당 데이터파일의 널값 표시는 '-'로 지정하는 것으로 확인됨"
      ]
    },
    {
      "cell_type": "code",
      "metadata": {
        "id": "jwCduVpJB5B0"
      },
      "source": [
        "#'-' or null값 파악\n",
        "for col in raw_train.columns:\n",
        "  print(f\"{col} \\t '-' 개수: {len( raw_train[(raw_train[col] == '-')])} \\\n",
        "        null 개수: {len(raw_train[raw_train[col].isnull()])} \\\n",
        "        정상값: {len(raw_train[(raw_train[col] != '-') & (raw_train[col].notnull())])} \\n \\\n",
        "        합계: {len( raw_train[(raw_train[col] == '-')]) + len(raw_train[raw_train[col].isnull()]) + len(raw_train[(raw_train[col] != '-') & (raw_train[col].notnull())])}\")"
      ],
      "execution_count": null,
      "outputs": []
    },
    {
      "cell_type": "markdown",
      "metadata": {
        "id": "OYT3ZPNBEs_q"
      },
      "source": [
        "- 위 작업을 통해서 '-' 값과 null값을 처리하면 된다는 것을 파악함"
      ]
    },
    {
      "cell_type": "code",
      "metadata": {
        "id": "bUM3EMYvEsVf"
      },
      "source": [
        "#같은 프로세스로 raw_test 확인\n",
        "#'-' or null값 파악\n",
        "for col in raw_test.columns:\n",
        "  print(f\"{col} \\t '-' 개수: {len( raw_test[(raw_test[col] == '-')])} \\\n",
        "        null 개수: {len(raw_test[raw_test[col].isnull()])} \\\n",
        "        정상값: {len(raw_test[(raw_test[col] != '-') & (raw_test[col].notnull())])} \\n \\\n",
        "        합계: {len( raw_test[(raw_test[col] == '-')]) + len(raw_test[raw_test[col].isnull()]) + len(raw_test[(raw_test[col] != '-') & (raw_test[col].notnull())])}\")"
      ],
      "execution_count": null,
      "outputs": []
    },
    {
      "cell_type": "markdown",
      "metadata": {
        "id": "xlHJlagYGrIb"
      },
      "source": [
        "- raw_test도 train과 같이 '-'와 null만 처리하면 됨\n",
        "- train, test 전체적으로 '-'가 있는 컬럼은 '임대보증금', '임대료'\n",
        "- train, test 전체적으로 null이 있는 컬럼은 '임대보증금', '임대료', '도보 10분거리 내 버스정류장 수' 이다\n"
      ]
    },
    {
      "cell_type": "markdown",
      "metadata": {
        "id": "hEDZEI8omuNP"
      },
      "source": [
        "### 임대보증금, 임대료 처리"
      ]
    },
    {
      "cell_type": "code",
      "metadata": {
        "id": "x-cC9iWJDVMe"
      },
      "source": [
        "#'-'가 있는 '임대보증금', '임대료' 컬럼부터 확인\n",
        "raw_train[raw_train['임대보증금'] == '-'].head()"
      ],
      "execution_count": null,
      "outputs": []
    },
    {
      "cell_type": "code",
      "metadata": {
        "id": "niSQknPGH-3p"
      },
      "source": [
        "raw_train[raw_train['임대료'] == '-'].head()"
      ],
      "execution_count": null,
      "outputs": []
    },
    {
      "cell_type": "markdown",
      "metadata": {
        "id": "-SDBmexdNbh0"
      },
      "source": [
        "- 임대료가 없는 곳에는 임대보증금이 없음\n",
        "- null값 처리를 위해서 임대보증금과 임대료의 상관관계 확인이 필요"
      ]
    },
    {
      "cell_type": "code",
      "metadata": {
        "id": "kJIEdLg7I-xG"
      },
      "source": [
        "#공급유형별로 상관관계 확인\n",
        "for supply_type in raw_train['공급유형'].unique():\n",
        "  supply_type_check = raw_train[(raw_train['공급유형'] == supply_type) & (raw_train['임대료'] != '-') & \\\n",
        "                (raw_train['임대보증금'] != '-')& (raw_train['임대료'].notnull()) & \\\n",
        "                (raw_train['임대보증금'].notnull())][['등록차량수', '임대보증금', '임대료']] \\\n",
        "                .drop_duplicates(['등록차량수', '임대보증금', '임대료'], keep='first').astype(int)\n",
        "  print(f\"row개수 / {supply_type} : {len(supply_type_check)}\")\n",
        "  print(f\"상관관계 / {supply_type} : {supply_type_check.corr()}\")"
      ],
      "execution_count": null,
      "outputs": []
    },
    {
      "cell_type": "markdown",
      "metadata": {
        "id": "GIAi6yfjsQ1Q"
      },
      "source": [
        "- 공급유형별 임대료,임대"
      ]
    },
    {
      "cell_type": "code",
      "metadata": {
        "id": "pGDXK3swZ_VB"
      },
      "source": [
        "#공급유형별 임대료, 임대보증금 시각화\n",
        "supply_type_check = raw_train[(raw_train['임대료'] != '-') & \\\n",
        "                (raw_train['임대보증금'] != '-')& (raw_train['임대료'].notnull()) & \\\n",
        "                (raw_train['임대보증금'].notnull())][['공급유형', '임대보증금', '임대료']] \\\n",
        "                .drop_duplicates(['공급유형', '임대보증금', '임대료'], keep='first').astype({'임대보증금': 'int', '임대료': 'int'})\n",
        "\n",
        "fig = go.Figure()\n",
        "fig = px.scatter(supply_type_check, x= '임대료', y= '임대보증금', color = '공급유형',\\\n",
        "                            color_discrete_sequence=px.colors.qualitative.Alphabet)\n",
        "fig.update_layout(title='공급유형별 임대료, 임대보증금 분포') #autosize =, width = 1000, height = 500)"
      ],
      "execution_count": null,
      "outputs": []
    },
    {
      "cell_type": "markdown",
      "metadata": {
        "id": "sMxWEKiNf5pJ"
      },
      "source": [
        "- 임대상가, 장기전세, 공공분양 등은 null값이 아닌 정상적인 row가 없음  \n",
        "- 상관관계또한 \n",
        "위와 같은 이유로 평균이나 중앙값을 넣기에는 리스크가 있음 -> 해당 컬럼 삭제  "
      ]
    },
    {
      "cell_type": "markdown",
      "metadata": {
        "id": "JwkjjDW3twLh"
      },
      "source": [
        "### 자격유형 처리"
      ]
    },
    {
      "cell_type": "code",
      "metadata": {
        "colab": {
          "base_uri": "https://localhost:8080/",
          "height": 66
        },
        "id": "En1HmNBVYYS1",
        "outputId": "15c84d6f-729b-4b35-f64b-31d7152571d9"
      },
      "source": [
        "#test에 자격유형 null값 처리\n",
        "raw_test[raw_test['자격유형'] == '-'] #없음"
      ],
      "execution_count": null,
      "outputs": [
        {
          "data": {
            "text/html": [
              "<div>\n",
              "<style scoped>\n",
              "    .dataframe tbody tr th:only-of-type {\n",
              "        vertical-align: middle;\n",
              "    }\n",
              "\n",
              "    .dataframe tbody tr th {\n",
              "        vertical-align: top;\n",
              "    }\n",
              "\n",
              "    .dataframe thead th {\n",
              "        text-align: right;\n",
              "    }\n",
              "</style>\n",
              "<table border=\"1\" class=\"dataframe\">\n",
              "  <thead>\n",
              "    <tr style=\"text-align: right;\">\n",
              "      <th></th>\n",
              "      <th>단지코드</th>\n",
              "      <th>총세대수</th>\n",
              "      <th>임대건물구분</th>\n",
              "      <th>지역</th>\n",
              "      <th>공급유형</th>\n",
              "      <th>전용면적</th>\n",
              "      <th>전용면적별세대수</th>\n",
              "      <th>공가수</th>\n",
              "      <th>자격유형</th>\n",
              "      <th>임대보증금</th>\n",
              "      <th>임대료</th>\n",
              "      <th>도보 10분거리 내 지하철역 수(환승노선 수 반영)</th>\n",
              "      <th>도보 10분거리 내 버스정류장 수</th>\n",
              "      <th>단지내주차면수</th>\n",
              "    </tr>\n",
              "  </thead>\n",
              "  <tbody>\n",
              "  </tbody>\n",
              "</table>\n",
              "</div>"
            ],
            "text/plain": [
              "Empty DataFrame\n",
              "Columns: [단지코드, 총세대수, 임대건물구분, 지역, 공급유형, 전용면적, 전용면적별세대수, 공가수, 자격유형, 임대보증금, 임대료, 도보 10분거리 내 지하철역 수(환승노선 수 반영), 도보 10분거리 내 버스정류장 수, 단지내주차면수]\n",
              "Index: []"
            ]
          },
          "execution_count": 32,
          "metadata": {},
          "output_type": "execute_result"
        }
      ]
    },
    {
      "cell_type": "code",
      "metadata": {
        "colab": {
          "base_uri": "https://localhost:8080/",
          "height": 162
        },
        "id": "Q042ldYcYvnY",
        "outputId": "4e782ba8-f97f-4c6a-e7dc-4e0a1ac6a51e"
      },
      "source": [
        "#test에 자격유형 null값 처리\n",
        "raw_test[raw_test['자격유형'].isnull()] #C2411과 C2253 null값임"
      ],
      "execution_count": null,
      "outputs": [
        {
          "data": {
            "text/html": [
              "<div>\n",
              "<style scoped>\n",
              "    .dataframe tbody tr th:only-of-type {\n",
              "        vertical-align: middle;\n",
              "    }\n",
              "\n",
              "    .dataframe tbody tr th {\n",
              "        vertical-align: top;\n",
              "    }\n",
              "\n",
              "    .dataframe thead th {\n",
              "        text-align: right;\n",
              "    }\n",
              "</style>\n",
              "<table border=\"1\" class=\"dataframe\">\n",
              "  <thead>\n",
              "    <tr style=\"text-align: right;\">\n",
              "      <th></th>\n",
              "      <th>단지코드</th>\n",
              "      <th>총세대수</th>\n",
              "      <th>임대건물구분</th>\n",
              "      <th>지역</th>\n",
              "      <th>공급유형</th>\n",
              "      <th>전용면적</th>\n",
              "      <th>전용면적별세대수</th>\n",
              "      <th>공가수</th>\n",
              "      <th>자격유형</th>\n",
              "      <th>임대보증금</th>\n",
              "      <th>임대료</th>\n",
              "      <th>도보 10분거리 내 지하철역 수(환승노선 수 반영)</th>\n",
              "      <th>도보 10분거리 내 버스정류장 수</th>\n",
              "      <th>단지내주차면수</th>\n",
              "    </tr>\n",
              "  </thead>\n",
              "  <tbody>\n",
              "    <tr>\n",
              "      <th>196</th>\n",
              "      <td>C2411</td>\n",
              "      <td>962</td>\n",
              "      <td>아파트</td>\n",
              "      <td>경상남도</td>\n",
              "      <td>국민임대</td>\n",
              "      <td>46.90</td>\n",
              "      <td>240</td>\n",
              "      <td>25.0</td>\n",
              "      <td>NaN</td>\n",
              "      <td>71950000</td>\n",
              "      <td>37470</td>\n",
              "      <td>0.0</td>\n",
              "      <td>2.0</td>\n",
              "      <td>840.0</td>\n",
              "    </tr>\n",
              "    <tr>\n",
              "      <th>258</th>\n",
              "      <td>C2253</td>\n",
              "      <td>1161</td>\n",
              "      <td>아파트</td>\n",
              "      <td>강원도</td>\n",
              "      <td>영구임대</td>\n",
              "      <td>26.37</td>\n",
              "      <td>745</td>\n",
              "      <td>0.0</td>\n",
              "      <td>NaN</td>\n",
              "      <td>2249000</td>\n",
              "      <td>44770</td>\n",
              "      <td>0.0</td>\n",
              "      <td>2.0</td>\n",
              "      <td>173.0</td>\n",
              "    </tr>\n",
              "  </tbody>\n",
              "</table>\n",
              "</div>"
            ],
            "text/plain": [
              "      단지코드  총세대수  ... 도보 10분거리 내 버스정류장 수 단지내주차면수\n",
              "196  C2411   962  ...                2.0   840.0\n",
              "258  C2253  1161  ...                2.0   173.0\n",
              "\n",
              "[2 rows x 14 columns]"
            ]
          },
          "execution_count": 33,
          "metadata": {},
          "output_type": "execute_result"
        }
      ]
    },
    {
      "cell_type": "code",
      "metadata": {
        "id": "0dth4gvLY3_V"
      },
      "source": [
        "raw_test[(raw_test['단지코드'] == 'C2411') | (raw_test['단지코드'] == 'C2253')] "
      ],
      "execution_count": null,
      "outputs": []
    },
    {
      "cell_type": "markdown",
      "metadata": {
        "id": "5yA2DbsiZOBW"
      },
      "source": [
        "- 해당 같은 코드의 자격유형을 그대로 넣으면 된다는 것을 판단됨"
      ]
    },
    {
      "cell_type": "code",
      "metadata": {
        "id": "5O2uMwPbZUea"
      },
      "source": [
        "raw_test.loc[raw_test.단지코드.isin(['C2411']) & raw_test.자격유형.isnull(), '자격유형'] = 'A'\n",
        "raw_test.loc[raw_test.단지코드.isin(['C2253']) & raw_test.자격유형.isnull(), '자격유형'] = 'C'"
      ],
      "execution_count": null,
      "outputs": []
    },
    {
      "cell_type": "markdown",
      "metadata": {
        "id": "AdA0Qt1Njlq1"
      },
      "source": [
        "### 버스 정류장 및 지하철 수 처리"
      ]
    },
    {
      "cell_type": "code",
      "metadata": {
        "id": "jGc-GMj9h-XO"
      },
      "source": [
        "#도보 10분거리 내 버스정류장 수 null값 처리\n",
        "raw_train['도보 10분거리 내 버스정류장 수'].unique()"
      ],
      "execution_count": null,
      "outputs": []
    },
    {
      "cell_type": "code",
      "metadata": {
        "id": "R-vAxS13jskw"
      },
      "source": [
        "raw_test['도보 10분거리 내 버스정류장 수'].unique()"
      ],
      "execution_count": null,
      "outputs": []
    },
    {
      "cell_type": "markdown",
      "metadata": {
        "id": "4pR5jPBrjvyh"
      },
      "source": [
        "- null값은 평균처리\n",
        "- 50은 너무 뜬금없고 현실적으로 불가능할 것으로 판단하여 평균값 처리"
      ]
    },
    {
      "cell_type": "code",
      "metadata": {
        "id": "oNzTmBxUkZpI"
      },
      "source": [
        "raw_train['도보 10분거리 내 버스정류장 수'] = raw_train['도보 10분거리 내 버스정류장 수'].fillna(raw_train['도보 10분거리 내 버스정류장 수'].mean())\n",
        "raw_test.loc[raw_test['도보 10분거리 내 버스정류장 수'] == 50, '도보 10분거리 내 버스정류장 수'] = raw_test['도보 10분거리 내 버스정류장 수'].mean()"
      ],
      "execution_count": null,
      "outputs": []
    },
    {
      "cell_type": "code",
      "metadata": {
        "id": "nuohzTHPkEmt"
      },
      "source": [
        "#지하철 null값 0개 처리\n",
        "raw_train['도보 10분거리 내 지하철역 수(환승노선 수 반영)'] = raw_train['도보 10분거리 내 지하철역 수(환승노선 수 반영)'].fillna(0)\n",
        "raw_test['도보 10분거리 내 지하철역 수(환승노선 수 반영)'] = raw_test['도보 10분거리 내 지하철역 수(환승노선 수 반영)'].fillna(0)"
      ],
      "execution_count": null,
      "outputs": []
    },
    {
      "cell_type": "markdown",
      "metadata": {
        "id": "MZn89OL0m3qM"
      },
      "source": [
        "# 변수탐색 및 파생변수생성"
      ]
    },
    {
      "cell_type": "markdown",
      "metadata": {
        "id": "3fb8CH0apmDY"
      },
      "source": [
        "### 등록차량수, 단지내주차면수 -> 전용면적별세대수 비율에 맞추기\n",
        "\n",
        "- 문제\n",
        "    - 동일 단지코드별로 차량등록수, 단지내주차면수가 같음  \n",
        "\n",
        "- 해결방안\n",
        "    - 세대수가 많은 건물이 당연하게도을 차량을 많이 등록할 것임 -> 전용면적별세대수 비율로 단지내주차면수, 등록차량수 비율처리"
      ]
    },
    {
      "cell_type": "code",
      "metadata": {
        "id": "kEhW2sqaqJ_s"
      },
      "source": [
        "raw_train.head(30)"
      ],
      "execution_count": null,
      "outputs": []
    },
    {
      "cell_type": "markdown",
      "metadata": {
        "id": "4Z6QRT65yzQn"
      },
      "source": [
        "----------------------------------------\n",
        "총세대수와 단지내주차면수, 등록차량수 관계 확인"
      ]
    },
    {
      "cell_type": "code",
      "metadata": {
        "colab": {
          "base_uri": "https://localhost:8080/",
          "height": 141
        },
        "id": "SxIZGbBcWnG7",
        "outputId": "8416fe03-00c2-44e2-93c6-ab7b6a33292d"
      },
      "source": [
        "temp = raw_train.drop_duplicates(['단지코드'], keep='first')[['단지코드','총세대수', '단지내주차면수', '등록차량수']]\n",
        "temp.iloc[:,1:].corr()"
      ],
      "execution_count": null,
      "outputs": [
        {
          "output_type": "execute_result",
          "data": {
            "text/html": [
              "<div>\n",
              "<style scoped>\n",
              "    .dataframe tbody tr th:only-of-type {\n",
              "        vertical-align: middle;\n",
              "    }\n",
              "\n",
              "    .dataframe tbody tr th {\n",
              "        vertical-align: top;\n",
              "    }\n",
              "\n",
              "    .dataframe thead th {\n",
              "        text-align: right;\n",
              "    }\n",
              "</style>\n",
              "<table border=\"1\" class=\"dataframe\">\n",
              "  <thead>\n",
              "    <tr style=\"text-align: right;\">\n",
              "      <th></th>\n",
              "      <th>총세대수</th>\n",
              "      <th>단지내주차면수</th>\n",
              "      <th>등록차량수</th>\n",
              "    </tr>\n",
              "  </thead>\n",
              "  <tbody>\n",
              "    <tr>\n",
              "      <th>총세대수</th>\n",
              "      <td>1.000000</td>\n",
              "      <td>0.741369</td>\n",
              "      <td>0.579290</td>\n",
              "    </tr>\n",
              "    <tr>\n",
              "      <th>단지내주차면수</th>\n",
              "      <td>0.741369</td>\n",
              "      <td>1.000000</td>\n",
              "      <td>0.848199</td>\n",
              "    </tr>\n",
              "    <tr>\n",
              "      <th>등록차량수</th>\n",
              "      <td>0.579290</td>\n",
              "      <td>0.848199</td>\n",
              "      <td>1.000000</td>\n",
              "    </tr>\n",
              "  </tbody>\n",
              "</table>\n",
              "</div>"
            ],
            "text/plain": [
              "             총세대수   단지내주차면수     등록차량수\n",
              "총세대수     1.000000  0.741369  0.579290\n",
              "단지내주차면수  0.741369  1.000000  0.848199\n",
              "등록차량수    0.579290  0.848199  1.000000"
            ]
          },
          "metadata": {},
          "execution_count": 131
        }
      ]
    },
    {
      "cell_type": "code",
      "metadata": {
        "colab": {
          "base_uri": "https://localhost:8080/",
          "height": 542
        },
        "id": "gf2S9khyWnG8",
        "outputId": "35f0105a-4476-40b4-c7a3-935a2d581b70"
      },
      "source": [
        "fig = go.Figure()\n",
        "fig = px.scatter(temp, x= '총세대수', y = '등록차량수',\n",
        "                            color_discrete_sequence=px.colors.qualitative.Alphabet)\n",
        "fig.update_layout(title='총세대수, 등록차량수') #autosize =, width = 1000, height = 500)"
      ],
      "execution_count": null,
      "outputs": [
        {
          "output_type": "display_data",
          "data": {
            "text/html": [
              "<html>\n",
              "<head><meta charset=\"utf-8\" /></head>\n",
              "<body>\n",
              "    <div>\n",
              "            <script src=\"https://cdnjs.cloudflare.com/ajax/libs/mathjax/2.7.5/MathJax.js?config=TeX-AMS-MML_SVG\"></script><script type=\"text/javascript\">if (window.MathJax) {MathJax.Hub.Config({SVG: {font: \"STIX-Web\"}});}</script>\n",
              "                <script type=\"text/javascript\">window.PlotlyConfig = {MathJaxConfig: 'local'};</script>\n",
              "        <script src=\"https://cdn.plot.ly/plotly-latest.min.js\"></script>    \n",
              "            <div id=\"531e17c8-3499-4e7a-adba-628eb011c9ce\" class=\"plotly-graph-div\" style=\"height:525px; width:100%;\"></div>\n",
              "            <script type=\"text/javascript\">\n",
              "                \n",
              "                    window.PLOTLYENV=window.PLOTLYENV || {};\n",
              "                    \n",
              "                if (document.getElementById(\"531e17c8-3499-4e7a-adba-628eb011c9ce\")) {\n",
              "                    Plotly.newPlot(\n",
              "                        '531e17c8-3499-4e7a-adba-628eb011c9ce',\n",
              "                        [{\"hoverlabel\": {\"namelength\": 0}, \"hovertemplate\": \"\\ucd1d\\uc138\\ub300\\uc218=%{x}<br>\\ub4f1\\ub85d\\ucc28\\ub7c9\\uc218=%{y}\", \"legendgroup\": \"\", \"marker\": {\"color\": \"#AA0DFE\", \"symbol\": \"circle\"}, \"mode\": \"markers\", \"name\": \"\", \"showlegend\": false, \"type\": \"scatter\", \"x\": [900, 545, 1216, 755, 696, 566, 1722, 624, 361, 754, 240, 688, 623, 601, 405, 518, 619, 875, 560, 595, 625, 880, 1396, 970, 606, 1507, 639, 965, 946, 785, 2424, 809, 388, 1013, 453, 861, 806, 903, 1116, 1486, 1957, 802, 1527, 1005, 1988, 1350, 2428, 1755, 840, 390, 451, 410, 779, 755, 693, 753, 498, 1533, 711, 420, 590, 657, 495, 460, 338, 1144, 521, 1003, 306, 697, 213, 481, 468, 1364, 800, 830, 775, 261, 474, 72, 1473, 996, 870, 678, 632, 961, 1232, 676, 1300, 998, 493, 1117, 307, 501, 896, 521, 458, 290, 409, 586, 1084, 1174, 270, 1308, 355, 384, 853, 996, 355, 492, 861, 711, 901, 815, 312, 571, 594, 944, 410, 635, 962, 822, 1129, 1479, 330, 386, 456, 642, 302, 757, 705, 1072, 375, 853, 1018, 341, 416, 708, 475, 662, 1002, 462, 781, 496, 630, 512, 492, 534, 458, 762, 1005, 775, 890, 494, 571, 550, 383, 996, 882, 615, 470, 477, 496, 1260, 390, 330, 773, 1124, 550, 324, 1497, 531, 355, 389, 712, 561, 816, 898, 581, 851, 693, 136, 225, 742, 866, 383, 407, 720, 280, 307, 232, 602, 522, 457, 808, 712, 757, 356, 283, 467, 506, 243, 525, 445, 514, 374, 330, 378, 277, 856, 646, 511, 285, 256, 466, 314, 382, 212, 872, 508, 594, 514, 558, 758, 812, 504, 631, 332, 409, 773, 375, 747, 372, 434, 538, 498, 718, 818, 1035, 431, 467, 566, 861, 1116, 456, 648, 875, 1668, 443, 1215, 1647, 462, 806, 1017, 589, 504, 937, 840, 1144, 553, 424, 499, 200, 603, 700, 107, 318, 656, 306, 970, 992, 533, 1006, 478, 370, 560, 600, 291, 679, 1065, 1037, 715, 790, 1099, 374, 504, 1128, 304, 600, 690, 690, 749, 680, 376, 783, 1029, 919, 969, 368, 70, 922, 622, 600, 1366, 1122, 752, 886, 552, 850, 432, 1256, 960, 874, 1106, 772, 483, 1028, 326, 575, 532, 791, 1401, 344, 935, 1444, 452, 1105, 472, 354, 268, 984, 624, 1546, 640, 1460, 396, 1022, 1126, 1164, 924, 340, 922, 632, 1684, 794, 1454, 316, 580, 198, 556, 540, 938, 2568, 1058, 368, 1088, 1696, 404, 1934, 295, 1550, 1618, 363, 514, 636, 840, 659, 902, 1256, 1438, 2334, 528, 867, 542, 1124, 526, 947, 480, 908, 450, 890, 1020, 616, 820, 311, 270, 100, 847, 540, 203, 303, 1080, 442, 178, 818, 404, 1509, 412, 212, 26, 202, 1227, 581, 1206, 1048, 1077, 464, 100, 214, 266, 511, 307, 1004, 954, 362, 924, 1486, 2200, 90, 492, 40, 90, 239], \"xaxis\": \"x\", \"y\": [1015.0, 205.0, 1064.0, 730.0, 553.0, 415.0, 1804.0, 700.0, 301.0, 820.0, 234.0, 841.0, 226.0, 75.0, 73.0, 359.0, 62.0, 159.0, 63.0, 91.0, 179.0, 671.0, 133.0, 386.0, 266.0, 98.0, 131.0, 78.0, 316.0, 108.0, 116.0, 649.0, 254.0, 129.0, 70.0, 236.0, 510.0, 253.0, 127.0, 132.0, 313.0, 382.0, 364.0, 94.0, 189.0, 873.0, 359.0, 172.0, 498.0, 149.0, 31.0, 125.0, 177.0, 90.0, 302.0, 496.0, 236.0, 839.0, 96.0, 235.0, 359.0, 120.0, 60.0, 65.0, 135.0, 376.0, 93.0, 209.0, 204.0, 86.0, 19.0, 62.0, 430.0, 1001.0, 334.0, 616.0, 548.0, 220.0, 451.0, 47.0, 799.0, 708.0, 739.0, 374.0, 557.0, 579.0, 1101.0, 762.0, 795.0, 995.0, 288.0, 960.0, 311.0, 648.0, 861.0, 521.0, 562.0, 422.0, 344.0, 596.0, 701.0, 1117.0, 297.0, 1665.0, 248.0, 457.0, 910.0, 826.0, 328.0, 525.0, 690.0, 713.0, 1019.0, 810.0, 148.0, 609.0, 585.0, 1162.0, 318.0, 761.0, 572.0, 979.0, 1306.0, 1398.0, 442.0, 422.0, 441.0, 700.0, 340.0, 503.0, 718.0, 1159.0, 373.0, 1087.0, 808.0, 305.0, 401.0, 465.0, 402.0, 669.0, 554.0, 460.0, 548.0, 398.0, 620.0, 382.0, 413.0, 520.0, 488.0, 832.0, 1158.0, 745.0, 831.0, 413.0, 487.0, 408.0, 446.0, 1150.0, 840.0, 709.0, 480.0, 505.0, 449.0, 1010.0, 296.0, 308.0, 349.0, 657.0, 505.0, 294.0, 1145.0, 257.0, 321.0, 450.0, 845.0, 643.0, 752.0, 735.0, 639.0, 902.0, 632.0, 125.0, 282.0, 1279.0, 782.0, 375.0, 438.0, 540.0, 226.0, 302.0, 156.0, 730.0, 417.0, 505.0, 1077.0, 757.0, 754.0, 815.0, 268.0, 362.0, 504.0, 281.0, 521.0, 552.0, 246.0, 347.0, 272.0, 293.0, 254.0, 842.0, 484.0, 585.0, 244.0, 258.0, 271.0, 311.0, 327.0, 207.0, 683.0, 670.0, 570.0, 324.0, 553.0, 590.0, 638.0, 495.0, 528.0, 383.0, 284.0, 723.0, 333.0, 610.0, 481.0, 594.0, 509.0, 500.0, 512.0, 901.0, 934.0, 496.0, 398.0, 481.0, 557.0, 1284.0, 475.0, 435.0, 945.0, 1044.0, 375.0, 1023.0, 1350.0, 284.0, 823.0, 793.0, 587.0, 353.0, 479.0, 614.0, 1101.0, 652.0, 509.0, 437.0, 163.0, 589.0, 403.0, 22.0, 322.0, 566.0, 277.0, 822.0, 770.0, 345.0, 1090.0, 951.0, 1595.0, 410.0, 549.0, 166.0, 647.0, 793.0, 1084.0, 682.0, 645.0, 733.0, 262.0, 365.0, 950.0, 244.0, 343.0, 613.0, 561.0, 899.0, 957.0, 412.0, 979.0, 1709.0, 881.0, 1595.0, 309.0, 55.0, 442.0, 551.0, 1240.0, 886.0, 713.0, 606.0, 870.0, 410.0, 800.0, 420.0, 505.0, 752.0, 630.0, 982.0, 652.0, 451.0, 821.0, 255.0, 855.0, 625.0, 1653.0, 2315.0, 498.0, 787.0, 1668.0, 207.0, 579.0, 359.0, 330.0, 217.0, 763.0, 572.0, 922.0, 526.0, 1246.0, 228.0, 1730.0, 712.0, 780.0, 1200.0, 202.0, 979.0, 946.0, 1832.0, 508.0, 763.0, 326.0, 404.0, 336.0, 555.0, 417.0, 1255.0, 2550.0, 751.0, 243.0, 586.0, 924.0, 600.0, 1153.0, 164.0, 783.0, 1044.0, 719.0, 220.0, 887.0, 616.0, 559.0, 416.0, 701.0, 1983.0, 1896.0, 780.0, 1359.0, 646.0, 1433.0, 854.0, 1378.0, 345.0, 995.0, 205.0, 509.0, 588.0, 396.0, 693.0, 155.0, 133.0, 78.0, 568.0, 358.0, 123.0, 148.0, 1524.0, 713.0, 124.0, 1400.0, 609.0, 196.0, 189.0, 98.0, 13.0, 165.0, 507.0, 444.0, 448.0, 921.0, 1374.0, 266.0, 59.0, 159.0, 267.0, 130.0, 419.0, 505.0, 396.0, 280.0, 744.0, 619.0, 1204.0, 57.0, 246.0, 19.0, 16.0, 146.0], \"yaxis\": \"y\"}],\n",
              "                        {\"legend\": {\"tracegroupgap\": 0}, \"margin\": {\"t\": 60}, \"template\": {\"data\": {\"bar\": [{\"error_x\": {\"color\": \"#2a3f5f\"}, \"error_y\": {\"color\": \"#2a3f5f\"}, \"marker\": {\"line\": {\"color\": \"#E5ECF6\", \"width\": 0.5}}, \"type\": \"bar\"}], \"barpolar\": [{\"marker\": {\"line\": {\"color\": \"#E5ECF6\", \"width\": 0.5}}, \"type\": \"barpolar\"}], \"carpet\": [{\"aaxis\": {\"endlinecolor\": \"#2a3f5f\", \"gridcolor\": \"white\", \"linecolor\": \"white\", \"minorgridcolor\": \"white\", \"startlinecolor\": \"#2a3f5f\"}, \"baxis\": {\"endlinecolor\": \"#2a3f5f\", \"gridcolor\": \"white\", \"linecolor\": \"white\", \"minorgridcolor\": \"white\", \"startlinecolor\": \"#2a3f5f\"}, \"type\": \"carpet\"}], \"choropleth\": [{\"colorbar\": {\"outlinewidth\": 0, \"ticks\": \"\"}, \"type\": \"choropleth\"}], \"contour\": [{\"colorbar\": {\"outlinewidth\": 0, \"ticks\": \"\"}, \"colorscale\": [[0.0, \"#0d0887\"], [0.1111111111111111, \"#46039f\"], [0.2222222222222222, \"#7201a8\"], [0.3333333333333333, \"#9c179e\"], [0.4444444444444444, \"#bd3786\"], [0.5555555555555556, \"#d8576b\"], [0.6666666666666666, \"#ed7953\"], [0.7777777777777778, \"#fb9f3a\"], [0.8888888888888888, \"#fdca26\"], [1.0, \"#f0f921\"]], \"type\": \"contour\"}], \"contourcarpet\": [{\"colorbar\": {\"outlinewidth\": 0, \"ticks\": \"\"}, \"type\": \"contourcarpet\"}], \"heatmap\": [{\"colorbar\": {\"outlinewidth\": 0, \"ticks\": \"\"}, \"colorscale\": [[0.0, \"#0d0887\"], [0.1111111111111111, \"#46039f\"], [0.2222222222222222, \"#7201a8\"], [0.3333333333333333, \"#9c179e\"], [0.4444444444444444, \"#bd3786\"], [0.5555555555555556, \"#d8576b\"], [0.6666666666666666, \"#ed7953\"], [0.7777777777777778, \"#fb9f3a\"], [0.8888888888888888, \"#fdca26\"], [1.0, \"#f0f921\"]], \"type\": \"heatmap\"}], \"heatmapgl\": [{\"colorbar\": {\"outlinewidth\": 0, \"ticks\": \"\"}, \"colorscale\": [[0.0, \"#0d0887\"], [0.1111111111111111, \"#46039f\"], [0.2222222222222222, \"#7201a8\"], [0.3333333333333333, \"#9c179e\"], [0.4444444444444444, \"#bd3786\"], [0.5555555555555556, \"#d8576b\"], [0.6666666666666666, \"#ed7953\"], [0.7777777777777778, \"#fb9f3a\"], [0.8888888888888888, \"#fdca26\"], [1.0, \"#f0f921\"]], \"type\": \"heatmapgl\"}], \"histogram\": [{\"marker\": {\"colorbar\": {\"outlinewidth\": 0, \"ticks\": \"\"}}, \"type\": \"histogram\"}], \"histogram2d\": [{\"colorbar\": {\"outlinewidth\": 0, \"ticks\": \"\"}, \"colorscale\": [[0.0, \"#0d0887\"], [0.1111111111111111, \"#46039f\"], [0.2222222222222222, \"#7201a8\"], [0.3333333333333333, \"#9c179e\"], [0.4444444444444444, \"#bd3786\"], [0.5555555555555556, \"#d8576b\"], [0.6666666666666666, \"#ed7953\"], [0.7777777777777778, \"#fb9f3a\"], [0.8888888888888888, \"#fdca26\"], [1.0, \"#f0f921\"]], \"type\": \"histogram2d\"}], \"histogram2dcontour\": [{\"colorbar\": {\"outlinewidth\": 0, \"ticks\": \"\"}, \"colorscale\": [[0.0, \"#0d0887\"], [0.1111111111111111, \"#46039f\"], [0.2222222222222222, \"#7201a8\"], [0.3333333333333333, \"#9c179e\"], [0.4444444444444444, \"#bd3786\"], [0.5555555555555556, \"#d8576b\"], [0.6666666666666666, \"#ed7953\"], [0.7777777777777778, \"#fb9f3a\"], [0.8888888888888888, \"#fdca26\"], [1.0, \"#f0f921\"]], \"type\": \"histogram2dcontour\"}], \"mesh3d\": [{\"colorbar\": {\"outlinewidth\": 0, \"ticks\": \"\"}, \"type\": \"mesh3d\"}], \"parcoords\": [{\"line\": {\"colorbar\": {\"outlinewidth\": 0, \"ticks\": \"\"}}, \"type\": \"parcoords\"}], \"pie\": [{\"automargin\": true, \"type\": \"pie\"}], \"scatter\": [{\"marker\": {\"colorbar\": {\"outlinewidth\": 0, \"ticks\": \"\"}}, \"type\": \"scatter\"}], \"scatter3d\": [{\"line\": {\"colorbar\": {\"outlinewidth\": 0, \"ticks\": \"\"}}, \"marker\": {\"colorbar\": {\"outlinewidth\": 0, \"ticks\": \"\"}}, \"type\": \"scatter3d\"}], \"scattercarpet\": [{\"marker\": {\"colorbar\": {\"outlinewidth\": 0, \"ticks\": \"\"}}, \"type\": \"scattercarpet\"}], \"scattergeo\": [{\"marker\": {\"colorbar\": {\"outlinewidth\": 0, \"ticks\": \"\"}}, \"type\": \"scattergeo\"}], \"scattergl\": [{\"marker\": {\"colorbar\": {\"outlinewidth\": 0, \"ticks\": \"\"}}, \"type\": \"scattergl\"}], \"scattermapbox\": [{\"marker\": {\"colorbar\": {\"outlinewidth\": 0, \"ticks\": \"\"}}, \"type\": \"scattermapbox\"}], \"scatterpolar\": [{\"marker\": {\"colorbar\": {\"outlinewidth\": 0, \"ticks\": \"\"}}, \"type\": \"scatterpolar\"}], \"scatterpolargl\": [{\"marker\": {\"colorbar\": {\"outlinewidth\": 0, \"ticks\": \"\"}}, \"type\": \"scatterpolargl\"}], \"scatterternary\": [{\"marker\": {\"colorbar\": {\"outlinewidth\": 0, \"ticks\": \"\"}}, \"type\": \"scatterternary\"}], \"surface\": [{\"colorbar\": {\"outlinewidth\": 0, \"ticks\": \"\"}, \"colorscale\": [[0.0, \"#0d0887\"], [0.1111111111111111, \"#46039f\"], [0.2222222222222222, \"#7201a8\"], [0.3333333333333333, \"#9c179e\"], [0.4444444444444444, \"#bd3786\"], [0.5555555555555556, \"#d8576b\"], [0.6666666666666666, \"#ed7953\"], [0.7777777777777778, \"#fb9f3a\"], [0.8888888888888888, \"#fdca26\"], [1.0, \"#f0f921\"]], \"type\": \"surface\"}], \"table\": [{\"cells\": {\"fill\": {\"color\": \"#EBF0F8\"}, \"line\": {\"color\": \"white\"}}, \"header\": {\"fill\": {\"color\": \"#C8D4E3\"}, \"line\": {\"color\": \"white\"}}, \"type\": \"table\"}]}, \"layout\": {\"annotationdefaults\": {\"arrowcolor\": \"#2a3f5f\", \"arrowhead\": 0, \"arrowwidth\": 1}, \"coloraxis\": {\"colorbar\": {\"outlinewidth\": 0, \"ticks\": \"\"}}, \"colorscale\": {\"diverging\": [[0, \"#8e0152\"], [0.1, \"#c51b7d\"], [0.2, \"#de77ae\"], [0.3, \"#f1b6da\"], [0.4, \"#fde0ef\"], [0.5, \"#f7f7f7\"], [0.6, \"#e6f5d0\"], [0.7, \"#b8e186\"], [0.8, \"#7fbc41\"], [0.9, \"#4d9221\"], [1, \"#276419\"]], \"sequential\": [[0.0, \"#0d0887\"], [0.1111111111111111, \"#46039f\"], [0.2222222222222222, \"#7201a8\"], [0.3333333333333333, \"#9c179e\"], [0.4444444444444444, \"#bd3786\"], [0.5555555555555556, \"#d8576b\"], [0.6666666666666666, \"#ed7953\"], [0.7777777777777778, \"#fb9f3a\"], [0.8888888888888888, \"#fdca26\"], [1.0, \"#f0f921\"]], \"sequentialminus\": [[0.0, \"#0d0887\"], [0.1111111111111111, \"#46039f\"], [0.2222222222222222, \"#7201a8\"], [0.3333333333333333, \"#9c179e\"], [0.4444444444444444, \"#bd3786\"], [0.5555555555555556, \"#d8576b\"], [0.6666666666666666, \"#ed7953\"], [0.7777777777777778, \"#fb9f3a\"], [0.8888888888888888, \"#fdca26\"], [1.0, \"#f0f921\"]]}, \"colorway\": [\"#636efa\", \"#EF553B\", \"#00cc96\", \"#ab63fa\", \"#FFA15A\", \"#19d3f3\", \"#FF6692\", \"#B6E880\", \"#FF97FF\", \"#FECB52\"], \"font\": {\"color\": \"#2a3f5f\"}, \"geo\": {\"bgcolor\": \"white\", \"lakecolor\": \"white\", \"landcolor\": \"#E5ECF6\", \"showlakes\": true, \"showland\": true, \"subunitcolor\": \"white\"}, \"hoverlabel\": {\"align\": \"left\"}, \"hovermode\": \"closest\", \"mapbox\": {\"style\": \"light\"}, \"paper_bgcolor\": \"white\", \"plot_bgcolor\": \"#E5ECF6\", \"polar\": {\"angularaxis\": {\"gridcolor\": \"white\", \"linecolor\": \"white\", \"ticks\": \"\"}, \"bgcolor\": \"#E5ECF6\", \"radialaxis\": {\"gridcolor\": \"white\", \"linecolor\": \"white\", \"ticks\": \"\"}}, \"scene\": {\"xaxis\": {\"backgroundcolor\": \"#E5ECF6\", \"gridcolor\": \"white\", \"gridwidth\": 2, \"linecolor\": \"white\", \"showbackground\": true, \"ticks\": \"\", \"zerolinecolor\": \"white\"}, \"yaxis\": {\"backgroundcolor\": \"#E5ECF6\", \"gridcolor\": \"white\", \"gridwidth\": 2, \"linecolor\": \"white\", \"showbackground\": true, \"ticks\": \"\", \"zerolinecolor\": \"white\"}, \"zaxis\": {\"backgroundcolor\": \"#E5ECF6\", \"gridcolor\": \"white\", \"gridwidth\": 2, \"linecolor\": \"white\", \"showbackground\": true, \"ticks\": \"\", \"zerolinecolor\": \"white\"}}, \"shapedefaults\": {\"line\": {\"color\": \"#2a3f5f\"}}, \"ternary\": {\"aaxis\": {\"gridcolor\": \"white\", \"linecolor\": \"white\", \"ticks\": \"\"}, \"baxis\": {\"gridcolor\": \"white\", \"linecolor\": \"white\", \"ticks\": \"\"}, \"bgcolor\": \"#E5ECF6\", \"caxis\": {\"gridcolor\": \"white\", \"linecolor\": \"white\", \"ticks\": \"\"}}, \"title\": {\"x\": 0.05}, \"xaxis\": {\"automargin\": true, \"gridcolor\": \"white\", \"linecolor\": \"white\", \"ticks\": \"\", \"title\": {\"standoff\": 15}, \"zerolinecolor\": \"white\", \"zerolinewidth\": 2}, \"yaxis\": {\"automargin\": true, \"gridcolor\": \"white\", \"linecolor\": \"white\", \"ticks\": \"\", \"title\": {\"standoff\": 15}, \"zerolinecolor\": \"white\", \"zerolinewidth\": 2}}}, \"title\": {\"text\": \"\\ucd1d\\uc138\\ub300\\uc218, \\ub4f1\\ub85d\\ucc28\\ub7c9\\uc218\"}, \"xaxis\": {\"anchor\": \"y\", \"domain\": [0.0, 1.0], \"title\": {\"text\": \"\\ucd1d\\uc138\\ub300\\uc218\"}}, \"yaxis\": {\"anchor\": \"x\", \"domain\": [0.0, 1.0], \"title\": {\"text\": \"\\ub4f1\\ub85d\\ucc28\\ub7c9\\uc218\"}}},\n",
              "                        {\"responsive\": true}\n",
              "                    ).then(function(){\n",
              "                            \n",
              "var gd = document.getElementById('531e17c8-3499-4e7a-adba-628eb011c9ce');\n",
              "var x = new MutationObserver(function (mutations, observer) {{\n",
              "        var display = window.getComputedStyle(gd).display;\n",
              "        if (!display || display === 'none') {{\n",
              "            console.log([gd, 'removed!']);\n",
              "            Plotly.purge(gd);\n",
              "            observer.disconnect();\n",
              "        }}\n",
              "}});\n",
              "\n",
              "// Listen for the removal of the full notebook cells\n",
              "var notebookContainer = gd.closest('#notebook-container');\n",
              "if (notebookContainer) {{\n",
              "    x.observe(notebookContainer, {childList: true});\n",
              "}}\n",
              "\n",
              "// Listen for the clearing of the current output cell\n",
              "var outputEl = gd.closest('.output');\n",
              "if (outputEl) {{\n",
              "    x.observe(outputEl, {childList: true});\n",
              "}}\n",
              "\n",
              "                        })\n",
              "                };\n",
              "                \n",
              "            </script>\n",
              "        </div>\n",
              "</body>\n",
              "</html>"
            ]
          },
          "metadata": {}
        }
      ]
    },
    {
      "cell_type": "code",
      "metadata": {
        "colab": {
          "base_uri": "https://localhost:8080/",
          "height": 141
        },
        "id": "o99JmKiHywym",
        "outputId": "ed7dcdc5-21b2-4ec0-e43d-facef57e227b"
      },
      "source": [
        "temp = raw_train.drop_duplicates(['단지코드'], keep='first')[['단지코드','총세대수', '단지내주차면수', '등록차량수']]\n",
        "temp.iloc[:,1:].corr()"
      ],
      "execution_count": null,
      "outputs": [
        {
          "output_type": "execute_result",
          "data": {
            "text/html": [
              "<div>\n",
              "<style scoped>\n",
              "    .dataframe tbody tr th:only-of-type {\n",
              "        vertical-align: middle;\n",
              "    }\n",
              "\n",
              "    .dataframe tbody tr th {\n",
              "        vertical-align: top;\n",
              "    }\n",
              "\n",
              "    .dataframe thead th {\n",
              "        text-align: right;\n",
              "    }\n",
              "</style>\n",
              "<table border=\"1\" class=\"dataframe\">\n",
              "  <thead>\n",
              "    <tr style=\"text-align: right;\">\n",
              "      <th></th>\n",
              "      <th>총세대수</th>\n",
              "      <th>단지내주차면수</th>\n",
              "      <th>등록차량수</th>\n",
              "    </tr>\n",
              "  </thead>\n",
              "  <tbody>\n",
              "    <tr>\n",
              "      <th>총세대수</th>\n",
              "      <td>1.000000</td>\n",
              "      <td>0.741369</td>\n",
              "      <td>0.579290</td>\n",
              "    </tr>\n",
              "    <tr>\n",
              "      <th>단지내주차면수</th>\n",
              "      <td>0.741369</td>\n",
              "      <td>1.000000</td>\n",
              "      <td>0.848199</td>\n",
              "    </tr>\n",
              "    <tr>\n",
              "      <th>등록차량수</th>\n",
              "      <td>0.579290</td>\n",
              "      <td>0.848199</td>\n",
              "      <td>1.000000</td>\n",
              "    </tr>\n",
              "  </tbody>\n",
              "</table>\n",
              "</div>"
            ],
            "text/plain": [
              "             총세대수   단지내주차면수     등록차량수\n",
              "총세대수     1.000000  0.741369  0.579290\n",
              "단지내주차면수  0.741369  1.000000  0.848199\n",
              "등록차량수    0.579290  0.848199  1.000000"
            ]
          },
          "metadata": {},
          "execution_count": 18
        }
      ]
    },
    {
      "cell_type": "code",
      "metadata": {
        "colab": {
          "base_uri": "https://localhost:8080/",
          "height": 542
        },
        "id": "eMDm9nE30Mcq",
        "outputId": "ba16d9fb-b9e0-405e-ba4c-708fcd44c302"
      },
      "source": [
        "fig = go.Figure()\n",
        "fig = px.scatter(temp, x= '등록차량수', y = '단지내주차면수',\n",
        "                            color_discrete_sequence=px.colors.qualitative.Alphabet)\n",
        "fig.update_layout(title='등록차량수, 단지내주차면수 분포') #autosize =, width = 1000, height = 500)"
      ],
      "execution_count": null,
      "outputs": [
        {
          "output_type": "display_data",
          "data": {
            "text/html": [
              "<html>\n",
              "<head><meta charset=\"utf-8\" /></head>\n",
              "<body>\n",
              "    <div>\n",
              "            <script src=\"https://cdnjs.cloudflare.com/ajax/libs/mathjax/2.7.5/MathJax.js?config=TeX-AMS-MML_SVG\"></script><script type=\"text/javascript\">if (window.MathJax) {MathJax.Hub.Config({SVG: {font: \"STIX-Web\"}});}</script>\n",
              "                <script type=\"text/javascript\">window.PlotlyConfig = {MathJaxConfig: 'local'};</script>\n",
              "        <script src=\"https://cdn.plot.ly/plotly-latest.min.js\"></script>    \n",
              "            <div id=\"167718c2-6ffa-4959-91ed-4a4e42745a84\" class=\"plotly-graph-div\" style=\"height:525px; width:100%;\"></div>\n",
              "            <script type=\"text/javascript\">\n",
              "                \n",
              "                    window.PLOTLYENV=window.PLOTLYENV || {};\n",
              "                    \n",
              "                if (document.getElementById(\"167718c2-6ffa-4959-91ed-4a4e42745a84\")) {\n",
              "                    Plotly.newPlot(\n",
              "                        '167718c2-6ffa-4959-91ed-4a4e42745a84',\n",
              "                        [{\"hoverlabel\": {\"namelength\": 0}, \"hovertemplate\": \"\\ub4f1\\ub85d\\ucc28\\ub7c9\\uc218=%{x}<br>\\ub2e8\\uc9c0\\ub0b4\\uc8fc\\ucc28\\uba74\\uc218=%{y}\", \"legendgroup\": \"\", \"marker\": {\"color\": \"#AA0DFE\", \"symbol\": \"circle\"}, \"mode\": \"markers\", \"name\": \"\", \"showlegend\": false, \"type\": \"scatter\", \"x\": [1015.0, 205.0, 1064.0, 730.0, 553.0, 415.0, 1804.0, 700.0, 301.0, 820.0, 234.0, 841.0, 226.0, 75.0, 73.0, 359.0, 62.0, 159.0, 63.0, 91.0, 179.0, 671.0, 133.0, 386.0, 266.0, 98.0, 131.0, 78.0, 316.0, 108.0, 116.0, 649.0, 254.0, 129.0, 70.0, 236.0, 510.0, 253.0, 127.0, 132.0, 313.0, 382.0, 364.0, 94.0, 189.0, 873.0, 359.0, 172.0, 498.0, 149.0, 31.0, 125.0, 177.0, 90.0, 302.0, 496.0, 236.0, 839.0, 96.0, 235.0, 359.0, 120.0, 60.0, 65.0, 135.0, 376.0, 93.0, 209.0, 204.0, 86.0, 19.0, 62.0, 430.0, 1001.0, 334.0, 616.0, 548.0, 220.0, 451.0, 47.0, 799.0, 708.0, 739.0, 374.0, 557.0, 579.0, 1101.0, 762.0, 795.0, 995.0, 288.0, 960.0, 311.0, 648.0, 861.0, 521.0, 562.0, 422.0, 344.0, 596.0, 701.0, 1117.0, 297.0, 1665.0, 248.0, 457.0, 910.0, 826.0, 328.0, 525.0, 690.0, 713.0, 1019.0, 810.0, 148.0, 609.0, 585.0, 1162.0, 318.0, 761.0, 572.0, 979.0, 1306.0, 1398.0, 442.0, 422.0, 441.0, 700.0, 340.0, 503.0, 718.0, 1159.0, 373.0, 1087.0, 808.0, 305.0, 401.0, 465.0, 402.0, 669.0, 554.0, 460.0, 548.0, 398.0, 620.0, 382.0, 413.0, 520.0, 488.0, 832.0, 1158.0, 745.0, 831.0, 413.0, 487.0, 408.0, 446.0, 1150.0, 840.0, 709.0, 480.0, 505.0, 449.0, 1010.0, 296.0, 308.0, 349.0, 657.0, 505.0, 294.0, 1145.0, 257.0, 321.0, 450.0, 845.0, 643.0, 752.0, 735.0, 639.0, 902.0, 632.0, 125.0, 282.0, 1279.0, 782.0, 375.0, 438.0, 540.0, 226.0, 302.0, 156.0, 730.0, 417.0, 505.0, 1077.0, 757.0, 754.0, 815.0, 268.0, 362.0, 504.0, 281.0, 521.0, 552.0, 246.0, 347.0, 272.0, 293.0, 254.0, 842.0, 484.0, 585.0, 244.0, 258.0, 271.0, 311.0, 327.0, 207.0, 683.0, 670.0, 570.0, 324.0, 553.0, 590.0, 638.0, 495.0, 528.0, 383.0, 284.0, 723.0, 333.0, 610.0, 481.0, 594.0, 509.0, 500.0, 512.0, 901.0, 934.0, 496.0, 398.0, 481.0, 557.0, 1284.0, 475.0, 435.0, 945.0, 1044.0, 375.0, 1023.0, 1350.0, 284.0, 823.0, 793.0, 587.0, 353.0, 479.0, 614.0, 1101.0, 652.0, 509.0, 437.0, 163.0, 589.0, 403.0, 22.0, 322.0, 566.0, 277.0, 822.0, 770.0, 345.0, 1090.0, 951.0, 1595.0, 410.0, 549.0, 166.0, 647.0, 793.0, 1084.0, 682.0, 645.0, 733.0, 262.0, 365.0, 950.0, 244.0, 343.0, 613.0, 561.0, 899.0, 957.0, 412.0, 979.0, 1709.0, 881.0, 1595.0, 309.0, 55.0, 442.0, 551.0, 1240.0, 886.0, 713.0, 606.0, 870.0, 410.0, 800.0, 420.0, 505.0, 752.0, 630.0, 982.0, 652.0, 451.0, 821.0, 255.0, 855.0, 625.0, 1653.0, 2315.0, 498.0, 787.0, 1668.0, 207.0, 579.0, 359.0, 330.0, 217.0, 763.0, 572.0, 922.0, 526.0, 1246.0, 228.0, 1730.0, 712.0, 780.0, 1200.0, 202.0, 979.0, 946.0, 1832.0, 508.0, 763.0, 326.0, 404.0, 336.0, 555.0, 417.0, 1255.0, 2550.0, 751.0, 243.0, 586.0, 924.0, 600.0, 1153.0, 164.0, 783.0, 1044.0, 719.0, 220.0, 887.0, 616.0, 559.0, 416.0, 701.0, 1983.0, 1896.0, 780.0, 1359.0, 646.0, 1433.0, 854.0, 1378.0, 345.0, 995.0, 205.0, 509.0, 588.0, 396.0, 693.0, 155.0, 133.0, 78.0, 568.0, 358.0, 123.0, 148.0, 1524.0, 713.0, 124.0, 1400.0, 609.0, 196.0, 189.0, 98.0, 13.0, 165.0, 507.0, 444.0, 448.0, 921.0, 1374.0, 266.0, 59.0, 159.0, 267.0, 130.0, 419.0, 505.0, 396.0, 280.0, 744.0, 619.0, 1204.0, 57.0, 246.0, 19.0, 16.0, 146.0], \"xaxis\": \"x\", \"y\": [1425.0, 624.0, 1285.0, 734.0, 645.0, 517.0, 1483.0, 634.0, 288.0, 530.0, 168.0, 631.0, 222.0, 117.0, 296.0, 527.0, 97.0, 616.0, 154.0, 509.0, 517.0, 736.0, 277.0, 420.0, 548.0, 407.0, 162.0, 287.0, 986.0, 150.0, 487.0, 264.0, 226.0, 178.0, 107.0, 612.0, 804.0, 200.0, 262.0, 405.0, 351.0, 375.0, 240.0, 166.0, 217.0, 1043.0, 756.0, 270.0, 594.0, 97.0, 109.0, 120.0, 190.0, 88.0, 486.0, 682.0, 402.0, 1296.0, 131.0, 393.0, 376.0, 166.0, 117.0, 155.0, 235.0, 950.0, 153.0, 192.0, 246.0, 128.0, 164.0, 65.0, 477.0, 1505.0, 671.0, 802.0, 738.0, 198.0, 374.0, 54.0, 1299.0, 823.0, 763.0, 579.0, 478.0, 928.0, 1181.0, 658.0, 1082.0, 1240.0, 421.0, 985.0, 219.0, 405.0, 900.0, 521.0, 399.0, 205.0, 316.0, 472.0, 837.0, 1026.0, 222.0, 1119.0, 354.0, 384.0, 853.0, 895.0, 330.0, 347.0, 608.0, 573.0, 668.0, 574.0, 224.0, 483.0, 480.0, 958.0, 402.0, 508.0, 873.0, 827.0, 1137.0, 1488.0, 259.0, 299.0, 399.0, 567.0, 217.0, 660.0, 502.0, 894.0, 454.0, 862.0, 788.0, 240.0, 296.0, 638.0, 722.0, 546.0, 775.0, 325.0, 663.0, 428.0, 637.0, 362.0, 426.0, 465.0, 403.0, 661.0, 882.0, 665.0, 985.0, 358.0, 492.0, 385.0, 385.0, 834.0, 755.0, 527.0, 405.0, 413.0, 425.0, 941.0, 334.0, 335.0, 779.0, 1129.0, 448.0, 270.0, 1100.0, 480.0, 291.0, 352.0, 658.0, 572.0, 822.0, 909.0, 530.0, 771.0, 717.0, 136.0, 277.0, 1016.0, 692.0, 317.0, 552.0, 581.0, 280.0, 296.0, 195.0, 715.0, 525.0, 537.0, 728.0, 641.0, 761.0, 550.0, 227.0, 403.0, 436.0, 214.0, 422.0, 404.0, 362.0, 281.0, 253.0, 265.0, 222.0, 777.0, 583.0, 413.0, 200.0, 199.0, 329.0, 241.0, 306.0, 163.0, 733.0, 370.0, 596.0, 442.0, 449.0, 564.0, 612.0, 445.0, 442.0, 258.0, 330.0, 817.0, 360.0, 698.0, 374.0, 384.0, 393.0, 480.0, 550.0, 640.0, 911.0, 319.0, 366.0, 438.0, 812.0, 1050.0, 367.0, 600.0, 903.0, 1756.0, 362.0, 1105.0, 1741.0, 387.0, 707.0, 879.0, 515.0, 434.0, 770.0, 772.0, 1039.0, 584.0, 467.0, 409.0, 153.0, 506.0, 592.0, 27.0, 262.0, 527.0, 248.0, 845.0, 871.0, 484.0, 915.0, 629.0, 1590.0, 400.0, 528.0, 257.0, 615.0, 879.0, 936.0, 582.0, 673.0, 1154.0, 321.0, 438.0, 951.0, 230.0, 360.0, 652.0, 694.0, 759.0, 877.0, 380.0, 978.0, 1061.0, 988.0, 1590.0, 285.0, 50.0, 731.0, 551.0, 728.0, 1192.0, 1182.0, 680.0, 809.0, 523.0, 948.0, 349.0, 528.0, 876.0, 722.0, 752.0, 700.0, 437.0, 973.0, 268.0, 1066.0, 660.0, 944.0, 1636.0, 344.0, 939.0, 1275.0, 461.0, 1110.0, 1066.0, 297.0, 214.0, 865.0, 535.0, 1176.0, 549.0, 1534.0, 237.0, 1202.0, 983.0, 755.0, 986.0, 320.0, 804.0, 750.0, 1689.0, 676.0, 880.0, 239.0, 378.0, 200.0, 490.0, 500.0, 1117.0, 1798.0, 956.0, 333.0, 773.0, 1648.0, 490.0, 1670.0, 167.0, 1319.0, 1382.0, 434.0, 309.0, 772.0, 658.0, 573.0, 635.0, 878.0, 1500.0, 1713.0, 543.0, 897.0, 542.0, 1201.0, 727.0, 1306.0, 338.0, 1001.0, 318.0, 423.0, 719.0, 350.0, 629.0, 232.0, 183.0, 57.0, 496.0, 397.0, 109.0, 249.0, 1142.0, 533.0, 131.0, 995.0, 486.0, 1055.0, 287.0, 114.0, 13.0, 141.0, 857.0, 408.0, 842.0, 1140.0, 1239.0, 288.0, 54.0, 108.0, 188.0, 389.0, 212.0, 700.0, 772.0, 345.0, 664.0, 1493.0, 1570.0, 66.0, 521.0, 25.0, 30.0, 166.0], \"yaxis\": \"y\"}],\n",
              "                        {\"legend\": {\"tracegroupgap\": 0}, \"margin\": {\"t\": 60}, \"template\": {\"data\": {\"bar\": [{\"error_x\": {\"color\": \"#2a3f5f\"}, \"error_y\": {\"color\": \"#2a3f5f\"}, \"marker\": {\"line\": {\"color\": \"#E5ECF6\", \"width\": 0.5}}, \"type\": \"bar\"}], \"barpolar\": [{\"marker\": {\"line\": {\"color\": \"#E5ECF6\", \"width\": 0.5}}, \"type\": \"barpolar\"}], \"carpet\": [{\"aaxis\": {\"endlinecolor\": \"#2a3f5f\", \"gridcolor\": \"white\", \"linecolor\": \"white\", \"minorgridcolor\": \"white\", \"startlinecolor\": \"#2a3f5f\"}, \"baxis\": {\"endlinecolor\": \"#2a3f5f\", \"gridcolor\": \"white\", \"linecolor\": \"white\", \"minorgridcolor\": \"white\", \"startlinecolor\": \"#2a3f5f\"}, \"type\": \"carpet\"}], \"choropleth\": [{\"colorbar\": {\"outlinewidth\": 0, \"ticks\": \"\"}, \"type\": \"choropleth\"}], \"contour\": [{\"colorbar\": {\"outlinewidth\": 0, \"ticks\": \"\"}, \"colorscale\": [[0.0, \"#0d0887\"], [0.1111111111111111, \"#46039f\"], [0.2222222222222222, \"#7201a8\"], [0.3333333333333333, \"#9c179e\"], [0.4444444444444444, \"#bd3786\"], [0.5555555555555556, \"#d8576b\"], [0.6666666666666666, \"#ed7953\"], [0.7777777777777778, \"#fb9f3a\"], [0.8888888888888888, \"#fdca26\"], [1.0, \"#f0f921\"]], \"type\": \"contour\"}], \"contourcarpet\": [{\"colorbar\": {\"outlinewidth\": 0, \"ticks\": \"\"}, \"type\": \"contourcarpet\"}], \"heatmap\": [{\"colorbar\": {\"outlinewidth\": 0, \"ticks\": \"\"}, \"colorscale\": [[0.0, \"#0d0887\"], [0.1111111111111111, \"#46039f\"], [0.2222222222222222, \"#7201a8\"], [0.3333333333333333, \"#9c179e\"], [0.4444444444444444, \"#bd3786\"], [0.5555555555555556, \"#d8576b\"], [0.6666666666666666, \"#ed7953\"], [0.7777777777777778, \"#fb9f3a\"], [0.8888888888888888, \"#fdca26\"], [1.0, \"#f0f921\"]], \"type\": \"heatmap\"}], \"heatmapgl\": [{\"colorbar\": {\"outlinewidth\": 0, \"ticks\": \"\"}, \"colorscale\": [[0.0, \"#0d0887\"], [0.1111111111111111, \"#46039f\"], [0.2222222222222222, \"#7201a8\"], [0.3333333333333333, \"#9c179e\"], [0.4444444444444444, \"#bd3786\"], [0.5555555555555556, \"#d8576b\"], [0.6666666666666666, \"#ed7953\"], [0.7777777777777778, \"#fb9f3a\"], [0.8888888888888888, \"#fdca26\"], [1.0, \"#f0f921\"]], \"type\": \"heatmapgl\"}], \"histogram\": [{\"marker\": {\"colorbar\": {\"outlinewidth\": 0, \"ticks\": \"\"}}, \"type\": \"histogram\"}], \"histogram2d\": [{\"colorbar\": {\"outlinewidth\": 0, \"ticks\": \"\"}, \"colorscale\": [[0.0, \"#0d0887\"], [0.1111111111111111, \"#46039f\"], [0.2222222222222222, \"#7201a8\"], [0.3333333333333333, \"#9c179e\"], [0.4444444444444444, \"#bd3786\"], [0.5555555555555556, \"#d8576b\"], [0.6666666666666666, \"#ed7953\"], [0.7777777777777778, \"#fb9f3a\"], [0.8888888888888888, \"#fdca26\"], [1.0, \"#f0f921\"]], \"type\": \"histogram2d\"}], \"histogram2dcontour\": [{\"colorbar\": {\"outlinewidth\": 0, \"ticks\": \"\"}, \"colorscale\": [[0.0, \"#0d0887\"], [0.1111111111111111, \"#46039f\"], [0.2222222222222222, \"#7201a8\"], [0.3333333333333333, \"#9c179e\"], [0.4444444444444444, \"#bd3786\"], [0.5555555555555556, \"#d8576b\"], [0.6666666666666666, \"#ed7953\"], [0.7777777777777778, \"#fb9f3a\"], [0.8888888888888888, \"#fdca26\"], [1.0, \"#f0f921\"]], \"type\": \"histogram2dcontour\"}], \"mesh3d\": [{\"colorbar\": {\"outlinewidth\": 0, \"ticks\": \"\"}, \"type\": \"mesh3d\"}], \"parcoords\": [{\"line\": {\"colorbar\": {\"outlinewidth\": 0, \"ticks\": \"\"}}, \"type\": \"parcoords\"}], \"pie\": [{\"automargin\": true, \"type\": \"pie\"}], \"scatter\": [{\"marker\": {\"colorbar\": {\"outlinewidth\": 0, \"ticks\": \"\"}}, \"type\": \"scatter\"}], \"scatter3d\": [{\"line\": {\"colorbar\": {\"outlinewidth\": 0, \"ticks\": \"\"}}, \"marker\": {\"colorbar\": {\"outlinewidth\": 0, \"ticks\": \"\"}}, \"type\": \"scatter3d\"}], \"scattercarpet\": [{\"marker\": {\"colorbar\": {\"outlinewidth\": 0, \"ticks\": \"\"}}, \"type\": \"scattercarpet\"}], \"scattergeo\": [{\"marker\": {\"colorbar\": {\"outlinewidth\": 0, \"ticks\": \"\"}}, \"type\": \"scattergeo\"}], \"scattergl\": [{\"marker\": {\"colorbar\": {\"outlinewidth\": 0, \"ticks\": \"\"}}, \"type\": \"scattergl\"}], \"scattermapbox\": [{\"marker\": {\"colorbar\": {\"outlinewidth\": 0, \"ticks\": \"\"}}, \"type\": \"scattermapbox\"}], \"scatterpolar\": [{\"marker\": {\"colorbar\": {\"outlinewidth\": 0, \"ticks\": \"\"}}, \"type\": \"scatterpolar\"}], \"scatterpolargl\": [{\"marker\": {\"colorbar\": {\"outlinewidth\": 0, \"ticks\": \"\"}}, \"type\": \"scatterpolargl\"}], \"scatterternary\": [{\"marker\": {\"colorbar\": {\"outlinewidth\": 0, \"ticks\": \"\"}}, \"type\": \"scatterternary\"}], \"surface\": [{\"colorbar\": {\"outlinewidth\": 0, \"ticks\": \"\"}, \"colorscale\": [[0.0, \"#0d0887\"], [0.1111111111111111, \"#46039f\"], [0.2222222222222222, \"#7201a8\"], [0.3333333333333333, \"#9c179e\"], [0.4444444444444444, \"#bd3786\"], [0.5555555555555556, \"#d8576b\"], [0.6666666666666666, \"#ed7953\"], [0.7777777777777778, \"#fb9f3a\"], [0.8888888888888888, \"#fdca26\"], [1.0, \"#f0f921\"]], \"type\": \"surface\"}], \"table\": [{\"cells\": {\"fill\": {\"color\": \"#EBF0F8\"}, \"line\": {\"color\": \"white\"}}, \"header\": {\"fill\": {\"color\": \"#C8D4E3\"}, \"line\": {\"color\": \"white\"}}, \"type\": \"table\"}]}, \"layout\": {\"annotationdefaults\": {\"arrowcolor\": \"#2a3f5f\", \"arrowhead\": 0, \"arrowwidth\": 1}, \"coloraxis\": {\"colorbar\": {\"outlinewidth\": 0, \"ticks\": \"\"}}, \"colorscale\": {\"diverging\": [[0, \"#8e0152\"], [0.1, \"#c51b7d\"], [0.2, \"#de77ae\"], [0.3, \"#f1b6da\"], [0.4, \"#fde0ef\"], [0.5, \"#f7f7f7\"], [0.6, \"#e6f5d0\"], [0.7, \"#b8e186\"], [0.8, \"#7fbc41\"], [0.9, \"#4d9221\"], [1, \"#276419\"]], \"sequential\": [[0.0, \"#0d0887\"], [0.1111111111111111, \"#46039f\"], [0.2222222222222222, \"#7201a8\"], [0.3333333333333333, \"#9c179e\"], [0.4444444444444444, \"#bd3786\"], [0.5555555555555556, \"#d8576b\"], [0.6666666666666666, \"#ed7953\"], [0.7777777777777778, \"#fb9f3a\"], [0.8888888888888888, \"#fdca26\"], [1.0, \"#f0f921\"]], \"sequentialminus\": [[0.0, \"#0d0887\"], [0.1111111111111111, \"#46039f\"], [0.2222222222222222, \"#7201a8\"], [0.3333333333333333, \"#9c179e\"], [0.4444444444444444, \"#bd3786\"], [0.5555555555555556, \"#d8576b\"], [0.6666666666666666, \"#ed7953\"], [0.7777777777777778, \"#fb9f3a\"], [0.8888888888888888, \"#fdca26\"], [1.0, \"#f0f921\"]]}, \"colorway\": [\"#636efa\", \"#EF553B\", \"#00cc96\", \"#ab63fa\", \"#FFA15A\", \"#19d3f3\", \"#FF6692\", \"#B6E880\", \"#FF97FF\", \"#FECB52\"], \"font\": {\"color\": \"#2a3f5f\"}, \"geo\": {\"bgcolor\": \"white\", \"lakecolor\": \"white\", \"landcolor\": \"#E5ECF6\", \"showlakes\": true, \"showland\": true, \"subunitcolor\": \"white\"}, \"hoverlabel\": {\"align\": \"left\"}, \"hovermode\": \"closest\", \"mapbox\": {\"style\": \"light\"}, \"paper_bgcolor\": \"white\", \"plot_bgcolor\": \"#E5ECF6\", \"polar\": {\"angularaxis\": {\"gridcolor\": \"white\", \"linecolor\": \"white\", \"ticks\": \"\"}, \"bgcolor\": \"#E5ECF6\", \"radialaxis\": {\"gridcolor\": \"white\", \"linecolor\": \"white\", \"ticks\": \"\"}}, \"scene\": {\"xaxis\": {\"backgroundcolor\": \"#E5ECF6\", \"gridcolor\": \"white\", \"gridwidth\": 2, \"linecolor\": \"white\", \"showbackground\": true, \"ticks\": \"\", \"zerolinecolor\": \"white\"}, \"yaxis\": {\"backgroundcolor\": \"#E5ECF6\", \"gridcolor\": \"white\", \"gridwidth\": 2, \"linecolor\": \"white\", \"showbackground\": true, \"ticks\": \"\", \"zerolinecolor\": \"white\"}, \"zaxis\": {\"backgroundcolor\": \"#E5ECF6\", \"gridcolor\": \"white\", \"gridwidth\": 2, \"linecolor\": \"white\", \"showbackground\": true, \"ticks\": \"\", \"zerolinecolor\": \"white\"}}, \"shapedefaults\": {\"line\": {\"color\": \"#2a3f5f\"}}, \"ternary\": {\"aaxis\": {\"gridcolor\": \"white\", \"linecolor\": \"white\", \"ticks\": \"\"}, \"baxis\": {\"gridcolor\": \"white\", \"linecolor\": \"white\", \"ticks\": \"\"}, \"bgcolor\": \"#E5ECF6\", \"caxis\": {\"gridcolor\": \"white\", \"linecolor\": \"white\", \"ticks\": \"\"}}, \"title\": {\"x\": 0.05}, \"xaxis\": {\"automargin\": true, \"gridcolor\": \"white\", \"linecolor\": \"white\", \"ticks\": \"\", \"title\": {\"standoff\": 15}, \"zerolinecolor\": \"white\", \"zerolinewidth\": 2}, \"yaxis\": {\"automargin\": true, \"gridcolor\": \"white\", \"linecolor\": \"white\", \"ticks\": \"\", \"title\": {\"standoff\": 15}, \"zerolinecolor\": \"white\", \"zerolinewidth\": 2}}}, \"title\": {\"text\": \"\\ub4f1\\ub85d\\ucc28\\ub7c9\\uc218, \\ub2e8\\uc9c0\\ub0b4\\uc8fc\\ucc28\\uba74\\uc218 \\ubd84\\ud3ec\"}, \"xaxis\": {\"anchor\": \"y\", \"domain\": [0.0, 1.0], \"title\": {\"text\": \"\\ub4f1\\ub85d\\ucc28\\ub7c9\\uc218\"}}, \"yaxis\": {\"anchor\": \"x\", \"domain\": [0.0, 1.0], \"title\": {\"text\": \"\\ub2e8\\uc9c0\\ub0b4\\uc8fc\\ucc28\\uba74\\uc218\"}}},\n",
              "                        {\"responsive\": true}\n",
              "                    ).then(function(){\n",
              "                            \n",
              "var gd = document.getElementById('167718c2-6ffa-4959-91ed-4a4e42745a84');\n",
              "var x = new MutationObserver(function (mutations, observer) {{\n",
              "        var display = window.getComputedStyle(gd).display;\n",
              "        if (!display || display === 'none') {{\n",
              "            console.log([gd, 'removed!']);\n",
              "            Plotly.purge(gd);\n",
              "            observer.disconnect();\n",
              "        }}\n",
              "}});\n",
              "\n",
              "// Listen for the removal of the full notebook cells\n",
              "var notebookContainer = gd.closest('#notebook-container');\n",
              "if (notebookContainer) {{\n",
              "    x.observe(notebookContainer, {childList: true});\n",
              "}}\n",
              "\n",
              "// Listen for the clearing of the current output cell\n",
              "var outputEl = gd.closest('.output');\n",
              "if (outputEl) {{\n",
              "    x.observe(outputEl, {childList: true});\n",
              "}}\n",
              "\n",
              "                        })\n",
              "                };\n",
              "                \n",
              "            </script>\n",
              "        </div>\n",
              "</body>\n",
              "</html>"
            ]
          },
          "metadata": {}
        }
      ]
    },
    {
      "cell_type": "markdown",
      "metadata": {
        "id": "Tkkc5YP8Xzoq"
      },
      "source": [
        "위 그래프와 상관계수를 통해서 3개의 컬럼의 비율이 일정하지 않음을 알 수 있다.  \n",
        "다른 컬럼들을 확인후 비율변환 문제는 다시 검토"
      ]
    },
    {
      "cell_type": "code",
      "metadata": {
        "id": "G2k97Kfhm7PW"
      },
      "source": [
        "# 등록차량수, 단지내주차면수를 전용면적별세대수 비율에 맞추기\n",
        "raw_train['등록차량수'] = raw_train['등록차량수'] * raw_train['전용면적별세대수'].div(raw_train.groupby('단지코드')['전용면적별세대수'].transform(lambda x: x.sum()))\n",
        "raw_train['단지내주차면수'] = raw_train['단지내주차면수'] * raw_train['전용면적별세대수'].div(raw_train.groupby('단지코드')['전용면적별세대수'].transform(lambda x: x.sum()))"
      ],
      "execution_count": null,
      "outputs": []
    },
    {
      "cell_type": "code",
      "metadata": {
        "id": "9kx2nF5T8vIB"
      },
      "source": [
        "# 등록차량수, 단지내주차면수를 전용면적별세대수 비율에 맞추기\n",
        "raw_test['단지내주차면수'] = raw_test['단지내주차면수'] * raw_test['전용면적별세대수'].div(raw_test.groupby('단지코드')['전용면적별세대수'].transform(lambda x: x.sum()))"
      ],
      "execution_count": null,
      "outputs": []
    },
    {
      "cell_type": "markdown",
      "metadata": {
        "id": "e7Ro2Xbzamsz"
      },
      "source": [
        "### 임대건물구분\n",
        "- 결과\n",
        "    - 상가 O -> 단지내주차면수 하락, 등록차량수 하락 \n",
        "    - 임대건물구분 변수 삭제 -> 상가유무 변수 생성\n",
        "- 문제\n",
        "    - 단지내에 상가가 있는 아파트는 상가가 없는 단지와 비슷한 스펙이어도 단지내 주차면수가 적고 등록차량수가 적을 것임\n"
      ]
    },
    {
      "cell_type": "markdown",
      "metadata": {
        "id": "kod8Cgq5YNm_"
      },
      "source": [
        "----------------------------------------------------------------------\n",
        "총세대수와 단지내주차면수를 확인"
      ]
    },
    {
      "cell_type": "code",
      "metadata": {
        "id": "HhF_tOFIWghw"
      },
      "source": [
        "temp = raw_train.drop_duplicates(['단지코드'], keep='first')[['단지코드','총세대수', '단지내주차면수', '등록차량수']]"
      ],
      "execution_count": null,
      "outputs": []
    },
    {
      "cell_type": "code",
      "metadata": {
        "colab": {
          "base_uri": "https://localhost:8080/",
          "height": 542
        },
        "id": "wb9uh73Byqzx",
        "outputId": "a51a56be-d6ee-427d-d821-849f09733182"
      },
      "source": [
        "fig = go.Figure()\n",
        "fig = px.scatter(temp, x= '총세대수', y = '단지내주차면수',\n",
        "                            color_discrete_sequence=px.colors.qualitative.Alphabet)\n",
        "fig.update_layout(title='총세대수, 단지내주차면수 분포') #autosize =, width = 1000, height = 500)"
      ],
      "execution_count": null,
      "outputs": [
        {
          "output_type": "display_data",
          "data": {
            "text/html": [
              "<html>\n",
              "<head><meta charset=\"utf-8\" /></head>\n",
              "<body>\n",
              "    <div>\n",
              "            <script src=\"https://cdnjs.cloudflare.com/ajax/libs/mathjax/2.7.5/MathJax.js?config=TeX-AMS-MML_SVG\"></script><script type=\"text/javascript\">if (window.MathJax) {MathJax.Hub.Config({SVG: {font: \"STIX-Web\"}});}</script>\n",
              "                <script type=\"text/javascript\">window.PlotlyConfig = {MathJaxConfig: 'local'};</script>\n",
              "        <script src=\"https://cdn.plot.ly/plotly-latest.min.js\"></script>    \n",
              "            <div id=\"febb5714-e743-438e-9169-cd1dd1105107\" class=\"plotly-graph-div\" style=\"height:525px; width:100%;\"></div>\n",
              "            <script type=\"text/javascript\">\n",
              "                \n",
              "                    window.PLOTLYENV=window.PLOTLYENV || {};\n",
              "                    \n",
              "                if (document.getElementById(\"febb5714-e743-438e-9169-cd1dd1105107\")) {\n",
              "                    Plotly.newPlot(\n",
              "                        'febb5714-e743-438e-9169-cd1dd1105107',\n",
              "                        [{\"hoverlabel\": {\"namelength\": 0}, \"hovertemplate\": \"\\ucd1d\\uc138\\ub300\\uc218=%{x}<br>\\ub2e8\\uc9c0\\ub0b4\\uc8fc\\ucc28\\uba74\\uc218=%{y}\", \"legendgroup\": \"\", \"marker\": {\"color\": \"#AA0DFE\", \"symbol\": \"circle\"}, \"mode\": \"markers\", \"name\": \"\", \"showlegend\": false, \"type\": \"scatter\", \"x\": [900, 545, 1216, 755, 696, 566, 1722, 624, 361, 754, 240, 688, 623, 601, 405, 518, 619, 875, 560, 595, 625, 880, 1396, 970, 606, 1507, 639, 965, 946, 785, 2424, 809, 388, 1013, 453, 861, 806, 903, 1116, 1486, 1957, 802, 1527, 1005, 1988, 1350, 2428, 1755, 840, 390, 451, 410, 779, 755, 693, 753, 498, 1533, 711, 420, 590, 657, 495, 460, 338, 1144, 521, 1003, 306, 697, 213, 481, 468, 1364, 800, 830, 775, 261, 474, 72, 1473, 996, 870, 678, 632, 961, 1232, 676, 1300, 998, 493, 1117, 307, 501, 896, 521, 458, 290, 409, 586, 1084, 1174, 270, 1308, 355, 384, 853, 996, 355, 492, 861, 711, 901, 815, 312, 571, 594, 944, 410, 635, 962, 822, 1129, 1479, 330, 386, 456, 642, 302, 757, 705, 1072, 375, 853, 1018, 341, 416, 708, 475, 662, 1002, 462, 781, 496, 630, 512, 492, 534, 458, 762, 1005, 775, 890, 494, 571, 550, 383, 996, 882, 615, 470, 477, 496, 1260, 390, 330, 773, 1124, 550, 324, 1497, 531, 355, 389, 712, 561, 816, 898, 581, 851, 693, 136, 225, 742, 866, 383, 407, 720, 280, 307, 232, 602, 522, 457, 808, 712, 757, 356, 283, 467, 506, 243, 525, 445, 514, 374, 330, 378, 277, 856, 646, 511, 285, 256, 466, 314, 382, 212, 872, 508, 594, 514, 558, 758, 812, 504, 631, 332, 409, 773, 375, 747, 372, 434, 538, 498, 718, 818, 1035, 431, 467, 566, 861, 1116, 456, 648, 875, 1668, 443, 1215, 1647, 462, 806, 1017, 589, 504, 937, 840, 1144, 553, 424, 499, 200, 603, 700, 107, 318, 656, 306, 970, 992, 533, 1006, 478, 370, 560, 600, 291, 679, 1065, 1037, 715, 790, 1099, 374, 504, 1128, 304, 600, 690, 690, 749, 680, 376, 783, 1029, 919, 969, 368, 70, 922, 622, 600, 1366, 1122, 752, 886, 552, 850, 432, 1256, 960, 874, 1106, 772, 483, 1028, 326, 575, 532, 791, 1401, 344, 935, 1444, 452, 1105, 472, 354, 268, 984, 624, 1546, 640, 1460, 396, 1022, 1126, 1164, 924, 340, 922, 632, 1684, 794, 1454, 316, 580, 198, 556, 540, 938, 2568, 1058, 368, 1088, 1696, 404, 1934, 295, 1550, 1618, 363, 514, 636, 840, 659, 902, 1256, 1438, 2334, 528, 867, 542, 1124, 526, 947, 480, 908, 450, 890, 1020, 616, 820, 311, 270, 100, 847, 540, 203, 303, 1080, 442, 178, 818, 404, 1509, 412, 212, 26, 202, 1227, 581, 1206, 1048, 1077, 464, 100, 214, 266, 511, 307, 1004, 954, 362, 924, 1486, 2200, 90, 492, 40, 90, 239], \"xaxis\": \"x\", \"y\": [1425.0, 624.0, 1285.0, 734.0, 645.0, 517.0, 1483.0, 634.0, 288.0, 530.0, 168.0, 631.0, 222.0, 117.0, 296.0, 527.0, 97.0, 616.0, 154.0, 509.0, 517.0, 736.0, 277.0, 420.0, 548.0, 407.0, 162.0, 287.0, 986.0, 150.0, 487.0, 264.0, 226.0, 178.0, 107.0, 612.0, 804.0, 200.0, 262.0, 405.0, 351.0, 375.0, 240.0, 166.0, 217.0, 1043.0, 756.0, 270.0, 594.0, 97.0, 109.0, 120.0, 190.0, 88.0, 486.0, 682.0, 402.0, 1296.0, 131.0, 393.0, 376.0, 166.0, 117.0, 155.0, 235.0, 950.0, 153.0, 192.0, 246.0, 128.0, 164.0, 65.0, 477.0, 1505.0, 671.0, 802.0, 738.0, 198.0, 374.0, 54.0, 1299.0, 823.0, 763.0, 579.0, 478.0, 928.0, 1181.0, 658.0, 1082.0, 1240.0, 421.0, 985.0, 219.0, 405.0, 900.0, 521.0, 399.0, 205.0, 316.0, 472.0, 837.0, 1026.0, 222.0, 1119.0, 354.0, 384.0, 853.0, 895.0, 330.0, 347.0, 608.0, 573.0, 668.0, 574.0, 224.0, 483.0, 480.0, 958.0, 402.0, 508.0, 873.0, 827.0, 1137.0, 1488.0, 259.0, 299.0, 399.0, 567.0, 217.0, 660.0, 502.0, 894.0, 454.0, 862.0, 788.0, 240.0, 296.0, 638.0, 722.0, 546.0, 775.0, 325.0, 663.0, 428.0, 637.0, 362.0, 426.0, 465.0, 403.0, 661.0, 882.0, 665.0, 985.0, 358.0, 492.0, 385.0, 385.0, 834.0, 755.0, 527.0, 405.0, 413.0, 425.0, 941.0, 334.0, 335.0, 779.0, 1129.0, 448.0, 270.0, 1100.0, 480.0, 291.0, 352.0, 658.0, 572.0, 822.0, 909.0, 530.0, 771.0, 717.0, 136.0, 277.0, 1016.0, 692.0, 317.0, 552.0, 581.0, 280.0, 296.0, 195.0, 715.0, 525.0, 537.0, 728.0, 641.0, 761.0, 550.0, 227.0, 403.0, 436.0, 214.0, 422.0, 404.0, 362.0, 281.0, 253.0, 265.0, 222.0, 777.0, 583.0, 413.0, 200.0, 199.0, 329.0, 241.0, 306.0, 163.0, 733.0, 370.0, 596.0, 442.0, 449.0, 564.0, 612.0, 445.0, 442.0, 258.0, 330.0, 817.0, 360.0, 698.0, 374.0, 384.0, 393.0, 480.0, 550.0, 640.0, 911.0, 319.0, 366.0, 438.0, 812.0, 1050.0, 367.0, 600.0, 903.0, 1756.0, 362.0, 1105.0, 1741.0, 387.0, 707.0, 879.0, 515.0, 434.0, 770.0, 772.0, 1039.0, 584.0, 467.0, 409.0, 153.0, 506.0, 592.0, 27.0, 262.0, 527.0, 248.0, 845.0, 871.0, 484.0, 915.0, 629.0, 1590.0, 400.0, 528.0, 257.0, 615.0, 879.0, 936.0, 582.0, 673.0, 1154.0, 321.0, 438.0, 951.0, 230.0, 360.0, 652.0, 694.0, 759.0, 877.0, 380.0, 978.0, 1061.0, 988.0, 1590.0, 285.0, 50.0, 731.0, 551.0, 728.0, 1192.0, 1182.0, 680.0, 809.0, 523.0, 948.0, 349.0, 528.0, 876.0, 722.0, 752.0, 700.0, 437.0, 973.0, 268.0, 1066.0, 660.0, 944.0, 1636.0, 344.0, 939.0, 1275.0, 461.0, 1110.0, 1066.0, 297.0, 214.0, 865.0, 535.0, 1176.0, 549.0, 1534.0, 237.0, 1202.0, 983.0, 755.0, 986.0, 320.0, 804.0, 750.0, 1689.0, 676.0, 880.0, 239.0, 378.0, 200.0, 490.0, 500.0, 1117.0, 1798.0, 956.0, 333.0, 773.0, 1648.0, 490.0, 1670.0, 167.0, 1319.0, 1382.0, 434.0, 309.0, 772.0, 658.0, 573.0, 635.0, 878.0, 1500.0, 1713.0, 543.0, 897.0, 542.0, 1201.0, 727.0, 1306.0, 338.0, 1001.0, 318.0, 423.0, 719.0, 350.0, 629.0, 232.0, 183.0, 57.0, 496.0, 397.0, 109.0, 249.0, 1142.0, 533.0, 131.0, 995.0, 486.0, 1055.0, 287.0, 114.0, 13.0, 141.0, 857.0, 408.0, 842.0, 1140.0, 1239.0, 288.0, 54.0, 108.0, 188.0, 389.0, 212.0, 700.0, 772.0, 345.0, 664.0, 1493.0, 1570.0, 66.0, 521.0, 25.0, 30.0, 166.0], \"yaxis\": \"y\"}],\n",
              "                        {\"legend\": {\"tracegroupgap\": 0}, \"margin\": {\"t\": 60}, \"template\": {\"data\": {\"bar\": [{\"error_x\": {\"color\": \"#2a3f5f\"}, \"error_y\": {\"color\": \"#2a3f5f\"}, \"marker\": {\"line\": {\"color\": \"#E5ECF6\", \"width\": 0.5}}, \"type\": \"bar\"}], \"barpolar\": [{\"marker\": {\"line\": {\"color\": \"#E5ECF6\", \"width\": 0.5}}, \"type\": \"barpolar\"}], \"carpet\": [{\"aaxis\": {\"endlinecolor\": \"#2a3f5f\", \"gridcolor\": \"white\", \"linecolor\": \"white\", \"minorgridcolor\": \"white\", \"startlinecolor\": \"#2a3f5f\"}, \"baxis\": {\"endlinecolor\": \"#2a3f5f\", \"gridcolor\": \"white\", \"linecolor\": \"white\", \"minorgridcolor\": \"white\", \"startlinecolor\": \"#2a3f5f\"}, \"type\": \"carpet\"}], \"choropleth\": [{\"colorbar\": {\"outlinewidth\": 0, \"ticks\": \"\"}, \"type\": \"choropleth\"}], \"contour\": [{\"colorbar\": {\"outlinewidth\": 0, \"ticks\": \"\"}, \"colorscale\": [[0.0, \"#0d0887\"], [0.1111111111111111, \"#46039f\"], [0.2222222222222222, \"#7201a8\"], [0.3333333333333333, \"#9c179e\"], [0.4444444444444444, \"#bd3786\"], [0.5555555555555556, \"#d8576b\"], [0.6666666666666666, \"#ed7953\"], [0.7777777777777778, \"#fb9f3a\"], [0.8888888888888888, \"#fdca26\"], [1.0, \"#f0f921\"]], \"type\": \"contour\"}], \"contourcarpet\": [{\"colorbar\": {\"outlinewidth\": 0, \"ticks\": \"\"}, \"type\": \"contourcarpet\"}], \"heatmap\": [{\"colorbar\": {\"outlinewidth\": 0, \"ticks\": \"\"}, \"colorscale\": [[0.0, \"#0d0887\"], [0.1111111111111111, \"#46039f\"], [0.2222222222222222, \"#7201a8\"], [0.3333333333333333, \"#9c179e\"], [0.4444444444444444, \"#bd3786\"], [0.5555555555555556, \"#d8576b\"], [0.6666666666666666, \"#ed7953\"], [0.7777777777777778, \"#fb9f3a\"], [0.8888888888888888, \"#fdca26\"], [1.0, \"#f0f921\"]], \"type\": \"heatmap\"}], \"heatmapgl\": [{\"colorbar\": {\"outlinewidth\": 0, \"ticks\": \"\"}, \"colorscale\": [[0.0, \"#0d0887\"], [0.1111111111111111, \"#46039f\"], [0.2222222222222222, \"#7201a8\"], [0.3333333333333333, \"#9c179e\"], [0.4444444444444444, \"#bd3786\"], [0.5555555555555556, \"#d8576b\"], [0.6666666666666666, \"#ed7953\"], [0.7777777777777778, \"#fb9f3a\"], [0.8888888888888888, \"#fdca26\"], [1.0, \"#f0f921\"]], \"type\": \"heatmapgl\"}], \"histogram\": [{\"marker\": {\"colorbar\": {\"outlinewidth\": 0, \"ticks\": \"\"}}, \"type\": \"histogram\"}], \"histogram2d\": [{\"colorbar\": {\"outlinewidth\": 0, \"ticks\": \"\"}, \"colorscale\": [[0.0, \"#0d0887\"], [0.1111111111111111, \"#46039f\"], [0.2222222222222222, \"#7201a8\"], [0.3333333333333333, \"#9c179e\"], [0.4444444444444444, \"#bd3786\"], [0.5555555555555556, \"#d8576b\"], [0.6666666666666666, \"#ed7953\"], [0.7777777777777778, \"#fb9f3a\"], [0.8888888888888888, \"#fdca26\"], [1.0, \"#f0f921\"]], \"type\": \"histogram2d\"}], \"histogram2dcontour\": [{\"colorbar\": {\"outlinewidth\": 0, \"ticks\": \"\"}, \"colorscale\": [[0.0, \"#0d0887\"], [0.1111111111111111, \"#46039f\"], [0.2222222222222222, \"#7201a8\"], [0.3333333333333333, \"#9c179e\"], [0.4444444444444444, \"#bd3786\"], [0.5555555555555556, \"#d8576b\"], [0.6666666666666666, \"#ed7953\"], [0.7777777777777778, \"#fb9f3a\"], [0.8888888888888888, \"#fdca26\"], [1.0, \"#f0f921\"]], \"type\": \"histogram2dcontour\"}], \"mesh3d\": [{\"colorbar\": {\"outlinewidth\": 0, \"ticks\": \"\"}, \"type\": \"mesh3d\"}], \"parcoords\": [{\"line\": {\"colorbar\": {\"outlinewidth\": 0, \"ticks\": \"\"}}, \"type\": \"parcoords\"}], \"pie\": [{\"automargin\": true, \"type\": \"pie\"}], \"scatter\": [{\"marker\": {\"colorbar\": {\"outlinewidth\": 0, \"ticks\": \"\"}}, \"type\": \"scatter\"}], \"scatter3d\": [{\"line\": {\"colorbar\": {\"outlinewidth\": 0, \"ticks\": \"\"}}, \"marker\": {\"colorbar\": {\"outlinewidth\": 0, \"ticks\": \"\"}}, \"type\": \"scatter3d\"}], \"scattercarpet\": [{\"marker\": {\"colorbar\": {\"outlinewidth\": 0, \"ticks\": \"\"}}, \"type\": \"scattercarpet\"}], \"scattergeo\": [{\"marker\": {\"colorbar\": {\"outlinewidth\": 0, \"ticks\": \"\"}}, \"type\": \"scattergeo\"}], \"scattergl\": [{\"marker\": {\"colorbar\": {\"outlinewidth\": 0, \"ticks\": \"\"}}, \"type\": \"scattergl\"}], \"scattermapbox\": [{\"marker\": {\"colorbar\": {\"outlinewidth\": 0, \"ticks\": \"\"}}, \"type\": \"scattermapbox\"}], \"scatterpolar\": [{\"marker\": {\"colorbar\": {\"outlinewidth\": 0, \"ticks\": \"\"}}, \"type\": \"scatterpolar\"}], \"scatterpolargl\": [{\"marker\": {\"colorbar\": {\"outlinewidth\": 0, \"ticks\": \"\"}}, \"type\": \"scatterpolargl\"}], \"scatterternary\": [{\"marker\": {\"colorbar\": {\"outlinewidth\": 0, \"ticks\": \"\"}}, \"type\": \"scatterternary\"}], \"surface\": [{\"colorbar\": {\"outlinewidth\": 0, \"ticks\": \"\"}, \"colorscale\": [[0.0, \"#0d0887\"], [0.1111111111111111, \"#46039f\"], [0.2222222222222222, \"#7201a8\"], [0.3333333333333333, \"#9c179e\"], [0.4444444444444444, \"#bd3786\"], [0.5555555555555556, \"#d8576b\"], [0.6666666666666666, \"#ed7953\"], [0.7777777777777778, \"#fb9f3a\"], [0.8888888888888888, \"#fdca26\"], [1.0, \"#f0f921\"]], \"type\": \"surface\"}], \"table\": [{\"cells\": {\"fill\": {\"color\": \"#EBF0F8\"}, \"line\": {\"color\": \"white\"}}, \"header\": {\"fill\": {\"color\": \"#C8D4E3\"}, \"line\": {\"color\": \"white\"}}, \"type\": \"table\"}]}, \"layout\": {\"annotationdefaults\": {\"arrowcolor\": \"#2a3f5f\", \"arrowhead\": 0, \"arrowwidth\": 1}, \"coloraxis\": {\"colorbar\": {\"outlinewidth\": 0, \"ticks\": \"\"}}, \"colorscale\": {\"diverging\": [[0, \"#8e0152\"], [0.1, \"#c51b7d\"], [0.2, \"#de77ae\"], [0.3, \"#f1b6da\"], [0.4, \"#fde0ef\"], [0.5, \"#f7f7f7\"], [0.6, \"#e6f5d0\"], [0.7, \"#b8e186\"], [0.8, \"#7fbc41\"], [0.9, \"#4d9221\"], [1, \"#276419\"]], \"sequential\": [[0.0, \"#0d0887\"], [0.1111111111111111, \"#46039f\"], [0.2222222222222222, \"#7201a8\"], [0.3333333333333333, \"#9c179e\"], [0.4444444444444444, \"#bd3786\"], [0.5555555555555556, \"#d8576b\"], [0.6666666666666666, \"#ed7953\"], [0.7777777777777778, \"#fb9f3a\"], [0.8888888888888888, \"#fdca26\"], [1.0, \"#f0f921\"]], \"sequentialminus\": [[0.0, \"#0d0887\"], [0.1111111111111111, \"#46039f\"], [0.2222222222222222, \"#7201a8\"], [0.3333333333333333, \"#9c179e\"], [0.4444444444444444, \"#bd3786\"], [0.5555555555555556, \"#d8576b\"], [0.6666666666666666, \"#ed7953\"], [0.7777777777777778, \"#fb9f3a\"], [0.8888888888888888, \"#fdca26\"], [1.0, \"#f0f921\"]]}, \"colorway\": [\"#636efa\", \"#EF553B\", \"#00cc96\", \"#ab63fa\", \"#FFA15A\", \"#19d3f3\", \"#FF6692\", \"#B6E880\", \"#FF97FF\", \"#FECB52\"], \"font\": {\"color\": \"#2a3f5f\"}, \"geo\": {\"bgcolor\": \"white\", \"lakecolor\": \"white\", \"landcolor\": \"#E5ECF6\", \"showlakes\": true, \"showland\": true, \"subunitcolor\": \"white\"}, \"hoverlabel\": {\"align\": \"left\"}, \"hovermode\": \"closest\", \"mapbox\": {\"style\": \"light\"}, \"paper_bgcolor\": \"white\", \"plot_bgcolor\": \"#E5ECF6\", \"polar\": {\"angularaxis\": {\"gridcolor\": \"white\", \"linecolor\": \"white\", \"ticks\": \"\"}, \"bgcolor\": \"#E5ECF6\", \"radialaxis\": {\"gridcolor\": \"white\", \"linecolor\": \"white\", \"ticks\": \"\"}}, \"scene\": {\"xaxis\": {\"backgroundcolor\": \"#E5ECF6\", \"gridcolor\": \"white\", \"gridwidth\": 2, \"linecolor\": \"white\", \"showbackground\": true, \"ticks\": \"\", \"zerolinecolor\": \"white\"}, \"yaxis\": {\"backgroundcolor\": \"#E5ECF6\", \"gridcolor\": \"white\", \"gridwidth\": 2, \"linecolor\": \"white\", \"showbackground\": true, \"ticks\": \"\", \"zerolinecolor\": \"white\"}, \"zaxis\": {\"backgroundcolor\": \"#E5ECF6\", \"gridcolor\": \"white\", \"gridwidth\": 2, \"linecolor\": \"white\", \"showbackground\": true, \"ticks\": \"\", \"zerolinecolor\": \"white\"}}, \"shapedefaults\": {\"line\": {\"color\": \"#2a3f5f\"}}, \"ternary\": {\"aaxis\": {\"gridcolor\": \"white\", \"linecolor\": \"white\", \"ticks\": \"\"}, \"baxis\": {\"gridcolor\": \"white\", \"linecolor\": \"white\", \"ticks\": \"\"}, \"bgcolor\": \"#E5ECF6\", \"caxis\": {\"gridcolor\": \"white\", \"linecolor\": \"white\", \"ticks\": \"\"}}, \"title\": {\"x\": 0.05}, \"xaxis\": {\"automargin\": true, \"gridcolor\": \"white\", \"linecolor\": \"white\", \"ticks\": \"\", \"title\": {\"standoff\": 15}, \"zerolinecolor\": \"white\", \"zerolinewidth\": 2}, \"yaxis\": {\"automargin\": true, \"gridcolor\": \"white\", \"linecolor\": \"white\", \"ticks\": \"\", \"title\": {\"standoff\": 15}, \"zerolinecolor\": \"white\", \"zerolinewidth\": 2}}}, \"title\": {\"text\": \"\\ucd1d\\uc138\\ub300\\uc218, \\ub2e8\\uc9c0\\ub0b4\\uc8fc\\ucc28\\uba74\\uc218 \\ubd84\\ud3ec\"}, \"xaxis\": {\"anchor\": \"y\", \"domain\": [0.0, 1.0], \"title\": {\"text\": \"\\ucd1d\\uc138\\ub300\\uc218\"}}, \"yaxis\": {\"anchor\": \"x\", \"domain\": [0.0, 1.0], \"title\": {\"text\": \"\\ub2e8\\uc9c0\\ub0b4\\uc8fc\\ucc28\\uba74\\uc218\"}}},\n",
              "                        {\"responsive\": true}\n",
              "                    ).then(function(){\n",
              "                            \n",
              "var gd = document.getElementById('febb5714-e743-438e-9169-cd1dd1105107');\n",
              "var x = new MutationObserver(function (mutations, observer) {{\n",
              "        var display = window.getComputedStyle(gd).display;\n",
              "        if (!display || display === 'none') {{\n",
              "            console.log([gd, 'removed!']);\n",
              "            Plotly.purge(gd);\n",
              "            observer.disconnect();\n",
              "        }}\n",
              "}});\n",
              "\n",
              "// Listen for the removal of the full notebook cells\n",
              "var notebookContainer = gd.closest('#notebook-container');\n",
              "if (notebookContainer) {{\n",
              "    x.observe(notebookContainer, {childList: true});\n",
              "}}\n",
              "\n",
              "// Listen for the clearing of the current output cell\n",
              "var outputEl = gd.closest('.output');\n",
              "if (outputEl) {{\n",
              "    x.observe(outputEl, {childList: true});\n",
              "}}\n",
              "\n",
              "                        })\n",
              "                };\n",
              "                \n",
              "            </script>\n",
              "        </div>\n",
              "</body>\n",
              "</html>"
            ]
          },
          "metadata": {}
        }
      ]
    },
    {
      "cell_type": "markdown",
      "metadata": {
        "id": "WlLDmVgRzjWZ"
      },
      "source": [
        "총세대수, 단지내주차면수가 등록차량수화 강한 상관관계를 나타내고 있음.\n",
        "하지만, 총세대수가 높음에도 불구하고 등록차량수가 낮은 구간이 많음.\n",
        "하지만 단지내주차면수와 등록차량수가 0.8이라는 높은상관관계를 나타낸다. 이는 당연히 주차할 수 있는 공간이 많아지면 등록차량이 많다는 것을 의미한다.\n",
        "\n",
        "즉, **총세대수가 많은 단지에서 주차면수가 적을 수도 있다는 것을 파악할 수 있음**\n",
        "\n",
        "그렇다면 총세대수가 많은 단지에서 단지내 주차면수가 적은 곳을 확인해보자.  \n",
        "확인방법은 위 그래프를 참고해 단지내주차면수 / 총세대수가 0.5이하인 곳을 확인"
      ]
    },
    {
      "cell_type": "code",
      "metadata": {
        "colab": {
          "base_uri": "https://localhost:8080/"
        },
        "id": "aBb75nSzTrus",
        "outputId": "d16e541d-273c-4edc-fde7-62637daf3015"
      },
      "source": [
        "raw_train[(raw_train['단지내주차면수'] / raw_train['총세대수']) <= 0.5].drop_duplicates(['단지코드', '임대건물구분'], keep='first').groupby(['임대건물구분'])['단지코드'].count()"
      ],
      "execution_count": null,
      "outputs": [
        {
          "output_type": "execute_result",
          "data": {
            "text/plain": [
              "임대건물구분\n",
              "상가     33\n",
              "아파트    42\n",
              "Name: 단지코드, dtype: int64"
            ]
          },
          "metadata": {},
          "execution_count": 111
        }
      ]
    },
    {
      "cell_type": "code",
      "metadata": {
        "colab": {
          "base_uri": "https://localhost:8080/"
        },
        "id": "wwlMtYQGVElp",
        "outputId": "8293bdbe-851b-4aec-fa11-237f14b1cd86"
      },
      "source": [
        "raw_train[(raw_train['단지내주차면수'] / raw_train['총세대수']) >= 0.5].drop_duplicates(['단지코드', '임대건물구분'], keep='first').groupby(['임대건물구분'])['단지코드'].count()"
      ],
      "execution_count": null,
      "outputs": [
        {
          "output_type": "execute_result",
          "data": {
            "text/plain": [
              "임대건물구분\n",
              "아파트    382\n",
              "Name: 단지코드, dtype: int64"
            ]
          },
          "metadata": {},
          "execution_count": 112
        }
      ]
    },
    {
      "cell_type": "markdown",
      "metadata": {
        "id": "ABaGwFmxVIDx"
      },
      "source": [
        "위의 결과를 통해서 동일단지내에 상가가 있는 아파트는 총세대에 비해서 주차면수가 적다는 것을 파악할 수 있다.\n",
        "\n",
        "상가유무의 컬럼을 생성"
      ]
    },
    {
      "cell_type": "code",
      "metadata": {
        "id": "2FXyVdgDYpea"
      },
      "source": [
        "raw_train_lentType = copy.deepcopy(raw_train)"
      ],
      "execution_count": 9,
      "outputs": []
    },
    {
      "cell_type": "code",
      "metadata": {
        "id": "k3LghwUM_H1I"
      },
      "source": [
        "#혹시 상가가 딸린 지역은 주차면수가 더 높나?\n",
        "raw_train_lentType['상가유무'] = raw_train_lentType['임대건물구분'].apply(lambda x: '상가있음' if x == '상가' else '상가없음')\n",
        "# raw_train.groupby(['단지코드', ''])"
      ],
      "execution_count": 10,
      "outputs": []
    },
    {
      "cell_type": "code",
      "metadata": {
        "id": "W9X81GfLHv0p"
      },
      "source": [
        "raw_train_lentType['상가유무'] = raw_train_lentType['단지코드'].apply(lambda x: '상가있음' if x in raw_train_lentType[raw_train_lentType['상가유무'] == '상가있음']['단지코드'].unique() else '상가없음')"
      ],
      "execution_count": 11,
      "outputs": []
    },
    {
      "cell_type": "markdown",
      "metadata": {
        "id": "u-RzGMTIUHdJ"
      },
      "source": [
        "--------------------\n",
        "상가만 있는 지 확인\n",
        "결과 : 없음"
      ]
    },
    {
      "cell_type": "code",
      "metadata": {
        "id": "XbNLo7ylUmgX",
        "colab": {
          "base_uri": "https://localhost:8080/"
        },
        "outputId": "cb38c072-a797-4841-c120-2580cc3cecd3"
      },
      "source": [
        "raw_train_lentType[raw_train_lentType['상가유무'] == '상가있음'].drop_duplicates(['단지코드','임대건물구분','상가유무'], keep='first').groupby(['단지코드'])['임대건물구분'].apply(lambda x: \"\".join(x))"
      ],
      "execution_count": null,
      "outputs": [
        {
          "output_type": "execute_result",
          "data": {
            "text/plain": [
              "단지코드\n",
              "C1004    아파트상가\n",
              "C1056    아파트상가\n",
              "C1109    아파트상가\n",
              "C1206    아파트상가\n",
              "C1439    아파트상가\n",
              "C1476    아파트상가\n",
              "C1616    아파트상가\n",
              "C1698    아파트상가\n",
              "C1704    아파트상가\n",
              "C1722    아파트상가\n",
              "C1775    아파트상가\n",
              "C1790    아파트상가\n",
              "C1859    아파트상가\n",
              "C1874    아파트상가\n",
              "C1875    아파트상가\n",
              "C1899    아파트상가\n",
              "C1925    아파트상가\n",
              "C1983    아파트상가\n",
              "C2034    아파트상가\n",
              "C2038    아파트상가\n",
              "C2109    아파트상가\n",
              "C2132    아파트상가\n",
              "C2135    아파트상가\n",
              "C2190    아파트상가\n",
              "C2212    아파트상가\n",
              "C2258    아파트상가\n",
              "C2289    아파트상가\n",
              "C2310    아파트상가\n",
              "C2416    아파트상가\n",
              "C2571    아파트상가\n",
              "C2597    아파트상가\n",
              "C2621    아파트상가\n",
              "C2644    아파트상가\n",
              "Name: 임대건물구분, dtype: object"
            ]
          },
          "metadata": {},
          "execution_count": 126
        }
      ]
    },
    {
      "cell_type": "code",
      "metadata": {
        "colab": {
          "base_uri": "https://localhost:8080/"
        },
        "id": "xCBIV8GMSBNF",
        "outputId": "3eed5be0-7319-4d45-f6b2-906283ab7948"
      },
      "source": [
        "#단지코드 고유 개수가 맞는지 확인\n",
        "len(raw_train_lentType['단지코드'].unique()) #423"
      ],
      "execution_count": null,
      "outputs": [
        {
          "output_type": "execute_result",
          "data": {
            "text/plain": [
              "423"
            ]
          },
          "metadata": {},
          "execution_count": 121
        }
      ]
    },
    {
      "cell_type": "code",
      "metadata": {
        "colab": {
          "base_uri": "https://localhost:8080/",
          "height": 542
        },
        "id": "sXDw553KcSWK",
        "outputId": "880f675a-8468-45cf-87a3-4a821fa06463"
      },
      "source": [
        "fig = go.Figure()\n",
        "fig = px.scatter(raw_train_lentType, x= '총세대수', y = '단지내주차면수', color='상가유무',\n",
        "                            color_discrete_sequence=px.colors.qualitative.Alphabet)\n",
        "fig.update_layout(title='상가유무에 따른 총세대수, 단지내주차면수 분포') #autosize =, width = 1000, height = 500)"
      ],
      "execution_count": null,
      "outputs": [
        {
          "output_type": "display_data",
          "data": {
            "text/html": [
              "<html>\n",
              "<head><meta charset=\"utf-8\" /></head>\n",
              "<body>\n",
              "    <div>\n",
              "            <script src=\"https://cdnjs.cloudflare.com/ajax/libs/mathjax/2.7.5/MathJax.js?config=TeX-AMS-MML_SVG\"></script><script type=\"text/javascript\">if (window.MathJax) {MathJax.Hub.Config({SVG: {font: \"STIX-Web\"}});}</script>\n",
              "                <script type=\"text/javascript\">window.PlotlyConfig = {MathJaxConfig: 'local'};</script>\n",
              "        <script src=\"https://cdn.plot.ly/plotly-latest.min.js\"></script>    \n",
              "            <div id=\"17b67dff-e59f-4d08-924c-556622060076\" class=\"plotly-graph-div\" style=\"height:525px; width:100%;\"></div>\n",
              "            <script type=\"text/javascript\">\n",
              "                \n",
              "                    window.PLOTLYENV=window.PLOTLYENV || {};\n",
              "                    \n",
              "                if (document.getElementById(\"17b67dff-e59f-4d08-924c-556622060076\")) {\n",
              "                    Plotly.newPlot(\n",
              "                        '17b67dff-e59f-4d08-924c-556622060076',\n",
              "                        [{\"hoverlabel\": {\"namelength\": 0}, \"hovertemplate\": \"\\uc0c1\\uac00\\uc720\\ubb34=\\uc0c1\\uac00\\uc5c6\\uc74c<br>\\ucd1d\\uc138\\ub300\\uc218=%{x}<br>\\ub2e8\\uc9c0\\ub0b4\\uc8fc\\ucc28\\uba74\\uc218=%{y}\", \"legendgroup\": \"\\uc0c1\\uac00\\uc720\\ubb34=\\uc0c1\\uac00\\uc5c6\\uc74c\", \"marker\": {\"color\": \"#AA0DFE\", \"symbol\": \"circle\"}, \"mode\": \"markers\", \"name\": \"\\uc0c1\\uac00\\uc720\\ubb34=\\uc0c1\\uac00\\uc5c6\\uc74c\", \"showlegend\": true, \"type\": \"scattergl\", \"x\": [900, 900, 900, 900, 900, 900, 900, 900, 545, 545, 545, 545, 545, 545, 545, 1216, 1216, 1216, 1216, 1216, 1216, 1216, 1216, 1216, 1216, 1216, 755, 755, 755, 755, 755, 755, 696, 696, 696, 696, 566, 566, 566, 566, 566, 566, 1722, 1722, 1722, 1722, 1722, 1722, 1722, 1722, 1722, 1722, 1722, 1722, 1722, 624, 624, 624, 624, 624, 624, 624, 624, 624, 624, 624, 624, 361, 361, 361, 361, 361, 361, 754, 754, 754, 240, 240, 240, 240, 688, 688, 688, 623, 623, 623, 405, 405, 518, 518, 518, 518, 875, 875, 875, 595, 595, 595, 625, 625, 625, 880, 880, 880, 880, 880, 880, 970, 606, 606, 606, 606, 946, 946, 946, 946, 946, 946, 388, 388, 388, 861, 861, 861, 806, 806, 806, 806, 806, 806, 802, 802, 1350, 1350, 840, 840, 840, 390, 390, 693, 693, 693, 753, 753, 498, 498, 498, 498, 1533, 1533, 1533, 1533, 420, 420, 590, 590, 590, 590, 590, 590, 590, 590, 338, 338, 338, 338, 1144, 1144, 1144, 306, 306, 306, 213, 213, 213, 468, 468, 468, 1364, 1364, 1364, 1364, 1364, 1364, 1364, 800, 800, 800, 800, 800, 800, 830, 830, 830, 830, 830, 830, 830, 830, 775, 775, 775, 775, 775, 775, 775, 775, 261, 261, 261, 261, 474, 474, 474, 474, 474, 474, 474, 474, 72, 72, 72, 1473, 1473, 1473, 1473, 1473, 1473, 1473, 1473, 1473, 1473, 1473, 1473, 1473, 1473, 1473, 1473, 1473, 1473, 1473, 996, 996, 996, 996, 996, 996, 996, 870, 870, 870, 870, 870, 870, 870, 678, 678, 678, 678, 678, 678, 632, 632, 632, 632, 632, 961, 961, 961, 961, 961, 961, 961, 961, 1232, 1232, 1232, 1232, 1232, 676, 676, 676, 676, 676, 1300, 1300, 1300, 1300, 1300, 1300, 1300, 998, 998, 998, 998, 998, 998, 998, 493, 493, 493, 493, 493, 493, 493, 1117, 1117, 1117, 1117, 1117, 1117, 1117, 1117, 1117, 1117, 307, 307, 501, 501, 501, 501, 501, 501, 896, 896, 896, 896, 521, 521, 521, 521, 458, 458, 458, 458, 458, 458, 458, 290, 290, 409, 409, 409, 409, 409, 586, 586, 586, 586, 586, 586, 586, 586, 1084, 1084, 1084, 1084, 1084, 1084, 1174, 1174, 1174, 1174, 1174, 1174, 1174, 1174, 1174, 1174, 1174, 270, 270, 270, 270, 270, 270, 270, 1308, 1308, 1308, 1308, 1308, 355, 355, 355, 355, 384, 384, 384, 853, 853, 853, 853, 853, 853, 853, 996, 996, 996, 996, 996, 996, 996, 996, 996, 355, 355, 355, 355, 355, 355, 492, 492, 492, 492, 492, 492, 492, 861, 861, 861, 861, 861, 711, 711, 711, 711, 711, 901, 901, 901, 901, 815, 815, 815, 815, 815, 312, 312, 312, 312, 312, 312, 571, 571, 571, 571, 571, 571, 571, 571, 571, 594, 594, 594, 594, 594, 944, 944, 944, 944, 944, 944, 944, 944, 410, 410, 410, 410, 410, 410, 410, 635, 635, 635, 635, 962, 962, 962, 962, 962, 962, 822, 822, 822, 822, 822, 1129, 1129, 1129, 1129, 1129, 1129, 1479, 1479, 1479, 1479, 1479, 1479, 1479, 1479, 1479, 330, 330, 330, 330, 330, 386, 386, 386, 386, 456, 456, 456, 456, 642, 642, 642, 642, 302, 302, 757, 757, 757, 757, 757, 757, 757, 757, 757, 757, 705, 705, 705, 705, 1072, 1072, 1072, 375, 375, 375, 853, 853, 853, 853, 1018, 1018, 1018, 1018, 341, 341, 416, 416, 416, 416, 708, 708, 708, 708, 708, 708, 708, 708, 708, 475, 475, 475, 475, 662, 662, 662, 662, 1002, 1002, 1002, 1002, 1002, 1002, 1002, 1002, 462, 462, 462, 781, 781, 781, 781, 781, 781, 781, 781, 781, 781, 496, 496, 496, 496, 496, 496, 630, 630, 630, 630, 630, 630, 512, 492, 492, 492, 492, 492, 492, 534, 534, 534, 534, 534, 534, 534, 534, 458, 458, 458, 458, 458, 458, 458, 762, 762, 762, 762, 762, 762, 762, 762, 762, 1005, 1005, 1005, 1005, 1005, 1005, 1005, 1005, 1005, 775, 775, 775, 775, 775, 775, 775, 775, 890, 890, 890, 890, 890, 890, 494, 494, 494, 494, 494, 571, 571, 571, 571, 571, 550, 550, 550, 550, 550, 550, 383, 383, 383, 383, 383, 383, 383, 996, 996, 996, 996, 996, 882, 882, 882, 882, 882, 882, 882, 882, 615, 615, 615, 615, 615, 615, 470, 470, 470, 470, 470, 470, 470, 477, 477, 477, 477, 477, 477, 477, 496, 496, 496, 496, 1260, 1260, 1260, 1260, 1260, 1260, 390, 390, 390, 390, 390, 390, 390, 330, 330, 330, 330, 330, 330, 773, 773, 773, 773, 773, 773, 773, 773, 773, 773, 773, 1124, 1124, 1124, 1124, 1124, 1124, 1124, 1124, 1124, 1124, 1124, 1124, 550, 550, 324, 324, 324, 324, 1497, 1497, 1497, 1497, 1497, 1497, 1497, 1497, 1497, 1497, 1497, 1497, 1497, 531, 531, 531, 531, 531, 531, 531, 531, 355, 355, 355, 355, 355, 389, 389, 389, 389, 712, 712, 712, 712, 712, 712, 561, 561, 561, 561, 816, 816, 816, 816, 898, 898, 898, 898, 898, 581, 581, 581, 581, 851, 851, 851, 851, 851, 851, 851, 851, 851, 851, 851, 851, 693, 693, 693, 136, 225, 225, 742, 742, 742, 742, 742, 742, 742, 866, 866, 866, 866, 866, 866, 866, 383, 383, 383, 383, 383, 407, 407, 720, 720, 720, 720, 720, 720, 720, 720, 280, 280, 280, 280, 280, 280, 307, 307, 307, 307, 307, 307, 232, 232, 232, 602, 602, 602, 602, 602, 602, 522, 522, 522, 522, 522, 522, 457, 457, 457, 457, 457, 457, 457, 808, 808, 808, 808, 808, 808, 808, 712, 712, 712, 712, 712, 757, 757, 757, 757, 757, 757, 757, 356, 356, 356, 283, 283, 283, 283, 467, 467, 467, 467, 467, 506, 506, 506, 506, 506, 506, 506, 506, 243, 243, 243, 243, 243, 525, 525, 525, 525, 445, 445, 445, 445, 514, 514, 514, 514, 514, 514, 374, 374, 374, 330, 330, 330, 378, 378, 378, 378, 378, 277, 277, 277, 277, 277, 277, 277, 277, 856, 856, 856, 856, 856, 856, 646, 646, 646, 646, 646, 511, 511, 511, 511, 511, 285, 285, 285, 256, 256, 256, 256, 466, 466, 466, 466, 314, 314, 314, 382, 382, 382, 382, 382, 382, 212, 212, 212, 212, 212, 212, 872, 872, 872, 872, 872, 872, 508, 508, 594, 594, 594, 594, 594, 514, 514, 514, 514, 514, 558, 558, 558, 558, 558, 758, 758, 758, 812, 812, 812, 812, 812, 812, 812, 504, 504, 504, 504, 631, 631, 631, 631, 631, 631, 631, 332, 332, 332, 332, 332, 409, 409, 409, 409, 409, 409, 409, 773, 773, 773, 773, 773, 773, 375, 375, 375, 375, 375, 375, 375, 747, 747, 747, 747, 747, 747, 747, 372, 372, 434, 434, 538, 538, 538, 538, 538, 538, 498, 498, 498, 498, 498, 718, 718, 718, 718, 718, 718, 718, 718, 818, 818, 818, 818, 1035, 1035, 1035, 1035, 1035, 1035, 431, 431, 431, 431, 467, 467, 467, 467, 467, 467, 566, 566, 566, 566, 566, 566, 566, 861, 861, 861, 861, 861, 861, 1116, 1116, 1116, 1116, 1116, 1116, 1116, 1116, 1116, 456, 456, 456, 456, 456, 648, 648, 648, 648, 648, 875, 875, 875, 875, 875, 875, 875, 875, 875, 875, 1668, 1668, 1668, 1668, 1668, 1668, 1668, 1668, 1668, 1668, 1668, 1668, 1668, 1668, 1668, 1668, 443, 443, 443, 443, 443, 443, 1215, 1215, 1215, 1215, 1215, 1215, 1215, 1215, 1647, 1647, 1647, 1647, 1647, 1647, 1647, 1647, 1647, 1647, 1647, 1647, 1647, 1647, 462, 462, 462, 462, 462, 462, 806, 806, 806, 806, 806, 806, 806, 806, 806, 1017, 1017, 1017, 1017, 1017, 1017, 589, 589, 589, 589, 589, 589, 589, 589, 589, 589, 504, 504, 504, 504, 504, 937, 937, 937, 937, 937, 937, 840, 840, 840, 840, 840, 840, 840, 840, 840, 1144, 1144, 1144, 1144, 1144, 1144, 1144, 1144, 1144, 1144, 1144, 553, 553, 553, 553, 553, 553, 424, 424, 424, 424, 424, 424, 499, 499, 499, 499, 499, 200, 200, 200, 200, 200, 603, 603, 603, 603, 603, 603, 603, 700, 700, 700, 700, 700, 700, 107, 107, 318, 318, 318, 318, 318, 318, 656, 656, 656, 656, 656, 656, 306, 306, 306, 306, 970, 970, 970, 970, 970, 970, 992, 992, 992, 992, 992, 992, 992, 992, 992, 992, 992, 533, 533, 533, 533, 533, 533, 1006, 1006, 1006, 1006, 1006, 1006, 1006, 1006, 1006, 1006, 1006, 1006, 478, 478, 478, 478, 370, 370, 370, 370, 370, 370, 560, 560, 560, 560, 560, 560, 600, 600, 600, 600, 600, 600, 600, 600, 600, 291, 291, 291, 291, 291, 291, 679, 679, 679, 679, 679, 679, 679, 1065, 1065, 1065, 1065, 1065, 1065, 1065, 1065, 1065, 1065, 1037, 1037, 1037, 1037, 1037, 1037, 1037, 1037, 1037, 715, 715, 715, 715, 790, 790, 790, 790, 790, 790, 790, 790, 790, 790, 790, 1099, 1099, 1099, 1099, 1099, 1099, 1099, 1099, 374, 374, 374, 374, 374, 504, 504, 504, 504, 504, 504, 504, 504, 504, 504, 504, 1128, 1128, 1128, 304, 304, 304, 600, 600, 600, 600, 600, 600, 600, 690, 690, 690, 690, 690, 690, 690, 690, 690, 690, 749, 749, 749, 749, 680, 680, 680, 680, 680, 680, 680, 680, 680, 680, 376, 376, 783, 783, 783, 783, 1029, 1029, 1029, 1029, 1029, 919, 919, 919, 969, 969, 969, 969, 969, 969, 969, 969, 368, 368, 368, 368, 368, 368, 70, 70, 70, 922, 922, 922, 922, 922, 922, 922, 922, 922, 622, 622, 622, 622, 622, 622, 622, 622, 622, 622, 600, 600, 600, 1366, 1366, 1366, 1366, 1366, 1366, 1122, 1122, 1122, 1122, 1122, 1122, 1122, 752, 752, 752, 752, 752, 752, 752, 886, 886, 886, 886, 886, 886, 886, 886, 886, 886, 886, 552, 552, 552, 552, 552, 850, 850, 850, 850, 850, 850, 432, 432, 432, 1256, 1256, 1256, 1256, 1256, 1256, 1256, 1256, 960, 960, 960, 874, 874, 874, 874, 1106, 1106, 1106, 1106, 1106, 1106, 1106, 1106, 1106, 1106, 1106, 772, 772, 772, 772, 772, 772, 483, 483, 483, 483, 483, 483, 1028, 1028, 1028, 1028, 326, 326, 326, 575, 575, 575, 575, 532, 532, 532, 532, 532, 791, 791, 791, 791, 791, 791, 791, 1401, 1401, 1401, 1401, 1401, 1401, 1401, 1401, 1401, 1401, 1401, 1401, 1401, 344, 344, 344, 344, 344, 935, 935, 935, 935, 1444, 1444, 1444, 1444, 1444, 1444, 1444, 1444, 452, 452, 452, 452, 452, 1105, 1105, 1105, 1105, 1105, 1105, 472, 472, 354, 354, 354, 268, 268, 268, 268, 268, 984, 984, 984, 984, 624, 624, 624, 1546, 1546, 1546, 1546, 1546, 1546, 1546, 1546, 1546, 1546, 1546, 1546, 1546, 640, 640, 640, 640, 640, 1460, 1460, 1460, 396, 396, 396, 396, 396, 396, 1022, 1022, 1022, 1022, 1022, 1022, 1126, 1126, 1126, 1126, 1164, 1164, 1164, 1164, 1164, 1164, 1164, 1164, 1164, 1164, 1164, 1164, 1164, 1164, 1164, 1164, 1164, 1164, 1164, 1164, 1164, 1164, 1164, 924, 924, 924, 924, 340, 340, 340, 922, 922, 922, 632, 632, 632, 632, 1684, 1684, 1684, 1684, 794, 794, 794, 794, 1454, 1454, 1454, 1454, 1454, 1454, 1454, 1454, 1454, 1454, 1454, 1454, 1454, 1454, 1454, 1454, 1454, 1454, 316, 316, 316, 580, 580, 580, 580, 580, 580, 198, 198, 556, 556, 556, 540, 540, 540, 540, 540, 938, 938, 938, 2568, 2568, 2568, 2568, 2568, 2568, 2568, 2568, 2568, 2568, 2568, 2568, 2568, 2568, 1058, 1058, 1058, 1058, 1058, 1058, 368, 368, 368, 1088, 1088, 1088, 1088, 1088, 1696, 1696, 1696, 1696, 404, 404, 404, 404, 1934, 1934, 1934, 1934, 1934, 295, 295, 295, 295, 295, 295, 295, 295, 295, 1550, 1550, 1550, 1550, 1550, 1618, 1618, 1618, 1618, 1618, 363, 363, 363, 363, 514, 514, 514, 514, 514, 636, 636, 636, 840, 840, 840, 840, 840, 840, 659, 659, 659, 659, 659, 659, 659, 902, 902, 902, 902, 902, 902, 902, 902, 902, 902, 902, 902, 902, 1256, 1256, 1256, 1256, 1256, 1256, 1256, 1256, 1256, 1256, 1438, 1438, 1438, 1438, 1438, 1438, 1438, 1438, 1438, 1438, 1438, 2334, 2334, 2334, 2334, 2334, 2334, 2334, 2334, 2334, 528, 528, 867, 867, 867, 867, 867, 542, 542, 542, 542, 542, 1124, 1124, 1124, 1124, 1124, 1124, 1124, 1124, 1124, 1124, 1124, 1124, 1124, 1124, 1124, 1124, 1124, 526, 526, 526, 526, 526, 526, 947, 947, 947, 947, 947, 947, 480, 480, 480, 480, 480, 908, 908, 908, 908, 450, 450, 450, 450, 450, 450, 450, 450, 890, 890, 890, 890, 890, 890, 890, 890, 890, 890, 890, 890, 1020, 1020, 1020, 1020, 616, 616, 616, 616, 616, 616, 616, 616, 616, 616, 820, 820, 820, 820, 820, 311, 311, 311, 270, 270, 270, 270, 270, 270, 270, 270, 270, 100, 100, 100, 100, 100, 100, 100, 100, 100, 100, 847, 847, 847, 847, 847, 847, 847, 540, 540, 540, 540, 540, 540, 203, 203, 203, 203, 203, 303, 303, 303, 1080, 1080, 1080, 1080, 1080, 1080, 1080, 1080, 1080, 442, 442, 442, 178, 178, 178, 178, 818, 818, 818, 818, 404, 404, 404, 404, 1509, 1509, 1509, 1509, 1509, 1509, 1509, 1509, 1509, 1509, 1509, 1509, 1509, 1509, 412, 412, 412, 412, 412, 212, 212, 212, 212, 212, 212, 212, 26, 26, 26, 202, 202, 202, 202, 202, 1227, 1227, 1227, 1227, 1227, 1227, 581, 581, 581, 581, 581, 1206, 1206, 1206, 1206, 1206, 1206, 1206, 1206, 1206, 1048, 1048, 1048, 1077, 1077, 1077, 1077, 1077, 1077, 1077, 464, 464, 464, 464, 100, 100, 100, 214, 214, 214, 214, 214, 266, 266, 266, 266, 266, 266, 511, 511, 511, 511, 511, 307, 307, 307, 307, 307, 307, 307, 307, 1004, 1004, 1004, 1004, 1004, 1004, 1004, 1004, 954, 954, 954, 954, 362, 362, 362, 362, 924, 924, 924, 924, 924, 924, 1486, 1486, 1486, 1486, 1486, 1486, 1486, 1486, 2200, 2200, 2200, 2200, 2200, 2200, 2200, 2200, 2200, 2200, 2200, 2200, 90, 90, 90, 90, 90, 492, 492, 492, 492, 492, 40, 40, 40, 90, 239, 239, 239, 239, 239, 239], \"xaxis\": \"x\", \"y\": [1425.0, 1425.0, 1425.0, 1425.0, 1425.0, 1425.0, 1425.0, 1425.0, 624.0, 624.0, 624.0, 624.0, 624.0, 624.0, 624.0, 1285.0, 1285.0, 1285.0, 1285.0, 1285.0, 1285.0, 1285.0, 1285.0, 1285.0, 1285.0, 1285.0, 734.0, 734.0, 734.0, 734.0, 734.0, 734.0, 645.0, 645.0, 645.0, 645.0, 517.0, 517.0, 517.0, 517.0, 517.0, 517.0, 1483.0, 1483.0, 1483.0, 1483.0, 1483.0, 1483.0, 1483.0, 1483.0, 1483.0, 1483.0, 1483.0, 1483.0, 1483.0, 634.0, 634.0, 634.0, 634.0, 634.0, 634.0, 634.0, 634.0, 634.0, 634.0, 634.0, 634.0, 288.0, 288.0, 288.0, 288.0, 288.0, 288.0, 530.0, 530.0, 530.0, 168.0, 168.0, 168.0, 168.0, 631.0, 631.0, 631.0, 222.0, 222.0, 222.0, 296.0, 296.0, 527.0, 527.0, 527.0, 527.0, 616.0, 616.0, 616.0, 509.0, 509.0, 509.0, 517.0, 517.0, 517.0, 736.0, 736.0, 736.0, 736.0, 736.0, 736.0, 420.0, 548.0, 548.0, 548.0, 548.0, 986.0, 986.0, 986.0, 986.0, 986.0, 986.0, 226.0, 226.0, 226.0, 612.0, 612.0, 612.0, 804.0, 804.0, 804.0, 804.0, 804.0, 804.0, 375.0, 375.0, 1043.0, 1043.0, 594.0, 594.0, 594.0, 97.0, 97.0, 486.0, 486.0, 486.0, 682.0, 682.0, 402.0, 402.0, 402.0, 402.0, 1296.0, 1296.0, 1296.0, 1296.0, 393.0, 393.0, 376.0, 376.0, 376.0, 376.0, 376.0, 376.0, 376.0, 376.0, 235.0, 235.0, 235.0, 235.0, 950.0, 950.0, 950.0, 246.0, 246.0, 246.0, 164.0, 164.0, 164.0, 477.0, 477.0, 477.0, 1505.0, 1505.0, 1505.0, 1505.0, 1505.0, 1505.0, 1505.0, 671.0, 671.0, 671.0, 671.0, 671.0, 671.0, 802.0, 802.0, 802.0, 802.0, 802.0, 802.0, 802.0, 802.0, 738.0, 738.0, 738.0, 738.0, 738.0, 738.0, 738.0, 738.0, 198.0, 198.0, 198.0, 198.0, 374.0, 374.0, 374.0, 374.0, 374.0, 374.0, 374.0, 374.0, 54.0, 54.0, 54.0, 1299.0, 1299.0, 1299.0, 1299.0, 1299.0, 1299.0, 1299.0, 1299.0, 1299.0, 1299.0, 1299.0, 1299.0, 1299.0, 1299.0, 1299.0, 1299.0, 1299.0, 1299.0, 1299.0, 823.0, 823.0, 823.0, 823.0, 823.0, 823.0, 823.0, 763.0, 763.0, 763.0, 763.0, 763.0, 763.0, 763.0, 579.0, 579.0, 579.0, 579.0, 579.0, 579.0, 478.0, 478.0, 478.0, 478.0, 478.0, 928.0, 928.0, 928.0, 928.0, 928.0, 928.0, 928.0, 928.0, 1181.0, 1181.0, 1181.0, 1181.0, 1181.0, 658.0, 658.0, 658.0, 658.0, 658.0, 1082.0, 1082.0, 1082.0, 1082.0, 1082.0, 1082.0, 1082.0, 1240.0, 1240.0, 1240.0, 1240.0, 1240.0, 1240.0, 1240.0, 421.0, 421.0, 421.0, 421.0, 421.0, 421.0, 421.0, 985.0, 985.0, 985.0, 985.0, 985.0, 985.0, 985.0, 985.0, 985.0, 985.0, 219.0, 219.0, 405.0, 405.0, 405.0, 405.0, 405.0, 405.0, 900.0, 900.0, 900.0, 900.0, 521.0, 521.0, 521.0, 521.0, 399.0, 399.0, 399.0, 399.0, 399.0, 399.0, 399.0, 205.0, 205.0, 316.0, 316.0, 316.0, 316.0, 316.0, 472.0, 472.0, 472.0, 472.0, 472.0, 472.0, 472.0, 472.0, 837.0, 837.0, 837.0, 837.0, 837.0, 837.0, 1026.0, 1026.0, 1026.0, 1026.0, 1026.0, 1026.0, 1026.0, 1026.0, 1026.0, 1026.0, 1026.0, 222.0, 222.0, 222.0, 222.0, 222.0, 222.0, 222.0, 1119.0, 1119.0, 1119.0, 1119.0, 1119.0, 354.0, 354.0, 354.0, 354.0, 384.0, 384.0, 384.0, 853.0, 853.0, 853.0, 853.0, 853.0, 853.0, 853.0, 895.0, 895.0, 895.0, 895.0, 895.0, 895.0, 895.0, 895.0, 895.0, 330.0, 330.0, 330.0, 330.0, 330.0, 330.0, 347.0, 347.0, 347.0, 347.0, 347.0, 347.0, 347.0, 608.0, 608.0, 608.0, 608.0, 608.0, 573.0, 573.0, 573.0, 573.0, 573.0, 668.0, 668.0, 668.0, 668.0, 574.0, 574.0, 574.0, 574.0, 574.0, 224.0, 224.0, 224.0, 224.0, 224.0, 224.0, 483.0, 483.0, 483.0, 483.0, 483.0, 483.0, 483.0, 483.0, 483.0, 480.0, 480.0, 480.0, 480.0, 480.0, 958.0, 958.0, 958.0, 958.0, 958.0, 958.0, 958.0, 958.0, 402.0, 402.0, 402.0, 402.0, 402.0, 402.0, 402.0, 508.0, 508.0, 508.0, 508.0, 873.0, 873.0, 873.0, 873.0, 873.0, 873.0, 827.0, 827.0, 827.0, 827.0, 827.0, 1137.0, 1137.0, 1137.0, 1137.0, 1137.0, 1137.0, 1488.0, 1488.0, 1488.0, 1488.0, 1488.0, 1488.0, 1488.0, 1488.0, 1488.0, 259.0, 259.0, 259.0, 259.0, 259.0, 299.0, 299.0, 299.0, 299.0, 399.0, 399.0, 399.0, 399.0, 567.0, 567.0, 567.0, 567.0, 217.0, 217.0, 660.0, 660.0, 660.0, 660.0, 660.0, 660.0, 660.0, 660.0, 660.0, 660.0, 502.0, 502.0, 502.0, 502.0, 894.0, 894.0, 894.0, 454.0, 454.0, 454.0, 862.0, 862.0, 862.0, 862.0, 788.0, 788.0, 788.0, 788.0, 240.0, 240.0, 296.0, 296.0, 296.0, 296.0, 638.0, 638.0, 638.0, 638.0, 638.0, 638.0, 638.0, 638.0, 638.0, 722.0, 722.0, 722.0, 722.0, 546.0, 546.0, 546.0, 546.0, 775.0, 775.0, 775.0, 775.0, 775.0, 775.0, 775.0, 775.0, 325.0, 325.0, 325.0, 663.0, 663.0, 663.0, 663.0, 663.0, 663.0, 663.0, 663.0, 663.0, 663.0, 428.0, 428.0, 428.0, 428.0, 428.0, 428.0, 637.0, 637.0, 637.0, 637.0, 637.0, 637.0, 362.0, 426.0, 426.0, 426.0, 426.0, 426.0, 426.0, 465.0, 465.0, 465.0, 465.0, 465.0, 465.0, 465.0, 465.0, 403.0, 403.0, 403.0, 403.0, 403.0, 403.0, 403.0, 661.0, 661.0, 661.0, 661.0, 661.0, 661.0, 661.0, 661.0, 661.0, 882.0, 882.0, 882.0, 882.0, 882.0, 882.0, 882.0, 882.0, 882.0, 665.0, 665.0, 665.0, 665.0, 665.0, 665.0, 665.0, 665.0, 985.0, 985.0, 985.0, 985.0, 985.0, 985.0, 358.0, 358.0, 358.0, 358.0, 358.0, 492.0, 492.0, 492.0, 492.0, 492.0, 385.0, 385.0, 385.0, 385.0, 385.0, 385.0, 385.0, 385.0, 385.0, 385.0, 385.0, 385.0, 385.0, 834.0, 834.0, 834.0, 834.0, 834.0, 755.0, 755.0, 755.0, 755.0, 755.0, 755.0, 755.0, 755.0, 527.0, 527.0, 527.0, 527.0, 527.0, 527.0, 405.0, 405.0, 405.0, 405.0, 405.0, 405.0, 405.0, 413.0, 413.0, 413.0, 413.0, 413.0, 413.0, 413.0, 425.0, 425.0, 425.0, 425.0, 941.0, 941.0, 941.0, 941.0, 941.0, 941.0, 334.0, 334.0, 334.0, 334.0, 334.0, 334.0, 334.0, 335.0, 335.0, 335.0, 335.0, 335.0, 335.0, 779.0, 779.0, 779.0, 779.0, 779.0, 779.0, 779.0, 779.0, 779.0, 779.0, 779.0, 1129.0, 1129.0, 1129.0, 1129.0, 1129.0, 1129.0, 1129.0, 1129.0, 1129.0, 1129.0, 1129.0, 1129.0, 448.0, 448.0, 270.0, 270.0, 270.0, 270.0, 1100.0, 1100.0, 1100.0, 1100.0, 1100.0, 1100.0, 1100.0, 1100.0, 1100.0, 1100.0, 1100.0, 1100.0, 1100.0, 480.0, 480.0, 480.0, 480.0, 480.0, 480.0, 480.0, 480.0, 291.0, 291.0, 291.0, 291.0, 291.0, 352.0, 352.0, 352.0, 352.0, 658.0, 658.0, 658.0, 658.0, 658.0, 658.0, 572.0, 572.0, 572.0, 572.0, 822.0, 822.0, 822.0, 822.0, 909.0, 909.0, 909.0, 909.0, 909.0, 530.0, 530.0, 530.0, 530.0, 771.0, 771.0, 771.0, 771.0, 771.0, 771.0, 771.0, 771.0, 771.0, 771.0, 771.0, 771.0, 717.0, 717.0, 717.0, 136.0, 277.0, 277.0, 1016.0, 1016.0, 1016.0, 1016.0, 1016.0, 1016.0, 1016.0, 692.0, 692.0, 692.0, 692.0, 692.0, 692.0, 692.0, 317.0, 317.0, 317.0, 317.0, 317.0, 552.0, 552.0, 581.0, 581.0, 581.0, 581.0, 581.0, 581.0, 581.0, 581.0, 280.0, 280.0, 280.0, 280.0, 280.0, 280.0, 296.0, 296.0, 296.0, 296.0, 296.0, 296.0, 195.0, 195.0, 195.0, 715.0, 715.0, 715.0, 715.0, 715.0, 715.0, 525.0, 525.0, 525.0, 525.0, 525.0, 525.0, 537.0, 537.0, 537.0, 537.0, 537.0, 537.0, 537.0, 728.0, 728.0, 728.0, 728.0, 728.0, 728.0, 728.0, 641.0, 641.0, 641.0, 641.0, 641.0, 761.0, 761.0, 761.0, 761.0, 761.0, 761.0, 761.0, 550.0, 550.0, 550.0, 227.0, 227.0, 227.0, 227.0, 403.0, 403.0, 403.0, 403.0, 403.0, 436.0, 436.0, 436.0, 436.0, 436.0, 436.0, 436.0, 436.0, 214.0, 214.0, 214.0, 214.0, 214.0, 422.0, 422.0, 422.0, 422.0, 404.0, 404.0, 404.0, 404.0, 362.0, 362.0, 362.0, 362.0, 362.0, 362.0, 281.0, 281.0, 281.0, 253.0, 253.0, 253.0, 265.0, 265.0, 265.0, 265.0, 265.0, 222.0, 222.0, 222.0, 222.0, 222.0, 222.0, 222.0, 222.0, 777.0, 777.0, 777.0, 777.0, 777.0, 777.0, 583.0, 583.0, 583.0, 583.0, 583.0, 413.0, 413.0, 413.0, 413.0, 413.0, 200.0, 200.0, 200.0, 199.0, 199.0, 199.0, 199.0, 329.0, 329.0, 329.0, 329.0, 241.0, 241.0, 241.0, 306.0, 306.0, 306.0, 306.0, 306.0, 306.0, 163.0, 163.0, 163.0, 163.0, 163.0, 163.0, 733.0, 733.0, 733.0, 733.0, 733.0, 733.0, 370.0, 370.0, 596.0, 596.0, 596.0, 596.0, 596.0, 442.0, 442.0, 442.0, 442.0, 442.0, 449.0, 449.0, 449.0, 449.0, 449.0, 564.0, 564.0, 564.0, 612.0, 612.0, 612.0, 612.0, 612.0, 612.0, 612.0, 445.0, 445.0, 445.0, 445.0, 442.0, 442.0, 442.0, 442.0, 442.0, 442.0, 442.0, 258.0, 258.0, 258.0, 258.0, 258.0, 330.0, 330.0, 330.0, 330.0, 330.0, 330.0, 330.0, 817.0, 817.0, 817.0, 817.0, 817.0, 817.0, 360.0, 360.0, 360.0, 360.0, 360.0, 360.0, 360.0, 698.0, 698.0, 698.0, 698.0, 698.0, 698.0, 698.0, 374.0, 374.0, 384.0, 384.0, 393.0, 393.0, 393.0, 393.0, 393.0, 393.0, 480.0, 480.0, 480.0, 480.0, 480.0, 550.0, 550.0, 550.0, 550.0, 550.0, 550.0, 550.0, 550.0, 640.0, 640.0, 640.0, 640.0, 911.0, 911.0, 911.0, 911.0, 911.0, 911.0, 319.0, 319.0, 319.0, 319.0, 366.0, 366.0, 366.0, 366.0, 366.0, 366.0, 438.0, 438.0, 438.0, 438.0, 438.0, 438.0, 438.0, 812.0, 812.0, 812.0, 812.0, 812.0, 812.0, 1050.0, 1050.0, 1050.0, 1050.0, 1050.0, 1050.0, 1050.0, 1050.0, 1050.0, 367.0, 367.0, 367.0, 367.0, 367.0, 600.0, 600.0, 600.0, 600.0, 600.0, 903.0, 903.0, 903.0, 903.0, 903.0, 903.0, 903.0, 903.0, 903.0, 903.0, 1756.0, 1756.0, 1756.0, 1756.0, 1756.0, 1756.0, 1756.0, 1756.0, 1756.0, 1756.0, 1756.0, 1756.0, 1756.0, 1756.0, 1756.0, 1756.0, 362.0, 362.0, 362.0, 362.0, 362.0, 362.0, 1105.0, 1105.0, 1105.0, 1105.0, 1105.0, 1105.0, 1105.0, 1105.0, 1741.0, 1741.0, 1741.0, 1741.0, 1741.0, 1741.0, 1741.0, 1741.0, 1741.0, 1741.0, 1741.0, 1741.0, 1741.0, 1741.0, 387.0, 387.0, 387.0, 387.0, 387.0, 387.0, 707.0, 707.0, 707.0, 707.0, 707.0, 707.0, 707.0, 707.0, 707.0, 879.0, 879.0, 879.0, 879.0, 879.0, 879.0, 515.0, 515.0, 515.0, 515.0, 515.0, 515.0, 515.0, 515.0, 515.0, 515.0, 434.0, 434.0, 434.0, 434.0, 434.0, 770.0, 770.0, 770.0, 770.0, 770.0, 770.0, 772.0, 772.0, 772.0, 772.0, 772.0, 772.0, 772.0, 772.0, 772.0, 1039.0, 1039.0, 1039.0, 1039.0, 1039.0, 1039.0, 1039.0, 1039.0, 1039.0, 1039.0, 1039.0, 584.0, 584.0, 584.0, 584.0, 584.0, 584.0, 467.0, 467.0, 467.0, 467.0, 467.0, 467.0, 409.0, 409.0, 409.0, 409.0, 409.0, 153.0, 153.0, 153.0, 153.0, 153.0, 506.0, 506.0, 506.0, 506.0, 506.0, 506.0, 506.0, 592.0, 592.0, 592.0, 592.0, 592.0, 592.0, 27.0, 27.0, 262.0, 262.0, 262.0, 262.0, 262.0, 262.0, 527.0, 527.0, 527.0, 527.0, 527.0, 527.0, 248.0, 248.0, 248.0, 248.0, 845.0, 845.0, 845.0, 845.0, 845.0, 845.0, 871.0, 871.0, 871.0, 871.0, 871.0, 871.0, 871.0, 871.0, 871.0, 871.0, 871.0, 484.0, 484.0, 484.0, 484.0, 484.0, 484.0, 915.0, 915.0, 915.0, 915.0, 915.0, 915.0, 915.0, 915.0, 915.0, 915.0, 915.0, 915.0, 629.0, 629.0, 629.0, 629.0, 1590.0, 1590.0, 1590.0, 1590.0, 1590.0, 1590.0, 400.0, 400.0, 400.0, 400.0, 400.0, 400.0, 528.0, 528.0, 528.0, 528.0, 528.0, 528.0, 528.0, 528.0, 528.0, 257.0, 257.0, 257.0, 257.0, 257.0, 257.0, 615.0, 615.0, 615.0, 615.0, 615.0, 615.0, 615.0, 879.0, 879.0, 879.0, 879.0, 879.0, 879.0, 879.0, 879.0, 879.0, 879.0, 936.0, 936.0, 936.0, 936.0, 936.0, 936.0, 936.0, 936.0, 936.0, 582.0, 582.0, 582.0, 582.0, 673.0, 673.0, 673.0, 673.0, 673.0, 673.0, 673.0, 673.0, 673.0, 673.0, 673.0, 1154.0, 1154.0, 1154.0, 1154.0, 1154.0, 1154.0, 1154.0, 1154.0, 321.0, 321.0, 321.0, 321.0, 321.0, 438.0, 438.0, 438.0, 438.0, 438.0, 438.0, 438.0, 438.0, 438.0, 438.0, 438.0, 951.0, 951.0, 951.0, 230.0, 230.0, 230.0, 360.0, 360.0, 360.0, 360.0, 360.0, 360.0, 360.0, 652.0, 652.0, 652.0, 652.0, 694.0, 694.0, 694.0, 694.0, 694.0, 694.0, 759.0, 759.0, 759.0, 759.0, 877.0, 877.0, 877.0, 877.0, 877.0, 877.0, 877.0, 877.0, 877.0, 877.0, 380.0, 380.0, 978.0, 978.0, 978.0, 978.0, 1061.0, 1061.0, 1061.0, 1061.0, 1061.0, 988.0, 988.0, 988.0, 1590.0, 1590.0, 1590.0, 1590.0, 1590.0, 1590.0, 1590.0, 1590.0, 285.0, 285.0, 285.0, 285.0, 285.0, 285.0, 50.0, 50.0, 50.0, 731.0, 731.0, 731.0, 731.0, 731.0, 731.0, 731.0, 731.0, 731.0, 551.0, 551.0, 551.0, 551.0, 551.0, 551.0, 551.0, 551.0, 551.0, 551.0, 728.0, 728.0, 728.0, 1192.0, 1192.0, 1192.0, 1192.0, 1192.0, 1192.0, 1182.0, 1182.0, 1182.0, 1182.0, 1182.0, 1182.0, 1182.0, 680.0, 680.0, 680.0, 680.0, 680.0, 680.0, 680.0, 809.0, 809.0, 809.0, 809.0, 809.0, 809.0, 809.0, 809.0, 809.0, 809.0, 809.0, 523.0, 523.0, 523.0, 523.0, 523.0, 948.0, 948.0, 948.0, 948.0, 948.0, 948.0, 349.0, 349.0, 349.0, 528.0, 528.0, 528.0, 528.0, 528.0, 528.0, 528.0, 528.0, 876.0, 876.0, 876.0, 722.0, 722.0, 722.0, 722.0, 752.0, 752.0, 752.0, 752.0, 752.0, 752.0, 752.0, 752.0, 752.0, 752.0, 752.0, 700.0, 700.0, 700.0, 700.0, 700.0, 700.0, 437.0, 437.0, 437.0, 437.0, 437.0, 437.0, 973.0, 973.0, 973.0, 973.0, 268.0, 268.0, 268.0, 1066.0, 1066.0, 1066.0, 1066.0, 660.0, 660.0, 660.0, 660.0, 660.0, 944.0, 944.0, 944.0, 944.0, 944.0, 944.0, 944.0, 1636.0, 1636.0, 1636.0, 1636.0, 1636.0, 1636.0, 1636.0, 1636.0, 1636.0, 1636.0, 1636.0, 1636.0, 1636.0, 344.0, 344.0, 344.0, 344.0, 344.0, 939.0, 939.0, 939.0, 939.0, 1275.0, 1275.0, 1275.0, 1275.0, 1275.0, 1275.0, 1275.0, 1275.0, 461.0, 461.0, 461.0, 461.0, 461.0, 1110.0, 1110.0, 1110.0, 1110.0, 1110.0, 1110.0, 1066.0, 1066.0, 297.0, 297.0, 297.0, 214.0, 214.0, 214.0, 214.0, 214.0, 865.0, 865.0, 865.0, 865.0, 535.0, 535.0, 535.0, 1176.0, 1176.0, 1176.0, 1176.0, 1176.0, 1176.0, 1176.0, 1176.0, 1176.0, 1176.0, 1176.0, 1176.0, 1176.0, 549.0, 549.0, 549.0, 549.0, 549.0, 1534.0, 1534.0, 1534.0, 237.0, 237.0, 237.0, 237.0, 237.0, 237.0, 1202.0, 1202.0, 1202.0, 1202.0, 1202.0, 1202.0, 983.0, 983.0, 983.0, 983.0, 755.0, 755.0, 755.0, 755.0, 755.0, 755.0, 755.0, 755.0, 755.0, 755.0, 755.0, 755.0, 755.0, 755.0, 755.0, 755.0, 755.0, 755.0, 755.0, 755.0, 755.0, 755.0, 755.0, 986.0, 986.0, 986.0, 986.0, 320.0, 320.0, 320.0, 804.0, 804.0, 804.0, 750.0, 750.0, 750.0, 750.0, 1689.0, 1689.0, 1689.0, 1689.0, 676.0, 676.0, 676.0, 676.0, 880.0, 880.0, 880.0, 880.0, 880.0, 880.0, 880.0, 880.0, 880.0, 880.0, 880.0, 880.0, 880.0, 880.0, 880.0, 880.0, 880.0, 880.0, 239.0, 239.0, 239.0, 378.0, 378.0, 378.0, 378.0, 378.0, 378.0, 200.0, 200.0, 490.0, 490.0, 490.0, 500.0, 500.0, 500.0, 500.0, 500.0, 1117.0, 1117.0, 1117.0, 1798.0, 1798.0, 1798.0, 1798.0, 1798.0, 1798.0, 1798.0, 1798.0, 1798.0, 1798.0, 1798.0, 1798.0, 1798.0, 1798.0, 956.0, 956.0, 956.0, 956.0, 956.0, 956.0, 333.0, 333.0, 333.0, 773.0, 773.0, 773.0, 773.0, 773.0, 1648.0, 1648.0, 1648.0, 1648.0, 490.0, 490.0, 490.0, 490.0, 1670.0, 1670.0, 1670.0, 1670.0, 1670.0, 167.0, 167.0, 167.0, 167.0, 167.0, 167.0, 167.0, 167.0, 167.0, 1319.0, 1319.0, 1319.0, 1319.0, 1319.0, 1382.0, 1382.0, 1382.0, 1382.0, 1382.0, 434.0, 434.0, 434.0, 434.0, 309.0, 309.0, 309.0, 309.0, 309.0, 772.0, 772.0, 772.0, 658.0, 658.0, 658.0, 658.0, 658.0, 658.0, 573.0, 573.0, 573.0, 573.0, 573.0, 573.0, 573.0, 635.0, 635.0, 635.0, 635.0, 635.0, 635.0, 635.0, 635.0, 635.0, 635.0, 635.0, 635.0, 635.0, 878.0, 878.0, 878.0, 878.0, 878.0, 878.0, 878.0, 878.0, 878.0, 878.0, 1500.0, 1500.0, 1500.0, 1500.0, 1500.0, 1500.0, 1500.0, 1500.0, 1500.0, 1500.0, 1500.0, 1713.0, 1713.0, 1713.0, 1713.0, 1713.0, 1713.0, 1713.0, 1713.0, 1713.0, 543.0, 543.0, 897.0, 897.0, 897.0, 897.0, 897.0, 542.0, 542.0, 542.0, 542.0, 542.0, 1201.0, 1201.0, 1201.0, 1201.0, 1201.0, 1201.0, 1201.0, 1201.0, 1201.0, 1201.0, 1201.0, 1201.0, 1201.0, 1201.0, 1201.0, 1201.0, 1201.0, 727.0, 727.0, 727.0, 727.0, 727.0, 727.0, 1306.0, 1306.0, 1306.0, 1306.0, 1306.0, 1306.0, 338.0, 338.0, 338.0, 338.0, 338.0, 1001.0, 1001.0, 1001.0, 1001.0, 318.0, 318.0, 318.0, 318.0, 318.0, 318.0, 318.0, 318.0, 423.0, 423.0, 423.0, 423.0, 423.0, 423.0, 423.0, 423.0, 423.0, 423.0, 423.0, 423.0, 719.0, 719.0, 719.0, 719.0, 350.0, 350.0, 350.0, 350.0, 350.0, 350.0, 350.0, 350.0, 350.0, 350.0, 629.0, 629.0, 629.0, 629.0, 629.0, 232.0, 232.0, 232.0, 183.0, 183.0, 183.0, 183.0, 183.0, 183.0, 183.0, 183.0, 183.0, 57.0, 57.0, 57.0, 57.0, 57.0, 57.0, 57.0, 57.0, 57.0, 57.0, 496.0, 496.0, 496.0, 496.0, 496.0, 496.0, 496.0, 397.0, 397.0, 397.0, 397.0, 397.0, 397.0, 109.0, 109.0, 109.0, 109.0, 109.0, 249.0, 249.0, 249.0, 1142.0, 1142.0, 1142.0, 1142.0, 1142.0, 1142.0, 1142.0, 1142.0, 1142.0, 533.0, 533.0, 533.0, 131.0, 131.0, 131.0, 131.0, 995.0, 995.0, 995.0, 995.0, 486.0, 486.0, 486.0, 486.0, 1055.0, 1055.0, 1055.0, 1055.0, 1055.0, 1055.0, 1055.0, 1055.0, 1055.0, 1055.0, 1055.0, 1055.0, 1055.0, 1055.0, 287.0, 287.0, 287.0, 287.0, 287.0, 114.0, 114.0, 114.0, 114.0, 114.0, 114.0, 114.0, 13.0, 13.0, 13.0, 141.0, 141.0, 141.0, 141.0, 141.0, 857.0, 857.0, 857.0, 857.0, 857.0, 857.0, 408.0, 408.0, 408.0, 408.0, 408.0, 842.0, 842.0, 842.0, 842.0, 842.0, 842.0, 842.0, 842.0, 842.0, 1140.0, 1140.0, 1140.0, 1239.0, 1239.0, 1239.0, 1239.0, 1239.0, 1239.0, 1239.0, 288.0, 288.0, 288.0, 288.0, 54.0, 54.0, 54.0, 108.0, 108.0, 108.0, 108.0, 108.0, 188.0, 188.0, 188.0, 188.0, 188.0, 188.0, 389.0, 389.0, 389.0, 389.0, 389.0, 212.0, 212.0, 212.0, 212.0, 212.0, 212.0, 212.0, 212.0, 700.0, 700.0, 700.0, 700.0, 700.0, 700.0, 700.0, 700.0, 772.0, 772.0, 772.0, 772.0, 345.0, 345.0, 345.0, 345.0, 664.0, 664.0, 664.0, 664.0, 664.0, 664.0, 1493.0, 1493.0, 1493.0, 1493.0, 1493.0, 1493.0, 1493.0, 1493.0, 1570.0, 1570.0, 1570.0, 1570.0, 1570.0, 1570.0, 1570.0, 1570.0, 1570.0, 1570.0, 1570.0, 1570.0, 66.0, 66.0, 66.0, 66.0, 66.0, 521.0, 521.0, 521.0, 521.0, 521.0, 25.0, 25.0, 25.0, 30.0, 166.0, 166.0, 166.0, 166.0, 166.0, 166.0], \"yaxis\": \"y\"}, {\"hoverlabel\": {\"namelength\": 0}, \"hovertemplate\": \"\\uc0c1\\uac00\\uc720\\ubb34=\\uc0c1\\uac00\\uc788\\uc74c<br>\\ucd1d\\uc138\\ub300\\uc218=%{x}<br>\\ub2e8\\uc9c0\\ub0b4\\uc8fc\\ucc28\\uba74\\uc218=%{y}\", \"legendgroup\": \"\\uc0c1\\uac00\\uc720\\ubb34=\\uc0c1\\uac00\\uc788\\uc74c\", \"marker\": {\"color\": \"#3283FE\", \"symbol\": \"circle\"}, \"mode\": \"markers\", \"name\": \"\\uc0c1\\uac00\\uc720\\ubb34=\\uc0c1\\uac00\\uc788\\uc74c\", \"showlegend\": true, \"type\": \"scattergl\", \"x\": [601, 601, 619, 619, 619, 560, 560, 1396, 1396, 1396, 1396, 1396, 1396, 1396, 1396, 1507, 1507, 1507, 639, 639, 965, 965, 965, 785, 785, 785, 2424, 2424, 2424, 2424, 2424, 809, 809, 809, 809, 809, 1013, 1013, 1013, 1013, 453, 453, 903, 903, 903, 903, 903, 1116, 1116, 1116, 1486, 1486, 1486, 1957, 1957, 1527, 1527, 1527, 1527, 1005, 1005, 1005, 1988, 1988, 1988, 2428, 2428, 2428, 2428, 1755, 1755, 1755, 451, 451, 410, 410, 779, 779, 779, 779, 755, 755, 711, 711, 657, 657, 657, 495, 495, 460, 460, 460, 460, 521, 521, 1003, 1003, 1003, 697, 697, 697, 481], \"xaxis\": \"x\", \"y\": [117.0, 117.0, 97.0, 97.0, 97.0, 154.0, 154.0, 277.0, 277.0, 277.0, 277.0, 277.0, 277.0, 277.0, 277.0, 407.0, 407.0, 407.0, 162.0, 162.0, 287.0, 287.0, 287.0, 150.0, 150.0, 150.0, 487.0, 487.0, 487.0, 487.0, 487.0, 264.0, 264.0, 264.0, 264.0, 264.0, 178.0, 178.0, 178.0, 178.0, 107.0, 107.0, 200.0, 200.0, 200.0, 200.0, 200.0, 262.0, 262.0, 262.0, 405.0, 405.0, 405.0, 351.0, 351.0, 240.0, 240.0, 240.0, 240.0, 166.0, 166.0, 166.0, 217.0, 217.0, 217.0, 756.0, 756.0, 756.0, 756.0, 270.0, 270.0, 270.0, 109.0, 109.0, 120.0, 120.0, 190.0, 190.0, 190.0, 190.0, 88.0, 88.0, 131.0, 131.0, 166.0, 166.0, 166.0, 117.0, 117.0, 155.0, 155.0, 155.0, 155.0, 153.0, 153.0, 192.0, 192.0, 192.0, 128.0, 128.0, 128.0, 65.0], \"yaxis\": \"y\"}],\n",
              "                        {\"legend\": {\"tracegroupgap\": 0}, \"margin\": {\"t\": 60}, \"template\": {\"data\": {\"bar\": [{\"error_x\": {\"color\": \"#2a3f5f\"}, \"error_y\": {\"color\": \"#2a3f5f\"}, \"marker\": {\"line\": {\"color\": \"#E5ECF6\", \"width\": 0.5}}, \"type\": \"bar\"}], \"barpolar\": [{\"marker\": {\"line\": {\"color\": \"#E5ECF6\", \"width\": 0.5}}, \"type\": \"barpolar\"}], \"carpet\": [{\"aaxis\": {\"endlinecolor\": \"#2a3f5f\", \"gridcolor\": \"white\", \"linecolor\": \"white\", \"minorgridcolor\": \"white\", \"startlinecolor\": \"#2a3f5f\"}, \"baxis\": {\"endlinecolor\": \"#2a3f5f\", \"gridcolor\": \"white\", \"linecolor\": \"white\", \"minorgridcolor\": \"white\", \"startlinecolor\": \"#2a3f5f\"}, \"type\": \"carpet\"}], \"choropleth\": [{\"colorbar\": {\"outlinewidth\": 0, \"ticks\": \"\"}, \"type\": \"choropleth\"}], \"contour\": [{\"colorbar\": {\"outlinewidth\": 0, \"ticks\": \"\"}, \"colorscale\": [[0.0, \"#0d0887\"], [0.1111111111111111, \"#46039f\"], [0.2222222222222222, \"#7201a8\"], [0.3333333333333333, \"#9c179e\"], [0.4444444444444444, \"#bd3786\"], [0.5555555555555556, \"#d8576b\"], [0.6666666666666666, \"#ed7953\"], [0.7777777777777778, \"#fb9f3a\"], [0.8888888888888888, \"#fdca26\"], [1.0, \"#f0f921\"]], \"type\": \"contour\"}], \"contourcarpet\": [{\"colorbar\": {\"outlinewidth\": 0, \"ticks\": \"\"}, \"type\": \"contourcarpet\"}], \"heatmap\": [{\"colorbar\": {\"outlinewidth\": 0, \"ticks\": \"\"}, \"colorscale\": [[0.0, \"#0d0887\"], [0.1111111111111111, \"#46039f\"], [0.2222222222222222, \"#7201a8\"], [0.3333333333333333, \"#9c179e\"], [0.4444444444444444, \"#bd3786\"], [0.5555555555555556, \"#d8576b\"], [0.6666666666666666, \"#ed7953\"], [0.7777777777777778, \"#fb9f3a\"], [0.8888888888888888, \"#fdca26\"], [1.0, \"#f0f921\"]], \"type\": \"heatmap\"}], \"heatmapgl\": [{\"colorbar\": {\"outlinewidth\": 0, \"ticks\": \"\"}, \"colorscale\": [[0.0, \"#0d0887\"], [0.1111111111111111, \"#46039f\"], [0.2222222222222222, \"#7201a8\"], [0.3333333333333333, \"#9c179e\"], [0.4444444444444444, \"#bd3786\"], [0.5555555555555556, \"#d8576b\"], [0.6666666666666666, \"#ed7953\"], [0.7777777777777778, \"#fb9f3a\"], [0.8888888888888888, \"#fdca26\"], [1.0, \"#f0f921\"]], \"type\": \"heatmapgl\"}], \"histogram\": [{\"marker\": {\"colorbar\": {\"outlinewidth\": 0, \"ticks\": \"\"}}, \"type\": \"histogram\"}], \"histogram2d\": [{\"colorbar\": {\"outlinewidth\": 0, \"ticks\": \"\"}, \"colorscale\": [[0.0, \"#0d0887\"], [0.1111111111111111, \"#46039f\"], [0.2222222222222222, \"#7201a8\"], [0.3333333333333333, \"#9c179e\"], [0.4444444444444444, \"#bd3786\"], [0.5555555555555556, \"#d8576b\"], [0.6666666666666666, \"#ed7953\"], [0.7777777777777778, \"#fb9f3a\"], [0.8888888888888888, \"#fdca26\"], [1.0, \"#f0f921\"]], \"type\": \"histogram2d\"}], \"histogram2dcontour\": [{\"colorbar\": {\"outlinewidth\": 0, \"ticks\": \"\"}, \"colorscale\": [[0.0, \"#0d0887\"], [0.1111111111111111, \"#46039f\"], [0.2222222222222222, \"#7201a8\"], [0.3333333333333333, \"#9c179e\"], [0.4444444444444444, \"#bd3786\"], [0.5555555555555556, \"#d8576b\"], [0.6666666666666666, \"#ed7953\"], [0.7777777777777778, \"#fb9f3a\"], [0.8888888888888888, \"#fdca26\"], [1.0, \"#f0f921\"]], \"type\": \"histogram2dcontour\"}], \"mesh3d\": [{\"colorbar\": {\"outlinewidth\": 0, \"ticks\": \"\"}, \"type\": \"mesh3d\"}], \"parcoords\": [{\"line\": {\"colorbar\": {\"outlinewidth\": 0, \"ticks\": \"\"}}, \"type\": \"parcoords\"}], \"pie\": [{\"automargin\": true, \"type\": \"pie\"}], \"scatter\": [{\"marker\": {\"colorbar\": {\"outlinewidth\": 0, \"ticks\": \"\"}}, \"type\": \"scatter\"}], \"scatter3d\": [{\"line\": {\"colorbar\": {\"outlinewidth\": 0, \"ticks\": \"\"}}, \"marker\": {\"colorbar\": {\"outlinewidth\": 0, \"ticks\": \"\"}}, \"type\": \"scatter3d\"}], \"scattercarpet\": [{\"marker\": {\"colorbar\": {\"outlinewidth\": 0, \"ticks\": \"\"}}, \"type\": \"scattercarpet\"}], \"scattergeo\": [{\"marker\": {\"colorbar\": {\"outlinewidth\": 0, \"ticks\": \"\"}}, \"type\": \"scattergeo\"}], \"scattergl\": [{\"marker\": {\"colorbar\": {\"outlinewidth\": 0, \"ticks\": \"\"}}, \"type\": \"scattergl\"}], \"scattermapbox\": [{\"marker\": {\"colorbar\": {\"outlinewidth\": 0, \"ticks\": \"\"}}, \"type\": \"scattermapbox\"}], \"scatterpolar\": [{\"marker\": {\"colorbar\": {\"outlinewidth\": 0, \"ticks\": \"\"}}, \"type\": \"scatterpolar\"}], \"scatterpolargl\": [{\"marker\": {\"colorbar\": {\"outlinewidth\": 0, \"ticks\": \"\"}}, \"type\": \"scatterpolargl\"}], \"scatterternary\": [{\"marker\": {\"colorbar\": {\"outlinewidth\": 0, \"ticks\": \"\"}}, \"type\": \"scatterternary\"}], \"surface\": [{\"colorbar\": {\"outlinewidth\": 0, \"ticks\": \"\"}, \"colorscale\": [[0.0, \"#0d0887\"], [0.1111111111111111, \"#46039f\"], [0.2222222222222222, \"#7201a8\"], [0.3333333333333333, \"#9c179e\"], [0.4444444444444444, \"#bd3786\"], [0.5555555555555556, \"#d8576b\"], [0.6666666666666666, \"#ed7953\"], [0.7777777777777778, \"#fb9f3a\"], [0.8888888888888888, \"#fdca26\"], [1.0, \"#f0f921\"]], \"type\": \"surface\"}], \"table\": [{\"cells\": {\"fill\": {\"color\": \"#EBF0F8\"}, \"line\": {\"color\": \"white\"}}, \"header\": {\"fill\": {\"color\": \"#C8D4E3\"}, \"line\": {\"color\": \"white\"}}, \"type\": \"table\"}]}, \"layout\": {\"annotationdefaults\": {\"arrowcolor\": \"#2a3f5f\", \"arrowhead\": 0, \"arrowwidth\": 1}, \"coloraxis\": {\"colorbar\": {\"outlinewidth\": 0, \"ticks\": \"\"}}, \"colorscale\": {\"diverging\": [[0, \"#8e0152\"], [0.1, \"#c51b7d\"], [0.2, \"#de77ae\"], [0.3, \"#f1b6da\"], [0.4, \"#fde0ef\"], [0.5, \"#f7f7f7\"], [0.6, \"#e6f5d0\"], [0.7, \"#b8e186\"], [0.8, \"#7fbc41\"], [0.9, \"#4d9221\"], [1, \"#276419\"]], \"sequential\": [[0.0, \"#0d0887\"], [0.1111111111111111, \"#46039f\"], [0.2222222222222222, \"#7201a8\"], [0.3333333333333333, \"#9c179e\"], [0.4444444444444444, \"#bd3786\"], [0.5555555555555556, \"#d8576b\"], [0.6666666666666666, \"#ed7953\"], [0.7777777777777778, \"#fb9f3a\"], [0.8888888888888888, \"#fdca26\"], [1.0, \"#f0f921\"]], \"sequentialminus\": [[0.0, \"#0d0887\"], [0.1111111111111111, \"#46039f\"], [0.2222222222222222, \"#7201a8\"], [0.3333333333333333, \"#9c179e\"], [0.4444444444444444, \"#bd3786\"], [0.5555555555555556, \"#d8576b\"], [0.6666666666666666, \"#ed7953\"], [0.7777777777777778, \"#fb9f3a\"], [0.8888888888888888, \"#fdca26\"], [1.0, \"#f0f921\"]]}, \"colorway\": [\"#636efa\", \"#EF553B\", \"#00cc96\", \"#ab63fa\", \"#FFA15A\", \"#19d3f3\", \"#FF6692\", \"#B6E880\", \"#FF97FF\", \"#FECB52\"], \"font\": {\"color\": \"#2a3f5f\"}, \"geo\": {\"bgcolor\": \"white\", \"lakecolor\": \"white\", \"landcolor\": \"#E5ECF6\", \"showlakes\": true, \"showland\": true, \"subunitcolor\": \"white\"}, \"hoverlabel\": {\"align\": \"left\"}, \"hovermode\": \"closest\", \"mapbox\": {\"style\": \"light\"}, \"paper_bgcolor\": \"white\", \"plot_bgcolor\": \"#E5ECF6\", \"polar\": {\"angularaxis\": {\"gridcolor\": \"white\", \"linecolor\": \"white\", \"ticks\": \"\"}, \"bgcolor\": \"#E5ECF6\", \"radialaxis\": {\"gridcolor\": \"white\", \"linecolor\": \"white\", \"ticks\": \"\"}}, \"scene\": {\"xaxis\": {\"backgroundcolor\": \"#E5ECF6\", \"gridcolor\": \"white\", \"gridwidth\": 2, \"linecolor\": \"white\", \"showbackground\": true, \"ticks\": \"\", \"zerolinecolor\": \"white\"}, \"yaxis\": {\"backgroundcolor\": \"#E5ECF6\", \"gridcolor\": \"white\", \"gridwidth\": 2, \"linecolor\": \"white\", \"showbackground\": true, \"ticks\": \"\", \"zerolinecolor\": \"white\"}, \"zaxis\": {\"backgroundcolor\": \"#E5ECF6\", \"gridcolor\": \"white\", \"gridwidth\": 2, \"linecolor\": \"white\", \"showbackground\": true, \"ticks\": \"\", \"zerolinecolor\": \"white\"}}, \"shapedefaults\": {\"line\": {\"color\": \"#2a3f5f\"}}, \"ternary\": {\"aaxis\": {\"gridcolor\": \"white\", \"linecolor\": \"white\", \"ticks\": \"\"}, \"baxis\": {\"gridcolor\": \"white\", \"linecolor\": \"white\", \"ticks\": \"\"}, \"bgcolor\": \"#E5ECF6\", \"caxis\": {\"gridcolor\": \"white\", \"linecolor\": \"white\", \"ticks\": \"\"}}, \"title\": {\"x\": 0.05}, \"xaxis\": {\"automargin\": true, \"gridcolor\": \"white\", \"linecolor\": \"white\", \"ticks\": \"\", \"title\": {\"standoff\": 15}, \"zerolinecolor\": \"white\", \"zerolinewidth\": 2}, \"yaxis\": {\"automargin\": true, \"gridcolor\": \"white\", \"linecolor\": \"white\", \"ticks\": \"\", \"title\": {\"standoff\": 15}, \"zerolinecolor\": \"white\", \"zerolinewidth\": 2}}}, \"title\": {\"text\": \"\\uc0c1\\uac00\\uc720\\ubb34\\uc5d0 \\ub530\\ub978 \\ucd1d\\uc138\\ub300\\uc218, \\ub2e8\\uc9c0\\ub0b4\\uc8fc\\ucc28\\uba74\\uc218 \\ubd84\\ud3ec\"}, \"xaxis\": {\"anchor\": \"y\", \"domain\": [0.0, 1.0], \"title\": {\"text\": \"\\ucd1d\\uc138\\ub300\\uc218\"}}, \"yaxis\": {\"anchor\": \"x\", \"domain\": [0.0, 1.0], \"title\": {\"text\": \"\\ub2e8\\uc9c0\\ub0b4\\uc8fc\\ucc28\\uba74\\uc218\"}}},\n",
              "                        {\"responsive\": true}\n",
              "                    ).then(function(){\n",
              "                            \n",
              "var gd = document.getElementById('17b67dff-e59f-4d08-924c-556622060076');\n",
              "var x = new MutationObserver(function (mutations, observer) {{\n",
              "        var display = window.getComputedStyle(gd).display;\n",
              "        if (!display || display === 'none') {{\n",
              "            console.log([gd, 'removed!']);\n",
              "            Plotly.purge(gd);\n",
              "            observer.disconnect();\n",
              "        }}\n",
              "}});\n",
              "\n",
              "// Listen for the removal of the full notebook cells\n",
              "var notebookContainer = gd.closest('#notebook-container');\n",
              "if (notebookContainer) {{\n",
              "    x.observe(notebookContainer, {childList: true});\n",
              "}}\n",
              "\n",
              "// Listen for the clearing of the current output cell\n",
              "var outputEl = gd.closest('.output');\n",
              "if (outputEl) {{\n",
              "    x.observe(outputEl, {childList: true});\n",
              "}}\n",
              "\n",
              "                        })\n",
              "                };\n",
              "                \n",
              "            </script>\n",
              "        </div>\n",
              "</body>\n",
              "</html>"
            ]
          },
          "metadata": {}
        }
      ]
    },
    {
      "cell_type": "markdown",
      "metadata": {
        "id": "WFHrNA1iXaO2"
      },
      "source": [
        "---------------------\n",
        "- 임대건물구분 컬럼 삭제,  임대건물구분이 '상가'인 데이터도 삭제\n",
        "임대건물구분 == 상가 인 데이터는 임대건물구분 컬럼이외의 데이터에 영향을 주는 것이 없음으로 삭제"
      ]
    },
    {
      "cell_type": "code",
      "metadata": {
        "id": "pFT-5tmhXZFK"
      },
      "source": [
        "raw_train_lentType = raw_train_lentType[raw_train_lentType['임대건물구분'] != '상가']\n",
        "del raw_train_lentType['임대건물구분']"
      ],
      "execution_count": 12,
      "outputs": []
    },
    {
      "cell_type": "markdown",
      "metadata": {
        "id": "HGr8CY_hak2G"
      },
      "source": [
        "### 지역\n",
        "결과\n",
        "  - 특정지역이 600대이상의 등록차량에 더 많은 양상을 보였으나 우연히 나왔을 경우가 큼. 따라서 지역에따라서 틍록차량수의 유의미한 차이가 없다  \n",
        "\n",
        "문제\n",
        "  - 지역에 따른 등록차량수의 차이 확인\n",
        "\n",
        "가설\n",
        "  - 수독권/광역시와 같이 인구밀집이 높은 지역에 따라 등록차량수가 다를 것인지?"
      ]
    },
    {
      "cell_type": "code",
      "metadata": {
        "id": "kC-Dq_0haow0"
      },
      "source": [
        "raw_train_lentType_loc = copy.deepcopy(raw_train_lentType)"
      ],
      "execution_count": 13,
      "outputs": []
    },
    {
      "cell_type": "code",
      "metadata": {
        "id": "3K2jxjMia0_Q"
      },
      "source": [
        "temp = raw_train_lentType_loc.drop_duplicates('단지코드', keep='first')"
      ],
      "execution_count": 14,
      "outputs": []
    },
    {
      "cell_type": "markdown",
      "metadata": {
        "id": "621ULsJphyq_"
      },
      "source": [
        "수도권과 비수도권"
      ]
    },
    {
      "cell_type": "code",
      "metadata": {
        "colab": {
          "base_uri": "https://localhost:8080/"
        },
        "id": "LKB6qvaTgWJf",
        "outputId": "c9594caa-5e2d-44c9-add0-5824d7ddc289"
      },
      "source": [
        "temp['지역'].value_counts()"
      ],
      "execution_count": 16,
      "outputs": [
        {
          "output_type": "execute_result",
          "data": {
            "text/plain": [
              "경기도        88\n",
              "경상남도       55\n",
              "강원도        37\n",
              "충청북도       30\n",
              "대전광역시      25\n",
              "전라남도       25\n",
              "부산광역시      25\n",
              "광주광역시      24\n",
              "경상북도       22\n",
              "전라북도       21\n",
              "충청남도       19\n",
              "대구광역시      18\n",
              "제주특별자치도    14\n",
              "울산광역시       8\n",
              "서울특별시       8\n",
              "세종특별자치시     4\n",
              "Name: 지역, dtype: int64"
            ]
          },
          "metadata": {},
          "execution_count": 16
        }
      ]
    },
    {
      "cell_type": "code",
      "metadata": {
        "id": "0x2AvjALiBHt"
      },
      "source": [
        "def check_loc(x):#\n",
        "  if x in ['경기도', '서울특별시']:#\n",
        "    return '수도권/광역시'\n",
        "  else:\n",
        "    return '비수도권'"
      ],
      "execution_count": 252,
      "outputs": []
    },
    {
      "cell_type": "code",
      "metadata": {
        "id": "wYMAgpNuh38J"
      },
      "source": [
        "temp['수도권/광역시여부'] = temp['지역'].apply(lambda x: check_loc(x))"
      ],
      "execution_count": 253,
      "outputs": []
    },
    {
      "cell_type": "code",
      "metadata": {
        "id": "wiqxRy-OE6g1"
      },
      "source": [
        "t, p = stats.ttest_ind(temp[temp['수도권/광역시여부'] =='비수도권']['등록차량수'], temp[temp['수도권/광역시여부'] =='수도권/광역시']['등록차량수'])"
      ],
      "execution_count": 254,
      "outputs": []
    },
    {
      "cell_type": "code",
      "metadata": {
        "colab": {
          "base_uri": "https://localhost:8080/"
        },
        "id": "MWzetv3EOpdI",
        "outputId": "0ac19a2d-f385-4f53-ac63-4138052a0f0a"
      },
      "source": [
        "p"
      ],
      "execution_count": 255,
      "outputs": [
        {
          "output_type": "execute_result",
          "data": {
            "text/plain": [
              "2.1752285949860837e-06"
            ]
          },
          "metadata": {},
          "execution_count": 255
        }
      ]
    },
    {
      "cell_type": "markdown",
      "metadata": {
        "id": "kPBRoAOHVOPX"
      },
      "source": [
        "p값이 충분히 낮게 나와서 비수도권/수도권을 기준으로 나눌 수 있으나 지역들간의 데이터 숫자가 많이 차이가나서 비수도권/수도권이 아닌 다른 기준으로도 동일한 결과가 나올 것으로 판단. 따라서 해당 지역별 기준은 무의미함"
      ]
    },
    {
      "cell_type": "code",
      "metadata": {
        "colab": {
          "base_uri": "https://localhost:8080/",
          "height": 542
        },
        "id": "wQ2blCXQbAAM",
        "outputId": "b7be9f09-e269-4bad-d881-302d2227b7ba"
      },
      "source": [
        "fig = go.Figure()\n",
        "fig = px.histogram(temp, x='등록차량수', y = '단지코드', color='지역',\n",
        "                            color_discrete_sequence=px.colors.qualitative.Alphabet)\n",
        "fig.update_layout(title='지역별, 등록차량수 분포') #autosize =, width = 1000, height = 500)"
      ],
      "execution_count": 256,
      "outputs": [
        {
          "output_type": "display_data",
          "data": {
            "text/html": [
              "<html>\n",
              "<head><meta charset=\"utf-8\" /></head>\n",
              "<body>\n",
              "    <div>\n",
              "            <script src=\"https://cdnjs.cloudflare.com/ajax/libs/mathjax/2.7.5/MathJax.js?config=TeX-AMS-MML_SVG\"></script><script type=\"text/javascript\">if (window.MathJax) {MathJax.Hub.Config({SVG: {font: \"STIX-Web\"}});}</script>\n",
              "                <script type=\"text/javascript\">window.PlotlyConfig = {MathJaxConfig: 'local'};</script>\n",
              "        <script src=\"https://cdn.plot.ly/plotly-latest.min.js\"></script>    \n",
              "            <div id=\"113b2e31-0dcd-43da-9ce4-baef933e547c\" class=\"plotly-graph-div\" style=\"height:525px; width:100%;\"></div>\n",
              "            <script type=\"text/javascript\">\n",
              "                \n",
              "                    window.PLOTLYENV=window.PLOTLYENV || {};\n",
              "                    \n",
              "                if (document.getElementById(\"113b2e31-0dcd-43da-9ce4-baef933e547c\")) {\n",
              "                    Plotly.newPlot(\n",
              "                        '113b2e31-0dcd-43da-9ce4-baef933e547c',\n",
              "                        [{\"alignmentgroup\": \"True\", \"bingroup\": \"x\", \"hoverlabel\": {\"namelength\": 0}, \"hovertemplate\": \"\\uc9c0\\uc5ed=\\uacbd\\uc0c1\\ubd81\\ub3c4<br>\\ub4f1\\ub85d\\ucc28\\ub7c9\\uc218=%{x}<br>count of \\ub2e8\\uc9c0\\ucf54\\ub4dc=%{y}\", \"legendgroup\": \"\\uc9c0\\uc5ed=\\uacbd\\uc0c1\\ubd81\\ub3c4\", \"marker\": {\"color\": \"#AA0DFE\"}, \"name\": \"\\uc9c0\\uc5ed=\\uacbd\\uc0c1\\ubd81\\ub3c4\", \"offsetgroup\": \"\\uc9c0\\uc5ed=\\uacbd\\uc0c1\\ubd81\\ub3c4\", \"orientation\": \"v\", \"showlegend\": true, \"type\": \"histogram\", \"x\": [1015.0, 451.0, 995.0, 861.0, 521.0, 562.0, 422.0, 585.0, 1150.0, 321.0, 226.0, 375.0, 437.0, 163.0, 589.0, 1090.0, 262.0, 979.0, 752.0, 326.0, 1255.0, 189.0], \"xaxis\": \"x\", \"y\": [\"C2483\", \"C2371\", \"C2097\", \"C1368\", \"C1057\", \"C2336\", \"C1026\", \"C2492\", \"C1527\", \"C2526\", \"C1084\", \"C1360\", \"C2692\", \"C2505\", \"C2587\", \"C2565\", \"C1426\", \"C1740\", \"C2137\", \"C1163\", \"C1065\", \"C2568\"], \"yaxis\": \"y\"}, {\"alignmentgroup\": \"True\", \"bingroup\": \"x\", \"hoverlabel\": {\"namelength\": 0}, \"hovertemplate\": \"\\uc9c0\\uc5ed=\\uacbd\\uc0c1\\ub0a8\\ub3c4<br>\\ub4f1\\ub85d\\ucc28\\ub7c9\\uc218=%{x}<br>count of \\ub2e8\\uc9c0\\ucf54\\ub4dc=%{y}\", \"legendgroup\": \"\\uc9c0\\uc5ed=\\uacbd\\uc0c1\\ub0a8\\ub3c4\", \"marker\": {\"color\": \"#3283FE\"}, \"name\": \"\\uc9c0\\uc5ed=\\uacbd\\uc0c1\\ub0a8\\ub3c4\", \"offsetgroup\": \"\\uc9c0\\uc5ed=\\uacbd\\uc0c1\\ub0a8\\ub3c4\", \"orientation\": \"v\", \"showlegend\": true, \"type\": \"histogram\", \"x\": [205.0, 73.0, 63.0, 91.0, 254.0, 129.0, 70.0, 236.0, 31.0, 120.0, 60.0, 65.0, 135.0, 62.0, 374.0, 795.0, 648.0, 344.0, 1162.0, 318.0, 761.0, 572.0, 398.0, 620.0, 1010.0, 754.0, 268.0, 590.0, 638.0, 495.0, 528.0, 512.0, 496.0, 398.0, 823.0, 587.0, 479.0, 403.0, 566.0, 682.0, 412.0, 1240.0, 855.0, 207.0, 579.0, 359.0, 924.0, 600.0, 616.0, 701.0, 780.0, 1359.0, 155.0, 98.0, 448.0], \"xaxis\": \"x\", \"y\": [\"C2515\", \"C2576\", \"C2416\", \"C2013\", \"C1850\", \"C2190\", \"C1476\", \"C1077\", \"C1899\", \"C1790\", \"C2109\", \"C1698\", \"C1866\", \"C2571\", \"C1867\", \"C2000\", \"C2514\", \"C2256\", \"C2032\", \"C2094\", \"C1880\", \"C2089\", \"C1319\", \"C1141\", \"C2358\", \"C1375\", \"C1641\", \"C2680\", \"C2631\", \"C2141\", \"C1569\", \"C1660\", \"C1994\", \"C1837\", \"C1227\", \"C2486\", \"C1572\", \"C2127\", \"C1713\", \"C1738\", \"C1788\", \"C2405\", \"C1649\", \"C1027\", \"C2377\", \"C2431\", \"C1320\", \"C1941\", \"C1258\", \"C1724\", \"C1284\", \"C2595\", \"C2139\", \"C2245\", \"C2225\"], \"yaxis\": \"y\"}, {\"alignmentgroup\": \"True\", \"bingroup\": \"x\", \"hoverlabel\": {\"namelength\": 0}, \"hovertemplate\": \"\\uc9c0\\uc5ed=\\ub300\\uc804\\uad11\\uc5ed\\uc2dc<br>\\ub4f1\\ub85d\\ucc28\\ub7c9\\uc218=%{x}<br>count of \\ub2e8\\uc9c0\\ucf54\\ub4dc=%{y}\", \"legendgroup\": \"\\uc9c0\\uc5ed=\\ub300\\uc804\\uad11\\uc5ed\\uc2dc\", \"marker\": {\"color\": \"#85660D\"}, \"name\": \"\\uc9c0\\uc5ed=\\ub300\\uc804\\uad11\\uc5ed\\uc2dc\", \"offsetgroup\": \"\\uc9c0\\uc5ed=\\ub300\\uc804\\uad11\\uc5ed\\uc2dc\", \"orientation\": \"v\", \"showlegend\": true, \"type\": \"histogram\", \"x\": [1064.0, 700.0, 179.0, 671.0, 133.0, 386.0, 266.0, 98.0, 131.0, 78.0, 316.0, 108.0, 116.0, 700.0, 1159.0, 373.0, 1087.0, 1044.0, 1350.0, 343.0, 982.0, 2315.0, 1246.0, 887.0, 444.0], \"xaxis\": \"x\", \"y\": [\"C1407\", \"C1171\", \"C1424\", \"C2100\", \"C2621\", \"C2520\", \"C2319\", \"C1616\", \"C1704\", \"C2258\", \"C1032\", \"C2038\", \"C1859\", \"C1663\", \"C2276\", \"C1155\", \"C1693\", \"C1177\", \"C1406\", \"C2314\", \"C2583\", \"C1350\", \"C1017\", \"C2470\", \"C2298\"], \"yaxis\": \"y\"}, {\"alignmentgroup\": \"True\", \"bingroup\": \"x\", \"hoverlabel\": {\"namelength\": 0}, \"hovertemplate\": \"\\uc9c0\\uc5ed=\\uacbd\\uae30\\ub3c4<br>\\ub4f1\\ub85d\\ucc28\\ub7c9\\uc218=%{x}<br>count of \\ub2e8\\uc9c0\\ucf54\\ub4dc=%{y}\", \"legendgroup\": \"\\uc9c0\\uc5ed=\\uacbd\\uae30\\ub3c4\", \"marker\": {\"color\": \"#782AB6\"}, \"name\": \"\\uc9c0\\uc5ed=\\uacbd\\uae30\\ub3c4\", \"offsetgroup\": \"\\uc9c0\\uc5ed=\\uacbd\\uae30\\ub3c4\", \"orientation\": \"v\", \"showlegend\": true, \"type\": \"histogram\", \"x\": [730.0, 1804.0, 799.0, 960.0, 1117.0, 979.0, 1306.0, 1398.0, 442.0, 422.0, 441.0, 808.0, 548.0, 520.0, 488.0, 832.0, 1158.0, 745.0, 840.0, 709.0, 480.0, 505.0, 449.0, 296.0, 308.0, 349.0, 657.0, 505.0, 294.0, 450.0, 845.0, 643.0, 752.0, 735.0, 639.0, 902.0, 632.0, 125.0, 282.0, 1279.0, 782.0, 375.0, 362.0, 504.0, 281.0, 521.0, 552.0, 901.0, 934.0, 945.0, 793.0, 614.0, 1101.0, 822.0, 770.0, 951.0, 549.0, 647.0, 365.0, 606.0, 870.0, 505.0, 652.0, 451.0, 1668.0, 763.0, 922.0, 946.0, 763.0, 417.0, 2550.0, 751.0, 243.0, 783.0, 1044.0, 559.0, 1896.0, 646.0, 854.0, 1378.0, 133.0, 196.0, 13.0, 507.0, 921.0, 130.0, 419.0, 1204.0], \"xaxis\": \"x\", \"y\": [\"C1945\", \"C1244\", \"C2538\", \"C1689\", \"C2361\", \"C1744\", \"C2046\", \"C2071\", \"C2635\", \"C2390\", \"C2561\", \"C1889\", \"C2008\", \"C1681\", \"C1184\", \"C2383\", \"C1579\", \"C2173\", \"C2208\", \"C1940\", \"C2596\", \"C2227\", \"C2563\", \"C1492\", \"C1601\", \"C1687\", \"C1236\", \"C1487\", \"C1379\", \"C1022\", \"C1896\", \"C1269\", \"C1916\", \"C2070\", \"C1967\", \"C2021\", \"C1143\", \"C2188\", \"C2651\", \"C1036\", \"C2657\", \"C2527\", \"C1706\", \"C1307\", \"C2601\", \"C1085\", \"C2385\", \"C2378\", \"C1268\", \"C1365\", \"C2460\", \"C1773\", \"C1677\", \"C2082\", \"C1328\", \"C1804\", \"C1343\", \"C2479\", \"C2659\", \"C1699\", \"C2251\", \"C1095\", \"C2663\", \"C2450\", \"C1129\", \"C1136\", \"C2393\", \"C1636\", \"C2507\", \"C2001\", \"C1363\", \"C2579\", \"C1048\", \"C2618\", \"C1451\", \"C2453\", \"C1939\", \"C2351\", \"C1697\", \"C2259\", \"C1979\", \"C2362\", \"C2059\", \"C1584\", \"C1218\", \"C2433\", \"C1894\", \"C2446\"], \"yaxis\": \"y\"}, {\"alignmentgroup\": \"True\", \"bingroup\": \"x\", \"hoverlabel\": {\"namelength\": 0}, \"hovertemplate\": \"\\uc9c0\\uc5ed=\\uc804\\ub77c\\ubd81\\ub3c4<br>\\ub4f1\\ub85d\\ucc28\\ub7c9\\uc218=%{x}<br>count of \\ub2e8\\uc9c0\\ucf54\\ub4dc=%{y}\", \"legendgroup\": \"\\uc9c0\\uc5ed=\\uc804\\ub77c\\ubd81\\ub3c4\", \"marker\": {\"color\": \"#565656\"}, \"name\": \"\\uc9c0\\uc5ed=\\uc804\\ub77c\\ubd81\\ub3c4\", \"offsetgroup\": \"\\uc9c0\\uc5ed=\\uc804\\ub77c\\ubd81\\ub3c4\", \"orientation\": \"v\", \"showlegend\": true, \"type\": \"histogram\", \"x\": [553.0, 415.0, 47.0, 708.0, 596.0, 148.0, 460.0, 413.0, 246.0, 347.0, 293.0, 842.0, 484.0, 271.0, 311.0, 435.0, 613.0, 410.0, 396.0, 568.0, 1400.0], \"xaxis\": \"x\", \"y\": [\"C1470\", \"C1898\", \"C2536\", \"C1014\", \"C1900\", \"C1213\", \"C1762\", \"C1638\", \"C1059\", \"C2162\", \"C2325\", \"C1133\", \"C1281\", \"C1394\", \"C1180\", \"C2670\", \"C1861\", \"C1340\", \"C1910\", \"C2508\", \"C2496\"], \"yaxis\": \"y\"}, {\"alignmentgroup\": \"True\", \"bingroup\": \"x\", \"hoverlabel\": {\"namelength\": 0}, \"hovertemplate\": \"\\uc9c0\\uc5ed=\\uac15\\uc6d0\\ub3c4<br>\\ub4f1\\ub85d\\ucc28\\ub7c9\\uc218=%{x}<br>count of \\ub2e8\\uc9c0\\ucf54\\ub4dc=%{y}\", \"legendgroup\": \"\\uc9c0\\uc5ed=\\uac15\\uc6d0\\ub3c4\", \"marker\": {\"color\": \"#1C8356\"}, \"name\": \"\\uc9c0\\uc5ed=\\uac15\\uc6d0\\ub3c4\", \"offsetgroup\": \"\\uc9c0\\uc5ed=\\uac15\\uc6d0\\ub3c4\", \"orientation\": \"v\", \"showlegend\": true, \"type\": \"histogram\", \"x\": [301.0, 841.0, 226.0, 75.0, 649.0, 90.0, 236.0, 86.0, 19.0, 739.0, 311.0, 305.0, 401.0, 302.0, 156.0, 730.0, 417.0, 244.0, 258.0, 383.0, 333.0, 610.0, 481.0, 594.0, 277.0, 1084.0, 420.0, 255.0, 787.0, 572.0, 719.0, 220.0, 345.0, 124.0, 266.0, 246.0, 146.0], \"xaxis\": \"x\", \"y\": [\"C2073\", \"C2049\", \"C2202\", \"C1925\", \"C1722\", \"C1206\", \"C1655\", \"C2212\", \"C2401\", \"C1592\", \"C1234\", \"C2518\", \"C1962\", \"C2530\", \"C1046\", \"C1761\", \"C1102\", \"C2308\", \"C2036\", \"C2099\", \"C1428\", \"C2522\", \"C2560\", \"C2068\", \"C1845\", \"C1310\", \"C1455\", \"C1834\", \"C1103\", \"C2605\", \"C2143\", \"C1968\", \"C1786\", \"C2154\", \"C1045\", \"C2035\", \"C2532\"], \"yaxis\": \"y\"}, {\"alignmentgroup\": \"True\", \"bingroup\": \"x\", \"hoverlabel\": {\"namelength\": 0}, \"hovertemplate\": \"\\uc9c0\\uc5ed=\\uad11\\uc8fc\\uad11\\uc5ed\\uc2dc<br>\\ub4f1\\ub85d\\ucc28\\ub7c9\\uc218=%{x}<br>count of \\ub2e8\\uc9c0\\ucf54\\ub4dc=%{y}\", \"legendgroup\": \"\\uc9c0\\uc5ed=\\uad11\\uc8fc\\uad11\\uc5ed\\uc2dc\", \"marker\": {\"color\": \"#16FF32\"}, \"name\": \"\\uc9c0\\uc5ed=\\uad11\\uc8fc\\uad11\\uc5ed\\uc2dc\", \"offsetgroup\": \"\\uc9c0\\uc5ed=\\uad11\\uc8fc\\uad11\\uc5ed\\uc2dc\", \"orientation\": \"v\", \"showlegend\": true, \"type\": \"histogram\", \"x\": [820.0, 234.0, 1101.0, 762.0, 1665.0, 248.0, 457.0, 910.0, 826.0, 328.0, 525.0, 690.0, 713.0, 1019.0, 810.0, 1284.0, 1023.0, 442.0, 625.0, 1730.0, 416.0, 59.0, 159.0, 267.0], \"xaxis\": \"x\", \"y\": [\"C2513\", \"C1936\", \"C1620\", \"C1049\", \"C1013\", \"C2232\", \"C1973\", \"C2458\", \"C2574\", \"C2133\", \"C2096\", \"C2010\", \"C1879\", \"C1131\", \"C1468\", \"C1448\", \"C2488\", \"C1341\", \"C1848\", \"C1933\", \"C1659\", \"C1207\", \"C1970\", \"C1732\"], \"yaxis\": \"y\"}, {\"alignmentgroup\": \"True\", \"bingroup\": \"x\", \"hoverlabel\": {\"namelength\": 0}, \"hovertemplate\": \"\\uc9c0\\uc5ed=\\ucda9\\uccad\\ub0a8\\ub3c4<br>\\ub4f1\\ub85d\\ucc28\\ub7c9\\uc218=%{x}<br>count of \\ub2e8\\uc9c0\\ucf54\\ub4dc=%{y}\", \"legendgroup\": \"\\uc9c0\\uc5ed=\\ucda9\\uccad\\ub0a8\\ub3c4\", \"marker\": {\"color\": \"#F7E1A0\"}, \"name\": \"\\uc9c0\\uc5ed=\\ucda9\\uccad\\ub0a8\\ub3c4\", \"offsetgroup\": \"\\uc9c0\\uc5ed=\\ucda9\\uccad\\ub0a8\\ub3c4\", \"orientation\": \"v\", \"showlegend\": true, \"type\": \"histogram\", \"x\": [359.0, 62.0, 510.0, 253.0, 149.0, 177.0, 376.0, 93.0, 209.0, 204.0, 430.0, 609.0, 669.0, 413.0, 254.0, 22.0, 410.0, 55.0, 228.0], \"xaxis\": \"x\", \"y\": [\"C1312\", \"C1874\", \"C1068\", \"C1983\", \"C2216\", \"C2644\", \"C1005\", \"C1004\", \"C1875\", \"C2156\", \"C1175\", \"C1173\", \"C1537\", \"C1929\", \"C2394\", \"C1316\", \"C2255\", \"C2237\", \"C2539\"], \"yaxis\": \"y\"}, {\"alignmentgroup\": \"True\", \"bingroup\": \"x\", \"hoverlabel\": {\"namelength\": 0}, \"hovertemplate\": \"\\uc9c0\\uc5ed=\\ubd80\\uc0b0\\uad11\\uc5ed\\uc2dc<br>\\ub4f1\\ub85d\\ucc28\\ub7c9\\uc218=%{x}<br>count of \\ub2e8\\uc9c0\\ucf54\\ub4dc=%{y}\", \"legendgroup\": \"\\uc9c0\\uc5ed=\\ubd80\\uc0b0\\uad11\\uc5ed\\uc2dc\", \"marker\": {\"color\": \"#E2E2E2\"}, \"name\": \"\\uc9c0\\uc5ed=\\ubd80\\uc0b0\\uad11\\uc5ed\\uc2dc\", \"offsetgroup\": \"\\uc9c0\\uc5ed=\\ubd80\\uc0b0\\uad11\\uc5ed\\uc2dc\", \"orientation\": \"v\", \"showlegend\": true, \"type\": \"histogram\", \"x\": [159.0, 127.0, 132.0, 313.0, 382.0, 364.0, 94.0, 189.0, 873.0, 359.0, 172.0, 498.0, 839.0, 579.0, 701.0, 554.0, 831.0, 345.0, 166.0, 950.0, 551.0, 508.0, 1153.0, 995.0, 19.0], \"xaxis\": \"x\", \"y\": [\"C2650\", \"C2135\", \"C2034\", \"C1109\", \"C1497\", \"C2289\", \"C2597\", \"C2310\", \"C1672\", \"C2132\", \"C1439\", \"C1613\", \"C1430\", \"C1015\", \"C2666\", \"C1329\", \"C1911\", \"C2357\", \"C1987\", \"C2489\", \"C1338\", \"C1757\", \"C1326\", \"C1357\", \"C2020\"], \"yaxis\": \"y\"}, {\"alignmentgroup\": \"True\", \"bingroup\": \"x\", \"hoverlabel\": {\"namelength\": 0}, \"hovertemplate\": \"\\uc9c0\\uc5ed=\\uc81c\\uc8fc\\ud2b9\\ubcc4\\uc790\\uce58\\ub3c4<br>\\ub4f1\\ub85d\\ucc28\\ub7c9\\uc218=%{x}<br>count of \\ub2e8\\uc9c0\\ucf54\\ub4dc=%{y}\", \"legendgroup\": \"\\uc9c0\\uc5ed=\\uc81c\\uc8fc\\ud2b9\\ubcc4\\uc790\\uce58\\ub3c4\", \"marker\": {\"color\": \"#1CBE4F\"}, \"name\": \"\\uc9c0\\uc5ed=\\uc81c\\uc8fc\\ud2b9\\ubcc4\\uc790\\uce58\\ub3c4\", \"offsetgroup\": \"\\uc9c0\\uc5ed=\\uc81c\\uc8fc\\ud2b9\\ubcc4\\uc790\\uce58\\ub3c4\", \"orientation\": \"v\", \"showlegend\": true, \"type\": \"histogram\", \"x\": [125.0, 96.0, 235.0, 359.0, 1001.0, 585.0, 327.0, 207.0, 800.0, 330.0, 555.0, 358.0, 165.0, 57.0], \"xaxis\": \"x\", \"y\": [\"C1056\", \"C1775\", \"C1519\", \"C2221\", \"C1833\", \"C1194\", \"C2503\", \"C1907\", \"C2373\", \"C2661\", \"C2609\", \"C2531\", \"C2549\", \"C2586\"], \"yaxis\": \"y\"}, {\"alignmentgroup\": \"True\", \"bingroup\": \"x\", \"hoverlabel\": {\"namelength\": 0}, \"hovertemplate\": \"\\uc9c0\\uc5ed=\\uc6b8\\uc0b0\\uad11\\uc5ed\\uc2dc<br>\\ub4f1\\ub85d\\ucc28\\ub7c9\\uc218=%{x}<br>count of \\ub2e8\\uc9c0\\ucf54\\ub4dc=%{y}\", \"legendgroup\": \"\\uc9c0\\uc5ed=\\uc6b8\\uc0b0\\uad11\\uc5ed\\uc2dc\", \"marker\": {\"color\": \"#C4451C\"}, \"name\": \"\\uc9c0\\uc5ed=\\uc6b8\\uc0b0\\uad11\\uc5ed\\uc2dc\", \"offsetgroup\": \"\\uc9c0\\uc5ed=\\uc6b8\\uc0b0\\uad11\\uc5ed\\uc2dc\", \"orientation\": \"v\", \"showlegend\": true, \"type\": \"histogram\", \"x\": [302.0, 496.0, 438.0, 540.0, 78.0, 148.0, 609.0, 396.0], \"xaxis\": \"x\", \"y\": [\"C2481\", \"C1718\", \"C1502\", \"C2262\", \"C1803\", \"C2556\", \"C1756\", \"C2142\"], \"yaxis\": \"y\"}, {\"alignmentgroup\": \"True\", \"bingroup\": \"x\", \"hoverlabel\": {\"namelength\": 0}, \"hovertemplate\": \"\\uc9c0\\uc5ed=\\ucda9\\uccad\\ubd81\\ub3c4<br>\\ub4f1\\ub85d\\ucc28\\ub7c9\\uc218=%{x}<br>count of \\ub2e8\\uc9c0\\ucf54\\ub4dc=%{y}\", \"legendgroup\": \"\\uc9c0\\uc5ed=\\ucda9\\uccad\\ubd81\\ub3c4\", \"marker\": {\"color\": \"#DEA0FD\"}, \"name\": \"\\uc9c0\\uc5ed=\\ucda9\\uccad\\ubd81\\ub3c4\", \"offsetgroup\": \"\\uc9c0\\uc5ed=\\ucda9\\uccad\\ubd81\\ub3c4\", \"orientation\": \"v\", \"showlegend\": true, \"type\": \"histogram\", \"x\": [334.0, 220.0, 557.0, 815.0, 683.0, 670.0, 324.0, 553.0, 284.0, 723.0, 509.0, 500.0, 481.0, 557.0, 353.0, 652.0, 733.0, 561.0, 899.0, 713.0, 498.0, 217.0, 526.0, 1200.0, 336.0, 164.0, 1374.0, 505.0, 619.0, 16.0], \"xaxis\": \"x\", \"y\": [\"C2445\", \"C2016\", \"C2326\", \"C1410\", \"C2181\", \"C1768\", \"C2192\", \"C2346\", \"C2287\", \"C2055\", \"C2603\", \"C1965\", \"C1000\", \"C1465\", \"C2106\", \"C1823\", \"C1863\", \"C2389\", \"C1490\", \"C2274\", \"C1402\", \"C1263\", \"C1673\", \"C2414\", \"C2040\", \"C1685\", \"C2328\", \"C1156\", \"C1176\", \"C2437\"], \"yaxis\": \"y\"}, {\"alignmentgroup\": \"True\", \"bingroup\": \"x\", \"hoverlabel\": {\"namelength\": 0}, \"hovertemplate\": \"\\uc9c0\\uc5ed=\\uc804\\ub77c\\ub0a8\\ub3c4<br>\\ub4f1\\ub85d\\ucc28\\ub7c9\\uc218=%{x}<br>count of \\ub2e8\\uc9c0\\ucf54\\ub4dc=%{y}\", \"legendgroup\": \"\\uc9c0\\uc5ed=\\uc804\\ub77c\\ub0a8\\ub3c4\", \"marker\": {\"color\": \"#FE00FA\"}, \"name\": \"\\uc9c0\\uc5ed=\\uc804\\ub77c\\ub0a8\\ub3c4\", \"offsetgroup\": \"\\uc9c0\\uc5ed=\\uc804\\ub77c\\ub0a8\\ub3c4\", \"orientation\": \"v\", \"showlegend\": true, \"type\": \"histogram\", \"x\": [616.0, 548.0, 288.0, 297.0, 465.0, 402.0, 487.0, 408.0, 446.0, 1145.0, 257.0, 272.0, 475.0, 284.0, 322.0, 244.0, 1709.0, 881.0, 309.0, 630.0, 404.0, 205.0, 693.0, 123.0, 280.0], \"xaxis\": \"x\", \"y\": [\"C1885\", \"C2368\", \"C1668\", \"C1642\", \"C1666\", \"C1988\", \"C2412\", \"C1871\", \"C1309\", \"C1386\", \"C1656\", \"C1819\", \"C1516\", \"C1566\", \"C1674\", \"C2211\", \"C2620\", \"C1286\", \"C1089\", \"C1985\", \"C2627\", \"C2570\", \"C2359\", \"C1695\", \"C2153\"], \"yaxis\": \"y\"}, {\"alignmentgroup\": \"True\", \"bingroup\": \"x\", \"hoverlabel\": {\"namelength\": 0}, \"hovertemplate\": \"\\uc9c0\\uc5ed=\\ub300\\uad6c\\uad11\\uc5ed\\uc2dc<br>\\ub4f1\\ub85d\\ucc28\\ub7c9\\uc218=%{x}<br>count of \\ub2e8\\uc9c0\\ucf54\\ub4dc=%{y}\", \"legendgroup\": \"\\uc9c0\\uc5ed=\\ub300\\uad6c\\uad11\\uc5ed\\uc2dc\", \"marker\": {\"color\": \"#325A9B\"}, \"name\": \"\\uc9c0\\uc5ed=\\ub300\\uad6c\\uad11\\uc5ed\\uc2dc\", \"offsetgroup\": \"\\uc9c0\\uc5ed=\\ub300\\uad6c\\uad11\\uc5ed\\uc2dc\", \"orientation\": \"v\", \"showlegend\": true, \"type\": \"histogram\", \"x\": [340.0, 503.0, 718.0, 505.0, 1077.0, 757.0, 570.0, 886.0, 821.0, 1653.0, 712.0, 202.0, 979.0, 586.0, 1433.0, 588.0, 713.0, 744.0], \"xaxis\": \"x\", \"y\": [\"C2490\", \"C2066\", \"C1585\", \"C2420\", \"C1122\", \"C2042\", \"C1783\", \"C1969\", \"C2329\", \"C1743\", \"C2316\", \"C1301\", \"C1700\", \"C1210\", \"C2506\", \"C1565\", \"C1544\", \"C2186\"], \"yaxis\": \"y\"}, {\"alignmentgroup\": \"True\", \"bingroup\": \"x\", \"hoverlabel\": {\"namelength\": 0}, \"hovertemplate\": \"\\uc9c0\\uc5ed=\\uc11c\\uc6b8\\ud2b9\\ubcc4\\uc2dc<br>\\ub4f1\\ub85d\\ucc28\\ub7c9\\uc218=%{x}<br>count of \\ub2e8\\uc9c0\\ucf54\\ub4dc=%{y}\", \"legendgroup\": \"\\uc9c0\\uc5ed=\\uc11c\\uc6b8\\ud2b9\\ubcc4\\uc2dc\", \"marker\": {\"color\": \"#FEAF16\"}, \"name\": \"\\uc9c0\\uc5ed=\\uc11c\\uc6b8\\ud2b9\\ubcc4\\uc2dc\", \"offsetgroup\": \"\\uc9c0\\uc5ed=\\uc11c\\uc6b8\\ud2b9\\ubcc4\\uc2dc\", \"orientation\": \"v\", \"showlegend\": true, \"type\": \"histogram\", \"x\": [382.0, 509.0, 1595.0, 793.0, 645.0, 957.0, 1595.0, 509.0], \"xaxis\": \"x\", \"y\": [\"C2340\", \"C1344\", \"C1397\", \"C2352\", \"C1039\", \"C1024\", \"C2085\", \"C1652\"], \"yaxis\": \"y\"}, {\"alignmentgroup\": \"True\", \"bingroup\": \"x\", \"hoverlabel\": {\"namelength\": 0}, \"hovertemplate\": \"\\uc9c0\\uc5ed=\\uc138\\uc885\\ud2b9\\ubcc4\\uc790\\uce58\\uc2dc<br>\\ub4f1\\ub85d\\ucc28\\ub7c9\\uc218=%{x}<br>count of \\ub2e8\\uc9c0\\ucf54\\ub4dc=%{y}\", \"legendgroup\": \"\\uc9c0\\uc5ed=\\uc138\\uc885\\ud2b9\\ubcc4\\uc790\\uce58\\uc2dc\", \"marker\": {\"color\": \"#F8A19F\"}, \"name\": \"\\uc9c0\\uc5ed=\\uc138\\uc885\\ud2b9\\ubcc4\\uc790\\uce58\\uc2dc\", \"offsetgroup\": \"\\uc9c0\\uc5ed=\\uc138\\uc885\\ud2b9\\ubcc4\\uc790\\uce58\\uc2dc\", \"orientation\": \"v\", \"showlegend\": true, \"type\": \"histogram\", \"x\": [780.0, 1832.0, 1983.0, 1524.0], \"xaxis\": \"x\", \"y\": [\"C2051\", \"C2612\", \"C1802\", \"C2086\"], \"yaxis\": \"y\"}],\n",
              "                        {\"barmode\": \"relative\", \"legend\": {\"tracegroupgap\": 0}, \"margin\": {\"t\": 60}, \"template\": {\"data\": {\"bar\": [{\"error_x\": {\"color\": \"#2a3f5f\"}, \"error_y\": {\"color\": \"#2a3f5f\"}, \"marker\": {\"line\": {\"color\": \"#E5ECF6\", \"width\": 0.5}}, \"type\": \"bar\"}], \"barpolar\": [{\"marker\": {\"line\": {\"color\": \"#E5ECF6\", \"width\": 0.5}}, \"type\": \"barpolar\"}], \"carpet\": [{\"aaxis\": {\"endlinecolor\": \"#2a3f5f\", \"gridcolor\": \"white\", \"linecolor\": \"white\", \"minorgridcolor\": \"white\", \"startlinecolor\": \"#2a3f5f\"}, \"baxis\": {\"endlinecolor\": \"#2a3f5f\", \"gridcolor\": \"white\", \"linecolor\": \"white\", \"minorgridcolor\": \"white\", \"startlinecolor\": \"#2a3f5f\"}, \"type\": \"carpet\"}], \"choropleth\": [{\"colorbar\": {\"outlinewidth\": 0, \"ticks\": \"\"}, \"type\": \"choropleth\"}], \"contour\": [{\"colorbar\": {\"outlinewidth\": 0, \"ticks\": \"\"}, \"colorscale\": [[0.0, \"#0d0887\"], [0.1111111111111111, \"#46039f\"], [0.2222222222222222, \"#7201a8\"], [0.3333333333333333, \"#9c179e\"], [0.4444444444444444, \"#bd3786\"], [0.5555555555555556, \"#d8576b\"], [0.6666666666666666, \"#ed7953\"], [0.7777777777777778, \"#fb9f3a\"], [0.8888888888888888, \"#fdca26\"], [1.0, \"#f0f921\"]], \"type\": \"contour\"}], \"contourcarpet\": [{\"colorbar\": {\"outlinewidth\": 0, \"ticks\": \"\"}, \"type\": \"contourcarpet\"}], \"heatmap\": [{\"colorbar\": {\"outlinewidth\": 0, \"ticks\": \"\"}, \"colorscale\": [[0.0, \"#0d0887\"], [0.1111111111111111, \"#46039f\"], [0.2222222222222222, \"#7201a8\"], [0.3333333333333333, \"#9c179e\"], [0.4444444444444444, \"#bd3786\"], [0.5555555555555556, \"#d8576b\"], [0.6666666666666666, \"#ed7953\"], [0.7777777777777778, \"#fb9f3a\"], [0.8888888888888888, \"#fdca26\"], [1.0, \"#f0f921\"]], \"type\": \"heatmap\"}], \"heatmapgl\": [{\"colorbar\": {\"outlinewidth\": 0, \"ticks\": \"\"}, \"colorscale\": [[0.0, \"#0d0887\"], [0.1111111111111111, \"#46039f\"], [0.2222222222222222, \"#7201a8\"], [0.3333333333333333, \"#9c179e\"], [0.4444444444444444, \"#bd3786\"], [0.5555555555555556, \"#d8576b\"], [0.6666666666666666, \"#ed7953\"], [0.7777777777777778, \"#fb9f3a\"], [0.8888888888888888, \"#fdca26\"], [1.0, \"#f0f921\"]], \"type\": \"heatmapgl\"}], \"histogram\": [{\"marker\": {\"colorbar\": {\"outlinewidth\": 0, \"ticks\": \"\"}}, \"type\": \"histogram\"}], \"histogram2d\": [{\"colorbar\": {\"outlinewidth\": 0, \"ticks\": \"\"}, \"colorscale\": [[0.0, \"#0d0887\"], [0.1111111111111111, \"#46039f\"], [0.2222222222222222, \"#7201a8\"], [0.3333333333333333, \"#9c179e\"], [0.4444444444444444, \"#bd3786\"], [0.5555555555555556, \"#d8576b\"], [0.6666666666666666, \"#ed7953\"], [0.7777777777777778, \"#fb9f3a\"], [0.8888888888888888, \"#fdca26\"], [1.0, \"#f0f921\"]], \"type\": \"histogram2d\"}], \"histogram2dcontour\": [{\"colorbar\": {\"outlinewidth\": 0, \"ticks\": \"\"}, \"colorscale\": [[0.0, \"#0d0887\"], [0.1111111111111111, \"#46039f\"], [0.2222222222222222, \"#7201a8\"], [0.3333333333333333, \"#9c179e\"], [0.4444444444444444, \"#bd3786\"], [0.5555555555555556, \"#d8576b\"], [0.6666666666666666, \"#ed7953\"], [0.7777777777777778, \"#fb9f3a\"], [0.8888888888888888, \"#fdca26\"], [1.0, \"#f0f921\"]], \"type\": \"histogram2dcontour\"}], \"mesh3d\": [{\"colorbar\": {\"outlinewidth\": 0, \"ticks\": \"\"}, \"type\": \"mesh3d\"}], \"parcoords\": [{\"line\": {\"colorbar\": {\"outlinewidth\": 0, \"ticks\": \"\"}}, \"type\": \"parcoords\"}], \"pie\": [{\"automargin\": true, \"type\": \"pie\"}], \"scatter\": [{\"marker\": {\"colorbar\": {\"outlinewidth\": 0, \"ticks\": \"\"}}, \"type\": \"scatter\"}], \"scatter3d\": [{\"line\": {\"colorbar\": {\"outlinewidth\": 0, \"ticks\": \"\"}}, \"marker\": {\"colorbar\": {\"outlinewidth\": 0, \"ticks\": \"\"}}, \"type\": \"scatter3d\"}], \"scattercarpet\": [{\"marker\": {\"colorbar\": {\"outlinewidth\": 0, \"ticks\": \"\"}}, \"type\": \"scattercarpet\"}], \"scattergeo\": [{\"marker\": {\"colorbar\": {\"outlinewidth\": 0, \"ticks\": \"\"}}, \"type\": \"scattergeo\"}], \"scattergl\": [{\"marker\": {\"colorbar\": {\"outlinewidth\": 0, \"ticks\": \"\"}}, \"type\": \"scattergl\"}], \"scattermapbox\": [{\"marker\": {\"colorbar\": {\"outlinewidth\": 0, \"ticks\": \"\"}}, \"type\": \"scattermapbox\"}], \"scatterpolar\": [{\"marker\": {\"colorbar\": {\"outlinewidth\": 0, \"ticks\": \"\"}}, \"type\": \"scatterpolar\"}], \"scatterpolargl\": [{\"marker\": {\"colorbar\": {\"outlinewidth\": 0, \"ticks\": \"\"}}, \"type\": \"scatterpolargl\"}], \"scatterternary\": [{\"marker\": {\"colorbar\": {\"outlinewidth\": 0, \"ticks\": \"\"}}, \"type\": \"scatterternary\"}], \"surface\": [{\"colorbar\": {\"outlinewidth\": 0, \"ticks\": \"\"}, \"colorscale\": [[0.0, \"#0d0887\"], [0.1111111111111111, \"#46039f\"], [0.2222222222222222, \"#7201a8\"], [0.3333333333333333, \"#9c179e\"], [0.4444444444444444, \"#bd3786\"], [0.5555555555555556, \"#d8576b\"], [0.6666666666666666, \"#ed7953\"], [0.7777777777777778, \"#fb9f3a\"], [0.8888888888888888, \"#fdca26\"], [1.0, \"#f0f921\"]], \"type\": \"surface\"}], \"table\": [{\"cells\": {\"fill\": {\"color\": \"#EBF0F8\"}, \"line\": {\"color\": \"white\"}}, \"header\": {\"fill\": {\"color\": \"#C8D4E3\"}, \"line\": {\"color\": \"white\"}}, \"type\": \"table\"}]}, \"layout\": {\"annotationdefaults\": {\"arrowcolor\": \"#2a3f5f\", \"arrowhead\": 0, \"arrowwidth\": 1}, \"coloraxis\": {\"colorbar\": {\"outlinewidth\": 0, \"ticks\": \"\"}}, \"colorscale\": {\"diverging\": [[0, \"#8e0152\"], [0.1, \"#c51b7d\"], [0.2, \"#de77ae\"], [0.3, \"#f1b6da\"], [0.4, \"#fde0ef\"], [0.5, \"#f7f7f7\"], [0.6, \"#e6f5d0\"], [0.7, \"#b8e186\"], [0.8, \"#7fbc41\"], [0.9, \"#4d9221\"], [1, \"#276419\"]], \"sequential\": [[0.0, \"#0d0887\"], [0.1111111111111111, \"#46039f\"], [0.2222222222222222, \"#7201a8\"], [0.3333333333333333, \"#9c179e\"], [0.4444444444444444, \"#bd3786\"], [0.5555555555555556, \"#d8576b\"], [0.6666666666666666, \"#ed7953\"], [0.7777777777777778, \"#fb9f3a\"], [0.8888888888888888, \"#fdca26\"], [1.0, \"#f0f921\"]], \"sequentialminus\": [[0.0, \"#0d0887\"], [0.1111111111111111, \"#46039f\"], [0.2222222222222222, \"#7201a8\"], [0.3333333333333333, \"#9c179e\"], [0.4444444444444444, \"#bd3786\"], [0.5555555555555556, \"#d8576b\"], [0.6666666666666666, \"#ed7953\"], [0.7777777777777778, \"#fb9f3a\"], [0.8888888888888888, \"#fdca26\"], [1.0, \"#f0f921\"]]}, \"colorway\": [\"#636efa\", \"#EF553B\", \"#00cc96\", \"#ab63fa\", \"#FFA15A\", \"#19d3f3\", \"#FF6692\", \"#B6E880\", \"#FF97FF\", \"#FECB52\"], \"font\": {\"color\": \"#2a3f5f\"}, \"geo\": {\"bgcolor\": \"white\", \"lakecolor\": \"white\", \"landcolor\": \"#E5ECF6\", \"showlakes\": true, \"showland\": true, \"subunitcolor\": \"white\"}, \"hoverlabel\": {\"align\": \"left\"}, \"hovermode\": \"closest\", \"mapbox\": {\"style\": \"light\"}, \"paper_bgcolor\": \"white\", \"plot_bgcolor\": \"#E5ECF6\", \"polar\": {\"angularaxis\": {\"gridcolor\": \"white\", \"linecolor\": \"white\", \"ticks\": \"\"}, \"bgcolor\": \"#E5ECF6\", \"radialaxis\": {\"gridcolor\": \"white\", \"linecolor\": \"white\", \"ticks\": \"\"}}, \"scene\": {\"xaxis\": {\"backgroundcolor\": \"#E5ECF6\", \"gridcolor\": \"white\", \"gridwidth\": 2, \"linecolor\": \"white\", \"showbackground\": true, \"ticks\": \"\", \"zerolinecolor\": \"white\"}, \"yaxis\": {\"backgroundcolor\": \"#E5ECF6\", \"gridcolor\": \"white\", \"gridwidth\": 2, \"linecolor\": \"white\", \"showbackground\": true, \"ticks\": \"\", \"zerolinecolor\": \"white\"}, \"zaxis\": {\"backgroundcolor\": \"#E5ECF6\", \"gridcolor\": \"white\", \"gridwidth\": 2, \"linecolor\": \"white\", \"showbackground\": true, \"ticks\": \"\", \"zerolinecolor\": \"white\"}}, \"shapedefaults\": {\"line\": {\"color\": \"#2a3f5f\"}}, \"ternary\": {\"aaxis\": {\"gridcolor\": \"white\", \"linecolor\": \"white\", \"ticks\": \"\"}, \"baxis\": {\"gridcolor\": \"white\", \"linecolor\": \"white\", \"ticks\": \"\"}, \"bgcolor\": \"#E5ECF6\", \"caxis\": {\"gridcolor\": \"white\", \"linecolor\": \"white\", \"ticks\": \"\"}}, \"title\": {\"x\": 0.05}, \"xaxis\": {\"automargin\": true, \"gridcolor\": \"white\", \"linecolor\": \"white\", \"ticks\": \"\", \"title\": {\"standoff\": 15}, \"zerolinecolor\": \"white\", \"zerolinewidth\": 2}, \"yaxis\": {\"automargin\": true, \"gridcolor\": \"white\", \"linecolor\": \"white\", \"ticks\": \"\", \"title\": {\"standoff\": 15}, \"zerolinecolor\": \"white\", \"zerolinewidth\": 2}}}, \"title\": {\"text\": \"\\uc9c0\\uc5ed\\ubcc4, \\ub4f1\\ub85d\\ucc28\\ub7c9\\uc218 \\ubd84\\ud3ec\"}, \"xaxis\": {\"anchor\": \"y\", \"domain\": [0.0, 1.0], \"title\": {\"text\": \"\\ub4f1\\ub85d\\ucc28\\ub7c9\\uc218\"}}, \"yaxis\": {\"anchor\": \"x\", \"domain\": [0.0, 1.0], \"title\": {\"text\": \"count of \\ub2e8\\uc9c0\\ucf54\\ub4dc\"}}},\n",
              "                        {\"responsive\": true}\n",
              "                    ).then(function(){\n",
              "                            \n",
              "var gd = document.getElementById('113b2e31-0dcd-43da-9ce4-baef933e547c');\n",
              "var x = new MutationObserver(function (mutations, observer) {{\n",
              "        var display = window.getComputedStyle(gd).display;\n",
              "        if (!display || display === 'none') {{\n",
              "            console.log([gd, 'removed!']);\n",
              "            Plotly.purge(gd);\n",
              "            observer.disconnect();\n",
              "        }}\n",
              "}});\n",
              "\n",
              "// Listen for the removal of the full notebook cells\n",
              "var notebookContainer = gd.closest('#notebook-container');\n",
              "if (notebookContainer) {{\n",
              "    x.observe(notebookContainer, {childList: true});\n",
              "}}\n",
              "\n",
              "// Listen for the clearing of the current output cell\n",
              "var outputEl = gd.closest('.output');\n",
              "if (outputEl) {{\n",
              "    x.observe(outputEl, {childList: true});\n",
              "}}\n",
              "\n",
              "                        })\n",
              "                };\n",
              "                \n",
              "            </script>\n",
              "        </div>\n",
              "</body>\n",
              "</html>"
            ]
          },
          "metadata": {}
        }
      ]
    },
    {
      "cell_type": "markdown",
      "metadata": {
        "id": "BHrwmBdgW_Lm"
      },
      "source": [
        "위 그래프를 통해서 600대 기준으로 특정지역이 강세를 보이는지 확인"
      ]
    },
    {
      "cell_type": "code",
      "metadata": {
        "id": "K5g5vNMyRZjB"
      },
      "source": [
        "#자동차 등록기준 600대를 기준으로 차이가 갈리는지 확인\n",
        "def check_car_num(x):#\n",
        "  if x >= 600:#\n",
        "    return '600대 이상'\n",
        "  else:\n",
        "    return '600대 미만'"
      ],
      "execution_count": 257,
      "outputs": []
    },
    {
      "cell_type": "code",
      "metadata": {
        "id": "Tr0Cuj6JRZjC"
      },
      "source": [
        "temp['600대'] = temp['등록차량수'].apply(lambda x: check_car_num(x))"
      ],
      "execution_count": 258,
      "outputs": []
    },
    {
      "cell_type": "code",
      "metadata": {
        "colab": {
          "base_uri": "https://localhost:8080/",
          "height": 542
        },
        "id": "sMXMegj8SP-U",
        "outputId": "95545f5b-992b-4344-f2ab-d01a9b2e8ec6"
      },
      "source": [
        "fig = go.Figure()\n",
        "fig = px.histogram(temp, x='지역', y = '단지코드', color='600대',\n",
        "                            color_discrete_sequence=px.colors.qualitative.Alphabet)\n",
        "fig.update_layout(title='지역별 등록차량수파악(600대 이상,이하) 단지개수') #autosize =, width = 1000, height = 500)"
      ],
      "execution_count": 259,
      "outputs": [
        {
          "output_type": "display_data",
          "data": {
            "text/html": [
              "<html>\n",
              "<head><meta charset=\"utf-8\" /></head>\n",
              "<body>\n",
              "    <div>\n",
              "            <script src=\"https://cdnjs.cloudflare.com/ajax/libs/mathjax/2.7.5/MathJax.js?config=TeX-AMS-MML_SVG\"></script><script type=\"text/javascript\">if (window.MathJax) {MathJax.Hub.Config({SVG: {font: \"STIX-Web\"}});}</script>\n",
              "                <script type=\"text/javascript\">window.PlotlyConfig = {MathJaxConfig: 'local'};</script>\n",
              "        <script src=\"https://cdn.plot.ly/plotly-latest.min.js\"></script>    \n",
              "            <div id=\"2fa75010-ad22-4c52-b56f-610b664523eb\" class=\"plotly-graph-div\" style=\"height:525px; width:100%;\"></div>\n",
              "            <script type=\"text/javascript\">\n",
              "                \n",
              "                    window.PLOTLYENV=window.PLOTLYENV || {};\n",
              "                    \n",
              "                if (document.getElementById(\"2fa75010-ad22-4c52-b56f-610b664523eb\")) {\n",
              "                    Plotly.newPlot(\n",
              "                        '2fa75010-ad22-4c52-b56f-610b664523eb',\n",
              "                        [{\"alignmentgroup\": \"True\", \"bingroup\": \"x\", \"hoverlabel\": {\"namelength\": 0}, \"hovertemplate\": \"600\\ub300=600\\ub300 \\uc774\\uc0c1<br>\\uc9c0\\uc5ed=%{x}<br>count of \\ub2e8\\uc9c0\\ucf54\\ub4dc=%{y}\", \"legendgroup\": \"600\\ub300=600\\ub300 \\uc774\\uc0c1\", \"marker\": {\"color\": \"#AA0DFE\"}, \"name\": \"600\\ub300=600\\ub300 \\uc774\\uc0c1\", \"offsetgroup\": \"600\\ub300=600\\ub300 \\uc774\\uc0c1\", \"orientation\": \"v\", \"showlegend\": true, \"type\": \"histogram\", \"x\": [\"\\uacbd\\uc0c1\\ubd81\\ub3c4\", \"\\ub300\\uc804\\uad11\\uc5ed\\uc2dc\", \"\\uacbd\\uae30\\ub3c4\", \"\\uacbd\\uae30\\ub3c4\", \"\\ub300\\uc804\\uad11\\uc5ed\\uc2dc\", \"\\uad11\\uc8fc\\uad11\\uc5ed\\uc2dc\", \"\\uac15\\uc6d0\\ub3c4\", \"\\ub300\\uc804\\uad11\\uc5ed\\uc2dc\", \"\\uac15\\uc6d0\\ub3c4\", \"\\ubd80\\uc0b0\\uad11\\uc5ed\\uc2dc\", \"\\ubd80\\uc0b0\\uad11\\uc5ed\\uc2dc\", \"\\uc81c\\uc8fc\\ud2b9\\ubcc4\\uc790\\uce58\\ub3c4\", \"\\uc804\\ub77c\\ub0a8\\ub3c4\", \"\\uacbd\\uae30\\ub3c4\", \"\\uc804\\ub77c\\ubd81\\ub3c4\", \"\\uac15\\uc6d0\\ub3c4\", \"\\uad11\\uc8fc\\uad11\\uc5ed\\uc2dc\", \"\\uad11\\uc8fc\\uad11\\uc5ed\\uc2dc\", \"\\uacbd\\uc0c1\\ub0a8\\ub3c4\", \"\\uacbd\\uc0c1\\ubd81\\ub3c4\", \"\\uacbd\\uae30\\ub3c4\", \"\\uacbd\\uc0c1\\ub0a8\\ub3c4\", \"\\uacbd\\uc0c1\\ubd81\\ub3c4\", \"\\ubd80\\uc0b0\\uad11\\uc5ed\\uc2dc\", \"\\uacbd\\uae30\\ub3c4\", \"\\uad11\\uc8fc\\uad11\\uc5ed\\uc2dc\", \"\\uad11\\uc8fc\\uad11\\uc5ed\\uc2dc\", \"\\uad11\\uc8fc\\uad11\\uc5ed\\uc2dc\", \"\\uad11\\uc8fc\\uad11\\uc5ed\\uc2dc\", \"\\uad11\\uc8fc\\uad11\\uc5ed\\uc2dc\", \"\\uad11\\uc8fc\\uad11\\uc5ed\\uc2dc\", \"\\uad11\\uc8fc\\uad11\\uc5ed\\uc2dc\", \"\\ucda9\\uccad\\ub0a8\\ub3c4\", \"\\uacbd\\uc0c1\\ub0a8\\ub3c4\", \"\\uacbd\\uc0c1\\ub0a8\\ub3c4\", \"\\uacbd\\uae30\\ub3c4\", \"\\uacbd\\uae30\\ub3c4\", \"\\uacbd\\uae30\\ub3c4\", \"\\ub300\\uc804\\uad11\\uc5ed\\uc2dc\", \"\\ub300\\uad6c\\uad11\\uc5ed\\uc2dc\", \"\\ub300\\uc804\\uad11\\uc5ed\\uc2dc\", \"\\ub300\\uc804\\uad11\\uc5ed\\uc2dc\", \"\\uacbd\\uae30\\ub3c4\", \"\\ucda9\\uccad\\ub0a8\\ub3c4\", \"\\uacbd\\uc0c1\\ub0a8\\ub3c4\", \"\\uacbd\\uae30\\ub3c4\", \"\\uacbd\\uae30\\ub3c4\", \"\\uacbd\\uae30\\ub3c4\", \"\\ubd80\\uc0b0\\uad11\\uc5ed\\uc2dc\", \"\\uacbd\\uc0c1\\ubd81\\ub3c4\", \"\\uacbd\\uae30\\ub3c4\", \"\\uacbd\\uae30\\ub3c4\", \"\\uacbd\\uc0c1\\ub0a8\\ub3c4\", \"\\uacbd\\uae30\\ub3c4\", \"\\uc804\\ub77c\\ub0a8\\ub3c4\", \"\\uacbd\\uae30\\ub3c4\", \"\\uacbd\\uae30\\ub3c4\", \"\\uacbd\\uae30\\ub3c4\", \"\\uacbd\\uae30\\ub3c4\", \"\\uacbd\\uae30\\ub3c4\", \"\\uacbd\\uae30\\ub3c4\", \"\\uacbd\\uae30\\ub3c4\", \"\\uacbd\\uae30\\ub3c4\", \"\\uacbd\\uae30\\ub3c4\", \"\\uac15\\uc6d0\\ub3c4\", \"\\ub300\\uad6c\\uad11\\uc5ed\\uc2dc\", \"\\ub300\\uad6c\\uad11\\uc5ed\\uc2dc\", \"\\uacbd\\uc0c1\\ub0a8\\ub3c4\", \"\\ucda9\\uccad\\ubd81\\ub3c4\", \"\\uc804\\ub77c\\ubd81\\ub3c4\", \"\\ucda9\\uccad\\ubd81\\ub3c4\", \"\\ucda9\\uccad\\ubd81\\ub3c4\", \"\\uacbd\\uc0c1\\ub0a8\\ub3c4\", \"\\ucda9\\uccad\\ubd81\\ub3c4\", \"\\uac15\\uc6d0\\ub3c4\", \"\\uacbd\\uae30\\ub3c4\", \"\\uacbd\\uae30\\ub3c4\", \"\\uad11\\uc8fc\\uad11\\uc5ed\\uc2dc\", \"\\uacbd\\uae30\\ub3c4\", \"\\ub300\\uc804\\uad11\\uc5ed\\uc2dc\", \"\\uad11\\uc8fc\\uad11\\uc5ed\\uc2dc\", \"\\ub300\\uc804\\uad11\\uc5ed\\uc2dc\", \"\\uacbd\\uc0c1\\ub0a8\\ub3c4\", \"\\uacbd\\uae30\\ub3c4\", \"\\uacbd\\uae30\\ub3c4\", \"\\uacbd\\uae30\\ub3c4\", \"\\ucda9\\uccad\\ubd81\\ub3c4\", \"\\uacbd\\uae30\\ub3c4\", \"\\uacbd\\uae30\\ub3c4\", \"\\uacbd\\uc0c1\\ubd81\\ub3c4\", \"\\uacbd\\uae30\\ub3c4\", \"\\uc11c\\uc6b8\\ud2b9\\ubcc4\\uc2dc\", \"\\uacbd\\uae30\\ub3c4\", \"\\uc11c\\uc6b8\\ud2b9\\ubcc4\\uc2dc\", \"\\uac15\\uc6d0\\ub3c4\", \"\\uacbd\\uc0c1\\ub0a8\\ub3c4\", \"\\uc11c\\uc6b8\\ud2b9\\ubcc4\\uc2dc\", \"\\ucda9\\uccad\\ubd81\\ub3c4\", \"\\ubd80\\uc0b0\\uad11\\uc5ed\\uc2dc\", \"\\uc804\\ub77c\\ubd81\\ub3c4\", \"\\ucda9\\uccad\\ubd81\\ub3c4\", \"\\uc11c\\uc6b8\\ud2b9\\ubcc4\\uc2dc\", \"\\uacbd\\uc0c1\\ubd81\\ub3c4\", \"\\uc804\\ub77c\\ub0a8\\ub3c4\", \"\\uc804\\ub77c\\ub0a8\\ub3c4\", \"\\uc11c\\uc6b8\\ud2b9\\ubcc4\\uc2dc\", \"\\uacbd\\uc0c1\\ub0a8\\ub3c4\", \"\\ub300\\uad6c\\uad11\\uc5ed\\uc2dc\", \"\\ucda9\\uccad\\ubd81\\ub3c4\", \"\\uacbd\\uae30\\ub3c4\", \"\\uacbd\\uae30\\ub3c4\", \"\\uc81c\\uc8fc\\ud2b9\\ubcc4\\uc790\\uce58\\ub3c4\", \"\\uacbd\\uc0c1\\ubd81\\ub3c4\", \"\\uc804\\ub77c\\ub0a8\\ub3c4\", \"\\ub300\\uc804\\uad11\\uc5ed\\uc2dc\", \"\\uacbd\\uae30\\ub3c4\", \"\\ub300\\uad6c\\uad11\\uc5ed\\uc2dc\", \"\\uacbd\\uc0c1\\ub0a8\\ub3c4\", \"\\uad11\\uc8fc\\uad11\\uc5ed\\uc2dc\", \"\\ub300\\uad6c\\uad11\\uc5ed\\uc2dc\", \"\\ub300\\uc804\\uad11\\uc5ed\\uc2dc\", \"\\uac15\\uc6d0\\ub3c4\", \"\\uacbd\\uae30\\ub3c4\", \"\\uacbd\\uae30\\ub3c4\", \"\\uacbd\\uae30\\ub3c4\", \"\\ub300\\uc804\\uad11\\uc5ed\\uc2dc\", \"\\uad11\\uc8fc\\uad11\\uc5ed\\uc2dc\", \"\\ub300\\uad6c\\uad11\\uc5ed\\uc2dc\", \"\\uc138\\uc885\\ud2b9\\ubcc4\\uc790\\uce58\\uc2dc\", \"\\ucda9\\uccad\\ubd81\\ub3c4\", \"\\ub300\\uad6c\\uad11\\uc5ed\\uc2dc\", \"\\uacbd\\uae30\\ub3c4\", \"\\uc138\\uc885\\ud2b9\\ubcc4\\uc790\\uce58\\uc2dc\", \"\\uacbd\\uae30\\ub3c4\", \"\\uacbd\\uc0c1\\ubd81\\ub3c4\", \"\\uacbd\\uae30\\ub3c4\", \"\\uacbd\\uae30\\ub3c4\", \"\\uacbd\\uc0c1\\ub0a8\\ub3c4\", \"\\uacbd\\uc0c1\\ub0a8\\ub3c4\", \"\\ubd80\\uc0b0\\uad11\\uc5ed\\uc2dc\", \"\\uacbd\\uae30\\ub3c4\", \"\\uacbd\\uae30\\ub3c4\", \"\\uac15\\uc6d0\\ub3c4\", \"\\ub300\\uc804\\uad11\\uc5ed\\uc2dc\", \"\\uacbd\\uc0c1\\ub0a8\\ub3c4\", \"\\uacbd\\uc0c1\\ub0a8\\ub3c4\", \"\\uc138\\uc885\\ud2b9\\ubcc4\\uc790\\uce58\\uc2dc\", \"\\uacbd\\uae30\\ub3c4\", \"\\uacbd\\uc0c1\\ub0a8\\ub3c4\", \"\\uacbd\\uc0c1\\ub0a8\\ub3c4\", \"\\uacbd\\uae30\\ub3c4\", \"\\ub300\\uad6c\\uad11\\uc5ed\\uc2dc\", \"\\uacbd\\uae30\\ub3c4\", \"\\uacbd\\uae30\\ub3c4\", \"\\ubd80\\uc0b0\\uad11\\uc5ed\\uc2dc\", \"\\uc804\\ub77c\\ub0a8\\ub3c4\", \"\\uc138\\uc885\\ud2b9\\ubcc4\\uc790\\uce58\\uc2dc\", \"\\ub300\\uad6c\\uad11\\uc5ed\\uc2dc\", \"\\uc804\\ub77c\\ubd81\\ub3c4\", \"\\uc6b8\\uc0b0\\uad11\\uc5ed\\uc2dc\", \"\\uacbd\\uae30\\ub3c4\", \"\\ucda9\\uccad\\ubd81\\ub3c4\", \"\\ub300\\uad6c\\uad11\\uc5ed\\uc2dc\", \"\\ucda9\\uccad\\ubd81\\ub3c4\", \"\\uacbd\\uae30\\ub3c4\"], \"xaxis\": \"x\", \"y\": [\"C2483\", \"C1407\", \"C1945\", \"C1244\", \"C1171\", \"C2513\", \"C2049\", \"C2100\", \"C1722\", \"C1672\", \"C1430\", \"C1833\", \"C1885\", \"C2538\", \"C1014\", \"C1592\", \"C1620\", \"C1049\", \"C2000\", \"C2097\", \"C1689\", \"C2514\", \"C1368\", \"C2666\", \"C2361\", \"C1013\", \"C2458\", \"C2574\", \"C2010\", \"C1879\", \"C1131\", \"C1468\", \"C1173\", \"C2032\", \"C1880\", \"C1744\", \"C2046\", \"C2071\", \"C1663\", \"C1585\", \"C2276\", \"C1693\", \"C1889\", \"C1537\", \"C1141\", \"C2383\", \"C1579\", \"C2173\", \"C1911\", \"C1527\", \"C2208\", \"C1940\", \"C2358\", \"C1236\", \"C1386\", \"C1896\", \"C1269\", \"C1916\", \"C2070\", \"C1967\", \"C2021\", \"C1143\", \"C1036\", \"C2657\", \"C1761\", \"C1122\", \"C2042\", \"C1375\", \"C1410\", \"C1133\", \"C2181\", \"C1768\", \"C2631\", \"C2055\", \"C2522\", \"C2378\", \"C1268\", \"C1448\", \"C1365\", \"C1177\", \"C2488\", \"C1406\", \"C1227\", \"C2460\", \"C1773\", \"C1677\", \"C1823\", \"C2082\", \"C1328\", \"C2565\", \"C1804\", \"C1397\", \"C2479\", \"C2352\", \"C1310\", \"C1738\", \"C1039\", \"C1863\", \"C2489\", \"C1861\", \"C1490\", \"C1024\", \"C1740\", \"C2620\", \"C1286\", \"C2085\", \"C2405\", \"C1969\", \"C2274\", \"C1699\", \"C2251\", \"C2373\", \"C2137\", \"C1985\", \"C2583\", \"C2663\", \"C2329\", \"C1649\", \"C1848\", \"C1743\", \"C1350\", \"C1103\", \"C1129\", \"C1136\", \"C2393\", \"C1017\", \"C1933\", \"C2316\", \"C2051\", \"C2414\", \"C1700\", \"C1636\", \"C2612\", \"C2507\", \"C1065\", \"C1363\", \"C2579\", \"C1320\", \"C1941\", \"C1326\", \"C2618\", \"C1451\", \"C2143\", \"C2470\", \"C1258\", \"C1724\", \"C1802\", \"C1939\", \"C1284\", \"C2595\", \"C2351\", \"C2506\", \"C1697\", \"C2259\", \"C1357\", \"C2359\", \"C2086\", \"C1544\", \"C2496\", \"C1756\", \"C1218\", \"C2328\", \"C2186\", \"C1176\", \"C2446\"], \"yaxis\": \"y\"}, {\"alignmentgroup\": \"True\", \"bingroup\": \"x\", \"hoverlabel\": {\"namelength\": 0}, \"hovertemplate\": \"600\\ub300=600\\ub300 \\ubbf8\\ub9cc<br>\\uc9c0\\uc5ed=%{x}<br>count of \\ub2e8\\uc9c0\\ucf54\\ub4dc=%{y}\", \"legendgroup\": \"600\\ub300=600\\ub300 \\ubbf8\\ub9cc\", \"marker\": {\"color\": \"#3283FE\"}, \"name\": \"600\\ub300=600\\ub300 \\ubbf8\\ub9cc\", \"offsetgroup\": \"600\\ub300=600\\ub300 \\ubbf8\\ub9cc\", \"orientation\": \"v\", \"showlegend\": true, \"type\": \"histogram\", \"x\": [\"\\uacbd\\uc0c1\\ub0a8\\ub3c4\", \"\\uc804\\ub77c\\ubd81\\ub3c4\", \"\\uc804\\ub77c\\ubd81\\ub3c4\", \"\\uac15\\uc6d0\\ub3c4\", \"\\uad11\\uc8fc\\uad11\\uc5ed\\uc2dc\", \"\\uac15\\uc6d0\\ub3c4\", \"\\uac15\\uc6d0\\ub3c4\", \"\\uacbd\\uc0c1\\ub0a8\\ub3c4\", \"\\ucda9\\uccad\\ub0a8\\ub3c4\", \"\\ucda9\\uccad\\ub0a8\\ub3c4\", \"\\ubd80\\uc0b0\\uad11\\uc5ed\\uc2dc\", \"\\uacbd\\uc0c1\\ub0a8\\ub3c4\", \"\\uacbd\\uc0c1\\ub0a8\\ub3c4\", \"\\ub300\\uc804\\uad11\\uc5ed\\uc2dc\", \"\\ub300\\uc804\\uad11\\uc5ed\\uc2dc\", \"\\ub300\\uc804\\uad11\\uc5ed\\uc2dc\", \"\\ub300\\uc804\\uad11\\uc5ed\\uc2dc\", \"\\ub300\\uc804\\uad11\\uc5ed\\uc2dc\", \"\\ub300\\uc804\\uad11\\uc5ed\\uc2dc\", \"\\ub300\\uc804\\uad11\\uc5ed\\uc2dc\", \"\\ub300\\uc804\\uad11\\uc5ed\\uc2dc\", \"\\ub300\\uc804\\uad11\\uc5ed\\uc2dc\", \"\\ub300\\uc804\\uad11\\uc5ed\\uc2dc\", \"\\uacbd\\uc0c1\\ub0a8\\ub3c4\", \"\\uacbd\\uc0c1\\ub0a8\\ub3c4\", \"\\uacbd\\uc0c1\\ub0a8\\ub3c4\", \"\\uacbd\\uc0c1\\ub0a8\\ub3c4\", \"\\ucda9\\uccad\\ub0a8\\ub3c4\", \"\\ucda9\\uccad\\ub0a8\\ub3c4\", \"\\ubd80\\uc0b0\\uad11\\uc5ed\\uc2dc\", \"\\ubd80\\uc0b0\\uad11\\uc5ed\\uc2dc\", \"\\ubd80\\uc0b0\\uad11\\uc5ed\\uc2dc\", \"\\ubd80\\uc0b0\\uad11\\uc5ed\\uc2dc\", \"\\ubd80\\uc0b0\\uad11\\uc5ed\\uc2dc\", \"\\ubd80\\uc0b0\\uad11\\uc5ed\\uc2dc\", \"\\ubd80\\uc0b0\\uad11\\uc5ed\\uc2dc\", \"\\ubd80\\uc0b0\\uad11\\uc5ed\\uc2dc\", \"\\ubd80\\uc0b0\\uad11\\uc5ed\\uc2dc\", \"\\ubd80\\uc0b0\\uad11\\uc5ed\\uc2dc\", \"\\ucda9\\uccad\\ub0a8\\ub3c4\", \"\\uacbd\\uc0c1\\ub0a8\\ub3c4\", \"\\uc81c\\uc8fc\\ud2b9\\ubcc4\\uc790\\uce58\\ub3c4\", \"\\ucda9\\uccad\\ub0a8\\ub3c4\", \"\\uac15\\uc6d0\\ub3c4\", \"\\uc6b8\\uc0b0\\uad11\\uc5ed\\uc2dc\", \"\\uc6b8\\uc0b0\\uad11\\uc5ed\\uc2dc\", \"\\uac15\\uc6d0\\ub3c4\", \"\\uc81c\\uc8fc\\ud2b9\\ubcc4\\uc790\\uce58\\ub3c4\", \"\\uc81c\\uc8fc\\ud2b9\\ubcc4\\uc790\\uce58\\ub3c4\", \"\\uc81c\\uc8fc\\ud2b9\\ubcc4\\uc790\\uce58\\ub3c4\", \"\\uacbd\\uc0c1\\ub0a8\\ub3c4\", \"\\uacbd\\uc0c1\\ub0a8\\ub3c4\", \"\\uacbd\\uc0c1\\ub0a8\\ub3c4\", \"\\uacbd\\uc0c1\\ub0a8\\ub3c4\", \"\\ucda9\\uccad\\ub0a8\\ub3c4\", \"\\ucda9\\uccad\\ub0a8\\ub3c4\", \"\\ucda9\\uccad\\ub0a8\\ub3c4\", \"\\ucda9\\uccad\\ub0a8\\ub3c4\", \"\\uac15\\uc6d0\\ub3c4\", \"\\uac15\\uc6d0\\ub3c4\", \"\\uacbd\\uc0c1\\ub0a8\\ub3c4\", \"\\ucda9\\uccad\\ub0a8\\ub3c4\", \"\\ucda9\\uccad\\ubd81\\ub3c4\", \"\\uc804\\ub77c\\ub0a8\\ub3c4\", \"\\ucda9\\uccad\\ubd81\\ub3c4\", \"\\uacbd\\uc0c1\\ubd81\\ub3c4\", \"\\uc804\\ub77c\\ubd81\\ub3c4\", \"\\uacbd\\uc0c1\\ub0a8\\ub3c4\", \"\\ucda9\\uccad\\ubd81\\ub3c4\", \"\\ubd80\\uc0b0\\uad11\\uc5ed\\uc2dc\", \"\\uc804\\ub77c\\ub0a8\\ub3c4\", \"\\uac15\\uc6d0\\ub3c4\", \"\\uacbd\\uc0c1\\ubd81\\ub3c4\", \"\\uacbd\\uc0c1\\ubd81\\ub3c4\", \"\\uacbd\\uc0c1\\ubd81\\ub3c4\", \"\\uacbd\\uc0c1\\ub0a8\\ub3c4\", \"\\uc804\\ub77c\\ubd81\\ub3c4\", \"\\uc804\\ub77c\\ub0a8\\ub3c4\", \"\\uad11\\uc8fc\\uad11\\uc5ed\\uc2dc\", \"\\uad11\\uc8fc\\uad11\\uc5ed\\uc2dc\", \"\\uad11\\uc8fc\\uad11\\uc5ed\\uc2dc\", \"\\uad11\\uc8fc\\uad11\\uc5ed\\uc2dc\", \"\\uc804\\ub77c\\ubd81\\ub3c4\", \"\\uacbd\\uc0c1\\ubd81\\ub3c4\", \"\\uacbd\\uc0c1\\ub0a8\\ub3c4\", \"\\uacbd\\uc0c1\\ub0a8\\ub3c4\", \"\\uacbd\\uae30\\ub3c4\", \"\\uacbd\\uae30\\ub3c4\", \"\\uacbd\\uae30\\ub3c4\", \"\\ub300\\uad6c\\uad11\\uc5ed\\uc2dc\", \"\\ub300\\uad6c\\uad11\\uc5ed\\uc2dc\", \"\\ub300\\uc804\\uad11\\uc5ed\\uc2dc\", \"\\uac15\\uc6d0\\ub3c4\", \"\\uac15\\uc6d0\\ub3c4\", \"\\uc804\\ub77c\\ub0a8\\ub3c4\", \"\\uc804\\ub77c\\ub0a8\\ub3c4\", \"\\ubd80\\uc0b0\\uad11\\uc5ed\\uc2dc\", \"\\uc804\\ub77c\\ubd81\\ub3c4\", \"\\uacbd\\uae30\\ub3c4\", \"\\uacbd\\uc0c1\\ub0a8\\ub3c4\", \"\\uc11c\\uc6b8\\ud2b9\\ubcc4\\uc2dc\", \"\\ucda9\\uccad\\ub0a8\\ub3c4\", \"\\uacbd\\uae30\\ub3c4\", \"\\uacbd\\uae30\\ub3c4\", \"\\uc804\\ub77c\\ubd81\\ub3c4\", \"\\uc804\\ub77c\\ub0a8\\ub3c4\", \"\\uc804\\ub77c\\ub0a8\\ub3c4\", \"\\uc804\\ub77c\\ub0a8\\ub3c4\", \"\\uacbd\\uae30\\ub3c4\", \"\\uacbd\\uae30\\ub3c4\", \"\\uacbd\\uae30\\ub3c4\", \"\\uacbd\\uae30\\ub3c4\", \"\\uacbd\\uae30\\ub3c4\", \"\\uacbd\\uae30\\ub3c4\", \"\\uacbd\\uae30\\ub3c4\", \"\\uacbd\\uae30\\ub3c4\", \"\\uc804\\ub77c\\ub0a8\\ub3c4\", \"\\uacbd\\uc0c1\\ubd81\\ub3c4\", \"\\uacbd\\uae30\\ub3c4\", \"\\uacbd\\uae30\\ub3c4\", \"\\uacbd\\uae30\\ub3c4\", \"\\uacbd\\uae30\\ub3c4\", \"\\uc6b8\\uc0b0\\uad11\\uc5ed\\uc2dc\", \"\\uc6b8\\uc0b0\\uad11\\uc5ed\\uc2dc\", \"\\uacbd\\uc0c1\\ubd81\\ub3c4\", \"\\uac15\\uc6d0\\ub3c4\", \"\\uac15\\uc6d0\\ub3c4\", \"\\uac15\\uc6d0\\ub3c4\", \"\\ub300\\uad6c\\uad11\\uc5ed\\uc2dc\", \"\\uacbd\\uc0c1\\ub0a8\\ub3c4\", \"\\uacbd\\uae30\\ub3c4\", \"\\uacbd\\uae30\\ub3c4\", \"\\uacbd\\uae30\\ub3c4\", \"\\uacbd\\uae30\\ub3c4\", \"\\uacbd\\uae30\\ub3c4\", \"\\uc804\\ub77c\\ubd81\\ub3c4\", \"\\uc804\\ub77c\\ubd81\\ub3c4\", \"\\uc804\\ub77c\\ub0a8\\ub3c4\", \"\\uc804\\ub77c\\ubd81\\ub3c4\", \"\\ucda9\\uccad\\ub0a8\\ub3c4\", \"\\uc804\\ub77c\\ubd81\\ub3c4\", \"\\uc81c\\uc8fc\\ud2b9\\ubcc4\\uc790\\uce58\\ub3c4\", \"\\uac15\\uc6d0\\ub3c4\", \"\\uac15\\uc6d0\\ub3c4\", \"\\uc804\\ub77c\\ubd81\\ub3c4\", \"\\uc804\\ub77c\\ubd81\\ub3c4\", \"\\uc81c\\uc8fc\\ud2b9\\ubcc4\\uc790\\uce58\\ub3c4\", \"\\uc81c\\uc8fc\\ud2b9\\ubcc4\\uc790\\uce58\\ub3c4\", \"\\ub300\\uad6c\\uad11\\uc5ed\\uc2dc\", \"\\ucda9\\uccad\\ubd81\\ub3c4\", \"\\ucda9\\uccad\\ubd81\\ub3c4\", \"\\uacbd\\uc0c1\\ub0a8\\ub3c4\", \"\\uacbd\\uc0c1\\ub0a8\\ub3c4\", \"\\uacbd\\uc0c1\\ub0a8\\ub3c4\", \"\\uac15\\uc6d0\\ub3c4\", \"\\ucda9\\uccad\\ubd81\\ub3c4\", \"\\uac15\\uc6d0\\ub3c4\", \"\\uac15\\uc6d0\\ub3c4\", \"\\uac15\\uc6d0\\ub3c4\", \"\\ucda9\\uccad\\ubd81\\ub3c4\", \"\\ucda9\\uccad\\ubd81\\ub3c4\", \"\\uacbd\\uc0c1\\ub0a8\\ub3c4\", \"\\uacbd\\uc0c1\\ub0a8\\ub3c4\", \"\\uacbd\\uc0c1\\ub0a8\\ub3c4\", \"\\ucda9\\uccad\\ubd81\\ub3c4\", \"\\ucda9\\uccad\\ubd81\\ub3c4\", \"\\uc804\\ub77c\\ub0a8\\ub3c4\", \"\\uc804\\ub77c\\ubd81\\ub3c4\", \"\\uacbd\\uc0c1\\ubd81\\ub3c4\", \"\\uc804\\ub77c\\ub0a8\\ub3c4\", \"\\uacbd\\uc0c1\\ub0a8\\ub3c4\", \"\\ucda9\\uccad\\ubd81\\ub3c4\", \"\\uacbd\\uc0c1\\ub0a8\\ub3c4\", \"\\uc11c\\uc6b8\\ud2b9\\ubcc4\\uc2dc\", \"\\uacbd\\uc0c1\\ubd81\\ub3c4\", \"\\uacbd\\uc0c1\\ubd81\\ub3c4\", \"\\uacbd\\uc0c1\\ubd81\\ub3c4\", \"\\uacbd\\uc0c1\\ub0a8\\ub3c4\", \"\\ucda9\\uccad\\ub0a8\\ub3c4\", \"\\uc804\\ub77c\\ub0a8\\ub3c4\", \"\\uacbd\\uc0c1\\ub0a8\\ub3c4\", \"\\uac15\\uc6d0\\ub3c4\", \"\\ubd80\\uc0b0\\uad11\\uc5ed\\uc2dc\", \"\\ucda9\\uccad\\ub0a8\\ub3c4\", \"\\uacbd\\uae30\\ub3c4\", \"\\ubd80\\uc0b0\\uad11\\uc5ed\\uc2dc\", \"\\uacbd\\uc0c1\\ubd81\\ub3c4\", \"\\uacbd\\uae30\\ub3c4\", \"\\uc804\\ub77c\\ub0a8\\ub3c4\", \"\\ub300\\uc804\\uad11\\uc5ed\\uc2dc\", \"\\ucda9\\uccad\\ubd81\\ub3c4\", \"\\uacbd\\uc0c1\\ub0a8\\ub3c4\", \"\\uc804\\ub77c\\ub0a8\\ub3c4\", \"\\ucda9\\uccad\\ub0a8\\ub3c4\", \"\\uad11\\uc8fc\\uad11\\uc5ed\\uc2dc\", \"\\ubd80\\uc0b0\\uad11\\uc5ed\\uc2dc\", \"\\uc804\\ub77c\\ubd81\\ub3c4\", \"\\uac15\\uc6d0\\ub3c4\", \"\\uacbd\\uae30\\ub3c4\", \"\\uacbd\\uae30\\ub3c4\", \"\\uac15\\uc6d0\\ub3c4\", \"\\ucda9\\uccad\\ubd81\\ub3c4\", \"\\uacbd\\uc0c1\\ub0a8\\ub3c4\", \"\\uacbd\\uc0c1\\ub0a8\\ub3c4\", \"\\uacbd\\uc0c1\\ub0a8\\ub3c4\", \"\\uc81c\\uc8fc\\ud2b9\\ubcc4\\uc790\\uce58\\ub3c4\", \"\\ucda9\\uccad\\ubd81\\ub3c4\", \"\\uac15\\uc6d0\\ub3c4\", \"\\ucda9\\uccad\\ubd81\\ub3c4\", \"\\ucda9\\uccad\\ub0a8\\ub3c4\", \"\\ub300\\uad6c\\uad11\\uc5ed\\uc2dc\", \"\\ubd80\\uc0b0\\uad11\\uc5ed\\uc2dc\", \"\\uacbd\\uc0c1\\ubd81\\ub3c4\", \"\\uc804\\ub77c\\ub0a8\\ub3c4\", \"\\ucda9\\uccad\\ubd81\\ub3c4\", \"\\uc81c\\uc8fc\\ud2b9\\ubcc4\\uc790\\uce58\\ub3c4\", \"\\uacbd\\uae30\\ub3c4\", \"\\uacbd\\uae30\\ub3c4\", \"\\ub300\\uad6c\\uad11\\uc5ed\\uc2dc\", \"\\ucda9\\uccad\\ubd81\\ub3c4\", \"\\uac15\\uc6d0\\ub3c4\", \"\\uacbd\\uae30\\ub3c4\", \"\\uad11\\uc8fc\\uad11\\uc5ed\\uc2dc\", \"\\uac15\\uc6d0\\ub3c4\", \"\\uc804\\ub77c\\ub0a8\\ub3c4\", \"\\uc11c\\uc6b8\\ud2b9\\ubcc4\\uc2dc\", \"\\ub300\\uad6c\\uad11\\uc5ed\\uc2dc\", \"\\uc804\\ub77c\\ubd81\\ub3c4\", \"\\uacbd\\uc0c1\\ub0a8\\ub3c4\", \"\\uacbd\\uae30\\ub3c4\", \"\\uc6b8\\uc0b0\\uad11\\uc5ed\\uc2dc\", \"\\uc804\\ub77c\\ubd81\\ub3c4\", \"\\uc81c\\uc8fc\\ud2b9\\ubcc4\\uc790\\uce58\\ub3c4\", \"\\uc804\\ub77c\\ub0a8\\ub3c4\", \"\\uc6b8\\uc0b0\\uad11\\uc5ed\\uc2dc\", \"\\uac15\\uc6d0\\ub3c4\", \"\\uacbd\\uae30\\ub3c4\", \"\\uacbd\\uc0c1\\ubd81\\ub3c4\", \"\\uacbd\\uc0c1\\ub0a8\\ub3c4\", \"\\uacbd\\uae30\\ub3c4\", \"\\uc81c\\uc8fc\\ud2b9\\ubcc4\\uc790\\uce58\\ub3c4\", \"\\uacbd\\uae30\\ub3c4\", \"\\ub300\\uc804\\uad11\\uc5ed\\uc2dc\", \"\\uacbd\\uc0c1\\ub0a8\\ub3c4\", \"\\uac15\\uc6d0\\ub3c4\", \"\\uad11\\uc8fc\\uad11\\uc5ed\\uc2dc\", \"\\uad11\\uc8fc\\uad11\\uc5ed\\uc2dc\", \"\\uad11\\uc8fc\\uad11\\uc5ed\\uc2dc\", \"\\uacbd\\uae30\\ub3c4\", \"\\uacbd\\uae30\\ub3c4\", \"\\ucda9\\uccad\\ubd81\\ub3c4\", \"\\uc6b8\\uc0b0\\uad11\\uc5ed\\uc2dc\", \"\\uc804\\ub77c\\ub0a8\\ub3c4\", \"\\uc81c\\uc8fc\\ud2b9\\ubcc4\\uc790\\uce58\\ub3c4\", \"\\uac15\\uc6d0\\ub3c4\", \"\\ubd80\\uc0b0\\uad11\\uc5ed\\uc2dc\", \"\\ucda9\\uccad\\ubd81\\ub3c4\", \"\\uac15\\uc6d0\\ub3c4\"], \"xaxis\": \"x\", \"y\": [\"C2515\", \"C1470\", \"C1898\", \"C2073\", \"C1936\", \"C2202\", \"C1925\", \"C2576\", \"C1312\", \"C1874\", \"C2650\", \"C2416\", \"C2013\", \"C1424\", \"C2621\", \"C2520\", \"C2319\", \"C1616\", \"C1704\", \"C2258\", \"C1032\", \"C2038\", \"C1859\", \"C1850\", \"C2190\", \"C1476\", \"C1077\", \"C1068\", \"C1983\", \"C2135\", \"C2034\", \"C1109\", \"C1497\", \"C2289\", \"C2597\", \"C2310\", \"C2132\", \"C1439\", \"C1613\", \"C2216\", \"C1899\", \"C1056\", \"C2644\", \"C1206\", \"C2481\", \"C1718\", \"C1655\", \"C1775\", \"C1519\", \"C2221\", \"C1790\", \"C2109\", \"C1698\", \"C1866\", \"C1005\", \"C1004\", \"C1875\", \"C2156\", \"C2212\", \"C2401\", \"C2571\", \"C1175\", \"C2445\", \"C2368\", \"C2016\", \"C2371\", \"C2536\", \"C1867\", \"C2326\", \"C1015\", \"C1668\", \"C1234\", \"C1057\", \"C2336\", \"C1026\", \"C2256\", \"C1900\", \"C1642\", \"C2232\", \"C1973\", \"C2133\", \"C2096\", \"C1213\", \"C2492\", \"C2094\", \"C2089\", \"C2635\", \"C2390\", \"C2561\", \"C2490\", \"C2066\", \"C1155\", \"C2518\", \"C1962\", \"C1666\", \"C1988\", \"C1329\", \"C1762\", \"C2008\", \"C1319\", \"C2340\", \"C1929\", \"C1681\", \"C1184\", \"C1638\", \"C2412\", \"C1871\", \"C1309\", \"C2596\", \"C2227\", \"C2563\", \"C1492\", \"C1601\", \"C1687\", \"C1487\", \"C1379\", \"C1656\", \"C2526\", \"C1022\", \"C2188\", \"C2651\", \"C2527\", \"C1502\", \"C2262\", \"C1084\", \"C2530\", \"C1046\", \"C1102\", \"C2420\", \"C1641\", \"C1706\", \"C1307\", \"C2601\", \"C1085\", \"C2385\", \"C1059\", \"C2162\", \"C1819\", \"C2325\", \"C2394\", \"C1281\", \"C1194\", \"C2308\", \"C2036\", \"C1394\", \"C1180\", \"C2503\", \"C1907\", \"C1783\", \"C2192\", \"C2346\", \"C2680\", \"C2141\", \"C1569\", \"C2099\", \"C2287\", \"C1428\", \"C2560\", \"C2068\", \"C2603\", \"C1965\", \"C1660\", \"C1994\", \"C1837\", \"C1000\", \"C1465\", \"C1516\", \"C2670\", \"C1360\", \"C1566\", \"C2486\", \"C2106\", \"C1572\", \"C1344\", \"C2692\", \"C2505\", \"C2587\", \"C2127\", \"C1316\", \"C1674\", \"C1713\", \"C1845\", \"C2357\", \"C2255\", \"C1343\", \"C1987\", \"C1426\", \"C2659\", \"C2211\", \"C2314\", \"C2389\", \"C1788\", \"C1089\", \"C2237\", \"C1341\", \"C1338\", \"C1340\", \"C1455\", \"C1095\", \"C2450\", \"C1834\", \"C1402\", \"C1027\", \"C2377\", \"C2431\", \"C2661\", \"C1263\", \"C2605\", \"C1673\", \"C2539\", \"C1301\", \"C1757\", \"C1163\", \"C2627\", \"C2040\", \"C2609\", \"C2001\", \"C1048\", \"C1210\", \"C1685\", \"C1968\", \"C2453\", \"C1659\", \"C1786\", \"C2570\", \"C1652\", \"C1565\", \"C1910\", \"C2139\", \"C1979\", \"C1803\", \"C2508\", \"C2531\", \"C1695\", \"C2556\", \"C2154\", \"C2362\", \"C2568\", \"C2245\", \"C2059\", \"C2549\", \"C1584\", \"C2298\", \"C2225\", \"C1045\", \"C1207\", \"C1970\", \"C1732\", \"C2433\", \"C1894\", \"C1156\", \"C2142\", \"C2153\", \"C2586\", \"C2035\", \"C2020\", \"C2437\", \"C2532\"], \"yaxis\": \"y\"}],\n",
              "                        {\"barmode\": \"relative\", \"legend\": {\"tracegroupgap\": 0}, \"margin\": {\"t\": 60}, \"template\": {\"data\": {\"bar\": [{\"error_x\": {\"color\": \"#2a3f5f\"}, \"error_y\": {\"color\": \"#2a3f5f\"}, \"marker\": {\"line\": {\"color\": \"#E5ECF6\", \"width\": 0.5}}, \"type\": \"bar\"}], \"barpolar\": [{\"marker\": {\"line\": {\"color\": \"#E5ECF6\", \"width\": 0.5}}, \"type\": \"barpolar\"}], \"carpet\": [{\"aaxis\": {\"endlinecolor\": \"#2a3f5f\", \"gridcolor\": \"white\", \"linecolor\": \"white\", \"minorgridcolor\": \"white\", \"startlinecolor\": \"#2a3f5f\"}, \"baxis\": {\"endlinecolor\": \"#2a3f5f\", \"gridcolor\": \"white\", \"linecolor\": \"white\", \"minorgridcolor\": \"white\", \"startlinecolor\": \"#2a3f5f\"}, \"type\": \"carpet\"}], \"choropleth\": [{\"colorbar\": {\"outlinewidth\": 0, \"ticks\": \"\"}, \"type\": \"choropleth\"}], \"contour\": [{\"colorbar\": {\"outlinewidth\": 0, \"ticks\": \"\"}, \"colorscale\": [[0.0, \"#0d0887\"], [0.1111111111111111, \"#46039f\"], [0.2222222222222222, \"#7201a8\"], [0.3333333333333333, \"#9c179e\"], [0.4444444444444444, \"#bd3786\"], [0.5555555555555556, \"#d8576b\"], [0.6666666666666666, \"#ed7953\"], [0.7777777777777778, \"#fb9f3a\"], [0.8888888888888888, \"#fdca26\"], [1.0, \"#f0f921\"]], \"type\": \"contour\"}], \"contourcarpet\": [{\"colorbar\": {\"outlinewidth\": 0, \"ticks\": \"\"}, \"type\": \"contourcarpet\"}], \"heatmap\": [{\"colorbar\": {\"outlinewidth\": 0, \"ticks\": \"\"}, \"colorscale\": [[0.0, \"#0d0887\"], [0.1111111111111111, \"#46039f\"], [0.2222222222222222, \"#7201a8\"], [0.3333333333333333, \"#9c179e\"], [0.4444444444444444, \"#bd3786\"], [0.5555555555555556, \"#d8576b\"], [0.6666666666666666, \"#ed7953\"], [0.7777777777777778, \"#fb9f3a\"], [0.8888888888888888, \"#fdca26\"], [1.0, \"#f0f921\"]], \"type\": \"heatmap\"}], \"heatmapgl\": [{\"colorbar\": {\"outlinewidth\": 0, \"ticks\": \"\"}, \"colorscale\": [[0.0, \"#0d0887\"], [0.1111111111111111, \"#46039f\"], [0.2222222222222222, \"#7201a8\"], [0.3333333333333333, \"#9c179e\"], [0.4444444444444444, \"#bd3786\"], [0.5555555555555556, \"#d8576b\"], [0.6666666666666666, \"#ed7953\"], [0.7777777777777778, \"#fb9f3a\"], [0.8888888888888888, \"#fdca26\"], [1.0, \"#f0f921\"]], \"type\": \"heatmapgl\"}], \"histogram\": [{\"marker\": {\"colorbar\": {\"outlinewidth\": 0, \"ticks\": \"\"}}, \"type\": \"histogram\"}], \"histogram2d\": [{\"colorbar\": {\"outlinewidth\": 0, \"ticks\": \"\"}, \"colorscale\": [[0.0, \"#0d0887\"], [0.1111111111111111, \"#46039f\"], [0.2222222222222222, \"#7201a8\"], [0.3333333333333333, \"#9c179e\"], [0.4444444444444444, \"#bd3786\"], [0.5555555555555556, \"#d8576b\"], [0.6666666666666666, \"#ed7953\"], [0.7777777777777778, \"#fb9f3a\"], [0.8888888888888888, \"#fdca26\"], [1.0, \"#f0f921\"]], \"type\": \"histogram2d\"}], \"histogram2dcontour\": [{\"colorbar\": {\"outlinewidth\": 0, \"ticks\": \"\"}, \"colorscale\": [[0.0, \"#0d0887\"], [0.1111111111111111, \"#46039f\"], [0.2222222222222222, \"#7201a8\"], [0.3333333333333333, \"#9c179e\"], [0.4444444444444444, \"#bd3786\"], [0.5555555555555556, \"#d8576b\"], [0.6666666666666666, \"#ed7953\"], [0.7777777777777778, \"#fb9f3a\"], [0.8888888888888888, \"#fdca26\"], [1.0, \"#f0f921\"]], \"type\": \"histogram2dcontour\"}], \"mesh3d\": [{\"colorbar\": {\"outlinewidth\": 0, \"ticks\": \"\"}, \"type\": \"mesh3d\"}], \"parcoords\": [{\"line\": {\"colorbar\": {\"outlinewidth\": 0, \"ticks\": \"\"}}, \"type\": \"parcoords\"}], \"pie\": [{\"automargin\": true, \"type\": \"pie\"}], \"scatter\": [{\"marker\": {\"colorbar\": {\"outlinewidth\": 0, \"ticks\": \"\"}}, \"type\": \"scatter\"}], \"scatter3d\": [{\"line\": {\"colorbar\": {\"outlinewidth\": 0, \"ticks\": \"\"}}, \"marker\": {\"colorbar\": {\"outlinewidth\": 0, \"ticks\": \"\"}}, \"type\": \"scatter3d\"}], \"scattercarpet\": [{\"marker\": {\"colorbar\": {\"outlinewidth\": 0, \"ticks\": \"\"}}, \"type\": \"scattercarpet\"}], \"scattergeo\": [{\"marker\": {\"colorbar\": {\"outlinewidth\": 0, \"ticks\": \"\"}}, \"type\": \"scattergeo\"}], \"scattergl\": [{\"marker\": {\"colorbar\": {\"outlinewidth\": 0, \"ticks\": \"\"}}, \"type\": \"scattergl\"}], \"scattermapbox\": [{\"marker\": {\"colorbar\": {\"outlinewidth\": 0, \"ticks\": \"\"}}, \"type\": \"scattermapbox\"}], \"scatterpolar\": [{\"marker\": {\"colorbar\": {\"outlinewidth\": 0, \"ticks\": \"\"}}, \"type\": \"scatterpolar\"}], \"scatterpolargl\": [{\"marker\": {\"colorbar\": {\"outlinewidth\": 0, \"ticks\": \"\"}}, \"type\": \"scatterpolargl\"}], \"scatterternary\": [{\"marker\": {\"colorbar\": {\"outlinewidth\": 0, \"ticks\": \"\"}}, \"type\": \"scatterternary\"}], \"surface\": [{\"colorbar\": {\"outlinewidth\": 0, \"ticks\": \"\"}, \"colorscale\": [[0.0, \"#0d0887\"], [0.1111111111111111, \"#46039f\"], [0.2222222222222222, \"#7201a8\"], [0.3333333333333333, \"#9c179e\"], [0.4444444444444444, \"#bd3786\"], [0.5555555555555556, \"#d8576b\"], [0.6666666666666666, \"#ed7953\"], [0.7777777777777778, \"#fb9f3a\"], [0.8888888888888888, \"#fdca26\"], [1.0, \"#f0f921\"]], \"type\": \"surface\"}], \"table\": [{\"cells\": {\"fill\": {\"color\": \"#EBF0F8\"}, \"line\": {\"color\": \"white\"}}, \"header\": {\"fill\": {\"color\": \"#C8D4E3\"}, \"line\": {\"color\": \"white\"}}, \"type\": \"table\"}]}, \"layout\": {\"annotationdefaults\": {\"arrowcolor\": \"#2a3f5f\", \"arrowhead\": 0, \"arrowwidth\": 1}, \"coloraxis\": {\"colorbar\": {\"outlinewidth\": 0, \"ticks\": \"\"}}, \"colorscale\": {\"diverging\": [[0, \"#8e0152\"], [0.1, \"#c51b7d\"], [0.2, \"#de77ae\"], [0.3, \"#f1b6da\"], [0.4, \"#fde0ef\"], [0.5, \"#f7f7f7\"], [0.6, \"#e6f5d0\"], [0.7, \"#b8e186\"], [0.8, \"#7fbc41\"], [0.9, \"#4d9221\"], [1, \"#276419\"]], \"sequential\": [[0.0, \"#0d0887\"], [0.1111111111111111, \"#46039f\"], [0.2222222222222222, \"#7201a8\"], [0.3333333333333333, \"#9c179e\"], [0.4444444444444444, \"#bd3786\"], [0.5555555555555556, \"#d8576b\"], [0.6666666666666666, \"#ed7953\"], [0.7777777777777778, \"#fb9f3a\"], [0.8888888888888888, \"#fdca26\"], [1.0, \"#f0f921\"]], \"sequentialminus\": [[0.0, \"#0d0887\"], [0.1111111111111111, \"#46039f\"], [0.2222222222222222, \"#7201a8\"], [0.3333333333333333, \"#9c179e\"], [0.4444444444444444, \"#bd3786\"], [0.5555555555555556, \"#d8576b\"], [0.6666666666666666, \"#ed7953\"], [0.7777777777777778, \"#fb9f3a\"], [0.8888888888888888, \"#fdca26\"], [1.0, \"#f0f921\"]]}, \"colorway\": [\"#636efa\", \"#EF553B\", \"#00cc96\", \"#ab63fa\", \"#FFA15A\", \"#19d3f3\", \"#FF6692\", \"#B6E880\", \"#FF97FF\", \"#FECB52\"], \"font\": {\"color\": \"#2a3f5f\"}, \"geo\": {\"bgcolor\": \"white\", \"lakecolor\": \"white\", \"landcolor\": \"#E5ECF6\", \"showlakes\": true, \"showland\": true, \"subunitcolor\": \"white\"}, \"hoverlabel\": {\"align\": \"left\"}, \"hovermode\": \"closest\", \"mapbox\": {\"style\": \"light\"}, \"paper_bgcolor\": \"white\", \"plot_bgcolor\": \"#E5ECF6\", \"polar\": {\"angularaxis\": {\"gridcolor\": \"white\", \"linecolor\": \"white\", \"ticks\": \"\"}, \"bgcolor\": \"#E5ECF6\", \"radialaxis\": {\"gridcolor\": \"white\", \"linecolor\": \"white\", \"ticks\": \"\"}}, \"scene\": {\"xaxis\": {\"backgroundcolor\": \"#E5ECF6\", \"gridcolor\": \"white\", \"gridwidth\": 2, \"linecolor\": \"white\", \"showbackground\": true, \"ticks\": \"\", \"zerolinecolor\": \"white\"}, \"yaxis\": {\"backgroundcolor\": \"#E5ECF6\", \"gridcolor\": \"white\", \"gridwidth\": 2, \"linecolor\": \"white\", \"showbackground\": true, \"ticks\": \"\", \"zerolinecolor\": \"white\"}, \"zaxis\": {\"backgroundcolor\": \"#E5ECF6\", \"gridcolor\": \"white\", \"gridwidth\": 2, \"linecolor\": \"white\", \"showbackground\": true, \"ticks\": \"\", \"zerolinecolor\": \"white\"}}, \"shapedefaults\": {\"line\": {\"color\": \"#2a3f5f\"}}, \"ternary\": {\"aaxis\": {\"gridcolor\": \"white\", \"linecolor\": \"white\", \"ticks\": \"\"}, \"baxis\": {\"gridcolor\": \"white\", \"linecolor\": \"white\", \"ticks\": \"\"}, \"bgcolor\": \"#E5ECF6\", \"caxis\": {\"gridcolor\": \"white\", \"linecolor\": \"white\", \"ticks\": \"\"}}, \"title\": {\"x\": 0.05}, \"xaxis\": {\"automargin\": true, \"gridcolor\": \"white\", \"linecolor\": \"white\", \"ticks\": \"\", \"title\": {\"standoff\": 15}, \"zerolinecolor\": \"white\", \"zerolinewidth\": 2}, \"yaxis\": {\"automargin\": true, \"gridcolor\": \"white\", \"linecolor\": \"white\", \"ticks\": \"\", \"title\": {\"standoff\": 15}, \"zerolinecolor\": \"white\", \"zerolinewidth\": 2}}}, \"title\": {\"text\": \"\\uc9c0\\uc5ed\\ubcc4 \\ub4f1\\ub85d\\ucc28\\ub7c9\\uc218\\ud30c\\uc545(600\\ub300 \\uc774\\uc0c1,\\uc774\\ud558) \\ub2e8\\uc9c0\\uac1c\\uc218\"}, \"xaxis\": {\"anchor\": \"y\", \"domain\": [0.0, 1.0], \"title\": {\"text\": \"\\uc9c0\\uc5ed\"}}, \"yaxis\": {\"anchor\": \"x\", \"domain\": [0.0, 1.0], \"title\": {\"text\": \"count of \\ub2e8\\uc9c0\\ucf54\\ub4dc\"}}},\n",
              "                        {\"responsive\": true}\n",
              "                    ).then(function(){\n",
              "                            \n",
              "var gd = document.getElementById('2fa75010-ad22-4c52-b56f-610b664523eb');\n",
              "var x = new MutationObserver(function (mutations, observer) {{\n",
              "        var display = window.getComputedStyle(gd).display;\n",
              "        if (!display || display === 'none') {{\n",
              "            console.log([gd, 'removed!']);\n",
              "            Plotly.purge(gd);\n",
              "            observer.disconnect();\n",
              "        }}\n",
              "}});\n",
              "\n",
              "// Listen for the removal of the full notebook cells\n",
              "var notebookContainer = gd.closest('#notebook-container');\n",
              "if (notebookContainer) {{\n",
              "    x.observe(notebookContainer, {childList: true});\n",
              "}}\n",
              "\n",
              "// Listen for the clearing of the current output cell\n",
              "var outputEl = gd.closest('.output');\n",
              "if (outputEl) {{\n",
              "    x.observe(outputEl, {childList: true});\n",
              "}}\n",
              "\n",
              "                        })\n",
              "                };\n",
              "                \n",
              "            </script>\n",
              "        </div>\n",
              "</body>\n",
              "</html>"
            ]
          },
          "metadata": {}
        }
      ]
    },
    {
      "cell_type": "markdown",
      "metadata": {
        "id": "o8oYMGlgVrzK"
      },
      "source": [
        "위 그래프를 통해서도 서울특별시, 경기도, 광주광역시등이 600대 이후부터가 더 많은 양상을 보이나 이것은 우연히 나왔을 경우가 큼  "
      ]
    },
    {
      "cell_type": "markdown",
      "metadata": {
        "id": "cJuNricJYIRv"
      },
      "source": [
        "### 공급유형\n",
        "\n",
        "- 결과\n",
        "    - 신공급유형(유형1, 유형2 추가) 컬럼 추가, 기존 공급유형 컬럼 삭제  \n",
        "    - 기존 공급유형중 행복주택, 영구임대는 자산보유제한, 자동차유무기준 등 자동차와 관련되어 있는 기준이 존재함. \n",
        "\n",
        "- 문제\n",
        "    - (가설)공급유형별로 등록차량수가 유의미한 차이를 보이는가?\n"
      ]
    },
    {
      "cell_type": "code",
      "metadata": {
        "id": "NETYB7rnYHhj"
      },
      "source": [
        "temp = raw_train_lentType_loc.drop_duplicates('단지코드', keep='first')"
      ],
      "execution_count": 260,
      "outputs": []
    },
    {
      "cell_type": "code",
      "metadata": {
        "colab": {
          "base_uri": "https://localhost:8080/"
        },
        "id": "9gwjSO8oYXjw",
        "outputId": "0c791d02-e67e-4e2e-9175-818026461236"
      },
      "source": [
        "temp['공급유형'].value_counts()"
      ],
      "execution_count": 261,
      "outputs": [
        {
          "output_type": "execute_result",
          "data": {
            "text/plain": [
              "국민임대         312\n",
              "공공임대(10년)     36\n",
              "영구임대          31\n",
              "행복주택          29\n",
              "공공임대(50년)     11\n",
              "장기전세           2\n",
              "공공분양           1\n",
              "공공임대(5년)       1\n",
              "Name: 공급유형, dtype: int64"
            ]
          },
          "metadata": {},
          "execution_count": 261
        }
      ]
    },
    {
      "cell_type": "markdown",
      "metadata": {
        "id": "_rgghc5EYiOM"
      },
      "source": [
        "국민임대가 압도적으로 많은 것을 파악할 수 있음"
      ]
    },
    {
      "cell_type": "code",
      "metadata": {
        "colab": {
          "base_uri": "https://localhost:8080/",
          "height": 542
        },
        "id": "o6cb17mHYhg4",
        "outputId": "730d2583-556f-4edc-ef97-89bc3be24594"
      },
      "source": [
        "fig = go.Figure()\n",
        "fig = px.histogram(temp, x='등록차량수', y = '단지코드', color='공급유형',\n",
        "                            color_discrete_sequence=px.colors.qualitative.Alphabet)\n",
        "fig.update_layout(title='상가유무에 따른 총세대수, 단지내주차면수 분포') #autosize =, width = 1000, height = 500)"
      ],
      "execution_count": 262,
      "outputs": [
        {
          "output_type": "display_data",
          "data": {
            "text/html": [
              "<html>\n",
              "<head><meta charset=\"utf-8\" /></head>\n",
              "<body>\n",
              "    <div>\n",
              "            <script src=\"https://cdnjs.cloudflare.com/ajax/libs/mathjax/2.7.5/MathJax.js?config=TeX-AMS-MML_SVG\"></script><script type=\"text/javascript\">if (window.MathJax) {MathJax.Hub.Config({SVG: {font: \"STIX-Web\"}});}</script>\n",
              "                <script type=\"text/javascript\">window.PlotlyConfig = {MathJaxConfig: 'local'};</script>\n",
              "        <script src=\"https://cdn.plot.ly/plotly-latest.min.js\"></script>    \n",
              "            <div id=\"148af055-98f3-444d-aa9b-d61a8fd0fd44\" class=\"plotly-graph-div\" style=\"height:525px; width:100%;\"></div>\n",
              "            <script type=\"text/javascript\">\n",
              "                \n",
              "                    window.PLOTLYENV=window.PLOTLYENV || {};\n",
              "                    \n",
              "                if (document.getElementById(\"148af055-98f3-444d-aa9b-d61a8fd0fd44\")) {\n",
              "                    Plotly.newPlot(\n",
              "                        '148af055-98f3-444d-aa9b-d61a8fd0fd44',\n",
              "                        [{\"alignmentgroup\": \"True\", \"bingroup\": \"x\", \"hoverlabel\": {\"namelength\": 0}, \"hovertemplate\": \"\\uacf5\\uae09\\uc720\\ud615=\\uad6d\\ubbfc\\uc784\\ub300<br>\\ub4f1\\ub85d\\ucc28\\ub7c9\\uc218=%{x}<br>count of \\ub2e8\\uc9c0\\ucf54\\ub4dc=%{y}\", \"legendgroup\": \"\\uacf5\\uae09\\uc720\\ud615=\\uad6d\\ubbfc\\uc784\\ub300\", \"marker\": {\"color\": \"#AA0DFE\"}, \"name\": \"\\uacf5\\uae09\\uc720\\ud615=\\uad6d\\ubbfc\\uc784\\ub300\", \"offsetgroup\": \"\\uacf5\\uae09\\uc720\\ud615=\\uad6d\\ubbfc\\uc784\\ub300\", \"orientation\": \"v\", \"showlegend\": true, \"type\": \"histogram\", \"x\": [1015.0, 205.0, 1064.0, 730.0, 553.0, 415.0, 1804.0, 700.0, 301.0, 820.0, 234.0, 841.0, 73.0, 359.0, 159.0, 91.0, 671.0, 266.0, 316.0, 236.0, 510.0, 873.0, 498.0, 302.0, 496.0, 236.0, 839.0, 235.0, 135.0, 376.0, 204.0, 19.0, 430.0, 1001.0, 334.0, 616.0, 548.0, 220.0, 451.0, 47.0, 799.0, 708.0, 739.0, 374.0, 557.0, 579.0, 1101.0, 762.0, 795.0, 995.0, 288.0, 960.0, 311.0, 648.0, 861.0, 521.0, 562.0, 422.0, 344.0, 596.0, 701.0, 1117.0, 297.0, 1665.0, 248.0, 457.0, 910.0, 826.0, 328.0, 525.0, 690.0, 713.0, 1019.0, 810.0, 148.0, 609.0, 585.0, 1162.0, 318.0, 761.0, 572.0, 979.0, 1306.0, 1398.0, 442.0, 422.0, 441.0, 700.0, 340.0, 503.0, 718.0, 1159.0, 373.0, 1087.0, 808.0, 305.0, 401.0, 465.0, 402.0, 669.0, 554.0, 460.0, 548.0, 398.0, 620.0, 413.0, 520.0, 488.0, 832.0, 1158.0, 745.0, 831.0, 413.0, 487.0, 408.0, 446.0, 1150.0, 840.0, 709.0, 480.0, 505.0, 449.0, 1010.0, 296.0, 308.0, 349.0, 657.0, 505.0, 294.0, 1145.0, 257.0, 321.0, 450.0, 845.0, 643.0, 752.0, 735.0, 639.0, 902.0, 632.0, 125.0, 282.0, 1279.0, 782.0, 375.0, 438.0, 540.0, 226.0, 302.0, 156.0, 730.0, 417.0, 505.0, 1077.0, 757.0, 754.0, 815.0, 268.0, 362.0, 504.0, 281.0, 521.0, 552.0, 246.0, 347.0, 272.0, 293.0, 254.0, 842.0, 484.0, 585.0, 244.0, 258.0, 271.0, 311.0, 327.0, 207.0, 683.0, 670.0, 570.0, 324.0, 553.0, 590.0, 638.0, 495.0, 528.0, 383.0, 284.0, 723.0, 333.0, 610.0, 481.0, 594.0, 509.0, 500.0, 512.0, 901.0, 934.0, 496.0, 398.0, 481.0, 557.0, 1284.0, 475.0, 435.0, 945.0, 1044.0, 375.0, 1023.0, 1350.0, 284.0, 823.0, 793.0, 587.0, 353.0, 479.0, 614.0, 1101.0, 652.0, 437.0, 163.0, 589.0, 403.0, 22.0, 322.0, 566.0, 277.0, 822.0, 770.0, 345.0, 1090.0, 410.0, 549.0, 166.0, 647.0, 793.0, 1084.0, 682.0, 733.0, 262.0, 365.0, 950.0, 244.0, 343.0, 613.0, 561.0, 309.0, 55.0, 442.0, 551.0, 886.0, 713.0, 606.0, 870.0, 410.0, 800.0, 420.0, 505.0, 752.0, 630.0, 982.0, 652.0, 451.0, 821.0, 255.0, 787.0, 207.0, 579.0, 359.0, 330.0, 217.0, 763.0, 572.0, 922.0, 526.0, 1246.0, 228.0, 712.0, 202.0, 1832.0, 508.0, 763.0, 326.0, 404.0, 555.0, 417.0, 1255.0, 2550.0, 751.0, 243.0, 924.0, 1153.0, 783.0, 1044.0, 220.0, 616.0, 559.0, 701.0, 1896.0, 693.0, 155.0, 568.0, 358.0, 148.0, 124.0, 266.0, 396.0, 280.0, 744.0, 619.0, 246.0, 146.0], \"xaxis\": \"x\", \"y\": [\"C2483\", \"C2515\", \"C1407\", \"C1945\", \"C1470\", \"C1898\", \"C1244\", \"C1171\", \"C2073\", \"C2513\", \"C1936\", \"C2049\", \"C2576\", \"C1312\", \"C2650\", \"C2013\", \"C2100\", \"C2319\", \"C1032\", \"C1077\", \"C1068\", \"C1672\", \"C1613\", \"C2481\", \"C1718\", \"C1655\", \"C1430\", \"C1519\", \"C1866\", \"C1005\", \"C2156\", \"C2401\", \"C1175\", \"C1833\", \"C2445\", \"C1885\", \"C2368\", \"C2016\", \"C2371\", \"C2536\", \"C2538\", \"C1014\", \"C1592\", \"C1867\", \"C2326\", \"C1015\", \"C1620\", \"C1049\", \"C2000\", \"C2097\", \"C1668\", \"C1689\", \"C1234\", \"C2514\", \"C1368\", \"C1057\", \"C2336\", \"C1026\", \"C2256\", \"C1900\", \"C2666\", \"C2361\", \"C1642\", \"C1013\", \"C2232\", \"C1973\", \"C2458\", \"C2574\", \"C2133\", \"C2096\", \"C2010\", \"C1879\", \"C1131\", \"C1468\", \"C1213\", \"C1173\", \"C2492\", \"C2032\", \"C2094\", \"C1880\", \"C2089\", \"C1744\", \"C2046\", \"C2071\", \"C2635\", \"C2390\", \"C2561\", \"C1663\", \"C2490\", \"C2066\", \"C1585\", \"C2276\", \"C1155\", \"C1693\", \"C1889\", \"C2518\", \"C1962\", \"C1666\", \"C1988\", \"C1537\", \"C1329\", \"C1762\", \"C2008\", \"C1319\", \"C1141\", \"C1929\", \"C1681\", \"C1184\", \"C2383\", \"C1579\", \"C2173\", \"C1911\", \"C1638\", \"C2412\", \"C1871\", \"C1309\", \"C1527\", \"C2208\", \"C1940\", \"C2596\", \"C2227\", \"C2563\", \"C2358\", \"C1492\", \"C1601\", \"C1687\", \"C1236\", \"C1487\", \"C1379\", \"C1386\", \"C1656\", \"C2526\", \"C1022\", \"C1896\", \"C1269\", \"C1916\", \"C2070\", \"C1967\", \"C2021\", \"C1143\", \"C2188\", \"C2651\", \"C1036\", \"C2657\", \"C2527\", \"C1502\", \"C2262\", \"C1084\", \"C2530\", \"C1046\", \"C1761\", \"C1102\", \"C2420\", \"C1122\", \"C2042\", \"C1375\", \"C1410\", \"C1641\", \"C1706\", \"C1307\", \"C2601\", \"C1085\", \"C2385\", \"C1059\", \"C2162\", \"C1819\", \"C2325\", \"C2394\", \"C1133\", \"C1281\", \"C1194\", \"C2308\", \"C2036\", \"C1394\", \"C1180\", \"C2503\", \"C1907\", \"C2181\", \"C1768\", \"C1783\", \"C2192\", \"C2346\", \"C2680\", \"C2631\", \"C2141\", \"C1569\", \"C2099\", \"C2287\", \"C2055\", \"C1428\", \"C2522\", \"C2560\", \"C2068\", \"C2603\", \"C1965\", \"C1660\", \"C2378\", \"C1268\", \"C1994\", \"C1837\", \"C1000\", \"C1465\", \"C1448\", \"C1516\", \"C2670\", \"C1365\", \"C1177\", \"C1360\", \"C2488\", \"C1406\", \"C1566\", \"C1227\", \"C2460\", \"C2486\", \"C2106\", \"C1572\", \"C1773\", \"C1677\", \"C1823\", \"C2692\", \"C2505\", \"C2587\", \"C2127\", \"C1316\", \"C1674\", \"C1713\", \"C1845\", \"C2082\", \"C1328\", \"C2357\", \"C2565\", \"C2255\", \"C1343\", \"C1987\", \"C2479\", \"C2352\", \"C1310\", \"C1738\", \"C1863\", \"C1426\", \"C2659\", \"C2489\", \"C2211\", \"C2314\", \"C1861\", \"C2389\", \"C1089\", \"C2237\", \"C1341\", \"C1338\", \"C1969\", \"C2274\", \"C1699\", \"C2251\", \"C1340\", \"C2373\", \"C1455\", \"C1095\", \"C2137\", \"C1985\", \"C2583\", \"C2663\", \"C2450\", \"C2329\", \"C1834\", \"C1103\", \"C1027\", \"C2377\", \"C2431\", \"C2661\", \"C1263\", \"C1136\", \"C2605\", \"C2393\", \"C1673\", \"C1017\", \"C2539\", \"C2316\", \"C1301\", \"C2612\", \"C1757\", \"C2507\", \"C1163\", \"C2627\", \"C2609\", \"C2001\", \"C1065\", \"C1363\", \"C2579\", \"C1048\", \"C1320\", \"C1326\", \"C2618\", \"C1451\", \"C1968\", \"C1258\", \"C2453\", \"C1724\", \"C1939\", \"C2359\", \"C2139\", \"C2508\", \"C2531\", \"C2556\", \"C2154\", \"C1045\", \"C2142\", \"C2153\", \"C2186\", \"C1176\", \"C2035\", \"C2532\"], \"yaxis\": \"y\"}, {\"alignmentgroup\": \"True\", \"bingroup\": \"x\", \"hoverlabel\": {\"namelength\": 0}, \"hovertemplate\": \"\\uacf5\\uae09\\uc720\\ud615=\\uacf5\\uacf5\\uc784\\ub300(50\\ub144)<br>\\ub4f1\\ub85d\\ucc28\\ub7c9\\uc218=%{x}<br>count of \\ub2e8\\uc9c0\\ucf54\\ub4dc=%{y}\", \"legendgroup\": \"\\uacf5\\uae09\\uc720\\ud615=\\uacf5\\uacf5\\uc784\\ub300(50\\ub144)\", \"marker\": {\"color\": \"#3283FE\"}, \"name\": \"\\uacf5\\uae09\\uc720\\ud615=\\uacf5\\uacf5\\uc784\\ub300(50\\ub144)\", \"offsetgroup\": \"\\uacf5\\uae09\\uc720\\ud615=\\uacf5\\uacf5\\uc784\\ub300(50\\ub144)\", \"orientation\": \"v\", \"showlegend\": true, \"type\": \"histogram\", \"x\": [226.0, 179.0, 386.0, 649.0, 254.0, 253.0, 382.0, 149.0, 177.0, 359.0, 382.0], \"xaxis\": \"x\", \"y\": [\"C2202\", \"C1424\", \"C2520\", \"C1722\", \"C1850\", \"C1983\", \"C1497\", \"C2216\", \"C2644\", \"C2221\", \"C2340\"], \"yaxis\": \"y\"}, {\"alignmentgroup\": \"True\", \"bingroup\": \"x\", \"hoverlabel\": {\"namelength\": 0}, \"hovertemplate\": \"\\uacf5\\uae09\\uc720\\ud615=\\uc601\\uad6c\\uc784\\ub300<br>\\ub4f1\\ub85d\\ucc28\\ub7c9\\uc218=%{x}<br>count of \\ub2e8\\uc9c0\\ucf54\\ub4dc=%{y}\", \"legendgroup\": \"\\uacf5\\uae09\\uc720\\ud615=\\uc601\\uad6c\\uc784\\ub300\", \"marker\": {\"color\": \"#85660D\"}, \"name\": \"\\uacf5\\uae09\\uc720\\ud615=\\uc601\\uad6c\\uc784\\ub300\", \"offsetgroup\": \"\\uacf5\\uae09\\uc720\\ud615=\\uc601\\uad6c\\uc784\\ub300\", \"orientation\": \"v\", \"showlegend\": true, \"type\": \"histogram\", \"x\": [75.0, 62.0, 63.0, 133.0, 98.0, 131.0, 78.0, 108.0, 116.0, 129.0, 70.0, 127.0, 132.0, 313.0, 364.0, 94.0, 189.0, 359.0, 172.0, 31.0, 125.0, 90.0, 96.0, 120.0, 60.0, 65.0, 93.0, 209.0, 86.0, 62.0, 16.0], \"xaxis\": \"x\", \"y\": [\"C1925\", \"C1874\", \"C2416\", \"C2621\", \"C1616\", \"C1704\", \"C2258\", \"C2038\", \"C1859\", \"C2190\", \"C1476\", \"C2135\", \"C2034\", \"C1109\", \"C2289\", \"C2597\", \"C2310\", \"C2132\", \"C1439\", \"C1899\", \"C1056\", \"C1206\", \"C1775\", \"C1790\", \"C2109\", \"C1698\", \"C1004\", \"C1875\", \"C2212\", \"C2571\", \"C2437\"], \"yaxis\": \"y\"}, {\"alignmentgroup\": \"True\", \"bingroup\": \"x\", \"hoverlabel\": {\"namelength\": 0}, \"hovertemplate\": \"\\uacf5\\uae09\\uc720\\ud615=\\uacf5\\uacf5\\uc784\\ub300(10\\ub144)<br>\\ub4f1\\ub85d\\ucc28\\ub7c9\\uc218=%{x}<br>count of \\ub2e8\\uc9c0\\ucf54\\ub4dc=%{y}\", \"legendgroup\": \"\\uacf5\\uae09\\uc720\\ud615=\\uacf5\\uacf5\\uc784\\ub300(10\\ub144)\", \"marker\": {\"color\": \"#782AB6\"}, \"name\": \"\\uacf5\\uae09\\uc720\\ud615=\\uacf5\\uacf5\\uc784\\ub300(10\\ub144)\", \"offsetgroup\": \"\\uacf5\\uae09\\uc720\\ud615=\\uacf5\\uacf5\\uc784\\ub300(10\\ub144)\", \"orientation\": \"v\", \"showlegend\": true, \"type\": \"histogram\", \"x\": [509.0, 951.0, 899.0, 957.0, 412.0, 979.0, 1709.0, 881.0, 1595.0, 1240.0, 855.0, 625.0, 1653.0, 498.0, 1668.0, 1730.0, 780.0, 1200.0, 979.0, 946.0, 336.0, 600.0, 719.0, 1983.0, 780.0, 1359.0, 646.0, 1433.0, 854.0, 1378.0, 995.0, 1524.0, 713.0, 1400.0, 609.0, 1374.0], \"xaxis\": \"x\", \"y\": [\"C1344\", \"C1804\", \"C1490\", \"C1024\", \"C1788\", \"C1740\", \"C2620\", \"C1286\", \"C2085\", \"C2405\", \"C1649\", \"C1848\", \"C1743\", \"C1402\", \"C1129\", \"C1933\", \"C2051\", \"C2414\", \"C1700\", \"C1636\", \"C2040\", \"C1941\", \"C2143\", \"C1802\", \"C1284\", \"C2595\", \"C2351\", \"C2506\", \"C1697\", \"C2259\", \"C1357\", \"C2086\", \"C1544\", \"C2496\", \"C1756\", \"C2328\"], \"yaxis\": \"y\"}, {\"alignmentgroup\": \"True\", \"bingroup\": \"x\", \"hoverlabel\": {\"namelength\": 0}, \"hovertemplate\": \"\\uacf5\\uae09\\uc720\\ud615=\\uc7a5\\uae30\\uc804\\uc138<br>\\ub4f1\\ub85d\\ucc28\\ub7c9\\uc218=%{x}<br>count of \\ub2e8\\uc9c0\\ucf54\\ub4dc=%{y}\", \"legendgroup\": \"\\uacf5\\uae09\\uc720\\ud615=\\uc7a5\\uae30\\uc804\\uc138\", \"marker\": {\"color\": \"#565656\"}, \"name\": \"\\uacf5\\uae09\\uc720\\ud615=\\uc7a5\\uae30\\uc804\\uc138\", \"offsetgroup\": \"\\uacf5\\uae09\\uc720\\ud615=\\uc7a5\\uae30\\uc804\\uc138\", \"orientation\": \"v\", \"showlegend\": true, \"type\": \"histogram\", \"x\": [1595.0, 645.0], \"xaxis\": \"x\", \"y\": [\"C1397\", \"C1039\"], \"yaxis\": \"y\"}, {\"alignmentgroup\": \"True\", \"bingroup\": \"x\", \"hoverlabel\": {\"namelength\": 0}, \"hovertemplate\": \"\\uacf5\\uae09\\uc720\\ud615=\\uacf5\\uacf5\\ubd84\\uc591<br>\\ub4f1\\ub85d\\ucc28\\ub7c9\\uc218=%{x}<br>count of \\ub2e8\\uc9c0\\ucf54\\ub4dc=%{y}\", \"legendgroup\": \"\\uacf5\\uae09\\uc720\\ud615=\\uacf5\\uacf5\\ubd84\\uc591\", \"marker\": {\"color\": \"#1C8356\"}, \"name\": \"\\uacf5\\uae09\\uc720\\ud615=\\uacf5\\uacf5\\ubd84\\uc591\", \"offsetgroup\": \"\\uacf5\\uae09\\uc720\\ud615=\\uacf5\\uacf5\\ubd84\\uc591\", \"orientation\": \"v\", \"showlegend\": true, \"type\": \"histogram\", \"x\": [2315.0], \"xaxis\": \"x\", \"y\": [\"C1350\"], \"yaxis\": \"y\"}, {\"alignmentgroup\": \"True\", \"bingroup\": \"x\", \"hoverlabel\": {\"namelength\": 0}, \"hovertemplate\": \"\\uacf5\\uae09\\uc720\\ud615=\\ud589\\ubcf5\\uc8fc\\ud0dd<br>\\ub4f1\\ub85d\\ucc28\\ub7c9\\uc218=%{x}<br>count of \\ub2e8\\uc9c0\\ucf54\\ub4dc=%{y}\", \"legendgroup\": \"\\uacf5\\uae09\\uc720\\ud615=\\ud589\\ubcf5\\uc8fc\\ud0dd\", \"marker\": {\"color\": \"#16FF32\"}, \"name\": \"\\uacf5\\uae09\\uc720\\ud615=\\ud589\\ubcf5\\uc8fc\\ud0dd\", \"offsetgroup\": \"\\uacf5\\uae09\\uc720\\ud615=\\ud589\\ubcf5\\uc8fc\\ud0dd\", \"orientation\": \"v\", \"showlegend\": true, \"type\": \"histogram\", \"x\": [586.0, 164.0, 416.0, 345.0, 205.0, 509.0, 588.0, 396.0, 133.0, 78.0, 123.0, 196.0, 189.0, 98.0, 13.0, 165.0, 507.0, 444.0, 448.0, 921.0, 59.0, 159.0, 267.0, 130.0, 419.0, 505.0, 1204.0, 57.0, 19.0], \"xaxis\": \"x\", \"y\": [\"C1210\", \"C1685\", \"C1659\", \"C1786\", \"C2570\", \"C1652\", \"C1565\", \"C1910\", \"C1979\", \"C1803\", \"C1695\", \"C2362\", \"C2568\", \"C2245\", \"C2059\", \"C2549\", \"C1584\", \"C2298\", \"C2225\", \"C1218\", \"C1207\", \"C1970\", \"C1732\", \"C2433\", \"C1894\", \"C1156\", \"C2446\", \"C2586\", \"C2020\"], \"yaxis\": \"y\"}, {\"alignmentgroup\": \"True\", \"bingroup\": \"x\", \"hoverlabel\": {\"namelength\": 0}, \"hovertemplate\": \"\\uacf5\\uae09\\uc720\\ud615=\\uacf5\\uacf5\\uc784\\ub300(5\\ub144)<br>\\ub4f1\\ub85d\\ucc28\\ub7c9\\uc218=%{x}<br>count of \\ub2e8\\uc9c0\\ucf54\\ub4dc=%{y}\", \"legendgroup\": \"\\uacf5\\uae09\\uc720\\ud615=\\uacf5\\uacf5\\uc784\\ub300(5\\ub144)\", \"marker\": {\"color\": \"#F7E1A0\"}, \"name\": \"\\uacf5\\uae09\\uc720\\ud615=\\uacf5\\uacf5\\uc784\\ub300(5\\ub144)\", \"offsetgroup\": \"\\uacf5\\uae09\\uc720\\ud615=\\uacf5\\uacf5\\uc784\\ub300(5\\ub144)\", \"orientation\": \"v\", \"showlegend\": true, \"type\": \"histogram\", \"x\": [887.0], \"xaxis\": \"x\", \"y\": [\"C2470\"], \"yaxis\": \"y\"}],\n",
              "                        {\"barmode\": \"relative\", \"legend\": {\"tracegroupgap\": 0}, \"margin\": {\"t\": 60}, \"template\": {\"data\": {\"bar\": [{\"error_x\": {\"color\": \"#2a3f5f\"}, \"error_y\": {\"color\": \"#2a3f5f\"}, \"marker\": {\"line\": {\"color\": \"#E5ECF6\", \"width\": 0.5}}, \"type\": \"bar\"}], \"barpolar\": [{\"marker\": {\"line\": {\"color\": \"#E5ECF6\", \"width\": 0.5}}, \"type\": \"barpolar\"}], \"carpet\": [{\"aaxis\": {\"endlinecolor\": \"#2a3f5f\", \"gridcolor\": \"white\", \"linecolor\": \"white\", \"minorgridcolor\": \"white\", \"startlinecolor\": \"#2a3f5f\"}, \"baxis\": {\"endlinecolor\": \"#2a3f5f\", \"gridcolor\": \"white\", \"linecolor\": \"white\", \"minorgridcolor\": \"white\", \"startlinecolor\": \"#2a3f5f\"}, \"type\": \"carpet\"}], \"choropleth\": [{\"colorbar\": {\"outlinewidth\": 0, \"ticks\": \"\"}, \"type\": \"choropleth\"}], \"contour\": [{\"colorbar\": {\"outlinewidth\": 0, \"ticks\": \"\"}, \"colorscale\": [[0.0, \"#0d0887\"], [0.1111111111111111, \"#46039f\"], [0.2222222222222222, \"#7201a8\"], [0.3333333333333333, \"#9c179e\"], [0.4444444444444444, \"#bd3786\"], [0.5555555555555556, \"#d8576b\"], [0.6666666666666666, \"#ed7953\"], [0.7777777777777778, \"#fb9f3a\"], [0.8888888888888888, \"#fdca26\"], [1.0, \"#f0f921\"]], \"type\": \"contour\"}], \"contourcarpet\": [{\"colorbar\": {\"outlinewidth\": 0, \"ticks\": \"\"}, \"type\": \"contourcarpet\"}], \"heatmap\": [{\"colorbar\": {\"outlinewidth\": 0, \"ticks\": \"\"}, \"colorscale\": [[0.0, \"#0d0887\"], [0.1111111111111111, \"#46039f\"], [0.2222222222222222, \"#7201a8\"], [0.3333333333333333, \"#9c179e\"], [0.4444444444444444, \"#bd3786\"], [0.5555555555555556, \"#d8576b\"], [0.6666666666666666, \"#ed7953\"], [0.7777777777777778, \"#fb9f3a\"], [0.8888888888888888, \"#fdca26\"], [1.0, \"#f0f921\"]], \"type\": \"heatmap\"}], \"heatmapgl\": [{\"colorbar\": {\"outlinewidth\": 0, \"ticks\": \"\"}, \"colorscale\": [[0.0, \"#0d0887\"], [0.1111111111111111, \"#46039f\"], [0.2222222222222222, \"#7201a8\"], [0.3333333333333333, \"#9c179e\"], [0.4444444444444444, \"#bd3786\"], [0.5555555555555556, \"#d8576b\"], [0.6666666666666666, \"#ed7953\"], [0.7777777777777778, \"#fb9f3a\"], [0.8888888888888888, \"#fdca26\"], [1.0, \"#f0f921\"]], \"type\": \"heatmapgl\"}], \"histogram\": [{\"marker\": {\"colorbar\": {\"outlinewidth\": 0, \"ticks\": \"\"}}, \"type\": \"histogram\"}], \"histogram2d\": [{\"colorbar\": {\"outlinewidth\": 0, \"ticks\": \"\"}, \"colorscale\": [[0.0, \"#0d0887\"], [0.1111111111111111, \"#46039f\"], [0.2222222222222222, \"#7201a8\"], [0.3333333333333333, \"#9c179e\"], [0.4444444444444444, \"#bd3786\"], [0.5555555555555556, \"#d8576b\"], [0.6666666666666666, \"#ed7953\"], [0.7777777777777778, \"#fb9f3a\"], [0.8888888888888888, \"#fdca26\"], [1.0, \"#f0f921\"]], \"type\": \"histogram2d\"}], \"histogram2dcontour\": [{\"colorbar\": {\"outlinewidth\": 0, \"ticks\": \"\"}, \"colorscale\": [[0.0, \"#0d0887\"], [0.1111111111111111, \"#46039f\"], [0.2222222222222222, \"#7201a8\"], [0.3333333333333333, \"#9c179e\"], [0.4444444444444444, \"#bd3786\"], [0.5555555555555556, \"#d8576b\"], [0.6666666666666666, \"#ed7953\"], [0.7777777777777778, \"#fb9f3a\"], [0.8888888888888888, \"#fdca26\"], [1.0, \"#f0f921\"]], \"type\": \"histogram2dcontour\"}], \"mesh3d\": [{\"colorbar\": {\"outlinewidth\": 0, \"ticks\": \"\"}, \"type\": \"mesh3d\"}], \"parcoords\": [{\"line\": {\"colorbar\": {\"outlinewidth\": 0, \"ticks\": \"\"}}, \"type\": \"parcoords\"}], \"pie\": [{\"automargin\": true, \"type\": \"pie\"}], \"scatter\": [{\"marker\": {\"colorbar\": {\"outlinewidth\": 0, \"ticks\": \"\"}}, \"type\": \"scatter\"}], \"scatter3d\": [{\"line\": {\"colorbar\": {\"outlinewidth\": 0, \"ticks\": \"\"}}, \"marker\": {\"colorbar\": {\"outlinewidth\": 0, \"ticks\": \"\"}}, \"type\": \"scatter3d\"}], \"scattercarpet\": [{\"marker\": {\"colorbar\": {\"outlinewidth\": 0, \"ticks\": \"\"}}, \"type\": \"scattercarpet\"}], \"scattergeo\": [{\"marker\": {\"colorbar\": {\"outlinewidth\": 0, \"ticks\": \"\"}}, \"type\": \"scattergeo\"}], \"scattergl\": [{\"marker\": {\"colorbar\": {\"outlinewidth\": 0, \"ticks\": \"\"}}, \"type\": \"scattergl\"}], \"scattermapbox\": [{\"marker\": {\"colorbar\": {\"outlinewidth\": 0, \"ticks\": \"\"}}, \"type\": \"scattermapbox\"}], \"scatterpolar\": [{\"marker\": {\"colorbar\": {\"outlinewidth\": 0, \"ticks\": \"\"}}, \"type\": \"scatterpolar\"}], \"scatterpolargl\": [{\"marker\": {\"colorbar\": {\"outlinewidth\": 0, \"ticks\": \"\"}}, \"type\": \"scatterpolargl\"}], \"scatterternary\": [{\"marker\": {\"colorbar\": {\"outlinewidth\": 0, \"ticks\": \"\"}}, \"type\": \"scatterternary\"}], \"surface\": [{\"colorbar\": {\"outlinewidth\": 0, \"ticks\": \"\"}, \"colorscale\": [[0.0, \"#0d0887\"], [0.1111111111111111, \"#46039f\"], [0.2222222222222222, \"#7201a8\"], [0.3333333333333333, \"#9c179e\"], [0.4444444444444444, \"#bd3786\"], [0.5555555555555556, \"#d8576b\"], [0.6666666666666666, \"#ed7953\"], [0.7777777777777778, \"#fb9f3a\"], [0.8888888888888888, \"#fdca26\"], [1.0, \"#f0f921\"]], \"type\": \"surface\"}], \"table\": [{\"cells\": {\"fill\": {\"color\": \"#EBF0F8\"}, \"line\": {\"color\": \"white\"}}, \"header\": {\"fill\": {\"color\": \"#C8D4E3\"}, \"line\": {\"color\": \"white\"}}, \"type\": \"table\"}]}, \"layout\": {\"annotationdefaults\": {\"arrowcolor\": \"#2a3f5f\", \"arrowhead\": 0, \"arrowwidth\": 1}, \"coloraxis\": {\"colorbar\": {\"outlinewidth\": 0, \"ticks\": \"\"}}, \"colorscale\": {\"diverging\": [[0, \"#8e0152\"], [0.1, \"#c51b7d\"], [0.2, \"#de77ae\"], [0.3, \"#f1b6da\"], [0.4, \"#fde0ef\"], [0.5, \"#f7f7f7\"], [0.6, \"#e6f5d0\"], [0.7, \"#b8e186\"], [0.8, \"#7fbc41\"], [0.9, \"#4d9221\"], [1, \"#276419\"]], \"sequential\": [[0.0, \"#0d0887\"], [0.1111111111111111, \"#46039f\"], [0.2222222222222222, \"#7201a8\"], [0.3333333333333333, \"#9c179e\"], [0.4444444444444444, \"#bd3786\"], [0.5555555555555556, \"#d8576b\"], [0.6666666666666666, \"#ed7953\"], [0.7777777777777778, \"#fb9f3a\"], [0.8888888888888888, \"#fdca26\"], [1.0, \"#f0f921\"]], \"sequentialminus\": [[0.0, \"#0d0887\"], [0.1111111111111111, \"#46039f\"], [0.2222222222222222, \"#7201a8\"], [0.3333333333333333, \"#9c179e\"], [0.4444444444444444, \"#bd3786\"], [0.5555555555555556, \"#d8576b\"], [0.6666666666666666, \"#ed7953\"], [0.7777777777777778, \"#fb9f3a\"], [0.8888888888888888, \"#fdca26\"], [1.0, \"#f0f921\"]]}, \"colorway\": [\"#636efa\", \"#EF553B\", \"#00cc96\", \"#ab63fa\", \"#FFA15A\", \"#19d3f3\", \"#FF6692\", \"#B6E880\", \"#FF97FF\", \"#FECB52\"], \"font\": {\"color\": \"#2a3f5f\"}, \"geo\": {\"bgcolor\": \"white\", \"lakecolor\": \"white\", \"landcolor\": \"#E5ECF6\", \"showlakes\": true, \"showland\": true, \"subunitcolor\": \"white\"}, \"hoverlabel\": {\"align\": \"left\"}, \"hovermode\": \"closest\", \"mapbox\": {\"style\": \"light\"}, \"paper_bgcolor\": \"white\", \"plot_bgcolor\": \"#E5ECF6\", \"polar\": {\"angularaxis\": {\"gridcolor\": \"white\", \"linecolor\": \"white\", \"ticks\": \"\"}, \"bgcolor\": \"#E5ECF6\", \"radialaxis\": {\"gridcolor\": \"white\", \"linecolor\": \"white\", \"ticks\": \"\"}}, \"scene\": {\"xaxis\": {\"backgroundcolor\": \"#E5ECF6\", \"gridcolor\": \"white\", \"gridwidth\": 2, \"linecolor\": \"white\", \"showbackground\": true, \"ticks\": \"\", \"zerolinecolor\": \"white\"}, \"yaxis\": {\"backgroundcolor\": \"#E5ECF6\", \"gridcolor\": \"white\", \"gridwidth\": 2, \"linecolor\": \"white\", \"showbackground\": true, \"ticks\": \"\", \"zerolinecolor\": \"white\"}, \"zaxis\": {\"backgroundcolor\": \"#E5ECF6\", \"gridcolor\": \"white\", \"gridwidth\": 2, \"linecolor\": \"white\", \"showbackground\": true, \"ticks\": \"\", \"zerolinecolor\": \"white\"}}, \"shapedefaults\": {\"line\": {\"color\": \"#2a3f5f\"}}, \"ternary\": {\"aaxis\": {\"gridcolor\": \"white\", \"linecolor\": \"white\", \"ticks\": \"\"}, \"baxis\": {\"gridcolor\": \"white\", \"linecolor\": \"white\", \"ticks\": \"\"}, \"bgcolor\": \"#E5ECF6\", \"caxis\": {\"gridcolor\": \"white\", \"linecolor\": \"white\", \"ticks\": \"\"}}, \"title\": {\"x\": 0.05}, \"xaxis\": {\"automargin\": true, \"gridcolor\": \"white\", \"linecolor\": \"white\", \"ticks\": \"\", \"title\": {\"standoff\": 15}, \"zerolinecolor\": \"white\", \"zerolinewidth\": 2}, \"yaxis\": {\"automargin\": true, \"gridcolor\": \"white\", \"linecolor\": \"white\", \"ticks\": \"\", \"title\": {\"standoff\": 15}, \"zerolinecolor\": \"white\", \"zerolinewidth\": 2}}}, \"title\": {\"text\": \"\\uc0c1\\uac00\\uc720\\ubb34\\uc5d0 \\ub530\\ub978 \\ucd1d\\uc138\\ub300\\uc218, \\ub2e8\\uc9c0\\ub0b4\\uc8fc\\ucc28\\uba74\\uc218 \\ubd84\\ud3ec\"}, \"xaxis\": {\"anchor\": \"y\", \"domain\": [0.0, 1.0], \"title\": {\"text\": \"\\ub4f1\\ub85d\\ucc28\\ub7c9\\uc218\"}}, \"yaxis\": {\"anchor\": \"x\", \"domain\": [0.0, 1.0], \"title\": {\"text\": \"count of \\ub2e8\\uc9c0\\ucf54\\ub4dc\"}}},\n",
              "                        {\"responsive\": true}\n",
              "                    ).then(function(){\n",
              "                            \n",
              "var gd = document.getElementById('148af055-98f3-444d-aa9b-d61a8fd0fd44');\n",
              "var x = new MutationObserver(function (mutations, observer) {{\n",
              "        var display = window.getComputedStyle(gd).display;\n",
              "        if (!display || display === 'none') {{\n",
              "            console.log([gd, 'removed!']);\n",
              "            Plotly.purge(gd);\n",
              "            observer.disconnect();\n",
              "        }}\n",
              "}});\n",
              "\n",
              "// Listen for the removal of the full notebook cells\n",
              "var notebookContainer = gd.closest('#notebook-container');\n",
              "if (notebookContainer) {{\n",
              "    x.observe(notebookContainer, {childList: true});\n",
              "}}\n",
              "\n",
              "// Listen for the clearing of the current output cell\n",
              "var outputEl = gd.closest('.output');\n",
              "if (outputEl) {{\n",
              "    x.observe(outputEl, {childList: true});\n",
              "}}\n",
              "\n",
              "                        })\n",
              "                };\n",
              "                \n",
              "            </script>\n",
              "        </div>\n",
              "</body>\n",
              "</html>"
            ]
          },
          "metadata": {}
        }
      ]
    },
    {
      "cell_type": "markdown",
      "metadata": {
        "id": "COP-pHqMZQsm"
      },
      "source": [
        "위 그래프를 보면 국민임대를 제외한 나머지 유형은 600대를 기준으로 등록차량수의 분포가 뚜렷한 차이를 보임\n",
        "\n",
        "공급유형을 아래의 기준으로 재배열  \n",
        "1. 유형1\n",
        "    - 공급유형자체가 신혼부부, 청년, 소득계층이 낮은 집단에게 주려는 확고한 목적이 있음, 보유자산을 제한하고, 자동차유무도 확인하는 경우도 있음.  \n",
        "    - 행복주택, 영구임대\n",
        "2. 유형2\n",
        "    - 공급유형자체가 뚜렷한 기준이 없고 국민 누구에게나 가능성이 열려 있는 경우  \n",
        "    - 유형1외 나머지\n",
        "\n",
        "위와 같이 재설정한다"
      ]
    },
    {
      "cell_type": "code",
      "metadata": {
        "id": "-s-uslFAZvhi"
      },
      "source": [
        "def check_supply(x):#\n",
        "  if x in ['행복주택', '영구임대']:#\n",
        "    return '유형1'\n",
        "  else:\n",
        "    return '유형2'"
      ],
      "execution_count": 264,
      "outputs": []
    },
    {
      "cell_type": "code",
      "metadata": {
        "id": "g0gWC6y9gser"
      },
      "source": [
        "temp['신공급유형'] = temp['공급유형'].apply(lambda x: check_supply(x))"
      ],
      "execution_count": 268,
      "outputs": []
    },
    {
      "cell_type": "code",
      "metadata": {
        "id": "N35kiJh1h6wV"
      },
      "source": [
        "t, p = stats.ttest_ind(temp[temp['신공급유형'] =='유형1']['등록차량수'], temp[temp['신공급유형'] =='유형2']['등록차량수'])"
      ],
      "execution_count": 272,
      "outputs": []
    },
    {
      "cell_type": "code",
      "metadata": {
        "colab": {
          "base_uri": "https://localhost:8080/"
        },
        "id": "vgqxT_w1iCVT",
        "outputId": "fa244dd1-cb95-48c1-a267-a375acf47f9a"
      },
      "source": [
        "p"
      ],
      "execution_count": 273,
      "outputs": [
        {
          "output_type": "execute_result",
          "data": {
            "text/plain": [
              "6.676463421731515e-15"
            ]
          },
          "metadata": {},
          "execution_count": 273
        }
      ]
    },
    {
      "cell_type": "markdown",
      "metadata": {
        "id": "YK8errZPiJY2"
      },
      "source": [
        "p값 또한 충분한 충분히 낮게 나온 것을 확인할 수 있음.  \n",
        "변수추가"
      ]
    },
    {
      "cell_type": "code",
      "metadata": {
        "id": "gRWBx5yui3ON"
      },
      "source": [
        "raw_train_lentType_loc_supply = copy.deepcopy(raw_train_lentType_loc)"
      ],
      "execution_count": 275,
      "outputs": []
    },
    {
      "cell_type": "markdown",
      "metadata": {
        "id": "I-JREhisjKZ9"
      },
      "source": [
        "### 전용면적, 전용면적별세대수\n",
        "\n",
        "- 결과\n",
        "    - 전용면적, 세대수 합과 등록차량수는 비례하여, 최종테이블 생성때 groupby 사용\n",
        "\n",
        "- 가설\n",
        "    1. 전용면적, 전용면적별세대수, 그리고 이 둘의 비율과 등록차량수가 영향이 있을 것이다.  \n",
        "    2. 단지내 모든 전용면적의 합과 등록차량수가 비례할 것"
      ]
    },
    {
      "cell_type": "code",
      "metadata": {
        "id": "jLzmKkLkj6_T"
      },
      "source": [
        "temp = copy.deepcopy(raw_train)"
      ],
      "execution_count": 276,
      "outputs": []
    },
    {
      "cell_type": "code",
      "metadata": {
        "id": "JbTyAW58kJES"
      },
      "source": [
        "temp_none_duplicates =  copy.deepcopy(raw_train[raw_train['임대건물구분'] == '아파트'].groupby('단지코드')['전용면적','전용면적별세대수','등록차량수'].mean().reset_index())"
      ],
      "execution_count": 287,
      "outputs": []
    },
    {
      "cell_type": "markdown",
      "metadata": {
        "id": "4ARhQgdGlRd5"
      },
      "source": [
        "-----------------------\n",
        "평균전용면적별 등록차량수 확인"
      ]
    },
    {
      "cell_type": "code",
      "metadata": {
        "colab": {
          "base_uri": "https://localhost:8080/",
          "height": 141
        },
        "id": "L92xQKXHl1gM",
        "outputId": "05206d0f-bdce-402c-c321-09afe08ed315"
      },
      "source": [
        "temp_none_duplicates.corr().iloc[:,2:]"
      ],
      "execution_count": 294,
      "outputs": [
        {
          "output_type": "execute_result",
          "data": {
            "text/html": [
              "<div>\n",
              "<style scoped>\n",
              "    .dataframe tbody tr th:only-of-type {\n",
              "        vertical-align: middle;\n",
              "    }\n",
              "\n",
              "    .dataframe tbody tr th {\n",
              "        vertical-align: top;\n",
              "    }\n",
              "\n",
              "    .dataframe thead th {\n",
              "        text-align: right;\n",
              "    }\n",
              "</style>\n",
              "<table border=\"1\" class=\"dataframe\">\n",
              "  <thead>\n",
              "    <tr style=\"text-align: right;\">\n",
              "      <th></th>\n",
              "      <th>등록차량수</th>\n",
              "    </tr>\n",
              "  </thead>\n",
              "  <tbody>\n",
              "    <tr>\n",
              "      <th>전용면적</th>\n",
              "      <td>0.425299</td>\n",
              "    </tr>\n",
              "    <tr>\n",
              "      <th>전용면적별세대수</th>\n",
              "      <td>0.084180</td>\n",
              "    </tr>\n",
              "    <tr>\n",
              "      <th>등록차량수</th>\n",
              "      <td>1.000000</td>\n",
              "    </tr>\n",
              "  </tbody>\n",
              "</table>\n",
              "</div>"
            ],
            "text/plain": [
              "             등록차량수\n",
              "전용면적      0.425299\n",
              "전용면적별세대수  0.084180\n",
              "등록차량수     1.000000"
            ]
          },
          "metadata": {},
          "execution_count": 294
        }
      ]
    },
    {
      "cell_type": "code",
      "metadata": {
        "colab": {
          "base_uri": "https://localhost:8080/",
          "height": 542
        },
        "id": "YI0MvWUFk25g",
        "outputId": "c1a2bbed-b4f8-4a3c-ed95-31168e4703af"
      },
      "source": [
        "fig = go.Figure()\n",
        "fig = px.scatter(temp_none_duplicates, x='전용면적', y = '등록차량수',\n",
        "                            color_discrete_sequence=px.colors.qualitative.Alphabet)\n",
        "fig.update_layout(title='지역별 등록차량수파악(600대 이상,이하) 단지개수') #autosize =, width = 1000, height = 500)"
      ],
      "execution_count": 286,
      "outputs": [
        {
          "output_type": "display_data",
          "data": {
            "text/html": [
              "<html>\n",
              "<head><meta charset=\"utf-8\" /></head>\n",
              "<body>\n",
              "    <div>\n",
              "            <script src=\"https://cdnjs.cloudflare.com/ajax/libs/mathjax/2.7.5/MathJax.js?config=TeX-AMS-MML_SVG\"></script><script type=\"text/javascript\">if (window.MathJax) {MathJax.Hub.Config({SVG: {font: \"STIX-Web\"}});}</script>\n",
              "                <script type=\"text/javascript\">window.PlotlyConfig = {MathJaxConfig: 'local'};</script>\n",
              "        <script src=\"https://cdn.plot.ly/plotly-latest.min.js\"></script>    \n",
              "            <div id=\"1ce77487-14e8-40da-9a73-2242654705d6\" class=\"plotly-graph-div\" style=\"height:525px; width:100%;\"></div>\n",
              "            <script type=\"text/javascript\">\n",
              "                \n",
              "                    window.PLOTLYENV=window.PLOTLYENV || {};\n",
              "                    \n",
              "                if (document.getElementById(\"1ce77487-14e8-40da-9a73-2242654705d6\")) {\n",
              "                    Plotly.newPlot(\n",
              "                        '1ce77487-14e8-40da-9a73-2242654705d6',\n",
              "                        [{\"hoverlabel\": {\"namelength\": 0}, \"hovertemplate\": \"\\uc804\\uc6a9\\uba74\\uc801=%{x}<br>\\ub4f1\\ub85d\\ucc28\\ub7c9\\uc218=%{y}\", \"legendgroup\": \"\", \"marker\": {\"color\": \"#AA0DFE\", \"symbol\": \"circle\"}, \"mode\": \"markers\", \"name\": \"\", \"showlegend\": false, \"type\": \"scatter\", \"x\": [45.21857142857142, 39.495, 54.35999999999999, 46.141999999999996, 49.23285714285715, 46.0475, 36.836666666666666, 46.9, 78.423, 55.825, 42.720000000000006, 51.64333333333334, 46.87285714285714, 41.96363636363636, 34.1025, 41.72333333333333, 37.27333333333333, 45.538, 28.41, 47.645, 43.13833333333333, 35.919999999999995, 43.49166666666667, 45.16, 48.806666666666665, 41.425, 45.03666666666667, 43.293749999999996, 45.163333333333334, 41.214999999999996, 28.845, 43.787142857142854, 57.81125000000001, 55.67999999999999, 42.05833333333333, 40.442499999999995, 46.91166666666667, 39.626666666666665, 54.303333333333335, 26.55875, 37.79, 44.708333333333336, 45.827777777777776, 52.903333333333336, 37.260000000000005, 42.2775, 54.580000000000005, 45.534285714285716, 53.38000000000001, 28.845, 27.846666666666664, 25.607999999999997, 41.47666666666667, 26.44666666666667, 41.96111111111111, 55.715, 46.02583333333333, 45.78076923076923, 31.313333333333333, 35.772000000000006, 46.925000000000004, 46.315, 40.094, 59.82, 81.60333333333334, 29.27, 47.32500000000001, 47.24857142857143, 44.09, 42.037499999999994, 42.745, 41.879999999999995, 38.635000000000005, 32.196000000000005, 42.03090909090909, 45.471250000000005, 45.913, 35.970000000000006, 34.43888888888889, 45.08333333333334, 73.61666666666667, 69.86692307692307, 77.38, 45.535000000000004, 33.55285714285715, 52.910000000000004, 47.645, 50.194285714285705, 44.3375, 42.878461538461536, 41.425, 46.81666666666666, 72.92, 43.02214285714285, 41.25363636363637, 44.39333333333334, 46.629999999999995, 37.552, 46.878571428571426, 55.7975, 32.669999999999995, 51.24666666666666, 30.932, 37.86333333333334, 41.74333333333333, 43.666, 42.9825, 28.845, 55.72, 79.6825, 43.71857142857142, 39.42, 46.9, 40.339999999999996, 40.760000000000005, 52.788, 53.91250000000001, 81.63666666666667, 25.625, 42.42, 39.202857142857134, 39.76, 46.18888888888889, 26.723333333333333, 41.41, 41.25428571428571, 48.57666666666666, 54.35999999999999, 32.669999999999995, 42.584, 82.4425, 51.508, 46.845, 44.832857142857144, 82.465, 32.3025, 46.29, 43.60125, 30.273076923076925, 46.31125, 53.93, 45.64111111111111, 41.40428571428571, 55.755, 38.068, 41.51166666666666, 43.1090909090909, 46.29875, 32.47777777777778, 45.959999999999994, 43.815999999999995, 52.56, 26.782, 79.77166666666666, 39.195, 47.35000000000001, 57.27333333333333, 39.495, 46.108, 40.745, 49.415, 38.948, 26.922000000000004, 25.65833333333333, 43.1075, 69.955, 72.31, 53.456, 84.97500000000001, 41.4525, 46.946666666666665, 54.580000000000005, 55.725, 44.374444444444435, 28.41, 48.012, 26.904000000000003, 55.78, 29.669999999999998, 59.52363636363637, 29.230999999999995, 82.5375, 54.580000000000005, 43.199999999999996, 41.67, 44.903333333333336, 44.11666666666667, 45.3275, 58.254, 46.32666666666666, 32.634, 39.59, 41.015, 42.2575, 40.75833333333333, 41.425000000000004, 28.02, 28.02, 48.912, 53.932500000000005, 40.5, 49.42999999999999, 25.375, 46.64833333333334, 42.575, 28.845, 44.645, 44.53666666666667, 27.642000000000003, 53.10666666666666, 46.315, 28.845, 48.645, 69.56666666666668, 51.892500000000005, 33.79666666666667, 47.181666666666665, 84.9575, 50.51, 55.6325, 46.152, 44.349999999999994, 32.14999999999999, 33.96333333333333, 26.886000000000003, 46.48333333333333, 29.666666666666668, 32.85, 45.055, 48.20333333333334, 41.425, 49.385000000000005, 44.76571428571429, 33.684, 45.092, 43.708, 39.42666666666667, 41.725, 26.616666666666664, 48.605, 57.8675, 28.02, 36.15, 50.144999999999996, 32.669999999999995, 79.83500000000001, 45.414, 50.74, 54.35999999999999, 77.9626086956522, 46.18333333333334, 23.156666666666666, 42.37199999999999, 55.715, 48.965999999999994, 46.422222222222224, 46.65166666666667, 43.395, 71.94500000000001, 68.80777777777777, 44.98833333333334, 41.45285714285715, 39.202857142857134, 43.82, 48.03000000000001, 55.80666666666667, 41.266000000000005, 28.41, 45.19833333333333, 28.845, 46.18333333333334, 28.02, 37.56666666666667, 35.943333333333335, 43.1025, 34.3025, 79.875, 35.0275, 35.955, 42.68333333333334, 54.580000000000005, 46.45374999999999, 45.15, 32.559999999999995, 39.42, 27.6075, 41.506, 43.336666666666666, 45.57499999999999, 40.17333333333333, 29.669999999999998, 39.195, 49.535, 26.135555555555552, 45.43285714285714, 46.5875, 40.14333333333334, 26.892857142857146, 43.88999999999999, 32.193333333333335, 43.458000000000006, 32.669999999999995, 79.77166666666666, 45.383750000000006, 37.67285714285715, 54.50666666666667, 46.285714285714285, 28.845, 28.77, 54.49333333333333, 28.02, 31.454285714285714, 35.695, 53.824999999999996, 46.848, 40.102, 58.40428571428572, 41.0425, 45.54571428571428, 39.82, 51.508, 54.263999999999996, 37.416999999999994, 42.916666666666664, 41.449999999999996, 31.172000000000004, 47.02181818181818, 27.245714285714282, 38.575, 44.27875, 42.696666666666665, 45.14833333333334, 55.72, 47.83333333333333, 49.415, 42.47666666666667, 55.87, 37.08153846153846, 45.42625, 48.833333333333336, 78.92666666666666, 43.766000000000005, 59.97749999999999, 28.41, 48.11571428571428, 41.775000000000006, 24.616000000000003, 24.83, 45.15, 31.26416666666667, 46.50666666666667, 30.321428571428566, 49.00571428571429, 43.395, 48.88666666666668, 45.00571428571429, 42.75333333333333, 49.87625, 41.446000000000005, 44.14375, 52.74, 55.715, 47.412, 82.3875, 42.92000000000001, 40.65, 66.03470588235295, 36.55166666666666, 31.92571428571429, 51.89666666666667, 49.37833333333334, 44.345714285714294, 55.870000000000005, 39.69, 46.285714285714285, 47.348, 46.862, 48.9, 30.816666666666666, 50.92166666666666, 37.81, 43.33421052631577, 34.495000000000005, 28.808000000000003, 39.84, 55.715, 48.1675, 41.425, 47.034166666666664, 28.806, 26.411249999999995, 26.37, 45.59777777777778, 53.39, 40.84, 33.699090909090906, 26.615999999999996, 45.24714285714286, 72.944, 46.71857142857142, 28.02, 53.528, 51.11000000000001, 45.5, 34.300000000000004, 35.61, 31.319999999999993, 72.87599999999999, 36.877500000000005, 31.226666666666663, 44.49714285714286, 56.662, 32.02, 42.28333333333333, 42.845, 46.87285714285714, 30.250000000000004, 36.97666666666667, 41.004999999999995, 43.25833333333333, 40.918, 43.35, 43.57000000000001], \"xaxis\": \"x\", \"y\": [481.0, 93.0, 376.0, 1665.0, 708.0, 579.0, 1246.0, 450.0, 957.0, 422.0, 207.0, 316.0, 1279.0, 645.0, 266.0, 156.0, 243.0, 762.0, 125.0, 521.0, 246.0, 1255.0, 510.0, 236.0, 226.0, 521.0, 309.0, 505.0, 417.0, 787.0, 313.0, 1077.0, 1668.0, 1019.0, 842.0, 763.0, 620.0, 632.0, 373.0, 505.0, 326.0, 700.0, 609.0, 430.0, 619.0, 1044.0, 311.0, 488.0, 585.0, 90.0, 59.0, 586.0, 148.0, 921.0, 823.0, 311.0, 657.0, 1804.0, 616.0, 217.0, 934.0, 643.0, 484.0, 780.0, 881.0, 202.0, 504.0, 446.0, 1084.0, 359.0, 22.0, 398.0, 924.0, 1153.0, 770.0, 554.0, 551.0, 410.0, 442.0, 549.0, 509.0, 2315.0, 995.0, 375.0, 2550.0, 945.0, 861.0, 754.0, 294.0, 1145.0, 271.0, 1595.0, 498.0, 1350.0, 1064.0, 815.0, 179.0, 262.0, 333.0, 839.0, 172.0, 1284.0, 1044.0, 420.0, 557.0, 810.0, 553.0, 70.0, 505.0, 899.0, 296.0, 382.0, 438.0, 475.0, 235.0, 1150.0, 669.0, 713.0, 588.0, 284.0, 528.0, 479.0, 1158.0, 507.0, 718.0, 739.0, 308.0, 498.0, 98.0, 1101.0, 946.0, 413.0, 268.0, 297.0, 855.0, 509.0, 236.0, 257.0, 416.0, 512.0, 700.0, 465.0, 288.0, 873.0, 526.0, 322.0, 1101.0, 520.0, 164.0, 349.0, 960.0, 1087.0, 123.0, 854.0, 65.0, 606.0, 979.0, 131.0, 362.0, 566.0, 496.0, 649.0, 701.0, 267.0, 682.0, 979.0, 1653.0, 979.0, 609.0, 508.0, 730.0, 460.0, 670.0, 614.0, 96.0, 570.0, 345.0, 412.0, 120.0, 1983.0, 78.0, 951.0, 272.0, 652.0, 1001.0, 255.0, 398.0, 277.0, 625.0, 254.0, 116.0, 613.0, 733.0, 135.0, 374.0, 408.0, 62.0, 209.0, 713.0, 761.0, 616.0, 808.0, 419.0, 845.0, 415.0, 31.0, 596.0, 207.0, 396.0, 831.0, 752.0, 75.0, 413.0, 1730.0, 234.0, 1896.0, 709.0, 600.0, 730.0, 401.0, 500.0, 639.0, 220.0, 886.0, 159.0, 457.0, 133.0, 253.0, 630.0, 166.0, 402.0, 496.0, 795.0, 417.0, 548.0, 690.0, 91.0, 220.0, 19.0, 902.0, 1162.0, 132.0, 246.0, 258.0, 108.0, 336.0, 757.0, 1306.0, 841.0, 780.0, 723.0, 13.0, 503.0, 594.0, 735.0, 1398.0, 301.0, 822.0, 1595.0, 1524.0, 572.0, 318.0, 525.0, 995.0, 383.0, 671.0, 353.0, 60.0, 403.0, 359.0, 328.0, 127.0, 752.0, 155.0, 495.0, 396.0, 719.0, 280.0, 124.0, 204.0, 347.0, 745.0, 683.0, 744.0, 125.0, 129.0, 324.0, 226.0, 840.0, 244.0, 86.0, 149.0, 359.0, 448.0, 505.0, 248.0, 55.0, 98.0, 870.0, 410.0, 344.0, 78.0, 1378.0, 540.0, 713.0, 1159.0, 284.0, 364.0, 444.0, 244.0, 189.0, 343.0, 712.0, 266.0, 293.0, 557.0, 1374.0, 821.0, 562.0, 382.0, 553.0, 646.0, 793.0, 345.0, 1010.0, 693.0, 1117.0, 196.0, 548.0, 451.0, 800.0, 579.0, 901.0, 832.0, 552.0, 561.0, 422.0, 922.0, 254.0, 19.0, 1240.0, 487.0, 1200.0, 63.0, 505.0, 359.0, 130.0, 16.0, 334.0, 1204.0, 451.0, 559.0, 910.0, 793.0, 887.0, 647.0, 302.0, 1015.0, 587.0, 1023.0, 950.0, 340.0, 585.0, 1400.0, 327.0, 163.0, 1433.0, 763.0, 568.0, 820.0, 648.0, 205.0, 305.0, 386.0, 610.0, 321.0, 375.0, 302.0, 358.0, 146.0, 47.0, 799.0, 228.0, 165.0, 148.0, 481.0, 441.0, 449.0, 1090.0, 189.0, 205.0, 62.0, 826.0, 73.0, 751.0, 982.0, 57.0, 589.0, 1359.0, 480.0, 94.0, 281.0, 509.0, 572.0, 555.0, 1832.0, 783.0, 1709.0, 133.0, 404.0, 638.0, 442.0, 177.0, 159.0, 282.0, 782.0, 365.0, 330.0, 652.0, 701.0, 435.0, 590.0, 437.0], \"yaxis\": \"y\"}],\n",
              "                        {\"legend\": {\"tracegroupgap\": 0}, \"margin\": {\"t\": 60}, \"template\": {\"data\": {\"bar\": [{\"error_x\": {\"color\": \"#2a3f5f\"}, \"error_y\": {\"color\": \"#2a3f5f\"}, \"marker\": {\"line\": {\"color\": \"#E5ECF6\", \"width\": 0.5}}, \"type\": \"bar\"}], \"barpolar\": [{\"marker\": {\"line\": {\"color\": \"#E5ECF6\", \"width\": 0.5}}, \"type\": \"barpolar\"}], \"carpet\": [{\"aaxis\": {\"endlinecolor\": \"#2a3f5f\", \"gridcolor\": \"white\", \"linecolor\": \"white\", \"minorgridcolor\": \"white\", \"startlinecolor\": \"#2a3f5f\"}, \"baxis\": {\"endlinecolor\": \"#2a3f5f\", \"gridcolor\": \"white\", \"linecolor\": \"white\", \"minorgridcolor\": \"white\", \"startlinecolor\": \"#2a3f5f\"}, \"type\": \"carpet\"}], \"choropleth\": [{\"colorbar\": {\"outlinewidth\": 0, \"ticks\": \"\"}, \"type\": \"choropleth\"}], \"contour\": [{\"colorbar\": {\"outlinewidth\": 0, \"ticks\": \"\"}, \"colorscale\": [[0.0, \"#0d0887\"], [0.1111111111111111, \"#46039f\"], [0.2222222222222222, \"#7201a8\"], [0.3333333333333333, \"#9c179e\"], [0.4444444444444444, \"#bd3786\"], [0.5555555555555556, \"#d8576b\"], [0.6666666666666666, \"#ed7953\"], [0.7777777777777778, \"#fb9f3a\"], [0.8888888888888888, \"#fdca26\"], [1.0, \"#f0f921\"]], \"type\": \"contour\"}], \"contourcarpet\": [{\"colorbar\": {\"outlinewidth\": 0, \"ticks\": \"\"}, \"type\": \"contourcarpet\"}], \"heatmap\": [{\"colorbar\": {\"outlinewidth\": 0, \"ticks\": \"\"}, \"colorscale\": [[0.0, \"#0d0887\"], [0.1111111111111111, \"#46039f\"], [0.2222222222222222, \"#7201a8\"], [0.3333333333333333, \"#9c179e\"], [0.4444444444444444, \"#bd3786\"], [0.5555555555555556, \"#d8576b\"], [0.6666666666666666, \"#ed7953\"], [0.7777777777777778, \"#fb9f3a\"], [0.8888888888888888, \"#fdca26\"], [1.0, \"#f0f921\"]], \"type\": \"heatmap\"}], \"heatmapgl\": [{\"colorbar\": {\"outlinewidth\": 0, \"ticks\": \"\"}, \"colorscale\": [[0.0, \"#0d0887\"], [0.1111111111111111, \"#46039f\"], [0.2222222222222222, \"#7201a8\"], [0.3333333333333333, \"#9c179e\"], [0.4444444444444444, \"#bd3786\"], [0.5555555555555556, \"#d8576b\"], [0.6666666666666666, \"#ed7953\"], [0.7777777777777778, \"#fb9f3a\"], [0.8888888888888888, \"#fdca26\"], [1.0, \"#f0f921\"]], \"type\": \"heatmapgl\"}], \"histogram\": [{\"marker\": {\"colorbar\": {\"outlinewidth\": 0, \"ticks\": \"\"}}, \"type\": \"histogram\"}], \"histogram2d\": [{\"colorbar\": {\"outlinewidth\": 0, \"ticks\": \"\"}, \"colorscale\": [[0.0, \"#0d0887\"], [0.1111111111111111, \"#46039f\"], [0.2222222222222222, \"#7201a8\"], [0.3333333333333333, \"#9c179e\"], [0.4444444444444444, \"#bd3786\"], [0.5555555555555556, \"#d8576b\"], [0.6666666666666666, \"#ed7953\"], [0.7777777777777778, \"#fb9f3a\"], [0.8888888888888888, \"#fdca26\"], [1.0, \"#f0f921\"]], \"type\": \"histogram2d\"}], \"histogram2dcontour\": [{\"colorbar\": {\"outlinewidth\": 0, \"ticks\": \"\"}, \"colorscale\": [[0.0, \"#0d0887\"], [0.1111111111111111, \"#46039f\"], [0.2222222222222222, \"#7201a8\"], [0.3333333333333333, \"#9c179e\"], [0.4444444444444444, \"#bd3786\"], [0.5555555555555556, \"#d8576b\"], [0.6666666666666666, \"#ed7953\"], [0.7777777777777778, \"#fb9f3a\"], [0.8888888888888888, \"#fdca26\"], [1.0, \"#f0f921\"]], \"type\": \"histogram2dcontour\"}], \"mesh3d\": [{\"colorbar\": {\"outlinewidth\": 0, \"ticks\": \"\"}, \"type\": \"mesh3d\"}], \"parcoords\": [{\"line\": {\"colorbar\": {\"outlinewidth\": 0, \"ticks\": \"\"}}, \"type\": \"parcoords\"}], \"pie\": [{\"automargin\": true, \"type\": \"pie\"}], \"scatter\": [{\"marker\": {\"colorbar\": {\"outlinewidth\": 0, \"ticks\": \"\"}}, \"type\": \"scatter\"}], \"scatter3d\": [{\"line\": {\"colorbar\": {\"outlinewidth\": 0, \"ticks\": \"\"}}, \"marker\": {\"colorbar\": {\"outlinewidth\": 0, \"ticks\": \"\"}}, \"type\": \"scatter3d\"}], \"scattercarpet\": [{\"marker\": {\"colorbar\": {\"outlinewidth\": 0, \"ticks\": \"\"}}, \"type\": \"scattercarpet\"}], \"scattergeo\": [{\"marker\": {\"colorbar\": {\"outlinewidth\": 0, \"ticks\": \"\"}}, \"type\": \"scattergeo\"}], \"scattergl\": [{\"marker\": {\"colorbar\": {\"outlinewidth\": 0, \"ticks\": \"\"}}, \"type\": \"scattergl\"}], \"scattermapbox\": [{\"marker\": {\"colorbar\": {\"outlinewidth\": 0, \"ticks\": \"\"}}, \"type\": \"scattermapbox\"}], \"scatterpolar\": [{\"marker\": {\"colorbar\": {\"outlinewidth\": 0, \"ticks\": \"\"}}, \"type\": \"scatterpolar\"}], \"scatterpolargl\": [{\"marker\": {\"colorbar\": {\"outlinewidth\": 0, \"ticks\": \"\"}}, \"type\": \"scatterpolargl\"}], \"scatterternary\": [{\"marker\": {\"colorbar\": {\"outlinewidth\": 0, \"ticks\": \"\"}}, \"type\": \"scatterternary\"}], \"surface\": [{\"colorbar\": {\"outlinewidth\": 0, \"ticks\": \"\"}, \"colorscale\": [[0.0, \"#0d0887\"], [0.1111111111111111, \"#46039f\"], [0.2222222222222222, \"#7201a8\"], [0.3333333333333333, \"#9c179e\"], [0.4444444444444444, \"#bd3786\"], [0.5555555555555556, \"#d8576b\"], [0.6666666666666666, \"#ed7953\"], [0.7777777777777778, \"#fb9f3a\"], [0.8888888888888888, \"#fdca26\"], [1.0, \"#f0f921\"]], \"type\": \"surface\"}], \"table\": [{\"cells\": {\"fill\": {\"color\": \"#EBF0F8\"}, \"line\": {\"color\": \"white\"}}, \"header\": {\"fill\": {\"color\": \"#C8D4E3\"}, \"line\": {\"color\": \"white\"}}, \"type\": \"table\"}]}, \"layout\": {\"annotationdefaults\": {\"arrowcolor\": \"#2a3f5f\", \"arrowhead\": 0, \"arrowwidth\": 1}, \"coloraxis\": {\"colorbar\": {\"outlinewidth\": 0, \"ticks\": \"\"}}, \"colorscale\": {\"diverging\": [[0, \"#8e0152\"], [0.1, \"#c51b7d\"], [0.2, \"#de77ae\"], [0.3, \"#f1b6da\"], [0.4, \"#fde0ef\"], [0.5, \"#f7f7f7\"], [0.6, \"#e6f5d0\"], [0.7, \"#b8e186\"], [0.8, \"#7fbc41\"], [0.9, \"#4d9221\"], [1, \"#276419\"]], \"sequential\": [[0.0, \"#0d0887\"], [0.1111111111111111, \"#46039f\"], [0.2222222222222222, \"#7201a8\"], [0.3333333333333333, \"#9c179e\"], [0.4444444444444444, \"#bd3786\"], [0.5555555555555556, \"#d8576b\"], [0.6666666666666666, \"#ed7953\"], [0.7777777777777778, \"#fb9f3a\"], [0.8888888888888888, \"#fdca26\"], [1.0, \"#f0f921\"]], \"sequentialminus\": [[0.0, \"#0d0887\"], [0.1111111111111111, \"#46039f\"], [0.2222222222222222, \"#7201a8\"], [0.3333333333333333, \"#9c179e\"], [0.4444444444444444, \"#bd3786\"], [0.5555555555555556, \"#d8576b\"], [0.6666666666666666, \"#ed7953\"], [0.7777777777777778, \"#fb9f3a\"], [0.8888888888888888, \"#fdca26\"], [1.0, \"#f0f921\"]]}, \"colorway\": [\"#636efa\", \"#EF553B\", \"#00cc96\", \"#ab63fa\", \"#FFA15A\", \"#19d3f3\", \"#FF6692\", \"#B6E880\", \"#FF97FF\", \"#FECB52\"], \"font\": {\"color\": \"#2a3f5f\"}, \"geo\": {\"bgcolor\": \"white\", \"lakecolor\": \"white\", \"landcolor\": \"#E5ECF6\", \"showlakes\": true, \"showland\": true, \"subunitcolor\": \"white\"}, \"hoverlabel\": {\"align\": \"left\"}, \"hovermode\": \"closest\", \"mapbox\": {\"style\": \"light\"}, \"paper_bgcolor\": \"white\", \"plot_bgcolor\": \"#E5ECF6\", \"polar\": {\"angularaxis\": {\"gridcolor\": \"white\", \"linecolor\": \"white\", \"ticks\": \"\"}, \"bgcolor\": \"#E5ECF6\", \"radialaxis\": {\"gridcolor\": \"white\", \"linecolor\": \"white\", \"ticks\": \"\"}}, \"scene\": {\"xaxis\": {\"backgroundcolor\": \"#E5ECF6\", \"gridcolor\": \"white\", \"gridwidth\": 2, \"linecolor\": \"white\", \"showbackground\": true, \"ticks\": \"\", \"zerolinecolor\": \"white\"}, \"yaxis\": {\"backgroundcolor\": \"#E5ECF6\", \"gridcolor\": \"white\", \"gridwidth\": 2, \"linecolor\": \"white\", \"showbackground\": true, \"ticks\": \"\", \"zerolinecolor\": \"white\"}, \"zaxis\": {\"backgroundcolor\": \"#E5ECF6\", \"gridcolor\": \"white\", \"gridwidth\": 2, \"linecolor\": \"white\", \"showbackground\": true, \"ticks\": \"\", \"zerolinecolor\": \"white\"}}, \"shapedefaults\": {\"line\": {\"color\": \"#2a3f5f\"}}, \"ternary\": {\"aaxis\": {\"gridcolor\": \"white\", \"linecolor\": \"white\", \"ticks\": \"\"}, \"baxis\": {\"gridcolor\": \"white\", \"linecolor\": \"white\", \"ticks\": \"\"}, \"bgcolor\": \"#E5ECF6\", \"caxis\": {\"gridcolor\": \"white\", \"linecolor\": \"white\", \"ticks\": \"\"}}, \"title\": {\"x\": 0.05}, \"xaxis\": {\"automargin\": true, \"gridcolor\": \"white\", \"linecolor\": \"white\", \"ticks\": \"\", \"title\": {\"standoff\": 15}, \"zerolinecolor\": \"white\", \"zerolinewidth\": 2}, \"yaxis\": {\"automargin\": true, \"gridcolor\": \"white\", \"linecolor\": \"white\", \"ticks\": \"\", \"title\": {\"standoff\": 15}, \"zerolinecolor\": \"white\", \"zerolinewidth\": 2}}}, \"title\": {\"text\": \"\\uc9c0\\uc5ed\\ubcc4 \\ub4f1\\ub85d\\ucc28\\ub7c9\\uc218\\ud30c\\uc545(600\\ub300 \\uc774\\uc0c1,\\uc774\\ud558) \\ub2e8\\uc9c0\\uac1c\\uc218\"}, \"xaxis\": {\"anchor\": \"y\", \"domain\": [0.0, 1.0], \"title\": {\"text\": \"\\uc804\\uc6a9\\uba74\\uc801\"}}, \"yaxis\": {\"anchor\": \"x\", \"domain\": [0.0, 1.0], \"title\": {\"text\": \"\\ub4f1\\ub85d\\ucc28\\ub7c9\\uc218\"}}},\n",
              "                        {\"responsive\": true}\n",
              "                    ).then(function(){\n",
              "                            \n",
              "var gd = document.getElementById('1ce77487-14e8-40da-9a73-2242654705d6');\n",
              "var x = new MutationObserver(function (mutations, observer) {{\n",
              "        var display = window.getComputedStyle(gd).display;\n",
              "        if (!display || display === 'none') {{\n",
              "            console.log([gd, 'removed!']);\n",
              "            Plotly.purge(gd);\n",
              "            observer.disconnect();\n",
              "        }}\n",
              "}});\n",
              "\n",
              "// Listen for the removal of the full notebook cells\n",
              "var notebookContainer = gd.closest('#notebook-container');\n",
              "if (notebookContainer) {{\n",
              "    x.observe(notebookContainer, {childList: true});\n",
              "}}\n",
              "\n",
              "// Listen for the clearing of the current output cell\n",
              "var outputEl = gd.closest('.output');\n",
              "if (outputEl) {{\n",
              "    x.observe(outputEl, {childList: true});\n",
              "}}\n",
              "\n",
              "                        })\n",
              "                };\n",
              "                \n",
              "            </script>\n",
              "        </div>\n",
              "</body>\n",
              "</html>"
            ]
          },
          "metadata": {}
        }
      ]
    },
    {
      "cell_type": "code",
      "metadata": {
        "colab": {
          "base_uri": "https://localhost:8080/",
          "height": 542
        },
        "id": "HG16MnH7mcPq",
        "outputId": "1562cabb-4dcf-49be-ed1c-c08983ee7833"
      },
      "source": [
        "fig = go.Figure()\n",
        "fig = px.scatter(temp_none_duplicates, x='전용면적별세대수', y = '등록차량수',\n",
        "                            color_discrete_sequence=px.colors.qualitative.Alphabet)\n",
        "fig.update_layout(title='지역별 등록차량수파악(600대 이상,이하) 단지개수') #autosize =, width = 1000, height = 500)"
      ],
      "execution_count": 296,
      "outputs": [
        {
          "output_type": "display_data",
          "data": {
            "text/html": [
              "<html>\n",
              "<head><meta charset=\"utf-8\" /></head>\n",
              "<body>\n",
              "    <div>\n",
              "            <script src=\"https://cdnjs.cloudflare.com/ajax/libs/mathjax/2.7.5/MathJax.js?config=TeX-AMS-MML_SVG\"></script><script type=\"text/javascript\">if (window.MathJax) {MathJax.Hub.Config({SVG: {font: \"STIX-Web\"}});}</script>\n",
              "                <script type=\"text/javascript\">window.PlotlyConfig = {MathJaxConfig: 'local'};</script>\n",
              "        <script src=\"https://cdn.plot.ly/plotly-latest.min.js\"></script>    \n",
              "            <div id=\"3d17078e-4ce2-4eae-86c2-0e613b10ccab\" class=\"plotly-graph-div\" style=\"height:525px; width:100%;\"></div>\n",
              "            <script type=\"text/javascript\">\n",
              "                \n",
              "                    window.PLOTLYENV=window.PLOTLYENV || {};\n",
              "                    \n",
              "                if (document.getElementById(\"3d17078e-4ce2-4eae-86c2-0e613b10ccab\")) {\n",
              "                    Plotly.newPlot(\n",
              "                        '3d17078e-4ce2-4eae-86c2-0e613b10ccab',\n",
              "                        [{\"hoverlabel\": {\"namelength\": 0}, \"hovertemplate\": \"\\uc804\\uc6a9\\uba74\\uc801\\ubcc4\\uc138\\ub300\\uc218=%{x}<br>\\ub4f1\\ub85d\\ucc28\\ub7c9\\uc218=%{y}\", \"legendgroup\": \"\", \"marker\": {\"color\": \"#AA0DFE\", \"symbol\": \"circle\"}, \"mode\": \"markers\", \"name\": \"\", \"showlegend\": false, \"type\": \"scatter\", \"x\": [80.85714285714286, 252.0, 381.3333333333333, 261.6, 142.28571428571428, 120.125, 486.6666666666667, 97.25, 47.7, 145.0, 90.4, 157.66666666666666, 106.0, 71.81818181818181, 116.0, 77.33333333333333, 122.66666666666667, 135.2, 200.0, 130.25, 85.66666666666667, 312.6666666666667, 134.16666666666666, 287.0, 46.666666666666664, 131.25, 61.333333333333336, 157.0, 87.0, 233.75, 968.5, 115.42857142857143, 180.5, 225.25, 142.66666666666666, 246.0, 105.0, 231.0, 125.0, 124.75, 105.33333333333333, 52.0, 63.44444444444444, 156.0, 185.75, 104.25, 104.66666666666667, 65.42857142857143, 102.2, 239.0, 33.333333333333336, 217.6, 52.0, 346.6666666666667, 89.55555555555556, 153.5, 93.66666666666667, 132.46153846153845, 140.0, 53.6, 172.5, 140.25, 129.2, 264.0, 306.3333333333333, 113.33333333333333, 63.25, 54.714285714285715, 115.22222222222223, 129.25, 53.5, 82.66666666666667, 424.0, 386.8, 90.18181818181819, 125.25, 62.2, 110.4, 102.44444444444444, 66.66666666666667, 50.0, 107.76923076923077, 227.0, 73.83333333333333, 183.42857142857142, 87.5, 224.0, 108.14285714285714, 81.0, 115.15384615384616, 116.5, 61.666666666666664, 68.8, 117.64285714285714, 110.54545454545455, 118.66666666666667, 208.0, 74.8, 53.57142857142857, 383.25, 570.0, 124.0, 323.6, 144.0, 143.5, 163.0, 174.0, 223.5, 275.0, 163.75, 55.714285714285715, 401.0, 203.5, 91.2, 210.0, 199.2, 165.5, 147.33333333333334, 255.0, 77.0, 90.14285714285714, 156.16666666666666, 111.66666666666667, 203.33333333333334, 176.25, 124.28571428571429, 55.0, 280.0, 496.0, 246.4, 158.0, 98.8, 70.75, 38.57142857142857, 143.75, 74.16666666666667, 124.5, 66.375, 69.38461538461539, 89.75, 160.5, 78.66666666666667, 70.42857142857143, 675.0, 128.0, 53.0, 104.0, 66.75, 32.77777777777778, 70.27272727272727, 111.7, 213.25, 40.0, 87.66666666666667, 114.0, 107.42857142857143, 307.3333333333333, 312.0, 93.4, 109.33333333333333, 376.5, 160.6, 125.6, 44.0, 178.75, 116.75, 113.0, 164.4, 101.0, 198.5, 100.33333333333333, 154.0, 254.0, 93.33333333333333, 348.0, 118.8, 96.0, 188.0, 209.0, 130.72727272727272, 10.0, 6.5, 110.0, 92.16666666666667, 194.85714285714286, 108.66666666666667, 77.83333333333333, 76.5, 106.4, 128.33333333333334, 477.8, 172.5, 137.375, 84.5, 113.0, 91.66666666666667, 197.33333333333334, 328.0, 142.2, 158.75, 103.75, 254.5, 37.0, 118.66666666666667, 94.33333333333333, 223.5, 73.25, 35.333333333333336, 61.2, 148.33333333333334, 204.0, 298.0, 82.0, 170.33333333333334, 60.0, 259.3333333333333, 102.5, 101.0, 125.83333333333333, 104.0, 99.6, 145.25, 102.8, 227.66666666666666, 40.0, 128.0, 30.0, 178.6, 218.5, 48.5, 118.75, 107.75, 185.71428571428572, 108.0, 78.1, 172.2, 198.0, 65.25, 13.333333333333334, 70.91666666666667, 118.0, 486.6666666666667, 98.4, 64.0, 256.0, 99.0, 142.4, 188.16666666666666, 229.33333333333334, 50.608695652173914, 128.83333333333334, 8.666666666666666, 75.7, 217.0, 179.6, 164.33333333333334, 60.166666666666664, 161.66666666666666, 121.125, 120.0, 160.33333333333334, 58.57142857142857, 70.28571428571429, 142.57142857142858, 66.4, 146.66666666666666, 100.8, 240.0, 116.66666666666667, 596.25, 59.166666666666664, 366.3333333333333, 320.0, 102.0, 126.0, 236.5, 90.75, 90.5, 44.5, 101.66666666666667, 124.66666666666667, 96.875, 145.33333333333334, 152.66666666666666, 136.0, 249.0, 102.8, 207.66666666666666, 110.25, 101.33333333333333, 228.66666666666666, 195.0, 73.75, 133.33333333333334, 68.14285714285714, 88.75, 23.333333333333332, 30.0, 80.54545454545455, 93.33333333333333, 81.8, 316.0, 157.83333333333334, 90.0, 160.28571428571428, 357.3333333333333, 58.42857142857143, 376.75, 115.6, 95.0, 656.0, 85.71428571428571, 281.5, 151.25, 75.6, 126.4, 153.85714285714286, 257.0, 65.42857142857143, 512.0, 111.6, 108.4, 106.5, 88.83333333333333, 210.0, 164.0, 106.72727272727273, 107.14285714285714, 96.875, 59.25, 141.66666666666666, 184.16666666666666, 204.5, 84.66666666666667, 111.25, 115.0, 96.5, 118.92307692307692, 34.625, 71.0, 94.66666666666667, 114.2, 231.0, 276.0, 65.28571428571429, 236.0, 101.6, 90.0, 133.33333333333334, 183.33333333333334, 80.5, 94.0, 121.85714285714286, 169.5, 135.33333333333334, 97.0, 231.0, 112.5, 58.9, 151.875, 376.0, 151.0, 118.8, 204.5, 63.666666666666664, 40.0, 66.11764705882354, 80.77777777777777, 120.28571428571429, 251.33333333333334, 83.5, 77.85714285714286, 170.5, 960.0, 106.71428571428571, 71.0, 76.6, 51.166666666666664, 90.0, 39.833333333333336, 24.0, 77.52631578947368, 66.0, 40.0, 100.0, 186.0, 114.0, 124.0, 83.83333333333333, 82.0, 56.25, 468.0, 110.66666666666667, 202.5, 176.33333333333334, 100.54545454545455, 18.0, 86.14285714285714, 173.4, 67.14285714285714, 325.3333333333333, 48.6, 89.66666666666667, 208.0, 185.33333333333334, 421.0, 310.0, 181.2, 173.25, 96.66666666666667, 116.0, 66.0, 193.75, 291.6666666666667, 112.5, 123.71428571428571, 45.81818181818182, 118.0, 128.66666666666666, 180.66666666666666, 129.6, 252.66666666666666, 99.8], \"xaxis\": \"x\", \"y\": [481.0, 93.0, 376.0, 1665.0, 708.0, 579.0, 1246.0, 450.0, 957.0, 422.0, 207.0, 316.0, 1279.0, 645.0, 266.0, 156.0, 243.0, 762.0, 125.0, 521.0, 246.0, 1255.0, 510.0, 236.0, 226.0, 521.0, 309.0, 505.0, 417.0, 787.0, 313.0, 1077.0, 1668.0, 1019.0, 842.0, 763.0, 620.0, 632.0, 373.0, 505.0, 326.0, 700.0, 609.0, 430.0, 619.0, 1044.0, 311.0, 488.0, 585.0, 90.0, 59.0, 586.0, 148.0, 921.0, 823.0, 311.0, 657.0, 1804.0, 616.0, 217.0, 934.0, 643.0, 484.0, 780.0, 881.0, 202.0, 504.0, 446.0, 1084.0, 359.0, 22.0, 398.0, 924.0, 1153.0, 770.0, 554.0, 551.0, 410.0, 442.0, 549.0, 509.0, 2315.0, 995.0, 375.0, 2550.0, 945.0, 861.0, 754.0, 294.0, 1145.0, 271.0, 1595.0, 498.0, 1350.0, 1064.0, 815.0, 179.0, 262.0, 333.0, 839.0, 172.0, 1284.0, 1044.0, 420.0, 557.0, 810.0, 553.0, 70.0, 505.0, 899.0, 296.0, 382.0, 438.0, 475.0, 235.0, 1150.0, 669.0, 713.0, 588.0, 284.0, 528.0, 479.0, 1158.0, 507.0, 718.0, 739.0, 308.0, 498.0, 98.0, 1101.0, 946.0, 413.0, 268.0, 297.0, 855.0, 509.0, 236.0, 257.0, 416.0, 512.0, 700.0, 465.0, 288.0, 873.0, 526.0, 322.0, 1101.0, 520.0, 164.0, 349.0, 960.0, 1087.0, 123.0, 854.0, 65.0, 606.0, 979.0, 131.0, 362.0, 566.0, 496.0, 649.0, 701.0, 267.0, 682.0, 979.0, 1653.0, 979.0, 609.0, 508.0, 730.0, 460.0, 670.0, 614.0, 96.0, 570.0, 345.0, 412.0, 120.0, 1983.0, 78.0, 951.0, 272.0, 652.0, 1001.0, 255.0, 398.0, 277.0, 625.0, 254.0, 116.0, 613.0, 733.0, 135.0, 374.0, 408.0, 62.0, 209.0, 713.0, 761.0, 616.0, 808.0, 419.0, 845.0, 415.0, 31.0, 596.0, 207.0, 396.0, 831.0, 752.0, 75.0, 413.0, 1730.0, 234.0, 1896.0, 709.0, 600.0, 730.0, 401.0, 500.0, 639.0, 220.0, 886.0, 159.0, 457.0, 133.0, 253.0, 630.0, 166.0, 402.0, 496.0, 795.0, 417.0, 548.0, 690.0, 91.0, 220.0, 19.0, 902.0, 1162.0, 132.0, 246.0, 258.0, 108.0, 336.0, 757.0, 1306.0, 841.0, 780.0, 723.0, 13.0, 503.0, 594.0, 735.0, 1398.0, 301.0, 822.0, 1595.0, 1524.0, 572.0, 318.0, 525.0, 995.0, 383.0, 671.0, 353.0, 60.0, 403.0, 359.0, 328.0, 127.0, 752.0, 155.0, 495.0, 396.0, 719.0, 280.0, 124.0, 204.0, 347.0, 745.0, 683.0, 744.0, 125.0, 129.0, 324.0, 226.0, 840.0, 244.0, 86.0, 149.0, 359.0, 448.0, 505.0, 248.0, 55.0, 98.0, 870.0, 410.0, 344.0, 78.0, 1378.0, 540.0, 713.0, 1159.0, 284.0, 364.0, 444.0, 244.0, 189.0, 343.0, 712.0, 266.0, 293.0, 557.0, 1374.0, 821.0, 562.0, 382.0, 553.0, 646.0, 793.0, 345.0, 1010.0, 693.0, 1117.0, 196.0, 548.0, 451.0, 800.0, 579.0, 901.0, 832.0, 552.0, 561.0, 422.0, 922.0, 254.0, 19.0, 1240.0, 487.0, 1200.0, 63.0, 505.0, 359.0, 130.0, 16.0, 334.0, 1204.0, 451.0, 559.0, 910.0, 793.0, 887.0, 647.0, 302.0, 1015.0, 587.0, 1023.0, 950.0, 340.0, 585.0, 1400.0, 327.0, 163.0, 1433.0, 763.0, 568.0, 820.0, 648.0, 205.0, 305.0, 386.0, 610.0, 321.0, 375.0, 302.0, 358.0, 146.0, 47.0, 799.0, 228.0, 165.0, 148.0, 481.0, 441.0, 449.0, 1090.0, 189.0, 205.0, 62.0, 826.0, 73.0, 751.0, 982.0, 57.0, 589.0, 1359.0, 480.0, 94.0, 281.0, 509.0, 572.0, 555.0, 1832.0, 783.0, 1709.0, 133.0, 404.0, 638.0, 442.0, 177.0, 159.0, 282.0, 782.0, 365.0, 330.0, 652.0, 701.0, 435.0, 590.0, 437.0], \"yaxis\": \"y\"}],\n",
              "                        {\"legend\": {\"tracegroupgap\": 0}, \"margin\": {\"t\": 60}, \"template\": {\"data\": {\"bar\": [{\"error_x\": {\"color\": \"#2a3f5f\"}, \"error_y\": {\"color\": \"#2a3f5f\"}, \"marker\": {\"line\": {\"color\": \"#E5ECF6\", \"width\": 0.5}}, \"type\": \"bar\"}], \"barpolar\": [{\"marker\": {\"line\": {\"color\": \"#E5ECF6\", \"width\": 0.5}}, \"type\": \"barpolar\"}], \"carpet\": [{\"aaxis\": {\"endlinecolor\": \"#2a3f5f\", \"gridcolor\": \"white\", \"linecolor\": \"white\", \"minorgridcolor\": \"white\", \"startlinecolor\": \"#2a3f5f\"}, \"baxis\": {\"endlinecolor\": \"#2a3f5f\", \"gridcolor\": \"white\", \"linecolor\": \"white\", \"minorgridcolor\": \"white\", \"startlinecolor\": \"#2a3f5f\"}, \"type\": \"carpet\"}], \"choropleth\": [{\"colorbar\": {\"outlinewidth\": 0, \"ticks\": \"\"}, \"type\": \"choropleth\"}], \"contour\": [{\"colorbar\": {\"outlinewidth\": 0, \"ticks\": \"\"}, \"colorscale\": [[0.0, \"#0d0887\"], [0.1111111111111111, \"#46039f\"], [0.2222222222222222, \"#7201a8\"], [0.3333333333333333, \"#9c179e\"], [0.4444444444444444, \"#bd3786\"], [0.5555555555555556, \"#d8576b\"], [0.6666666666666666, \"#ed7953\"], [0.7777777777777778, \"#fb9f3a\"], [0.8888888888888888, \"#fdca26\"], [1.0, \"#f0f921\"]], \"type\": \"contour\"}], \"contourcarpet\": [{\"colorbar\": {\"outlinewidth\": 0, \"ticks\": \"\"}, \"type\": \"contourcarpet\"}], \"heatmap\": [{\"colorbar\": {\"outlinewidth\": 0, \"ticks\": \"\"}, \"colorscale\": [[0.0, \"#0d0887\"], [0.1111111111111111, \"#46039f\"], [0.2222222222222222, \"#7201a8\"], [0.3333333333333333, \"#9c179e\"], [0.4444444444444444, \"#bd3786\"], [0.5555555555555556, \"#d8576b\"], [0.6666666666666666, \"#ed7953\"], [0.7777777777777778, \"#fb9f3a\"], [0.8888888888888888, \"#fdca26\"], [1.0, \"#f0f921\"]], \"type\": \"heatmap\"}], \"heatmapgl\": [{\"colorbar\": {\"outlinewidth\": 0, \"ticks\": \"\"}, \"colorscale\": [[0.0, \"#0d0887\"], [0.1111111111111111, \"#46039f\"], [0.2222222222222222, \"#7201a8\"], [0.3333333333333333, \"#9c179e\"], [0.4444444444444444, \"#bd3786\"], [0.5555555555555556, \"#d8576b\"], [0.6666666666666666, \"#ed7953\"], [0.7777777777777778, \"#fb9f3a\"], [0.8888888888888888, \"#fdca26\"], [1.0, \"#f0f921\"]], \"type\": \"heatmapgl\"}], \"histogram\": [{\"marker\": {\"colorbar\": {\"outlinewidth\": 0, \"ticks\": \"\"}}, \"type\": \"histogram\"}], \"histogram2d\": [{\"colorbar\": {\"outlinewidth\": 0, \"ticks\": \"\"}, \"colorscale\": [[0.0, \"#0d0887\"], [0.1111111111111111, \"#46039f\"], [0.2222222222222222, \"#7201a8\"], [0.3333333333333333, \"#9c179e\"], [0.4444444444444444, \"#bd3786\"], [0.5555555555555556, \"#d8576b\"], [0.6666666666666666, \"#ed7953\"], [0.7777777777777778, \"#fb9f3a\"], [0.8888888888888888, \"#fdca26\"], [1.0, \"#f0f921\"]], \"type\": \"histogram2d\"}], \"histogram2dcontour\": [{\"colorbar\": {\"outlinewidth\": 0, \"ticks\": \"\"}, \"colorscale\": [[0.0, \"#0d0887\"], [0.1111111111111111, \"#46039f\"], [0.2222222222222222, \"#7201a8\"], [0.3333333333333333, \"#9c179e\"], [0.4444444444444444, \"#bd3786\"], [0.5555555555555556, \"#d8576b\"], [0.6666666666666666, \"#ed7953\"], [0.7777777777777778, \"#fb9f3a\"], [0.8888888888888888, \"#fdca26\"], [1.0, \"#f0f921\"]], \"type\": \"histogram2dcontour\"}], \"mesh3d\": [{\"colorbar\": {\"outlinewidth\": 0, \"ticks\": \"\"}, \"type\": \"mesh3d\"}], \"parcoords\": [{\"line\": {\"colorbar\": {\"outlinewidth\": 0, \"ticks\": \"\"}}, \"type\": \"parcoords\"}], \"pie\": [{\"automargin\": true, \"type\": \"pie\"}], \"scatter\": [{\"marker\": {\"colorbar\": {\"outlinewidth\": 0, \"ticks\": \"\"}}, \"type\": \"scatter\"}], \"scatter3d\": [{\"line\": {\"colorbar\": {\"outlinewidth\": 0, \"ticks\": \"\"}}, \"marker\": {\"colorbar\": {\"outlinewidth\": 0, \"ticks\": \"\"}}, \"type\": \"scatter3d\"}], \"scattercarpet\": [{\"marker\": {\"colorbar\": {\"outlinewidth\": 0, \"ticks\": \"\"}}, \"type\": \"scattercarpet\"}], \"scattergeo\": [{\"marker\": {\"colorbar\": {\"outlinewidth\": 0, \"ticks\": \"\"}}, \"type\": \"scattergeo\"}], \"scattergl\": [{\"marker\": {\"colorbar\": {\"outlinewidth\": 0, \"ticks\": \"\"}}, \"type\": \"scattergl\"}], \"scattermapbox\": [{\"marker\": {\"colorbar\": {\"outlinewidth\": 0, \"ticks\": \"\"}}, \"type\": \"scattermapbox\"}], \"scatterpolar\": [{\"marker\": {\"colorbar\": {\"outlinewidth\": 0, \"ticks\": \"\"}}, \"type\": \"scatterpolar\"}], \"scatterpolargl\": [{\"marker\": {\"colorbar\": {\"outlinewidth\": 0, \"ticks\": \"\"}}, \"type\": \"scatterpolargl\"}], \"scatterternary\": [{\"marker\": {\"colorbar\": {\"outlinewidth\": 0, \"ticks\": \"\"}}, \"type\": \"scatterternary\"}], \"surface\": [{\"colorbar\": {\"outlinewidth\": 0, \"ticks\": \"\"}, \"colorscale\": [[0.0, \"#0d0887\"], [0.1111111111111111, \"#46039f\"], [0.2222222222222222, \"#7201a8\"], [0.3333333333333333, \"#9c179e\"], [0.4444444444444444, \"#bd3786\"], [0.5555555555555556, \"#d8576b\"], [0.6666666666666666, \"#ed7953\"], [0.7777777777777778, \"#fb9f3a\"], [0.8888888888888888, \"#fdca26\"], [1.0, \"#f0f921\"]], \"type\": \"surface\"}], \"table\": [{\"cells\": {\"fill\": {\"color\": \"#EBF0F8\"}, \"line\": {\"color\": \"white\"}}, \"header\": {\"fill\": {\"color\": \"#C8D4E3\"}, \"line\": {\"color\": \"white\"}}, \"type\": \"table\"}]}, \"layout\": {\"annotationdefaults\": {\"arrowcolor\": \"#2a3f5f\", \"arrowhead\": 0, \"arrowwidth\": 1}, \"coloraxis\": {\"colorbar\": {\"outlinewidth\": 0, \"ticks\": \"\"}}, \"colorscale\": {\"diverging\": [[0, \"#8e0152\"], [0.1, \"#c51b7d\"], [0.2, \"#de77ae\"], [0.3, \"#f1b6da\"], [0.4, \"#fde0ef\"], [0.5, \"#f7f7f7\"], [0.6, \"#e6f5d0\"], [0.7, \"#b8e186\"], [0.8, \"#7fbc41\"], [0.9, \"#4d9221\"], [1, \"#276419\"]], \"sequential\": [[0.0, \"#0d0887\"], [0.1111111111111111, \"#46039f\"], [0.2222222222222222, \"#7201a8\"], [0.3333333333333333, \"#9c179e\"], [0.4444444444444444, \"#bd3786\"], [0.5555555555555556, \"#d8576b\"], [0.6666666666666666, \"#ed7953\"], [0.7777777777777778, \"#fb9f3a\"], [0.8888888888888888, \"#fdca26\"], [1.0, \"#f0f921\"]], \"sequentialminus\": [[0.0, \"#0d0887\"], [0.1111111111111111, \"#46039f\"], [0.2222222222222222, \"#7201a8\"], [0.3333333333333333, \"#9c179e\"], [0.4444444444444444, \"#bd3786\"], [0.5555555555555556, \"#d8576b\"], [0.6666666666666666, \"#ed7953\"], [0.7777777777777778, \"#fb9f3a\"], [0.8888888888888888, \"#fdca26\"], [1.0, \"#f0f921\"]]}, \"colorway\": [\"#636efa\", \"#EF553B\", \"#00cc96\", \"#ab63fa\", \"#FFA15A\", \"#19d3f3\", \"#FF6692\", \"#B6E880\", \"#FF97FF\", \"#FECB52\"], \"font\": {\"color\": \"#2a3f5f\"}, \"geo\": {\"bgcolor\": \"white\", \"lakecolor\": \"white\", \"landcolor\": \"#E5ECF6\", \"showlakes\": true, \"showland\": true, \"subunitcolor\": \"white\"}, \"hoverlabel\": {\"align\": \"left\"}, \"hovermode\": \"closest\", \"mapbox\": {\"style\": \"light\"}, \"paper_bgcolor\": \"white\", \"plot_bgcolor\": \"#E5ECF6\", \"polar\": {\"angularaxis\": {\"gridcolor\": \"white\", \"linecolor\": \"white\", \"ticks\": \"\"}, \"bgcolor\": \"#E5ECF6\", \"radialaxis\": {\"gridcolor\": \"white\", \"linecolor\": \"white\", \"ticks\": \"\"}}, \"scene\": {\"xaxis\": {\"backgroundcolor\": \"#E5ECF6\", \"gridcolor\": \"white\", \"gridwidth\": 2, \"linecolor\": \"white\", \"showbackground\": true, \"ticks\": \"\", \"zerolinecolor\": \"white\"}, \"yaxis\": {\"backgroundcolor\": \"#E5ECF6\", \"gridcolor\": \"white\", \"gridwidth\": 2, \"linecolor\": \"white\", \"showbackground\": true, \"ticks\": \"\", \"zerolinecolor\": \"white\"}, \"zaxis\": {\"backgroundcolor\": \"#E5ECF6\", \"gridcolor\": \"white\", \"gridwidth\": 2, \"linecolor\": \"white\", \"showbackground\": true, \"ticks\": \"\", \"zerolinecolor\": \"white\"}}, \"shapedefaults\": {\"line\": {\"color\": \"#2a3f5f\"}}, \"ternary\": {\"aaxis\": {\"gridcolor\": \"white\", \"linecolor\": \"white\", \"ticks\": \"\"}, \"baxis\": {\"gridcolor\": \"white\", \"linecolor\": \"white\", \"ticks\": \"\"}, \"bgcolor\": \"#E5ECF6\", \"caxis\": {\"gridcolor\": \"white\", \"linecolor\": \"white\", \"ticks\": \"\"}}, \"title\": {\"x\": 0.05}, \"xaxis\": {\"automargin\": true, \"gridcolor\": \"white\", \"linecolor\": \"white\", \"ticks\": \"\", \"title\": {\"standoff\": 15}, \"zerolinecolor\": \"white\", \"zerolinewidth\": 2}, \"yaxis\": {\"automargin\": true, \"gridcolor\": \"white\", \"linecolor\": \"white\", \"ticks\": \"\", \"title\": {\"standoff\": 15}, \"zerolinecolor\": \"white\", \"zerolinewidth\": 2}}}, \"title\": {\"text\": \"\\uc9c0\\uc5ed\\ubcc4 \\ub4f1\\ub85d\\ucc28\\ub7c9\\uc218\\ud30c\\uc545(600\\ub300 \\uc774\\uc0c1,\\uc774\\ud558) \\ub2e8\\uc9c0\\uac1c\\uc218\"}, \"xaxis\": {\"anchor\": \"y\", \"domain\": [0.0, 1.0], \"title\": {\"text\": \"\\uc804\\uc6a9\\uba74\\uc801\\ubcc4\\uc138\\ub300\\uc218\"}}, \"yaxis\": {\"anchor\": \"x\", \"domain\": [0.0, 1.0], \"title\": {\"text\": \"\\ub4f1\\ub85d\\ucc28\\ub7c9\\uc218\"}}},\n",
              "                        {\"responsive\": true}\n",
              "                    ).then(function(){\n",
              "                            \n",
              "var gd = document.getElementById('3d17078e-4ce2-4eae-86c2-0e613b10ccab');\n",
              "var x = new MutationObserver(function (mutations, observer) {{\n",
              "        var display = window.getComputedStyle(gd).display;\n",
              "        if (!display || display === 'none') {{\n",
              "            console.log([gd, 'removed!']);\n",
              "            Plotly.purge(gd);\n",
              "            observer.disconnect();\n",
              "        }}\n",
              "}});\n",
              "\n",
              "// Listen for the removal of the full notebook cells\n",
              "var notebookContainer = gd.closest('#notebook-container');\n",
              "if (notebookContainer) {{\n",
              "    x.observe(notebookContainer, {childList: true});\n",
              "}}\n",
              "\n",
              "// Listen for the clearing of the current output cell\n",
              "var outputEl = gd.closest('.output');\n",
              "if (outputEl) {{\n",
              "    x.observe(outputEl, {childList: true});\n",
              "}}\n",
              "\n",
              "                        })\n",
              "                };\n",
              "                \n",
              "            </script>\n",
              "        </div>\n",
              "</body>\n",
              "</html>"
            ]
          },
          "metadata": {}
        }
      ]
    },
    {
      "cell_type": "markdown",
      "metadata": {
        "id": "4HQ2Il-dmbzy"
      },
      "source": [
        "전용면적별세대수는 일부구간에서는 강한 양의 상관관계를 보이나, 앞서 살펴본 상가유무에 따라서 영향을 미침.  \n",
        "\n",
        "전용면적별세대수 / 전용면적 평균에 따른 등록차량수를 확인해보자"
      ]
    },
    {
      "cell_type": "code",
      "metadata": {
        "id": "JtLq5uRuoCWY"
      },
      "source": [
        "temp_none_duplicates =  raw_train[raw_train['임대건물구분'] == '아파트'].groupby('단지코드')['전용면적', '전용면적별세대수', '등록차량수'].agg({'전용면적': 'sum', '전용면적별세대수': 'sum', '등록차량수': 'mean'})"
      ],
      "execution_count": 322,
      "outputs": []
    },
    {
      "cell_type": "code",
      "metadata": {
        "id": "6oP5Y2HBnzDt"
      },
      "source": [
        "temp_none_duplicates['단지내_세대수/전용면적_비율'] = raw_train[raw_train['임대건물구분'] == '아파트']['전용면적별세대수'] / raw_train[raw_train['임대건물구분'] == '아파트']['전용면적']"
      ],
      "execution_count": 303,
      "outputs": []
    },
    {
      "cell_type": "code",
      "metadata": {
        "id": "MLe9CHJ0nDKN"
      },
      "source": [
        "temp = temp_none_duplicates.groupby('단지코드')['단지내_세대수/전용면적_비율','등록차량수'].mean().reset_index()\n",
        "temp['등록차량수'] /= 1000"
      ],
      "execution_count": 309,
      "outputs": []
    },
    {
      "cell_type": "code",
      "metadata": {
        "colab": {
          "base_uri": "https://localhost:8080/",
          "height": 542
        },
        "id": "lJhoLIPpp-_T",
        "outputId": "a4c87ab5-711f-4616-858c-c9e78bd30f8d"
      },
      "source": [
        "fig = go.Figure()\n",
        "fig = px.scatter(temp, x='단지내_세대수/전용면적_비율', y = '등록차량수',\n",
        "                            color_discrete_sequence=px.colors.qualitative.Alphabet)\n",
        "fig.update_layout(title= '단지내_세대수/전용면적_비율, 등록차량수 분포') #autosize =, width = 1000, height = 500)"
      ],
      "execution_count": 315,
      "outputs": [
        {
          "output_type": "display_data",
          "data": {
            "text/html": [
              "<html>\n",
              "<head><meta charset=\"utf-8\" /></head>\n",
              "<body>\n",
              "    <div>\n",
              "            <script src=\"https://cdnjs.cloudflare.com/ajax/libs/mathjax/2.7.5/MathJax.js?config=TeX-AMS-MML_SVG\"></script><script type=\"text/javascript\">if (window.MathJax) {MathJax.Hub.Config({SVG: {font: \"STIX-Web\"}});}</script>\n",
              "                <script type=\"text/javascript\">window.PlotlyConfig = {MathJaxConfig: 'local'};</script>\n",
              "        <script src=\"https://cdn.plot.ly/plotly-latest.min.js\"></script>    \n",
              "            <div id=\"3e42594c-8bda-4bc1-835b-d26048350641\" class=\"plotly-graph-div\" style=\"height:525px; width:100%;\"></div>\n",
              "            <script type=\"text/javascript\">\n",
              "                \n",
              "                    window.PLOTLYENV=window.PLOTLYENV || {};\n",
              "                    \n",
              "                if (document.getElementById(\"3e42594c-8bda-4bc1-835b-d26048350641\")) {\n",
              "                    Plotly.newPlot(\n",
              "                        '3e42594c-8bda-4bc1-835b-d26048350641',\n",
              "                        [{\"hoverlabel\": {\"namelength\": 0}, \"hovertemplate\": \"\\ub2e8\\uc9c0\\ub0b4_\\uc138\\ub300\\uc218/\\uc804\\uc6a9\\uba74\\uc801_\\ube44\\uc728=%{x}<br>\\ub4f1\\ub85d\\ucc28\\ub7c9\\uc218=%{y}\", \"legendgroup\": \"\", \"marker\": {\"color\": \"#AA0DFE\", \"symbol\": \"circle\"}, \"mode\": \"markers\", \"name\": \"\", \"showlegend\": false, \"type\": \"scatter\", \"x\": [1.9363517256850407, 6.37920986885, 7.159256933682425, 5.7373365665047125, 3.5867270466071814, 2.8635919604188427, 13.237440455150848, 2.0735607675906182, 0.6690961535110668, 2.6589797486572966, 2.2878494868364405, 2.9168081314562517, 2.310223402541627, 1.7299905381658838, 3.4635001802503647, 1.9561300100483263, 3.7523968060698016, 3.251676799916934, 7.077347108376829, 2.774073567851049, 2.0008849999941476, 8.924394507537626, 3.266980865615295, 6.40780943370518, 1.0206105680166395, 3.2220248847250144, 1.5174849100953425, 3.6586694713034076, 2.0027357494603746, 6.067800128681021, 35.38781661501445, 2.5845962433450644, 3.212290086834052, 4.22992620460765, 3.420559143189711, 6.787768684409702, 2.240131044079423, 5.884117670477685, 2.355101857701031, 5.343100787351161, 2.9560502988792514, 1.2941457831479817, 1.4081012401287187, 2.986954225977968, 5.015364084442247, 2.6223061406609776, 1.879180403299699, 1.5451748713795619, 1.8540914808782787, 8.347118154991522, 1.3589366745620106, 8.532960298755743, 1.2907866892586517, 13.873446974288244, 2.2953596901017956, 2.8450893182863872, 2.020736371764585, 3.0013562882785, 4.407543378038503, 1.4732659236850005, 3.9152945552258003, 3.0141481237080554, 3.3315269620257966, 4.407523270589856, 3.7067671394501347, 3.6446516410263814, 1.3922026264743903, 1.189601018412319, 2.9420074804029643, 3.0502225103139695, 1.5281222314551586, 2.0964909002883023, 12.993302660234933, 12.81268912050202, 2.367612355505055, 2.827721518056455, 1.384353416233298, 3.0719087037938286, 3.1351397032403603, 1.5397016919305808, 0.678147938924386, 1.6365526472763081, 2.971269418513299, 1.847086834811951, 5.528063174671325, 1.5898381376398714, 4.6641140281611095, 2.041352370898397, 2.0312004584367194, 2.7111938797222694, 2.8674966418367545, 1.3522393798277967, 0.935112938681901, 2.9796633402085013, 2.8277800508504907, 2.715638948049198, 4.609600848660613, 1.9966207556265132, 1.2102015716586045, 6.717780056119111, 20.85092435363119, 2.5103012258281003, 10.355228278529719, 3.9329263755460917, 3.618218546589798, 3.789896327230393, 3.966408760206677, 8.029032033092289, 4.890480956358994, 1.9992789525166863, 1.339837996344928, 10.172218771129808, 4.339019189765459, 2.346036970303384, 5.334149302931151, 3.8871472444508655, 3.044779614794618, 1.8103300435952019, 9.939085919557035, 1.9104727519351172, 2.2723396699419642, 4.046547834418548, 2.5062964456554897, 8.527729015947113, 4.231059475701173, 3.1714765893292287, 1.101456076882239, 5.265071151534598, 15.942198787247039, 6.137368843764499, 1.9102657616540002, 1.8004774529965424, 1.5879570284529445, 0.8885776852163634, 1.7233273371845403, 2.6449234704482314, 2.6696853491628545, 1.4488731464935407, 2.757863897757441, 1.8763639478307623, 2.9537764105494047, 1.7600666743581312, 1.6698800658167865, 12.429595070397493, 3.4903757893250877, 1.3262064409340097, 2.7006955159606965, 1.5608084864308323, 1.1755490830073783, 1.596262799406267, 2.9064416378109703, 3.8917979532431777, 1.7323431374347575, 1.093995957574436, 2.905559786747906, 2.6173445631542473, 5.615286987169582, 7.886425138333536, 2.05269145800069, 2.754821000733184, 7.83461581257696, 4.2284464802241555, 4.754896872924565, 1.7595400284949168, 4.466022090527366, 1.7623605913590508, 1.5202747966001677, 3.0257734940483005, 1.1886291987428566, 5.132936700418609, 2.2140294931876183, 2.771227029448846, 4.569949324567004, 2.398911715930008, 12.345524007676717, 2.4887392168540687, 4.068479045551856, 3.2919994273805506, 7.150526620143348, 2.1837586165190617, 0.4155939048350209, 0.07874091794344322, 1.964838593034326, 2.2993876754157188, 4.7435290662898515, 2.7139249272479113, 1.9491200602445327, 1.852405377309981, 1.8547959803918483, 2.7349645597093186, 17.44750870677668, 4.875037091971505, 3.530023430511833, 2.133560607997743, 2.8220633681515577, 2.1881298709511605, 7.1855789334507305, 12.140704707689133, 2.884935724119355, 2.984557147928479, 2.5819462549795666, 5.018422261111528, 1.636637031224186, 2.584478100601437, 2.2543643772621738, 8.029032033092289, 1.6804533427582078, 0.8056268056059398, 2.5918066879160087, 2.7385205909209955, 4.493242053381537, 10.40770380831579, 1.7794381064356442, 2.440049673041385, 1.1563294459165345, 7.731670259573349, 2.205815783976379, 1.1886272097540656, 2.5695813032291768, 1.874811190155254, 2.2877246194098126, 3.443120441230011, 3.7202669274759366, 6.356387551101725, 1.7061606993557525, 2.3737913913244997, 1.2157971319098122, 6.044363797066431, 5.007655341340335, 1.0105964335487416, 2.9133446809777404, 2.1811070887483526, 4.193805523466355, 3.2670723379781577, 1.7494542314490218, 3.966370430216118, 4.944236511037903, 1.5844682197766298, 0.5964090559094344, 1.5546251487210272, 2.021502628994954, 16.966954204606708, 2.658952430442042, 1.269856699895883, 9.134590686535491, 1.2040714212794275, 3.139676181300461, 3.674720889675904, 4.30060420541498, 0.6887832219683291, 2.8501126091422737, 0.37164410485749005, 1.8809626814396156, 4.044582653378911, 3.790091510405408, 3.5214449140238724, 1.3615152587012558, 4.157465472224722, 1.761466055739506, 1.7854818904465048, 3.5984149093733317, 1.4257251401143975, 1.7268984930455638, 3.3979923994189467, 1.4272793512925808, 2.73734229790449, 2.5957002129003777, 8.616576686456334, 2.682323142200701, 21.359799101207834, 1.3148600866491957, 12.999032338210872, 8.31650462773201, 3.117620926327978, 2.9409297572700117, 6.952675975512143, 1.1383286506393073, 2.509339725784056, 1.3402276953966752, 2.5224863833413247, 2.230225905305701, 2.1278993511031157, 3.572362513318113, 4.694787676398614, 3.450025367833587, 9.219294173542732, 2.6142129301370596, 4.7517159091742665, 2.542435980119022, 2.6832907075873824, 7.896323611674127, 4.977151561309977, 1.4890859370383276, 5.8838180834996745, 1.575508189467384, 1.8334773285164476, 0.618794540791136, 1.2549742972960498, 1.9011965568008422, 2.7427066063524936, 2.090165408012535, 10.836492711713378, 1.9688996112571573, 1.9694685272880328, 4.306331273526378, 6.481789192828337, 1.2613226992726896, 13.482454591816719, 4.241854753668642, 1.6905518856410577, 24.281409415378267, 2.8011702410694084, 7.774331827308623, 2.7480752930541867, 1.7184349791805804, 3.1118834659840164, 2.6726475009495916, 6.926781269722754, 1.4571591256307141, 12.857860371672526, 2.1555484695379947, 1.9380767632139648, 2.9511483348348864, 2.0927518597032493, 5.064025282144737, 5.6108008594982035, 2.3155567474766787, 3.998618383751183, 2.3321982032139363, 1.4492789629128215, 3.4749937034562155, 4.663983861231526, 3.842978708895342, 1.914484884723156, 2.2662231468718965, 2.974741559209116, 1.6696653365865295, 3.31903858699408, 0.7575233160484394, 1.5295807113482234, 1.1619893127629926, 2.7964788338911535, 3.851404695345339, 9.983319283267267, 1.3342721124442491, 5.836333060984921, 4.14624536946914, 3.6246476037051956, 3.3144462444144867, 6.046295288044573, 1.9680451009962538, 3.0206441388589385, 2.5104146429604595, 4.373534286844912, 2.9377138923884236, 2.283367709304787, 5.82653585360342, 2.2489379878037035, 1.4952020816832052, 3.531491966560486, 7.359185584731949, 2.7769169211849336, 2.3881603612428512, 2.4837386610558063, 1.516569869156119, 1.0310473355442322, 1.106260181722261, 2.68188594557855, 4.080498111011631, 4.84415417369615, 1.6857676391450882, 2.002744044575413, 3.1482363106467464, 24.18745275888133, 2.4320334832255495, 1.4823623921495317, 1.742316050417103, 0.9634747950933017, 3.1749376702508574, 0.7760770610772413, 0.6408971294467478, 2.0410770717037807, 1.9783591369494093, 1.6815608976196235, 2.610148712931514, 3.4817593965131652, 2.3072636771193005, 3.0934882406106983, 1.776890025213401, 3.3692898897403927, 2.197929267030988, 17.74744027303754, 2.515660587101983, 4.105090066415703, 5.536289926291058, 2.9142465467263277, 0.6562372094495739, 1.9655723744901572, 2.755385102972407, 1.5091684254989524, 11.859777670259803, 0.9068199478503193, 1.821283196025145, 4.971633202657321, 5.963412769845793, 12.03037055468165, 10.103857803000805, 2.465571477770548, 6.306419694968594, 2.9682044197624275, 2.570686343841347, 1.179766666889136, 6.24677923233912, 7.434807119993885, 2.6426638842055983, 2.792192639513811, 1.3287892130241292, 3.458779318935239, 3.216246956067879, 4.152425241448946, 3.2713425366500886, 6.363659157493454, 2.507457367652342], \"xaxis\": \"x\", \"y\": [0.481, 0.093, 0.376, 1.665, 0.708, 0.579, 1.246, 0.45, 0.957, 0.422, 0.207, 0.316, 1.279, 0.645, 0.266, 0.156, 0.243, 0.762, 0.125, 0.521, 0.246, 1.255, 0.51, 0.236, 0.226, 0.521, 0.309, 0.505, 0.417, 0.787, 0.313, 1.077, 1.668, 1.019, 0.842, 0.763, 0.62, 0.632, 0.373, 0.505, 0.326, 0.7, 0.609, 0.43, 0.619, 1.044, 0.311, 0.488, 0.585, 0.09, 0.059, 0.586, 0.148, 0.921, 0.823, 0.311, 0.657, 1.804, 0.616, 0.217, 0.934, 0.643, 0.484, 0.78, 0.881, 0.202, 0.504, 0.446, 1.084, 0.359, 0.022, 0.398, 0.924, 1.153, 0.77, 0.554, 0.551, 0.41, 0.442, 0.549, 0.509, 2.315, 0.995, 0.375, 2.55, 0.945, 0.861, 0.754, 0.294, 1.145, 0.271, 1.595, 0.498, 1.35, 1.064, 0.815, 0.179, 0.262, 0.333, 0.839, 0.172, 1.284, 1.044, 0.42, 0.557, 0.81, 0.553, 0.07, 0.505, 0.899, 0.296, 0.382, 0.438, 0.475, 0.235, 1.15, 0.669, 0.713, 0.588, 0.284, 0.528, 0.479, 1.158, 0.507, 0.718, 0.739, 0.308, 0.498, 0.098, 1.101, 0.946, 0.413, 0.268, 0.297, 0.855, 0.509, 0.236, 0.257, 0.416, 0.512, 0.7, 0.465, 0.288, 0.873, 0.526, 0.322, 1.101, 0.52, 0.164, 0.349, 0.96, 1.087, 0.123, 0.854, 0.065, 0.606, 0.979, 0.131, 0.362, 0.566, 0.496, 0.649, 0.701, 0.267, 0.682, 0.979, 1.653, 0.979, 0.609, 0.508, 0.73, 0.46, 0.67, 0.614, 0.096, 0.57, 0.345, 0.412, 0.12, 1.983, 0.078, 0.951, 0.272, 0.652, 1.001, 0.255, 0.398, 0.277, 0.625, 0.254, 0.116, 0.613, 0.733, 0.135, 0.374, 0.408, 0.062, 0.209, 0.713, 0.761, 0.616, 0.808, 0.419, 0.845, 0.415, 0.031, 0.596, 0.207, 0.396, 0.831, 0.752, 0.075, 0.413, 1.73, 0.234, 1.896, 0.709, 0.6, 0.73, 0.401, 0.5, 0.639, 0.22, 0.886, 0.159, 0.457, 0.133, 0.253, 0.63, 0.166, 0.402, 0.496, 0.795, 0.417, 0.548, 0.69, 0.091, 0.22, 0.019, 0.902, 1.162, 0.132, 0.246, 0.258, 0.108, 0.336, 0.757, 1.306, 0.841, 0.78, 0.723, 0.013, 0.503, 0.594, 0.735, 1.398, 0.301, 0.822, 1.595, 1.524, 0.572, 0.318, 0.525, 0.995, 0.383, 0.671, 0.353, 0.06, 0.403, 0.359, 0.328, 0.127, 0.752, 0.155, 0.495, 0.396, 0.719, 0.28, 0.124, 0.204, 0.347, 0.745, 0.683, 0.744, 0.125, 0.129, 0.324, 0.226, 0.84, 0.244, 0.086, 0.149, 0.359, 0.448, 0.505, 0.248, 0.055, 0.098, 0.87, 0.41, 0.344, 0.078, 1.378, 0.54, 0.713, 1.159, 0.284, 0.364, 0.444, 0.244, 0.189, 0.343, 0.712, 0.266, 0.293, 0.557, 1.374, 0.821, 0.562, 0.382, 0.553, 0.646, 0.793, 0.345, 1.01, 0.693, 1.117, 0.196, 0.548, 0.451, 0.8, 0.579, 0.901, 0.832, 0.552, 0.561, 0.422, 0.922, 0.254, 0.019, 1.24, 0.487, 1.2, 0.063, 0.505, 0.359, 0.13, 0.016, 0.334, 1.204, 0.451, 0.559, 0.91, 0.793, 0.887, 0.647, 0.302, 1.015, 0.587, 1.023, 0.95, 0.34, 0.585, 1.4, 0.327, 0.163, 1.433, 0.763, 0.568, 0.82, 0.648, 0.205, 0.305, 0.386, 0.61, 0.321, 0.375, 0.302, 0.358, 0.146, 0.047, 0.799, 0.228, 0.165, 0.148, 0.481, 0.441, 0.449, 1.09, 0.189, 0.205, 0.062, 0.826, 0.073, 0.751, 0.982, 0.057, 0.589, 1.359, 0.48, 0.094, 0.281, 0.509, 0.572, 0.555, 1.832, 0.783, 1.709, 0.133, 0.404, 0.638, 0.442, 0.177, 0.159, 0.282, 0.782, 0.365, 0.33, 0.652, 0.701, 0.435, 0.59, 0.437], \"yaxis\": \"y\"}],\n",
              "                        {\"legend\": {\"tracegroupgap\": 0}, \"margin\": {\"t\": 60}, \"template\": {\"data\": {\"bar\": [{\"error_x\": {\"color\": \"#2a3f5f\"}, \"error_y\": {\"color\": \"#2a3f5f\"}, \"marker\": {\"line\": {\"color\": \"#E5ECF6\", \"width\": 0.5}}, \"type\": \"bar\"}], \"barpolar\": [{\"marker\": {\"line\": {\"color\": \"#E5ECF6\", \"width\": 0.5}}, \"type\": \"barpolar\"}], \"carpet\": [{\"aaxis\": {\"endlinecolor\": \"#2a3f5f\", \"gridcolor\": \"white\", \"linecolor\": \"white\", \"minorgridcolor\": \"white\", \"startlinecolor\": \"#2a3f5f\"}, \"baxis\": {\"endlinecolor\": \"#2a3f5f\", \"gridcolor\": \"white\", \"linecolor\": \"white\", \"minorgridcolor\": \"white\", \"startlinecolor\": \"#2a3f5f\"}, \"type\": \"carpet\"}], \"choropleth\": [{\"colorbar\": {\"outlinewidth\": 0, \"ticks\": \"\"}, \"type\": \"choropleth\"}], \"contour\": [{\"colorbar\": {\"outlinewidth\": 0, \"ticks\": \"\"}, \"colorscale\": [[0.0, \"#0d0887\"], [0.1111111111111111, \"#46039f\"], [0.2222222222222222, \"#7201a8\"], [0.3333333333333333, \"#9c179e\"], [0.4444444444444444, \"#bd3786\"], [0.5555555555555556, \"#d8576b\"], [0.6666666666666666, \"#ed7953\"], [0.7777777777777778, \"#fb9f3a\"], [0.8888888888888888, \"#fdca26\"], [1.0, \"#f0f921\"]], \"type\": \"contour\"}], \"contourcarpet\": [{\"colorbar\": {\"outlinewidth\": 0, \"ticks\": \"\"}, \"type\": \"contourcarpet\"}], \"heatmap\": [{\"colorbar\": {\"outlinewidth\": 0, \"ticks\": \"\"}, \"colorscale\": [[0.0, \"#0d0887\"], [0.1111111111111111, \"#46039f\"], [0.2222222222222222, \"#7201a8\"], [0.3333333333333333, \"#9c179e\"], [0.4444444444444444, \"#bd3786\"], [0.5555555555555556, \"#d8576b\"], [0.6666666666666666, \"#ed7953\"], [0.7777777777777778, \"#fb9f3a\"], [0.8888888888888888, \"#fdca26\"], [1.0, \"#f0f921\"]], \"type\": \"heatmap\"}], \"heatmapgl\": [{\"colorbar\": {\"outlinewidth\": 0, \"ticks\": \"\"}, \"colorscale\": [[0.0, \"#0d0887\"], [0.1111111111111111, \"#46039f\"], [0.2222222222222222, \"#7201a8\"], [0.3333333333333333, \"#9c179e\"], [0.4444444444444444, \"#bd3786\"], [0.5555555555555556, \"#d8576b\"], [0.6666666666666666, \"#ed7953\"], [0.7777777777777778, \"#fb9f3a\"], [0.8888888888888888, \"#fdca26\"], [1.0, \"#f0f921\"]], \"type\": \"heatmapgl\"}], \"histogram\": [{\"marker\": {\"colorbar\": {\"outlinewidth\": 0, \"ticks\": \"\"}}, \"type\": \"histogram\"}], \"histogram2d\": [{\"colorbar\": {\"outlinewidth\": 0, \"ticks\": \"\"}, \"colorscale\": [[0.0, \"#0d0887\"], [0.1111111111111111, \"#46039f\"], [0.2222222222222222, \"#7201a8\"], [0.3333333333333333, \"#9c179e\"], [0.4444444444444444, \"#bd3786\"], [0.5555555555555556, \"#d8576b\"], [0.6666666666666666, \"#ed7953\"], [0.7777777777777778, \"#fb9f3a\"], [0.8888888888888888, \"#fdca26\"], [1.0, \"#f0f921\"]], \"type\": \"histogram2d\"}], \"histogram2dcontour\": [{\"colorbar\": {\"outlinewidth\": 0, \"ticks\": \"\"}, \"colorscale\": [[0.0, \"#0d0887\"], [0.1111111111111111, \"#46039f\"], [0.2222222222222222, \"#7201a8\"], [0.3333333333333333, \"#9c179e\"], [0.4444444444444444, \"#bd3786\"], [0.5555555555555556, \"#d8576b\"], [0.6666666666666666, \"#ed7953\"], [0.7777777777777778, \"#fb9f3a\"], [0.8888888888888888, \"#fdca26\"], [1.0, \"#f0f921\"]], \"type\": \"histogram2dcontour\"}], \"mesh3d\": [{\"colorbar\": {\"outlinewidth\": 0, \"ticks\": \"\"}, \"type\": \"mesh3d\"}], \"parcoords\": [{\"line\": {\"colorbar\": {\"outlinewidth\": 0, \"ticks\": \"\"}}, \"type\": \"parcoords\"}], \"pie\": [{\"automargin\": true, \"type\": \"pie\"}], \"scatter\": [{\"marker\": {\"colorbar\": {\"outlinewidth\": 0, \"ticks\": \"\"}}, \"type\": \"scatter\"}], \"scatter3d\": [{\"line\": {\"colorbar\": {\"outlinewidth\": 0, \"ticks\": \"\"}}, \"marker\": {\"colorbar\": {\"outlinewidth\": 0, \"ticks\": \"\"}}, \"type\": \"scatter3d\"}], \"scattercarpet\": [{\"marker\": {\"colorbar\": {\"outlinewidth\": 0, \"ticks\": \"\"}}, \"type\": \"scattercarpet\"}], \"scattergeo\": [{\"marker\": {\"colorbar\": {\"outlinewidth\": 0, \"ticks\": \"\"}}, \"type\": \"scattergeo\"}], \"scattergl\": [{\"marker\": {\"colorbar\": {\"outlinewidth\": 0, \"ticks\": \"\"}}, \"type\": \"scattergl\"}], \"scattermapbox\": [{\"marker\": {\"colorbar\": {\"outlinewidth\": 0, \"ticks\": \"\"}}, \"type\": \"scattermapbox\"}], \"scatterpolar\": [{\"marker\": {\"colorbar\": {\"outlinewidth\": 0, \"ticks\": \"\"}}, \"type\": \"scatterpolar\"}], \"scatterpolargl\": [{\"marker\": {\"colorbar\": {\"outlinewidth\": 0, \"ticks\": \"\"}}, \"type\": \"scatterpolargl\"}], \"scatterternary\": [{\"marker\": {\"colorbar\": {\"outlinewidth\": 0, \"ticks\": \"\"}}, \"type\": \"scatterternary\"}], \"surface\": [{\"colorbar\": {\"outlinewidth\": 0, \"ticks\": \"\"}, \"colorscale\": [[0.0, \"#0d0887\"], [0.1111111111111111, \"#46039f\"], [0.2222222222222222, \"#7201a8\"], [0.3333333333333333, \"#9c179e\"], [0.4444444444444444, \"#bd3786\"], [0.5555555555555556, \"#d8576b\"], [0.6666666666666666, \"#ed7953\"], [0.7777777777777778, \"#fb9f3a\"], [0.8888888888888888, \"#fdca26\"], [1.0, \"#f0f921\"]], \"type\": \"surface\"}], \"table\": [{\"cells\": {\"fill\": {\"color\": \"#EBF0F8\"}, \"line\": {\"color\": \"white\"}}, \"header\": {\"fill\": {\"color\": \"#C8D4E3\"}, \"line\": {\"color\": \"white\"}}, \"type\": \"table\"}]}, \"layout\": {\"annotationdefaults\": {\"arrowcolor\": \"#2a3f5f\", \"arrowhead\": 0, \"arrowwidth\": 1}, \"coloraxis\": {\"colorbar\": {\"outlinewidth\": 0, \"ticks\": \"\"}}, \"colorscale\": {\"diverging\": [[0, \"#8e0152\"], [0.1, \"#c51b7d\"], [0.2, \"#de77ae\"], [0.3, \"#f1b6da\"], [0.4, \"#fde0ef\"], [0.5, \"#f7f7f7\"], [0.6, \"#e6f5d0\"], [0.7, \"#b8e186\"], [0.8, \"#7fbc41\"], [0.9, \"#4d9221\"], [1, \"#276419\"]], \"sequential\": [[0.0, \"#0d0887\"], [0.1111111111111111, \"#46039f\"], [0.2222222222222222, \"#7201a8\"], [0.3333333333333333, \"#9c179e\"], [0.4444444444444444, \"#bd3786\"], [0.5555555555555556, \"#d8576b\"], [0.6666666666666666, \"#ed7953\"], [0.7777777777777778, \"#fb9f3a\"], [0.8888888888888888, \"#fdca26\"], [1.0, \"#f0f921\"]], \"sequentialminus\": [[0.0, \"#0d0887\"], [0.1111111111111111, \"#46039f\"], [0.2222222222222222, \"#7201a8\"], [0.3333333333333333, \"#9c179e\"], [0.4444444444444444, \"#bd3786\"], [0.5555555555555556, \"#d8576b\"], [0.6666666666666666, \"#ed7953\"], [0.7777777777777778, \"#fb9f3a\"], [0.8888888888888888, \"#fdca26\"], [1.0, \"#f0f921\"]]}, \"colorway\": [\"#636efa\", \"#EF553B\", \"#00cc96\", \"#ab63fa\", \"#FFA15A\", \"#19d3f3\", \"#FF6692\", \"#B6E880\", \"#FF97FF\", \"#FECB52\"], \"font\": {\"color\": \"#2a3f5f\"}, \"geo\": {\"bgcolor\": \"white\", \"lakecolor\": \"white\", \"landcolor\": \"#E5ECF6\", \"showlakes\": true, \"showland\": true, \"subunitcolor\": \"white\"}, \"hoverlabel\": {\"align\": \"left\"}, \"hovermode\": \"closest\", \"mapbox\": {\"style\": \"light\"}, \"paper_bgcolor\": \"white\", \"plot_bgcolor\": \"#E5ECF6\", \"polar\": {\"angularaxis\": {\"gridcolor\": \"white\", \"linecolor\": \"white\", \"ticks\": \"\"}, \"bgcolor\": \"#E5ECF6\", \"radialaxis\": {\"gridcolor\": \"white\", \"linecolor\": \"white\", \"ticks\": \"\"}}, \"scene\": {\"xaxis\": {\"backgroundcolor\": \"#E5ECF6\", \"gridcolor\": \"white\", \"gridwidth\": 2, \"linecolor\": \"white\", \"showbackground\": true, \"ticks\": \"\", \"zerolinecolor\": \"white\"}, \"yaxis\": {\"backgroundcolor\": \"#E5ECF6\", \"gridcolor\": \"white\", \"gridwidth\": 2, \"linecolor\": \"white\", \"showbackground\": true, \"ticks\": \"\", \"zerolinecolor\": \"white\"}, \"zaxis\": {\"backgroundcolor\": \"#E5ECF6\", \"gridcolor\": \"white\", \"gridwidth\": 2, \"linecolor\": \"white\", \"showbackground\": true, \"ticks\": \"\", \"zerolinecolor\": \"white\"}}, \"shapedefaults\": {\"line\": {\"color\": \"#2a3f5f\"}}, \"ternary\": {\"aaxis\": {\"gridcolor\": \"white\", \"linecolor\": \"white\", \"ticks\": \"\"}, \"baxis\": {\"gridcolor\": \"white\", \"linecolor\": \"white\", \"ticks\": \"\"}, \"bgcolor\": \"#E5ECF6\", \"caxis\": {\"gridcolor\": \"white\", \"linecolor\": \"white\", \"ticks\": \"\"}}, \"title\": {\"x\": 0.05}, \"xaxis\": {\"automargin\": true, \"gridcolor\": \"white\", \"linecolor\": \"white\", \"ticks\": \"\", \"title\": {\"standoff\": 15}, \"zerolinecolor\": \"white\", \"zerolinewidth\": 2}, \"yaxis\": {\"automargin\": true, \"gridcolor\": \"white\", \"linecolor\": \"white\", \"ticks\": \"\", \"title\": {\"standoff\": 15}, \"zerolinecolor\": \"white\", \"zerolinewidth\": 2}}}, \"title\": {\"text\": \"\\ub2e8\\uc9c0\\ub0b4_\\uc138\\ub300\\uc218/\\uc804\\uc6a9\\uba74\\uc801_\\ube44\\uc728, \\ub4f1\\ub85d\\ucc28\\ub7c9\\uc218 \\ubd84\\ud3ec\"}, \"xaxis\": {\"anchor\": \"y\", \"domain\": [0.0, 1.0], \"title\": {\"text\": \"\\ub2e8\\uc9c0\\ub0b4_\\uc138\\ub300\\uc218/\\uc804\\uc6a9\\uba74\\uc801_\\ube44\\uc728\"}}, \"yaxis\": {\"anchor\": \"x\", \"domain\": [0.0, 1.0], \"title\": {\"text\": \"\\ub4f1\\ub85d\\ucc28\\ub7c9\\uc218\"}}},\n",
              "                        {\"responsive\": true}\n",
              "                    ).then(function(){\n",
              "                            \n",
              "var gd = document.getElementById('3e42594c-8bda-4bc1-835b-d26048350641');\n",
              "var x = new MutationObserver(function (mutations, observer) {{\n",
              "        var display = window.getComputedStyle(gd).display;\n",
              "        if (!display || display === 'none') {{\n",
              "            console.log([gd, 'removed!']);\n",
              "            Plotly.purge(gd);\n",
              "            observer.disconnect();\n",
              "        }}\n",
              "}});\n",
              "\n",
              "// Listen for the removal of the full notebook cells\n",
              "var notebookContainer = gd.closest('#notebook-container');\n",
              "if (notebookContainer) {{\n",
              "    x.observe(notebookContainer, {childList: true});\n",
              "}}\n",
              "\n",
              "// Listen for the clearing of the current output cell\n",
              "var outputEl = gd.closest('.output');\n",
              "if (outputEl) {{\n",
              "    x.observe(outputEl, {childList: true});\n",
              "}}\n",
              "\n",
              "                        })\n",
              "                };\n",
              "                \n",
              "            </script>\n",
              "        </div>\n",
              "</body>\n",
              "</html>"
            ]
          },
          "metadata": {}
        }
      ]
    },
    {
      "cell_type": "markdown",
      "metadata": {
        "id": "Co8VKtedqIrk"
      },
      "source": [
        "전용면적에 비해 세대수가 많은 구간을 확인할 수 있음.  \n",
        "\n",
        "평균 단지내_세대수/전용면적_비율과 등록차량수는 비례하지 않다고 볼 수 있음.  \n",
        "\n",
        "\n",
        "그렇다면, 단지내 모든 전용면적,세대수의 합을 구해 1M^2당 사는 인구수와 등록차량과 비례한지 확인. 그 근거는 전용면적의 합계가 클수록 단지가 크다는 것이고 단지가 크면 주차할 수 있는 공간이 많다고 판단.  "
      ]
    },
    {
      "cell_type": "code",
      "metadata": {
        "id": "t6m7XNpgs2oC"
      },
      "source": [
        "temp_none_duplicates =  raw_train[raw_train['임대건물구분'] == '아파트'].groupby('단지코드')['전용면적', '전용면적별세대수', '등록차량수'].agg({'전용면적': 'sum', '전용면적별세대수': 'sum', '등록차량수': 'mean'})"
      ],
      "execution_count": 350,
      "outputs": []
    },
    {
      "cell_type": "code",
      "metadata": {
        "colab": {
          "base_uri": "https://localhost:8080/",
          "height": 141
        },
        "id": "k58qcJk6tidy",
        "outputId": "6bc7ac4c-2d06-44c1-f117-be66b5ed4da6"
      },
      "source": [
        "temp_none_duplicates_.corr().iloc[:,2:]"
      ],
      "execution_count": 351,
      "outputs": [
        {
          "output_type": "execute_result",
          "data": {
            "text/html": [
              "<div>\n",
              "<style scoped>\n",
              "    .dataframe tbody tr th:only-of-type {\n",
              "        vertical-align: middle;\n",
              "    }\n",
              "\n",
              "    .dataframe tbody tr th {\n",
              "        vertical-align: top;\n",
              "    }\n",
              "\n",
              "    .dataframe thead th {\n",
              "        text-align: right;\n",
              "    }\n",
              "</style>\n",
              "<table border=\"1\" class=\"dataframe\">\n",
              "  <thead>\n",
              "    <tr style=\"text-align: right;\">\n",
              "      <th></th>\n",
              "      <th>등록차량수</th>\n",
              "    </tr>\n",
              "  </thead>\n",
              "  <tbody>\n",
              "    <tr>\n",
              "      <th>전용면적</th>\n",
              "      <td>0.513212</td>\n",
              "    </tr>\n",
              "    <tr>\n",
              "      <th>전용면적별세대수</th>\n",
              "      <td>0.571485</td>\n",
              "    </tr>\n",
              "    <tr>\n",
              "      <th>등록차량수</th>\n",
              "      <td>1.000000</td>\n",
              "    </tr>\n",
              "  </tbody>\n",
              "</table>\n",
              "</div>"
            ],
            "text/plain": [
              "             등록차량수\n",
              "전용면적      0.513212\n",
              "전용면적별세대수  0.571485\n",
              "등록차량수     1.000000"
            ]
          },
          "metadata": {},
          "execution_count": 351
        }
      ]
    },
    {
      "cell_type": "markdown",
      "metadata": {
        "id": "10Ck_VNQuFsF"
      },
      "source": [
        "전용면적, 세대수합이 평균보다 등록차량수와 좀더 비례하다는 것을 알 수 있따"
      ]
    },
    {
      "cell_type": "code",
      "metadata": {
        "id": "B-atSFtBrjL2"
      },
      "source": [
        "temp_none_duplicates['1M^2당_세대수*100'] = temp_none_duplicates['전용면적별세대수'] / temp_none_duplicates['전용면적'] * 100"
      ],
      "execution_count": 355,
      "outputs": []
    },
    {
      "cell_type": "code",
      "metadata": {
        "colab": {
          "base_uri": "https://localhost:8080/",
          "height": 542
        },
        "id": "G2F-zhJXrzCv",
        "outputId": "b36b6984-77b5-45f0-cd8f-003c6c5dfd06"
      },
      "source": [
        "fig = go.Figure()\n",
        "fig = px.scatter(temp_none_duplicates, x='1M^2당_세대수*100', y = '등록차량수',\n",
        "                            color_discrete_sequence=px.colors.qualitative.Alphabet)\n",
        "fig.update_layout(title= '1M^2당_세대수 * 100, 등록차량수 분포') #autosize =, width = 1000, height = 500)"
      ],
      "execution_count": 356,
      "outputs": [
        {
          "output_type": "display_data",
          "data": {
            "text/html": [
              "<html>\n",
              "<head><meta charset=\"utf-8\" /></head>\n",
              "<body>\n",
              "    <div>\n",
              "            <script src=\"https://cdnjs.cloudflare.com/ajax/libs/mathjax/2.7.5/MathJax.js?config=TeX-AMS-MML_SVG\"></script><script type=\"text/javascript\">if (window.MathJax) {MathJax.Hub.Config({SVG: {font: \"STIX-Web\"}});}</script>\n",
              "                <script type=\"text/javascript\">window.PlotlyConfig = {MathJaxConfig: 'local'};</script>\n",
              "        <script src=\"https://cdn.plot.ly/plotly-latest.min.js\"></script>    \n",
              "            <div id=\"48e8b78c-b2ee-4b9f-9547-7eba05736aad\" class=\"plotly-graph-div\" style=\"height:525px; width:100%;\"></div>\n",
              "            <script type=\"text/javascript\">\n",
              "                \n",
              "                    window.PLOTLYENV=window.PLOTLYENV || {};\n",
              "                    \n",
              "                if (document.getElementById(\"48e8b78c-b2ee-4b9f-9547-7eba05736aad\")) {\n",
              "                    Plotly.newPlot(\n",
              "                        '48e8b78c-b2ee-4b9f-9547-7eba05736aad',\n",
              "                        [{\"hoverlabel\": {\"namelength\": 0}, \"hovertemplate\": \"1M^2\\ub2f9_\\uc138\\ub300\\uc218*100=%{x}<br>\\ub4f1\\ub85d\\ucc28\\ub7c9\\uc218=%{y}\", \"legendgroup\": \"\", \"marker\": {\"color\": \"#AA0DFE\", \"symbol\": \"circle\"}, \"mode\": \"markers\", \"name\": \"\", \"showlegend\": false, \"type\": \"scatter\", \"x\": [178.8140144694026, 638.0554500569692, 701.49619818494, 566.9455160157775, 289.0056002089197, 260.8719257288669, 1321.1474074744367, 207.35607675906184, 60.82399296124861, 259.7402597402597, 211.61048689138573, 305.2991673659072, 226.14367132973697, 171.14384748700175, 340.1510153214574, 185.34792681952547, 329.1003398318727, 296.8949009618341, 703.9774727208729, 273.3760100745094, 198.58594444229806, 870.4528582034151, 308.4882161333589, 635.5181576616476, 95.61535309383964, 316.8376584188292, 136.1853304714677, 362.63894903998846, 192.6341427411617, 567.1478830522868, 3357.600970705495, 263.61293269387625, 312.22296698306985, 404.54382183908046, 339.211412720428, 608.2710020399334, 223.82491917433472, 582.9407806191117, 230.18844760910935, 469.7133712994776, 278.73335097468464, 116.309412861137, 138.44102315432173, 294.87744943607834, 498.5238862050456, 246.58506297676067, 191.76743617930865, 143.69078245592019, 191.45747470962905, 828.566475992373, 119.70313622216904, 849.7344579818806, 125.37169492887568, 1310.8142172926644, 213.42512908777968, 275.5092883424571, 203.50889898788728, 289.33882214567757, 447.0938897168406, 149.83786201498376, 367.60788492274907, 302.8176616646875, 322.24272958547414, 441.3239719157472, 375.39316204403417, 387.19963557681353, 133.65029054410985, 115.80093124508677, 261.3341397646229, 307.4635741897116, 125.16083752485672, 197.38936644380775, 1097.4504982528795, 1201.3914772021367, 214.56071289527188, 275.4487725760783, 135.47361313789125, 306.9224353628023, 297.4673334408776, 147.8743068391867, 67.91940230925967, 154.249287106257, 293.3574567071595, 162.1463343215841, 546.6854004342827, 165.37516537516538, 470.14377164445375, 215.4485428051002, 182.68959684240204, 268.5587169459295, 281.2311406155703, 131.71947312210753, 94.34997257268239, 273.4472281715396, 267.9653584257035, 267.30740351404114, 446.0647651726357, 199.19045590115041, 114.27700746609784, 686.858730229849, 1744.7199265381084, 241.96695720046836, 1046.1657830078882, 380.3151685887842, 343.7674678591392, 373.2881418036917, 404.8159134531495, 774.8309932397297, 493.5391241923905, 205.50309038998523, 127.43848642289973, 1017.2501268391679, 433.90191897654586, 226.07833415964308, 515.2109911678116, 377.35849056603774, 306.9789009969858, 180.47446000571637, 995.1219512195122, 181.5181518151815, 229.93950878215878, 392.7733065057009, 241.76088525378879, 760.8831233628539, 425.6218304757305, 301.2674007895284, 113.22308378508201, 515.0846210448859, 1518.2124273033364, 578.6210783392823, 191.64872486884798, 191.81486371049158, 151.02999252855162, 86.03383997705765, 174.3163766446371, 229.6003921265124, 268.95657809462085, 152.23187408617872, 229.19578198450003, 193.7974034386893, 297.6080103838309, 172.35922779170826, 170.0997136252286, 1210.6537530266344, 336.2404118945046, 127.67495081703939, 241.2484183888655, 144.17235886498017, 100.92370851864523, 152.89975472743097, 254.92970604345447, 405.7267884322679, 149.3540437607348, 109.89699768088086, 290.8534251817834, 226.88188263689844, 536.6080782213945, 789.9734143562478, 202.56788409820422, 268.33558309813066, 761.9143984620055, 412.34466468111333, 466.53294703216693, 171.48424813251057, 414.66102186394477, 166.8930026445572, 156.27160835292491, 307.5426519006285, 118.85848779052661, 478.8613473252518, 213.71769383697813, 282.1546353975815, 455.80978017048005, 210.33127175301104, 1224.920802534319, 247.43814046488376, 356.82426404995533, 337.0383650053783, 704.4152342433435, 219.62245708351148, 34.210256234819205, 7.875208238679389, 201.5390252839868, 213.3487654320988, 467.6197332784806, 242.00133620369684, 176.4261428031734, 168.7717169488721, 182.64840182648402, 277.01827601093686, 1464.1171784028925, 435.71608992169735, 334.9384371571376, 199.9645033426019, 277.24391739930485, 221.28344397505532, 704.2588627171068, 1170.5924339757314, 290.7262021589794, 294.34941825429934, 256.1728395061728, 514.869512441837, 145.8128078817734, 254.38565150594874, 221.56977882168724, 774.8309932397297, 164.07212453802217, 79.33537908839158, 221.40221402214019, 279.3120763243786, 440.4620533304545, 1033.1079909863063, 168.56819817041833, 244.84906564446572, 115.62364503540974, 767.3340566130781, 217.2453989897206, 118.88297089721331, 249.1255856926021, 186.94108659506583, 215.8086323452938, 327.5084554678693, 319.75116640746506, 670.3307488467956, 148.77631481068215, 275.36751523843674, 101.12359550561798, 543.683409436834, 484.96282321606924, 100.61544844754857, 286.6626433313217, 218.18365900577095, 414.8583099310697, 320.6270039187745, 173.2014548035128, 393.9782190903267, 502.19817382482245, 156.38106650689033, 50.093926111458984, 145.90405650996126, 203.91411414006134, 1736.854627646919, 272.1991701244813, 127.62987336723504, 783.5935108662383, 124.0057618838855, 313.55969524816135, 370.8448298515307, 421.878832474859, 64.91406136721058, 278.96066402020926, 37.42622714840939, 178.65571603889364, 389.4821861258189, 366.7851162030797, 353.99712781235036, 128.97002607981136, 372.54676037945995, 168.35777329904786, 174.39888901448478, 356.38869336494645, 141.29648137298824, 179.28722396326802, 325.3569798526439, 138.24692900270662, 262.81208935611033, 244.26888964280522, 844.7729672650474, 258.1216121538405, 2067.0826833073324, 128.112594731144, 1307.3994765643588, 851.8189884649512, 283.78002411202823, 292.326431181486, 689.4541214197216, 113.6150234741784, 258.36842480907853, 123.76581838409125, 238.18820773135494, 228.41089532185168, 208.54075289938922, 321.889996308601, 468.87796887796895, 345.00253678335866, 901.9288236892148, 247.67503493470824, 479.1939081609107, 241.90894130554037, 252.2402920677066, 770.699921357151, 497.51243781094524, 148.88462703139197, 510.16070062069554, 149.98585039147252, 190.501744030051, 58.12505189736776, 111.55378486055776, 183.5166428467864, 289.9150962932284, 188.22771411477748, 967.2482399755128, 197.8563817562627, 198.30886605888668, 425.4673694588752, 655.5772994129157, 126.23456790123457, 1306.1189114231236, 401.80743830378873, 174.3332517739173, 2341.184867951463, 272.50431465164866, 788.6258579633002, 281.0032512772875, 161.37295081967213, 315.1962495636128, 263.43467945111655, 626.1801790826584, 143.6547268050938, 1285.7860371672525, 216.66537236934067, 199.76411617278492, 284.629981024668, 206.99029126213594, 506.6344993968637, 526.1131784935197, 226.9739385971696, 393.2466442953021, 251.13415424497728, 133.81136549699346, 331.7979545631978, 407.9146517036435, 367.01363962670496, 177.00348432055753, 225.134068602651, 270.7368751471396, 172.72239126543764, 320.7069659378501, 76.22244847417517, 145.3924914675768, 119.94256271644565, 260.9331444500297, 385.1444291609354, 971.4889123548046, 135.68480745821086, 564.9311789347696, 412.73968150796225, 362.46476037051957, 295.3119232189, 586.4008316229974, 173.09346330275227, 310.01177856301535, 248.65904850746267, 390.5979951607328, 276.83076503477423, 215.52818689690199, 540.3087478559178, 225.5582566852961, 142.11262848043236, 344.04643919014586, 712.9313613955253, 271.0221663824822, 250.56947608200457, 248.21726596874524, 148.33799316557935, 98.4009840098401, 100.12560240158916, 220.99615460611312, 376.767495972794, 484.2957158455906, 169.10250784757147, 175.56858449842144, 305.17272239126544, 2418.745275888133, 230.55555555555554, 149.95353552420377, 163.45866587000128, 104.63531015678255, 292.0497566252028, 78.22472424966452, 63.47527109230362, 178.9032610675898, 191.332077112625, 138.8503193557345, 251.004016064257, 333.8418738221305, 236.67410598432554, 299.3361496680749, 178.2392232596871, 284.6629174477539, 212.9774243930144, 1774.7440273037541, 242.7018860568254, 379.2845102079041, 431.76624224616387, 298.3625131511506, 67.62849413886384, 190.38297603637167, 237.71660451853472, 143.71770173990154, 1161.0754223173924, 90.7936033477806, 175.43859649122805, 457.1428571428571, 540.3304178814383, 1182.2521763549564, 989.7828863346106, 248.64152807508648, 469.7986577181207, 309.5644748078565, 260.69089508154616, 116.48018072076525, 605.0905683947533, 689.7910918407568, 262.57439607888904, 263.935875163817, 151.46506386175804, 319.1201658703687, 313.78287200747883, 417.6459256405317, 316.731023021653, 582.8527489427142, 229.05669038329123], \"xaxis\": \"x\", \"y\": [481.0, 93.0, 376.0, 1665.0, 708.0, 579.0, 1246.0, 450.0, 957.0, 422.0, 207.0, 316.0, 1279.0, 645.0, 266.0, 156.0, 243.0, 762.0, 125.0, 521.0, 246.0, 1255.0, 510.0, 236.0, 226.0, 521.0, 309.0, 505.0, 417.0, 787.0, 313.0, 1077.0, 1668.0, 1019.0, 842.0, 763.0, 620.0, 632.0, 373.0, 505.0, 326.0, 700.0, 609.0, 430.0, 619.0, 1044.0, 311.0, 488.0, 585.0, 90.0, 59.0, 586.0, 148.0, 921.0, 823.0, 311.0, 657.0, 1804.0, 616.0, 217.0, 934.0, 643.0, 484.0, 780.0, 881.0, 202.0, 504.0, 446.0, 1084.0, 359.0, 22.0, 398.0, 924.0, 1153.0, 770.0, 554.0, 551.0, 410.0, 442.0, 549.0, 509.0, 2315.0, 995.0, 375.0, 2550.0, 945.0, 861.0, 754.0, 294.0, 1145.0, 271.0, 1595.0, 498.0, 1350.0, 1064.0, 815.0, 179.0, 262.0, 333.0, 839.0, 172.0, 1284.0, 1044.0, 420.0, 557.0, 810.0, 553.0, 70.0, 505.0, 899.0, 296.0, 382.0, 438.0, 475.0, 235.0, 1150.0, 669.0, 713.0, 588.0, 284.0, 528.0, 479.0, 1158.0, 507.0, 718.0, 739.0, 308.0, 498.0, 98.0, 1101.0, 946.0, 413.0, 268.0, 297.0, 855.0, 509.0, 236.0, 257.0, 416.0, 512.0, 700.0, 465.0, 288.0, 873.0, 526.0, 322.0, 1101.0, 520.0, 164.0, 349.0, 960.0, 1087.0, 123.0, 854.0, 65.0, 606.0, 979.0, 131.0, 362.0, 566.0, 496.0, 649.0, 701.0, 267.0, 682.0, 979.0, 1653.0, 979.0, 609.0, 508.0, 730.0, 460.0, 670.0, 614.0, 96.0, 570.0, 345.0, 412.0, 120.0, 1983.0, 78.0, 951.0, 272.0, 652.0, 1001.0, 255.0, 398.0, 277.0, 625.0, 254.0, 116.0, 613.0, 733.0, 135.0, 374.0, 408.0, 62.0, 209.0, 713.0, 761.0, 616.0, 808.0, 419.0, 845.0, 415.0, 31.0, 596.0, 207.0, 396.0, 831.0, 752.0, 75.0, 413.0, 1730.0, 234.0, 1896.0, 709.0, 600.0, 730.0, 401.0, 500.0, 639.0, 220.0, 886.0, 159.0, 457.0, 133.0, 253.0, 630.0, 166.0, 402.0, 496.0, 795.0, 417.0, 548.0, 690.0, 91.0, 220.0, 19.0, 902.0, 1162.0, 132.0, 246.0, 258.0, 108.0, 336.0, 757.0, 1306.0, 841.0, 780.0, 723.0, 13.0, 503.0, 594.0, 735.0, 1398.0, 301.0, 822.0, 1595.0, 1524.0, 572.0, 318.0, 525.0, 995.0, 383.0, 671.0, 353.0, 60.0, 403.0, 359.0, 328.0, 127.0, 752.0, 155.0, 495.0, 396.0, 719.0, 280.0, 124.0, 204.0, 347.0, 745.0, 683.0, 744.0, 125.0, 129.0, 324.0, 226.0, 840.0, 244.0, 86.0, 149.0, 359.0, 448.0, 505.0, 248.0, 55.0, 98.0, 870.0, 410.0, 344.0, 78.0, 1378.0, 540.0, 713.0, 1159.0, 284.0, 364.0, 444.0, 244.0, 189.0, 343.0, 712.0, 266.0, 293.0, 557.0, 1374.0, 821.0, 562.0, 382.0, 553.0, 646.0, 793.0, 345.0, 1010.0, 693.0, 1117.0, 196.0, 548.0, 451.0, 800.0, 579.0, 901.0, 832.0, 552.0, 561.0, 422.0, 922.0, 254.0, 19.0, 1240.0, 487.0, 1200.0, 63.0, 505.0, 359.0, 130.0, 16.0, 334.0, 1204.0, 451.0, 559.0, 910.0, 793.0, 887.0, 647.0, 302.0, 1015.0, 587.0, 1023.0, 950.0, 340.0, 585.0, 1400.0, 327.0, 163.0, 1433.0, 763.0, 568.0, 820.0, 648.0, 205.0, 305.0, 386.0, 610.0, 321.0, 375.0, 302.0, 358.0, 146.0, 47.0, 799.0, 228.0, 165.0, 148.0, 481.0, 441.0, 449.0, 1090.0, 189.0, 205.0, 62.0, 826.0, 73.0, 751.0, 982.0, 57.0, 589.0, 1359.0, 480.0, 94.0, 281.0, 509.0, 572.0, 555.0, 1832.0, 783.0, 1709.0, 133.0, 404.0, 638.0, 442.0, 177.0, 159.0, 282.0, 782.0, 365.0, 330.0, 652.0, 701.0, 435.0, 590.0, 437.0], \"yaxis\": \"y\"}],\n",
              "                        {\"legend\": {\"tracegroupgap\": 0}, \"margin\": {\"t\": 60}, \"template\": {\"data\": {\"bar\": [{\"error_x\": {\"color\": \"#2a3f5f\"}, \"error_y\": {\"color\": \"#2a3f5f\"}, \"marker\": {\"line\": {\"color\": \"#E5ECF6\", \"width\": 0.5}}, \"type\": \"bar\"}], \"barpolar\": [{\"marker\": {\"line\": {\"color\": \"#E5ECF6\", \"width\": 0.5}}, \"type\": \"barpolar\"}], \"carpet\": [{\"aaxis\": {\"endlinecolor\": \"#2a3f5f\", \"gridcolor\": \"white\", \"linecolor\": \"white\", \"minorgridcolor\": \"white\", \"startlinecolor\": \"#2a3f5f\"}, \"baxis\": {\"endlinecolor\": \"#2a3f5f\", \"gridcolor\": \"white\", \"linecolor\": \"white\", \"minorgridcolor\": \"white\", \"startlinecolor\": \"#2a3f5f\"}, \"type\": \"carpet\"}], \"choropleth\": [{\"colorbar\": {\"outlinewidth\": 0, \"ticks\": \"\"}, \"type\": \"choropleth\"}], \"contour\": [{\"colorbar\": {\"outlinewidth\": 0, \"ticks\": \"\"}, \"colorscale\": [[0.0, \"#0d0887\"], [0.1111111111111111, \"#46039f\"], [0.2222222222222222, \"#7201a8\"], [0.3333333333333333, \"#9c179e\"], [0.4444444444444444, \"#bd3786\"], [0.5555555555555556, \"#d8576b\"], [0.6666666666666666, \"#ed7953\"], [0.7777777777777778, \"#fb9f3a\"], [0.8888888888888888, \"#fdca26\"], [1.0, \"#f0f921\"]], \"type\": \"contour\"}], \"contourcarpet\": [{\"colorbar\": {\"outlinewidth\": 0, \"ticks\": \"\"}, \"type\": \"contourcarpet\"}], \"heatmap\": [{\"colorbar\": {\"outlinewidth\": 0, \"ticks\": \"\"}, \"colorscale\": [[0.0, \"#0d0887\"], [0.1111111111111111, \"#46039f\"], [0.2222222222222222, \"#7201a8\"], [0.3333333333333333, \"#9c179e\"], [0.4444444444444444, \"#bd3786\"], [0.5555555555555556, \"#d8576b\"], [0.6666666666666666, \"#ed7953\"], [0.7777777777777778, \"#fb9f3a\"], [0.8888888888888888, \"#fdca26\"], [1.0, \"#f0f921\"]], \"type\": \"heatmap\"}], \"heatmapgl\": [{\"colorbar\": {\"outlinewidth\": 0, \"ticks\": \"\"}, \"colorscale\": [[0.0, \"#0d0887\"], [0.1111111111111111, \"#46039f\"], [0.2222222222222222, \"#7201a8\"], [0.3333333333333333, \"#9c179e\"], [0.4444444444444444, \"#bd3786\"], [0.5555555555555556, \"#d8576b\"], [0.6666666666666666, \"#ed7953\"], [0.7777777777777778, \"#fb9f3a\"], [0.8888888888888888, \"#fdca26\"], [1.0, \"#f0f921\"]], \"type\": \"heatmapgl\"}], \"histogram\": [{\"marker\": {\"colorbar\": {\"outlinewidth\": 0, \"ticks\": \"\"}}, \"type\": \"histogram\"}], \"histogram2d\": [{\"colorbar\": {\"outlinewidth\": 0, \"ticks\": \"\"}, \"colorscale\": [[0.0, \"#0d0887\"], [0.1111111111111111, \"#46039f\"], [0.2222222222222222, \"#7201a8\"], [0.3333333333333333, \"#9c179e\"], [0.4444444444444444, \"#bd3786\"], [0.5555555555555556, \"#d8576b\"], [0.6666666666666666, \"#ed7953\"], [0.7777777777777778, \"#fb9f3a\"], [0.8888888888888888, \"#fdca26\"], [1.0, \"#f0f921\"]], \"type\": \"histogram2d\"}], \"histogram2dcontour\": [{\"colorbar\": {\"outlinewidth\": 0, \"ticks\": \"\"}, \"colorscale\": [[0.0, \"#0d0887\"], [0.1111111111111111, \"#46039f\"], [0.2222222222222222, \"#7201a8\"], [0.3333333333333333, \"#9c179e\"], [0.4444444444444444, \"#bd3786\"], [0.5555555555555556, \"#d8576b\"], [0.6666666666666666, \"#ed7953\"], [0.7777777777777778, \"#fb9f3a\"], [0.8888888888888888, \"#fdca26\"], [1.0, \"#f0f921\"]], \"type\": \"histogram2dcontour\"}], \"mesh3d\": [{\"colorbar\": {\"outlinewidth\": 0, \"ticks\": \"\"}, \"type\": \"mesh3d\"}], \"parcoords\": [{\"line\": {\"colorbar\": {\"outlinewidth\": 0, \"ticks\": \"\"}}, \"type\": \"parcoords\"}], \"pie\": [{\"automargin\": true, \"type\": \"pie\"}], \"scatter\": [{\"marker\": {\"colorbar\": {\"outlinewidth\": 0, \"ticks\": \"\"}}, \"type\": \"scatter\"}], \"scatter3d\": [{\"line\": {\"colorbar\": {\"outlinewidth\": 0, \"ticks\": \"\"}}, \"marker\": {\"colorbar\": {\"outlinewidth\": 0, \"ticks\": \"\"}}, \"type\": \"scatter3d\"}], \"scattercarpet\": [{\"marker\": {\"colorbar\": {\"outlinewidth\": 0, \"ticks\": \"\"}}, \"type\": \"scattercarpet\"}], \"scattergeo\": [{\"marker\": {\"colorbar\": {\"outlinewidth\": 0, \"ticks\": \"\"}}, \"type\": \"scattergeo\"}], \"scattergl\": [{\"marker\": {\"colorbar\": {\"outlinewidth\": 0, \"ticks\": \"\"}}, \"type\": \"scattergl\"}], \"scattermapbox\": [{\"marker\": {\"colorbar\": {\"outlinewidth\": 0, \"ticks\": \"\"}}, \"type\": \"scattermapbox\"}], \"scatterpolar\": [{\"marker\": {\"colorbar\": {\"outlinewidth\": 0, \"ticks\": \"\"}}, \"type\": \"scatterpolar\"}], \"scatterpolargl\": [{\"marker\": {\"colorbar\": {\"outlinewidth\": 0, \"ticks\": \"\"}}, \"type\": \"scatterpolargl\"}], \"scatterternary\": [{\"marker\": {\"colorbar\": {\"outlinewidth\": 0, \"ticks\": \"\"}}, \"type\": \"scatterternary\"}], \"surface\": [{\"colorbar\": {\"outlinewidth\": 0, \"ticks\": \"\"}, \"colorscale\": [[0.0, \"#0d0887\"], [0.1111111111111111, \"#46039f\"], [0.2222222222222222, \"#7201a8\"], [0.3333333333333333, \"#9c179e\"], [0.4444444444444444, \"#bd3786\"], [0.5555555555555556, \"#d8576b\"], [0.6666666666666666, \"#ed7953\"], [0.7777777777777778, \"#fb9f3a\"], [0.8888888888888888, \"#fdca26\"], [1.0, \"#f0f921\"]], \"type\": \"surface\"}], \"table\": [{\"cells\": {\"fill\": {\"color\": \"#EBF0F8\"}, \"line\": {\"color\": \"white\"}}, \"header\": {\"fill\": {\"color\": \"#C8D4E3\"}, \"line\": {\"color\": \"white\"}}, \"type\": \"table\"}]}, \"layout\": {\"annotationdefaults\": {\"arrowcolor\": \"#2a3f5f\", \"arrowhead\": 0, \"arrowwidth\": 1}, \"coloraxis\": {\"colorbar\": {\"outlinewidth\": 0, \"ticks\": \"\"}}, \"colorscale\": {\"diverging\": [[0, \"#8e0152\"], [0.1, \"#c51b7d\"], [0.2, \"#de77ae\"], [0.3, \"#f1b6da\"], [0.4, \"#fde0ef\"], [0.5, \"#f7f7f7\"], [0.6, \"#e6f5d0\"], [0.7, \"#b8e186\"], [0.8, \"#7fbc41\"], [0.9, \"#4d9221\"], [1, \"#276419\"]], \"sequential\": [[0.0, \"#0d0887\"], [0.1111111111111111, \"#46039f\"], [0.2222222222222222, \"#7201a8\"], [0.3333333333333333, \"#9c179e\"], [0.4444444444444444, \"#bd3786\"], [0.5555555555555556, \"#d8576b\"], [0.6666666666666666, \"#ed7953\"], [0.7777777777777778, \"#fb9f3a\"], [0.8888888888888888, \"#fdca26\"], [1.0, \"#f0f921\"]], \"sequentialminus\": [[0.0, \"#0d0887\"], [0.1111111111111111, \"#46039f\"], [0.2222222222222222, \"#7201a8\"], [0.3333333333333333, \"#9c179e\"], [0.4444444444444444, \"#bd3786\"], [0.5555555555555556, \"#d8576b\"], [0.6666666666666666, \"#ed7953\"], [0.7777777777777778, \"#fb9f3a\"], [0.8888888888888888, \"#fdca26\"], [1.0, \"#f0f921\"]]}, \"colorway\": [\"#636efa\", \"#EF553B\", \"#00cc96\", \"#ab63fa\", \"#FFA15A\", \"#19d3f3\", \"#FF6692\", \"#B6E880\", \"#FF97FF\", \"#FECB52\"], \"font\": {\"color\": \"#2a3f5f\"}, \"geo\": {\"bgcolor\": \"white\", \"lakecolor\": \"white\", \"landcolor\": \"#E5ECF6\", \"showlakes\": true, \"showland\": true, \"subunitcolor\": \"white\"}, \"hoverlabel\": {\"align\": \"left\"}, \"hovermode\": \"closest\", \"mapbox\": {\"style\": \"light\"}, \"paper_bgcolor\": \"white\", \"plot_bgcolor\": \"#E5ECF6\", \"polar\": {\"angularaxis\": {\"gridcolor\": \"white\", \"linecolor\": \"white\", \"ticks\": \"\"}, \"bgcolor\": \"#E5ECF6\", \"radialaxis\": {\"gridcolor\": \"white\", \"linecolor\": \"white\", \"ticks\": \"\"}}, \"scene\": {\"xaxis\": {\"backgroundcolor\": \"#E5ECF6\", \"gridcolor\": \"white\", \"gridwidth\": 2, \"linecolor\": \"white\", \"showbackground\": true, \"ticks\": \"\", \"zerolinecolor\": \"white\"}, \"yaxis\": {\"backgroundcolor\": \"#E5ECF6\", \"gridcolor\": \"white\", \"gridwidth\": 2, \"linecolor\": \"white\", \"showbackground\": true, \"ticks\": \"\", \"zerolinecolor\": \"white\"}, \"zaxis\": {\"backgroundcolor\": \"#E5ECF6\", \"gridcolor\": \"white\", \"gridwidth\": 2, \"linecolor\": \"white\", \"showbackground\": true, \"ticks\": \"\", \"zerolinecolor\": \"white\"}}, \"shapedefaults\": {\"line\": {\"color\": \"#2a3f5f\"}}, \"ternary\": {\"aaxis\": {\"gridcolor\": \"white\", \"linecolor\": \"white\", \"ticks\": \"\"}, \"baxis\": {\"gridcolor\": \"white\", \"linecolor\": \"white\", \"ticks\": \"\"}, \"bgcolor\": \"#E5ECF6\", \"caxis\": {\"gridcolor\": \"white\", \"linecolor\": \"white\", \"ticks\": \"\"}}, \"title\": {\"x\": 0.05}, \"xaxis\": {\"automargin\": true, \"gridcolor\": \"white\", \"linecolor\": \"white\", \"ticks\": \"\", \"title\": {\"standoff\": 15}, \"zerolinecolor\": \"white\", \"zerolinewidth\": 2}, \"yaxis\": {\"automargin\": true, \"gridcolor\": \"white\", \"linecolor\": \"white\", \"ticks\": \"\", \"title\": {\"standoff\": 15}, \"zerolinecolor\": \"white\", \"zerolinewidth\": 2}}}, \"title\": {\"text\": \"1M^2\\ub2f9_\\uc138\\ub300\\uc218 * 100, \\ub4f1\\ub85d\\ucc28\\ub7c9\\uc218 \\ubd84\\ud3ec\"}, \"xaxis\": {\"anchor\": \"y\", \"domain\": [0.0, 1.0], \"title\": {\"text\": \"1M^2\\ub2f9_\\uc138\\ub300\\uc218*100\"}}, \"yaxis\": {\"anchor\": \"x\", \"domain\": [0.0, 1.0], \"title\": {\"text\": \"\\ub4f1\\ub85d\\ucc28\\ub7c9\\uc218\"}}},\n",
              "                        {\"responsive\": true}\n",
              "                    ).then(function(){\n",
              "                            \n",
              "var gd = document.getElementById('48e8b78c-b2ee-4b9f-9547-7eba05736aad');\n",
              "var x = new MutationObserver(function (mutations, observer) {{\n",
              "        var display = window.getComputedStyle(gd).display;\n",
              "        if (!display || display === 'none') {{\n",
              "            console.log([gd, 'removed!']);\n",
              "            Plotly.purge(gd);\n",
              "            observer.disconnect();\n",
              "        }}\n",
              "}});\n",
              "\n",
              "// Listen for the removal of the full notebook cells\n",
              "var notebookContainer = gd.closest('#notebook-container');\n",
              "if (notebookContainer) {{\n",
              "    x.observe(notebookContainer, {childList: true});\n",
              "}}\n",
              "\n",
              "// Listen for the clearing of the current output cell\n",
              "var outputEl = gd.closest('.output');\n",
              "if (outputEl) {{\n",
              "    x.observe(outputEl, {childList: true});\n",
              "}}\n",
              "\n",
              "                        })\n",
              "                };\n",
              "                \n",
              "            </script>\n",
              "        </div>\n",
              "</body>\n",
              "</html>"
            ]
          },
          "metadata": {}
        }
      ]
    },
    {
      "cell_type": "markdown",
      "metadata": {
        "id": "eUwApMJjxuwS"
      },
      "source": [
        "여기서 상가지역과 밀도지역을 확인해보자"
      ]
    },
    {
      "cell_type": "code",
      "metadata": {
        "id": "t2VtHxaxyDf0"
      },
      "source": [
        "temp_store = pd.merge(raw_train_lentType.drop_duplicates('단지코드', keep='first')[['단지코드', '상가유무']], temp_none_duplicates.reset_index(), on='단지코드')"
      ],
      "execution_count": 378,
      "outputs": []
    },
    {
      "cell_type": "code",
      "metadata": {
        "colab": {
          "base_uri": "https://localhost:8080/",
          "height": 542
        },
        "id": "dQym39X5ycgb",
        "outputId": "a077dbc4-e658-4ce6-f94e-d6bbf4622de5"
      },
      "source": [
        "fig = go.Figure()\n",
        "fig = px.scatter(temp_store, x='1M^2당_세대수*100', y = '등록차량수', color='상가유무',  text='단지코드',\n",
        "                            color_discrete_sequence=px.colors.qualitative.Alphabet)\n",
        "fig.update_layout(title= '1M^2당_세대수 * 100, 등록차량수 분포') #autosize =, width = 1000, height = 500)"
      ],
      "execution_count": 405,
      "outputs": [
        {
          "output_type": "display_data",
          "data": {
            "text/html": [
              "<html>\n",
              "<head><meta charset=\"utf-8\" /></head>\n",
              "<body>\n",
              "    <div>\n",
              "            <script src=\"https://cdnjs.cloudflare.com/ajax/libs/mathjax/2.7.5/MathJax.js?config=TeX-AMS-MML_SVG\"></script><script type=\"text/javascript\">if (window.MathJax) {MathJax.Hub.Config({SVG: {font: \"STIX-Web\"}});}</script>\n",
              "                <script type=\"text/javascript\">window.PlotlyConfig = {MathJaxConfig: 'local'};</script>\n",
              "        <script src=\"https://cdn.plot.ly/plotly-latest.min.js\"></script>    \n",
              "            <div id=\"0c6d595f-aff1-46a8-98b4-668351e07dbb\" class=\"plotly-graph-div\" style=\"height:525px; width:100%;\"></div>\n",
              "            <script type=\"text/javascript\">\n",
              "                \n",
              "                    window.PLOTLYENV=window.PLOTLYENV || {};\n",
              "                    \n",
              "                if (document.getElementById(\"0c6d595f-aff1-46a8-98b4-668351e07dbb\")) {\n",
              "                    Plotly.newPlot(\n",
              "                        '0c6d595f-aff1-46a8-98b4-668351e07dbb',\n",
              "                        [{\"hoverlabel\": {\"namelength\": 0}, \"hovertemplate\": \"\\uc0c1\\uac00\\uc720\\ubb34=\\uc0c1\\uac00\\uc5c6\\uc74c<br>1M^2\\ub2f9_\\uc138\\ub300\\uc218*100=%{x}<br>\\ub4f1\\ub85d\\ucc28\\ub7c9\\uc218=%{y}<br>\\ub2e8\\uc9c0\\ucf54\\ub4dc=%{text}\", \"legendgroup\": \"\\uc0c1\\uac00\\uc720\\ubb34=\\uc0c1\\uac00\\uc5c6\\uc74c\", \"marker\": {\"color\": \"#AA0DFE\", \"symbol\": \"circle\"}, \"mode\": \"markers+text\", \"name\": \"\\uc0c1\\uac00\\uc720\\ubb34=\\uc0c1\\uac00\\uc5c6\\uc74c\", \"showlegend\": true, \"text\": [\"C2483\", \"C2515\", \"C1407\", \"C1945\", \"C1470\", \"C1898\", \"C1244\", \"C1171\", \"C2073\", \"C2513\", \"C1936\", \"C2049\", \"C2202\", \"C2576\", \"C1312\", \"C2650\", \"C2013\", \"C1424\", \"C2100\", \"C2520\", \"C2319\", \"C1032\", \"C1850\", \"C1077\", \"C1068\", \"C1497\", \"C1672\", \"C1613\", \"C2216\", \"C2481\", \"C1718\", \"C1655\", \"C1430\", \"C1519\", \"C2221\", \"C1866\", \"C1005\", \"C2156\", \"C2401\", \"C1175\", \"C1833\", \"C2445\", \"C1885\", \"C2368\", \"C2016\", \"C2371\", \"C2536\", \"C2538\", \"C1014\", \"C1592\", \"C1867\", \"C2326\", \"C1015\", \"C1620\", \"C1049\", \"C2000\", \"C2097\", \"C1668\", \"C1689\", \"C1234\", \"C2514\", \"C1368\", \"C1057\", \"C2336\", \"C1026\", \"C2256\", \"C1900\", \"C2666\", \"C2361\", \"C1642\", \"C1013\", \"C2232\", \"C1973\", \"C2458\", \"C2574\", \"C2133\", \"C2096\", \"C2010\", \"C1879\", \"C1131\", \"C1468\", \"C1213\", \"C1173\", \"C2492\", \"C2032\", \"C2094\", \"C1880\", \"C2089\", \"C1744\", \"C2046\", \"C2071\", \"C2635\", \"C2390\", \"C2561\", \"C1663\", \"C2490\", \"C2066\", \"C1585\", \"C2276\", \"C1155\", \"C1693\", \"C1889\", \"C2518\", \"C1962\", \"C1666\", \"C1988\", \"C1537\", \"C1329\", \"C1762\", \"C2008\", \"C1319\", \"C1141\", \"C2340\", \"C1929\", \"C1681\", \"C1184\", \"C2383\", \"C1579\", \"C2173\", \"C1911\", \"C1638\", \"C2412\", \"C1871\", \"C1309\", \"C1527\", \"C2208\", \"C1940\", \"C2596\", \"C2227\", \"C2563\", \"C2358\", \"C1492\", \"C1601\", \"C1687\", \"C1236\", \"C1487\", \"C1379\", \"C1386\", \"C1656\", \"C2526\", \"C1022\", \"C1896\", \"C1269\", \"C1916\", \"C2070\", \"C1967\", \"C2021\", \"C1143\", \"C2188\", \"C2651\", \"C1036\", \"C2657\", \"C2527\", \"C1502\", \"C2262\", \"C1084\", \"C2530\", \"C1046\", \"C1761\", \"C1102\", \"C2420\", \"C1122\", \"C2042\", \"C1375\", \"C1410\", \"C1641\", \"C1706\", \"C1307\", \"C2601\", \"C1085\", \"C2385\", \"C1059\", \"C2162\", \"C1819\", \"C2325\", \"C2394\", \"C1133\", \"C1281\", \"C1194\", \"C2308\", \"C2036\", \"C1394\", \"C1180\", \"C2503\", \"C1907\", \"C2181\", \"C1768\", \"C1783\", \"C2192\", \"C2346\", \"C2680\", \"C2631\", \"C2141\", \"C1569\", \"C2099\", \"C2287\", \"C2055\", \"C1428\", \"C2522\", \"C2560\", \"C2068\", \"C2603\", \"C1965\", \"C1660\", \"C2378\", \"C1268\", \"C1994\", \"C1837\", \"C1000\", \"C1465\", \"C1448\", \"C1516\", \"C2670\", \"C1365\", \"C1177\", \"C1360\", \"C2488\", \"C1406\", \"C1566\", \"C1227\", \"C2460\", \"C2486\", \"C2106\", \"C1572\", \"C1773\", \"C1677\", \"C1823\", \"C1344\", \"C2692\", \"C2505\", \"C2587\", \"C2127\", \"C1316\", \"C1674\", \"C1713\", \"C1845\", \"C2082\", \"C1328\", \"C2357\", \"C2565\", \"C1804\", \"C1397\", \"C2255\", \"C1343\", \"C1987\", \"C2479\", \"C2352\", \"C1310\", \"C1738\", \"C1039\", \"C1863\", \"C1426\", \"C2659\", \"C2489\", \"C2211\", \"C2314\", \"C1861\", \"C2389\", \"C1490\", \"C1024\", \"C1788\", \"C1740\", \"C2620\", \"C1286\", \"C2085\", \"C1089\", \"C2237\", \"C1341\", \"C1338\", \"C2405\", \"C1969\", \"C2274\", \"C1699\", \"C2251\", \"C1340\", \"C2373\", \"C1455\", \"C1095\", \"C2137\", \"C1985\", \"C2583\", \"C2663\", \"C2450\", \"C2329\", \"C1834\", \"C1649\", \"C1848\", \"C1743\", \"C1350\", \"C1402\", \"C1103\", \"C1129\", \"C1027\", \"C2377\", \"C2431\", \"C2661\", \"C1263\", \"C1136\", \"C2605\", \"C2393\", \"C1673\", \"C1017\", \"C2539\", \"C1933\", \"C2316\", \"C2051\", \"C2414\", \"C1301\", \"C1700\", \"C1636\", \"C2612\", \"C1757\", \"C2507\", \"C1163\", \"C2627\", \"C2040\", \"C2609\", \"C2001\", \"C1065\", \"C1363\", \"C2579\", \"C1048\", \"C1210\", \"C1320\", \"C1941\", \"C1326\", \"C1685\", \"C2618\", \"C1451\", \"C2143\", \"C1968\", \"C2470\", \"C1258\", \"C2453\", \"C1659\", \"C1724\", \"C1802\", \"C1939\", \"C1284\", \"C2595\", \"C2351\", \"C2506\", \"C1697\", \"C2259\", \"C1786\", \"C1357\", \"C2570\", \"C1652\", \"C1565\", \"C1910\", \"C2359\", \"C2139\", \"C1979\", \"C1803\", \"C2508\", \"C2531\", \"C1695\", \"C2556\", \"C2086\", \"C1544\", \"C2154\", \"C2496\", \"C1756\", \"C2362\", \"C2568\", \"C2245\", \"C2059\", \"C2549\", \"C1584\", \"C2298\", \"C2225\", \"C1218\", \"C2328\", \"C1045\", \"C1207\", \"C1970\", \"C1732\", \"C2433\", \"C1894\", \"C1156\", \"C2142\", \"C2153\", \"C2186\", \"C1176\", \"C2446\", \"C2586\", \"C2035\", \"C2020\", \"C2437\", \"C2532\"], \"type\": \"scatter\", \"x\": [225.5582566852961, 175.56858449842144, 267.9653584257035, 249.1255856926021, 404.8159134531495, 221.56977882168724, 289.33882214567757, 116.309412861137, 128.97002607981136, 484.2957158455906, 115.62364503540974, 421.878832474859, 479.1939081609107, 379.2845102079041, 307.4635741897116, 689.7910918407568, 502.19817382482245, 446.0647651726357, 262.81208935611033, 2418.745275888133, 281.0032512772875, 305.2991673659072, 277.01827601093686, 635.5181576616476, 308.4882161333589, 1017.2501268391679, 1210.6537530266344, 515.0846210448859, 497.51243781094524, 540.3087478559178, 761.9143984620055, 268.95657809462085, 686.858730229849, 515.2109911678116, 148.88462703139197, 199.9645033426019, 701.49619818494, 238.18820773135494, 145.3924914675768, 294.87744943607834, 467.6197332784806, 295.3119232189, 256.1728395061728, 251.13415424497728, 156.38106650689033, 133.81136549699346, 63.47527109230362, 178.9032610675898, 289.0056002089197, 301.2674007895284, 277.24391739930485, 315.1962495636128, 260.8719257288669, 578.6210783392823, 296.8949009618341, 414.8583099310697, 325.3569798526439, 170.0997136252286, 254.92970604345447, 275.5092883424571, 169.10250784757147, 470.14377164445375, 273.3760100745094, 143.6547268050938, 259.7402597402597, 188.22771411477748, 164.07212453802217, 417.6459256405317, 226.9739385971696, 86.03383997705765, 566.9455160157775, 190.501744030051, 275.36751523843674, 248.65904850746267, 242.7018860568254, 128.112594731144, 179.28722396326802, 393.9782190903267, 290.7262021589794, 404.54382183908046, 373.2881418036917, 125.37169492887568, 138.44102315432173, 250.56947608200457, 203.91411414006134, 141.29648137298824, 294.34941825429934, 356.38869336494645, 307.5426519006285, 370.8448298515307, 353.99712781235036, 116.48018072076525, 172.72239126543764, 236.67410598432554, 297.6080103838309, 271.0221663824822, 178.65571603889364, 425.6218304757305, 655.5772994129157, 230.18844760910935, 405.7267884322679, 514.869512441837, 305.17272239126544, 186.94108659506583, 172.35922779170826, 286.6626433313217, 306.9789009969858, 275.4487725760783, 282.1546353975815, 173.2014548035128, 197.38936644380775, 223.82491917433472, 1285.7860371672525, 168.56819817041833, 144.17235886498017, 143.69078245592019, 177.00348432055753, 241.76088525378879, 208.54075289938922, 279.3120763243786, 191.81486371049158, 260.9331444500297, 221.28344397505532, 115.80093124508677, 377.35849056603774, 241.90894130554037, 217.2453989897206, 143.71770173990154, 149.98585039147252, 299.3361496680749, 506.6344993968637, 127.43848642289973, 113.22308378508201, 152.89975472743097, 203.50889898788728, 493.5391241923905, 182.68959684240204, 268.5587169459295, 152.23187408617872, 149.95353552420377, 207.35607675906184, 254.38565150594874, 302.8176616646875, 440.4620533304545, 366.7851162030797, 327.5084554678693, 145.90405650996126, 582.9407806191117, 345.00253678335866, 262.57439607888904, 226.14367132973697, 263.935875163817, 163.45866587000128, 433.90191897654586, 198.30886605888668, 95.61535309383964, 104.63531015678255, 185.34792681952547, 213.71769383697813, 192.6341427411617, 135.68480745821086, 263.61293269387625, 313.55969524816135, 215.4485428051002, 267.30740351404114, 151.02999252855162, 202.56788409820422, 133.65029054410985, 90.7936033477806, 316.8376584188292, 225.134068602651, 198.58594444229806, 228.41089532185168, 201.5390252839868, 161.37295081967213, 76.22244847417517, 339.211412720428, 322.24272958547414, 191.45747470962905, 174.3332517739173, 127.62987336723504, 281.2311406155703, 191.76743617930865, 148.33799316557935, 79.33537908839158, 321.889996308601, 455.80978017048005, 247.43814046488376, 247.67503493470824, 216.66537236934067, 582.8527489427142, 260.69089508154616, 292.326431181486, 229.93950878215878, 138.24692900270662, 126.23456790123457, 278.96066402020926, 114.27700746609784, 230.55555555555554, 333.8418738221305, 389.4821861258189, 175.43859649122805, 215.8086323452938, 193.7974034386893, 367.01363962670496, 367.60788492274907, 218.18365900577095, 176.4261428031734, 178.8140144694026, 343.7674678591392, 241.96695720046836, 226.07833415964308, 316.731023021653, 165.37516537516538, 246.58506297676067, 162.1463343215841, 344.04643919014586, 273.4472281715396, 181.5181518151815, 213.42512908777968, 390.5979951607328, 142.11262848043236, 244.26888964280522, 392.7733065057009, 210.33127175301104, 241.2484183888655, 213.3487654320988, 67.91940230925967, 229.05669038329123, 98.4009840098401, 190.38297603637167, 258.1216121538405, 125.16083752485672, 127.67495081703939, 268.33558309813066, 168.7717169488721, 372.54676037945995, 214.56071289527188, 206.99029126213594, 178.2392232596871, 7.875208238679389, 131.71947312210753, 289.9150962932284, 147.8743068391867, 100.61544844754857, 215.52818689690199, 284.629981024668, 261.3341397646229, 414.66102186394477, 171.14384748700175, 334.9384371571376, 199.19045590115041, 151.46506386175804, 712.9313613955253, 252.2402920677066, 272.50431465164866, 435.71608992169735, 270.7368751471396, 205.50309038998523, 60.82399296124861, 337.0383650053783, 166.8930026445572, 248.64152807508648, 375.39316204403417, 168.35777329904786, 136.1853304714677, 58.12505189736776, 297.4673334408776, 135.47361313789125, 119.94256271644565, 670.3307488467956, 425.4673694588752, 226.88188263689844, 183.5166428467864, 306.9224353628023, 331.7979545631978, 380.3151685887842, 362.63894903998846, 851.8189884649512, 484.96282321606924, 298.3625131511506, 313.78287200747883, 173.09346330275227, 626.1801790826584, 242.00133620369684, 174.3163766446371, 182.64840182648402, 156.27160835292491, 154.249287106257, 94.34997257268239, 567.1478830522868, 312.22296698306985, 211.61048689138573, 407.9146517036435, 564.9311789347696, 319.1201658703687, 149.83786201498376, 608.2710020399334, 457.1428571428571, 320.7069659378501, 336.2404118945046, 1321.1474074744367, 191.332077112625, 244.84906564446572, 788.6258579633002, 64.91406136721058, 385.1444291609354, 387.19963557681353, 536.6080782213945, 191.64872486884798, 1182.2521763549564, 478.8613473252518, 220.99615460611312, 278.73335097468464, 309.5644748078565, 124.0057618838855, 540.3304178814383, 320.6270039187745, 870.4528582034151, 546.6854004342827, 431.76624224616387, 329.1003398318727, 849.7344579818806, 1097.4504982528795, 118.88297089721331, 1201.3914772021367, 100.92370851864523, 989.7828863346106, 1046.1657830078882, 113.6150234741784, 319.75116640746506, 276.83076503477423, 447.0938897168406, 310.01177856301535, 229.19578198450003, 466.53294703216693, 219.62245708351148, 767.3340566130781, 441.3239719157472, 237.71660451853472, 199.76411617278492, 100.12560240158916, 109.89699768088086, 197.8563817562627, 356.82426404995533, 293.3574567071595, 212.9774243930144, 229.6003921265124, 995.1219512195122, 221.40221402214019, 526.1131784935197, 283.78002411202823, 101.12359550561798, 34.210256234819205, 376.767495972794, 292.0497566252028, 149.3540437607348, 251.004016064257, 174.39888901448478, 180.47446000571637, 123.76581838409125, 248.21726596874524, 118.85848779052661, 393.2466442953021, 284.6629174477539, 111.55378486055776, 37.42622714840939, 138.8503193557345, 760.8831233628539, 401.80743830378873, 510.16070062069554, 1310.8142172926644, 263.43467945111655, 340.1510153214574, 119.70313622216904, 148.77631481068215, 171.48424813251057, 412.73968150796225, 145.8128078817734, 469.7133712994776, 689.4541214197216, 258.36842480907853, 468.87796887796895, 498.5238862050456, 586.4008316229974, 67.62849413886384, 272.1991701244813, 50.093926111458984, 362.46476037051957, 78.22472424966452], \"xaxis\": \"x\", \"y\": [1015.0, 205.0, 1064.0, 730.0, 553.0, 415.0, 1804.0, 700.0, 301.0, 820.0, 234.0, 841.0, 226.0, 73.0, 359.0, 159.0, 91.0, 179.0, 671.0, 386.0, 266.0, 316.0, 254.0, 236.0, 510.0, 382.0, 873.0, 498.0, 149.0, 302.0, 496.0, 236.0, 839.0, 235.0, 359.0, 135.0, 376.0, 204.0, 19.0, 430.0, 1001.0, 334.0, 616.0, 548.0, 220.0, 451.0, 47.0, 799.0, 708.0, 739.0, 374.0, 557.0, 579.0, 1101.0, 762.0, 795.0, 995.0, 288.0, 960.0, 311.0, 648.0, 861.0, 521.0, 562.0, 422.0, 344.0, 596.0, 701.0, 1117.0, 297.0, 1665.0, 248.0, 457.0, 910.0, 826.0, 328.0, 525.0, 690.0, 713.0, 1019.0, 810.0, 148.0, 609.0, 585.0, 1162.0, 318.0, 761.0, 572.0, 979.0, 1306.0, 1398.0, 442.0, 422.0, 441.0, 700.0, 340.0, 503.0, 718.0, 1159.0, 373.0, 1087.0, 808.0, 305.0, 401.0, 465.0, 402.0, 669.0, 554.0, 460.0, 548.0, 398.0, 620.0, 382.0, 413.0, 520.0, 488.0, 832.0, 1158.0, 745.0, 831.0, 413.0, 487.0, 408.0, 446.0, 1150.0, 840.0, 709.0, 480.0, 505.0, 449.0, 1010.0, 296.0, 308.0, 349.0, 657.0, 505.0, 294.0, 1145.0, 257.0, 321.0, 450.0, 845.0, 643.0, 752.0, 735.0, 639.0, 902.0, 632.0, 125.0, 282.0, 1279.0, 782.0, 375.0, 438.0, 540.0, 226.0, 302.0, 156.0, 730.0, 417.0, 505.0, 1077.0, 757.0, 754.0, 815.0, 268.0, 362.0, 504.0, 281.0, 521.0, 552.0, 246.0, 347.0, 272.0, 293.0, 254.0, 842.0, 484.0, 585.0, 244.0, 258.0, 271.0, 311.0, 327.0, 207.0, 683.0, 670.0, 570.0, 324.0, 553.0, 590.0, 638.0, 495.0, 528.0, 383.0, 284.0, 723.0, 333.0, 610.0, 481.0, 594.0, 509.0, 500.0, 512.0, 901.0, 934.0, 496.0, 398.0, 481.0, 557.0, 1284.0, 475.0, 435.0, 945.0, 1044.0, 375.0, 1023.0, 1350.0, 284.0, 823.0, 793.0, 587.0, 353.0, 479.0, 614.0, 1101.0, 652.0, 509.0, 437.0, 163.0, 589.0, 403.0, 22.0, 322.0, 566.0, 277.0, 822.0, 770.0, 345.0, 1090.0, 951.0, 1595.0, 410.0, 549.0, 166.0, 647.0, 793.0, 1084.0, 682.0, 645.0, 733.0, 262.0, 365.0, 950.0, 244.0, 343.0, 613.0, 561.0, 899.0, 957.0, 412.0, 979.0, 1709.0, 881.0, 1595.0, 309.0, 55.0, 442.0, 551.0, 1240.0, 886.0, 713.0, 606.0, 870.0, 410.0, 800.0, 420.0, 505.0, 752.0, 630.0, 982.0, 652.0, 451.0, 821.0, 255.0, 855.0, 625.0, 1653.0, 2315.0, 498.0, 787.0, 1668.0, 207.0, 579.0, 359.0, 330.0, 217.0, 763.0, 572.0, 922.0, 526.0, 1246.0, 228.0, 1730.0, 712.0, 780.0, 1200.0, 202.0, 979.0, 946.0, 1832.0, 508.0, 763.0, 326.0, 404.0, 336.0, 555.0, 417.0, 1255.0, 2550.0, 751.0, 243.0, 586.0, 924.0, 600.0, 1153.0, 164.0, 783.0, 1044.0, 719.0, 220.0, 887.0, 616.0, 559.0, 416.0, 701.0, 1983.0, 1896.0, 780.0, 1359.0, 646.0, 1433.0, 854.0, 1378.0, 345.0, 995.0, 205.0, 509.0, 588.0, 396.0, 693.0, 155.0, 133.0, 78.0, 568.0, 358.0, 123.0, 148.0, 1524.0, 713.0, 124.0, 1400.0, 609.0, 196.0, 189.0, 98.0, 13.0, 165.0, 507.0, 444.0, 448.0, 921.0, 1374.0, 266.0, 59.0, 159.0, 267.0, 130.0, 419.0, 505.0, 396.0, 280.0, 744.0, 619.0, 1204.0, 57.0, 246.0, 19.0, 16.0, 146.0], \"yaxis\": \"y\"}, {\"hoverlabel\": {\"namelength\": 0}, \"hovertemplate\": \"\\uc0c1\\uac00\\uc720\\ubb34=\\uc0c1\\uac00\\uc788\\uc74c<br>1M^2\\ub2f9_\\uc138\\ub300\\uc218*100=%{x}<br>\\ub4f1\\ub85d\\ucc28\\ub7c9\\uc218=%{y}<br>\\ub2e8\\uc9c0\\ucf54\\ub4dc=%{text}\", \"legendgroup\": \"\\uc0c1\\uac00\\uc720\\ubb34=\\uc0c1\\uac00\\uc788\\uc74c\", \"marker\": {\"color\": \"#3283FE\", \"symbol\": \"circle\"}, \"mode\": \"markers+text\", \"name\": \"\\uc0c1\\uac00\\uc720\\ubb34=\\uc0c1\\uac00\\uc788\\uc74c\", \"showlegend\": true, \"text\": [\"C1925\", \"C1874\", \"C2416\", \"C2621\", \"C1616\", \"C1704\", \"C2258\", \"C2038\", \"C1859\", \"C1722\", \"C2190\", \"C1476\", \"C1983\", \"C2135\", \"C2034\", \"C1109\", \"C2289\", \"C2597\", \"C2310\", \"C2132\", \"C1439\", \"C1899\", \"C1056\", \"C2644\", \"C1206\", \"C1775\", \"C1790\", \"C2109\", \"C1698\", \"C1004\", \"C1875\", \"C2212\", \"C2571\"], \"type\": \"scatter\", \"x\": [1033.1079909863063, 704.2588627171068, 971.4889123548046, 469.7986577181207, 1518.2124273033364, 789.9734143562478, 967.2482399755128, 783.5935108662383, 1464.1171784028925, 412.34466468111333, 901.9288236892148, 774.8309932397297, 543.683409436834, 1307.3994765643588, 1736.854627646919, 3357.600970705495, 1306.1189114231236, 1161.0754223173924, 2341.184867951463, 2067.0826833073324, 1744.7199265381084, 774.8309932397297, 703.9774727208729, 605.0905683947533, 828.566475992373, 1224.920802534319, 704.4152342433435, 844.7729672650474, 290.8534251817834, 638.0554500569692, 1170.5924339757314, 770.699921357151, 1774.7440273037541], \"xaxis\": \"x\", \"y\": [75.0, 62.0, 63.0, 133.0, 98.0, 131.0, 78.0, 108.0, 116.0, 649.0, 129.0, 70.0, 253.0, 127.0, 132.0, 313.0, 364.0, 94.0, 189.0, 359.0, 172.0, 31.0, 125.0, 177.0, 90.0, 96.0, 120.0, 60.0, 65.0, 93.0, 209.0, 86.0, 62.0], \"yaxis\": \"y\"}],\n",
              "                        {\"legend\": {\"tracegroupgap\": 0}, \"margin\": {\"t\": 60}, \"template\": {\"data\": {\"bar\": [{\"error_x\": {\"color\": \"#2a3f5f\"}, \"error_y\": {\"color\": \"#2a3f5f\"}, \"marker\": {\"line\": {\"color\": \"#E5ECF6\", \"width\": 0.5}}, \"type\": \"bar\"}], \"barpolar\": [{\"marker\": {\"line\": {\"color\": \"#E5ECF6\", \"width\": 0.5}}, \"type\": \"barpolar\"}], \"carpet\": [{\"aaxis\": {\"endlinecolor\": \"#2a3f5f\", \"gridcolor\": \"white\", \"linecolor\": \"white\", \"minorgridcolor\": \"white\", \"startlinecolor\": \"#2a3f5f\"}, \"baxis\": {\"endlinecolor\": \"#2a3f5f\", \"gridcolor\": \"white\", \"linecolor\": \"white\", \"minorgridcolor\": \"white\", \"startlinecolor\": \"#2a3f5f\"}, \"type\": \"carpet\"}], \"choropleth\": [{\"colorbar\": {\"outlinewidth\": 0, \"ticks\": \"\"}, \"type\": \"choropleth\"}], \"contour\": [{\"colorbar\": {\"outlinewidth\": 0, \"ticks\": \"\"}, \"colorscale\": [[0.0, \"#0d0887\"], [0.1111111111111111, \"#46039f\"], [0.2222222222222222, \"#7201a8\"], [0.3333333333333333, \"#9c179e\"], [0.4444444444444444, \"#bd3786\"], [0.5555555555555556, \"#d8576b\"], [0.6666666666666666, \"#ed7953\"], [0.7777777777777778, \"#fb9f3a\"], [0.8888888888888888, \"#fdca26\"], [1.0, \"#f0f921\"]], \"type\": \"contour\"}], \"contourcarpet\": [{\"colorbar\": {\"outlinewidth\": 0, \"ticks\": \"\"}, \"type\": \"contourcarpet\"}], \"heatmap\": [{\"colorbar\": {\"outlinewidth\": 0, \"ticks\": \"\"}, \"colorscale\": [[0.0, \"#0d0887\"], [0.1111111111111111, \"#46039f\"], [0.2222222222222222, \"#7201a8\"], [0.3333333333333333, \"#9c179e\"], [0.4444444444444444, \"#bd3786\"], [0.5555555555555556, \"#d8576b\"], [0.6666666666666666, \"#ed7953\"], [0.7777777777777778, \"#fb9f3a\"], [0.8888888888888888, \"#fdca26\"], [1.0, \"#f0f921\"]], \"type\": \"heatmap\"}], \"heatmapgl\": [{\"colorbar\": {\"outlinewidth\": 0, \"ticks\": \"\"}, \"colorscale\": [[0.0, \"#0d0887\"], [0.1111111111111111, \"#46039f\"], [0.2222222222222222, \"#7201a8\"], [0.3333333333333333, \"#9c179e\"], [0.4444444444444444, \"#bd3786\"], [0.5555555555555556, \"#d8576b\"], [0.6666666666666666, \"#ed7953\"], [0.7777777777777778, \"#fb9f3a\"], [0.8888888888888888, \"#fdca26\"], [1.0, \"#f0f921\"]], \"type\": \"heatmapgl\"}], \"histogram\": [{\"marker\": {\"colorbar\": {\"outlinewidth\": 0, \"ticks\": \"\"}}, \"type\": \"histogram\"}], \"histogram2d\": [{\"colorbar\": {\"outlinewidth\": 0, \"ticks\": \"\"}, \"colorscale\": [[0.0, \"#0d0887\"], [0.1111111111111111, \"#46039f\"], [0.2222222222222222, \"#7201a8\"], [0.3333333333333333, \"#9c179e\"], [0.4444444444444444, \"#bd3786\"], [0.5555555555555556, \"#d8576b\"], [0.6666666666666666, \"#ed7953\"], [0.7777777777777778, \"#fb9f3a\"], [0.8888888888888888, \"#fdca26\"], [1.0, \"#f0f921\"]], \"type\": \"histogram2d\"}], \"histogram2dcontour\": [{\"colorbar\": {\"outlinewidth\": 0, \"ticks\": \"\"}, \"colorscale\": [[0.0, \"#0d0887\"], [0.1111111111111111, \"#46039f\"], [0.2222222222222222, \"#7201a8\"], [0.3333333333333333, \"#9c179e\"], [0.4444444444444444, \"#bd3786\"], [0.5555555555555556, \"#d8576b\"], [0.6666666666666666, \"#ed7953\"], [0.7777777777777778, \"#fb9f3a\"], [0.8888888888888888, \"#fdca26\"], [1.0, \"#f0f921\"]], \"type\": \"histogram2dcontour\"}], \"mesh3d\": [{\"colorbar\": {\"outlinewidth\": 0, \"ticks\": \"\"}, \"type\": \"mesh3d\"}], \"parcoords\": [{\"line\": {\"colorbar\": {\"outlinewidth\": 0, \"ticks\": \"\"}}, \"type\": \"parcoords\"}], \"pie\": [{\"automargin\": true, \"type\": \"pie\"}], \"scatter\": [{\"marker\": {\"colorbar\": {\"outlinewidth\": 0, \"ticks\": \"\"}}, \"type\": \"scatter\"}], \"scatter3d\": [{\"line\": {\"colorbar\": {\"outlinewidth\": 0, \"ticks\": \"\"}}, \"marker\": {\"colorbar\": {\"outlinewidth\": 0, \"ticks\": \"\"}}, \"type\": \"scatter3d\"}], \"scattercarpet\": [{\"marker\": {\"colorbar\": {\"outlinewidth\": 0, \"ticks\": \"\"}}, \"type\": \"scattercarpet\"}], \"scattergeo\": [{\"marker\": {\"colorbar\": {\"outlinewidth\": 0, \"ticks\": \"\"}}, \"type\": \"scattergeo\"}], \"scattergl\": [{\"marker\": {\"colorbar\": {\"outlinewidth\": 0, \"ticks\": \"\"}}, \"type\": \"scattergl\"}], \"scattermapbox\": [{\"marker\": {\"colorbar\": {\"outlinewidth\": 0, \"ticks\": \"\"}}, \"type\": \"scattermapbox\"}], \"scatterpolar\": [{\"marker\": {\"colorbar\": {\"outlinewidth\": 0, \"ticks\": \"\"}}, \"type\": \"scatterpolar\"}], \"scatterpolargl\": [{\"marker\": {\"colorbar\": {\"outlinewidth\": 0, \"ticks\": \"\"}}, \"type\": \"scatterpolargl\"}], \"scatterternary\": [{\"marker\": {\"colorbar\": {\"outlinewidth\": 0, \"ticks\": \"\"}}, \"type\": \"scatterternary\"}], \"surface\": [{\"colorbar\": {\"outlinewidth\": 0, \"ticks\": \"\"}, \"colorscale\": [[0.0, \"#0d0887\"], [0.1111111111111111, \"#46039f\"], [0.2222222222222222, \"#7201a8\"], [0.3333333333333333, \"#9c179e\"], [0.4444444444444444, \"#bd3786\"], [0.5555555555555556, \"#d8576b\"], [0.6666666666666666, \"#ed7953\"], [0.7777777777777778, \"#fb9f3a\"], [0.8888888888888888, \"#fdca26\"], [1.0, \"#f0f921\"]], \"type\": \"surface\"}], \"table\": [{\"cells\": {\"fill\": {\"color\": \"#EBF0F8\"}, \"line\": {\"color\": \"white\"}}, \"header\": {\"fill\": {\"color\": \"#C8D4E3\"}, \"line\": {\"color\": \"white\"}}, \"type\": \"table\"}]}, \"layout\": {\"annotationdefaults\": {\"arrowcolor\": \"#2a3f5f\", \"arrowhead\": 0, \"arrowwidth\": 1}, \"coloraxis\": {\"colorbar\": {\"outlinewidth\": 0, \"ticks\": \"\"}}, \"colorscale\": {\"diverging\": [[0, \"#8e0152\"], [0.1, \"#c51b7d\"], [0.2, \"#de77ae\"], [0.3, \"#f1b6da\"], [0.4, \"#fde0ef\"], [0.5, \"#f7f7f7\"], [0.6, \"#e6f5d0\"], [0.7, \"#b8e186\"], [0.8, \"#7fbc41\"], [0.9, \"#4d9221\"], [1, \"#276419\"]], \"sequential\": [[0.0, \"#0d0887\"], [0.1111111111111111, \"#46039f\"], [0.2222222222222222, \"#7201a8\"], [0.3333333333333333, \"#9c179e\"], [0.4444444444444444, \"#bd3786\"], [0.5555555555555556, \"#d8576b\"], [0.6666666666666666, \"#ed7953\"], [0.7777777777777778, \"#fb9f3a\"], [0.8888888888888888, \"#fdca26\"], [1.0, \"#f0f921\"]], \"sequentialminus\": [[0.0, \"#0d0887\"], [0.1111111111111111, \"#46039f\"], [0.2222222222222222, \"#7201a8\"], [0.3333333333333333, \"#9c179e\"], [0.4444444444444444, \"#bd3786\"], [0.5555555555555556, \"#d8576b\"], [0.6666666666666666, \"#ed7953\"], [0.7777777777777778, \"#fb9f3a\"], [0.8888888888888888, \"#fdca26\"], [1.0, \"#f0f921\"]]}, \"colorway\": [\"#636efa\", \"#EF553B\", \"#00cc96\", \"#ab63fa\", \"#FFA15A\", \"#19d3f3\", \"#FF6692\", \"#B6E880\", \"#FF97FF\", \"#FECB52\"], \"font\": {\"color\": \"#2a3f5f\"}, \"geo\": {\"bgcolor\": \"white\", \"lakecolor\": \"white\", \"landcolor\": \"#E5ECF6\", \"showlakes\": true, \"showland\": true, \"subunitcolor\": \"white\"}, \"hoverlabel\": {\"align\": \"left\"}, \"hovermode\": \"closest\", \"mapbox\": {\"style\": \"light\"}, \"paper_bgcolor\": \"white\", \"plot_bgcolor\": \"#E5ECF6\", \"polar\": {\"angularaxis\": {\"gridcolor\": \"white\", \"linecolor\": \"white\", \"ticks\": \"\"}, \"bgcolor\": \"#E5ECF6\", \"radialaxis\": {\"gridcolor\": \"white\", \"linecolor\": \"white\", \"ticks\": \"\"}}, \"scene\": {\"xaxis\": {\"backgroundcolor\": \"#E5ECF6\", \"gridcolor\": \"white\", \"gridwidth\": 2, \"linecolor\": \"white\", \"showbackground\": true, \"ticks\": \"\", \"zerolinecolor\": \"white\"}, \"yaxis\": {\"backgroundcolor\": \"#E5ECF6\", \"gridcolor\": \"white\", \"gridwidth\": 2, \"linecolor\": \"white\", \"showbackground\": true, \"ticks\": \"\", \"zerolinecolor\": \"white\"}, \"zaxis\": {\"backgroundcolor\": \"#E5ECF6\", \"gridcolor\": \"white\", \"gridwidth\": 2, \"linecolor\": \"white\", \"showbackground\": true, \"ticks\": \"\", \"zerolinecolor\": \"white\"}}, \"shapedefaults\": {\"line\": {\"color\": \"#2a3f5f\"}}, \"ternary\": {\"aaxis\": {\"gridcolor\": \"white\", \"linecolor\": \"white\", \"ticks\": \"\"}, \"baxis\": {\"gridcolor\": \"white\", \"linecolor\": \"white\", \"ticks\": \"\"}, \"bgcolor\": \"#E5ECF6\", \"caxis\": {\"gridcolor\": \"white\", \"linecolor\": \"white\", \"ticks\": \"\"}}, \"title\": {\"x\": 0.05}, \"xaxis\": {\"automargin\": true, \"gridcolor\": \"white\", \"linecolor\": \"white\", \"ticks\": \"\", \"title\": {\"standoff\": 15}, \"zerolinecolor\": \"white\", \"zerolinewidth\": 2}, \"yaxis\": {\"automargin\": true, \"gridcolor\": \"white\", \"linecolor\": \"white\", \"ticks\": \"\", \"title\": {\"standoff\": 15}, \"zerolinecolor\": \"white\", \"zerolinewidth\": 2}}}, \"title\": {\"text\": \"1M^2\\ub2f9_\\uc138\\ub300\\uc218 * 100, \\ub4f1\\ub85d\\ucc28\\ub7c9\\uc218 \\ubd84\\ud3ec\"}, \"xaxis\": {\"anchor\": \"y\", \"domain\": [0.0, 1.0], \"title\": {\"text\": \"1M^2\\ub2f9_\\uc138\\ub300\\uc218*100\"}}, \"yaxis\": {\"anchor\": \"x\", \"domain\": [0.0, 1.0], \"title\": {\"text\": \"\\ub4f1\\ub85d\\ucc28\\ub7c9\\uc218\"}}},\n",
              "                        {\"responsive\": true}\n",
              "                    ).then(function(){\n",
              "                            \n",
              "var gd = document.getElementById('0c6d595f-aff1-46a8-98b4-668351e07dbb');\n",
              "var x = new MutationObserver(function (mutations, observer) {{\n",
              "        var display = window.getComputedStyle(gd).display;\n",
              "        if (!display || display === 'none') {{\n",
              "            console.log([gd, 'removed!']);\n",
              "            Plotly.purge(gd);\n",
              "            observer.disconnect();\n",
              "        }}\n",
              "}});\n",
              "\n",
              "// Listen for the removal of the full notebook cells\n",
              "var notebookContainer = gd.closest('#notebook-container');\n",
              "if (notebookContainer) {{\n",
              "    x.observe(notebookContainer, {childList: true});\n",
              "}}\n",
              "\n",
              "// Listen for the clearing of the current output cell\n",
              "var outputEl = gd.closest('.output');\n",
              "if (outputEl) {{\n",
              "    x.observe(outputEl, {childList: true});\n",
              "}}\n",
              "\n",
              "                        })\n",
              "                };\n",
              "                \n",
              "            </script>\n",
              "        </div>\n",
              "</body>\n",
              "</html>"
            ]
          },
          "metadata": {}
        }
      ]
    },
    {
      "cell_type": "markdown",
      "metadata": {
        "id": "p1JMkl-EzjpX"
      },
      "source": [
        "위 그래프를 통해서 1제곱미터당 세대수보다 상가유무가 더욱 등록차량에 미치는 것을 알 수 있다. 따라서 전용면적과 세대수는 합치는 것으로 마무리."
      ]
    },
    {
      "cell_type": "code",
      "metadata": {
        "id": "ryiL6RZn2TK2"
      },
      "source": [
        "temp_area = temp_store.reset_index()[['단지코드', '전용면적', '전용면적별세대수', '1M^2당_세대수*100','상가유무']]"
      ],
      "execution_count": 400,
      "outputs": []
    },
    {
      "cell_type": "code",
      "metadata": {
        "id": "rjkjIeY66Uk5"
      },
      "source": [
        "temp_area.columns = ['단지코드', '전용면적합계', '전용면적별세대수합계', '1M^2당_세대수*100','상가유무']"
      ],
      "execution_count": 401,
      "outputs": []
    },
    {
      "cell_type": "markdown",
      "metadata": {
        "id": "ya0JDQ0xaVeq"
      },
      "source": [
        "### 단지개수 파생변수 추가(아파트유형 파생변수 추가 x)\n",
        "결과\n",
        "  - 아파트유형은 다양한 변수로 결정된다. 단지개수변수만 추가생성  \n",
        "\n",
        "문제\n",
        "  - 전용면적을 기준으로 분류한 아파트유형에 따라서 차량등록수 구간이 정해지는지 확인\n",
        "\n",
        "활용기준\n",
        "  - 아파트구분: 초소형, 소형, 중대형\n",
        "  - 기준-참고자료1: 전용면적 50m, 60m, 60m up\n",
        "  - 변수참고자료 상가유무, 1M^2당 세대수 등"
      ]
    },
    {
      "cell_type": "markdown",
      "metadata": {
        "id": "I3FREO_hhN55"
      },
      "source": [
        "-----------------------\n",
        "아파트유형 컬럼 생성"
      ]
    },
    {
      "cell_type": "code",
      "metadata": {
        "id": "HfnPOeDcQlXq"
      },
      "source": [
        "raw_train_store = pd.merge(raw_train[raw_train['임대건물구분'] == '아파트'],temp_area)"
      ],
      "execution_count": 465,
      "outputs": []
    },
    {
      "cell_type": "markdown",
      "metadata": {
        "id": "hN9C9p_mRPx_"
      },
      "source": [
        "-----------------------\n",
        "동일 단지코드내에 2개이상의 아파트유형이 있는지 확인"
      ]
    },
    {
      "cell_type": "code",
      "metadata": {
        "id": "O_dFUax2cffx"
      },
      "source": [
        "def apart_type_by_area(x):\n",
        "  if x > 60: \n",
        "    return '중대형'\n",
        "  elif 40 < x <= 60:\n",
        "    return '소형'\n",
        "  else:\n",
        "    return '초소형'"
      ],
      "execution_count": 504,
      "outputs": []
    },
    {
      "cell_type": "code",
      "metadata": {
        "id": "DYadWhXARE08"
      },
      "source": [
        "raw_train_store['아파트유형'] = raw_train_store['전용면적'].apply(lambda x: apart_type_by_area(x))"
      ],
      "execution_count": 505,
      "outputs": []
    },
    {
      "cell_type": "code",
      "metadata": {
        "colab": {
          "base_uri": "https://localhost:8080/"
        },
        "id": "HTMFqFhwhdoH",
        "outputId": "6af1854d-8450-47b4-93b6-f8f58944b247"
      },
      "source": [
        "raw_train_store[['단지코드', '아파트유형']].drop_duplicates(['단지코드', '아파트유형'], keep='first').groupby(['단지코드'])['아파트유형'].count()"
      ],
      "execution_count": 506,
      "outputs": [
        {
          "output_type": "execute_result",
          "data": {
            "text/plain": [
              "단지코드\n",
              "C1000    2\n",
              "C1004    1\n",
              "C1005    1\n",
              "C1013    2\n",
              "C1014    2\n",
              "        ..\n",
              "C2663    2\n",
              "C2666    2\n",
              "C2670    2\n",
              "C2680    2\n",
              "C2692    2\n",
              "Name: 아파트유형, Length: 423, dtype: int64"
            ]
          },
          "metadata": {},
          "execution_count": 506
        }
      ]
    },
    {
      "cell_type": "markdown",
      "metadata": {
        "id": "UlKB10n6hTgg"
      },
      "source": [
        "위의 결과를 확인하면 동일 아파트에 아파트유형이 다른 곳이 존재한다는 것을 알 수 있음\n",
        "\n",
        "최대 아파트유형 개수 기준 : 동일한 단지코드내에 아파트유형이 2개이상인 경우 아파트유형이 많은 것으로 대표값 설정 \n",
        "\n",
        "평균 전용면적 기준 : 평균전용면적을 기준으로 아파트유형 설정\n",
        "\n",
        "최대 전용면적 기준 : 동일한 단지코드내에 최대 전용면적 기준"
      ]
    },
    {
      "cell_type": "markdown",
      "metadata": {
        "id": "fWT9Y6qks84W"
      },
      "source": [
        "-------------------------------\n",
        "아파트유형 기준 : 평균전용면적"
      ]
    },
    {
      "cell_type": "code",
      "metadata": {
        "colab": {
          "base_uri": "https://localhost:8080/"
        },
        "id": "__OHS0KU8uW1",
        "outputId": "61aa2a0d-932f-47aa-c9a5-bb021cecbb05"
      },
      "source": [
        "raw_train_store.columns"
      ],
      "execution_count": 423,
      "outputs": [
        {
          "output_type": "execute_result",
          "data": {
            "text/plain": [
              "Index(['단지코드', '총세대수', '임대건물구분', '지역', '공급유형', '전용면적', '전용면적별세대수', '공가수',\n",
              "       '자격유형', '임대보증금', '임대료', '도보 10분거리 내 지하철역 수(환승노선 수 반영)',\n",
              "       '도보 10분거리 내 버스정류장 수', '단지내주차면수', '등록차량수', '전용면적합계', '전용면적별세대수합계',\n",
              "       '1M^2당_세대수*100', '상가유무', '아파트유형'],\n",
              "      dtype='object')"
            ]
          },
          "metadata": {},
          "execution_count": 423
        }
      ]
    },
    {
      "cell_type": "code",
      "metadata": {
        "colab": {
          "base_uri": "https://localhost:8080/"
        },
        "id": "OzoqY89Drby3",
        "outputId": "9943376d-75ee-4122-fd5e-876110775fbb"
      },
      "source": [
        "mean_apart_type = raw_train_store.groupby('단지코드')['전용면적','1M^2당_세대수*100','등록차량수'].mean().reset_index()\n",
        "mean_apart_type['아파트유형'] = mean_apart_type['전용면적'].apply(lambda x: apart_type(x))\n",
        "del mean_apart_type['전용면적']\n",
        "mean_apart_type['아파트유형'].value_counts()"
      ],
      "execution_count": 510,
      "outputs": [
        {
          "output_type": "execute_result",
          "data": {
            "text/plain": [
              "초소형    333\n",
              "소형      67\n",
              "중대형     23\n",
              "Name: 아파트유형, dtype: int64"
            ]
          },
          "metadata": {},
          "execution_count": 510
        }
      ]
    },
    {
      "cell_type": "code",
      "metadata": {
        "colab": {
          "base_uri": "https://localhost:8080/",
          "height": 542
        },
        "id": "iELeak1n9CK_",
        "outputId": "800bf6c3-58da-4fe6-aaa1-07354d401e99"
      },
      "source": [
        "fig = go.Figure()\n",
        "fig = px.histogram(mean_apart_type, x = '등록차량수', color='아파트유형',\n",
        "                            color_discrete_sequence=px.colors.qualitative.Alphabet)\n",
        "fig.update_layout(title='아파트유형 따른 등록차량수') #autosize =, width = 1000, height = 500)"
      ],
      "execution_count": 511,
      "outputs": [
        {
          "output_type": "display_data",
          "data": {
            "text/html": [
              "<html>\n",
              "<head><meta charset=\"utf-8\" /></head>\n",
              "<body>\n",
              "    <div>\n",
              "            <script src=\"https://cdnjs.cloudflare.com/ajax/libs/mathjax/2.7.5/MathJax.js?config=TeX-AMS-MML_SVG\"></script><script type=\"text/javascript\">if (window.MathJax) {MathJax.Hub.Config({SVG: {font: \"STIX-Web\"}});}</script>\n",
              "                <script type=\"text/javascript\">window.PlotlyConfig = {MathJaxConfig: 'local'};</script>\n",
              "        <script src=\"https://cdn.plot.ly/plotly-latest.min.js\"></script>    \n",
              "            <div id=\"8cc77d75-6dad-498b-9b7a-227c7f7b5c5d\" class=\"plotly-graph-div\" style=\"height:525px; width:100%;\"></div>\n",
              "            <script type=\"text/javascript\">\n",
              "                \n",
              "                    window.PLOTLYENV=window.PLOTLYENV || {};\n",
              "                    \n",
              "                if (document.getElementById(\"8cc77d75-6dad-498b-9b7a-227c7f7b5c5d\")) {\n",
              "                    Plotly.newPlot(\n",
              "                        '8cc77d75-6dad-498b-9b7a-227c7f7b5c5d',\n",
              "                        [{\"alignmentgroup\": \"True\", \"bingroup\": \"x\", \"hoverlabel\": {\"namelength\": 0}, \"hovertemplate\": \"\\uc544\\ud30c\\ud2b8\\uc720\\ud615=\\ucd08\\uc18c\\ud615<br>\\ub4f1\\ub85d\\ucc28\\ub7c9\\uc218=%{x}<br>count=%{y}\", \"legendgroup\": \"\\uc544\\ud30c\\ud2b8\\uc720\\ud615=\\ucd08\\uc18c\\ud615\", \"marker\": {\"color\": \"#AA0DFE\"}, \"name\": \"\\uc544\\ud30c\\ud2b8\\uc720\\ud615=\\ucd08\\uc18c\\ud615\", \"offsetgroup\": \"\\uc544\\ud30c\\ud2b8\\uc720\\ud615=\\ucd08\\uc18c\\ud615\", \"orientation\": \"v\", \"showlegend\": true, \"type\": \"histogram\", \"x\": [481.0, 93.0, 1665.0, 708.0, 579.0, 1246.0, 450.0, 207.0, 1279.0, 645.0, 266.0, 156.0, 243.0, 762.0, 125.0, 521.0, 246.0, 1255.0, 510.0, 236.0, 226.0, 521.0, 309.0, 505.0, 417.0, 787.0, 313.0, 1077.0, 842.0, 763.0, 620.0, 632.0, 505.0, 326.0, 700.0, 609.0, 619.0, 1044.0, 488.0, 90.0, 59.0, 586.0, 148.0, 921.0, 823.0, 657.0, 1804.0, 616.0, 217.0, 934.0, 643.0, 484.0, 202.0, 504.0, 446.0, 1084.0, 359.0, 22.0, 398.0, 924.0, 1153.0, 770.0, 554.0, 551.0, 410.0, 442.0, 549.0, 375.0, 2550.0, 861.0, 294.0, 1145.0, 271.0, 1595.0, 1350.0, 1064.0, 815.0, 179.0, 262.0, 333.0, 172.0, 1044.0, 420.0, 557.0, 810.0, 553.0, 70.0, 296.0, 382.0, 438.0, 475.0, 235.0, 588.0, 284.0, 528.0, 479.0, 1158.0, 507.0, 718.0, 739.0, 308.0, 98.0, 1101.0, 268.0, 297.0, 509.0, 236.0, 257.0, 416.0, 512.0, 465.0, 288.0, 526.0, 322.0, 1101.0, 520.0, 164.0, 349.0, 960.0, 123.0, 65.0, 606.0, 131.0, 362.0, 566.0, 496.0, 649.0, 701.0, 267.0, 682.0, 508.0, 730.0, 614.0, 96.0, 570.0, 345.0, 120.0, 78.0, 652.0, 1001.0, 255.0, 398.0, 277.0, 254.0, 116.0, 613.0, 733.0, 135.0, 374.0, 408.0, 62.0, 209.0, 713.0, 616.0, 808.0, 419.0, 845.0, 415.0, 31.0, 596.0, 207.0, 396.0, 752.0, 75.0, 413.0, 1896.0, 709.0, 500.0, 639.0, 220.0, 886.0, 159.0, 457.0, 133.0, 253.0, 630.0, 166.0, 402.0, 496.0, 795.0, 417.0, 548.0, 690.0, 91.0, 220.0, 19.0, 902.0, 132.0, 246.0, 108.0, 757.0, 723.0, 13.0, 503.0, 735.0, 1398.0, 301.0, 822.0, 572.0, 318.0, 525.0, 995.0, 383.0, 353.0, 60.0, 403.0, 359.0, 328.0, 127.0, 752.0, 155.0, 495.0, 396.0, 280.0, 124.0, 204.0, 745.0, 683.0, 744.0, 125.0, 129.0, 324.0, 226.0, 840.0, 244.0, 86.0, 149.0, 359.0, 448.0, 505.0, 248.0, 55.0, 98.0, 870.0, 410.0, 344.0, 78.0, 540.0, 713.0, 284.0, 364.0, 444.0, 189.0, 343.0, 712.0, 293.0, 557.0, 821.0, 562.0, 382.0, 793.0, 345.0, 1010.0, 693.0, 1117.0, 196.0, 548.0, 451.0, 800.0, 579.0, 832.0, 552.0, 561.0, 922.0, 254.0, 19.0, 487.0, 63.0, 505.0, 359.0, 130.0, 16.0, 334.0, 1204.0, 451.0, 559.0, 910.0, 793.0, 887.0, 647.0, 302.0, 1015.0, 587.0, 1023.0, 585.0, 327.0, 163.0, 763.0, 568.0, 648.0, 205.0, 386.0, 610.0, 321.0, 375.0, 302.0, 358.0, 47.0, 799.0, 228.0, 165.0, 148.0, 441.0, 449.0, 1090.0, 189.0, 205.0, 62.0, 826.0, 751.0, 982.0, 57.0, 589.0, 480.0, 94.0, 572.0, 555.0, 1832.0, 783.0, 133.0, 404.0, 638.0, 177.0, 159.0, 282.0, 782.0, 365.0, 330.0, 652.0, 701.0, 435.0, 590.0, 437.0], \"xaxis\": \"x\", \"yaxis\": \"y\"}, {\"alignmentgroup\": \"True\", \"bingroup\": \"x\", \"hoverlabel\": {\"namelength\": 0}, \"hovertemplate\": \"\\uc544\\ud30c\\ud2b8\\uc720\\ud615=\\uc18c\\ud615<br>\\ub4f1\\ub85d\\ucc28\\ub7c9\\uc218=%{x}<br>count=%{y}\", \"legendgroup\": \"\\uc544\\ud30c\\ud2b8\\uc720\\ud615=\\uc18c\\ud615\", \"marker\": {\"color\": \"#3283FE\"}, \"name\": \"\\uc544\\ud30c\\ud2b8\\uc720\\ud615=\\uc18c\\ud615\", \"offsetgroup\": \"\\uc544\\ud30c\\ud2b8\\uc720\\ud615=\\uc18c\\ud615\", \"orientation\": \"v\", \"showlegend\": true, \"type\": \"histogram\", \"x\": [376.0, 422.0, 316.0, 1668.0, 1019.0, 373.0, 430.0, 311.0, 585.0, 311.0, 780.0, 2315.0, 945.0, 754.0, 839.0, 1284.0, 505.0, 1150.0, 669.0, 498.0, 413.0, 700.0, 873.0, 1087.0, 979.0, 979.0, 979.0, 460.0, 670.0, 412.0, 1983.0, 272.0, 625.0, 761.0, 831.0, 1730.0, 234.0, 730.0, 401.0, 1162.0, 258.0, 1306.0, 841.0, 594.0, 1524.0, 671.0, 347.0, 1159.0, 244.0, 266.0, 1374.0, 553.0, 646.0, 901.0, 422.0, 1200.0, 950.0, 340.0, 1433.0, 820.0, 305.0, 146.0, 481.0, 73.0, 281.0, 509.0, 442.0], \"xaxis\": \"x\", \"yaxis\": \"y\"}, {\"alignmentgroup\": \"True\", \"bingroup\": \"x\", \"hoverlabel\": {\"namelength\": 0}, \"hovertemplate\": \"\\uc544\\ud30c\\ud2b8\\uc720\\ud615=\\uc911\\ub300\\ud615<br>\\ub4f1\\ub85d\\ucc28\\ub7c9\\uc218=%{x}<br>count=%{y}\", \"legendgroup\": \"\\uc544\\ud30c\\ud2b8\\uc720\\ud615=\\uc911\\ub300\\ud615\", \"marker\": {\"color\": \"#85660D\"}, \"name\": \"\\uc544\\ud30c\\ud2b8\\uc720\\ud615=\\uc911\\ub300\\ud615\", \"offsetgroup\": \"\\uc544\\ud30c\\ud2b8\\uc720\\ud615=\\uc911\\ub300\\ud615\", \"orientation\": \"v\", \"showlegend\": true, \"type\": \"histogram\", \"x\": [957.0, 881.0, 509.0, 995.0, 498.0, 899.0, 713.0, 946.0, 855.0, 854.0, 1653.0, 609.0, 951.0, 600.0, 336.0, 780.0, 1595.0, 719.0, 1378.0, 1240.0, 1400.0, 1359.0, 1709.0], \"xaxis\": \"x\", \"yaxis\": \"y\"}],\n",
              "                        {\"barmode\": \"relative\", \"legend\": {\"tracegroupgap\": 0}, \"margin\": {\"t\": 60}, \"template\": {\"data\": {\"bar\": [{\"error_x\": {\"color\": \"#2a3f5f\"}, \"error_y\": {\"color\": \"#2a3f5f\"}, \"marker\": {\"line\": {\"color\": \"#E5ECF6\", \"width\": 0.5}}, \"type\": \"bar\"}], \"barpolar\": [{\"marker\": {\"line\": {\"color\": \"#E5ECF6\", \"width\": 0.5}}, \"type\": \"barpolar\"}], \"carpet\": [{\"aaxis\": {\"endlinecolor\": \"#2a3f5f\", \"gridcolor\": \"white\", \"linecolor\": \"white\", \"minorgridcolor\": \"white\", \"startlinecolor\": \"#2a3f5f\"}, \"baxis\": {\"endlinecolor\": \"#2a3f5f\", \"gridcolor\": \"white\", \"linecolor\": \"white\", \"minorgridcolor\": \"white\", \"startlinecolor\": \"#2a3f5f\"}, \"type\": \"carpet\"}], \"choropleth\": [{\"colorbar\": {\"outlinewidth\": 0, \"ticks\": \"\"}, \"type\": \"choropleth\"}], \"contour\": [{\"colorbar\": {\"outlinewidth\": 0, \"ticks\": \"\"}, \"colorscale\": [[0.0, \"#0d0887\"], [0.1111111111111111, \"#46039f\"], [0.2222222222222222, \"#7201a8\"], [0.3333333333333333, \"#9c179e\"], [0.4444444444444444, \"#bd3786\"], [0.5555555555555556, \"#d8576b\"], [0.6666666666666666, \"#ed7953\"], [0.7777777777777778, \"#fb9f3a\"], [0.8888888888888888, \"#fdca26\"], [1.0, \"#f0f921\"]], \"type\": \"contour\"}], \"contourcarpet\": [{\"colorbar\": {\"outlinewidth\": 0, \"ticks\": \"\"}, \"type\": \"contourcarpet\"}], \"heatmap\": [{\"colorbar\": {\"outlinewidth\": 0, \"ticks\": \"\"}, \"colorscale\": [[0.0, \"#0d0887\"], [0.1111111111111111, \"#46039f\"], [0.2222222222222222, \"#7201a8\"], [0.3333333333333333, \"#9c179e\"], [0.4444444444444444, \"#bd3786\"], [0.5555555555555556, \"#d8576b\"], [0.6666666666666666, \"#ed7953\"], [0.7777777777777778, \"#fb9f3a\"], [0.8888888888888888, \"#fdca26\"], [1.0, \"#f0f921\"]], \"type\": \"heatmap\"}], \"heatmapgl\": [{\"colorbar\": {\"outlinewidth\": 0, \"ticks\": \"\"}, \"colorscale\": [[0.0, \"#0d0887\"], [0.1111111111111111, \"#46039f\"], [0.2222222222222222, \"#7201a8\"], [0.3333333333333333, \"#9c179e\"], [0.4444444444444444, \"#bd3786\"], [0.5555555555555556, \"#d8576b\"], [0.6666666666666666, \"#ed7953\"], [0.7777777777777778, \"#fb9f3a\"], [0.8888888888888888, \"#fdca26\"], [1.0, \"#f0f921\"]], \"type\": \"heatmapgl\"}], \"histogram\": [{\"marker\": {\"colorbar\": {\"outlinewidth\": 0, \"ticks\": \"\"}}, \"type\": \"histogram\"}], \"histogram2d\": [{\"colorbar\": {\"outlinewidth\": 0, \"ticks\": \"\"}, \"colorscale\": [[0.0, \"#0d0887\"], [0.1111111111111111, \"#46039f\"], [0.2222222222222222, \"#7201a8\"], [0.3333333333333333, \"#9c179e\"], [0.4444444444444444, \"#bd3786\"], [0.5555555555555556, \"#d8576b\"], [0.6666666666666666, \"#ed7953\"], [0.7777777777777778, \"#fb9f3a\"], [0.8888888888888888, \"#fdca26\"], [1.0, \"#f0f921\"]], \"type\": \"histogram2d\"}], \"histogram2dcontour\": [{\"colorbar\": {\"outlinewidth\": 0, \"ticks\": \"\"}, \"colorscale\": [[0.0, \"#0d0887\"], [0.1111111111111111, \"#46039f\"], [0.2222222222222222, \"#7201a8\"], [0.3333333333333333, \"#9c179e\"], [0.4444444444444444, \"#bd3786\"], [0.5555555555555556, \"#d8576b\"], [0.6666666666666666, \"#ed7953\"], [0.7777777777777778, \"#fb9f3a\"], [0.8888888888888888, \"#fdca26\"], [1.0, \"#f0f921\"]], \"type\": \"histogram2dcontour\"}], \"mesh3d\": [{\"colorbar\": {\"outlinewidth\": 0, \"ticks\": \"\"}, \"type\": \"mesh3d\"}], \"parcoords\": [{\"line\": {\"colorbar\": {\"outlinewidth\": 0, \"ticks\": \"\"}}, \"type\": \"parcoords\"}], \"pie\": [{\"automargin\": true, \"type\": \"pie\"}], \"scatter\": [{\"marker\": {\"colorbar\": {\"outlinewidth\": 0, \"ticks\": \"\"}}, \"type\": \"scatter\"}], \"scatter3d\": [{\"line\": {\"colorbar\": {\"outlinewidth\": 0, \"ticks\": \"\"}}, \"marker\": {\"colorbar\": {\"outlinewidth\": 0, \"ticks\": \"\"}}, \"type\": \"scatter3d\"}], \"scattercarpet\": [{\"marker\": {\"colorbar\": {\"outlinewidth\": 0, \"ticks\": \"\"}}, \"type\": \"scattercarpet\"}], \"scattergeo\": [{\"marker\": {\"colorbar\": {\"outlinewidth\": 0, \"ticks\": \"\"}}, \"type\": \"scattergeo\"}], \"scattergl\": [{\"marker\": {\"colorbar\": {\"outlinewidth\": 0, \"ticks\": \"\"}}, \"type\": \"scattergl\"}], \"scattermapbox\": [{\"marker\": {\"colorbar\": {\"outlinewidth\": 0, \"ticks\": \"\"}}, \"type\": \"scattermapbox\"}], \"scatterpolar\": [{\"marker\": {\"colorbar\": {\"outlinewidth\": 0, \"ticks\": \"\"}}, \"type\": \"scatterpolar\"}], \"scatterpolargl\": [{\"marker\": {\"colorbar\": {\"outlinewidth\": 0, \"ticks\": \"\"}}, \"type\": \"scatterpolargl\"}], \"scatterternary\": [{\"marker\": {\"colorbar\": {\"outlinewidth\": 0, \"ticks\": \"\"}}, \"type\": \"scatterternary\"}], \"surface\": [{\"colorbar\": {\"outlinewidth\": 0, \"ticks\": \"\"}, \"colorscale\": [[0.0, \"#0d0887\"], [0.1111111111111111, \"#46039f\"], [0.2222222222222222, \"#7201a8\"], [0.3333333333333333, \"#9c179e\"], [0.4444444444444444, \"#bd3786\"], [0.5555555555555556, \"#d8576b\"], [0.6666666666666666, \"#ed7953\"], [0.7777777777777778, \"#fb9f3a\"], [0.8888888888888888, \"#fdca26\"], [1.0, \"#f0f921\"]], \"type\": \"surface\"}], \"table\": [{\"cells\": {\"fill\": {\"color\": \"#EBF0F8\"}, \"line\": {\"color\": \"white\"}}, \"header\": {\"fill\": {\"color\": \"#C8D4E3\"}, \"line\": {\"color\": \"white\"}}, \"type\": \"table\"}]}, \"layout\": {\"annotationdefaults\": {\"arrowcolor\": \"#2a3f5f\", \"arrowhead\": 0, \"arrowwidth\": 1}, \"coloraxis\": {\"colorbar\": {\"outlinewidth\": 0, \"ticks\": \"\"}}, \"colorscale\": {\"diverging\": [[0, \"#8e0152\"], [0.1, \"#c51b7d\"], [0.2, \"#de77ae\"], [0.3, \"#f1b6da\"], [0.4, \"#fde0ef\"], [0.5, \"#f7f7f7\"], [0.6, \"#e6f5d0\"], [0.7, \"#b8e186\"], [0.8, \"#7fbc41\"], [0.9, \"#4d9221\"], [1, \"#276419\"]], \"sequential\": [[0.0, \"#0d0887\"], [0.1111111111111111, \"#46039f\"], [0.2222222222222222, \"#7201a8\"], [0.3333333333333333, \"#9c179e\"], [0.4444444444444444, \"#bd3786\"], [0.5555555555555556, \"#d8576b\"], [0.6666666666666666, \"#ed7953\"], [0.7777777777777778, \"#fb9f3a\"], [0.8888888888888888, \"#fdca26\"], [1.0, \"#f0f921\"]], \"sequentialminus\": [[0.0, \"#0d0887\"], [0.1111111111111111, \"#46039f\"], [0.2222222222222222, \"#7201a8\"], [0.3333333333333333, \"#9c179e\"], [0.4444444444444444, \"#bd3786\"], [0.5555555555555556, \"#d8576b\"], [0.6666666666666666, \"#ed7953\"], [0.7777777777777778, \"#fb9f3a\"], [0.8888888888888888, \"#fdca26\"], [1.0, \"#f0f921\"]]}, \"colorway\": [\"#636efa\", \"#EF553B\", \"#00cc96\", \"#ab63fa\", \"#FFA15A\", \"#19d3f3\", \"#FF6692\", \"#B6E880\", \"#FF97FF\", \"#FECB52\"], \"font\": {\"color\": \"#2a3f5f\"}, \"geo\": {\"bgcolor\": \"white\", \"lakecolor\": \"white\", \"landcolor\": \"#E5ECF6\", \"showlakes\": true, \"showland\": true, \"subunitcolor\": \"white\"}, \"hoverlabel\": {\"align\": \"left\"}, \"hovermode\": \"closest\", \"mapbox\": {\"style\": \"light\"}, \"paper_bgcolor\": \"white\", \"plot_bgcolor\": \"#E5ECF6\", \"polar\": {\"angularaxis\": {\"gridcolor\": \"white\", \"linecolor\": \"white\", \"ticks\": \"\"}, \"bgcolor\": \"#E5ECF6\", \"radialaxis\": {\"gridcolor\": \"white\", \"linecolor\": \"white\", \"ticks\": \"\"}}, \"scene\": {\"xaxis\": {\"backgroundcolor\": \"#E5ECF6\", \"gridcolor\": \"white\", \"gridwidth\": 2, \"linecolor\": \"white\", \"showbackground\": true, \"ticks\": \"\", \"zerolinecolor\": \"white\"}, \"yaxis\": {\"backgroundcolor\": \"#E5ECF6\", \"gridcolor\": \"white\", \"gridwidth\": 2, \"linecolor\": \"white\", \"showbackground\": true, \"ticks\": \"\", \"zerolinecolor\": \"white\"}, \"zaxis\": {\"backgroundcolor\": \"#E5ECF6\", \"gridcolor\": \"white\", \"gridwidth\": 2, \"linecolor\": \"white\", \"showbackground\": true, \"ticks\": \"\", \"zerolinecolor\": \"white\"}}, \"shapedefaults\": {\"line\": {\"color\": \"#2a3f5f\"}}, \"ternary\": {\"aaxis\": {\"gridcolor\": \"white\", \"linecolor\": \"white\", \"ticks\": \"\"}, \"baxis\": {\"gridcolor\": \"white\", \"linecolor\": \"white\", \"ticks\": \"\"}, \"bgcolor\": \"#E5ECF6\", \"caxis\": {\"gridcolor\": \"white\", \"linecolor\": \"white\", \"ticks\": \"\"}}, \"title\": {\"x\": 0.05}, \"xaxis\": {\"automargin\": true, \"gridcolor\": \"white\", \"linecolor\": \"white\", \"ticks\": \"\", \"title\": {\"standoff\": 15}, \"zerolinecolor\": \"white\", \"zerolinewidth\": 2}, \"yaxis\": {\"automargin\": true, \"gridcolor\": \"white\", \"linecolor\": \"white\", \"ticks\": \"\", \"title\": {\"standoff\": 15}, \"zerolinecolor\": \"white\", \"zerolinewidth\": 2}}}, \"title\": {\"text\": \"\\uc544\\ud30c\\ud2b8\\uc720\\ud615 \\ub530\\ub978 \\ub4f1\\ub85d\\ucc28\\ub7c9\\uc218\"}, \"xaxis\": {\"anchor\": \"y\", \"domain\": [0.0, 1.0], \"title\": {\"text\": \"\\ub4f1\\ub85d\\ucc28\\ub7c9\\uc218\"}}, \"yaxis\": {\"anchor\": \"x\", \"domain\": [0.0, 1.0], \"title\": {\"text\": \"count\"}}},\n",
              "                        {\"responsive\": true}\n",
              "                    ).then(function(){\n",
              "                            \n",
              "var gd = document.getElementById('8cc77d75-6dad-498b-9b7a-227c7f7b5c5d');\n",
              "var x = new MutationObserver(function (mutations, observer) {{\n",
              "        var display = window.getComputedStyle(gd).display;\n",
              "        if (!display || display === 'none') {{\n",
              "            console.log([gd, 'removed!']);\n",
              "            Plotly.purge(gd);\n",
              "            observer.disconnect();\n",
              "        }}\n",
              "}});\n",
              "\n",
              "// Listen for the removal of the full notebook cells\n",
              "var notebookContainer = gd.closest('#notebook-container');\n",
              "if (notebookContainer) {{\n",
              "    x.observe(notebookContainer, {childList: true});\n",
              "}}\n",
              "\n",
              "// Listen for the clearing of the current output cell\n",
              "var outputEl = gd.closest('.output');\n",
              "if (outputEl) {{\n",
              "    x.observe(outputEl, {childList: true});\n",
              "}}\n",
              "\n",
              "                        })\n",
              "                };\n",
              "                \n",
              "            </script>\n",
              "        </div>\n",
              "</body>\n",
              "</html>"
            ]
          },
          "metadata": {}
        }
      ]
    },
    {
      "cell_type": "code",
      "metadata": {
        "colab": {
          "base_uri": "https://localhost:8080/",
          "height": 542
        },
        "id": "A9SiT0u-AAd_",
        "outputId": "a302d97f-a393-48a3-d367-3a93d76d89de"
      },
      "source": [
        "fig = go.Figure()\n",
        "fig = px.scatter(mean_apart_type, x = '1M^2당_세대수*100', y='등록차량수', color='아파트유형', text='단지코드',\n",
        "                            color_discrete_sequence=px.colors.qualitative.Alphabet)\n",
        "fig.update_layout(title='상가유무에 따른 총세대수, 단지내주차면수 분포') #autosize =, width = 1000, height = 500)"
      ],
      "execution_count": 512,
      "outputs": [
        {
          "output_type": "display_data",
          "data": {
            "text/html": [
              "<html>\n",
              "<head><meta charset=\"utf-8\" /></head>\n",
              "<body>\n",
              "    <div>\n",
              "            <script src=\"https://cdnjs.cloudflare.com/ajax/libs/mathjax/2.7.5/MathJax.js?config=TeX-AMS-MML_SVG\"></script><script type=\"text/javascript\">if (window.MathJax) {MathJax.Hub.Config({SVG: {font: \"STIX-Web\"}});}</script>\n",
              "                <script type=\"text/javascript\">window.PlotlyConfig = {MathJaxConfig: 'local'};</script>\n",
              "        <script src=\"https://cdn.plot.ly/plotly-latest.min.js\"></script>    \n",
              "            <div id=\"e550db74-cb89-41fa-bdd5-997745ebb8fb\" class=\"plotly-graph-div\" style=\"height:525px; width:100%;\"></div>\n",
              "            <script type=\"text/javascript\">\n",
              "                \n",
              "                    window.PLOTLYENV=window.PLOTLYENV || {};\n",
              "                    \n",
              "                if (document.getElementById(\"e550db74-cb89-41fa-bdd5-997745ebb8fb\")) {\n",
              "                    Plotly.newPlot(\n",
              "                        'e550db74-cb89-41fa-bdd5-997745ebb8fb',\n",
              "                        [{\"hoverlabel\": {\"namelength\": 0}, \"hovertemplate\": \"\\uc544\\ud30c\\ud2b8\\uc720\\ud615=\\ucd08\\uc18c\\ud615<br>1M^2\\ub2f9_\\uc138\\ub300\\uc218*100=%{x}<br>\\ub4f1\\ub85d\\ucc28\\ub7c9\\uc218=%{y}<br>\\ub2e8\\uc9c0\\ucf54\\ub4dc=%{text}\", \"legendgroup\": \"\\uc544\\ud30c\\ud2b8\\uc720\\ud615=\\ucd08\\uc18c\\ud615\", \"marker\": {\"color\": \"#AA0DFE\", \"symbol\": \"circle\"}, \"mode\": \"markers+text\", \"name\": \"\\uc544\\ud30c\\ud2b8\\uc720\\ud615=\\ucd08\\uc18c\\ud615\", \"showlegend\": true, \"text\": [\"C1000\", \"C1004\", \"C1013\", \"C1014\", \"C1015\", \"C1017\", \"C1022\", \"C1027\", \"C1036\", \"C1039\", \"C1045\", \"C1046\", \"C1048\", \"C1049\", \"C1056\", \"C1057\", \"C1059\", \"C1065\", \"C1068\", \"C1077\", \"C1084\", \"C1085\", \"C1089\", \"C1095\", \"C1102\", \"C1103\", \"C1109\", \"C1122\", \"C1133\", \"C1136\", \"C1141\", \"C1143\", \"C1156\", \"C1163\", \"C1171\", \"C1173\", \"C1176\", \"C1177\", \"C1184\", \"C1206\", \"C1207\", \"C1210\", \"C1213\", \"C1218\", \"C1227\", \"C1236\", \"C1244\", \"C1258\", \"C1263\", \"C1268\", \"C1269\", \"C1281\", \"C1301\", \"C1307\", \"C1309\", \"C1310\", \"C1312\", \"C1316\", \"C1319\", \"C1320\", \"C1326\", \"C1328\", \"C1329\", \"C1338\", \"C1340\", \"C1341\", \"C1343\", \"C1360\", \"C1363\", \"C1368\", \"C1379\", \"C1386\", \"C1394\", \"C1397\", \"C1406\", \"C1407\", \"C1410\", \"C1424\", \"C1426\", \"C1428\", \"C1439\", \"C1451\", \"C1455\", \"C1465\", \"C1468\", \"C1470\", \"C1476\", \"C1492\", \"C1497\", \"C1502\", \"C1516\", \"C1519\", \"C1565\", \"C1566\", \"C1569\", \"C1572\", \"C1579\", \"C1584\", \"C1585\", \"C1592\", \"C1601\", \"C1616\", \"C1620\", \"C1641\", \"C1642\", \"C1652\", \"C1655\", \"C1656\", \"C1659\", \"C1660\", \"C1666\", \"C1668\", \"C1673\", \"C1674\", \"C1677\", \"C1681\", \"C1685\", \"C1687\", \"C1689\", \"C1695\", \"C1698\", \"C1699\", \"C1704\", \"C1706\", \"C1713\", \"C1718\", \"C1722\", \"C1724\", \"C1732\", \"C1738\", \"C1757\", \"C1761\", \"C1773\", \"C1775\", \"C1783\", \"C1786\", \"C1790\", \"C1803\", \"C1823\", \"C1833\", \"C1834\", \"C1837\", \"C1845\", \"C1850\", \"C1859\", \"C1861\", \"C1863\", \"C1866\", \"C1867\", \"C1871\", \"C1874\", \"C1875\", \"C1879\", \"C1885\", \"C1889\", \"C1894\", \"C1896\", \"C1898\", \"C1899\", \"C1900\", \"C1907\", \"C1910\", \"C1916\", \"C1925\", \"C1929\", \"C1939\", \"C1940\", \"C1965\", \"C1967\", \"C1968\", \"C1969\", \"C1970\", \"C1973\", \"C1979\", \"C1983\", \"C1985\", \"C1987\", \"C1988\", \"C1994\", \"C2000\", \"C2001\", \"C2008\", \"C2010\", \"C2013\", \"C2016\", \"C2020\", \"C2021\", \"C2034\", \"C2035\", \"C2038\", \"C2042\", \"C2055\", \"C2059\", \"C2066\", \"C2070\", \"C2071\", \"C2073\", \"C2082\", \"C2089\", \"C2094\", \"C2096\", \"C2097\", \"C2099\", \"C2106\", \"C2109\", \"C2127\", \"C2132\", \"C2133\", \"C2135\", \"C2137\", \"C2139\", \"C2141\", \"C2142\", \"C2153\", \"C2154\", \"C2156\", \"C2173\", \"C2181\", \"C2186\", \"C2188\", \"C2190\", \"C2192\", \"C2202\", \"C2208\", \"C2211\", \"C2212\", \"C2216\", \"C2221\", \"C2225\", \"C2227\", \"C2232\", \"C2237\", \"C2245\", \"C2251\", \"C2255\", \"C2256\", \"C2258\", \"C2262\", \"C2274\", \"C2287\", \"C2289\", \"C2298\", \"C2310\", \"C2314\", \"C2316\", \"C2325\", \"C2326\", \"C2329\", \"C2336\", \"C2340\", \"C2352\", \"C2357\", \"C2358\", \"C2359\", \"C2361\", \"C2362\", \"C2368\", \"C2371\", \"C2373\", \"C2377\", \"C2383\", \"C2385\", \"C2389\", \"C2393\", \"C2394\", \"C2401\", \"C2412\", \"C2416\", \"C2420\", \"C2431\", \"C2433\", \"C2437\", \"C2445\", \"C2446\", \"C2450\", \"C2453\", \"C2458\", \"C2460\", \"C2470\", \"C2479\", \"C2481\", \"C2483\", \"C2486\", \"C2488\", \"C2492\", \"C2503\", \"C2505\", \"C2507\", \"C2508\", \"C2514\", \"C2515\", \"C2520\", \"C2522\", \"C2526\", \"C2527\", \"C2530\", \"C2531\", \"C2536\", \"C2538\", \"C2539\", \"C2549\", \"C2556\", \"C2561\", \"C2563\", \"C2565\", \"C2568\", \"C2570\", \"C2571\", \"C2574\", \"C2579\", \"C2583\", \"C2586\", \"C2587\", \"C2596\", \"C2597\", \"C2605\", \"C2609\", \"C2612\", \"C2618\", \"C2621\", \"C2627\", \"C2631\", \"C2644\", \"C2650\", \"C2651\", \"C2657\", \"C2659\", \"C2661\", \"C2663\", \"C2666\", \"C2670\", \"C2680\", \"C2692\"], \"type\": \"scatter\", \"x\": [178.81401446940257, 638.0554500569692, 566.9455160157775, 289.0056002089197, 260.8719257288669, 1321.1474074744367, 207.35607675906184, 211.61048689138573, 226.14367132973695, 171.14384748700175, 340.1510153214574, 185.34792681952547, 329.1003398318727, 296.8949009618341, 703.9774727208729, 273.3760100745094, 198.58594444229809, 870.4528582034151, 308.4882161333589, 635.5181576616476, 95.61535309383964, 316.8376584188292, 136.18533047146772, 362.6389490399884, 192.6341427411617, 567.1478830522868, 3357.600970705495, 263.61293269387625, 339.211412720428, 608.2710020399334, 223.82491917433472, 582.9407806191117, 469.71337129947767, 278.73335097468464, 116.30941286113699, 138.44102315432175, 498.5238862050456, 246.5850629767606, 143.69078245592019, 828.566475992373, 119.70313622216902, 849.7344579818806, 125.3716949288757, 1310.8142172926644, 213.42512908777965, 203.50889898788728, 289.33882214567757, 447.0938897168406, 149.83786201498376, 367.60788492274907, 302.8176616646875, 322.24272958547414, 387.19963557681353, 133.65029054410982, 115.80093124508677, 261.3341397646229, 307.4635741897116, 125.16083752485672, 197.38936644380775, 1097.4504982528795, 1201.3914772021367, 214.56071289527196, 275.4487725760783, 135.47361313789128, 306.9224353628023, 297.4673334408776, 147.8743068391867, 162.14633432158413, 546.6854004342824, 470.14377164445375, 182.68959684240204, 268.5587169459295, 281.2311406155703, 131.71947312210753, 273.4472281715397, 267.9653584257035, 267.30740351404114, 446.06476517263565, 199.19045590115041, 114.27700746609786, 1744.7199265381084, 1046.1657830078882, 380.3151685887842, 343.76746785913923, 373.2881418036917, 404.8159134531495, 774.8309932397297, 127.43848642289971, 1017.2501268391679, 433.90191897654586, 226.07833415964305, 515.2109911678116, 995.1219512195122, 181.51815181518148, 229.93950878215878, 392.7733065057009, 241.76088525378879, 760.8831233628539, 425.6218304757305, 301.2674007895284, 113.22308378508201, 1518.2124273033362, 578.6210783392823, 151.02999252855162, 86.03383997705767, 229.6003921265124, 268.95657809462085, 152.23187408617875, 229.19578198450006, 193.79740343868932, 172.35922779170826, 170.0997136252286, 336.2404118945046, 127.6749508170394, 241.2484183888655, 144.17235886498017, 100.92370851864521, 152.89975472743097, 254.92970604345447, 149.3540437607348, 290.8534251817834, 226.8818826368984, 789.9734143562478, 202.56788409820422, 268.33558309813066, 761.9143984620055, 412.34466468111333, 466.5329470321668, 171.4842481325106, 414.66102186394477, 478.8613473252518, 213.7176938369781, 210.3312717530111, 1224.920802534319, 247.4381404648838, 356.82426404995533, 704.4152342433435, 34.210256234819205, 213.34876543209882, 467.61973327848057, 242.00133620369684, 176.4261428031734, 168.7717169488721, 277.01827601093686, 1464.1171784028925, 435.71608992169735, 334.9384371571377, 199.9645033426019, 277.24391739930485, 221.28344397505535, 704.2588627171068, 1170.5924339757314, 290.7262021589794, 256.1728395061728, 514.869512441837, 145.8128078817734, 254.38565150594874, 221.5697788216872, 774.8309932397297, 164.07212453802217, 79.33537908839158, 221.40221402214019, 440.4620533304545, 1033.1079909863063, 168.56819817041833, 767.3340566130781, 217.2453989897206, 215.8086323452938, 327.5084554678693, 319.75116640746506, 670.3307488467955, 148.77631481068215, 275.36751523843674, 101.123595505618, 543.683409436834, 484.96282321606924, 100.61544844754859, 286.6626433313217, 218.18365900577095, 414.8583099310698, 320.6270039187745, 173.20145480351283, 393.9782190903267, 502.1981738248225, 156.38106650689033, 50.093926111458984, 145.90405650996126, 1736.854627646919, 272.1991701244813, 783.5935108662383, 313.55969524816135, 278.9606640202092, 37.42622714840939, 178.65571603889364, 366.7851162030797, 353.99712781235036, 128.97002607981133, 372.54676037945995, 356.38869336494645, 141.2964813729882, 179.287223963268, 325.35697985264386, 138.24692900270662, 244.26888964280525, 844.7729672650474, 258.1216121538405, 2067.0826833073324, 128.112594731144, 1307.3994765643588, 851.8189884649513, 283.78002411202823, 292.326431181486, 689.4541214197216, 258.36842480907853, 123.76581838409125, 238.18820773135494, 208.54075289938922, 321.889996308601, 468.87796887796895, 345.00253678335866, 901.9288236892148, 247.6750349347082, 479.1939081609107, 241.90894130554037, 252.2402920677066, 770.6999213571511, 497.51243781094524, 148.884627031392, 510.16070062069554, 149.9858503914725, 190.501744030051, 58.12505189736776, 111.55378486055773, 183.51664284678643, 289.9150962932284, 188.22771411477748, 967.2482399755128, 198.30886605888668, 425.46736945887517, 126.23456790123456, 1306.1189114231236, 401.80743830378873, 2341.184867951463, 272.50431465164866, 788.6258579633002, 161.37295081967213, 315.1962495636128, 626.1801790826584, 143.6547268050938, 1285.7860371672525, 284.6299810246679, 206.99029126213597, 506.6344993968637, 526.1131784935197, 226.9739385971696, 393.24664429530196, 251.13415424497728, 133.81136549699343, 331.79795456319783, 407.9146517036434, 177.00348432055756, 225.134068602651, 270.73687514713953, 320.7069659378502, 76.22244847417517, 145.3924914675768, 260.9331444500297, 971.4889123548046, 135.68480745821083, 564.9311789347696, 412.73968150796225, 362.46476037051957, 295.31192321890006, 586.4008316229974, 173.09346330275227, 310.0117785630154, 248.65904850746261, 390.5979951607328, 276.83076503477423, 215.528186896902, 540.3087478559178, 225.5582566852961, 142.11262848043233, 344.0464391901459, 250.56947608200457, 148.33799316557932, 98.4009840098401, 220.99615460611312, 376.76749597279405, 169.10250784757147, 175.56858449842142, 2418.745275888133, 230.5555555555556, 149.95353552420377, 163.45866587000128, 104.63531015678255, 292.04975662520286, 63.47527109230362, 178.90326106758982, 191.332077112625, 138.8503193557345, 251.004016064257, 236.67410598432554, 299.3361496680749, 178.23922325968712, 284.6629174477539, 212.9774243930144, 1774.7440273037541, 242.70188605682546, 431.7662422461639, 298.36251315115067, 67.62849413886384, 190.38297603637167, 143.7177017399015, 1161.0754223173924, 457.1428571428571, 540.3304178814383, 1182.2521763549564, 989.7828863346106, 469.7986577181208, 309.5644748078566, 260.69089508154616, 605.0905683947533, 689.7910918407568, 262.57439607888904, 263.935875163817, 151.46506386175807, 319.1201658703687, 313.78287200747883, 417.64592564053163, 316.731023021653, 582.8527489427142, 229.05669038329125], \"xaxis\": \"x\", \"y\": [481.0, 93.0, 1665.0, 708.0, 579.0, 1246.0, 450.0, 207.0, 1279.0, 645.0, 266.0, 156.0, 243.0, 762.0, 125.0, 521.0, 246.0, 1255.0, 510.0, 236.0, 226.0, 521.0, 309.0, 505.0, 417.0, 787.0, 313.0, 1077.0, 842.0, 763.0, 620.0, 632.0, 505.0, 326.0, 700.0, 609.0, 619.0, 1044.0, 488.0, 90.0, 59.0, 586.0, 148.0, 921.0, 823.0, 657.0, 1804.0, 616.0, 217.0, 934.0, 643.0, 484.0, 202.0, 504.0, 446.0, 1084.0, 359.0, 22.0, 398.0, 924.0, 1153.0, 770.0, 554.0, 551.0, 410.0, 442.0, 549.0, 375.0, 2550.0, 861.0, 294.0, 1145.0, 271.0, 1595.0, 1350.0, 1064.0, 815.0, 179.0, 262.0, 333.0, 172.0, 1044.0, 420.0, 557.0, 810.0, 553.0, 70.0, 296.0, 382.0, 438.0, 475.0, 235.0, 588.0, 284.0, 528.0, 479.0, 1158.0, 507.0, 718.0, 739.0, 308.0, 98.0, 1101.0, 268.0, 297.0, 509.0, 236.0, 257.0, 416.0, 512.0, 465.0, 288.0, 526.0, 322.0, 1101.0, 520.0, 164.0, 349.0, 960.0, 123.0, 65.0, 606.0, 131.0, 362.0, 566.0, 496.0, 649.0, 701.0, 267.0, 682.0, 508.0, 730.0, 614.0, 96.0, 570.0, 345.0, 120.0, 78.0, 652.0, 1001.0, 255.0, 398.0, 277.0, 254.0, 116.0, 613.0, 733.0, 135.0, 374.0, 408.0, 62.0, 209.0, 713.0, 616.0, 808.0, 419.0, 845.0, 415.0, 31.0, 596.0, 207.0, 396.0, 752.0, 75.0, 413.0, 1896.0, 709.0, 500.0, 639.0, 220.0, 886.0, 159.0, 457.0, 133.0, 253.0, 630.0, 166.0, 402.0, 496.0, 795.0, 417.0, 548.0, 690.0, 91.0, 220.0, 19.0, 902.0, 132.0, 246.0, 108.0, 757.0, 723.0, 13.0, 503.0, 735.0, 1398.0, 301.0, 822.0, 572.0, 318.0, 525.0, 995.0, 383.0, 353.0, 60.0, 403.0, 359.0, 328.0, 127.0, 752.0, 155.0, 495.0, 396.0, 280.0, 124.0, 204.0, 745.0, 683.0, 744.0, 125.0, 129.0, 324.0, 226.0, 840.0, 244.0, 86.0, 149.0, 359.0, 448.0, 505.0, 248.0, 55.0, 98.0, 870.0, 410.0, 344.0, 78.0, 540.0, 713.0, 284.0, 364.0, 444.0, 189.0, 343.0, 712.0, 293.0, 557.0, 821.0, 562.0, 382.0, 793.0, 345.0, 1010.0, 693.0, 1117.0, 196.0, 548.0, 451.0, 800.0, 579.0, 832.0, 552.0, 561.0, 922.0, 254.0, 19.0, 487.0, 63.0, 505.0, 359.0, 130.0, 16.0, 334.0, 1204.0, 451.0, 559.0, 910.0, 793.0, 887.0, 647.0, 302.0, 1015.0, 587.0, 1023.0, 585.0, 327.0, 163.0, 763.0, 568.0, 648.0, 205.0, 386.0, 610.0, 321.0, 375.0, 302.0, 358.0, 47.0, 799.0, 228.0, 165.0, 148.0, 441.0, 449.0, 1090.0, 189.0, 205.0, 62.0, 826.0, 751.0, 982.0, 57.0, 589.0, 480.0, 94.0, 572.0, 555.0, 1832.0, 783.0, 133.0, 404.0, 638.0, 177.0, 159.0, 282.0, 782.0, 365.0, 330.0, 652.0, 701.0, 435.0, 590.0, 437.0], \"yaxis\": \"y\"}, {\"hoverlabel\": {\"namelength\": 0}, \"hovertemplate\": \"\\uc544\\ud30c\\ud2b8\\uc720\\ud615=\\uc18c\\ud615<br>1M^2\\ub2f9_\\uc138\\ub300\\uc218*100=%{x}<br>\\ub4f1\\ub85d\\ucc28\\ub7c9\\uc218=%{y}<br>\\ub2e8\\uc9c0\\ucf54\\ub4dc=%{text}\", \"legendgroup\": \"\\uc544\\ud30c\\ud2b8\\uc720\\ud615=\\uc18c\\ud615\", \"marker\": {\"color\": \"#3283FE\", \"symbol\": \"circle\"}, \"mode\": \"markers+text\", \"name\": \"\\uc544\\ud30c\\ud2b8\\uc720\\ud615=\\uc18c\\ud615\", \"showlegend\": true, \"text\": [\"C1005\", \"C1026\", \"C1032\", \"C1129\", \"C1131\", \"C1155\", \"C1175\", \"C1180\", \"C1194\", \"C1234\", \"C1284\", \"C1350\", \"C1365\", \"C1375\", \"C1430\", \"C1448\", \"C1487\", \"C1527\", \"C1537\", \"C1613\", \"C1638\", \"C1663\", \"C1672\", \"C1693\", \"C1700\", \"C1740\", \"C1744\", \"C1762\", \"C1768\", \"C1788\", \"C1802\", \"C1819\", \"C1848\", \"C1880\", \"C1911\", \"C1933\", \"C1936\", \"C1945\", \"C1962\", \"C2032\", \"C2036\", \"C2046\", \"C2049\", \"C2068\", \"C2086\", \"C2100\", \"C2162\", \"C2276\", \"C2308\", \"C2319\", \"C2328\", \"C2346\", \"C2351\", \"C2378\", \"C2390\", \"C2414\", \"C2489\", \"C2490\", \"C2506\", \"C2513\", \"C2518\", \"C2532\", \"C2560\", \"C2576\", \"C2601\", \"C2603\", \"C2635\"], \"type\": \"scatter\", \"x\": [701.49619818494, 259.7402597402597, 305.2991673659072, 312.22296698306985, 404.54382183908046, 230.18844760910937, 294.87744943607834, 191.76743617930865, 191.45747470962905, 275.5092883424571, 441.3239719157472, 154.24928710625701, 165.37516537516538, 215.44854280510023, 686.858730229849, 241.96695720046839, 493.5391241923905, 377.35849056603774, 306.9789009969858, 515.0846210448859, 191.81486371049158, 297.6080103838309, 1210.6537530266344, 405.7267884322679, 536.6080782213945, 166.8930026445572, 307.5426519006285, 282.1546353975815, 455.80978017048005, 337.0383650053783, 219.62245708351153, 201.5390252839868, 182.64840182648402, 294.34941825429934, 279.31207632437867, 244.84906564446575, 115.62364503540974, 249.12558569260207, 186.94108659506583, 203.91411414006137, 127.62987336723504, 370.8448298515307, 421.87883247485905, 389.4821861258189, 174.39888901448478, 262.81208935611033, 228.41089532185165, 655.5772994129157, 174.33325177391734, 281.0032512772875, 263.43467945111655, 216.66537236934067, 199.76411617278492, 367.01363962670496, 172.72239126543764, 385.1444291609354, 712.9313613955252, 271.0221663824822, 100.12560240158919, 484.2957158455906, 305.17272239126544, 78.22472424966452, 333.8418738221305, 379.2845102079041, 90.7936033477806, 175.43859649122805, 116.48018072076525], \"xaxis\": \"x\", \"y\": [376.0, 422.0, 316.0, 1668.0, 1019.0, 373.0, 430.0, 311.0, 585.0, 311.0, 780.0, 2315.0, 945.0, 754.0, 839.0, 1284.0, 505.0, 1150.0, 669.0, 498.0, 413.0, 700.0, 873.0, 1087.0, 979.0, 979.0, 979.0, 460.0, 670.0, 412.0, 1983.0, 272.0, 625.0, 761.0, 831.0, 1730.0, 234.0, 730.0, 401.0, 1162.0, 258.0, 1306.0, 841.0, 594.0, 1524.0, 671.0, 347.0, 1159.0, 244.0, 266.0, 1374.0, 553.0, 646.0, 901.0, 422.0, 1200.0, 950.0, 340.0, 1433.0, 820.0, 305.0, 146.0, 481.0, 73.0, 281.0, 509.0, 442.0], \"yaxis\": \"y\"}, {\"hoverlabel\": {\"namelength\": 0}, \"hovertemplate\": \"\\uc544\\ud30c\\ud2b8\\uc720\\ud615=\\uc911\\ub300\\ud615<br>1M^2\\ub2f9_\\uc138\\ub300\\uc218*100=%{x}<br>\\ub4f1\\ub85d\\ucc28\\ub7c9\\uc218=%{y}<br>\\ub2e8\\uc9c0\\ucf54\\ub4dc=%{text}\", \"legendgroup\": \"\\uc544\\ud30c\\ud2b8\\uc720\\ud615=\\uc911\\ub300\\ud615\", \"marker\": {\"color\": \"#85660D\", \"symbol\": \"circle\"}, \"mode\": \"markers+text\", \"name\": \"\\uc544\\ud30c\\ud2b8\\uc720\\ud615=\\uc911\\ub300\\ud615\", \"showlegend\": true, \"text\": [\"C1024\", \"C1286\", \"C1344\", \"C1357\", \"C1402\", \"C1490\", \"C1544\", \"C1636\", \"C1649\", \"C1697\", \"C1743\", \"C1756\", \"C1804\", \"C1941\", \"C2040\", \"C2051\", \"C2085\", \"C2143\", \"C2259\", \"C2405\", \"C2496\", \"C2595\", \"C2620\"], \"type\": \"scatter\", \"x\": [60.82399296124861, 375.39316204403417, 67.91940230925967, 293.3574567071595, 94.34997257268239, 205.50309038998523, 180.4744600057164, 191.64872486884798, 174.3163766446371, 109.89699768088086, 156.27160835292491, 118.85848779052661, 7.875208238679389, 118.88297089721331, 124.0057618838855, 64.91406136721055, 168.35777329904786, 113.6150234741784, 197.85638175626266, 119.94256271644565, 248.21726596874524, 237.71660451853472, 248.64152807508648], \"xaxis\": \"x\", \"y\": [957.0, 881.0, 509.0, 995.0, 498.0, 899.0, 713.0, 946.0, 855.0, 854.0, 1653.0, 609.0, 951.0, 600.0, 336.0, 780.0, 1595.0, 719.0, 1378.0, 1240.0, 1400.0, 1359.0, 1709.0], \"yaxis\": \"y\"}],\n",
              "                        {\"legend\": {\"tracegroupgap\": 0}, \"margin\": {\"t\": 60}, \"template\": {\"data\": {\"bar\": [{\"error_x\": {\"color\": \"#2a3f5f\"}, \"error_y\": {\"color\": \"#2a3f5f\"}, \"marker\": {\"line\": {\"color\": \"#E5ECF6\", \"width\": 0.5}}, \"type\": \"bar\"}], \"barpolar\": [{\"marker\": {\"line\": {\"color\": \"#E5ECF6\", \"width\": 0.5}}, \"type\": \"barpolar\"}], \"carpet\": [{\"aaxis\": {\"endlinecolor\": \"#2a3f5f\", \"gridcolor\": \"white\", \"linecolor\": \"white\", \"minorgridcolor\": \"white\", \"startlinecolor\": \"#2a3f5f\"}, \"baxis\": {\"endlinecolor\": \"#2a3f5f\", \"gridcolor\": \"white\", \"linecolor\": \"white\", \"minorgridcolor\": \"white\", \"startlinecolor\": \"#2a3f5f\"}, \"type\": \"carpet\"}], \"choropleth\": [{\"colorbar\": {\"outlinewidth\": 0, \"ticks\": \"\"}, \"type\": \"choropleth\"}], \"contour\": [{\"colorbar\": {\"outlinewidth\": 0, \"ticks\": \"\"}, \"colorscale\": [[0.0, \"#0d0887\"], [0.1111111111111111, \"#46039f\"], [0.2222222222222222, \"#7201a8\"], [0.3333333333333333, \"#9c179e\"], [0.4444444444444444, \"#bd3786\"], [0.5555555555555556, \"#d8576b\"], [0.6666666666666666, \"#ed7953\"], [0.7777777777777778, \"#fb9f3a\"], [0.8888888888888888, \"#fdca26\"], [1.0, \"#f0f921\"]], \"type\": \"contour\"}], \"contourcarpet\": [{\"colorbar\": {\"outlinewidth\": 0, \"ticks\": \"\"}, \"type\": \"contourcarpet\"}], \"heatmap\": [{\"colorbar\": {\"outlinewidth\": 0, \"ticks\": \"\"}, \"colorscale\": [[0.0, \"#0d0887\"], [0.1111111111111111, \"#46039f\"], [0.2222222222222222, \"#7201a8\"], [0.3333333333333333, \"#9c179e\"], [0.4444444444444444, \"#bd3786\"], [0.5555555555555556, \"#d8576b\"], [0.6666666666666666, \"#ed7953\"], [0.7777777777777778, \"#fb9f3a\"], [0.8888888888888888, \"#fdca26\"], [1.0, \"#f0f921\"]], \"type\": \"heatmap\"}], \"heatmapgl\": [{\"colorbar\": {\"outlinewidth\": 0, \"ticks\": \"\"}, \"colorscale\": [[0.0, \"#0d0887\"], [0.1111111111111111, \"#46039f\"], [0.2222222222222222, \"#7201a8\"], [0.3333333333333333, \"#9c179e\"], [0.4444444444444444, \"#bd3786\"], [0.5555555555555556, \"#d8576b\"], [0.6666666666666666, \"#ed7953\"], [0.7777777777777778, \"#fb9f3a\"], [0.8888888888888888, \"#fdca26\"], [1.0, \"#f0f921\"]], \"type\": \"heatmapgl\"}], \"histogram\": [{\"marker\": {\"colorbar\": {\"outlinewidth\": 0, \"ticks\": \"\"}}, \"type\": \"histogram\"}], \"histogram2d\": [{\"colorbar\": {\"outlinewidth\": 0, \"ticks\": \"\"}, \"colorscale\": [[0.0, \"#0d0887\"], [0.1111111111111111, \"#46039f\"], [0.2222222222222222, \"#7201a8\"], [0.3333333333333333, \"#9c179e\"], [0.4444444444444444, \"#bd3786\"], [0.5555555555555556, \"#d8576b\"], [0.6666666666666666, \"#ed7953\"], [0.7777777777777778, \"#fb9f3a\"], [0.8888888888888888, \"#fdca26\"], [1.0, \"#f0f921\"]], \"type\": \"histogram2d\"}], \"histogram2dcontour\": [{\"colorbar\": {\"outlinewidth\": 0, \"ticks\": \"\"}, \"colorscale\": [[0.0, \"#0d0887\"], [0.1111111111111111, \"#46039f\"], [0.2222222222222222, \"#7201a8\"], [0.3333333333333333, \"#9c179e\"], [0.4444444444444444, \"#bd3786\"], [0.5555555555555556, \"#d8576b\"], [0.6666666666666666, \"#ed7953\"], [0.7777777777777778, \"#fb9f3a\"], [0.8888888888888888, \"#fdca26\"], [1.0, \"#f0f921\"]], \"type\": \"histogram2dcontour\"}], \"mesh3d\": [{\"colorbar\": {\"outlinewidth\": 0, \"ticks\": \"\"}, \"type\": \"mesh3d\"}], \"parcoords\": [{\"line\": {\"colorbar\": {\"outlinewidth\": 0, \"ticks\": \"\"}}, \"type\": \"parcoords\"}], \"pie\": [{\"automargin\": true, \"type\": \"pie\"}], \"scatter\": [{\"marker\": {\"colorbar\": {\"outlinewidth\": 0, \"ticks\": \"\"}}, \"type\": \"scatter\"}], \"scatter3d\": [{\"line\": {\"colorbar\": {\"outlinewidth\": 0, \"ticks\": \"\"}}, \"marker\": {\"colorbar\": {\"outlinewidth\": 0, \"ticks\": \"\"}}, \"type\": \"scatter3d\"}], \"scattercarpet\": [{\"marker\": {\"colorbar\": {\"outlinewidth\": 0, \"ticks\": \"\"}}, \"type\": \"scattercarpet\"}], \"scattergeo\": [{\"marker\": {\"colorbar\": {\"outlinewidth\": 0, \"ticks\": \"\"}}, \"type\": \"scattergeo\"}], \"scattergl\": [{\"marker\": {\"colorbar\": {\"outlinewidth\": 0, \"ticks\": \"\"}}, \"type\": \"scattergl\"}], \"scattermapbox\": [{\"marker\": {\"colorbar\": {\"outlinewidth\": 0, \"ticks\": \"\"}}, \"type\": \"scattermapbox\"}], \"scatterpolar\": [{\"marker\": {\"colorbar\": {\"outlinewidth\": 0, \"ticks\": \"\"}}, \"type\": \"scatterpolar\"}], \"scatterpolargl\": [{\"marker\": {\"colorbar\": {\"outlinewidth\": 0, \"ticks\": \"\"}}, \"type\": \"scatterpolargl\"}], \"scatterternary\": [{\"marker\": {\"colorbar\": {\"outlinewidth\": 0, \"ticks\": \"\"}}, \"type\": \"scatterternary\"}], \"surface\": [{\"colorbar\": {\"outlinewidth\": 0, \"ticks\": \"\"}, \"colorscale\": [[0.0, \"#0d0887\"], [0.1111111111111111, \"#46039f\"], [0.2222222222222222, \"#7201a8\"], [0.3333333333333333, \"#9c179e\"], [0.4444444444444444, \"#bd3786\"], [0.5555555555555556, \"#d8576b\"], [0.6666666666666666, \"#ed7953\"], [0.7777777777777778, \"#fb9f3a\"], [0.8888888888888888, \"#fdca26\"], [1.0, \"#f0f921\"]], \"type\": \"surface\"}], \"table\": [{\"cells\": {\"fill\": {\"color\": \"#EBF0F8\"}, \"line\": {\"color\": \"white\"}}, \"header\": {\"fill\": {\"color\": \"#C8D4E3\"}, \"line\": {\"color\": \"white\"}}, \"type\": \"table\"}]}, \"layout\": {\"annotationdefaults\": {\"arrowcolor\": \"#2a3f5f\", \"arrowhead\": 0, \"arrowwidth\": 1}, \"coloraxis\": {\"colorbar\": {\"outlinewidth\": 0, \"ticks\": \"\"}}, \"colorscale\": {\"diverging\": [[0, \"#8e0152\"], [0.1, \"#c51b7d\"], [0.2, \"#de77ae\"], [0.3, \"#f1b6da\"], [0.4, \"#fde0ef\"], [0.5, \"#f7f7f7\"], [0.6, \"#e6f5d0\"], [0.7, \"#b8e186\"], [0.8, \"#7fbc41\"], [0.9, \"#4d9221\"], [1, \"#276419\"]], \"sequential\": [[0.0, \"#0d0887\"], [0.1111111111111111, \"#46039f\"], [0.2222222222222222, \"#7201a8\"], [0.3333333333333333, \"#9c179e\"], [0.4444444444444444, \"#bd3786\"], [0.5555555555555556, \"#d8576b\"], [0.6666666666666666, \"#ed7953\"], [0.7777777777777778, \"#fb9f3a\"], [0.8888888888888888, \"#fdca26\"], [1.0, \"#f0f921\"]], \"sequentialminus\": [[0.0, \"#0d0887\"], [0.1111111111111111, \"#46039f\"], [0.2222222222222222, \"#7201a8\"], [0.3333333333333333, \"#9c179e\"], [0.4444444444444444, \"#bd3786\"], [0.5555555555555556, \"#d8576b\"], [0.6666666666666666, \"#ed7953\"], [0.7777777777777778, \"#fb9f3a\"], [0.8888888888888888, \"#fdca26\"], [1.0, \"#f0f921\"]]}, \"colorway\": [\"#636efa\", \"#EF553B\", \"#00cc96\", \"#ab63fa\", \"#FFA15A\", \"#19d3f3\", \"#FF6692\", \"#B6E880\", \"#FF97FF\", \"#FECB52\"], \"font\": {\"color\": \"#2a3f5f\"}, \"geo\": {\"bgcolor\": \"white\", \"lakecolor\": \"white\", \"landcolor\": \"#E5ECF6\", \"showlakes\": true, \"showland\": true, \"subunitcolor\": \"white\"}, \"hoverlabel\": {\"align\": \"left\"}, \"hovermode\": \"closest\", \"mapbox\": {\"style\": \"light\"}, \"paper_bgcolor\": \"white\", \"plot_bgcolor\": \"#E5ECF6\", \"polar\": {\"angularaxis\": {\"gridcolor\": \"white\", \"linecolor\": \"white\", \"ticks\": \"\"}, \"bgcolor\": \"#E5ECF6\", \"radialaxis\": {\"gridcolor\": \"white\", \"linecolor\": \"white\", \"ticks\": \"\"}}, \"scene\": {\"xaxis\": {\"backgroundcolor\": \"#E5ECF6\", \"gridcolor\": \"white\", \"gridwidth\": 2, \"linecolor\": \"white\", \"showbackground\": true, \"ticks\": \"\", \"zerolinecolor\": \"white\"}, \"yaxis\": {\"backgroundcolor\": \"#E5ECF6\", \"gridcolor\": \"white\", \"gridwidth\": 2, \"linecolor\": \"white\", \"showbackground\": true, \"ticks\": \"\", \"zerolinecolor\": \"white\"}, \"zaxis\": {\"backgroundcolor\": \"#E5ECF6\", \"gridcolor\": \"white\", \"gridwidth\": 2, \"linecolor\": \"white\", \"showbackground\": true, \"ticks\": \"\", \"zerolinecolor\": \"white\"}}, \"shapedefaults\": {\"line\": {\"color\": \"#2a3f5f\"}}, \"ternary\": {\"aaxis\": {\"gridcolor\": \"white\", \"linecolor\": \"white\", \"ticks\": \"\"}, \"baxis\": {\"gridcolor\": \"white\", \"linecolor\": \"white\", \"ticks\": \"\"}, \"bgcolor\": \"#E5ECF6\", \"caxis\": {\"gridcolor\": \"white\", \"linecolor\": \"white\", \"ticks\": \"\"}}, \"title\": {\"x\": 0.05}, \"xaxis\": {\"automargin\": true, \"gridcolor\": \"white\", \"linecolor\": \"white\", \"ticks\": \"\", \"title\": {\"standoff\": 15}, \"zerolinecolor\": \"white\", \"zerolinewidth\": 2}, \"yaxis\": {\"automargin\": true, \"gridcolor\": \"white\", \"linecolor\": \"white\", \"ticks\": \"\", \"title\": {\"standoff\": 15}, \"zerolinecolor\": \"white\", \"zerolinewidth\": 2}}}, \"title\": {\"text\": \"\\uc0c1\\uac00\\uc720\\ubb34\\uc5d0 \\ub530\\ub978 \\ucd1d\\uc138\\ub300\\uc218, \\ub2e8\\uc9c0\\ub0b4\\uc8fc\\ucc28\\uba74\\uc218 \\ubd84\\ud3ec\"}, \"xaxis\": {\"anchor\": \"y\", \"domain\": [0.0, 1.0], \"title\": {\"text\": \"1M^2\\ub2f9_\\uc138\\ub300\\uc218*100\"}}, \"yaxis\": {\"anchor\": \"x\", \"domain\": [0.0, 1.0], \"title\": {\"text\": \"\\ub4f1\\ub85d\\ucc28\\ub7c9\\uc218\"}}},\n",
              "                        {\"responsive\": true}\n",
              "                    ).then(function(){\n",
              "                            \n",
              "var gd = document.getElementById('e550db74-cb89-41fa-bdd5-997745ebb8fb');\n",
              "var x = new MutationObserver(function (mutations, observer) {{\n",
              "        var display = window.getComputedStyle(gd).display;\n",
              "        if (!display || display === 'none') {{\n",
              "            console.log([gd, 'removed!']);\n",
              "            Plotly.purge(gd);\n",
              "            observer.disconnect();\n",
              "        }}\n",
              "}});\n",
              "\n",
              "// Listen for the removal of the full notebook cells\n",
              "var notebookContainer = gd.closest('#notebook-container');\n",
              "if (notebookContainer) {{\n",
              "    x.observe(notebookContainer, {childList: true});\n",
              "}}\n",
              "\n",
              "// Listen for the clearing of the current output cell\n",
              "var outputEl = gd.closest('.output');\n",
              "if (outputEl) {{\n",
              "    x.observe(outputEl, {childList: true});\n",
              "}}\n",
              "\n",
              "                        })\n",
              "                };\n",
              "                \n",
              "            </script>\n",
              "        </div>\n",
              "</body>\n",
              "</html>"
            ]
          },
          "metadata": {}
        }
      ]
    },
    {
      "cell_type": "markdown",
      "metadata": {
        "id": "QX8xoF1FtByn"
      },
      "source": [
        "아파트유형 기준 : 다수 아파트유형"
      ]
    },
    {
      "cell_type": "code",
      "metadata": {
        "colab": {
          "base_uri": "https://localhost:8080/"
        },
        "id": "PW74x1XVaYY8",
        "outputId": "0f2003ca-0aa5-4a3d-f491-845896bd03d5"
      },
      "source": [
        "# mean_apart_type = raw_train_store.groupby('단지코드')['전용면적','1M^2당_세대수*100','등록차량수'].mean().reset_index()\n",
        "count_apart_type = raw_train_store.groupby(['단지코드','아파트유형'])['상가유무']\\\n",
        "    .count().reset_index().sort_values(['단지코드','상가유무'], ascending=[True, False])\\\n",
        "    .drop_duplicates('단지코드', keep='first')[['단지코드', '아파트유형']]\n",
        "count_apart_type = pd.merge(count_apart_type, temp_area)\n",
        "count_apart_type['등록차량수'] = mean_apart_type['등록차량수']\n",
        "count_apart_type['아파트유형'].value_counts()"
      ],
      "execution_count": 513,
      "outputs": [
        {
          "output_type": "execute_result",
          "data": {
            "text/plain": [
              "소형     248\n",
              "초소형    150\n",
              "중대형     25\n",
              "Name: 아파트유형, dtype: int64"
            ]
          },
          "metadata": {},
          "execution_count": 513
        }
      ]
    },
    {
      "cell_type": "code",
      "metadata": {
        "colab": {
          "base_uri": "https://localhost:8080/",
          "height": 542
        },
        "id": "gaFh_efs-ChW",
        "outputId": "47070a1f-4a5f-4054-dd62-acec955724d8"
      },
      "source": [
        "fig = go.Figure()\n",
        "fig = px.histogram(count_apart_type, x = '등록차량수', color='아파트유형',\n",
        "                            color_discrete_sequence=px.colors.qualitative.Alphabet)\n",
        "fig.update_layout(title='아파트유형에 따른 등록차량수') #autosize =, width = 1000, height = 500)"
      ],
      "execution_count": 514,
      "outputs": [
        {
          "output_type": "display_data",
          "data": {
            "text/html": [
              "<html>\n",
              "<head><meta charset=\"utf-8\" /></head>\n",
              "<body>\n",
              "    <div>\n",
              "            <script src=\"https://cdnjs.cloudflare.com/ajax/libs/mathjax/2.7.5/MathJax.js?config=TeX-AMS-MML_SVG\"></script><script type=\"text/javascript\">if (window.MathJax) {MathJax.Hub.Config({SVG: {font: \"STIX-Web\"}});}</script>\n",
              "                <script type=\"text/javascript\">window.PlotlyConfig = {MathJaxConfig: 'local'};</script>\n",
              "        <script src=\"https://cdn.plot.ly/plotly-latest.min.js\"></script>    \n",
              "            <div id=\"6daa27c0-5fca-4552-aa49-78aedd90ff92\" class=\"plotly-graph-div\" style=\"height:525px; width:100%;\"></div>\n",
              "            <script type=\"text/javascript\">\n",
              "                \n",
              "                    window.PLOTLYENV=window.PLOTLYENV || {};\n",
              "                    \n",
              "                if (document.getElementById(\"6daa27c0-5fca-4552-aa49-78aedd90ff92\")) {\n",
              "                    Plotly.newPlot(\n",
              "                        '6daa27c0-5fca-4552-aa49-78aedd90ff92',\n",
              "                        [{\"alignmentgroup\": \"True\", \"bingroup\": \"x\", \"hoverlabel\": {\"namelength\": 0}, \"hovertemplate\": \"\\uc544\\ud30c\\ud2b8\\uc720\\ud615=\\uc18c\\ud615<br>\\ub4f1\\ub85d\\ucc28\\ub7c9\\uc218=%{x}<br>count=%{y}\", \"legendgroup\": \"\\uc544\\ud30c\\ud2b8\\uc720\\ud615=\\uc18c\\ud615\", \"marker\": {\"color\": \"#AA0DFE\"}, \"name\": \"\\uc544\\ud30c\\ud2b8\\uc720\\ud615=\\uc18c\\ud615\", \"offsetgroup\": \"\\uc544\\ud30c\\ud2b8\\uc720\\ud615=\\uc18c\\ud615\", \"orientation\": \"v\", \"showlegend\": true, \"type\": \"histogram\", \"x\": [481.0, 376.0, 1665.0, 708.0, 579.0, 450.0, 422.0, 207.0, 316.0, 1279.0, 762.0, 521.0, 246.0, 510.0, 236.0, 226.0, 521.0, 309.0, 505.0, 417.0, 787.0, 1077.0, 1668.0, 1019.0, 842.0, 763.0, 620.0, 373.0, 700.0, 609.0, 430.0, 311.0, 488.0, 585.0, 148.0, 823.0, 311.0, 657.0, 1804.0, 934.0, 643.0, 780.0, 504.0, 446.0, 1084.0, 359.0, 22.0, 398.0, 924.0, 770.0, 554.0, 551.0, 549.0, 375.0, 945.0, 861.0, 754.0, 294.0, 271.0, 1595.0, 1350.0, 1064.0, 179.0, 333.0, 839.0, 1284.0, 557.0, 553.0, 505.0, 296.0, 438.0, 235.0, 1150.0, 669.0, 284.0, 1158.0, 718.0, 308.0, 498.0, 1101.0, 413.0, 268.0, 297.0, 236.0, 257.0, 512.0, 700.0, 465.0, 873.0, 322.0, 1101.0, 520.0, 349.0, 960.0, 1087.0, 606.0, 979.0, 362.0, 496.0, 682.0, 979.0, 979.0, 508.0, 730.0, 460.0, 670.0, 614.0, 570.0, 412.0, 1983.0, 272.0, 652.0, 255.0, 398.0, 277.0, 625.0, 254.0, 613.0, 733.0, 135.0, 408.0, 713.0, 761.0, 808.0, 845.0, 415.0, 596.0, 207.0, 831.0, 752.0, 413.0, 234.0, 709.0, 730.0, 401.0, 500.0, 639.0, 630.0, 166.0, 402.0, 496.0, 795.0, 548.0, 220.0, 902.0, 1162.0, 258.0, 757.0, 1306.0, 841.0, 723.0, 503.0, 594.0, 735.0, 1398.0, 301.0, 822.0, 1524.0, 572.0, 383.0, 671.0, 403.0, 328.0, 495.0, 347.0, 745.0, 683.0, 226.0, 840.0, 359.0, 505.0, 248.0, 870.0, 344.0, 540.0, 1159.0, 284.0, 244.0, 266.0, 293.0, 1374.0, 821.0, 562.0, 553.0, 646.0, 345.0, 1010.0, 1117.0, 451.0, 800.0, 579.0, 901.0, 832.0, 552.0, 561.0, 422.0, 254.0, 19.0, 487.0, 1200.0, 505.0, 359.0, 334.0, 451.0, 910.0, 793.0, 887.0, 647.0, 302.0, 1015.0, 587.0, 1023.0, 950.0, 340.0, 585.0, 327.0, 1433.0, 820.0, 648.0, 205.0, 305.0, 610.0, 321.0, 375.0, 302.0, 146.0, 799.0, 481.0, 441.0, 449.0, 1090.0, 826.0, 73.0, 751.0, 589.0, 480.0, 281.0, 509.0, 572.0, 638.0, 442.0, 159.0, 282.0, 782.0, 652.0, 701.0, 590.0, 437.0], \"xaxis\": \"x\", \"yaxis\": \"y\"}, {\"alignmentgroup\": \"True\", \"bingroup\": \"x\", \"hoverlabel\": {\"namelength\": 0}, \"hovertemplate\": \"\\uc544\\ud30c\\ud2b8\\uc720\\ud615=\\ucd08\\uc18c\\ud615<br>\\ub4f1\\ub85d\\ucc28\\ub7c9\\uc218=%{x}<br>count=%{y}\", \"legendgroup\": \"\\uc544\\ud30c\\ud2b8\\uc720\\ud615=\\ucd08\\uc18c\\ud615\", \"marker\": {\"color\": \"#3283FE\"}, \"name\": \"\\uc544\\ud30c\\ud2b8\\uc720\\ud615=\\ucd08\\uc18c\\ud615\", \"offsetgroup\": \"\\uc544\\ud30c\\ud2b8\\uc720\\ud615=\\ucd08\\uc18c\\ud615\", \"orientation\": \"v\", \"showlegend\": true, \"type\": \"histogram\", \"x\": [93.0, 1246.0, 645.0, 266.0, 156.0, 243.0, 125.0, 1255.0, 313.0, 632.0, 505.0, 326.0, 619.0, 1044.0, 90.0, 59.0, 586.0, 921.0, 616.0, 217.0, 484.0, 202.0, 1153.0, 410.0, 442.0, 2550.0, 1145.0, 815.0, 262.0, 172.0, 1044.0, 420.0, 810.0, 70.0, 382.0, 475.0, 588.0, 528.0, 479.0, 507.0, 739.0, 98.0, 509.0, 416.0, 288.0, 526.0, 164.0, 123.0, 65.0, 131.0, 566.0, 649.0, 701.0, 267.0, 96.0, 345.0, 120.0, 78.0, 1001.0, 116.0, 374.0, 62.0, 209.0, 616.0, 419.0, 31.0, 396.0, 75.0, 1896.0, 220.0, 886.0, 159.0, 457.0, 133.0, 253.0, 417.0, 690.0, 91.0, 19.0, 132.0, 246.0, 108.0, 13.0, 318.0, 525.0, 995.0, 353.0, 60.0, 359.0, 127.0, 752.0, 155.0, 396.0, 280.0, 124.0, 204.0, 744.0, 125.0, 129.0, 324.0, 244.0, 86.0, 149.0, 448.0, 55.0, 98.0, 410.0, 78.0, 713.0, 364.0, 444.0, 189.0, 343.0, 712.0, 557.0, 382.0, 793.0, 693.0, 196.0, 548.0, 922.0, 63.0, 130.0, 16.0, 1204.0, 559.0, 163.0, 763.0, 568.0, 386.0, 358.0, 47.0, 228.0, 165.0, 148.0, 189.0, 205.0, 62.0, 982.0, 57.0, 94.0, 555.0, 1832.0, 783.0, 133.0, 404.0, 177.0, 365.0, 330.0, 435.0], \"xaxis\": \"x\", \"yaxis\": \"y\"}, {\"alignmentgroup\": \"True\", \"bingroup\": \"x\", \"hoverlabel\": {\"namelength\": 0}, \"hovertemplate\": \"\\uc544\\ud30c\\ud2b8\\uc720\\ud615=\\uc911\\ub300\\ud615<br>\\ub4f1\\ub85d\\ucc28\\ub7c9\\uc218=%{x}<br>count=%{y}\", \"legendgroup\": \"\\uc544\\ud30c\\ud2b8\\uc720\\ud615=\\uc911\\ub300\\ud615\", \"marker\": {\"color\": \"#85660D\"}, \"name\": \"\\uc544\\ud30c\\ud2b8\\uc720\\ud615=\\uc911\\ub300\\ud615\", \"offsetgroup\": \"\\uc544\\ud30c\\ud2b8\\uc720\\ud615=\\uc911\\ub300\\ud615\", \"orientation\": \"v\", \"showlegend\": true, \"type\": \"histogram\", \"x\": [957.0, 881.0, 509.0, 2315.0, 995.0, 498.0, 899.0, 713.0, 946.0, 855.0, 854.0, 1653.0, 609.0, 951.0, 1730.0, 600.0, 336.0, 780.0, 1595.0, 719.0, 1378.0, 1240.0, 1400.0, 1359.0, 1709.0], \"xaxis\": \"x\", \"yaxis\": \"y\"}],\n",
              "                        {\"barmode\": \"relative\", \"legend\": {\"tracegroupgap\": 0}, \"margin\": {\"t\": 60}, \"template\": {\"data\": {\"bar\": [{\"error_x\": {\"color\": \"#2a3f5f\"}, \"error_y\": {\"color\": \"#2a3f5f\"}, \"marker\": {\"line\": {\"color\": \"#E5ECF6\", \"width\": 0.5}}, \"type\": \"bar\"}], \"barpolar\": [{\"marker\": {\"line\": {\"color\": \"#E5ECF6\", \"width\": 0.5}}, \"type\": \"barpolar\"}], \"carpet\": [{\"aaxis\": {\"endlinecolor\": \"#2a3f5f\", \"gridcolor\": \"white\", \"linecolor\": \"white\", \"minorgridcolor\": \"white\", \"startlinecolor\": \"#2a3f5f\"}, \"baxis\": {\"endlinecolor\": \"#2a3f5f\", \"gridcolor\": \"white\", \"linecolor\": \"white\", \"minorgridcolor\": \"white\", \"startlinecolor\": \"#2a3f5f\"}, \"type\": \"carpet\"}], \"choropleth\": [{\"colorbar\": {\"outlinewidth\": 0, \"ticks\": \"\"}, \"type\": \"choropleth\"}], \"contour\": [{\"colorbar\": {\"outlinewidth\": 0, \"ticks\": \"\"}, \"colorscale\": [[0.0, \"#0d0887\"], [0.1111111111111111, \"#46039f\"], [0.2222222222222222, \"#7201a8\"], [0.3333333333333333, \"#9c179e\"], [0.4444444444444444, \"#bd3786\"], [0.5555555555555556, \"#d8576b\"], [0.6666666666666666, \"#ed7953\"], [0.7777777777777778, \"#fb9f3a\"], [0.8888888888888888, \"#fdca26\"], [1.0, \"#f0f921\"]], \"type\": \"contour\"}], \"contourcarpet\": [{\"colorbar\": {\"outlinewidth\": 0, \"ticks\": \"\"}, \"type\": \"contourcarpet\"}], \"heatmap\": [{\"colorbar\": {\"outlinewidth\": 0, \"ticks\": \"\"}, \"colorscale\": [[0.0, \"#0d0887\"], [0.1111111111111111, \"#46039f\"], [0.2222222222222222, \"#7201a8\"], [0.3333333333333333, \"#9c179e\"], [0.4444444444444444, \"#bd3786\"], [0.5555555555555556, \"#d8576b\"], [0.6666666666666666, \"#ed7953\"], [0.7777777777777778, \"#fb9f3a\"], [0.8888888888888888, \"#fdca26\"], [1.0, \"#f0f921\"]], \"type\": \"heatmap\"}], \"heatmapgl\": [{\"colorbar\": {\"outlinewidth\": 0, \"ticks\": \"\"}, \"colorscale\": [[0.0, \"#0d0887\"], [0.1111111111111111, \"#46039f\"], [0.2222222222222222, \"#7201a8\"], [0.3333333333333333, \"#9c179e\"], [0.4444444444444444, \"#bd3786\"], [0.5555555555555556, \"#d8576b\"], [0.6666666666666666, \"#ed7953\"], [0.7777777777777778, \"#fb9f3a\"], [0.8888888888888888, \"#fdca26\"], [1.0, \"#f0f921\"]], \"type\": \"heatmapgl\"}], \"histogram\": [{\"marker\": {\"colorbar\": {\"outlinewidth\": 0, \"ticks\": \"\"}}, \"type\": \"histogram\"}], \"histogram2d\": [{\"colorbar\": {\"outlinewidth\": 0, \"ticks\": \"\"}, \"colorscale\": [[0.0, \"#0d0887\"], [0.1111111111111111, \"#46039f\"], [0.2222222222222222, \"#7201a8\"], [0.3333333333333333, \"#9c179e\"], [0.4444444444444444, \"#bd3786\"], [0.5555555555555556, \"#d8576b\"], [0.6666666666666666, \"#ed7953\"], [0.7777777777777778, \"#fb9f3a\"], [0.8888888888888888, \"#fdca26\"], [1.0, \"#f0f921\"]], \"type\": \"histogram2d\"}], \"histogram2dcontour\": [{\"colorbar\": {\"outlinewidth\": 0, \"ticks\": \"\"}, \"colorscale\": [[0.0, \"#0d0887\"], [0.1111111111111111, \"#46039f\"], [0.2222222222222222, \"#7201a8\"], [0.3333333333333333, \"#9c179e\"], [0.4444444444444444, \"#bd3786\"], [0.5555555555555556, \"#d8576b\"], [0.6666666666666666, \"#ed7953\"], [0.7777777777777778, \"#fb9f3a\"], [0.8888888888888888, \"#fdca26\"], [1.0, \"#f0f921\"]], \"type\": \"histogram2dcontour\"}], \"mesh3d\": [{\"colorbar\": {\"outlinewidth\": 0, \"ticks\": \"\"}, \"type\": \"mesh3d\"}], \"parcoords\": [{\"line\": {\"colorbar\": {\"outlinewidth\": 0, \"ticks\": \"\"}}, \"type\": \"parcoords\"}], \"pie\": [{\"automargin\": true, \"type\": \"pie\"}], \"scatter\": [{\"marker\": {\"colorbar\": {\"outlinewidth\": 0, \"ticks\": \"\"}}, \"type\": \"scatter\"}], \"scatter3d\": [{\"line\": {\"colorbar\": {\"outlinewidth\": 0, \"ticks\": \"\"}}, \"marker\": {\"colorbar\": {\"outlinewidth\": 0, \"ticks\": \"\"}}, \"type\": \"scatter3d\"}], \"scattercarpet\": [{\"marker\": {\"colorbar\": {\"outlinewidth\": 0, \"ticks\": \"\"}}, \"type\": \"scattercarpet\"}], \"scattergeo\": [{\"marker\": {\"colorbar\": {\"outlinewidth\": 0, \"ticks\": \"\"}}, \"type\": \"scattergeo\"}], \"scattergl\": [{\"marker\": {\"colorbar\": {\"outlinewidth\": 0, \"ticks\": \"\"}}, \"type\": \"scattergl\"}], \"scattermapbox\": [{\"marker\": {\"colorbar\": {\"outlinewidth\": 0, \"ticks\": \"\"}}, \"type\": \"scattermapbox\"}], \"scatterpolar\": [{\"marker\": {\"colorbar\": {\"outlinewidth\": 0, \"ticks\": \"\"}}, \"type\": \"scatterpolar\"}], \"scatterpolargl\": [{\"marker\": {\"colorbar\": {\"outlinewidth\": 0, \"ticks\": \"\"}}, \"type\": \"scatterpolargl\"}], \"scatterternary\": [{\"marker\": {\"colorbar\": {\"outlinewidth\": 0, \"ticks\": \"\"}}, \"type\": \"scatterternary\"}], \"surface\": [{\"colorbar\": {\"outlinewidth\": 0, \"ticks\": \"\"}, \"colorscale\": [[0.0, \"#0d0887\"], [0.1111111111111111, \"#46039f\"], [0.2222222222222222, \"#7201a8\"], [0.3333333333333333, \"#9c179e\"], [0.4444444444444444, \"#bd3786\"], [0.5555555555555556, \"#d8576b\"], [0.6666666666666666, \"#ed7953\"], [0.7777777777777778, \"#fb9f3a\"], [0.8888888888888888, \"#fdca26\"], [1.0, \"#f0f921\"]], \"type\": \"surface\"}], \"table\": [{\"cells\": {\"fill\": {\"color\": \"#EBF0F8\"}, \"line\": {\"color\": \"white\"}}, \"header\": {\"fill\": {\"color\": \"#C8D4E3\"}, \"line\": {\"color\": \"white\"}}, \"type\": \"table\"}]}, \"layout\": {\"annotationdefaults\": {\"arrowcolor\": \"#2a3f5f\", \"arrowhead\": 0, \"arrowwidth\": 1}, \"coloraxis\": {\"colorbar\": {\"outlinewidth\": 0, \"ticks\": \"\"}}, \"colorscale\": {\"diverging\": [[0, \"#8e0152\"], [0.1, \"#c51b7d\"], [0.2, \"#de77ae\"], [0.3, \"#f1b6da\"], [0.4, \"#fde0ef\"], [0.5, \"#f7f7f7\"], [0.6, \"#e6f5d0\"], [0.7, \"#b8e186\"], [0.8, \"#7fbc41\"], [0.9, \"#4d9221\"], [1, \"#276419\"]], \"sequential\": [[0.0, \"#0d0887\"], [0.1111111111111111, \"#46039f\"], [0.2222222222222222, \"#7201a8\"], [0.3333333333333333, \"#9c179e\"], [0.4444444444444444, \"#bd3786\"], [0.5555555555555556, \"#d8576b\"], [0.6666666666666666, \"#ed7953\"], [0.7777777777777778, \"#fb9f3a\"], [0.8888888888888888, \"#fdca26\"], [1.0, \"#f0f921\"]], \"sequentialminus\": [[0.0, \"#0d0887\"], [0.1111111111111111, \"#46039f\"], [0.2222222222222222, \"#7201a8\"], [0.3333333333333333, \"#9c179e\"], [0.4444444444444444, \"#bd3786\"], [0.5555555555555556, \"#d8576b\"], [0.6666666666666666, \"#ed7953\"], [0.7777777777777778, \"#fb9f3a\"], [0.8888888888888888, \"#fdca26\"], [1.0, \"#f0f921\"]]}, \"colorway\": [\"#636efa\", \"#EF553B\", \"#00cc96\", \"#ab63fa\", \"#FFA15A\", \"#19d3f3\", \"#FF6692\", \"#B6E880\", \"#FF97FF\", \"#FECB52\"], \"font\": {\"color\": \"#2a3f5f\"}, \"geo\": {\"bgcolor\": \"white\", \"lakecolor\": \"white\", \"landcolor\": \"#E5ECF6\", \"showlakes\": true, \"showland\": true, \"subunitcolor\": \"white\"}, \"hoverlabel\": {\"align\": \"left\"}, \"hovermode\": \"closest\", \"mapbox\": {\"style\": \"light\"}, \"paper_bgcolor\": \"white\", \"plot_bgcolor\": \"#E5ECF6\", \"polar\": {\"angularaxis\": {\"gridcolor\": \"white\", \"linecolor\": \"white\", \"ticks\": \"\"}, \"bgcolor\": \"#E5ECF6\", \"radialaxis\": {\"gridcolor\": \"white\", \"linecolor\": \"white\", \"ticks\": \"\"}}, \"scene\": {\"xaxis\": {\"backgroundcolor\": \"#E5ECF6\", \"gridcolor\": \"white\", \"gridwidth\": 2, \"linecolor\": \"white\", \"showbackground\": true, \"ticks\": \"\", \"zerolinecolor\": \"white\"}, \"yaxis\": {\"backgroundcolor\": \"#E5ECF6\", \"gridcolor\": \"white\", \"gridwidth\": 2, \"linecolor\": \"white\", \"showbackground\": true, \"ticks\": \"\", \"zerolinecolor\": \"white\"}, \"zaxis\": {\"backgroundcolor\": \"#E5ECF6\", \"gridcolor\": \"white\", \"gridwidth\": 2, \"linecolor\": \"white\", \"showbackground\": true, \"ticks\": \"\", \"zerolinecolor\": \"white\"}}, \"shapedefaults\": {\"line\": {\"color\": \"#2a3f5f\"}}, \"ternary\": {\"aaxis\": {\"gridcolor\": \"white\", \"linecolor\": \"white\", \"ticks\": \"\"}, \"baxis\": {\"gridcolor\": \"white\", \"linecolor\": \"white\", \"ticks\": \"\"}, \"bgcolor\": \"#E5ECF6\", \"caxis\": {\"gridcolor\": \"white\", \"linecolor\": \"white\", \"ticks\": \"\"}}, \"title\": {\"x\": 0.05}, \"xaxis\": {\"automargin\": true, \"gridcolor\": \"white\", \"linecolor\": \"white\", \"ticks\": \"\", \"title\": {\"standoff\": 15}, \"zerolinecolor\": \"white\", \"zerolinewidth\": 2}, \"yaxis\": {\"automargin\": true, \"gridcolor\": \"white\", \"linecolor\": \"white\", \"ticks\": \"\", \"title\": {\"standoff\": 15}, \"zerolinecolor\": \"white\", \"zerolinewidth\": 2}}}, \"title\": {\"text\": \"\\uc544\\ud30c\\ud2b8\\uc720\\ud615\\uc5d0 \\ub530\\ub978 \\ub4f1\\ub85d\\ucc28\\ub7c9\\uc218\"}, \"xaxis\": {\"anchor\": \"y\", \"domain\": [0.0, 1.0], \"title\": {\"text\": \"\\ub4f1\\ub85d\\ucc28\\ub7c9\\uc218\"}}, \"yaxis\": {\"anchor\": \"x\", \"domain\": [0.0, 1.0], \"title\": {\"text\": \"count\"}}},\n",
              "                        {\"responsive\": true}\n",
              "                    ).then(function(){\n",
              "                            \n",
              "var gd = document.getElementById('6daa27c0-5fca-4552-aa49-78aedd90ff92');\n",
              "var x = new MutationObserver(function (mutations, observer) {{\n",
              "        var display = window.getComputedStyle(gd).display;\n",
              "        if (!display || display === 'none') {{\n",
              "            console.log([gd, 'removed!']);\n",
              "            Plotly.purge(gd);\n",
              "            observer.disconnect();\n",
              "        }}\n",
              "}});\n",
              "\n",
              "// Listen for the removal of the full notebook cells\n",
              "var notebookContainer = gd.closest('#notebook-container');\n",
              "if (notebookContainer) {{\n",
              "    x.observe(notebookContainer, {childList: true});\n",
              "}}\n",
              "\n",
              "// Listen for the clearing of the current output cell\n",
              "var outputEl = gd.closest('.output');\n",
              "if (outputEl) {{\n",
              "    x.observe(outputEl, {childList: true});\n",
              "}}\n",
              "\n",
              "                        })\n",
              "                };\n",
              "                \n",
              "            </script>\n",
              "        </div>\n",
              "</body>\n",
              "</html>"
            ]
          },
          "metadata": {}
        }
      ]
    },
    {
      "cell_type": "code",
      "metadata": {
        "colab": {
          "base_uri": "https://localhost:8080/",
          "height": 542
        },
        "id": "LsQJTEKABCc7",
        "outputId": "c7b6bdcf-c26d-46ba-bee4-fde7e3f5ed4f"
      },
      "source": [
        "fig = go.Figure()\n",
        "fig = px.scatter(count_apart_type, x = '1M^2당_세대수*100', y='등록차량수', color='아파트유형', text='단지코드',\n",
        "                            color_discrete_sequence=px.colors.qualitative.Alphabet)\n",
        "fig.update_layout(title='상가유무에 따른 총세대수, 단지내주차면수 분포') #autosize =, width = 1000, height = 500)"
      ],
      "execution_count": 515,
      "outputs": [
        {
          "output_type": "display_data",
          "data": {
            "text/html": [
              "<html>\n",
              "<head><meta charset=\"utf-8\" /></head>\n",
              "<body>\n",
              "    <div>\n",
              "            <script src=\"https://cdnjs.cloudflare.com/ajax/libs/mathjax/2.7.5/MathJax.js?config=TeX-AMS-MML_SVG\"></script><script type=\"text/javascript\">if (window.MathJax) {MathJax.Hub.Config({SVG: {font: \"STIX-Web\"}});}</script>\n",
              "                <script type=\"text/javascript\">window.PlotlyConfig = {MathJaxConfig: 'local'};</script>\n",
              "        <script src=\"https://cdn.plot.ly/plotly-latest.min.js\"></script>    \n",
              "            <div id=\"8a3280d4-1cb2-4c79-a3af-807dff035298\" class=\"plotly-graph-div\" style=\"height:525px; width:100%;\"></div>\n",
              "            <script type=\"text/javascript\">\n",
              "                \n",
              "                    window.PLOTLYENV=window.PLOTLYENV || {};\n",
              "                    \n",
              "                if (document.getElementById(\"8a3280d4-1cb2-4c79-a3af-807dff035298\")) {\n",
              "                    Plotly.newPlot(\n",
              "                        '8a3280d4-1cb2-4c79-a3af-807dff035298',\n",
              "                        [{\"hoverlabel\": {\"namelength\": 0}, \"hovertemplate\": \"\\uc544\\ud30c\\ud2b8\\uc720\\ud615=\\uc18c\\ud615<br>1M^2\\ub2f9_\\uc138\\ub300\\uc218*100=%{x}<br>\\ub4f1\\ub85d\\ucc28\\ub7c9\\uc218=%{y}<br>\\ub2e8\\uc9c0\\ucf54\\ub4dc=%{text}\", \"legendgroup\": \"\\uc544\\ud30c\\ud2b8\\uc720\\ud615=\\uc18c\\ud615\", \"marker\": {\"color\": \"#AA0DFE\", \"symbol\": \"circle\"}, \"mode\": \"markers+text\", \"name\": \"\\uc544\\ud30c\\ud2b8\\uc720\\ud615=\\uc18c\\ud615\", \"showlegend\": true, \"text\": [\"C1000\", \"C1005\", \"C1013\", \"C1014\", \"C1015\", \"C1022\", \"C1026\", \"C1027\", \"C1032\", \"C1036\", \"C1049\", \"C1057\", \"C1059\", \"C1068\", \"C1077\", \"C1084\", \"C1085\", \"C1089\", \"C1095\", \"C1102\", \"C1103\", \"C1122\", \"C1129\", \"C1131\", \"C1133\", \"C1136\", \"C1141\", \"C1155\", \"C1171\", \"C1173\", \"C1175\", \"C1180\", \"C1184\", \"C1194\", \"C1213\", \"C1227\", \"C1234\", \"C1236\", \"C1244\", \"C1268\", \"C1269\", \"C1284\", \"C1307\", \"C1309\", \"C1310\", \"C1312\", \"C1316\", \"C1319\", \"C1320\", \"C1328\", \"C1329\", \"C1338\", \"C1343\", \"C1360\", \"C1365\", \"C1368\", \"C1375\", \"C1379\", \"C1394\", \"C1397\", \"C1406\", \"C1407\", \"C1424\", \"C1428\", \"C1430\", \"C1448\", \"C1465\", \"C1470\", \"C1487\", \"C1492\", \"C1502\", \"C1519\", \"C1527\", \"C1537\", \"C1566\", \"C1579\", \"C1585\", \"C1601\", \"C1613\", \"C1620\", \"C1638\", \"C1641\", \"C1642\", \"C1655\", \"C1656\", \"C1660\", \"C1663\", \"C1666\", \"C1672\", \"C1674\", \"C1677\", \"C1681\", \"C1687\", \"C1689\", \"C1693\", \"C1699\", \"C1700\", \"C1706\", \"C1718\", \"C1738\", \"C1740\", \"C1744\", \"C1757\", \"C1761\", \"C1762\", \"C1768\", \"C1773\", \"C1783\", \"C1788\", \"C1802\", \"C1819\", \"C1823\", \"C1834\", \"C1837\", \"C1845\", \"C1848\", \"C1850\", \"C1861\", \"C1863\", \"C1866\", \"C1871\", \"C1879\", \"C1880\", \"C1889\", \"C1896\", \"C1898\", \"C1900\", \"C1907\", \"C1911\", \"C1916\", \"C1929\", \"C1936\", \"C1940\", \"C1945\", \"C1962\", \"C1965\", \"C1967\", \"C1985\", \"C1987\", \"C1988\", \"C1994\", \"C2000\", \"C2008\", \"C2016\", \"C2021\", \"C2032\", \"C2036\", \"C2042\", \"C2046\", \"C2049\", \"C2055\", \"C2066\", \"C2068\", \"C2070\", \"C2071\", \"C2073\", \"C2082\", \"C2086\", \"C2089\", \"C2099\", \"C2100\", \"C2127\", \"C2133\", \"C2141\", \"C2162\", \"C2173\", \"C2181\", \"C2202\", \"C2208\", \"C2221\", \"C2227\", \"C2232\", \"C2251\", \"C2256\", \"C2262\", \"C2276\", \"C2287\", \"C2308\", \"C2319\", \"C2325\", \"C2328\", \"C2329\", \"C2336\", \"C2346\", \"C2351\", \"C2357\", \"C2358\", \"C2361\", \"C2371\", \"C2373\", \"C2377\", \"C2378\", \"C2383\", \"C2385\", \"C2389\", \"C2390\", \"C2394\", \"C2401\", \"C2412\", \"C2414\", \"C2420\", \"C2431\", \"C2445\", \"C2450\", \"C2458\", \"C2460\", \"C2470\", \"C2479\", \"C2481\", \"C2483\", \"C2486\", \"C2488\", \"C2489\", \"C2490\", \"C2492\", \"C2503\", \"C2506\", \"C2513\", \"C2514\", \"C2515\", \"C2518\", \"C2522\", \"C2526\", \"C2527\", \"C2530\", \"C2532\", \"C2538\", \"C2560\", \"C2561\", \"C2563\", \"C2565\", \"C2574\", \"C2576\", \"C2579\", \"C2587\", \"C2596\", \"C2601\", \"C2603\", \"C2605\", \"C2631\", \"C2635\", \"C2650\", \"C2651\", \"C2657\", \"C2663\", \"C2666\", \"C2680\", \"C2692\"], \"type\": \"scatter\", \"x\": [178.8140144694026, 701.49619818494, 566.9455160157775, 289.0056002089197, 260.8719257288669, 207.35607675906184, 259.7402597402597, 211.61048689138573, 305.2991673659072, 226.14367132973697, 296.8949009618341, 273.3760100745094, 198.58594444229806, 308.4882161333589, 635.5181576616476, 95.61535309383964, 316.8376584188292, 136.1853304714677, 362.63894903998846, 192.6341427411617, 567.1478830522868, 263.61293269387625, 312.22296698306985, 404.54382183908046, 339.211412720428, 608.2710020399334, 223.82491917433472, 230.18844760910935, 116.309412861137, 138.44102315432173, 294.87744943607834, 191.76743617930865, 143.69078245592019, 191.45747470962905, 125.37169492887568, 213.42512908777968, 275.5092883424571, 203.50889898788728, 289.33882214567757, 367.60788492274907, 302.8176616646875, 441.3239719157472, 133.65029054410985, 115.80093124508677, 261.3341397646229, 307.4635741897116, 125.16083752485672, 197.38936644380775, 1097.4504982528795, 214.56071289527188, 275.4487725760783, 135.47361313789125, 147.8743068391867, 162.1463343215841, 165.37516537516538, 470.14377164445375, 215.4485428051002, 182.68959684240204, 281.2311406155703, 131.71947312210753, 273.4472281715396, 267.9653584257035, 446.0647651726357, 114.27700746609784, 686.858730229849, 241.96695720046836, 343.7674678591392, 404.8159134531495, 493.5391241923905, 127.43848642289973, 433.90191897654586, 515.2109911678116, 377.35849056603774, 306.9789009969858, 181.5181518151815, 241.76088525378879, 425.6218304757305, 113.22308378508201, 515.0846210448859, 578.6210783392823, 191.81486371049158, 151.02999252855162, 86.03383997705765, 268.95657809462085, 152.23187408617872, 193.7974034386893, 297.6080103838309, 172.35922779170826, 1210.6537530266344, 127.67495081703939, 241.2484183888655, 144.17235886498017, 152.89975472743097, 254.92970604345447, 405.7267884322679, 226.88188263689844, 536.6080782213945, 202.56788409820422, 761.9143984620055, 414.66102186394477, 166.8930026445572, 307.5426519006285, 478.8613473252518, 213.71769383697813, 282.1546353975815, 455.80978017048005, 210.33127175301104, 247.43814046488376, 337.0383650053783, 219.62245708351148, 201.5390252839868, 213.3487654320988, 242.00133620369684, 176.4261428031734, 168.7717169488721, 182.64840182648402, 277.01827601093686, 435.71608992169735, 334.9384371571376, 199.9645033426019, 221.28344397505532, 290.7262021589794, 294.34941825429934, 514.869512441837, 254.38565150594874, 221.56977882168724, 164.07212453802217, 79.33537908839158, 279.3120763243786, 440.4620533304545, 168.56819817041833, 115.62364503540974, 217.2453989897206, 249.1255856926021, 186.94108659506583, 215.8086323452938, 327.5084554678693, 484.96282321606924, 100.61544844754857, 286.6626433313217, 218.18365900577095, 414.8583099310697, 173.2014548035128, 156.38106650689033, 145.90405650996126, 203.91411414006134, 127.62987336723504, 313.55969524816135, 370.8448298515307, 421.878832474859, 278.96066402020926, 178.65571603889364, 389.4821861258189, 366.7851162030797, 353.99712781235036, 128.97002607981136, 372.54676037945995, 174.39888901448478, 356.38869336494645, 138.24692900270662, 262.81208935611033, 258.1216121538405, 128.112594731144, 292.326431181486, 228.41089532185168, 208.54075289938922, 321.889996308601, 479.1939081609107, 241.90894130554037, 148.88462703139197, 149.98585039147252, 190.501744030051, 183.5166428467864, 188.22771411477748, 198.30886605888668, 655.5772994129157, 126.23456790123457, 174.3332517739173, 281.0032512772875, 161.37295081967213, 263.43467945111655, 626.1801790826584, 143.6547268050938, 216.66537236934067, 199.76411617278492, 206.99029126213594, 506.6344993968637, 226.9739385971696, 133.81136549699346, 331.7979545631978, 407.9146517036435, 367.01363962670496, 177.00348432055753, 225.134068602651, 270.7368751471396, 172.72239126543764, 76.22244847417517, 145.3924914675768, 260.9331444500297, 385.1444291609354, 135.68480745821086, 564.9311789347696, 295.3119232189, 173.09346330275227, 248.65904850746267, 390.5979951607328, 276.83076503477423, 215.52818689690199, 540.3087478559178, 225.5582566852961, 142.11262848043236, 344.04643919014586, 712.9313613955253, 271.0221663824822, 250.56947608200457, 148.33799316557935, 100.12560240158916, 484.2957158455906, 169.10250784757147, 175.56858449842144, 305.17272239126544, 230.55555555555554, 149.95353552420377, 163.45866587000128, 104.63531015678255, 78.22472424966452, 178.9032610675898, 333.8418738221305, 236.67410598432554, 299.3361496680749, 178.2392232596871, 242.7018860568254, 379.2845102079041, 431.76624224616387, 190.38297603637167, 143.71770173990154, 90.7936033477806, 175.43859649122805, 457.1428571428571, 260.69089508154616, 116.48018072076525, 689.7910918407568, 262.57439607888904, 263.935875163817, 313.78287200747883, 417.6459256405317, 582.8527489427142, 229.05669038329123], \"xaxis\": \"x\", \"y\": [481.0, 376.0, 1665.0, 708.0, 579.0, 450.0, 422.0, 207.0, 316.0, 1279.0, 762.0, 521.0, 246.0, 510.0, 236.0, 226.0, 521.0, 309.0, 505.0, 417.0, 787.0, 1077.0, 1668.0, 1019.0, 842.0, 763.0, 620.0, 373.0, 700.0, 609.0, 430.0, 311.0, 488.0, 585.0, 148.0, 823.0, 311.0, 657.0, 1804.0, 934.0, 643.0, 780.0, 504.0, 446.0, 1084.0, 359.0, 22.0, 398.0, 924.0, 770.0, 554.0, 551.0, 549.0, 375.0, 945.0, 861.0, 754.0, 294.0, 271.0, 1595.0, 1350.0, 1064.0, 179.0, 333.0, 839.0, 1284.0, 557.0, 553.0, 505.0, 296.0, 438.0, 235.0, 1150.0, 669.0, 284.0, 1158.0, 718.0, 308.0, 498.0, 1101.0, 413.0, 268.0, 297.0, 236.0, 257.0, 512.0, 700.0, 465.0, 873.0, 322.0, 1101.0, 520.0, 349.0, 960.0, 1087.0, 606.0, 979.0, 362.0, 496.0, 682.0, 979.0, 979.0, 508.0, 730.0, 460.0, 670.0, 614.0, 570.0, 412.0, 1983.0, 272.0, 652.0, 255.0, 398.0, 277.0, 625.0, 254.0, 613.0, 733.0, 135.0, 408.0, 713.0, 761.0, 808.0, 845.0, 415.0, 596.0, 207.0, 831.0, 752.0, 413.0, 234.0, 709.0, 730.0, 401.0, 500.0, 639.0, 630.0, 166.0, 402.0, 496.0, 795.0, 548.0, 220.0, 902.0, 1162.0, 258.0, 757.0, 1306.0, 841.0, 723.0, 503.0, 594.0, 735.0, 1398.0, 301.0, 822.0, 1524.0, 572.0, 383.0, 671.0, 403.0, 328.0, 495.0, 347.0, 745.0, 683.0, 226.0, 840.0, 359.0, 505.0, 248.0, 870.0, 344.0, 540.0, 1159.0, 284.0, 244.0, 266.0, 293.0, 1374.0, 821.0, 562.0, 553.0, 646.0, 345.0, 1010.0, 1117.0, 451.0, 800.0, 579.0, 901.0, 832.0, 552.0, 561.0, 422.0, 254.0, 19.0, 487.0, 1200.0, 505.0, 359.0, 334.0, 451.0, 910.0, 793.0, 887.0, 647.0, 302.0, 1015.0, 587.0, 1023.0, 950.0, 340.0, 585.0, 327.0, 1433.0, 820.0, 648.0, 205.0, 305.0, 610.0, 321.0, 375.0, 302.0, 146.0, 799.0, 481.0, 441.0, 449.0, 1090.0, 826.0, 73.0, 751.0, 589.0, 480.0, 281.0, 509.0, 572.0, 638.0, 442.0, 159.0, 282.0, 782.0, 652.0, 701.0, 590.0, 437.0], \"yaxis\": \"y\"}, {\"hoverlabel\": {\"namelength\": 0}, \"hovertemplate\": \"\\uc544\\ud30c\\ud2b8\\uc720\\ud615=\\ucd08\\uc18c\\ud615<br>1M^2\\ub2f9_\\uc138\\ub300\\uc218*100=%{x}<br>\\ub4f1\\ub85d\\ucc28\\ub7c9\\uc218=%{y}<br>\\ub2e8\\uc9c0\\ucf54\\ub4dc=%{text}\", \"legendgroup\": \"\\uc544\\ud30c\\ud2b8\\uc720\\ud615=\\ucd08\\uc18c\\ud615\", \"marker\": {\"color\": \"#3283FE\", \"symbol\": \"circle\"}, \"mode\": \"markers+text\", \"name\": \"\\uc544\\ud30c\\ud2b8\\uc720\\ud615=\\ucd08\\uc18c\\ud615\", \"showlegend\": true, \"text\": [\"C1004\", \"C1017\", \"C1039\", \"C1045\", \"C1046\", \"C1048\", \"C1056\", \"C1065\", \"C1109\", \"C1143\", \"C1156\", \"C1163\", \"C1176\", \"C1177\", \"C1206\", \"C1207\", \"C1210\", \"C1218\", \"C1258\", \"C1263\", \"C1281\", \"C1301\", \"C1326\", \"C1340\", \"C1341\", \"C1363\", \"C1386\", \"C1410\", \"C1426\", \"C1439\", \"C1451\", \"C1455\", \"C1468\", \"C1476\", \"C1497\", \"C1516\", \"C1565\", \"C1569\", \"C1572\", \"C1584\", \"C1592\", \"C1616\", \"C1652\", \"C1659\", \"C1668\", \"C1673\", \"C1685\", \"C1695\", \"C1698\", \"C1704\", \"C1713\", \"C1722\", \"C1724\", \"C1732\", \"C1775\", \"C1786\", \"C1790\", \"C1803\", \"C1833\", \"C1859\", \"C1867\", \"C1874\", \"C1875\", \"C1885\", \"C1894\", \"C1899\", \"C1910\", \"C1925\", \"C1939\", \"C1968\", \"C1969\", \"C1970\", \"C1973\", \"C1979\", \"C1983\", \"C2001\", \"C2010\", \"C2013\", \"C2020\", \"C2034\", \"C2035\", \"C2038\", \"C2059\", \"C2094\", \"C2096\", \"C2097\", \"C2106\", \"C2109\", \"C2132\", \"C2135\", \"C2137\", \"C2139\", \"C2142\", \"C2153\", \"C2154\", \"C2156\", \"C2186\", \"C2188\", \"C2190\", \"C2192\", \"C2211\", \"C2212\", \"C2216\", \"C2225\", \"C2237\", \"C2245\", \"C2255\", \"C2258\", \"C2274\", \"C2289\", \"C2298\", \"C2310\", \"C2314\", \"C2316\", \"C2326\", \"C2340\", \"C2352\", \"C2359\", \"C2362\", \"C2368\", \"C2393\", \"C2416\", \"C2433\", \"C2437\", \"C2446\", \"C2453\", \"C2505\", \"C2507\", \"C2508\", \"C2520\", \"C2531\", \"C2536\", \"C2539\", \"C2549\", \"C2556\", \"C2568\", \"C2570\", \"C2571\", \"C2583\", \"C2586\", \"C2597\", \"C2609\", \"C2612\", \"C2618\", \"C2621\", \"C2627\", \"C2644\", \"C2659\", \"C2661\", \"C2670\"], \"type\": \"scatter\", \"x\": [638.0554500569692, 1321.1474074744367, 171.14384748700175, 340.1510153214574, 185.34792681952547, 329.1003398318727, 703.9774727208729, 870.4528582034151, 3357.600970705495, 582.9407806191117, 469.7133712994776, 278.73335097468464, 498.5238862050456, 246.58506297676067, 828.566475992373, 119.70313622216904, 849.7344579818806, 1310.8142172926644, 447.0938897168406, 149.83786201498376, 322.24272958547414, 387.19963557681353, 1201.3914772021367, 306.9224353628023, 297.4673334408776, 546.6854004342827, 268.5587169459295, 267.30740351404114, 199.19045590115041, 1744.7199265381084, 1046.1657830078882, 380.3151685887842, 373.2881418036917, 774.8309932397297, 1017.2501268391679, 226.07833415964308, 995.1219512195122, 229.93950878215878, 392.7733065057009, 760.8831233628539, 301.2674007895284, 1518.2124273033364, 229.6003921265124, 229.19578198450003, 170.0997136252286, 336.2404118945046, 100.92370851864523, 149.3540437607348, 290.8534251817834, 789.9734143562478, 268.33558309813066, 412.34466468111333, 466.53294703216693, 171.48424813251057, 1224.920802534319, 356.82426404995533, 704.4152342433435, 34.210256234819205, 467.6197332784806, 1464.1171784028925, 277.24391739930485, 704.2588627171068, 1170.5924339757314, 256.1728395061728, 145.8128078817734, 774.8309932397297, 221.40221402214019, 1033.1079909863063, 767.3340566130781, 319.75116640746506, 670.3307488467956, 148.77631481068215, 275.36751523843674, 101.12359550561798, 543.683409436834, 320.6270039187745, 393.9782190903267, 502.19817382482245, 50.093926111458984, 1736.854627646919, 272.1991701244813, 783.5935108662383, 37.42622714840939, 141.29648137298824, 179.28722396326802, 325.3569798526439, 244.26888964280522, 844.7729672650474, 2067.0826833073324, 1307.3994765643588, 851.8189884649512, 283.78002411202823, 689.4541214197216, 258.36842480907853, 123.76581838409125, 238.18820773135494, 468.87796887796895, 345.00253678335866, 901.9288236892148, 247.67503493470824, 252.2402920677066, 770.699921357151, 497.51243781094524, 510.16070062069554, 58.12505189736776, 111.55378486055776, 289.9150962932284, 967.2482399755128, 425.4673694588752, 1306.1189114231236, 401.80743830378873, 2341.184867951463, 272.50431465164866, 788.6258579633002, 315.1962495636128, 1285.7860371672525, 284.629981024668, 526.1131784935197, 393.2466442953021, 251.13415424497728, 320.7069659378501, 971.4889123548046, 412.73968150796225, 362.46476037051957, 586.4008316229974, 310.01177856301535, 98.4009840098401, 220.99615460611312, 376.767495972794, 2418.745275888133, 292.0497566252028, 63.47527109230362, 191.332077112625, 138.8503193557345, 251.004016064257, 284.6629174477539, 212.9774243930144, 1774.7440273037541, 298.3625131511506, 67.62849413886384, 1161.0754223173924, 540.3304178814383, 1182.2521763549564, 989.7828863346106, 469.7986577181207, 309.5644748078565, 605.0905683947533, 151.46506386175804, 319.1201658703687, 316.731023021653], \"xaxis\": \"x\", \"y\": [93.0, 1246.0, 645.0, 266.0, 156.0, 243.0, 125.0, 1255.0, 313.0, 632.0, 505.0, 326.0, 619.0, 1044.0, 90.0, 59.0, 586.0, 921.0, 616.0, 217.0, 484.0, 202.0, 1153.0, 410.0, 442.0, 2550.0, 1145.0, 815.0, 262.0, 172.0, 1044.0, 420.0, 810.0, 70.0, 382.0, 475.0, 588.0, 528.0, 479.0, 507.0, 739.0, 98.0, 509.0, 416.0, 288.0, 526.0, 164.0, 123.0, 65.0, 131.0, 566.0, 649.0, 701.0, 267.0, 96.0, 345.0, 120.0, 78.0, 1001.0, 116.0, 374.0, 62.0, 209.0, 616.0, 419.0, 31.0, 396.0, 75.0, 1896.0, 220.0, 886.0, 159.0, 457.0, 133.0, 253.0, 417.0, 690.0, 91.0, 19.0, 132.0, 246.0, 108.0, 13.0, 318.0, 525.0, 995.0, 353.0, 60.0, 359.0, 127.0, 752.0, 155.0, 396.0, 280.0, 124.0, 204.0, 744.0, 125.0, 129.0, 324.0, 244.0, 86.0, 149.0, 448.0, 55.0, 98.0, 410.0, 78.0, 713.0, 364.0, 444.0, 189.0, 343.0, 712.0, 557.0, 382.0, 793.0, 693.0, 196.0, 548.0, 922.0, 63.0, 130.0, 16.0, 1204.0, 559.0, 163.0, 763.0, 568.0, 386.0, 358.0, 47.0, 228.0, 165.0, 148.0, 189.0, 205.0, 62.0, 982.0, 57.0, 94.0, 555.0, 1832.0, 783.0, 133.0, 404.0, 177.0, 365.0, 330.0, 435.0], \"yaxis\": \"y\"}, {\"hoverlabel\": {\"namelength\": 0}, \"hovertemplate\": \"\\uc544\\ud30c\\ud2b8\\uc720\\ud615=\\uc911\\ub300\\ud615<br>1M^2\\ub2f9_\\uc138\\ub300\\uc218*100=%{x}<br>\\ub4f1\\ub85d\\ucc28\\ub7c9\\uc218=%{y}<br>\\ub2e8\\uc9c0\\ucf54\\ub4dc=%{text}\", \"legendgroup\": \"\\uc544\\ud30c\\ud2b8\\uc720\\ud615=\\uc911\\ub300\\ud615\", \"marker\": {\"color\": \"#85660D\", \"symbol\": \"circle\"}, \"mode\": \"markers+text\", \"name\": \"\\uc544\\ud30c\\ud2b8\\uc720\\ud615=\\uc911\\ub300\\ud615\", \"showlegend\": true, \"text\": [\"C1024\", \"C1286\", \"C1344\", \"C1350\", \"C1357\", \"C1402\", \"C1490\", \"C1544\", \"C1636\", \"C1649\", \"C1697\", \"C1743\", \"C1756\", \"C1804\", \"C1933\", \"C1941\", \"C2040\", \"C2051\", \"C2085\", \"C2143\", \"C2259\", \"C2405\", \"C2496\", \"C2595\", \"C2620\"], \"type\": \"scatter\", \"x\": [60.82399296124861, 375.39316204403417, 67.91940230925967, 154.249287106257, 293.3574567071595, 94.34997257268239, 205.50309038998523, 180.47446000571637, 191.64872486884798, 174.3163766446371, 109.89699768088086, 156.27160835292491, 118.85848779052661, 7.875208238679389, 244.84906564446572, 118.88297089721331, 124.0057618838855, 64.91406136721058, 168.35777329904786, 113.6150234741784, 197.8563817562627, 119.94256271644565, 248.21726596874524, 237.71660451853472, 248.64152807508648], \"xaxis\": \"x\", \"y\": [957.0, 881.0, 509.0, 2315.0, 995.0, 498.0, 899.0, 713.0, 946.0, 855.0, 854.0, 1653.0, 609.0, 951.0, 1730.0, 600.0, 336.0, 780.0, 1595.0, 719.0, 1378.0, 1240.0, 1400.0, 1359.0, 1709.0], \"yaxis\": \"y\"}],\n",
              "                        {\"legend\": {\"tracegroupgap\": 0}, \"margin\": {\"t\": 60}, \"template\": {\"data\": {\"bar\": [{\"error_x\": {\"color\": \"#2a3f5f\"}, \"error_y\": {\"color\": \"#2a3f5f\"}, \"marker\": {\"line\": {\"color\": \"#E5ECF6\", \"width\": 0.5}}, \"type\": \"bar\"}], \"barpolar\": [{\"marker\": {\"line\": {\"color\": \"#E5ECF6\", \"width\": 0.5}}, \"type\": \"barpolar\"}], \"carpet\": [{\"aaxis\": {\"endlinecolor\": \"#2a3f5f\", \"gridcolor\": \"white\", \"linecolor\": \"white\", \"minorgridcolor\": \"white\", \"startlinecolor\": \"#2a3f5f\"}, \"baxis\": {\"endlinecolor\": \"#2a3f5f\", \"gridcolor\": \"white\", \"linecolor\": \"white\", \"minorgridcolor\": \"white\", \"startlinecolor\": \"#2a3f5f\"}, \"type\": \"carpet\"}], \"choropleth\": [{\"colorbar\": {\"outlinewidth\": 0, \"ticks\": \"\"}, \"type\": \"choropleth\"}], \"contour\": [{\"colorbar\": {\"outlinewidth\": 0, \"ticks\": \"\"}, \"colorscale\": [[0.0, \"#0d0887\"], [0.1111111111111111, \"#46039f\"], [0.2222222222222222, \"#7201a8\"], [0.3333333333333333, \"#9c179e\"], [0.4444444444444444, \"#bd3786\"], [0.5555555555555556, \"#d8576b\"], [0.6666666666666666, \"#ed7953\"], [0.7777777777777778, \"#fb9f3a\"], [0.8888888888888888, \"#fdca26\"], [1.0, \"#f0f921\"]], \"type\": \"contour\"}], \"contourcarpet\": [{\"colorbar\": {\"outlinewidth\": 0, \"ticks\": \"\"}, \"type\": \"contourcarpet\"}], \"heatmap\": [{\"colorbar\": {\"outlinewidth\": 0, \"ticks\": \"\"}, \"colorscale\": [[0.0, \"#0d0887\"], [0.1111111111111111, \"#46039f\"], [0.2222222222222222, \"#7201a8\"], [0.3333333333333333, \"#9c179e\"], [0.4444444444444444, \"#bd3786\"], [0.5555555555555556, \"#d8576b\"], [0.6666666666666666, \"#ed7953\"], [0.7777777777777778, \"#fb9f3a\"], [0.8888888888888888, \"#fdca26\"], [1.0, \"#f0f921\"]], \"type\": \"heatmap\"}], \"heatmapgl\": [{\"colorbar\": {\"outlinewidth\": 0, \"ticks\": \"\"}, \"colorscale\": [[0.0, \"#0d0887\"], [0.1111111111111111, \"#46039f\"], [0.2222222222222222, \"#7201a8\"], [0.3333333333333333, \"#9c179e\"], [0.4444444444444444, \"#bd3786\"], [0.5555555555555556, \"#d8576b\"], [0.6666666666666666, \"#ed7953\"], [0.7777777777777778, \"#fb9f3a\"], [0.8888888888888888, \"#fdca26\"], [1.0, \"#f0f921\"]], \"type\": \"heatmapgl\"}], \"histogram\": [{\"marker\": {\"colorbar\": {\"outlinewidth\": 0, \"ticks\": \"\"}}, \"type\": \"histogram\"}], \"histogram2d\": [{\"colorbar\": {\"outlinewidth\": 0, \"ticks\": \"\"}, \"colorscale\": [[0.0, \"#0d0887\"], [0.1111111111111111, \"#46039f\"], [0.2222222222222222, \"#7201a8\"], [0.3333333333333333, \"#9c179e\"], [0.4444444444444444, \"#bd3786\"], [0.5555555555555556, \"#d8576b\"], [0.6666666666666666, \"#ed7953\"], [0.7777777777777778, \"#fb9f3a\"], [0.8888888888888888, \"#fdca26\"], [1.0, \"#f0f921\"]], \"type\": \"histogram2d\"}], \"histogram2dcontour\": [{\"colorbar\": {\"outlinewidth\": 0, \"ticks\": \"\"}, \"colorscale\": [[0.0, \"#0d0887\"], [0.1111111111111111, \"#46039f\"], [0.2222222222222222, \"#7201a8\"], [0.3333333333333333, \"#9c179e\"], [0.4444444444444444, \"#bd3786\"], [0.5555555555555556, \"#d8576b\"], [0.6666666666666666, \"#ed7953\"], [0.7777777777777778, \"#fb9f3a\"], [0.8888888888888888, \"#fdca26\"], [1.0, \"#f0f921\"]], \"type\": \"histogram2dcontour\"}], \"mesh3d\": [{\"colorbar\": {\"outlinewidth\": 0, \"ticks\": \"\"}, \"type\": \"mesh3d\"}], \"parcoords\": [{\"line\": {\"colorbar\": {\"outlinewidth\": 0, \"ticks\": \"\"}}, \"type\": \"parcoords\"}], \"pie\": [{\"automargin\": true, \"type\": \"pie\"}], \"scatter\": [{\"marker\": {\"colorbar\": {\"outlinewidth\": 0, \"ticks\": \"\"}}, \"type\": \"scatter\"}], \"scatter3d\": [{\"line\": {\"colorbar\": {\"outlinewidth\": 0, \"ticks\": \"\"}}, \"marker\": {\"colorbar\": {\"outlinewidth\": 0, \"ticks\": \"\"}}, \"type\": \"scatter3d\"}], \"scattercarpet\": [{\"marker\": {\"colorbar\": {\"outlinewidth\": 0, \"ticks\": \"\"}}, \"type\": \"scattercarpet\"}], \"scattergeo\": [{\"marker\": {\"colorbar\": {\"outlinewidth\": 0, \"ticks\": \"\"}}, \"type\": \"scattergeo\"}], \"scattergl\": [{\"marker\": {\"colorbar\": {\"outlinewidth\": 0, \"ticks\": \"\"}}, \"type\": \"scattergl\"}], \"scattermapbox\": [{\"marker\": {\"colorbar\": {\"outlinewidth\": 0, \"ticks\": \"\"}}, \"type\": \"scattermapbox\"}], \"scatterpolar\": [{\"marker\": {\"colorbar\": {\"outlinewidth\": 0, \"ticks\": \"\"}}, \"type\": \"scatterpolar\"}], \"scatterpolargl\": [{\"marker\": {\"colorbar\": {\"outlinewidth\": 0, \"ticks\": \"\"}}, \"type\": \"scatterpolargl\"}], \"scatterternary\": [{\"marker\": {\"colorbar\": {\"outlinewidth\": 0, \"ticks\": \"\"}}, \"type\": \"scatterternary\"}], \"surface\": [{\"colorbar\": {\"outlinewidth\": 0, \"ticks\": \"\"}, \"colorscale\": [[0.0, \"#0d0887\"], [0.1111111111111111, \"#46039f\"], [0.2222222222222222, \"#7201a8\"], [0.3333333333333333, \"#9c179e\"], [0.4444444444444444, \"#bd3786\"], [0.5555555555555556, \"#d8576b\"], [0.6666666666666666, \"#ed7953\"], [0.7777777777777778, \"#fb9f3a\"], [0.8888888888888888, \"#fdca26\"], [1.0, \"#f0f921\"]], \"type\": \"surface\"}], \"table\": [{\"cells\": {\"fill\": {\"color\": \"#EBF0F8\"}, \"line\": {\"color\": \"white\"}}, \"header\": {\"fill\": {\"color\": \"#C8D4E3\"}, \"line\": {\"color\": \"white\"}}, \"type\": \"table\"}]}, \"layout\": {\"annotationdefaults\": {\"arrowcolor\": \"#2a3f5f\", \"arrowhead\": 0, \"arrowwidth\": 1}, \"coloraxis\": {\"colorbar\": {\"outlinewidth\": 0, \"ticks\": \"\"}}, \"colorscale\": {\"diverging\": [[0, \"#8e0152\"], [0.1, \"#c51b7d\"], [0.2, \"#de77ae\"], [0.3, \"#f1b6da\"], [0.4, \"#fde0ef\"], [0.5, \"#f7f7f7\"], [0.6, \"#e6f5d0\"], [0.7, \"#b8e186\"], [0.8, \"#7fbc41\"], [0.9, \"#4d9221\"], [1, \"#276419\"]], \"sequential\": [[0.0, \"#0d0887\"], [0.1111111111111111, \"#46039f\"], [0.2222222222222222, \"#7201a8\"], [0.3333333333333333, \"#9c179e\"], [0.4444444444444444, \"#bd3786\"], [0.5555555555555556, \"#d8576b\"], [0.6666666666666666, \"#ed7953\"], [0.7777777777777778, \"#fb9f3a\"], [0.8888888888888888, \"#fdca26\"], [1.0, \"#f0f921\"]], \"sequentialminus\": [[0.0, \"#0d0887\"], [0.1111111111111111, \"#46039f\"], [0.2222222222222222, \"#7201a8\"], [0.3333333333333333, \"#9c179e\"], [0.4444444444444444, \"#bd3786\"], [0.5555555555555556, \"#d8576b\"], [0.6666666666666666, \"#ed7953\"], [0.7777777777777778, \"#fb9f3a\"], [0.8888888888888888, \"#fdca26\"], [1.0, \"#f0f921\"]]}, \"colorway\": [\"#636efa\", \"#EF553B\", \"#00cc96\", \"#ab63fa\", \"#FFA15A\", \"#19d3f3\", \"#FF6692\", \"#B6E880\", \"#FF97FF\", \"#FECB52\"], \"font\": {\"color\": \"#2a3f5f\"}, \"geo\": {\"bgcolor\": \"white\", \"lakecolor\": \"white\", \"landcolor\": \"#E5ECF6\", \"showlakes\": true, \"showland\": true, \"subunitcolor\": \"white\"}, \"hoverlabel\": {\"align\": \"left\"}, \"hovermode\": \"closest\", \"mapbox\": {\"style\": \"light\"}, \"paper_bgcolor\": \"white\", \"plot_bgcolor\": \"#E5ECF6\", \"polar\": {\"angularaxis\": {\"gridcolor\": \"white\", \"linecolor\": \"white\", \"ticks\": \"\"}, \"bgcolor\": \"#E5ECF6\", \"radialaxis\": {\"gridcolor\": \"white\", \"linecolor\": \"white\", \"ticks\": \"\"}}, \"scene\": {\"xaxis\": {\"backgroundcolor\": \"#E5ECF6\", \"gridcolor\": \"white\", \"gridwidth\": 2, \"linecolor\": \"white\", \"showbackground\": true, \"ticks\": \"\", \"zerolinecolor\": \"white\"}, \"yaxis\": {\"backgroundcolor\": \"#E5ECF6\", \"gridcolor\": \"white\", \"gridwidth\": 2, \"linecolor\": \"white\", \"showbackground\": true, \"ticks\": \"\", \"zerolinecolor\": \"white\"}, \"zaxis\": {\"backgroundcolor\": \"#E5ECF6\", \"gridcolor\": \"white\", \"gridwidth\": 2, \"linecolor\": \"white\", \"showbackground\": true, \"ticks\": \"\", \"zerolinecolor\": \"white\"}}, \"shapedefaults\": {\"line\": {\"color\": \"#2a3f5f\"}}, \"ternary\": {\"aaxis\": {\"gridcolor\": \"white\", \"linecolor\": \"white\", \"ticks\": \"\"}, \"baxis\": {\"gridcolor\": \"white\", \"linecolor\": \"white\", \"ticks\": \"\"}, \"bgcolor\": \"#E5ECF6\", \"caxis\": {\"gridcolor\": \"white\", \"linecolor\": \"white\", \"ticks\": \"\"}}, \"title\": {\"x\": 0.05}, \"xaxis\": {\"automargin\": true, \"gridcolor\": \"white\", \"linecolor\": \"white\", \"ticks\": \"\", \"title\": {\"standoff\": 15}, \"zerolinecolor\": \"white\", \"zerolinewidth\": 2}, \"yaxis\": {\"automargin\": true, \"gridcolor\": \"white\", \"linecolor\": \"white\", \"ticks\": \"\", \"title\": {\"standoff\": 15}, \"zerolinecolor\": \"white\", \"zerolinewidth\": 2}}}, \"title\": {\"text\": \"\\uc0c1\\uac00\\uc720\\ubb34\\uc5d0 \\ub530\\ub978 \\ucd1d\\uc138\\ub300\\uc218, \\ub2e8\\uc9c0\\ub0b4\\uc8fc\\ucc28\\uba74\\uc218 \\ubd84\\ud3ec\"}, \"xaxis\": {\"anchor\": \"y\", \"domain\": [0.0, 1.0], \"title\": {\"text\": \"1M^2\\ub2f9_\\uc138\\ub300\\uc218*100\"}}, \"yaxis\": {\"anchor\": \"x\", \"domain\": [0.0, 1.0], \"title\": {\"text\": \"\\ub4f1\\ub85d\\ucc28\\ub7c9\\uc218\"}}},\n",
              "                        {\"responsive\": true}\n",
              "                    ).then(function(){\n",
              "                            \n",
              "var gd = document.getElementById('8a3280d4-1cb2-4c79-a3af-807dff035298');\n",
              "var x = new MutationObserver(function (mutations, observer) {{\n",
              "        var display = window.getComputedStyle(gd).display;\n",
              "        if (!display || display === 'none') {{\n",
              "            console.log([gd, 'removed!']);\n",
              "            Plotly.purge(gd);\n",
              "            observer.disconnect();\n",
              "        }}\n",
              "}});\n",
              "\n",
              "// Listen for the removal of the full notebook cells\n",
              "var notebookContainer = gd.closest('#notebook-container');\n",
              "if (notebookContainer) {{\n",
              "    x.observe(notebookContainer, {childList: true});\n",
              "}}\n",
              "\n",
              "// Listen for the clearing of the current output cell\n",
              "var outputEl = gd.closest('.output');\n",
              "if (outputEl) {{\n",
              "    x.observe(outputEl, {childList: true});\n",
              "}}\n",
              "\n",
              "                        })\n",
              "                };\n",
              "                \n",
              "            </script>\n",
              "        </div>\n",
              "</body>\n",
              "</html>"
            ]
          },
          "metadata": {}
        }
      ]
    },
    {
      "cell_type": "code",
      "metadata": {
        "colab": {
          "base_uri": "https://localhost:8080/"
        },
        "id": "hxMKhBoOPS8R",
        "outputId": "cd40107f-db0f-4978-f105-392afbb31522"
      },
      "source": [
        "max_apart_type = raw_train_store.groupby('단지코드')['전용면적','1M^2당_세대수*100','등록차량수'].max().reset_index()\n",
        "max_apart_type['아파트유형'] = max_apart_type['전용면적'].apply(lambda x: apart_type(x))\n",
        "del max_apart_type['전용면적']\n",
        "max_apart_type['아파트유형'].value_counts()"
      ],
      "execution_count": 516,
      "outputs": [
        {
          "output_type": "execute_result",
          "data": {
            "text/plain": [
              "소형     217\n",
              "초소형    178\n",
              "중대형     28\n",
              "Name: 아파트유형, dtype: int64"
            ]
          },
          "metadata": {},
          "execution_count": 516
        }
      ]
    },
    {
      "cell_type": "code",
      "metadata": {
        "colab": {
          "base_uri": "https://localhost:8080/",
          "height": 542
        },
        "id": "LdVElDOc_StD",
        "outputId": "d55f4b45-a949-4960-a807-ec5b8f1823a3"
      },
      "source": [
        "fig = go.Figure()\n",
        "fig = px.histogram(max_apart_type, x = '등록차량수', color='아파트유형',\n",
        "                            color_discrete_sequence=px.colors.qualitative.Alphabet)\n",
        "fig.update_layout(title='아파트유형에 따른 등록차량수') #autosize =, width = 1000, height = 500)"
      ],
      "execution_count": 517,
      "outputs": [
        {
          "output_type": "display_data",
          "data": {
            "text/html": [
              "<html>\n",
              "<head><meta charset=\"utf-8\" /></head>\n",
              "<body>\n",
              "    <div>\n",
              "            <script src=\"https://cdnjs.cloudflare.com/ajax/libs/mathjax/2.7.5/MathJax.js?config=TeX-AMS-MML_SVG\"></script><script type=\"text/javascript\">if (window.MathJax) {MathJax.Hub.Config({SVG: {font: \"STIX-Web\"}});}</script>\n",
              "                <script type=\"text/javascript\">window.PlotlyConfig = {MathJaxConfig: 'local'};</script>\n",
              "        <script src=\"https://cdn.plot.ly/plotly-latest.min.js\"></script>    \n",
              "            <div id=\"3f5a27ff-b0ce-4540-9e17-ea96f2578393\" class=\"plotly-graph-div\" style=\"height:525px; width:100%;\"></div>\n",
              "            <script type=\"text/javascript\">\n",
              "                \n",
              "                    window.PLOTLYENV=window.PLOTLYENV || {};\n",
              "                    \n",
              "                if (document.getElementById(\"3f5a27ff-b0ce-4540-9e17-ea96f2578393\")) {\n",
              "                    Plotly.newPlot(\n",
              "                        '3f5a27ff-b0ce-4540-9e17-ea96f2578393',\n",
              "                        [{\"alignmentgroup\": \"True\", \"bingroup\": \"x\", \"hoverlabel\": {\"namelength\": 0}, \"hovertemplate\": \"\\uc544\\ud30c\\ud2b8\\uc720\\ud615=\\uc18c\\ud615<br>\\ub4f1\\ub85d\\ucc28\\ub7c9\\uc218=%{x}<br>count=%{y}\", \"legendgroup\": \"\\uc544\\ud30c\\ud2b8\\uc720\\ud615=\\uc18c\\ud615\", \"marker\": {\"color\": \"#AA0DFE\"}, \"name\": \"\\uc544\\ud30c\\ud2b8\\uc720\\ud615=\\uc18c\\ud615\", \"offsetgroup\": \"\\uc544\\ud30c\\ud2b8\\uc720\\ud615=\\uc18c\\ud615\", \"orientation\": \"v\", \"showlegend\": true, \"type\": \"histogram\", \"x\": [481.0, 376.0, 1665.0, 708.0, 579.0, 422.0, 316.0, 1279.0, 645.0, 156.0, 762.0, 521.0, 510.0, 236.0, 226.0, 309.0, 505.0, 417.0, 787.0, 1668.0, 1019.0, 842.0, 763.0, 620.0, 373.0, 700.0, 609.0, 430.0, 1044.0, 311.0, 488.0, 585.0, 823.0, 311.0, 1804.0, 934.0, 643.0, 780.0, 504.0, 446.0, 1084.0, 22.0, 398.0, 770.0, 554.0, 551.0, 549.0, 375.0, 945.0, 861.0, 754.0, 1595.0, 1350.0, 1064.0, 815.0, 262.0, 333.0, 839.0, 1284.0, 553.0, 505.0, 1150.0, 669.0, 284.0, 479.0, 1158.0, 739.0, 308.0, 498.0, 413.0, 268.0, 236.0, 257.0, 512.0, 700.0, 465.0, 288.0, 873.0, 1101.0, 520.0, 960.0, 1087.0, 606.0, 979.0, 362.0, 566.0, 496.0, 682.0, 979.0, 730.0, 460.0, 670.0, 614.0, 570.0, 412.0, 1983.0, 272.0, 1001.0, 255.0, 398.0, 277.0, 625.0, 116.0, 613.0, 374.0, 713.0, 761.0, 808.0, 845.0, 415.0, 596.0, 831.0, 752.0, 413.0, 234.0, 709.0, 730.0, 401.0, 500.0, 457.0, 630.0, 166.0, 496.0, 795.0, 548.0, 902.0, 1162.0, 258.0, 1306.0, 841.0, 723.0, 594.0, 735.0, 1398.0, 301.0, 822.0, 572.0, 995.0, 383.0, 671.0, 403.0, 328.0, 204.0, 347.0, 745.0, 683.0, 840.0, 505.0, 248.0, 870.0, 344.0, 540.0, 1159.0, 284.0, 244.0, 266.0, 293.0, 1374.0, 821.0, 562.0, 553.0, 646.0, 345.0, 1117.0, 548.0, 451.0, 800.0, 579.0, 901.0, 832.0, 552.0, 561.0, 422.0, 254.0, 19.0, 487.0, 1200.0, 505.0, 334.0, 451.0, 910.0, 793.0, 887.0, 647.0, 1015.0, 587.0, 950.0, 340.0, 585.0, 763.0, 820.0, 648.0, 205.0, 305.0, 610.0, 321.0, 375.0, 302.0, 146.0, 799.0, 481.0, 441.0, 1090.0, 826.0, 73.0, 751.0, 589.0, 480.0, 281.0, 509.0, 133.0, 638.0, 442.0, 782.0, 652.0, 435.0, 437.0], \"xaxis\": \"x\", \"yaxis\": \"y\"}, {\"alignmentgroup\": \"True\", \"bingroup\": \"x\", \"hoverlabel\": {\"namelength\": 0}, \"hovertemplate\": \"\\uc544\\ud30c\\ud2b8\\uc720\\ud615=\\ucd08\\uc18c\\ud615<br>\\ub4f1\\ub85d\\ucc28\\ub7c9\\uc218=%{x}<br>count=%{y}\", \"legendgroup\": \"\\uc544\\ud30c\\ud2b8\\uc720\\ud615=\\ucd08\\uc18c\\ud615\", \"marker\": {\"color\": \"#3283FE\"}, \"name\": \"\\uc544\\ud30c\\ud2b8\\uc720\\ud615=\\ucd08\\uc18c\\ud615\", \"offsetgroup\": \"\\uc544\\ud30c\\ud2b8\\uc720\\ud615=\\ucd08\\uc18c\\ud615\", \"orientation\": \"v\", \"showlegend\": true, \"type\": \"histogram\", \"x\": [93.0, 1246.0, 450.0, 207.0, 266.0, 243.0, 125.0, 246.0, 1255.0, 521.0, 313.0, 1077.0, 632.0, 505.0, 326.0, 619.0, 90.0, 59.0, 586.0, 148.0, 921.0, 657.0, 616.0, 217.0, 484.0, 202.0, 359.0, 924.0, 1153.0, 410.0, 442.0, 2550.0, 294.0, 1145.0, 271.0, 179.0, 172.0, 1044.0, 420.0, 557.0, 810.0, 70.0, 296.0, 382.0, 438.0, 475.0, 235.0, 588.0, 528.0, 507.0, 718.0, 98.0, 1101.0, 297.0, 509.0, 416.0, 526.0, 322.0, 164.0, 349.0, 123.0, 65.0, 131.0, 649.0, 701.0, 267.0, 508.0, 96.0, 345.0, 120.0, 78.0, 652.0, 254.0, 733.0, 135.0, 408.0, 62.0, 209.0, 616.0, 419.0, 31.0, 207.0, 396.0, 75.0, 1896.0, 639.0, 220.0, 886.0, 159.0, 133.0, 253.0, 402.0, 417.0, 690.0, 91.0, 220.0, 19.0, 132.0, 246.0, 108.0, 757.0, 13.0, 503.0, 318.0, 525.0, 353.0, 60.0, 359.0, 127.0, 752.0, 155.0, 495.0, 396.0, 280.0, 124.0, 744.0, 125.0, 129.0, 324.0, 226.0, 244.0, 86.0, 149.0, 359.0, 448.0, 55.0, 98.0, 410.0, 78.0, 713.0, 364.0, 444.0, 189.0, 343.0, 712.0, 557.0, 382.0, 793.0, 1010.0, 693.0, 196.0, 922.0, 63.0, 359.0, 130.0, 16.0, 1204.0, 559.0, 302.0, 1023.0, 327.0, 163.0, 568.0, 386.0, 358.0, 47.0, 228.0, 165.0, 148.0, 449.0, 189.0, 205.0, 62.0, 982.0, 57.0, 94.0, 572.0, 555.0, 1832.0, 783.0, 404.0, 177.0, 159.0, 282.0, 365.0, 330.0, 701.0, 590.0], \"xaxis\": \"x\", \"yaxis\": \"y\"}, {\"alignmentgroup\": \"True\", \"bingroup\": \"x\", \"hoverlabel\": {\"namelength\": 0}, \"hovertemplate\": \"\\uc544\\ud30c\\ud2b8\\uc720\\ud615=\\uc911\\ub300\\ud615<br>\\ub4f1\\ub85d\\ucc28\\ub7c9\\uc218=%{x}<br>count=%{y}\", \"legendgroup\": \"\\uc544\\ud30c\\ud2b8\\uc720\\ud615=\\uc911\\ub300\\ud615\", \"marker\": {\"color\": \"#85660D\"}, \"name\": \"\\uc544\\ud30c\\ud2b8\\uc720\\ud615=\\uc911\\ub300\\ud615\", \"offsetgroup\": \"\\uc544\\ud30c\\ud2b8\\uc720\\ud615=\\uc911\\ub300\\ud615\", \"orientation\": \"v\", \"showlegend\": true, \"type\": \"histogram\", \"x\": [957.0, 881.0, 509.0, 2315.0, 995.0, 498.0, 899.0, 713.0, 946.0, 855.0, 854.0, 979.0, 1653.0, 609.0, 951.0, 1730.0, 600.0, 336.0, 780.0, 1595.0, 1524.0, 719.0, 1378.0, 1240.0, 1400.0, 1433.0, 1359.0, 1709.0], \"xaxis\": \"x\", \"yaxis\": \"y\"}],\n",
              "                        {\"barmode\": \"relative\", \"legend\": {\"tracegroupgap\": 0}, \"margin\": {\"t\": 60}, \"template\": {\"data\": {\"bar\": [{\"error_x\": {\"color\": \"#2a3f5f\"}, \"error_y\": {\"color\": \"#2a3f5f\"}, \"marker\": {\"line\": {\"color\": \"#E5ECF6\", \"width\": 0.5}}, \"type\": \"bar\"}], \"barpolar\": [{\"marker\": {\"line\": {\"color\": \"#E5ECF6\", \"width\": 0.5}}, \"type\": \"barpolar\"}], \"carpet\": [{\"aaxis\": {\"endlinecolor\": \"#2a3f5f\", \"gridcolor\": \"white\", \"linecolor\": \"white\", \"minorgridcolor\": \"white\", \"startlinecolor\": \"#2a3f5f\"}, \"baxis\": {\"endlinecolor\": \"#2a3f5f\", \"gridcolor\": \"white\", \"linecolor\": \"white\", \"minorgridcolor\": \"white\", \"startlinecolor\": \"#2a3f5f\"}, \"type\": \"carpet\"}], \"choropleth\": [{\"colorbar\": {\"outlinewidth\": 0, \"ticks\": \"\"}, \"type\": \"choropleth\"}], \"contour\": [{\"colorbar\": {\"outlinewidth\": 0, \"ticks\": \"\"}, \"colorscale\": [[0.0, \"#0d0887\"], [0.1111111111111111, \"#46039f\"], [0.2222222222222222, \"#7201a8\"], [0.3333333333333333, \"#9c179e\"], [0.4444444444444444, \"#bd3786\"], [0.5555555555555556, \"#d8576b\"], [0.6666666666666666, \"#ed7953\"], [0.7777777777777778, \"#fb9f3a\"], [0.8888888888888888, \"#fdca26\"], [1.0, \"#f0f921\"]], \"type\": \"contour\"}], \"contourcarpet\": [{\"colorbar\": {\"outlinewidth\": 0, \"ticks\": \"\"}, \"type\": \"contourcarpet\"}], \"heatmap\": [{\"colorbar\": {\"outlinewidth\": 0, \"ticks\": \"\"}, \"colorscale\": [[0.0, \"#0d0887\"], [0.1111111111111111, \"#46039f\"], [0.2222222222222222, \"#7201a8\"], [0.3333333333333333, \"#9c179e\"], [0.4444444444444444, \"#bd3786\"], [0.5555555555555556, \"#d8576b\"], [0.6666666666666666, \"#ed7953\"], [0.7777777777777778, \"#fb9f3a\"], [0.8888888888888888, \"#fdca26\"], [1.0, \"#f0f921\"]], \"type\": \"heatmap\"}], \"heatmapgl\": [{\"colorbar\": {\"outlinewidth\": 0, \"ticks\": \"\"}, \"colorscale\": [[0.0, \"#0d0887\"], [0.1111111111111111, \"#46039f\"], [0.2222222222222222, \"#7201a8\"], [0.3333333333333333, \"#9c179e\"], [0.4444444444444444, \"#bd3786\"], [0.5555555555555556, \"#d8576b\"], [0.6666666666666666, \"#ed7953\"], [0.7777777777777778, \"#fb9f3a\"], [0.8888888888888888, \"#fdca26\"], [1.0, \"#f0f921\"]], \"type\": \"heatmapgl\"}], \"histogram\": [{\"marker\": {\"colorbar\": {\"outlinewidth\": 0, \"ticks\": \"\"}}, \"type\": \"histogram\"}], \"histogram2d\": [{\"colorbar\": {\"outlinewidth\": 0, \"ticks\": \"\"}, \"colorscale\": [[0.0, \"#0d0887\"], [0.1111111111111111, \"#46039f\"], [0.2222222222222222, \"#7201a8\"], [0.3333333333333333, \"#9c179e\"], [0.4444444444444444, \"#bd3786\"], [0.5555555555555556, \"#d8576b\"], [0.6666666666666666, \"#ed7953\"], [0.7777777777777778, \"#fb9f3a\"], [0.8888888888888888, \"#fdca26\"], [1.0, \"#f0f921\"]], \"type\": \"histogram2d\"}], \"histogram2dcontour\": [{\"colorbar\": {\"outlinewidth\": 0, \"ticks\": \"\"}, \"colorscale\": [[0.0, \"#0d0887\"], [0.1111111111111111, \"#46039f\"], [0.2222222222222222, \"#7201a8\"], [0.3333333333333333, \"#9c179e\"], [0.4444444444444444, \"#bd3786\"], [0.5555555555555556, \"#d8576b\"], [0.6666666666666666, \"#ed7953\"], [0.7777777777777778, \"#fb9f3a\"], [0.8888888888888888, \"#fdca26\"], [1.0, \"#f0f921\"]], \"type\": \"histogram2dcontour\"}], \"mesh3d\": [{\"colorbar\": {\"outlinewidth\": 0, \"ticks\": \"\"}, \"type\": \"mesh3d\"}], \"parcoords\": [{\"line\": {\"colorbar\": {\"outlinewidth\": 0, \"ticks\": \"\"}}, \"type\": \"parcoords\"}], \"pie\": [{\"automargin\": true, \"type\": \"pie\"}], \"scatter\": [{\"marker\": {\"colorbar\": {\"outlinewidth\": 0, \"ticks\": \"\"}}, \"type\": \"scatter\"}], \"scatter3d\": [{\"line\": {\"colorbar\": {\"outlinewidth\": 0, \"ticks\": \"\"}}, \"marker\": {\"colorbar\": {\"outlinewidth\": 0, \"ticks\": \"\"}}, \"type\": \"scatter3d\"}], \"scattercarpet\": [{\"marker\": {\"colorbar\": {\"outlinewidth\": 0, \"ticks\": \"\"}}, \"type\": \"scattercarpet\"}], \"scattergeo\": [{\"marker\": {\"colorbar\": {\"outlinewidth\": 0, \"ticks\": \"\"}}, \"type\": \"scattergeo\"}], \"scattergl\": [{\"marker\": {\"colorbar\": {\"outlinewidth\": 0, \"ticks\": \"\"}}, \"type\": \"scattergl\"}], \"scattermapbox\": [{\"marker\": {\"colorbar\": {\"outlinewidth\": 0, \"ticks\": \"\"}}, \"type\": \"scattermapbox\"}], \"scatterpolar\": [{\"marker\": {\"colorbar\": {\"outlinewidth\": 0, \"ticks\": \"\"}}, \"type\": \"scatterpolar\"}], \"scatterpolargl\": [{\"marker\": {\"colorbar\": {\"outlinewidth\": 0, \"ticks\": \"\"}}, \"type\": \"scatterpolargl\"}], \"scatterternary\": [{\"marker\": {\"colorbar\": {\"outlinewidth\": 0, \"ticks\": \"\"}}, \"type\": \"scatterternary\"}], \"surface\": [{\"colorbar\": {\"outlinewidth\": 0, \"ticks\": \"\"}, \"colorscale\": [[0.0, \"#0d0887\"], [0.1111111111111111, \"#46039f\"], [0.2222222222222222, \"#7201a8\"], [0.3333333333333333, \"#9c179e\"], [0.4444444444444444, \"#bd3786\"], [0.5555555555555556, \"#d8576b\"], [0.6666666666666666, \"#ed7953\"], [0.7777777777777778, \"#fb9f3a\"], [0.8888888888888888, \"#fdca26\"], [1.0, \"#f0f921\"]], \"type\": \"surface\"}], \"table\": [{\"cells\": {\"fill\": {\"color\": \"#EBF0F8\"}, \"line\": {\"color\": \"white\"}}, \"header\": {\"fill\": {\"color\": \"#C8D4E3\"}, \"line\": {\"color\": \"white\"}}, \"type\": \"table\"}]}, \"layout\": {\"annotationdefaults\": {\"arrowcolor\": \"#2a3f5f\", \"arrowhead\": 0, \"arrowwidth\": 1}, \"coloraxis\": {\"colorbar\": {\"outlinewidth\": 0, \"ticks\": \"\"}}, \"colorscale\": {\"diverging\": [[0, \"#8e0152\"], [0.1, \"#c51b7d\"], [0.2, \"#de77ae\"], [0.3, \"#f1b6da\"], [0.4, \"#fde0ef\"], [0.5, \"#f7f7f7\"], [0.6, \"#e6f5d0\"], [0.7, \"#b8e186\"], [0.8, \"#7fbc41\"], [0.9, \"#4d9221\"], [1, \"#276419\"]], \"sequential\": [[0.0, \"#0d0887\"], [0.1111111111111111, \"#46039f\"], [0.2222222222222222, \"#7201a8\"], [0.3333333333333333, \"#9c179e\"], [0.4444444444444444, \"#bd3786\"], [0.5555555555555556, \"#d8576b\"], [0.6666666666666666, \"#ed7953\"], [0.7777777777777778, \"#fb9f3a\"], [0.8888888888888888, \"#fdca26\"], [1.0, \"#f0f921\"]], \"sequentialminus\": [[0.0, \"#0d0887\"], [0.1111111111111111, \"#46039f\"], [0.2222222222222222, \"#7201a8\"], [0.3333333333333333, \"#9c179e\"], [0.4444444444444444, \"#bd3786\"], [0.5555555555555556, \"#d8576b\"], [0.6666666666666666, \"#ed7953\"], [0.7777777777777778, \"#fb9f3a\"], [0.8888888888888888, \"#fdca26\"], [1.0, \"#f0f921\"]]}, \"colorway\": [\"#636efa\", \"#EF553B\", \"#00cc96\", \"#ab63fa\", \"#FFA15A\", \"#19d3f3\", \"#FF6692\", \"#B6E880\", \"#FF97FF\", \"#FECB52\"], \"font\": {\"color\": \"#2a3f5f\"}, \"geo\": {\"bgcolor\": \"white\", \"lakecolor\": \"white\", \"landcolor\": \"#E5ECF6\", \"showlakes\": true, \"showland\": true, \"subunitcolor\": \"white\"}, \"hoverlabel\": {\"align\": \"left\"}, \"hovermode\": \"closest\", \"mapbox\": {\"style\": \"light\"}, \"paper_bgcolor\": \"white\", \"plot_bgcolor\": \"#E5ECF6\", \"polar\": {\"angularaxis\": {\"gridcolor\": \"white\", \"linecolor\": \"white\", \"ticks\": \"\"}, \"bgcolor\": \"#E5ECF6\", \"radialaxis\": {\"gridcolor\": \"white\", \"linecolor\": \"white\", \"ticks\": \"\"}}, \"scene\": {\"xaxis\": {\"backgroundcolor\": \"#E5ECF6\", \"gridcolor\": \"white\", \"gridwidth\": 2, \"linecolor\": \"white\", \"showbackground\": true, \"ticks\": \"\", \"zerolinecolor\": \"white\"}, \"yaxis\": {\"backgroundcolor\": \"#E5ECF6\", \"gridcolor\": \"white\", \"gridwidth\": 2, \"linecolor\": \"white\", \"showbackground\": true, \"ticks\": \"\", \"zerolinecolor\": \"white\"}, \"zaxis\": {\"backgroundcolor\": \"#E5ECF6\", \"gridcolor\": \"white\", \"gridwidth\": 2, \"linecolor\": \"white\", \"showbackground\": true, \"ticks\": \"\", \"zerolinecolor\": \"white\"}}, \"shapedefaults\": {\"line\": {\"color\": \"#2a3f5f\"}}, \"ternary\": {\"aaxis\": {\"gridcolor\": \"white\", \"linecolor\": \"white\", \"ticks\": \"\"}, \"baxis\": {\"gridcolor\": \"white\", \"linecolor\": \"white\", \"ticks\": \"\"}, \"bgcolor\": \"#E5ECF6\", \"caxis\": {\"gridcolor\": \"white\", \"linecolor\": \"white\", \"ticks\": \"\"}}, \"title\": {\"x\": 0.05}, \"xaxis\": {\"automargin\": true, \"gridcolor\": \"white\", \"linecolor\": \"white\", \"ticks\": \"\", \"title\": {\"standoff\": 15}, \"zerolinecolor\": \"white\", \"zerolinewidth\": 2}, \"yaxis\": {\"automargin\": true, \"gridcolor\": \"white\", \"linecolor\": \"white\", \"ticks\": \"\", \"title\": {\"standoff\": 15}, \"zerolinecolor\": \"white\", \"zerolinewidth\": 2}}}, \"title\": {\"text\": \"\\uc544\\ud30c\\ud2b8\\uc720\\ud615\\uc5d0 \\ub530\\ub978 \\ub4f1\\ub85d\\ucc28\\ub7c9\\uc218\"}, \"xaxis\": {\"anchor\": \"y\", \"domain\": [0.0, 1.0], \"title\": {\"text\": \"\\ub4f1\\ub85d\\ucc28\\ub7c9\\uc218\"}}, \"yaxis\": {\"anchor\": \"x\", \"domain\": [0.0, 1.0], \"title\": {\"text\": \"count\"}}},\n",
              "                        {\"responsive\": true}\n",
              "                    ).then(function(){\n",
              "                            \n",
              "var gd = document.getElementById('3f5a27ff-b0ce-4540-9e17-ea96f2578393');\n",
              "var x = new MutationObserver(function (mutations, observer) {{\n",
              "        var display = window.getComputedStyle(gd).display;\n",
              "        if (!display || display === 'none') {{\n",
              "            console.log([gd, 'removed!']);\n",
              "            Plotly.purge(gd);\n",
              "            observer.disconnect();\n",
              "        }}\n",
              "}});\n",
              "\n",
              "// Listen for the removal of the full notebook cells\n",
              "var notebookContainer = gd.closest('#notebook-container');\n",
              "if (notebookContainer) {{\n",
              "    x.observe(notebookContainer, {childList: true});\n",
              "}}\n",
              "\n",
              "// Listen for the clearing of the current output cell\n",
              "var outputEl = gd.closest('.output');\n",
              "if (outputEl) {{\n",
              "    x.observe(outputEl, {childList: true});\n",
              "}}\n",
              "\n",
              "                        })\n",
              "                };\n",
              "                \n",
              "            </script>\n",
              "        </div>\n",
              "</body>\n",
              "</html>"
            ]
          },
          "metadata": {}
        }
      ]
    },
    {
      "cell_type": "code",
      "metadata": {
        "colab": {
          "base_uri": "https://localhost:8080/",
          "height": 542
        },
        "id": "oyjGj9eOEBh0",
        "outputId": "bfd0de3e-ccda-4fa5-9755-d140e5e7a725"
      },
      "source": [
        "fig = go.Figure()\n",
        "fig = px.scatter(max_apart_type, x = '1M^2당_세대수*100', y='등록차량수', color='아파트유형', text='단지코드',\n",
        "                            color_discrete_sequence=px.colors.qualitative.Alphabet)\n",
        "fig.update_layout(title='아파트유형별 1M^2당_세대수*100, 등록차량수 분포') #autosize =, width = 1000, height = 500)"
      ],
      "execution_count": 527,
      "outputs": [
        {
          "output_type": "display_data",
          "data": {
            "text/html": [
              "<html>\n",
              "<head><meta charset=\"utf-8\" /></head>\n",
              "<body>\n",
              "    <div>\n",
              "            <script src=\"https://cdnjs.cloudflare.com/ajax/libs/mathjax/2.7.5/MathJax.js?config=TeX-AMS-MML_SVG\"></script><script type=\"text/javascript\">if (window.MathJax) {MathJax.Hub.Config({SVG: {font: \"STIX-Web\"}});}</script>\n",
              "                <script type=\"text/javascript\">window.PlotlyConfig = {MathJaxConfig: 'local'};</script>\n",
              "        <script src=\"https://cdn.plot.ly/plotly-latest.min.js\"></script>    \n",
              "            <div id=\"d85aff9e-b7b5-4604-b7f2-5020817c3bcd\" class=\"plotly-graph-div\" style=\"height:525px; width:100%;\"></div>\n",
              "            <script type=\"text/javascript\">\n",
              "                \n",
              "                    window.PLOTLYENV=window.PLOTLYENV || {};\n",
              "                    \n",
              "                if (document.getElementById(\"d85aff9e-b7b5-4604-b7f2-5020817c3bcd\")) {\n",
              "                    Plotly.newPlot(\n",
              "                        'd85aff9e-b7b5-4604-b7f2-5020817c3bcd',\n",
              "                        [{\"hoverlabel\": {\"namelength\": 0}, \"hovertemplate\": \"\\uc544\\ud30c\\ud2b8\\uc720\\ud615=\\uc18c\\ud615<br>1M^2\\ub2f9_\\uc138\\ub300\\uc218*100=%{x}<br>\\ub4f1\\ub85d\\ucc28\\ub7c9\\uc218=%{y}<br>\\ub2e8\\uc9c0\\ucf54\\ub4dc=%{text}\", \"legendgroup\": \"\\uc544\\ud30c\\ud2b8\\uc720\\ud615=\\uc18c\\ud615\", \"marker\": {\"color\": \"#AA0DFE\", \"symbol\": \"circle\"}, \"mode\": \"markers+text\", \"name\": \"\\uc544\\ud30c\\ud2b8\\uc720\\ud615=\\uc18c\\ud615\", \"showlegend\": true, \"text\": [\"C1000\", \"C1005\", \"C1013\", \"C1014\", \"C1015\", \"C1026\", \"C1032\", \"C1036\", \"C1039\", \"C1046\", \"C1049\", \"C1057\", \"C1068\", \"C1077\", \"C1084\", \"C1089\", \"C1095\", \"C1102\", \"C1103\", \"C1129\", \"C1131\", \"C1133\", \"C1136\", \"C1141\", \"C1155\", \"C1171\", \"C1173\", \"C1175\", \"C1177\", \"C1180\", \"C1184\", \"C1194\", \"C1227\", \"C1234\", \"C1244\", \"C1268\", \"C1269\", \"C1284\", \"C1307\", \"C1309\", \"C1310\", \"C1316\", \"C1319\", \"C1328\", \"C1329\", \"C1338\", \"C1343\", \"C1360\", \"C1365\", \"C1368\", \"C1375\", \"C1397\", \"C1406\", \"C1407\", \"C1410\", \"C1426\", \"C1428\", \"C1430\", \"C1448\", \"C1470\", \"C1487\", \"C1527\", \"C1537\", \"C1566\", \"C1572\", \"C1579\", \"C1592\", \"C1601\", \"C1613\", \"C1638\", \"C1641\", \"C1655\", \"C1656\", \"C1660\", \"C1663\", \"C1666\", \"C1668\", \"C1672\", \"C1677\", \"C1681\", \"C1689\", \"C1693\", \"C1699\", \"C1700\", \"C1706\", \"C1713\", \"C1718\", \"C1738\", \"C1744\", \"C1761\", \"C1762\", \"C1768\", \"C1773\", \"C1783\", \"C1788\", \"C1802\", \"C1819\", \"C1833\", \"C1834\", \"C1837\", \"C1845\", \"C1848\", \"C1859\", \"C1861\", \"C1867\", \"C1879\", \"C1880\", \"C1889\", \"C1896\", \"C1898\", \"C1900\", \"C1911\", \"C1916\", \"C1929\", \"C1936\", \"C1940\", \"C1945\", \"C1962\", \"C1965\", \"C1973\", \"C1985\", \"C1987\", \"C1994\", \"C2000\", \"C2008\", \"C2021\", \"C2032\", \"C2036\", \"C2046\", \"C2049\", \"C2055\", \"C2068\", \"C2070\", \"C2071\", \"C2073\", \"C2082\", \"C2089\", \"C2097\", \"C2099\", \"C2100\", \"C2127\", \"C2133\", \"C2156\", \"C2162\", \"C2173\", \"C2181\", \"C2208\", \"C2227\", \"C2232\", \"C2251\", \"C2256\", \"C2262\", \"C2276\", \"C2287\", \"C2308\", \"C2319\", \"C2325\", \"C2328\", \"C2329\", \"C2336\", \"C2346\", \"C2351\", \"C2357\", \"C2361\", \"C2368\", \"C2371\", \"C2373\", \"C2377\", \"C2378\", \"C2383\", \"C2385\", \"C2389\", \"C2390\", \"C2394\", \"C2401\", \"C2412\", \"C2414\", \"C2420\", \"C2445\", \"C2450\", \"C2458\", \"C2460\", \"C2470\", \"C2479\", \"C2483\", \"C2486\", \"C2489\", \"C2490\", \"C2492\", \"C2507\", \"C2513\", \"C2514\", \"C2515\", \"C2518\", \"C2522\", \"C2526\", \"C2527\", \"C2530\", \"C2532\", \"C2538\", \"C2560\", \"C2561\", \"C2565\", \"C2574\", \"C2576\", \"C2579\", \"C2587\", \"C2596\", \"C2601\", \"C2603\", \"C2621\", \"C2631\", \"C2635\", \"C2657\", \"C2663\", \"C2670\", \"C2692\"], \"type\": \"scatter\", \"x\": [178.8140144694026, 701.49619818494, 566.9455160157775, 289.0056002089197, 260.8719257288669, 259.7402597402597, 305.2991673659072, 226.14367132973697, 171.14384748700175, 185.34792681952547, 296.8949009618341, 273.3760100745094, 308.4882161333589, 635.5181576616476, 95.61535309383964, 136.1853304714677, 362.63894903998846, 192.6341427411617, 567.1478830522868, 312.22296698306985, 404.54382183908046, 339.211412720428, 608.2710020399334, 223.82491917433472, 230.18844760910935, 116.309412861137, 138.44102315432173, 294.87744943607834, 246.58506297676067, 191.76743617930865, 143.69078245592019, 191.45747470962905, 213.42512908777968, 275.5092883424571, 289.33882214567757, 367.60788492274907, 302.8176616646875, 441.3239719157472, 133.65029054410985, 115.80093124508677, 261.3341397646229, 125.16083752485672, 197.38936644380775, 214.56071289527188, 275.4487725760783, 135.47361313789125, 147.8743068391867, 162.1463343215841, 165.37516537516538, 470.14377164445375, 215.4485428051002, 131.71947312210753, 273.4472281715396, 267.9653584257035, 267.30740351404114, 199.19045590115041, 114.27700746609784, 686.858730229849, 241.96695720046836, 404.8159134531495, 493.5391241923905, 377.35849056603774, 306.9789009969858, 181.5181518151815, 392.7733065057009, 241.76088525378879, 301.2674007895284, 113.22308378508201, 515.0846210448859, 191.81486371049158, 151.02999252855162, 268.95657809462085, 152.23187408617872, 193.7974034386893, 297.6080103838309, 172.35922779170826, 170.0997136252286, 1210.6537530266344, 241.2484183888655, 144.17235886498017, 254.92970604345447, 405.7267884322679, 226.88188263689844, 536.6080782213945, 202.56788409820422, 268.33558309813066, 761.9143984620055, 414.66102186394477, 307.5426519006285, 213.71769383697813, 282.1546353975815, 455.80978017048005, 210.33127175301104, 247.43814046488376, 337.0383650053783, 219.62245708351148, 201.5390252839868, 467.6197332784806, 242.00133620369684, 176.4261428031734, 168.7717169488721, 182.64840182648402, 1464.1171784028925, 435.71608992169735, 277.24391739930485, 290.7262021589794, 294.34941825429934, 514.869512441837, 254.38565150594874, 221.56977882168724, 164.07212453802217, 279.3120763243786, 440.4620533304545, 168.56819817041833, 115.62364503540974, 217.2453989897206, 249.1255856926021, 186.94108659506583, 215.8086323452938, 275.36751523843674, 484.96282321606924, 100.61544844754857, 218.18365900577095, 414.8583099310697, 173.2014548035128, 145.90405650996126, 203.91411414006134, 127.62987336723504, 370.8448298515307, 421.878832474859, 278.96066402020926, 389.4821861258189, 366.7851162030797, 353.99712781235036, 128.97002607981136, 372.54676037945995, 356.38869336494645, 325.3569798526439, 138.24692900270662, 262.81208935611033, 258.1216121538405, 128.112594731144, 238.18820773135494, 228.41089532185168, 208.54075289938922, 321.889996308601, 241.90894130554037, 149.98585039147252, 190.501744030051, 183.5166428467864, 188.22771411477748, 198.30886605888668, 655.5772994129157, 126.23456790123457, 174.3332517739173, 281.0032512772875, 161.37295081967213, 263.43467945111655, 626.1801790826584, 143.6547268050938, 216.66537236934067, 199.76411617278492, 206.99029126213594, 226.9739385971696, 251.13415424497728, 133.81136549699346, 331.7979545631978, 407.9146517036435, 367.01363962670496, 177.00348432055753, 225.134068602651, 270.7368751471396, 172.72239126543764, 76.22244847417517, 145.3924914675768, 260.9331444500297, 385.1444291609354, 135.68480745821086, 295.3119232189, 173.09346330275227, 248.65904850746267, 390.5979951607328, 276.83076503477423, 215.52818689690199, 225.5582566852961, 142.11262848043236, 712.9313613955253, 271.0221663824822, 250.56947608200457, 220.99615460611312, 484.2957158455906, 169.10250784757147, 175.56858449842144, 305.17272239126544, 230.55555555555554, 149.95353552420377, 163.45866587000128, 104.63531015678255, 78.22472424966452, 178.9032610675898, 333.8418738221305, 236.67410598432554, 178.2392232596871, 242.7018860568254, 379.2845102079041, 431.76624224616387, 190.38297603637167, 143.71770173990154, 90.7936033477806, 175.43859649122805, 469.7986577181207, 260.69089508154616, 116.48018072076525, 263.935875163817, 313.78287200747883, 316.731023021653, 229.05669038329123], \"xaxis\": \"x\", \"y\": [481.0, 376.0, 1665.0, 708.0, 579.0, 422.0, 316.0, 1279.0, 645.0, 156.0, 762.0, 521.0, 510.0, 236.0, 226.0, 309.0, 505.0, 417.0, 787.0, 1668.0, 1019.0, 842.0, 763.0, 620.0, 373.0, 700.0, 609.0, 430.0, 1044.0, 311.0, 488.0, 585.0, 823.0, 311.0, 1804.0, 934.0, 643.0, 780.0, 504.0, 446.0, 1084.0, 22.0, 398.0, 770.0, 554.0, 551.0, 549.0, 375.0, 945.0, 861.0, 754.0, 1595.0, 1350.0, 1064.0, 815.0, 262.0, 333.0, 839.0, 1284.0, 553.0, 505.0, 1150.0, 669.0, 284.0, 479.0, 1158.0, 739.0, 308.0, 498.0, 413.0, 268.0, 236.0, 257.0, 512.0, 700.0, 465.0, 288.0, 873.0, 1101.0, 520.0, 960.0, 1087.0, 606.0, 979.0, 362.0, 566.0, 496.0, 682.0, 979.0, 730.0, 460.0, 670.0, 614.0, 570.0, 412.0, 1983.0, 272.0, 1001.0, 255.0, 398.0, 277.0, 625.0, 116.0, 613.0, 374.0, 713.0, 761.0, 808.0, 845.0, 415.0, 596.0, 831.0, 752.0, 413.0, 234.0, 709.0, 730.0, 401.0, 500.0, 457.0, 630.0, 166.0, 496.0, 795.0, 548.0, 902.0, 1162.0, 258.0, 1306.0, 841.0, 723.0, 594.0, 735.0, 1398.0, 301.0, 822.0, 572.0, 995.0, 383.0, 671.0, 403.0, 328.0, 204.0, 347.0, 745.0, 683.0, 840.0, 505.0, 248.0, 870.0, 344.0, 540.0, 1159.0, 284.0, 244.0, 266.0, 293.0, 1374.0, 821.0, 562.0, 553.0, 646.0, 345.0, 1117.0, 548.0, 451.0, 800.0, 579.0, 901.0, 832.0, 552.0, 561.0, 422.0, 254.0, 19.0, 487.0, 1200.0, 505.0, 334.0, 451.0, 910.0, 793.0, 887.0, 647.0, 1015.0, 587.0, 950.0, 340.0, 585.0, 763.0, 820.0, 648.0, 205.0, 305.0, 610.0, 321.0, 375.0, 302.0, 146.0, 799.0, 481.0, 441.0, 1090.0, 826.0, 73.0, 751.0, 589.0, 480.0, 281.0, 509.0, 133.0, 638.0, 442.0, 782.0, 652.0, 435.0, 437.0], \"yaxis\": \"y\"}, {\"hoverlabel\": {\"namelength\": 0}, \"hovertemplate\": \"\\uc544\\ud30c\\ud2b8\\uc720\\ud615=\\ucd08\\uc18c\\ud615<br>1M^2\\ub2f9_\\uc138\\ub300\\uc218*100=%{x}<br>\\ub4f1\\ub85d\\ucc28\\ub7c9\\uc218=%{y}<br>\\ub2e8\\uc9c0\\ucf54\\ub4dc=%{text}\", \"legendgroup\": \"\\uc544\\ud30c\\ud2b8\\uc720\\ud615=\\ucd08\\uc18c\\ud615\", \"marker\": {\"color\": \"#3283FE\", \"symbol\": \"circle\"}, \"mode\": \"markers+text\", \"name\": \"\\uc544\\ud30c\\ud2b8\\uc720\\ud615=\\ucd08\\uc18c\\ud615\", \"showlegend\": true, \"text\": [\"C1004\", \"C1017\", \"C1022\", \"C1027\", \"C1045\", \"C1048\", \"C1056\", \"C1059\", \"C1065\", \"C1085\", \"C1109\", \"C1122\", \"C1143\", \"C1156\", \"C1163\", \"C1176\", \"C1206\", \"C1207\", \"C1210\", \"C1213\", \"C1218\", \"C1236\", \"C1258\", \"C1263\", \"C1281\", \"C1301\", \"C1312\", \"C1320\", \"C1326\", \"C1340\", \"C1341\", \"C1363\", \"C1379\", \"C1386\", \"C1394\", \"C1424\", \"C1439\", \"C1451\", \"C1455\", \"C1465\", \"C1468\", \"C1476\", \"C1492\", \"C1497\", \"C1502\", \"C1516\", \"C1519\", \"C1565\", \"C1569\", \"C1584\", \"C1585\", \"C1616\", \"C1620\", \"C1642\", \"C1652\", \"C1659\", \"C1673\", \"C1674\", \"C1685\", \"C1687\", \"C1695\", \"C1698\", \"C1704\", \"C1722\", \"C1724\", \"C1732\", \"C1757\", \"C1775\", \"C1786\", \"C1790\", \"C1803\", \"C1823\", \"C1850\", \"C1863\", \"C1866\", \"C1871\", \"C1874\", \"C1875\", \"C1885\", \"C1894\", \"C1899\", \"C1907\", \"C1910\", \"C1925\", \"C1939\", \"C1967\", \"C1968\", \"C1969\", \"C1970\", \"C1979\", \"C1983\", \"C1988\", \"C2001\", \"C2010\", \"C2013\", \"C2016\", \"C2020\", \"C2034\", \"C2035\", \"C2038\", \"C2042\", \"C2059\", \"C2066\", \"C2094\", \"C2096\", \"C2106\", \"C2109\", \"C2132\", \"C2135\", \"C2137\", \"C2139\", \"C2141\", \"C2142\", \"C2153\", \"C2154\", \"C2186\", \"C2188\", \"C2190\", \"C2192\", \"C2202\", \"C2211\", \"C2212\", \"C2216\", \"C2221\", \"C2225\", \"C2237\", \"C2245\", \"C2255\", \"C2258\", \"C2274\", \"C2289\", \"C2298\", \"C2310\", \"C2314\", \"C2316\", \"C2326\", \"C2340\", \"C2352\", \"C2358\", \"C2359\", \"C2362\", \"C2393\", \"C2416\", \"C2431\", \"C2433\", \"C2437\", \"C2446\", \"C2453\", \"C2481\", \"C2488\", \"C2503\", \"C2505\", \"C2508\", \"C2520\", \"C2531\", \"C2536\", \"C2539\", \"C2549\", \"C2556\", \"C2563\", \"C2568\", \"C2570\", \"C2571\", \"C2583\", \"C2586\", \"C2597\", \"C2605\", \"C2609\", \"C2612\", \"C2618\", \"C2627\", \"C2644\", \"C2650\", \"C2651\", \"C2659\", \"C2661\", \"C2666\", \"C2680\"], \"type\": \"scatter\", \"x\": [638.0554500569692, 1321.1474074744367, 207.35607675906184, 211.61048689138573, 340.1510153214574, 329.1003398318727, 703.9774727208729, 198.58594444229806, 870.4528582034151, 316.8376584188292, 3357.600970705495, 263.61293269387625, 582.9407806191117, 469.7133712994776, 278.73335097468464, 498.5238862050456, 828.566475992373, 119.70313622216904, 849.7344579818806, 125.37169492887568, 1310.8142172926644, 203.50889898788728, 447.0938897168406, 149.83786201498376, 322.24272958547414, 387.19963557681353, 307.4635741897116, 1097.4504982528795, 1201.3914772021367, 306.9224353628023, 297.4673334408776, 546.6854004342827, 182.68959684240204, 268.5587169459295, 281.2311406155703, 446.0647651726357, 1744.7199265381084, 1046.1657830078882, 380.3151685887842, 343.7674678591392, 373.2881418036917, 774.8309932397297, 127.43848642289973, 1017.2501268391679, 433.90191897654586, 226.07833415964308, 515.2109911678116, 995.1219512195122, 229.93950878215878, 760.8831233628539, 425.6218304757305, 1518.2124273033364, 578.6210783392823, 86.03383997705765, 229.6003921265124, 229.19578198450003, 336.2404118945046, 127.67495081703939, 100.92370851864523, 152.89975472743097, 149.3540437607348, 290.8534251817834, 789.9734143562478, 412.34466468111333, 466.53294703216693, 171.48424813251057, 478.8613473252518, 1224.920802534319, 356.82426404995533, 704.4152342433435, 34.210256234819205, 213.3487654320988, 277.01827601093686, 334.9384371571376, 199.9645033426019, 221.28344397505532, 704.2588627171068, 1170.5924339757314, 256.1728395061728, 145.8128078817734, 774.8309932397297, 79.33537908839158, 221.40221402214019, 1033.1079909863063, 767.3340566130781, 327.5084554678693, 319.75116640746506, 670.3307488467956, 148.77631481068215, 101.12359550561798, 543.683409436834, 286.6626433313217, 320.6270039187745, 393.9782190903267, 502.19817382482245, 156.38106650689033, 50.093926111458984, 1736.854627646919, 272.1991701244813, 783.5935108662383, 313.55969524816135, 37.42622714840939, 178.65571603889364, 141.29648137298824, 179.28722396326802, 244.26888964280522, 844.7729672650474, 2067.0826833073324, 1307.3994765643588, 851.8189884649512, 283.78002411202823, 292.326431181486, 689.4541214197216, 258.36842480907853, 123.76581838409125, 468.87796887796895, 345.00253678335866, 901.9288236892148, 247.67503493470824, 479.1939081609107, 252.2402920677066, 770.699921357151, 497.51243781094524, 148.88462703139197, 510.16070062069554, 58.12505189736776, 111.55378486055776, 289.9150962932284, 967.2482399755128, 425.4673694588752, 1306.1189114231236, 401.80743830378873, 2341.184867951463, 272.50431465164866, 788.6258579633002, 315.1962495636128, 1285.7860371672525, 284.629981024668, 506.6344993968637, 526.1131784935197, 393.2466442953021, 320.7069659378501, 971.4889123548046, 564.9311789347696, 412.73968150796225, 362.46476037051957, 586.4008316229974, 310.01177856301535, 540.3087478559178, 344.04643919014586, 148.33799316557935, 98.4009840098401, 376.767495972794, 2418.745275888133, 292.0497566252028, 63.47527109230362, 191.332077112625, 138.8503193557345, 251.004016064257, 299.3361496680749, 284.6629174477539, 212.9774243930144, 1774.7440273037541, 298.3625131511506, 67.62849413886384, 1161.0754223173924, 457.1428571428571, 540.3304178814383, 1182.2521763549564, 989.7828863346106, 309.5644748078565, 605.0905683947533, 689.7910918407568, 262.57439607888904, 151.46506386175804, 319.1201658703687, 417.6459256405317, 582.8527489427142], \"xaxis\": \"x\", \"y\": [93.0, 1246.0, 450.0, 207.0, 266.0, 243.0, 125.0, 246.0, 1255.0, 521.0, 313.0, 1077.0, 632.0, 505.0, 326.0, 619.0, 90.0, 59.0, 586.0, 148.0, 921.0, 657.0, 616.0, 217.0, 484.0, 202.0, 359.0, 924.0, 1153.0, 410.0, 442.0, 2550.0, 294.0, 1145.0, 271.0, 179.0, 172.0, 1044.0, 420.0, 557.0, 810.0, 70.0, 296.0, 382.0, 438.0, 475.0, 235.0, 588.0, 528.0, 507.0, 718.0, 98.0, 1101.0, 297.0, 509.0, 416.0, 526.0, 322.0, 164.0, 349.0, 123.0, 65.0, 131.0, 649.0, 701.0, 267.0, 508.0, 96.0, 345.0, 120.0, 78.0, 652.0, 254.0, 733.0, 135.0, 408.0, 62.0, 209.0, 616.0, 419.0, 31.0, 207.0, 396.0, 75.0, 1896.0, 639.0, 220.0, 886.0, 159.0, 133.0, 253.0, 402.0, 417.0, 690.0, 91.0, 220.0, 19.0, 132.0, 246.0, 108.0, 757.0, 13.0, 503.0, 318.0, 525.0, 353.0, 60.0, 359.0, 127.0, 752.0, 155.0, 495.0, 396.0, 280.0, 124.0, 744.0, 125.0, 129.0, 324.0, 226.0, 244.0, 86.0, 149.0, 359.0, 448.0, 55.0, 98.0, 410.0, 78.0, 713.0, 364.0, 444.0, 189.0, 343.0, 712.0, 557.0, 382.0, 793.0, 1010.0, 693.0, 196.0, 922.0, 63.0, 359.0, 130.0, 16.0, 1204.0, 559.0, 302.0, 1023.0, 327.0, 163.0, 568.0, 386.0, 358.0, 47.0, 228.0, 165.0, 148.0, 449.0, 189.0, 205.0, 62.0, 982.0, 57.0, 94.0, 572.0, 555.0, 1832.0, 783.0, 404.0, 177.0, 159.0, 282.0, 365.0, 330.0, 701.0, 590.0], \"yaxis\": \"y\"}, {\"hoverlabel\": {\"namelength\": 0}, \"hovertemplate\": \"\\uc544\\ud30c\\ud2b8\\uc720\\ud615=\\uc911\\ub300\\ud615<br>1M^2\\ub2f9_\\uc138\\ub300\\uc218*100=%{x}<br>\\ub4f1\\ub85d\\ucc28\\ub7c9\\uc218=%{y}<br>\\ub2e8\\uc9c0\\ucf54\\ub4dc=%{text}\", \"legendgroup\": \"\\uc544\\ud30c\\ud2b8\\uc720\\ud615=\\uc911\\ub300\\ud615\", \"marker\": {\"color\": \"#85660D\", \"symbol\": \"circle\"}, \"mode\": \"markers+text\", \"name\": \"\\uc544\\ud30c\\ud2b8\\uc720\\ud615=\\uc911\\ub300\\ud615\", \"showlegend\": true, \"text\": [\"C1024\", \"C1286\", \"C1344\", \"C1350\", \"C1357\", \"C1402\", \"C1490\", \"C1544\", \"C1636\", \"C1649\", \"C1697\", \"C1740\", \"C1743\", \"C1756\", \"C1804\", \"C1933\", \"C1941\", \"C2040\", \"C2051\", \"C2085\", \"C2086\", \"C2143\", \"C2259\", \"C2405\", \"C2496\", \"C2506\", \"C2595\", \"C2620\"], \"type\": \"scatter\", \"x\": [60.82399296124861, 375.39316204403417, 67.91940230925967, 154.249287106257, 293.3574567071595, 94.34997257268239, 205.50309038998523, 180.47446000571637, 191.64872486884798, 174.3163766446371, 109.89699768088086, 166.8930026445572, 156.27160835292491, 118.85848779052661, 7.875208238679389, 244.84906564446572, 118.88297089721331, 124.0057618838855, 64.91406136721058, 168.35777329904786, 174.39888901448478, 113.6150234741784, 197.8563817562627, 119.94256271644565, 248.21726596874524, 100.12560240158916, 237.71660451853472, 248.64152807508648], \"xaxis\": \"x\", \"y\": [957.0, 881.0, 509.0, 2315.0, 995.0, 498.0, 899.0, 713.0, 946.0, 855.0, 854.0, 979.0, 1653.0, 609.0, 951.0, 1730.0, 600.0, 336.0, 780.0, 1595.0, 1524.0, 719.0, 1378.0, 1240.0, 1400.0, 1433.0, 1359.0, 1709.0], \"yaxis\": \"y\"}],\n",
              "                        {\"legend\": {\"tracegroupgap\": 0}, \"margin\": {\"t\": 60}, \"template\": {\"data\": {\"bar\": [{\"error_x\": {\"color\": \"#2a3f5f\"}, \"error_y\": {\"color\": \"#2a3f5f\"}, \"marker\": {\"line\": {\"color\": \"#E5ECF6\", \"width\": 0.5}}, \"type\": \"bar\"}], \"barpolar\": [{\"marker\": {\"line\": {\"color\": \"#E5ECF6\", \"width\": 0.5}}, \"type\": \"barpolar\"}], \"carpet\": [{\"aaxis\": {\"endlinecolor\": \"#2a3f5f\", \"gridcolor\": \"white\", \"linecolor\": \"white\", \"minorgridcolor\": \"white\", \"startlinecolor\": \"#2a3f5f\"}, \"baxis\": {\"endlinecolor\": \"#2a3f5f\", \"gridcolor\": \"white\", \"linecolor\": \"white\", \"minorgridcolor\": \"white\", \"startlinecolor\": \"#2a3f5f\"}, \"type\": \"carpet\"}], \"choropleth\": [{\"colorbar\": {\"outlinewidth\": 0, \"ticks\": \"\"}, \"type\": \"choropleth\"}], \"contour\": [{\"colorbar\": {\"outlinewidth\": 0, \"ticks\": \"\"}, \"colorscale\": [[0.0, \"#0d0887\"], [0.1111111111111111, \"#46039f\"], [0.2222222222222222, \"#7201a8\"], [0.3333333333333333, \"#9c179e\"], [0.4444444444444444, \"#bd3786\"], [0.5555555555555556, \"#d8576b\"], [0.6666666666666666, \"#ed7953\"], [0.7777777777777778, \"#fb9f3a\"], [0.8888888888888888, \"#fdca26\"], [1.0, \"#f0f921\"]], \"type\": \"contour\"}], \"contourcarpet\": [{\"colorbar\": {\"outlinewidth\": 0, \"ticks\": \"\"}, \"type\": \"contourcarpet\"}], \"heatmap\": [{\"colorbar\": {\"outlinewidth\": 0, \"ticks\": \"\"}, \"colorscale\": [[0.0, \"#0d0887\"], [0.1111111111111111, \"#46039f\"], [0.2222222222222222, \"#7201a8\"], [0.3333333333333333, \"#9c179e\"], [0.4444444444444444, \"#bd3786\"], [0.5555555555555556, \"#d8576b\"], [0.6666666666666666, \"#ed7953\"], [0.7777777777777778, \"#fb9f3a\"], [0.8888888888888888, \"#fdca26\"], [1.0, \"#f0f921\"]], \"type\": \"heatmap\"}], \"heatmapgl\": [{\"colorbar\": {\"outlinewidth\": 0, \"ticks\": \"\"}, \"colorscale\": [[0.0, \"#0d0887\"], [0.1111111111111111, \"#46039f\"], [0.2222222222222222, \"#7201a8\"], [0.3333333333333333, \"#9c179e\"], [0.4444444444444444, \"#bd3786\"], [0.5555555555555556, \"#d8576b\"], [0.6666666666666666, \"#ed7953\"], [0.7777777777777778, \"#fb9f3a\"], [0.8888888888888888, \"#fdca26\"], [1.0, \"#f0f921\"]], \"type\": \"heatmapgl\"}], \"histogram\": [{\"marker\": {\"colorbar\": {\"outlinewidth\": 0, \"ticks\": \"\"}}, \"type\": \"histogram\"}], \"histogram2d\": [{\"colorbar\": {\"outlinewidth\": 0, \"ticks\": \"\"}, \"colorscale\": [[0.0, \"#0d0887\"], [0.1111111111111111, \"#46039f\"], [0.2222222222222222, \"#7201a8\"], [0.3333333333333333, \"#9c179e\"], [0.4444444444444444, \"#bd3786\"], [0.5555555555555556, \"#d8576b\"], [0.6666666666666666, \"#ed7953\"], [0.7777777777777778, \"#fb9f3a\"], [0.8888888888888888, \"#fdca26\"], [1.0, \"#f0f921\"]], \"type\": \"histogram2d\"}], \"histogram2dcontour\": [{\"colorbar\": {\"outlinewidth\": 0, \"ticks\": \"\"}, \"colorscale\": [[0.0, \"#0d0887\"], [0.1111111111111111, \"#46039f\"], [0.2222222222222222, \"#7201a8\"], [0.3333333333333333, \"#9c179e\"], [0.4444444444444444, \"#bd3786\"], [0.5555555555555556, \"#d8576b\"], [0.6666666666666666, \"#ed7953\"], [0.7777777777777778, \"#fb9f3a\"], [0.8888888888888888, \"#fdca26\"], [1.0, \"#f0f921\"]], \"type\": \"histogram2dcontour\"}], \"mesh3d\": [{\"colorbar\": {\"outlinewidth\": 0, \"ticks\": \"\"}, \"type\": \"mesh3d\"}], \"parcoords\": [{\"line\": {\"colorbar\": {\"outlinewidth\": 0, \"ticks\": \"\"}}, \"type\": \"parcoords\"}], \"pie\": [{\"automargin\": true, \"type\": \"pie\"}], \"scatter\": [{\"marker\": {\"colorbar\": {\"outlinewidth\": 0, \"ticks\": \"\"}}, \"type\": \"scatter\"}], \"scatter3d\": [{\"line\": {\"colorbar\": {\"outlinewidth\": 0, \"ticks\": \"\"}}, \"marker\": {\"colorbar\": {\"outlinewidth\": 0, \"ticks\": \"\"}}, \"type\": \"scatter3d\"}], \"scattercarpet\": [{\"marker\": {\"colorbar\": {\"outlinewidth\": 0, \"ticks\": \"\"}}, \"type\": \"scattercarpet\"}], \"scattergeo\": [{\"marker\": {\"colorbar\": {\"outlinewidth\": 0, \"ticks\": \"\"}}, \"type\": \"scattergeo\"}], \"scattergl\": [{\"marker\": {\"colorbar\": {\"outlinewidth\": 0, \"ticks\": \"\"}}, \"type\": \"scattergl\"}], \"scattermapbox\": [{\"marker\": {\"colorbar\": {\"outlinewidth\": 0, \"ticks\": \"\"}}, \"type\": \"scattermapbox\"}], \"scatterpolar\": [{\"marker\": {\"colorbar\": {\"outlinewidth\": 0, \"ticks\": \"\"}}, \"type\": \"scatterpolar\"}], \"scatterpolargl\": [{\"marker\": {\"colorbar\": {\"outlinewidth\": 0, \"ticks\": \"\"}}, \"type\": \"scatterpolargl\"}], \"scatterternary\": [{\"marker\": {\"colorbar\": {\"outlinewidth\": 0, \"ticks\": \"\"}}, \"type\": \"scatterternary\"}], \"surface\": [{\"colorbar\": {\"outlinewidth\": 0, \"ticks\": \"\"}, \"colorscale\": [[0.0, \"#0d0887\"], [0.1111111111111111, \"#46039f\"], [0.2222222222222222, \"#7201a8\"], [0.3333333333333333, \"#9c179e\"], [0.4444444444444444, \"#bd3786\"], [0.5555555555555556, \"#d8576b\"], [0.6666666666666666, \"#ed7953\"], [0.7777777777777778, \"#fb9f3a\"], [0.8888888888888888, \"#fdca26\"], [1.0, \"#f0f921\"]], \"type\": \"surface\"}], \"table\": [{\"cells\": {\"fill\": {\"color\": \"#EBF0F8\"}, \"line\": {\"color\": \"white\"}}, \"header\": {\"fill\": {\"color\": \"#C8D4E3\"}, \"line\": {\"color\": \"white\"}}, \"type\": \"table\"}]}, \"layout\": {\"annotationdefaults\": {\"arrowcolor\": \"#2a3f5f\", \"arrowhead\": 0, \"arrowwidth\": 1}, \"coloraxis\": {\"colorbar\": {\"outlinewidth\": 0, \"ticks\": \"\"}}, \"colorscale\": {\"diverging\": [[0, \"#8e0152\"], [0.1, \"#c51b7d\"], [0.2, \"#de77ae\"], [0.3, \"#f1b6da\"], [0.4, \"#fde0ef\"], [0.5, \"#f7f7f7\"], [0.6, \"#e6f5d0\"], [0.7, \"#b8e186\"], [0.8, \"#7fbc41\"], [0.9, \"#4d9221\"], [1, \"#276419\"]], \"sequential\": [[0.0, \"#0d0887\"], [0.1111111111111111, \"#46039f\"], [0.2222222222222222, \"#7201a8\"], [0.3333333333333333, \"#9c179e\"], [0.4444444444444444, \"#bd3786\"], [0.5555555555555556, \"#d8576b\"], [0.6666666666666666, \"#ed7953\"], [0.7777777777777778, \"#fb9f3a\"], [0.8888888888888888, \"#fdca26\"], [1.0, \"#f0f921\"]], \"sequentialminus\": [[0.0, \"#0d0887\"], [0.1111111111111111, \"#46039f\"], [0.2222222222222222, \"#7201a8\"], [0.3333333333333333, \"#9c179e\"], [0.4444444444444444, \"#bd3786\"], [0.5555555555555556, \"#d8576b\"], [0.6666666666666666, \"#ed7953\"], [0.7777777777777778, \"#fb9f3a\"], [0.8888888888888888, \"#fdca26\"], [1.0, \"#f0f921\"]]}, \"colorway\": [\"#636efa\", \"#EF553B\", \"#00cc96\", \"#ab63fa\", \"#FFA15A\", \"#19d3f3\", \"#FF6692\", \"#B6E880\", \"#FF97FF\", \"#FECB52\"], \"font\": {\"color\": \"#2a3f5f\"}, \"geo\": {\"bgcolor\": \"white\", \"lakecolor\": \"white\", \"landcolor\": \"#E5ECF6\", \"showlakes\": true, \"showland\": true, \"subunitcolor\": \"white\"}, \"hoverlabel\": {\"align\": \"left\"}, \"hovermode\": \"closest\", \"mapbox\": {\"style\": \"light\"}, \"paper_bgcolor\": \"white\", \"plot_bgcolor\": \"#E5ECF6\", \"polar\": {\"angularaxis\": {\"gridcolor\": \"white\", \"linecolor\": \"white\", \"ticks\": \"\"}, \"bgcolor\": \"#E5ECF6\", \"radialaxis\": {\"gridcolor\": \"white\", \"linecolor\": \"white\", \"ticks\": \"\"}}, \"scene\": {\"xaxis\": {\"backgroundcolor\": \"#E5ECF6\", \"gridcolor\": \"white\", \"gridwidth\": 2, \"linecolor\": \"white\", \"showbackground\": true, \"ticks\": \"\", \"zerolinecolor\": \"white\"}, \"yaxis\": {\"backgroundcolor\": \"#E5ECF6\", \"gridcolor\": \"white\", \"gridwidth\": 2, \"linecolor\": \"white\", \"showbackground\": true, \"ticks\": \"\", \"zerolinecolor\": \"white\"}, \"zaxis\": {\"backgroundcolor\": \"#E5ECF6\", \"gridcolor\": \"white\", \"gridwidth\": 2, \"linecolor\": \"white\", \"showbackground\": true, \"ticks\": \"\", \"zerolinecolor\": \"white\"}}, \"shapedefaults\": {\"line\": {\"color\": \"#2a3f5f\"}}, \"ternary\": {\"aaxis\": {\"gridcolor\": \"white\", \"linecolor\": \"white\", \"ticks\": \"\"}, \"baxis\": {\"gridcolor\": \"white\", \"linecolor\": \"white\", \"ticks\": \"\"}, \"bgcolor\": \"#E5ECF6\", \"caxis\": {\"gridcolor\": \"white\", \"linecolor\": \"white\", \"ticks\": \"\"}}, \"title\": {\"x\": 0.05}, \"xaxis\": {\"automargin\": true, \"gridcolor\": \"white\", \"linecolor\": \"white\", \"ticks\": \"\", \"title\": {\"standoff\": 15}, \"zerolinecolor\": \"white\", \"zerolinewidth\": 2}, \"yaxis\": {\"automargin\": true, \"gridcolor\": \"white\", \"linecolor\": \"white\", \"ticks\": \"\", \"title\": {\"standoff\": 15}, \"zerolinecolor\": \"white\", \"zerolinewidth\": 2}}}, \"title\": {\"text\": \"\\uc544\\ud30c\\ud2b8\\uc720\\ud615\\ubcc4 1M^2\\ub2f9_\\uc138\\ub300\\uc218*100, \\ub4f1\\ub85d\\ucc28\\ub7c9\\uc218 \\ubd84\\ud3ec\"}, \"xaxis\": {\"anchor\": \"y\", \"domain\": [0.0, 1.0], \"title\": {\"text\": \"1M^2\\ub2f9_\\uc138\\ub300\\uc218*100\"}}, \"yaxis\": {\"anchor\": \"x\", \"domain\": [0.0, 1.0], \"title\": {\"text\": \"\\ub4f1\\ub85d\\ucc28\\ub7c9\\uc218\"}}},\n",
              "                        {\"responsive\": true}\n",
              "                    ).then(function(){\n",
              "                            \n",
              "var gd = document.getElementById('d85aff9e-b7b5-4604-b7f2-5020817c3bcd');\n",
              "var x = new MutationObserver(function (mutations, observer) {{\n",
              "        var display = window.getComputedStyle(gd).display;\n",
              "        if (!display || display === 'none') {{\n",
              "            console.log([gd, 'removed!']);\n",
              "            Plotly.purge(gd);\n",
              "            observer.disconnect();\n",
              "        }}\n",
              "}});\n",
              "\n",
              "// Listen for the removal of the full notebook cells\n",
              "var notebookContainer = gd.closest('#notebook-container');\n",
              "if (notebookContainer) {{\n",
              "    x.observe(notebookContainer, {childList: true});\n",
              "}}\n",
              "\n",
              "// Listen for the clearing of the current output cell\n",
              "var outputEl = gd.closest('.output');\n",
              "if (outputEl) {{\n",
              "    x.observe(outputEl, {childList: true});\n",
              "}}\n",
              "\n",
              "                        })\n",
              "                };\n",
              "                \n",
              "            </script>\n",
              "        </div>\n",
              "</body>\n",
              "</html>"
            ]
          },
          "metadata": {}
        }
      ]
    },
    {
      "cell_type": "markdown",
      "metadata": {
        "id": "sy7S7T5VICXv"
      },
      "source": [
        "단순히 전용면적으로 아파트유형을 나누는 것은 어떤 방법을 써도 뚜렷하게 구분히 되지 않음 \n",
        " \n",
        "각 기준별로 특이한 지점의 단지코드를 확인을 해본 결과, 초소형이어도 단지가 매우 많은 지역이 있고 반대로, 중대형, 소형이어도 단지개수가 적은 구간이 있다.  \n",
        "\n",
        "동일단지내 단지가 많을 수록 그만큼 주차공간이 늘어나는지 확인 후 개수에 따른 아파트유형으로 나눌것인지 확인"
      ]
    },
    {
      "cell_type": "code",
      "metadata": {
        "id": "7p-LrusoIndJ"
      },
      "source": [
        "temp_code_count = raw_train[raw_train['임대건물구분'] == '아파트'].groupby('단지코드')['공급유형','등록차량수'].agg({'공급유형': 'count', '등록차량수': 'mean'}).reset_index()\n",
        "temp_code_count.columns = ['단지코드', '단지개수', '등록차량수']"
      ],
      "execution_count": 525,
      "outputs": []
    },
    {
      "cell_type": "code",
      "metadata": {
        "colab": {
          "base_uri": "https://localhost:8080/",
          "height": 542
        },
        "id": "zqRiKIdIJlUD",
        "outputId": "796977ec-cc5c-441a-ee65-a4198113302b"
      },
      "source": [
        "fig = go.Figure()\n",
        "fig = px.scatter(temp_code_count, x = '단지개수', y='등록차량수', text='단지코드',\n",
        "                            color_discrete_sequence=px.colors.qualitative.Alphabet)\n",
        "fig.update_layout(title='아파트유형별 1M^2당_세대수*100, 등록차량수 분포') #autosize =, width = 1000, height = 500)"
      ],
      "execution_count": 528,
      "outputs": [
        {
          "output_type": "display_data",
          "data": {
            "text/html": [
              "<html>\n",
              "<head><meta charset=\"utf-8\" /></head>\n",
              "<body>\n",
              "    <div>\n",
              "            <script src=\"https://cdnjs.cloudflare.com/ajax/libs/mathjax/2.7.5/MathJax.js?config=TeX-AMS-MML_SVG\"></script><script type=\"text/javascript\">if (window.MathJax) {MathJax.Hub.Config({SVG: {font: \"STIX-Web\"}});}</script>\n",
              "                <script type=\"text/javascript\">window.PlotlyConfig = {MathJaxConfig: 'local'};</script>\n",
              "        <script src=\"https://cdn.plot.ly/plotly-latest.min.js\"></script>    \n",
              "            <div id=\"cf112b5f-d5a4-4ac6-ac2d-3749e388faff\" class=\"plotly-graph-div\" style=\"height:525px; width:100%;\"></div>\n",
              "            <script type=\"text/javascript\">\n",
              "                \n",
              "                    window.PLOTLYENV=window.PLOTLYENV || {};\n",
              "                    \n",
              "                if (document.getElementById(\"cf112b5f-d5a4-4ac6-ac2d-3749e388faff\")) {\n",
              "                    Plotly.newPlot(\n",
              "                        'cf112b5f-d5a4-4ac6-ac2d-3749e388faff',\n",
              "                        [{\"hoverlabel\": {\"namelength\": 0}, \"hovertemplate\": \"\\ub2e8\\uc9c0\\uac1c\\uc218=%{x}<br>\\ub4f1\\ub85d\\ucc28\\ub7c9\\uc218=%{y}<br>\\ub2e8\\uc9c0\\ucf54\\ub4dc=%{text}\", \"legendgroup\": \"\", \"marker\": {\"color\": \"#AA0DFE\", \"symbol\": \"circle\"}, \"mode\": \"markers+text\", \"name\": \"\", \"showlegend\": false, \"text\": [\"C1000\", \"C1004\", \"C1005\", \"C1013\", \"C1014\", \"C1015\", \"C1017\", \"C1022\", \"C1024\", \"C1026\", \"C1027\", \"C1032\", \"C1036\", \"C1039\", \"C1045\", \"C1046\", \"C1048\", \"C1049\", \"C1056\", \"C1057\", \"C1059\", \"C1065\", \"C1068\", \"C1077\", \"C1084\", \"C1085\", \"C1089\", \"C1095\", \"C1102\", \"C1103\", \"C1109\", \"C1122\", \"C1129\", \"C1131\", \"C1133\", \"C1136\", \"C1141\", \"C1143\", \"C1155\", \"C1156\", \"C1163\", \"C1171\", \"C1173\", \"C1175\", \"C1176\", \"C1177\", \"C1180\", \"C1184\", \"C1194\", \"C1206\", \"C1207\", \"C1210\", \"C1213\", \"C1218\", \"C1227\", \"C1234\", \"C1236\", \"C1244\", \"C1258\", \"C1263\", \"C1268\", \"C1269\", \"C1281\", \"C1284\", \"C1286\", \"C1301\", \"C1307\", \"C1309\", \"C1310\", \"C1312\", \"C1316\", \"C1319\", \"C1320\", \"C1326\", \"C1328\", \"C1329\", \"C1338\", \"C1340\", \"C1341\", \"C1343\", \"C1344\", \"C1350\", \"C1357\", \"C1360\", \"C1363\", \"C1365\", \"C1368\", \"C1375\", \"C1379\", \"C1386\", \"C1394\", \"C1397\", \"C1402\", \"C1406\", \"C1407\", \"C1410\", \"C1424\", \"C1426\", \"C1428\", \"C1430\", \"C1439\", \"C1448\", \"C1451\", \"C1455\", \"C1465\", \"C1468\", \"C1470\", \"C1476\", \"C1487\", \"C1490\", \"C1492\", \"C1497\", \"C1502\", \"C1516\", \"C1519\", \"C1527\", \"C1537\", \"C1544\", \"C1565\", \"C1566\", \"C1569\", \"C1572\", \"C1579\", \"C1584\", \"C1585\", \"C1592\", \"C1601\", \"C1613\", \"C1616\", \"C1620\", \"C1636\", \"C1638\", \"C1641\", \"C1642\", \"C1649\", \"C1652\", \"C1655\", \"C1656\", \"C1659\", \"C1660\", \"C1663\", \"C1666\", \"C1668\", \"C1672\", \"C1673\", \"C1674\", \"C1677\", \"C1681\", \"C1685\", \"C1687\", \"C1689\", \"C1693\", \"C1695\", \"C1697\", \"C1698\", \"C1699\", \"C1700\", \"C1704\", \"C1706\", \"C1713\", \"C1718\", \"C1722\", \"C1724\", \"C1732\", \"C1738\", \"C1740\", \"C1743\", \"C1744\", \"C1756\", \"C1757\", \"C1761\", \"C1762\", \"C1768\", \"C1773\", \"C1775\", \"C1783\", \"C1786\", \"C1788\", \"C1790\", \"C1802\", \"C1803\", \"C1804\", \"C1819\", \"C1823\", \"C1833\", \"C1834\", \"C1837\", \"C1845\", \"C1848\", \"C1850\", \"C1859\", \"C1861\", \"C1863\", \"C1866\", \"C1867\", \"C1871\", \"C1874\", \"C1875\", \"C1879\", \"C1880\", \"C1885\", \"C1889\", \"C1894\", \"C1896\", \"C1898\", \"C1899\", \"C1900\", \"C1907\", \"C1910\", \"C1911\", \"C1916\", \"C1925\", \"C1929\", \"C1933\", \"C1936\", \"C1939\", \"C1940\", \"C1941\", \"C1945\", \"C1962\", \"C1965\", \"C1967\", \"C1968\", \"C1969\", \"C1970\", \"C1973\", \"C1979\", \"C1983\", \"C1985\", \"C1987\", \"C1988\", \"C1994\", \"C2000\", \"C2001\", \"C2008\", \"C2010\", \"C2013\", \"C2016\", \"C2020\", \"C2021\", \"C2032\", \"C2034\", \"C2035\", \"C2036\", \"C2038\", \"C2040\", \"C2042\", \"C2046\", \"C2049\", \"C2051\", \"C2055\", \"C2059\", \"C2066\", \"C2068\", \"C2070\", \"C2071\", \"C2073\", \"C2082\", \"C2085\", \"C2086\", \"C2089\", \"C2094\", \"C2096\", \"C2097\", \"C2099\", \"C2100\", \"C2106\", \"C2109\", \"C2127\", \"C2132\", \"C2133\", \"C2135\", \"C2137\", \"C2139\", \"C2141\", \"C2142\", \"C2143\", \"C2153\", \"C2154\", \"C2156\", \"C2162\", \"C2173\", \"C2181\", \"C2186\", \"C2188\", \"C2190\", \"C2192\", \"C2202\", \"C2208\", \"C2211\", \"C2212\", \"C2216\", \"C2221\", \"C2225\", \"C2227\", \"C2232\", \"C2237\", \"C2245\", \"C2251\", \"C2255\", \"C2256\", \"C2258\", \"C2259\", \"C2262\", \"C2274\", \"C2276\", \"C2287\", \"C2289\", \"C2298\", \"C2308\", \"C2310\", \"C2314\", \"C2316\", \"C2319\", \"C2325\", \"C2326\", \"C2328\", \"C2329\", \"C2336\", \"C2340\", \"C2346\", \"C2351\", \"C2352\", \"C2357\", \"C2358\", \"C2359\", \"C2361\", \"C2362\", \"C2368\", \"C2371\", \"C2373\", \"C2377\", \"C2378\", \"C2383\", \"C2385\", \"C2389\", \"C2390\", \"C2393\", \"C2394\", \"C2401\", \"C2405\", \"C2412\", \"C2414\", \"C2416\", \"C2420\", \"C2431\", \"C2433\", \"C2437\", \"C2445\", \"C2446\", \"C2450\", \"C2453\", \"C2458\", \"C2460\", \"C2470\", \"C2479\", \"C2481\", \"C2483\", \"C2486\", \"C2488\", \"C2489\", \"C2490\", \"C2492\", \"C2496\", \"C2503\", \"C2505\", \"C2506\", \"C2507\", \"C2508\", \"C2513\", \"C2514\", \"C2515\", \"C2518\", \"C2520\", \"C2522\", \"C2526\", \"C2527\", \"C2530\", \"C2531\", \"C2532\", \"C2536\", \"C2538\", \"C2539\", \"C2549\", \"C2556\", \"C2560\", \"C2561\", \"C2563\", \"C2565\", \"C2568\", \"C2570\", \"C2571\", \"C2574\", \"C2576\", \"C2579\", \"C2583\", \"C2586\", \"C2587\", \"C2595\", \"C2596\", \"C2597\", \"C2601\", \"C2603\", \"C2605\", \"C2609\", \"C2612\", \"C2618\", \"C2620\", \"C2621\", \"C2627\", \"C2631\", \"C2635\", \"C2644\", \"C2650\", \"C2651\", \"C2657\", \"C2659\", \"C2661\", \"C2663\", \"C2666\", \"C2670\", \"C2680\", \"C2692\"], \"type\": \"scatter\", \"x\": [7, 2, 3, 5, 7, 8, 3, 4, 10, 2, 5, 6, 7, 11, 4, 3, 3, 5, 2, 4, 6, 3, 6, 3, 6, 4, 6, 8, 6, 4, 2, 7, 8, 4, 6, 4, 6, 3, 3, 8, 3, 12, 9, 3, 8, 16, 3, 7, 5, 2, 3, 5, 6, 3, 9, 2, 12, 13, 6, 5, 6, 4, 5, 2, 3, 3, 8, 7, 9, 4, 2, 6, 4, 5, 11, 8, 10, 5, 9, 9, 6, 13, 4, 6, 14, 10, 4, 7, 4, 13, 4, 6, 5, 14, 11, 3, 3, 5, 7, 4, 3, 9, 5, 3, 6, 5, 4, 2, 2, 4, 7, 2, 2, 5, 2, 5, 4, 3, 4, 6, 7, 6, 9, 6, 4, 7, 6, 3, 3, 5, 4, 5, 4, 7, 4, 12, 4, 8, 13, 8, 4, 9, 7, 2, 5, 6, 11, 8, 9, 11, 10, 4, 5, 6, 4, 7, 3, 2, 5, 6, 2, 5, 10, 6, 4, 4, 7, 5, 4, 4, 6, 3, 2, 9, 2, 5, 5, 2, 3, 11, 10, 4, 3, 6, 7, 3, 6, 4, 5, 3, 5, 4, 8, 4, 6, 6, 3, 3, 5, 4, 8, 4, 8, 6, 6, 2, 8, 6, 10, 6, 4, 2, 6, 6, 4, 9, 6, 4, 6, 4, 5, 4, 5, 6, 5, 3, 9, 5, 4, 6, 4, 4, 7, 5, 10, 5, 3, 4, 3, 12, 8, 3, 5, 4, 3, 2, 5, 6, 3, 23, 6, 3, 10, 2, 5, 9, 6, 6, 8, 9, 6, 7, 7, 7, 5, 6, 5, 2, 6, 4, 6, 3, 3, 3, 4, 4, 4, 4, 4, 3, 3, 8, 6, 6, 1, 4, 5, 3, 8, 3, 3, 2, 8, 9, 7, 4, 3, 7, 11, 6, 5, 3, 6, 8, 7, 3, 7, 4, 5, 3, 3, 7, 4, 4, 5, 5, 7, 4, 7, 1, 5, 5, 10, 6, 6, 5, 11, 14, 8, 8, 6, 6, 4, 9, 4, 6, 4, 13, 8, 3, 3, 5, 4, 2, 7, 2, 5, 1, 6, 12, 6, 7, 7, 6, 3, 7, 3, 8, 10, 8, 3, 2, 5, 4, 6, 5, 17, 18, 7, 3, 6, 7, 2, 1, 7, 5, 5, 6, 6, 6, 3, 19, 6, 5, 3, 2, 4, 4, 12, 5, 8, 1, 9, 2, 6, 11, 5, 7, 5, 7, 3, 5, 6, 3, 3, 4, 5, 5, 8, 6, 7, 5, 4, 3, 2, 7, 11, 3, 6, 6, 5, 3, 5], \"xaxis\": \"x\", \"y\": [481.0, 93.0, 376.0, 1665.0, 708.0, 579.0, 1246.0, 450.0, 957.0, 422.0, 207.0, 316.0, 1279.0, 645.0, 266.0, 156.0, 243.0, 762.0, 125.0, 521.0, 246.0, 1255.0, 510.0, 236.0, 226.0, 521.0, 309.0, 505.0, 417.0, 787.0, 313.0, 1077.0, 1668.0, 1019.0, 842.0, 763.0, 620.0, 632.0, 373.0, 505.0, 326.0, 700.0, 609.0, 430.0, 619.0, 1044.0, 311.0, 488.0, 585.0, 90.0, 59.0, 586.0, 148.0, 921.0, 823.0, 311.0, 657.0, 1804.0, 616.0, 217.0, 934.0, 643.0, 484.0, 780.0, 881.0, 202.0, 504.0, 446.0, 1084.0, 359.0, 22.0, 398.0, 924.0, 1153.0, 770.0, 554.0, 551.0, 410.0, 442.0, 549.0, 509.0, 2315.0, 995.0, 375.0, 2550.0, 945.0, 861.0, 754.0, 294.0, 1145.0, 271.0, 1595.0, 498.0, 1350.0, 1064.0, 815.0, 179.0, 262.0, 333.0, 839.0, 172.0, 1284.0, 1044.0, 420.0, 557.0, 810.0, 553.0, 70.0, 505.0, 899.0, 296.0, 382.0, 438.0, 475.0, 235.0, 1150.0, 669.0, 713.0, 588.0, 284.0, 528.0, 479.0, 1158.0, 507.0, 718.0, 739.0, 308.0, 498.0, 98.0, 1101.0, 946.0, 413.0, 268.0, 297.0, 855.0, 509.0, 236.0, 257.0, 416.0, 512.0, 700.0, 465.0, 288.0, 873.0, 526.0, 322.0, 1101.0, 520.0, 164.0, 349.0, 960.0, 1087.0, 123.0, 854.0, 65.0, 606.0, 979.0, 131.0, 362.0, 566.0, 496.0, 649.0, 701.0, 267.0, 682.0, 979.0, 1653.0, 979.0, 609.0, 508.0, 730.0, 460.0, 670.0, 614.0, 96.0, 570.0, 345.0, 412.0, 120.0, 1983.0, 78.0, 951.0, 272.0, 652.0, 1001.0, 255.0, 398.0, 277.0, 625.0, 254.0, 116.0, 613.0, 733.0, 135.0, 374.0, 408.0, 62.0, 209.0, 713.0, 761.0, 616.0, 808.0, 419.0, 845.0, 415.0, 31.0, 596.0, 207.0, 396.0, 831.0, 752.0, 75.0, 413.0, 1730.0, 234.0, 1896.0, 709.0, 600.0, 730.0, 401.0, 500.0, 639.0, 220.0, 886.0, 159.0, 457.0, 133.0, 253.0, 630.0, 166.0, 402.0, 496.0, 795.0, 417.0, 548.0, 690.0, 91.0, 220.0, 19.0, 902.0, 1162.0, 132.0, 246.0, 258.0, 108.0, 336.0, 757.0, 1306.0, 841.0, 780.0, 723.0, 13.0, 503.0, 594.0, 735.0, 1398.0, 301.0, 822.0, 1595.0, 1524.0, 572.0, 318.0, 525.0, 995.0, 383.0, 671.0, 353.0, 60.0, 403.0, 359.0, 328.0, 127.0, 752.0, 155.0, 495.0, 396.0, 719.0, 280.0, 124.0, 204.0, 347.0, 745.0, 683.0, 744.0, 125.0, 129.0, 324.0, 226.0, 840.0, 244.0, 86.0, 149.0, 359.0, 448.0, 505.0, 248.0, 55.0, 98.0, 870.0, 410.0, 344.0, 78.0, 1378.0, 540.0, 713.0, 1159.0, 284.0, 364.0, 444.0, 244.0, 189.0, 343.0, 712.0, 266.0, 293.0, 557.0, 1374.0, 821.0, 562.0, 382.0, 553.0, 646.0, 793.0, 345.0, 1010.0, 693.0, 1117.0, 196.0, 548.0, 451.0, 800.0, 579.0, 901.0, 832.0, 552.0, 561.0, 422.0, 922.0, 254.0, 19.0, 1240.0, 487.0, 1200.0, 63.0, 505.0, 359.0, 130.0, 16.0, 334.0, 1204.0, 451.0, 559.0, 910.0, 793.0, 887.0, 647.0, 302.0, 1015.0, 587.0, 1023.0, 950.0, 340.0, 585.0, 1400.0, 327.0, 163.0, 1433.0, 763.0, 568.0, 820.0, 648.0, 205.0, 305.0, 386.0, 610.0, 321.0, 375.0, 302.0, 358.0, 146.0, 47.0, 799.0, 228.0, 165.0, 148.0, 481.0, 441.0, 449.0, 1090.0, 189.0, 205.0, 62.0, 826.0, 73.0, 751.0, 982.0, 57.0, 589.0, 1359.0, 480.0, 94.0, 281.0, 509.0, 572.0, 555.0, 1832.0, 783.0, 1709.0, 133.0, 404.0, 638.0, 442.0, 177.0, 159.0, 282.0, 782.0, 365.0, 330.0, 652.0, 701.0, 435.0, 590.0, 437.0], \"yaxis\": \"y\"}],\n",
              "                        {\"legend\": {\"tracegroupgap\": 0}, \"margin\": {\"t\": 60}, \"template\": {\"data\": {\"bar\": [{\"error_x\": {\"color\": \"#2a3f5f\"}, \"error_y\": {\"color\": \"#2a3f5f\"}, \"marker\": {\"line\": {\"color\": \"#E5ECF6\", \"width\": 0.5}}, \"type\": \"bar\"}], \"barpolar\": [{\"marker\": {\"line\": {\"color\": \"#E5ECF6\", \"width\": 0.5}}, \"type\": \"barpolar\"}], \"carpet\": [{\"aaxis\": {\"endlinecolor\": \"#2a3f5f\", \"gridcolor\": \"white\", \"linecolor\": \"white\", \"minorgridcolor\": \"white\", \"startlinecolor\": \"#2a3f5f\"}, \"baxis\": {\"endlinecolor\": \"#2a3f5f\", \"gridcolor\": \"white\", \"linecolor\": \"white\", \"minorgridcolor\": \"white\", \"startlinecolor\": \"#2a3f5f\"}, \"type\": \"carpet\"}], \"choropleth\": [{\"colorbar\": {\"outlinewidth\": 0, \"ticks\": \"\"}, \"type\": \"choropleth\"}], \"contour\": [{\"colorbar\": {\"outlinewidth\": 0, \"ticks\": \"\"}, \"colorscale\": [[0.0, \"#0d0887\"], [0.1111111111111111, \"#46039f\"], [0.2222222222222222, \"#7201a8\"], [0.3333333333333333, \"#9c179e\"], [0.4444444444444444, \"#bd3786\"], [0.5555555555555556, \"#d8576b\"], [0.6666666666666666, \"#ed7953\"], [0.7777777777777778, \"#fb9f3a\"], [0.8888888888888888, \"#fdca26\"], [1.0, \"#f0f921\"]], \"type\": \"contour\"}], \"contourcarpet\": [{\"colorbar\": {\"outlinewidth\": 0, \"ticks\": \"\"}, \"type\": \"contourcarpet\"}], \"heatmap\": [{\"colorbar\": {\"outlinewidth\": 0, \"ticks\": \"\"}, \"colorscale\": [[0.0, \"#0d0887\"], [0.1111111111111111, \"#46039f\"], [0.2222222222222222, \"#7201a8\"], [0.3333333333333333, \"#9c179e\"], [0.4444444444444444, \"#bd3786\"], [0.5555555555555556, \"#d8576b\"], [0.6666666666666666, \"#ed7953\"], [0.7777777777777778, \"#fb9f3a\"], [0.8888888888888888, \"#fdca26\"], [1.0, \"#f0f921\"]], \"type\": \"heatmap\"}], \"heatmapgl\": [{\"colorbar\": {\"outlinewidth\": 0, \"ticks\": \"\"}, \"colorscale\": [[0.0, \"#0d0887\"], [0.1111111111111111, \"#46039f\"], [0.2222222222222222, \"#7201a8\"], [0.3333333333333333, \"#9c179e\"], [0.4444444444444444, \"#bd3786\"], [0.5555555555555556, \"#d8576b\"], [0.6666666666666666, \"#ed7953\"], [0.7777777777777778, \"#fb9f3a\"], [0.8888888888888888, \"#fdca26\"], [1.0, \"#f0f921\"]], \"type\": \"heatmapgl\"}], \"histogram\": [{\"marker\": {\"colorbar\": {\"outlinewidth\": 0, \"ticks\": \"\"}}, \"type\": \"histogram\"}], \"histogram2d\": [{\"colorbar\": {\"outlinewidth\": 0, \"ticks\": \"\"}, \"colorscale\": [[0.0, \"#0d0887\"], [0.1111111111111111, \"#46039f\"], [0.2222222222222222, \"#7201a8\"], [0.3333333333333333, \"#9c179e\"], [0.4444444444444444, \"#bd3786\"], [0.5555555555555556, \"#d8576b\"], [0.6666666666666666, \"#ed7953\"], [0.7777777777777778, \"#fb9f3a\"], [0.8888888888888888, \"#fdca26\"], [1.0, \"#f0f921\"]], \"type\": \"histogram2d\"}], \"histogram2dcontour\": [{\"colorbar\": {\"outlinewidth\": 0, \"ticks\": \"\"}, \"colorscale\": [[0.0, \"#0d0887\"], [0.1111111111111111, \"#46039f\"], [0.2222222222222222, \"#7201a8\"], [0.3333333333333333, \"#9c179e\"], [0.4444444444444444, \"#bd3786\"], [0.5555555555555556, \"#d8576b\"], [0.6666666666666666, \"#ed7953\"], [0.7777777777777778, \"#fb9f3a\"], [0.8888888888888888, \"#fdca26\"], [1.0, \"#f0f921\"]], \"type\": \"histogram2dcontour\"}], \"mesh3d\": [{\"colorbar\": {\"outlinewidth\": 0, \"ticks\": \"\"}, \"type\": \"mesh3d\"}], \"parcoords\": [{\"line\": {\"colorbar\": {\"outlinewidth\": 0, \"ticks\": \"\"}}, \"type\": \"parcoords\"}], \"pie\": [{\"automargin\": true, \"type\": \"pie\"}], \"scatter\": [{\"marker\": {\"colorbar\": {\"outlinewidth\": 0, \"ticks\": \"\"}}, \"type\": \"scatter\"}], \"scatter3d\": [{\"line\": {\"colorbar\": {\"outlinewidth\": 0, \"ticks\": \"\"}}, \"marker\": {\"colorbar\": {\"outlinewidth\": 0, \"ticks\": \"\"}}, \"type\": \"scatter3d\"}], \"scattercarpet\": [{\"marker\": {\"colorbar\": {\"outlinewidth\": 0, \"ticks\": \"\"}}, \"type\": \"scattercarpet\"}], \"scattergeo\": [{\"marker\": {\"colorbar\": {\"outlinewidth\": 0, \"ticks\": \"\"}}, \"type\": \"scattergeo\"}], \"scattergl\": [{\"marker\": {\"colorbar\": {\"outlinewidth\": 0, \"ticks\": \"\"}}, \"type\": \"scattergl\"}], \"scattermapbox\": [{\"marker\": {\"colorbar\": {\"outlinewidth\": 0, \"ticks\": \"\"}}, \"type\": \"scattermapbox\"}], \"scatterpolar\": [{\"marker\": {\"colorbar\": {\"outlinewidth\": 0, \"ticks\": \"\"}}, \"type\": \"scatterpolar\"}], \"scatterpolargl\": [{\"marker\": {\"colorbar\": {\"outlinewidth\": 0, \"ticks\": \"\"}}, \"type\": \"scatterpolargl\"}], \"scatterternary\": [{\"marker\": {\"colorbar\": {\"outlinewidth\": 0, \"ticks\": \"\"}}, \"type\": \"scatterternary\"}], \"surface\": [{\"colorbar\": {\"outlinewidth\": 0, \"ticks\": \"\"}, \"colorscale\": [[0.0, \"#0d0887\"], [0.1111111111111111, \"#46039f\"], [0.2222222222222222, \"#7201a8\"], [0.3333333333333333, \"#9c179e\"], [0.4444444444444444, \"#bd3786\"], [0.5555555555555556, \"#d8576b\"], [0.6666666666666666, \"#ed7953\"], [0.7777777777777778, \"#fb9f3a\"], [0.8888888888888888, \"#fdca26\"], [1.0, \"#f0f921\"]], \"type\": \"surface\"}], \"table\": [{\"cells\": {\"fill\": {\"color\": \"#EBF0F8\"}, \"line\": {\"color\": \"white\"}}, \"header\": {\"fill\": {\"color\": \"#C8D4E3\"}, \"line\": {\"color\": \"white\"}}, \"type\": \"table\"}]}, \"layout\": {\"annotationdefaults\": {\"arrowcolor\": \"#2a3f5f\", \"arrowhead\": 0, \"arrowwidth\": 1}, \"coloraxis\": {\"colorbar\": {\"outlinewidth\": 0, \"ticks\": \"\"}}, \"colorscale\": {\"diverging\": [[0, \"#8e0152\"], [0.1, \"#c51b7d\"], [0.2, \"#de77ae\"], [0.3, \"#f1b6da\"], [0.4, \"#fde0ef\"], [0.5, \"#f7f7f7\"], [0.6, \"#e6f5d0\"], [0.7, \"#b8e186\"], [0.8, \"#7fbc41\"], [0.9, \"#4d9221\"], [1, \"#276419\"]], \"sequential\": [[0.0, \"#0d0887\"], [0.1111111111111111, \"#46039f\"], [0.2222222222222222, \"#7201a8\"], [0.3333333333333333, \"#9c179e\"], [0.4444444444444444, \"#bd3786\"], [0.5555555555555556, \"#d8576b\"], [0.6666666666666666, \"#ed7953\"], [0.7777777777777778, \"#fb9f3a\"], [0.8888888888888888, \"#fdca26\"], [1.0, \"#f0f921\"]], \"sequentialminus\": [[0.0, \"#0d0887\"], [0.1111111111111111, \"#46039f\"], [0.2222222222222222, \"#7201a8\"], [0.3333333333333333, \"#9c179e\"], [0.4444444444444444, \"#bd3786\"], [0.5555555555555556, \"#d8576b\"], [0.6666666666666666, \"#ed7953\"], [0.7777777777777778, \"#fb9f3a\"], [0.8888888888888888, \"#fdca26\"], [1.0, \"#f0f921\"]]}, \"colorway\": [\"#636efa\", \"#EF553B\", \"#00cc96\", \"#ab63fa\", \"#FFA15A\", \"#19d3f3\", \"#FF6692\", \"#B6E880\", \"#FF97FF\", \"#FECB52\"], \"font\": {\"color\": \"#2a3f5f\"}, \"geo\": {\"bgcolor\": \"white\", \"lakecolor\": \"white\", \"landcolor\": \"#E5ECF6\", \"showlakes\": true, \"showland\": true, \"subunitcolor\": \"white\"}, \"hoverlabel\": {\"align\": \"left\"}, \"hovermode\": \"closest\", \"mapbox\": {\"style\": \"light\"}, \"paper_bgcolor\": \"white\", \"plot_bgcolor\": \"#E5ECF6\", \"polar\": {\"angularaxis\": {\"gridcolor\": \"white\", \"linecolor\": \"white\", \"ticks\": \"\"}, \"bgcolor\": \"#E5ECF6\", \"radialaxis\": {\"gridcolor\": \"white\", \"linecolor\": \"white\", \"ticks\": \"\"}}, \"scene\": {\"xaxis\": {\"backgroundcolor\": \"#E5ECF6\", \"gridcolor\": \"white\", \"gridwidth\": 2, \"linecolor\": \"white\", \"showbackground\": true, \"ticks\": \"\", \"zerolinecolor\": \"white\"}, \"yaxis\": {\"backgroundcolor\": \"#E5ECF6\", \"gridcolor\": \"white\", \"gridwidth\": 2, \"linecolor\": \"white\", \"showbackground\": true, \"ticks\": \"\", \"zerolinecolor\": \"white\"}, \"zaxis\": {\"backgroundcolor\": \"#E5ECF6\", \"gridcolor\": \"white\", \"gridwidth\": 2, \"linecolor\": \"white\", \"showbackground\": true, \"ticks\": \"\", \"zerolinecolor\": \"white\"}}, \"shapedefaults\": {\"line\": {\"color\": \"#2a3f5f\"}}, \"ternary\": {\"aaxis\": {\"gridcolor\": \"white\", \"linecolor\": \"white\", \"ticks\": \"\"}, \"baxis\": {\"gridcolor\": \"white\", \"linecolor\": \"white\", \"ticks\": \"\"}, \"bgcolor\": \"#E5ECF6\", \"caxis\": {\"gridcolor\": \"white\", \"linecolor\": \"white\", \"ticks\": \"\"}}, \"title\": {\"x\": 0.05}, \"xaxis\": {\"automargin\": true, \"gridcolor\": \"white\", \"linecolor\": \"white\", \"ticks\": \"\", \"title\": {\"standoff\": 15}, \"zerolinecolor\": \"white\", \"zerolinewidth\": 2}, \"yaxis\": {\"automargin\": true, \"gridcolor\": \"white\", \"linecolor\": \"white\", \"ticks\": \"\", \"title\": {\"standoff\": 15}, \"zerolinecolor\": \"white\", \"zerolinewidth\": 2}}}, \"title\": {\"text\": \"\\uc544\\ud30c\\ud2b8\\uc720\\ud615\\ubcc4 1M^2\\ub2f9_\\uc138\\ub300\\uc218*100, \\ub4f1\\ub85d\\ucc28\\ub7c9\\uc218 \\ubd84\\ud3ec\"}, \"xaxis\": {\"anchor\": \"y\", \"domain\": [0.0, 1.0], \"title\": {\"text\": \"\\ub2e8\\uc9c0\\uac1c\\uc218\"}}, \"yaxis\": {\"anchor\": \"x\", \"domain\": [0.0, 1.0], \"title\": {\"text\": \"\\ub4f1\\ub85d\\ucc28\\ub7c9\\uc218\"}}},\n",
              "                        {\"responsive\": true}\n",
              "                    ).then(function(){\n",
              "                            \n",
              "var gd = document.getElementById('cf112b5f-d5a4-4ac6-ac2d-3749e388faff');\n",
              "var x = new MutationObserver(function (mutations, observer) {{\n",
              "        var display = window.getComputedStyle(gd).display;\n",
              "        if (!display || display === 'none') {{\n",
              "            console.log([gd, 'removed!']);\n",
              "            Plotly.purge(gd);\n",
              "            observer.disconnect();\n",
              "        }}\n",
              "}});\n",
              "\n",
              "// Listen for the removal of the full notebook cells\n",
              "var notebookContainer = gd.closest('#notebook-container');\n",
              "if (notebookContainer) {{\n",
              "    x.observe(notebookContainer, {childList: true});\n",
              "}}\n",
              "\n",
              "// Listen for the clearing of the current output cell\n",
              "var outputEl = gd.closest('.output');\n",
              "if (outputEl) {{\n",
              "    x.observe(outputEl, {childList: true});\n",
              "}}\n",
              "\n",
              "                        })\n",
              "                };\n",
              "                \n",
              "            </script>\n",
              "        </div>\n",
              "</body>\n",
              "</html>"
            ]
          },
          "metadata": {}
        }
      ]
    },
    {
      "cell_type": "code",
      "metadata": {
        "id": "wzpWAcm0KCIm"
      },
      "source": [
        "raw_train[raw_train['단지코드'] == 'C2051']"
      ],
      "execution_count": null,
      "outputs": []
    },
    {
      "cell_type": "markdown",
      "metadata": {
        "id": "X_8g1vvmKRZI"
      },
      "source": [
        "C2051 케이스를 보면 단지수는 많으나 전용면적이 큰 단지가 많아서, 총세대수가 적고, 등록차량수가 적은것을 알 수 있다.  \n",
        "\n",
        "위 내용을 총합하면, 단지개수, 전용면적등 복합적인 요소로 아파트유형이 결정됨을 알 수 있다. 결과적으로 단지개수 변수만 추가"
      ]
    },
    {
      "cell_type": "code",
      "metadata": {
        "id": "9Oh9quVMEaoV"
      },
      "source": [
        "temp_count = raw_train[raw_train['임대건물구분'] == '아파트'].groupby('단지코드')['공급유형'].count().reset_index()\n",
        "temp_count.columns = ['단지코드', '단지개수']"
      ],
      "execution_count": 534,
      "outputs": []
    },
    {
      "cell_type": "markdown",
      "metadata": {
        "id": "4X-yP_VwiNNt"
      },
      "source": [
        "### 공가수"
      ]
    },
    {
      "cell_type": "code",
      "metadata": {
        "id": "d4USg4rkiKqZ"
      },
      "source": [
        "temp_empty = copy.deepcopy(raw_train_store_apartType)"
      ],
      "execution_count": null,
      "outputs": []
    },
    {
      "cell_type": "code",
      "metadata": {
        "id": "dKbPyun6iVIu"
      },
      "source": [
        "done = 임대, 공급유형, "
      ],
      "execution_count": null,
      "outputs": []
    },
    {
      "cell_type": "code",
      "metadata": {
        "colab": {
          "base_uri": "https://localhost:8080/"
        },
        "id": "pgZmB5x2oyF1",
        "outputId": "022cdf8b-7523-4773-df01-e66f1672f696"
      },
      "source": [
        "raw_train.columns"
      ],
      "execution_count": null,
      "outputs": [
        {
          "data": {
            "text/plain": [
              "Index(['단지코드', '총세대수', '지역', '공급유형', '전용면적', '전용면적별세대수', '공가수', '자격유형',\n",
              "       '임대보증금', '임대료', '도보 10분거리 내 지하철역 수(환승노선 수 반영)', '도보 10분거리 내 버스정류장 수',\n",
              "       '단지내주차면수', '등록차량수', '상가유무', '아파트유형'],\n",
              "      dtype='object')"
            ]
          },
          "execution_count": 214,
          "metadata": {},
          "output_type": "execute_result"
        }
      ]
    },
    {
      "cell_type": "markdown",
      "metadata": {
        "id": "R2CGJHXKOid5"
      },
      "source": [
        "# 데이터전처리 2 - (원핫인코딩, 로그변환)"
      ]
    },
    {
      "cell_type": "markdown",
      "metadata": {
        "id": "j4IpDhVNYNdP"
      },
      "source": [
        "## 원핫 인코딩"
      ]
    },
    {
      "cell_type": "code",
      "metadata": {
        "id": "9UgnBGe1yaQn"
      },
      "source": [
        "features_index = raw_train.dtypes[raw_train.dtypes == 'object'].index[1:-2]"
      ],
      "execution_count": null,
      "outputs": []
    },
    {
      "cell_type": "code",
      "metadata": {
        "id": "oWMrL8CPhhoJ"
      },
      "source": [
        "#원핫인코딩\n",
        "ohe = OneHotEncoder(sparse=False, handle_unknown='ignore').fit(raw_train[features_index])"
      ],
      "execution_count": null,
      "outputs": []
    },
    {
      "cell_type": "code",
      "metadata": {
        "id": "zAB2LTOmh_Bo"
      },
      "source": [
        "raw_train_ohe = pd.DataFrame(ohe.transform(raw_train[features_index]), columns=ohe.get_feature_names()).reset_index(drop=True)"
      ],
      "execution_count": null,
      "outputs": []
    },
    {
      "cell_type": "code",
      "metadata": {
        "id": "gHvafd51yvY7"
      },
      "source": [
        "raw_train_ohe['단지코드'] = raw_train['단지코드'].sort_values()"
      ],
      "execution_count": null,
      "outputs": []
    },
    {
      "cell_type": "code",
      "metadata": {
        "id": "nlNq2CkCzj1n"
      },
      "source": [
        "raw_train_ohe_sum = raw_train_ohe.drop_duplicates().groupby(['단지코드']).sum().reset_index()"
      ],
      "execution_count": null,
      "outputs": []
    },
    {
      "cell_type": "code",
      "metadata": {
        "id": "X35JLnjKu4-y"
      },
      "source": [
        "for col in ohe.get_feature_names():\n",
        "  raw_train_ohe_sum[col] = raw_train_ohe_sum[col].apply(lambda x: 1 if x > 0 else 0)"
      ],
      "execution_count": null,
      "outputs": []
    },
    {
      "cell_type": "code",
      "metadata": {
        "id": "KgNFiH8Nlnvv"
      },
      "source": [
        "raw_test_ohe = pd.DataFrame(ohe.transform(raw_test[features_index]), columns=ohe.get_feature_names()).reset_index(drop=True)"
      ],
      "execution_count": null,
      "outputs": []
    },
    {
      "cell_type": "code",
      "metadata": {
        "id": "A3FlhYjy9yCb"
      },
      "source": [
        "raw_test_ohe['단지코드'] = raw_test['단지코드'].sort_values()"
      ],
      "execution_count": null,
      "outputs": []
    },
    {
      "cell_type": "code",
      "metadata": {
        "id": "lBSu8eHT9yCb"
      },
      "source": [
        "raw_test_ohe_sum = raw_test_ohe.drop_duplicates().groupby(['단지코드']).sum().reset_index()"
      ],
      "execution_count": null,
      "outputs": []
    },
    {
      "cell_type": "code",
      "metadata": {
        "id": "Jw-uRWjYvdx5"
      },
      "source": [
        "for col in ohe.get_feature_names():\n",
        "  raw_test_ohe_sum[col] = raw_test_ohe_sum[col].apply(lambda x: 1 if x > 0 else 0)"
      ],
      "execution_count": null,
      "outputs": []
    },
    {
      "cell_type": "markdown",
      "metadata": {
        "id": "vs1AlYJmuf16"
      },
      "source": [
        "## 데이터 그룹화\n",
        "- 코드와 공급유형, 잔격유형 별로 데이터집계"
      ]
    },
    {
      "cell_type": "code",
      "metadata": {
        "id": "qRmjI7ATvfFk"
      },
      "source": [
        "features_index_unobject = raw_train.dtypes[raw_train.dtypes != 'object'].index"
      ],
      "execution_count": null,
      "outputs": []
    },
    {
      "cell_type": "code",
      "metadata": {
        "id": "pZqXu4ua_QCt"
      },
      "source": [
        "raw_train_agg = raw_train.groupby(['단지코드'])[features_index_unobject]\\\n",
        ".agg({'총세대수':'mean', \"전용면적\": 'sum','전용면적별세대수': 'sum', '공가수': 'mean', '도보 10분거리 내 지하철역 수(환승노선 수 반영)': 'mean',\\\n",
        "      '도보 10분거리 내 버스정류장 수': 'mean', '단지내주차면수': 'sum', '등록차량수':'sum'}).reset_index()"
      ],
      "execution_count": null,
      "outputs": []
    },
    {
      "cell_type": "code",
      "metadata": {
        "id": "RBo4EvAW0eSD"
      },
      "source": [
        "new_train = pd.merge(raw_train_ohe_sum, raw_train_agg, on='단지코드', how='inner')"
      ],
      "execution_count": null,
      "outputs": []
    },
    {
      "cell_type": "code",
      "metadata": {
        "id": "28KuG1Oa-QW-"
      },
      "source": [
        "raw_test_agg = raw_test.groupby(['단지코드'])[[col for col in features_index_unobject if col != '등록차량수']]\\\n",
        ".agg({'총세대수':'mean', \"전용면적\": 'sum','전용면적별세대수': 'sum', '공가수': 'mean', '도보 10분거리 내 지하철역 수(환승노선 수 반영)': 'mean',\\\n",
        "      '도보 10분거리 내 버스정류장 수': 'mean', '단지내주차면수': 'sum'}).reset_index()"
      ],
      "execution_count": null,
      "outputs": []
    },
    {
      "cell_type": "code",
      "metadata": {
        "id": "O9IRaON9-QW-"
      },
      "source": [
        "new_test = pd.merge(raw_test_ohe_sum, raw_test_agg, on='단지코드', how='inner')"
      ],
      "execution_count": null,
      "outputs": []
    },
    {
      "cell_type": "markdown",
      "metadata": {
        "id": "QYHqyfLaWyET"
      },
      "source": [
        "## 왜곡 확인"
      ]
    },
    {
      "cell_type": "code",
      "metadata": {
        "colab": {
          "base_uri": "https://localhost:8080/"
        },
        "id": "WP3cYkP7o3LM",
        "outputId": "02bd37f1-034d-4d53-fab1-d6dde7f48d00"
      },
      "source": [
        "#target(등록차량수) 분포확인\n",
        "#분포를 확인하는 것은 타겟변수가 정상적인 데이터라는 것, 정규분포를 띨때 정확도가 올라감\n",
        "new_train['등록차량수'].hist()"
      ],
      "execution_count": null,
      "outputs": [
        {
          "data": {
            "text/plain": [
              "<matplotlib.axes._subplots.AxesSubplot at 0x7f012dab9e90>"
            ]
          },
          "execution_count": 361,
          "metadata": {},
          "output_type": "execute_result"
        },
        {
          "data": {
            "image/png": "[encoded data removed]",
            "text/plain": [
              "<Figure size 432x288 with 1 Axes>"
            ]
          },
          "metadata": {},
          "output_type": "display_data"
        }
      ]
    },
    {
      "cell_type": "code",
      "metadata": {
        "colab": {
          "base_uri": "https://localhost:8080/"
        },
        "id": "TBCH4TbSqrRn",
        "outputId": "0b41df0b-8a81-450a-964b-cf4f3b94ba55"
      },
      "source": [
        "np.log1p(new_train['등록차량수']).hist()"
      ],
      "execution_count": null,
      "outputs": [
        {
          "data": {
            "text/plain": [
              "<matplotlib.axes._subplots.AxesSubplot at 0x7f012db6bd50>"
            ]
          },
          "execution_count": 324,
          "metadata": {},
          "output_type": "execute_result"
        },
        {
          "data": {
            "image/png": "[encoded data removed]",
            "text/plain": [
              "<Figure size 432x288 with 1 Axes>"
            ]
          },
          "metadata": {},
          "output_type": "display_data"
        }
      ]
    },
    {
      "cell_type": "markdown",
      "metadata": {
        "id": "gsLJP0nyV_HK"
      },
      "source": [
        "- 로그변환후 타겟변수가 더 정규분포에 가까워진것을 확인할 수 있음  \n",
        "  따라서 타겟변수에 로그변환을 적용\n",
        "  나머지 변수에도 동일하게 적용"
      ]
    },
    {
      "cell_type": "code",
      "metadata": {
        "colab": {
          "base_uri": "https://localhost:8080/"
        },
        "id": "ytJBJfk7WakR",
        "outputId": "9bc00650-9cca-4d7b-9c5d-ae58ac197596"
      },
      "source": [
        "#타겟변수 이후의 것도 확인 - train\n",
        "skew_features = new_train[features_index_unobject].apply(lambda x: skew(x))\n",
        "skew_features_top = skew_features[skew_features > 1]\n",
        "print(skew_features_top.sort_values(ascending=False))"
      ],
      "execution_count": null,
      "outputs": [
        {
          "name": "stdout",
          "output_type": "stream",
          "text": [
            "전용면적                            4.113837\n",
            "도보 10분거리 내 지하철역 수(환승노선 수 반영)    3.563665\n",
            "도보 10분거리 내 버스정류장 수              2.789813\n",
            "등록차량수                           1.361853\n",
            "총세대수                            1.344617\n",
            "전용면적별세대수                        1.336908\n",
            "dtype: float64\n"
          ]
        }
      ]
    },
    {
      "cell_type": "code",
      "metadata": {
        "colab": {
          "base_uri": "https://localhost:8080/"
        },
        "id": "rXDxI8MKbGly",
        "outputId": "12fe1587-f68b-4310-e227-99b205df5b27"
      },
      "source": [
        "# 타겟변수 이후의 것도 확인 - test\n",
        "skew_features = new_test[[col for col in features_index_unobject if col != '등록차량수']].apply(lambda x: skew(x))\n",
        "skew_features_top = skew_features[skew_features > 1]\n",
        "print(skew_features_top.sort_values(ascending=False))"
      ],
      "execution_count": null,
      "outputs": [
        {
          "name": "stdout",
          "output_type": "stream",
          "text": [
            "전용면적                            4.528783\n",
            "도보 10분거리 내 지하철역 수(환승노선 수 반영)    4.037509\n",
            "도보 10분거리 내 버스정류장 수              2.165797\n",
            "총세대수                            1.246403\n",
            "전용면적별세대수                        1.245272\n",
            "dtype: float64\n"
          ]
        }
      ]
    },
    {
      "cell_type": "markdown",
      "metadata": {
        "id": "-XDaS0wHXnna"
      },
      "source": [
        "- 보통 1이상의 왜곡이 있을때 높다고 판단, 1이상인 컬럼에 대해서 로그처리 진행"
      ]
    },
    {
      "cell_type": "code",
      "metadata": {
        "id": "52ofSjPEXfhm"
      },
      "source": [
        "new_train[features_index_unobject] = np.log1p(new_train[features_index_unobject])\n",
        "new_test[[col for col in features_index_unobject if col != '등록차량수']] = np.log1p(new_test[[col for col in features_index_unobject if col != '등록차량수']])"
      ],
      "execution_count": null,
      "outputs": []
    },
    {
      "cell_type": "markdown",
      "metadata": {
        "id": "KEMB5O6Nbvs4"
      },
      "source": [
        "- train 데이터에서는 변환하지 않았던 도보 컬럼이 추가됨 train도 적용"
      ]
    },
    {
      "cell_type": "code",
      "metadata": {
        "id": "23xul8vg3xUn"
      },
      "source": [
        "new_train.drop('단지코드', axis=1, inplace=True)"
      ],
      "execution_count": null,
      "outputs": []
    },
    {
      "cell_type": "code",
      "metadata": {
        "id": "5CfmqEZ1AQzv"
      },
      "source": [
        "new_test.drop('단지코드', axis=1, inplace=True)"
      ],
      "execution_count": null,
      "outputs": []
    },
    {
      "cell_type": "markdown",
      "metadata": {
        "id": "xuLWx1Mnf5Im"
      },
      "source": [
        "## 데이터 분할"
      ]
    },
    {
      "cell_type": "code",
      "metadata": {
        "id": "09Fnmexwf9iQ"
      },
      "source": [
        "y_target = new_train.등록차량수\n",
        "X_features = new_train.drop('등록차량수', axis=1, inplace=False)\n",
        "X_train, X_test, y_train, y_test = train_test_split(X_features, y_target, test_size = 0.2, random_state=1001)\n",
        "\n",
        "ridge_params = {'alpha' : [0.05, 0.1, 1, 5, 8, 10, 12, 15, 20]}\n",
        "lasso_params = {'alpha' : [0.001, 0.005, 0.008, 0.05, 0.03, 0.1, 0.5, 1, 5, 10]} "
      ],
      "execution_count": null,
      "outputs": []
    },
    {
      "cell_type": "markdown",
      "metadata": {
        "id": "QBFWxsnFgUhs"
      },
      "source": [
        "# 모델 생성"
      ]
    },
    {
      "cell_type": "code",
      "metadata": {
        "id": "vKVUp4MCgTxs"
      },
      "source": [
        "def get_mae(model):\n",
        "    pred = model.predict(X_test)\n",
        "    mae = mean_absolute_error(y_test , pred)\n",
        "    return mae\n",
        "\n",
        "def get_maes(models):\n",
        "    maes = [ ]\n",
        "    for model in models:\n",
        "        mae = get_mae(model)\n",
        "        maes.append(mae)\n",
        "    return maes"
      ],
      "execution_count": null,
      "outputs": []
    },
    {
      "cell_type": "code",
      "metadata": {
        "colab": {
          "base_uri": "https://localhost:8080/"
        },
        "id": "31mYhcMkheS8",
        "outputId": "f3a14a79-58d6-4002-f30a-c522daa49d7d"
      },
      "source": [
        "# LinearRegression, Ridge, Lasso 학습, 예측, 평가\n",
        "lr_reg = LinearRegression()\n",
        "lr_reg.fit(X_train, y_train)\n",
        "\n",
        "ridge_reg = Ridge()\n",
        "ridge_reg.fit(X_train, y_train)\n",
        "\n",
        "lasso_reg = Lasso()\n",
        "lasso_reg.fit(X_train, y_train)\n",
        "\n",
        "models = [lr_reg, ridge_reg, lasso_reg]\n",
        "get_maes(models)"
      ],
      "execution_count": null,
      "outputs": [
        {
          "data": {
            "text/plain": [
              "[0.2293007790025757, 0.22322737567237605, 0.48601338122043636]"
            ]
          },
          "execution_count": 332,
          "metadata": {},
          "output_type": "execute_result"
        }
      ]
    },
    {
      "cell_type": "code",
      "metadata": {
        "id": "kiulb-6YhnRw"
      },
      "source": [
        "def get_top_bottom_coef(model):\n",
        "    # coef_ 속성을 기반으로 Series 객체를 생성. index는 컬럼명. \n",
        "    coef = pd.Series(model.coef_, index=X_features.columns)\n",
        "    \n",
        "    # + 상위 10개 , - 하위 10개 coefficient 추출하여 반환.\n",
        "    coef_high = coef.sort_values(ascending=False).head(10)\n",
        "    coef_low = coef.sort_values(ascending=False).tail(10)\n",
        "    return coef_high, coef_low"
      ],
      "execution_count": null,
      "outputs": []
    },
    {
      "cell_type": "code",
      "metadata": {
        "id": "4anRSkSg4bb1"
      },
      "source": [
        "def visualize_coefficient(models):\n",
        "    # 3개 회귀 모델의 시각화를 위해 3개의 컬럼을 가지는 subplot 생성\n",
        "    fig, axs = plt.subplots(figsize=(24,10),nrows=1, ncols=3)\n",
        "    fig.tight_layout() \n",
        "    # 입력인자로 받은 list객체인 models에서 차례로 model을 추출하여 회귀 계수 시각화. \n",
        "    for i_num, model in enumerate(models):\n",
        "        # 상위 10개, 하위 10개 회귀 계수를 구하고, 이를 판다스 concat으로 결합. \n",
        "        coef_high, coef_low = get_top_bottom_coef(model)\n",
        "        coef_concat = pd.concat( [coef_high , coef_low] )\n",
        "        # 순차적으로 ax subplot에 barchar로 표현. 한 화면에 표현하기 위해 tick label 위치와 font 크기 조정. \n",
        "        axs[i_num].set_title(model.__class__.__name__+' Coeffiecents', size=25)\n",
        "        axs[i_num].tick_params(axis=\"y\",direction=\"in\", pad=-120)\n",
        "        for label in (axs[i_num].get_xticklabels() + axs[i_num].get_yticklabels()):\n",
        "            label.set_fontsize(22)\n",
        "        sns.barplot(x=coef_concat.values, y=coef_concat.index , ax=axs[i_num])\n",
        "\n",
        "# 앞 예제에서 학습한 lr_reg, ridge_reg, lasso_reg 모델의 회귀 계수 시각화.    \n",
        "models = [lr_reg, ridge_reg, lasso_reg]\n",
        "# visualize_coefficient(models)"
      ],
      "execution_count": null,
      "outputs": []
    },
    {
      "cell_type": "code",
      "metadata": {
        "colab": {
          "base_uri": "https://localhost:8080/"
        },
        "id": "MJHIYGQm4fVu",
        "outputId": "e94289de-5eff-407a-fd01-4763c4b8eb07"
      },
      "source": [
        "def get_best_params(model, params):\n",
        "    grid_model = GridSearchCV(model, param_grid=params, \n",
        "                              scoring='neg_mean_squared_error', cv=5)\n",
        "    grid_model.fit(X_features, y_target)\n",
        "    mae = -1 * grid_model.best_score_\n",
        "    print('{0} 5 CV 시 최적 평균 MAE 값: {1}, 최적 alpha:{2}'.format(model.__class__.__name__,\n",
        "                                        np.round(mae, 4), grid_model.best_params_))\n",
        "    return grid_model.best_estimator_\n",
        "\n",
        "ridge_params = { 'alpha':[0.05, 0.1, 1, 5, 8, 10, 12, 15, 20] }\n",
        "lasso_params = { 'alpha':[0.001, 0.005, 0.008, 0.05, 0.03, 0.1, 0.5, 1,5, 10] }\n",
        "best_rige = get_best_params(ridge_reg, ridge_params)\n",
        "best_lasso = get_best_params(lasso_reg, lasso_params)"
      ],
      "execution_count": null,
      "outputs": [
        {
          "name": "stdout",
          "output_type": "stream",
          "text": [
            "Ridge 5 CV 시 최적 평균 MAE 값: 0.121, 최적 alpha:{'alpha': 8}\n",
            "Lasso 5 CV 시 최적 평균 MAE 값: 0.1223, 최적 alpha:{'alpha': 0.005}\n"
          ]
        }
      ]
    },
    {
      "cell_type": "code",
      "metadata": {
        "id": "LQ9q6j_g7S4A"
      },
      "source": [
        "def evaluate_regr(model, y):\n",
        "    # MSE 는 scikit learn의 mean_absolute_error() 로 계산\n",
        "    pred = model.predict(X_test)\n",
        "    mse_val = mean_absolute_error(y,pred)\n",
        "    print('MAE: {0:.3F}'.format(mse_val))"
      ],
      "execution_count": null,
      "outputs": []
    },
    {
      "cell_type": "code",
      "metadata": {
        "colab": {
          "base_uri": "https://localhost:8080/"
        },
        "id": "1OQfFl7b5CCJ",
        "outputId": "3a859c36-fbdb-4727-e79b-f455aa49c78d"
      },
      "source": [
        "evaluate_regr(best_rige, y_test)"
      ],
      "execution_count": null,
      "outputs": [
        {
          "name": "stdout",
          "output_type": "stream",
          "text": [
            "MAE: 0.200\n"
          ]
        }
      ]
    },
    {
      "cell_type": "markdown",
      "metadata": {
        "id": "lgJLvFfXzcjH"
      },
      "source": [
        "# 결과처리"
      ]
    },
    {
      "cell_type": "code",
      "metadata": {
        "id": "O4W7ChIXFtqh"
      },
      "source": [
        "sorterIndex = dict(zip(sorter, range(len(sorter))))"
      ],
      "execution_count": null,
      "outputs": []
    },
    {
      "cell_type": "code",
      "metadata": {
        "id": "UpczqLasnaS4"
      },
      "source": [
        "result = pd.DataFrame()\n",
        "result['code'] = raw_test['단지코드'].drop_duplicates(keep='first').sort_values().reset_index(drop=True)\n",
        "result['num'] = np.exp(best_rige.predict(new_test))\n",
        "result['Rank'] = result['code'].map(sorterIndex)"
      ],
      "execution_count": null,
      "outputs": []
    },
    {
      "cell_type": "code",
      "metadata": {
        "id": "SuF2LPLdsF2n"
      },
      "source": [
        "sub_ex = pd.read_csv(\"/content/drive/My Drive/머신러닝_실전예제/Dacon_주차수요예측/data/sample_submission.csv\")"
      ],
      "execution_count": null,
      "outputs": []
    },
    {
      "cell_type": "code",
      "metadata": {
        "colab": {
          "base_uri": "https://localhost:8080/",
          "height": 203
        },
        "id": "2hFUHem6q3TT",
        "outputId": "1ca00473-a86c-4be4-f649-77b67405a4c4"
      },
      "source": [
        "result.sort_values('Rank').head()"
      ],
      "execution_count": null,
      "outputs": [
        {
          "data": {
            "text/html": [
              "<div>\n",
              "<style scoped>\n",
              "    .dataframe tbody tr th:only-of-type {\n",
              "        vertical-align: middle;\n",
              "    }\n",
              "\n",
              "    .dataframe tbody tr th {\n",
              "        vertical-align: top;\n",
              "    }\n",
              "\n",
              "    .dataframe thead th {\n",
              "        text-align: right;\n",
              "    }\n",
              "</style>\n",
              "<table border=\"1\" class=\"dataframe\">\n",
              "  <thead>\n",
              "    <tr style=\"text-align: right;\">\n",
              "      <th></th>\n",
              "      <th>code</th>\n",
              "      <th>num</th>\n",
              "      <th>Rank</th>\n",
              "    </tr>\n",
              "  </thead>\n",
              "  <tbody>\n",
              "    <tr>\n",
              "      <th>10</th>\n",
              "      <td>C1072</td>\n",
              "      <td>743.479903</td>\n",
              "      <td>0</td>\n",
              "    </tr>\n",
              "    <tr>\n",
              "      <th>13</th>\n",
              "      <td>C1128</td>\n",
              "      <td>1281.918928</td>\n",
              "      <td>1</td>\n",
              "    </tr>\n",
              "    <tr>\n",
              "      <th>44</th>\n",
              "      <td>C1456</td>\n",
              "      <td>496.607600</td>\n",
              "      <td>2</td>\n",
              "    </tr>\n",
              "    <tr>\n",
              "      <th>83</th>\n",
              "      <td>C1840</td>\n",
              "      <td>496.347192</td>\n",
              "      <td>3</td>\n",
              "    </tr>\n",
              "    <tr>\n",
              "      <th>38</th>\n",
              "      <td>C1332</td>\n",
              "      <td>960.537965</td>\n",
              "      <td>4</td>\n",
              "    </tr>\n",
              "  </tbody>\n",
              "</table>\n",
              "</div>"
            ],
            "text/plain": [
              "     code          num  Rank\n",
              "10  C1072   743.479903     0\n",
              "13  C1128  1281.918928     1\n",
              "44  C1456   496.607600     2\n",
              "83  C1840   496.347192     3\n",
              "38  C1332   960.537965     4"
            ]
          },
          "execution_count": 345,
          "metadata": {},
          "output_type": "execute_result"
        }
      ]
    },
    {
      "cell_type": "code",
      "metadata": {
        "id": "eBVsLLWHyE1d"
      },
      "source": [
        "result = result.sort_values('Rank')"
      ],
      "execution_count": null,
      "outputs": []
    },
    {
      "cell_type": "code",
      "metadata": {
        "id": "iifcZqR0x1QR"
      },
      "source": [
        "result.drop('Rank', axis=1, inplace=True)"
      ],
      "execution_count": null,
      "outputs": []
    },
    {
      "cell_type": "code",
      "metadata": {
        "id": "qdYSv0v3pluW"
      },
      "source": [
        "result.to_csv(\"/content/drive/My Drive/머신러닝_실전예제/Dacon_주차수요예측/data/submission.csv\", index=False)"
      ],
      "execution_count": null,
      "outputs": []
    }
  ]
}