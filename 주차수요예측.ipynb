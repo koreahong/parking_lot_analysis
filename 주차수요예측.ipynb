{
  "nbformat": 4,
  "nbformat_minor": 0,
  "metadata": {
    "colab": {
      "name": "주차수요예측.ipynb",
      "provenance": [],
      "collapsed_sections": [
        "hoD7tvfG_uFd",
        "gnUutcb4Bli2",
        "hEDZEI8omuNP",
        "JwkjjDW3twLh",
        "AdA0Qt1Njlq1",
        "XT9mniJDlanp",
        "MK52wwRndx99",
        "RoXsWxcmllm7",
        "3fb8CH0apmDY",
        "vs1AlYJmuf16",
        "QYHqyfLaWyET",
        "xuLWx1Mnf5Im",
        "QBFWxsnFgUhs"
      ],
      "authorship_tag": "ABX9TyNJp58DKSbPwQdmdVOd8WEI",
      "include_colab_link": true
    },
    "kernelspec": {
      "display_name": "Python 3",
      "name": "python3"
    },
    "language_info": {
      "name": "python"
    }
  },
  "cells": [
    {
      "cell_type": "markdown",
      "metadata": {
        "id": "view-in-github",
        "colab_type": "text"
      },
      "source": [
        "<a href=\"https://colab.research.google.com/github/koreahong/parking_lot_analysis/blob/main/%EC%A3%BC%EC%B0%A8%EC%88%98%EC%9A%94%EC%98%88%EC%B8%A1.ipynb\" target=\"_parent\"><img src=\"https://colab.research.google.com/assets/colab-badge.svg\" alt=\"Open In Colab\"/></a>"
      ]
    },
    {
      "cell_type": "markdown",
      "metadata": {
        "id": "Yat1FEvhSyVY"
      },
      "source": [
        "# 과정중 발생한 문제 / 해결방법\n",
        "row 삭제하고 나서 index를 다시 설정해야 apply함수 적용시킬때 문제가 안생김"
      ]
    },
    {
      "cell_type": "markdown",
      "metadata": {
        "id": "OesyPLziwFCT"
      },
      "source": [
        "# 문제정의\n",
        "\n",
        "문제\n",
        "-  주차수요예측: 등록차량수가 어느정도 될 것인가\n",
        "\n",
        "컬럼 \n",
        "- 단지코드\n",
        "- 총세대수\n",
        "- 임대건물구분\n",
        "- 지역\n",
        "- 공급유형\n",
        "- 전용면적\n",
        "- 전용면적별세대수\n",
        "- 공가수\n",
        "- 신분\n",
        "- 임대료보증금\n",
        "- 임대료\n",
        "- 도보 10분거리 내 지하철역 수(환승노선 수 반영)\n",
        "- 도보 10분거리 내 버스정류장 수\n",
        "- 단지내주차면수\n",
        "- 등록차량수 (예측)\n",
        "\n"
      ]
    },
    {
      "cell_type": "markdown",
      "metadata": {
        "id": "PS8u6oc3bXJ2"
      },
      "source": [
        "# 자료 \n",
        "  - [참고자료1](https://biz.chosun.com/real_estate/real_estate_general/2021/05/12/2C3EFUDZOFG55LHLD3BKRCVYNI/) - 2030세대 소형, 초소형 아파트에 몰림\n",
        "\n",
        "- [참고자료2](https://www.carisyou.com/magazine/STATS/76374) - 50대에 가까워질수록 차구매를 많이함 / 중고자동차는 2030세대"
      ]
    },
    {
      "cell_type": "code",
      "metadata": {
        "id": "T10BDyL4cl27"
      },
      "source": [
        "#download pont\n",
        "!sudo apt-get install -y fonts-nanum\n",
        "!sudo fc-cache -fv\n",
        "!rm ~/.cache/matplotlib -rf"
      ],
      "execution_count": null,
      "outputs": []
    },
    {
      "cell_type": "code",
      "metadata": {
        "id": "sZlgseiX_37q"
      },
      "source": [
        "import pandas as pd\n",
        "import numpy as np\n",
        "import copy\n",
        "\n",
        "#시각화\n",
        "import matplotlib.pyplot as plt\n",
        "import plotly.express as px\n",
        "import plotly.graph_objects as go\n",
        "import seaborn as sns\n",
        "\n",
        "#통계\n",
        "from scipy.stats import skew\n",
        "\n",
        "#데이터전처리\n",
        "from sklearn.preprocessing import OneHotEncoder\n",
        "\n",
        "#머신러닝 \n",
        "from sklearn.linear_model import LinearRegression, Ridge, Lasso\n",
        "from sklearn.model_selection import train_test_split\n",
        "from sklearn.metrics import mean_absolute_error\n",
        "from sklearn.model_selection import GridSearchCV\n",
        "\n",
        "#경고무시\n",
        "import warnings\n",
        "warnings.filterwarnings(\"ignore\")\n",
        "\n",
        "#폰트설정\n",
        "plt.rc('font', family='NanumBarunGothic') "
      ],
      "execution_count": null,
      "outputs": []
    },
    {
      "cell_type": "markdown",
      "metadata": {
        "id": "hoD7tvfG_uFd"
      },
      "source": [
        "#데이터 수집\n",
        "\n",
        "- 구글 드라이브 연동 후 알집 풀기\n"
      ]
    },
    {
      "cell_type": "code",
      "metadata": {
        "colab": {
          "base_uri": "https://localhost:8080/"
        },
        "id": "Hf8exqDl5uyH",
        "outputId": "06372a07-ccde-4e59-e299-05145aff7bfb"
      },
      "source": [
        "#mount google drive \n",
        "from google.colab import drive \n",
        "drive.mount('/content/drive/')"
      ],
      "execution_count": null,
      "outputs": [
        {
          "output_type": "stream",
          "name": "stdout",
          "text": [
            "Mounted at /content/drive/\n"
          ]
        }
      ]
    },
    {
      "cell_type": "code",
      "metadata": {
        "colab": {
          "base_uri": "https://localhost:8080/"
        },
        "id": "nzG21tWd7pIT",
        "outputId": "7d12f7a3-bd2d-4ab6-9780-7deba1e51bd8"
      },
      "source": [
        "#path setting, you must use '%' command\n",
        "%cd \"/content/drive/My Drive/머신러닝_실전예제/Dacon_주차수요예측/data/\"\n",
        "#unzip\n",
        "!unzip -qq \"/content/drive/MyDrive/머신러닝_실전예제/Dacon_주차수요예측/data/parking_data.zip\""
      ],
      "execution_count": null,
      "outputs": [
        {
          "name": "stdout",
          "output_type": "stream",
          "text": [
            "/content/drive/MyDrive/머신러닝_실전예제/Dacon_주차수요예측\n"
          ]
        }
      ]
    },
    {
      "cell_type": "code",
      "metadata": {
        "id": "BRq7MuAr_14Y"
      },
      "source": [
        "raw_train = pd.read_csv(\"/content/drive/My Drive/머신러닝_실전예제/Dacon_주차수요예측/data/train.csv\")"
      ],
      "execution_count": null,
      "outputs": []
    },
    {
      "cell_type": "code",
      "metadata": {
        "id": "MTPZK6cE9izf"
      },
      "source": [
        "raw_test = pd.read_csv(\"/content/drive/My Drive/머신러닝_실전예제/Dacon_주차수요예측/data/test.csv\")"
      ],
      "execution_count": null,
      "outputs": []
    },
    {
      "cell_type": "code",
      "metadata": {
        "id": "xGC2rFcqALcB"
      },
      "source": [
        "raw_train.head()"
      ],
      "execution_count": null,
      "outputs": []
    },
    {
      "cell_type": "code",
      "metadata": {
        "id": "qm5QmyoLA-sL",
        "colab": {
          "base_uri": "https://localhost:8080/"
        },
        "outputId": "5908f43c-4f7e-4944-bf94-7ceb3f88e79a"
      },
      "source": [
        "raw_train.info()"
      ],
      "execution_count": null,
      "outputs": [
        {
          "output_type": "stream",
          "name": "stdout",
          "text": [
            "<class 'pandas.core.frame.DataFrame'>\n",
            "RangeIndex: 2952 entries, 0 to 2951\n",
            "Data columns (total 15 columns):\n",
            " #   Column                        Non-Null Count  Dtype  \n",
            "---  ------                        --------------  -----  \n",
            " 0   단지코드                          2952 non-null   object \n",
            " 1   총세대수                          2952 non-null   int64  \n",
            " 2   임대건물구분                        2952 non-null   object \n",
            " 3   지역                            2952 non-null   object \n",
            " 4   공급유형                          2952 non-null   object \n",
            " 5   전용면적                          2952 non-null   float64\n",
            " 6   전용면적별세대수                      2952 non-null   int64  \n",
            " 7   공가수                           2952 non-null   float64\n",
            " 8   자격유형                          2952 non-null   object \n",
            " 9   임대보증금                         2383 non-null   object \n",
            " 10  임대료                           2383 non-null   object \n",
            " 11  도보 10분거리 내 지하철역 수(환승노선 수 반영)  2741 non-null   float64\n",
            " 12  도보 10분거리 내 버스정류장 수            2948 non-null   float64\n",
            " 13  단지내주차면수                       2952 non-null   float64\n",
            " 14  등록차량수                         2952 non-null   float64\n",
            "dtypes: float64(6), int64(2), object(7)\n",
            "memory usage: 346.1+ KB\n"
          ]
        }
      ]
    },
    {
      "cell_type": "code",
      "metadata": {
        "id": "gw3BdjVGBPfs"
      },
      "source": [
        "raw_test.info()"
      ],
      "execution_count": null,
      "outputs": []
    },
    {
      "cell_type": "code",
      "metadata": {
        "id": "mxl9OuGTANW2"
      },
      "source": [
        "age_info = pd.read_csv(\"/content/drive/My Drive/머신러닝_실전예제/Dacon_주차수요예측/data/age_gender_info.csv\")"
      ],
      "execution_count": null,
      "outputs": []
    },
    {
      "cell_type": "code",
      "metadata": {
        "id": "dtvxWe5EAhyu"
      },
      "source": [
        "age_info.head()"
      ],
      "execution_count": null,
      "outputs": []
    },
    {
      "cell_type": "code",
      "metadata": {
        "id": "E_fDyO6PBYho"
      },
      "source": [
        "age_info.info()"
      ],
      "execution_count": null,
      "outputs": []
    },
    {
      "cell_type": "markdown",
      "metadata": {
        "id": "ABqeJcB8Qgf2"
      },
      "source": [
        "## obect type인것들 unique로 간략하게 보자"
      ]
    },
    {
      "cell_type": "code",
      "metadata": {
        "colab": {
          "base_uri": "https://localhost:8080/"
        },
        "id": "AAc94VQQQyvx",
        "outputId": "6b051a02-eb4e-442c-edce-1f73dd19b947"
      },
      "source": [
        "oject_index = raw_train.dtypes[raw_train.dtypes == 'object'].index\n",
        "oject_index"
      ],
      "execution_count": null,
      "outputs": [
        {
          "output_type": "execute_result",
          "data": {
            "text/plain": [
              "Index(['단지코드', '임대건물구분', '지역', '공급유형', '자격유형', '임대보증금', '임대료'], dtype='object')"
            ]
          },
          "metadata": {},
          "execution_count": 88
        }
      ]
    },
    {
      "cell_type": "markdown",
      "metadata": {
        "id": "AtSQwa-wQ3hE"
      },
      "source": [
        "임대보증금과, 임대료는 숫자형으로 교체  \n",
        "null값이 있음 -> 추후 null값 처리\n",
        "2컬럼을 제외한 나머지만 갑 확인"
      ]
    },
    {
      "cell_type": "markdown",
      "metadata": {
        "id": "7MW3k12yRfBQ"
      },
      "source": [
        "\n"
      ]
    },
    {
      "cell_type": "code",
      "metadata": {
        "colab": {
          "base_uri": "https://localhost:8080/"
        },
        "id": "tRK_TvqmQuLu",
        "outputId": "9f7b0dd6-622f-493a-b524-8f177e8db83f"
      },
      "source": [
        "for col in oject_index[:-2]:\n",
        "  print(f\"col: {col}, \\n {raw_train[col].unique()} \\n\")"
      ],
      "execution_count": null,
      "outputs": [
        {
          "output_type": "stream",
          "name": "stdout",
          "text": [
            "col: 단지코드, \n",
            " ['C2483' 'C2515' 'C1407' 'C1945' 'C1470' 'C1898' 'C1244' 'C1171' 'C2073'\n",
            " 'C2513' 'C1936' 'C2049' 'C2202' 'C1925' 'C2576' 'C1312' 'C1874' 'C2650'\n",
            " 'C2416' 'C2013' 'C1424' 'C2100' 'C2621' 'C2520' 'C2319' 'C1616' 'C1704'\n",
            " 'C2258' 'C1032' 'C2038' 'C1859' 'C1722' 'C1850' 'C2190' 'C1476' 'C1077'\n",
            " 'C1068' 'C1983' 'C2135' 'C2034' 'C1109' 'C1497' 'C2289' 'C2597' 'C2310'\n",
            " 'C1672' 'C2132' 'C1439' 'C1613' 'C2216' 'C1899' 'C1056' 'C2644' 'C1206'\n",
            " 'C2481' 'C1718' 'C1655' 'C1430' 'C1775' 'C1519' 'C2221' 'C1790' 'C2109'\n",
            " 'C1698' 'C1866' 'C1005' 'C1004' 'C1875' 'C2156' 'C2212' 'C2401' 'C2571'\n",
            " 'C1175' 'C1833' 'C2445' 'C1885' 'C2368' 'C2016' 'C2371' 'C2536' 'C2538'\n",
            " 'C1014' 'C1592' 'C1867' 'C2326' 'C1015' 'C1620' 'C1049' 'C2000' 'C2097'\n",
            " 'C1668' 'C1689' 'C1234' 'C2514' 'C1368' 'C1057' 'C2336' 'C1026' 'C2256'\n",
            " 'C1900' 'C2666' 'C2361' 'C1642' 'C1013' 'C2232' 'C1973' 'C2458' 'C2574'\n",
            " 'C2133' 'C2096' 'C2010' 'C1879' 'C1131' 'C1468' 'C1213' 'C1173' 'C2492'\n",
            " 'C2032' 'C2094' 'C1880' 'C2089' 'C1744' 'C2046' 'C2071' 'C2635' 'C2390'\n",
            " 'C2561' 'C1663' 'C2490' 'C2066' 'C1585' 'C2276' 'C1155' 'C1693' 'C1889'\n",
            " 'C2518' 'C1962' 'C1666' 'C1988' 'C1537' 'C1329' 'C1762' 'C2008' 'C1319'\n",
            " 'C1141' 'C2340' 'C1929' 'C1681' 'C1184' 'C2383' 'C1579' 'C2173' 'C1911'\n",
            " 'C1638' 'C2412' 'C1871' 'C1309' 'C1527' 'C2208' 'C1940' 'C2596' 'C2227'\n",
            " 'C2563' 'C2358' 'C1492' 'C1601' 'C1687' 'C1236' 'C1487' 'C1379' 'C1386'\n",
            " 'C1656' 'C2526' 'C1022' 'C1896' 'C1269' 'C1916' 'C2070' 'C1967' 'C2021'\n",
            " 'C1143' 'C2188' 'C2651' 'C1036' 'C2657' 'C2527' 'C1502' 'C2262' 'C1084'\n",
            " 'C2530' 'C1046' 'C1761' 'C1102' 'C2420' 'C1122' 'C2042' 'C1375' 'C1410'\n",
            " 'C1641' 'C1706' 'C1307' 'C2601' 'C1085' 'C2385' 'C1059' 'C2162' 'C1819'\n",
            " 'C2325' 'C2394' 'C1133' 'C1281' 'C1194' 'C2308' 'C2036' 'C1394' 'C1180'\n",
            " 'C2503' 'C1907' 'C2181' 'C1768' 'C1783' 'C2192' 'C2346' 'C2680' 'C2631'\n",
            " 'C2141' 'C1569' 'C2099' 'C2287' 'C2055' 'C1428' 'C2522' 'C2560' 'C2068'\n",
            " 'C2603' 'C1965' 'C1660' 'C2378' 'C1268' 'C1994' 'C1837' 'C1000' 'C1465'\n",
            " 'C1448' 'C1516' 'C2670' 'C1365' 'C1177' 'C1360' 'C2488' 'C1406' 'C1566'\n",
            " 'C1227' 'C2460' 'C2486' 'C2106' 'C1572' 'C1773' 'C1677' 'C1823' 'C1344'\n",
            " 'C2692' 'C2505' 'C2587' 'C2127' 'C1316' 'C1674' 'C1713' 'C1845' 'C2082'\n",
            " 'C1328' 'C2357' 'C2565' 'C1804' 'C1397' 'C2255' 'C1343' 'C1987' 'C2479'\n",
            " 'C2352' 'C1310' 'C1738' 'C1039' 'C1863' 'C1426' 'C2659' 'C2489' 'C2211'\n",
            " 'C2314' 'C1861' 'C2389' 'C1490' 'C1024' 'C1788' 'C1740' 'C2620' 'C1286'\n",
            " 'C2085' 'C1089' 'C2237' 'C1341' 'C1338' 'C2405' 'C1969' 'C2274' 'C1699'\n",
            " 'C2251' 'C1340' 'C2373' 'C1455' 'C1095' 'C2137' 'C1985' 'C2583' 'C2663'\n",
            " 'C2450' 'C2329' 'C1834' 'C1649' 'C1848' 'C1743' 'C1350' 'C1402' 'C1103'\n",
            " 'C1129' 'C1027' 'C2377' 'C2431' 'C2661' 'C1263' 'C1136' 'C2605' 'C2393'\n",
            " 'C1673' 'C1017' 'C2539' 'C1933' 'C2316' 'C2051' 'C2414' 'C1301' 'C1700'\n",
            " 'C1636' 'C2612' 'C1757' 'C2507' 'C1163' 'C2627' 'C2040' 'C2609' 'C2001'\n",
            " 'C1065' 'C1363' 'C2579' 'C1048' 'C1210' 'C1320' 'C1941' 'C1326' 'C1685'\n",
            " 'C2618' 'C1451' 'C2143' 'C1968' 'C2470' 'C1258' 'C2453' 'C1659' 'C1724'\n",
            " 'C1802' 'C1939' 'C1284' 'C2595' 'C2351' 'C2506' 'C1697' 'C2259' 'C1786'\n",
            " 'C1357' 'C2570' 'C1652' 'C1565' 'C1910' 'C2359' 'C2139' 'C1979' 'C1803'\n",
            " 'C2508' 'C2531' 'C1695' 'C2556' 'C2086' 'C1544' 'C2154' 'C2496' 'C1756'\n",
            " 'C2362' 'C2568' 'C2245' 'C2059' 'C2549' 'C1584' 'C2298' 'C2225' 'C1218'\n",
            " 'C2328' 'C1045' 'C1207' 'C1970' 'C1732' 'C2433' 'C1894' 'C1156' 'C2142'\n",
            " 'C2153' 'C2186' 'C1176' 'C2446' 'C2586' 'C2035' 'C2020' 'C2437' 'C2532'] \n",
            "\n",
            "col: 임대건물구분, \n",
            " ['아파트' '상가'] \n",
            "\n",
            "col: 지역, \n",
            " ['경상북도' '경상남도' '대전광역시' '경기도' '전라북도' '강원도' '광주광역시' '충청남도' '부산광역시' '제주특별자치도'\n",
            " '울산광역시' '충청북도' '전라남도' '대구광역시' '서울특별시' '세종특별자치시'] \n",
            "\n",
            "col: 공급유형, \n",
            " ['국민임대' '공공임대(50년)' '영구임대' '임대상가' '공공임대(10년)' '공공임대(분납)' '장기전세' '공공분양'\n",
            " '행복주택' '공공임대(5년)'] \n",
            "\n",
            "col: 자격유형, \n",
            " ['A' 'B' 'C' 'D' 'E' 'F' 'G' 'H' 'I' 'J' 'K' 'L' 'M' 'N' 'O'] \n",
            "\n"
          ]
        }
      ]
    },
    {
      "cell_type": "code",
      "metadata": {
        "colab": {
          "base_uri": "https://localhost:8080/",
          "height": 418
        },
        "id": "p1276GkyiiOj",
        "outputId": "c901a64a-ff57-4f8d-9236-6c648352b353"
      },
      "source": [
        " raw_train[raw_train.dtypes[raw_train.dtypes != 'object'].index]"
      ],
      "execution_count": 155,
      "outputs": [
        {
          "output_type": "execute_result",
          "data": {
            "text/html": [
              "<div>\n",
              "<style scoped>\n",
              "    .dataframe tbody tr th:only-of-type {\n",
              "        vertical-align: middle;\n",
              "    }\n",
              "\n",
              "    .dataframe tbody tr th {\n",
              "        vertical-align: top;\n",
              "    }\n",
              "\n",
              "    .dataframe thead th {\n",
              "        text-align: right;\n",
              "    }\n",
              "</style>\n",
              "<table border=\"1\" class=\"dataframe\">\n",
              "  <thead>\n",
              "    <tr style=\"text-align: right;\">\n",
              "      <th></th>\n",
              "      <th>총세대수</th>\n",
              "      <th>전용면적</th>\n",
              "      <th>전용면적별세대수</th>\n",
              "      <th>공가수</th>\n",
              "      <th>도보 10분거리 내 지하철역 수(환승노선 수 반영)</th>\n",
              "      <th>도보 10분거리 내 버스정류장 수</th>\n",
              "      <th>단지내주차면수</th>\n",
              "      <th>등록차량수</th>\n",
              "    </tr>\n",
              "  </thead>\n",
              "  <tbody>\n",
              "    <tr>\n",
              "      <th>0</th>\n",
              "      <td>900</td>\n",
              "      <td>39.72</td>\n",
              "      <td>134</td>\n",
              "      <td>38.0</td>\n",
              "      <td>0.0</td>\n",
              "      <td>3.0</td>\n",
              "      <td>1425.0</td>\n",
              "      <td>1015.0</td>\n",
              "    </tr>\n",
              "    <tr>\n",
              "      <th>1</th>\n",
              "      <td>900</td>\n",
              "      <td>39.72</td>\n",
              "      <td>15</td>\n",
              "      <td>38.0</td>\n",
              "      <td>0.0</td>\n",
              "      <td>3.0</td>\n",
              "      <td>1425.0</td>\n",
              "      <td>1015.0</td>\n",
              "    </tr>\n",
              "    <tr>\n",
              "      <th>2</th>\n",
              "      <td>900</td>\n",
              "      <td>51.93</td>\n",
              "      <td>385</td>\n",
              "      <td>38.0</td>\n",
              "      <td>0.0</td>\n",
              "      <td>3.0</td>\n",
              "      <td>1425.0</td>\n",
              "      <td>1015.0</td>\n",
              "    </tr>\n",
              "    <tr>\n",
              "      <th>3</th>\n",
              "      <td>900</td>\n",
              "      <td>51.93</td>\n",
              "      <td>15</td>\n",
              "      <td>38.0</td>\n",
              "      <td>0.0</td>\n",
              "      <td>3.0</td>\n",
              "      <td>1425.0</td>\n",
              "      <td>1015.0</td>\n",
              "    </tr>\n",
              "    <tr>\n",
              "      <th>4</th>\n",
              "      <td>900</td>\n",
              "      <td>51.93</td>\n",
              "      <td>41</td>\n",
              "      <td>38.0</td>\n",
              "      <td>0.0</td>\n",
              "      <td>3.0</td>\n",
              "      <td>1425.0</td>\n",
              "      <td>1015.0</td>\n",
              "    </tr>\n",
              "    <tr>\n",
              "      <th>...</th>\n",
              "      <td>...</td>\n",
              "      <td>...</td>\n",
              "      <td>...</td>\n",
              "      <td>...</td>\n",
              "      <td>...</td>\n",
              "      <td>...</td>\n",
              "      <td>...</td>\n",
              "      <td>...</td>\n",
              "    </tr>\n",
              "    <tr>\n",
              "      <th>2947</th>\n",
              "      <td>239</td>\n",
              "      <td>49.20</td>\n",
              "      <td>19</td>\n",
              "      <td>7.0</td>\n",
              "      <td>0.0</td>\n",
              "      <td>1.0</td>\n",
              "      <td>166.0</td>\n",
              "      <td>146.0</td>\n",
              "    </tr>\n",
              "    <tr>\n",
              "      <th>2948</th>\n",
              "      <td>239</td>\n",
              "      <td>51.08</td>\n",
              "      <td>34</td>\n",
              "      <td>7.0</td>\n",
              "      <td>0.0</td>\n",
              "      <td>1.0</td>\n",
              "      <td>166.0</td>\n",
              "      <td>146.0</td>\n",
              "    </tr>\n",
              "    <tr>\n",
              "      <th>2949</th>\n",
              "      <td>239</td>\n",
              "      <td>51.73</td>\n",
              "      <td>34</td>\n",
              "      <td>7.0</td>\n",
              "      <td>0.0</td>\n",
              "      <td>1.0</td>\n",
              "      <td>166.0</td>\n",
              "      <td>146.0</td>\n",
              "    </tr>\n",
              "    <tr>\n",
              "      <th>2950</th>\n",
              "      <td>239</td>\n",
              "      <td>51.96</td>\n",
              "      <td>114</td>\n",
              "      <td>7.0</td>\n",
              "      <td>0.0</td>\n",
              "      <td>1.0</td>\n",
              "      <td>166.0</td>\n",
              "      <td>146.0</td>\n",
              "    </tr>\n",
              "    <tr>\n",
              "      <th>2951</th>\n",
              "      <td>239</td>\n",
              "      <td>54.95</td>\n",
              "      <td>19</td>\n",
              "      <td>7.0</td>\n",
              "      <td>0.0</td>\n",
              "      <td>1.0</td>\n",
              "      <td>166.0</td>\n",
              "      <td>146.0</td>\n",
              "    </tr>\n",
              "  </tbody>\n",
              "</table>\n",
              "<p>2952 rows × 8 columns</p>\n",
              "</div>"
            ],
            "text/plain": [
              "      총세대수   전용면적  전용면적별세대수  ...  도보 10분거리 내 버스정류장 수  단지내주차면수   등록차량수\n",
              "0      900  39.72       134  ...                 3.0   1425.0  1015.0\n",
              "1      900  39.72        15  ...                 3.0   1425.0  1015.0\n",
              "2      900  51.93       385  ...                 3.0   1425.0  1015.0\n",
              "3      900  51.93        15  ...                 3.0   1425.0  1015.0\n",
              "4      900  51.93        41  ...                 3.0   1425.0  1015.0\n",
              "...    ...    ...       ...  ...                 ...      ...     ...\n",
              "2947   239  49.20        19  ...                 1.0    166.0   146.0\n",
              "2948   239  51.08        34  ...                 1.0    166.0   146.0\n",
              "2949   239  51.73        34  ...                 1.0    166.0   146.0\n",
              "2950   239  51.96       114  ...                 1.0    166.0   146.0\n",
              "2951   239  54.95        19  ...                 1.0    166.0   146.0\n",
              "\n",
              "[2952 rows x 8 columns]"
            ]
          },
          "metadata": {},
          "execution_count": 155
        }
      ]
    },
    {
      "cell_type": "markdown",
      "metadata": {
        "id": "j0I1hrixA1s2"
      },
      "source": [
        "# 데이터 전처리"
      ]
    },
    {
      "cell_type": "markdown",
      "metadata": {
        "id": "gnUutcb4Bli2"
      },
      "source": [
        "## null 값처리"
      ]
    },
    {
      "cell_type": "code",
      "metadata": {
        "id": "ASxRIv6uA6aZ"
      },
      "source": [
        "for col in raw_train.columns:\n",
        "  print(f\"{col} : {raw_train[col].unique()}\")"
      ],
      "execution_count": null,
      "outputs": []
    },
    {
      "cell_type": "markdown",
      "metadata": {
        "id": "f1zpuo58C3Lb"
      },
      "source": [
        "- 값을 확인해보니 해당 데이터파일의 널값 표시는 '-'로 지정하는 것으로 확인됨"
      ]
    },
    {
      "cell_type": "code",
      "metadata": {
        "id": "jwCduVpJB5B0"
      },
      "source": [
        "#'-' or null값 파악\n",
        "for col in raw_train.columns:\n",
        "  print(f\"{col} \\t '-' 개수: {len( raw_train[(raw_train[col] == '-')])} \\\n",
        "        null 개수: {len(raw_train[raw_train[col].isnull()])} \\\n",
        "        정상값: {len(raw_train[(raw_train[col] != '-') & (raw_train[col].notnull())])} \\n \\\n",
        "        합계: {len( raw_train[(raw_train[col] == '-')]) + len(raw_train[raw_train[col].isnull()]) + len(raw_train[(raw_train[col] != '-') & (raw_train[col].notnull())])}\")"
      ],
      "execution_count": null,
      "outputs": []
    },
    {
      "cell_type": "markdown",
      "metadata": {
        "id": "OYT3ZPNBEs_q"
      },
      "source": [
        "- 위 작업을 통해서 '-' 값과 null값을 처리하면 된다는 것을 파악함"
      ]
    },
    {
      "cell_type": "code",
      "metadata": {
        "id": "bUM3EMYvEsVf"
      },
      "source": [
        "#같은 프로세스로 raw_test 확인\n",
        "#'-' or null값 파악\n",
        "for col in raw_test.columns:\n",
        "  print(f\"{col} \\t '-' 개수: {len( raw_test[(raw_test[col] == '-')])} \\\n",
        "        null 개수: {len(raw_test[raw_test[col].isnull()])} \\\n",
        "        정상값: {len(raw_test[(raw_test[col] != '-') & (raw_test[col].notnull())])} \\n \\\n",
        "        합계: {len( raw_test[(raw_test[col] == '-')]) + len(raw_test[raw_test[col].isnull()]) + len(raw_test[(raw_test[col] != '-') & (raw_test[col].notnull())])}\")"
      ],
      "execution_count": null,
      "outputs": []
    },
    {
      "cell_type": "markdown",
      "metadata": {
        "id": "xlHJlagYGrIb"
      },
      "source": [
        "- raw_test도 train과 같이 '-'와 null만 처리하면 됨\n",
        "- train, test 전체적으로 '-'가 있는 컬럼은 '임대보증금', '임대료'\n",
        "- train, test 전체적으로 null이 있는 컬럼은 '임대보증금', '임대료', '도보 10분거리 내 버스정류장 수' 이다\n"
      ]
    },
    {
      "cell_type": "markdown",
      "metadata": {
        "id": "hEDZEI8omuNP"
      },
      "source": [
        "### 임대보증금, 임대료 처리"
      ]
    },
    {
      "cell_type": "code",
      "metadata": {
        "id": "x-cC9iWJDVMe"
      },
      "source": [
        "#'-'가 있는 '임대보증금', '임대료' 컬럼부터 확인\n",
        "raw_train[raw_train['임대보증금'] == '-'].head()"
      ],
      "execution_count": null,
      "outputs": []
    },
    {
      "cell_type": "code",
      "metadata": {
        "id": "niSQknPGH-3p"
      },
      "source": [
        "raw_train[raw_train['임대료'] == '-'].head()"
      ],
      "execution_count": null,
      "outputs": []
    },
    {
      "cell_type": "markdown",
      "metadata": {
        "id": "-SDBmexdNbh0"
      },
      "source": [
        "- 임대료가 없는 곳에는 임대보증금이 없음\n",
        "- null값 처리를 위해서 임대보증금과 임대료의 상관관계 확인이 필요"
      ]
    },
    {
      "cell_type": "code",
      "metadata": {
        "id": "kJIEdLg7I-xG"
      },
      "source": [
        "#공급유형별로 상관관계 확인\n",
        "for supply_type in raw_train['공급유형'].unique():\n",
        "  supply_type_check = raw_train[(raw_train['공급유형'] == supply_type) & (raw_train['임대료'] != '-') & \\\n",
        "                (raw_train['임대보증금'] != '-')& (raw_train['임대료'].notnull()) & \\\n",
        "                (raw_train['임대보증금'].notnull())][['등록차량수', '임대보증금', '임대료']] \\\n",
        "                .drop_duplicates(['등록차량수', '임대보증금', '임대료'], keep='first').astype(int)\n",
        "  print(f\"row개수 / {supply_type} : {len(supply_type_check)}\")\n",
        "  print(f\"상관관계 / {supply_type} : {supply_type_check.corr()}\")"
      ],
      "execution_count": null,
      "outputs": []
    },
    {
      "cell_type": "markdown",
      "metadata": {
        "id": "GIAi6yfjsQ1Q"
      },
      "source": [
        "- 공급유형별 임대료,임대"
      ]
    },
    {
      "cell_type": "code",
      "metadata": {
        "id": "pGDXK3swZ_VB"
      },
      "source": [
        "#공급유형별 임대료, 임대보증금 시각화\n",
        "supply_type_check = raw_train[(raw_train['임대료'] != '-') & \\\n",
        "                (raw_train['임대보증금'] != '-')& (raw_train['임대료'].notnull()) & \\\n",
        "                (raw_train['임대보증금'].notnull())][['공급유형', '임대보증금', '임대료']] \\\n",
        "                .drop_duplicates(['공급유형', '임대보증금', '임대료'], keep='first').astype({'임대보증금': 'int', '임대료': 'int'})\n",
        "\n",
        "fig = go.Figure()\n",
        "fig = px.scatter(supply_type_check, x= '임대료', y= '임대보증금', color = '공급유형',\\\n",
        "                            color_discrete_sequence=px.colors.qualitative.Alphabet)\n",
        "fig.update_layout(title='공급유형별 임대료, 임대보증금 분포') #autosize =, width = 1000, height = 500)"
      ],
      "execution_count": null,
      "outputs": []
    },
    {
      "cell_type": "markdown",
      "metadata": {
        "id": "sMxWEKiNf5pJ"
      },
      "source": [
        "- 임대상가, 장기전세, 공공분양 등은 null값이 아닌 정상적인 row가 없음  \n",
        "- 상관관계또한 \n",
        "위와 같은 이유로 평균이나 중앙값을 넣기에는 리스크가 있음 -> 해당 컬럼 삭제  "
      ]
    },
    {
      "cell_type": "markdown",
      "metadata": {
        "id": "JwkjjDW3twLh"
      },
      "source": [
        "### 자격유형 처리"
      ]
    },
    {
      "cell_type": "code",
      "metadata": {
        "colab": {
          "base_uri": "https://localhost:8080/",
          "height": 66
        },
        "id": "En1HmNBVYYS1",
        "outputId": "15c84d6f-729b-4b35-f64b-31d7152571d9"
      },
      "source": [
        "#test에 자격유형 null값 처리\n",
        "raw_test[raw_test['자격유형'] == '-'] #없음"
      ],
      "execution_count": null,
      "outputs": [
        {
          "data": {
            "text/html": [
              "<div>\n",
              "<style scoped>\n",
              "    .dataframe tbody tr th:only-of-type {\n",
              "        vertical-align: middle;\n",
              "    }\n",
              "\n",
              "    .dataframe tbody tr th {\n",
              "        vertical-align: top;\n",
              "    }\n",
              "\n",
              "    .dataframe thead th {\n",
              "        text-align: right;\n",
              "    }\n",
              "</style>\n",
              "<table border=\"1\" class=\"dataframe\">\n",
              "  <thead>\n",
              "    <tr style=\"text-align: right;\">\n",
              "      <th></th>\n",
              "      <th>단지코드</th>\n",
              "      <th>총세대수</th>\n",
              "      <th>임대건물구분</th>\n",
              "      <th>지역</th>\n",
              "      <th>공급유형</th>\n",
              "      <th>전용면적</th>\n",
              "      <th>전용면적별세대수</th>\n",
              "      <th>공가수</th>\n",
              "      <th>자격유형</th>\n",
              "      <th>임대보증금</th>\n",
              "      <th>임대료</th>\n",
              "      <th>도보 10분거리 내 지하철역 수(환승노선 수 반영)</th>\n",
              "      <th>도보 10분거리 내 버스정류장 수</th>\n",
              "      <th>단지내주차면수</th>\n",
              "    </tr>\n",
              "  </thead>\n",
              "  <tbody>\n",
              "  </tbody>\n",
              "</table>\n",
              "</div>"
            ],
            "text/plain": [
              "Empty DataFrame\n",
              "Columns: [단지코드, 총세대수, 임대건물구분, 지역, 공급유형, 전용면적, 전용면적별세대수, 공가수, 자격유형, 임대보증금, 임대료, 도보 10분거리 내 지하철역 수(환승노선 수 반영), 도보 10분거리 내 버스정류장 수, 단지내주차면수]\n",
              "Index: []"
            ]
          },
          "execution_count": 32,
          "metadata": {},
          "output_type": "execute_result"
        }
      ]
    },
    {
      "cell_type": "code",
      "metadata": {
        "colab": {
          "base_uri": "https://localhost:8080/",
          "height": 162
        },
        "id": "Q042ldYcYvnY",
        "outputId": "4e782ba8-f97f-4c6a-e7dc-4e0a1ac6a51e"
      },
      "source": [
        "#test에 자격유형 null값 처리\n",
        "raw_test[raw_test['자격유형'].isnull()] #C2411과 C2253 null값임"
      ],
      "execution_count": null,
      "outputs": [
        {
          "data": {
            "text/html": [
              "<div>\n",
              "<style scoped>\n",
              "    .dataframe tbody tr th:only-of-type {\n",
              "        vertical-align: middle;\n",
              "    }\n",
              "\n",
              "    .dataframe tbody tr th {\n",
              "        vertical-align: top;\n",
              "    }\n",
              "\n",
              "    .dataframe thead th {\n",
              "        text-align: right;\n",
              "    }\n",
              "</style>\n",
              "<table border=\"1\" class=\"dataframe\">\n",
              "  <thead>\n",
              "    <tr style=\"text-align: right;\">\n",
              "      <th></th>\n",
              "      <th>단지코드</th>\n",
              "      <th>총세대수</th>\n",
              "      <th>임대건물구분</th>\n",
              "      <th>지역</th>\n",
              "      <th>공급유형</th>\n",
              "      <th>전용면적</th>\n",
              "      <th>전용면적별세대수</th>\n",
              "      <th>공가수</th>\n",
              "      <th>자격유형</th>\n",
              "      <th>임대보증금</th>\n",
              "      <th>임대료</th>\n",
              "      <th>도보 10분거리 내 지하철역 수(환승노선 수 반영)</th>\n",
              "      <th>도보 10분거리 내 버스정류장 수</th>\n",
              "      <th>단지내주차면수</th>\n",
              "    </tr>\n",
              "  </thead>\n",
              "  <tbody>\n",
              "    <tr>\n",
              "      <th>196</th>\n",
              "      <td>C2411</td>\n",
              "      <td>962</td>\n",
              "      <td>아파트</td>\n",
              "      <td>경상남도</td>\n",
              "      <td>국민임대</td>\n",
              "      <td>46.90</td>\n",
              "      <td>240</td>\n",
              "      <td>25.0</td>\n",
              "      <td>NaN</td>\n",
              "      <td>71950000</td>\n",
              "      <td>37470</td>\n",
              "      <td>0.0</td>\n",
              "      <td>2.0</td>\n",
              "      <td>840.0</td>\n",
              "    </tr>\n",
              "    <tr>\n",
              "      <th>258</th>\n",
              "      <td>C2253</td>\n",
              "      <td>1161</td>\n",
              "      <td>아파트</td>\n",
              "      <td>강원도</td>\n",
              "      <td>영구임대</td>\n",
              "      <td>26.37</td>\n",
              "      <td>745</td>\n",
              "      <td>0.0</td>\n",
              "      <td>NaN</td>\n",
              "      <td>2249000</td>\n",
              "      <td>44770</td>\n",
              "      <td>0.0</td>\n",
              "      <td>2.0</td>\n",
              "      <td>173.0</td>\n",
              "    </tr>\n",
              "  </tbody>\n",
              "</table>\n",
              "</div>"
            ],
            "text/plain": [
              "      단지코드  총세대수  ... 도보 10분거리 내 버스정류장 수 단지내주차면수\n",
              "196  C2411   962  ...                2.0   840.0\n",
              "258  C2253  1161  ...                2.0   173.0\n",
              "\n",
              "[2 rows x 14 columns]"
            ]
          },
          "execution_count": 33,
          "metadata": {},
          "output_type": "execute_result"
        }
      ]
    },
    {
      "cell_type": "code",
      "metadata": {
        "id": "0dth4gvLY3_V"
      },
      "source": [
        "raw_test[(raw_test['단지코드'] == 'C2411') | (raw_test['단지코드'] == 'C2253')] "
      ],
      "execution_count": null,
      "outputs": []
    },
    {
      "cell_type": "markdown",
      "metadata": {
        "id": "5yA2DbsiZOBW"
      },
      "source": [
        "- 해당 같은 코드의 자격유형을 그대로 넣으면 된다는 것을 판단됨"
      ]
    },
    {
      "cell_type": "code",
      "metadata": {
        "id": "5O2uMwPbZUea"
      },
      "source": [
        "raw_test.loc[raw_test.단지코드.isin(['C2411']) & raw_test.자격유형.isnull(), '자격유형'] = 'A'\n",
        "raw_test.loc[raw_test.단지코드.isin(['C2253']) & raw_test.자격유형.isnull(), '자격유형'] = 'C'"
      ],
      "execution_count": null,
      "outputs": []
    },
    {
      "cell_type": "markdown",
      "metadata": {
        "id": "AdA0Qt1Njlq1"
      },
      "source": [
        "### 버스 정류장 및 지하철 수 처리"
      ]
    },
    {
      "cell_type": "code",
      "metadata": {
        "id": "jGc-GMj9h-XO"
      },
      "source": [
        "#도보 10분거리 내 버스정류장 수 null값 처리\n",
        "raw_train['도보 10분거리 내 버스정류장 수'].unique()"
      ],
      "execution_count": null,
      "outputs": []
    },
    {
      "cell_type": "code",
      "metadata": {
        "id": "R-vAxS13jskw"
      },
      "source": [
        "raw_test['도보 10분거리 내 버스정류장 수'].unique()"
      ],
      "execution_count": null,
      "outputs": []
    },
    {
      "cell_type": "markdown",
      "metadata": {
        "id": "4pR5jPBrjvyh"
      },
      "source": [
        "- null값은 평균처리\n",
        "- 50은 너무 뜬금없고 현실적으로 불가능할 것으로 판단하여 평균값 처리"
      ]
    },
    {
      "cell_type": "code",
      "metadata": {
        "id": "oNzTmBxUkZpI"
      },
      "source": [
        "raw_train['도보 10분거리 내 버스정류장 수'] = raw_train['도보 10분거리 내 버스정류장 수'].fillna(raw_train['도보 10분거리 내 버스정류장 수'].mean())\n",
        "raw_test.loc[raw_test['도보 10분거리 내 버스정류장 수'] == 50, '도보 10분거리 내 버스정류장 수'] = raw_test['도보 10분거리 내 버스정류장 수'].mean()"
      ],
      "execution_count": null,
      "outputs": []
    },
    {
      "cell_type": "code",
      "metadata": {
        "id": "nuohzTHPkEmt"
      },
      "source": [
        "#지하철 null값 0개 처리\n",
        "raw_train['도보 10분거리 내 지하철역 수(환승노선 수 반영)'] = raw_train['도보 10분거리 내 지하철역 수(환승노선 수 반영)'].fillna(0)\n",
        "raw_test['도보 10분거리 내 지하철역 수(환승노선 수 반영)'] = raw_test['도보 10분거리 내 지하철역 수(환승노선 수 반영)'].fillna(0)"
      ],
      "execution_count": null,
      "outputs": []
    },
    {
      "cell_type": "markdown",
      "metadata": {
        "id": "XT9mniJDlanp"
      },
      "source": [
        "## 전용면적 단계화"
      ]
    },
    {
      "cell_type": "code",
      "metadata": {
        "id": "wQfDiTz7lfBL"
      },
      "source": [
        "raw_train['전용면적'] = raw_train['전용면적']//2*2  \n",
        "raw_test['전용면적'] = raw_test['전용면적']//2*2"
      ],
      "execution_count": null,
      "outputs": []
    },
    {
      "cell_type": "markdown",
      "metadata": {
        "id": "MK52wwRndx99"
      },
      "source": [
        "## 총세대수, 전용면적별세대수, 단지내주차면수"
      ]
    },
    {
      "cell_type": "markdown",
      "metadata": {
        "id": "RBZbBka0d9Kc"
      },
      "source": [
        "- 위 칼럼들은 중복되는데 일단 진행하고 추후 확인"
      ]
    },
    {
      "cell_type": "markdown",
      "metadata": {
        "id": "RoXsWxcmllm7"
      },
      "source": [
        "## 중복된 의미의 컬럼 삭제"
      ]
    },
    {
      "cell_type": "code",
      "metadata": {
        "id": "E4KpGO_dPiWO"
      },
      "source": [
        "#자격유형, 공급유형 확인\n",
        "raw_train[['자격유형', '공급유형']].groupby(['자격유형', '공급유형']).count()"
      ],
      "execution_count": null,
      "outputs": []
    },
    {
      "cell_type": "markdown",
      "metadata": {
        "id": "-Tpq8-csosjb"
      },
      "source": [
        "- 자격유형과 공급유형은 다르다는 것을 확인할 수 있음"
      ]
    },
    {
      "cell_type": "code",
      "metadata": {
        "id": "lcgF_Nx5lx2I"
      },
      "source": [
        "fig = go.Figure()\n",
        "fig = px.histogram(raw_train, x= '등록차량수', color = '공급유형',\\\n",
        "                            color_discrete_sequence=px.colors.qualitative.Alphabet)\n",
        "fig.update_layout(title='자격유형별 차량수 분포') #autosize =, width = 1000, height = 500)"
      ],
      "execution_count": null,
      "outputs": []
    },
    {
      "cell_type": "markdown",
      "metadata": {
        "id": "MZn89OL0m3qM"
      },
      "source": [
        "## 변수탐색 및 파생변수생성"
      ]
    },
    {
      "cell_type": "markdown",
      "metadata": {
        "id": "3fb8CH0apmDY"
      },
      "source": [
        "### 등록차량수, 단지내주차면수 -> 전용면적별세대수 비율에 맞추기\n",
        "\n",
        "- 문제\n",
        "    - 동일 단지코드별로 차량등록수, 단지내주차면수가 같음  \n",
        "\n",
        "- 해결방안\n",
        "    - 세대수가 많은 건물이 당연하게도을 차량을 많이 등록할 것임 -> 전용면적별세대수 비율로 단지내주차면수, 등록차량수 비율처리"
      ]
    },
    {
      "cell_type": "code",
      "metadata": {
        "id": "kEhW2sqaqJ_s"
      },
      "source": [
        "raw_train.head(30)"
      ],
      "execution_count": null,
      "outputs": []
    },
    {
      "cell_type": "markdown",
      "metadata": {
        "id": "4Z6QRT65yzQn"
      },
      "source": [
        "----------------------------------------\n",
        "총세대수와 단지내주차면수, 등록차량수 관계 확인"
      ]
    },
    {
      "cell_type": "code",
      "metadata": {
        "colab": {
          "base_uri": "https://localhost:8080/",
          "height": 141
        },
        "id": "SxIZGbBcWnG7",
        "outputId": "8416fe03-00c2-44e2-93c6-ab7b6a33292d"
      },
      "source": [
        "temp = raw_train.drop_duplicates(['단지코드'], keep='first')[['단지코드','총세대수', '단지내주차면수', '등록차량수']]\n",
        "temp.iloc[:,1:].corr()"
      ],
      "execution_count": null,
      "outputs": [
        {
          "output_type": "execute_result",
          "data": {
            "text/html": [
              "<div>\n",
              "<style scoped>\n",
              "    .dataframe tbody tr th:only-of-type {\n",
              "        vertical-align: middle;\n",
              "    }\n",
              "\n",
              "    .dataframe tbody tr th {\n",
              "        vertical-align: top;\n",
              "    }\n",
              "\n",
              "    .dataframe thead th {\n",
              "        text-align: right;\n",
              "    }\n",
              "</style>\n",
              "<table border=\"1\" class=\"dataframe\">\n",
              "  <thead>\n",
              "    <tr style=\"text-align: right;\">\n",
              "      <th></th>\n",
              "      <th>총세대수</th>\n",
              "      <th>단지내주차면수</th>\n",
              "      <th>등록차량수</th>\n",
              "    </tr>\n",
              "  </thead>\n",
              "  <tbody>\n",
              "    <tr>\n",
              "      <th>총세대수</th>\n",
              "      <td>1.000000</td>\n",
              "      <td>0.741369</td>\n",
              "      <td>0.579290</td>\n",
              "    </tr>\n",
              "    <tr>\n",
              "      <th>단지내주차면수</th>\n",
              "      <td>0.741369</td>\n",
              "      <td>1.000000</td>\n",
              "      <td>0.848199</td>\n",
              "    </tr>\n",
              "    <tr>\n",
              "      <th>등록차량수</th>\n",
              "      <td>0.579290</td>\n",
              "      <td>0.848199</td>\n",
              "      <td>1.000000</td>\n",
              "    </tr>\n",
              "  </tbody>\n",
              "</table>\n",
              "</div>"
            ],
            "text/plain": [
              "             총세대수   단지내주차면수     등록차량수\n",
              "총세대수     1.000000  0.741369  0.579290\n",
              "단지내주차면수  0.741369  1.000000  0.848199\n",
              "등록차량수    0.579290  0.848199  1.000000"
            ]
          },
          "metadata": {},
          "execution_count": 131
        }
      ]
    },
    {
      "cell_type": "code",
      "metadata": {
        "colab": {
          "base_uri": "https://localhost:8080/",
          "height": 542
        },
        "id": "gf2S9khyWnG8",
        "outputId": "35f0105a-4476-40b4-c7a3-935a2d581b70"
      },
      "source": [
        "fig = go.Figure()\n",
        "fig = px.scatter(temp, x= '총세대수', y = '등록차량수',\n",
        "                            color_discrete_sequence=px.colors.qualitative.Alphabet)\n",
        "fig.update_layout(title='총세대수, 등록차량수') #autosize =, width = 1000, height = 500)"
      ],
      "execution_count": null,
      "outputs": [
        {
          "output_type": "display_data",
          "data": {
            "text/html": [
              "<html>\n",
              "<head><meta charset=\"utf-8\" /></head>\n",
              "<body>\n",
              "    <div>\n",
              "            <script src=\"https://cdnjs.cloudflare.com/ajax/libs/mathjax/2.7.5/MathJax.js?config=TeX-AMS-MML_SVG\"></script><script type=\"text/javascript\">if (window.MathJax) {MathJax.Hub.Config({SVG: {font: \"STIX-Web\"}});}</script>\n",
              "                <script type=\"text/javascript\">window.PlotlyConfig = {MathJaxConfig: 'local'};</script>\n",
              "        <script src=\"https://cdn.plot.ly/plotly-latest.min.js\"></script>    \n",
              "            <div id=\"531e17c8-3499-4e7a-adba-628eb011c9ce\" class=\"plotly-graph-div\" style=\"height:525px; width:100%;\"></div>\n",
              "            <script type=\"text/javascript\">\n",
              "                \n",
              "                    window.PLOTLYENV=window.PLOTLYENV || {};\n",
              "                    \n",
              "                if (document.getElementById(\"531e17c8-3499-4e7a-adba-628eb011c9ce\")) {\n",
              "                    Plotly.newPlot(\n",
              "                        '531e17c8-3499-4e7a-adba-628eb011c9ce',\n",
              "                        [{\"hoverlabel\": {\"namelength\": 0}, \"hovertemplate\": \"\\ucd1d\\uc138\\ub300\\uc218=%{x}<br>\\ub4f1\\ub85d\\ucc28\\ub7c9\\uc218=%{y}\", \"legendgroup\": \"\", \"marker\": {\"color\": \"#AA0DFE\", \"symbol\": \"circle\"}, \"mode\": \"markers\", \"name\": \"\", \"showlegend\": false, \"type\": \"scatter\", \"x\": [900, 545, 1216, 755, 696, 566, 1722, 624, 361, 754, 240, 688, 623, 601, 405, 518, 619, 875, 560, 595, 625, 880, 1396, 970, 606, 1507, 639, 965, 946, 785, 2424, 809, 388, 1013, 453, 861, 806, 903, 1116, 1486, 1957, 802, 1527, 1005, 1988, 1350, 2428, 1755, 840, 390, 451, 410, 779, 755, 693, 753, 498, 1533, 711, 420, 590, 657, 495, 460, 338, 1144, 521, 1003, 306, 697, 213, 481, 468, 1364, 800, 830, 775, 261, 474, 72, 1473, 996, 870, 678, 632, 961, 1232, 676, 1300, 998, 493, 1117, 307, 501, 896, 521, 458, 290, 409, 586, 1084, 1174, 270, 1308, 355, 384, 853, 996, 355, 492, 861, 711, 901, 815, 312, 571, 594, 944, 410, 635, 962, 822, 1129, 1479, 330, 386, 456, 642, 302, 757, 705, 1072, 375, 853, 1018, 341, 416, 708, 475, 662, 1002, 462, 781, 496, 630, 512, 492, 534, 458, 762, 1005, 775, 890, 494, 571, 550, 383, 996, 882, 615, 470, 477, 496, 1260, 390, 330, 773, 1124, 550, 324, 1497, 531, 355, 389, 712, 561, 816, 898, 581, 851, 693, 136, 225, 742, 866, 383, 407, 720, 280, 307, 232, 602, 522, 457, 808, 712, 757, 356, 283, 467, 506, 243, 525, 445, 514, 374, 330, 378, 277, 856, 646, 511, 285, 256, 466, 314, 382, 212, 872, 508, 594, 514, 558, 758, 812, 504, 631, 332, 409, 773, 375, 747, 372, 434, 538, 498, 718, 818, 1035, 431, 467, 566, 861, 1116, 456, 648, 875, 1668, 443, 1215, 1647, 462, 806, 1017, 589, 504, 937, 840, 1144, 553, 424, 499, 200, 603, 700, 107, 318, 656, 306, 970, 992, 533, 1006, 478, 370, 560, 600, 291, 679, 1065, 1037, 715, 790, 1099, 374, 504, 1128, 304, 600, 690, 690, 749, 680, 376, 783, 1029, 919, 969, 368, 70, 922, 622, 600, 1366, 1122, 752, 886, 552, 850, 432, 1256, 960, 874, 1106, 772, 483, 1028, 326, 575, 532, 791, 1401, 344, 935, 1444, 452, 1105, 472, 354, 268, 984, 624, 1546, 640, 1460, 396, 1022, 1126, 1164, 924, 340, 922, 632, 1684, 794, 1454, 316, 580, 198, 556, 540, 938, 2568, 1058, 368, 1088, 1696, 404, 1934, 295, 1550, 1618, 363, 514, 636, 840, 659, 902, 1256, 1438, 2334, 528, 867, 542, 1124, 526, 947, 480, 908, 450, 890, 1020, 616, 820, 311, 270, 100, 847, 540, 203, 303, 1080, 442, 178, 818, 404, 1509, 412, 212, 26, 202, 1227, 581, 1206, 1048, 1077, 464, 100, 214, 266, 511, 307, 1004, 954, 362, 924, 1486, 2200, 90, 492, 40, 90, 239], \"xaxis\": \"x\", \"y\": [1015.0, 205.0, 1064.0, 730.0, 553.0, 415.0, 1804.0, 700.0, 301.0, 820.0, 234.0, 841.0, 226.0, 75.0, 73.0, 359.0, 62.0, 159.0, 63.0, 91.0, 179.0, 671.0, 133.0, 386.0, 266.0, 98.0, 131.0, 78.0, 316.0, 108.0, 116.0, 649.0, 254.0, 129.0, 70.0, 236.0, 510.0, 253.0, 127.0, 132.0, 313.0, 382.0, 364.0, 94.0, 189.0, 873.0, 359.0, 172.0, 498.0, 149.0, 31.0, 125.0, 177.0, 90.0, 302.0, 496.0, 236.0, 839.0, 96.0, 235.0, 359.0, 120.0, 60.0, 65.0, 135.0, 376.0, 93.0, 209.0, 204.0, 86.0, 19.0, 62.0, 430.0, 1001.0, 334.0, 616.0, 548.0, 220.0, 451.0, 47.0, 799.0, 708.0, 739.0, 374.0, 557.0, 579.0, 1101.0, 762.0, 795.0, 995.0, 288.0, 960.0, 311.0, 648.0, 861.0, 521.0, 562.0, 422.0, 344.0, 596.0, 701.0, 1117.0, 297.0, 1665.0, 248.0, 457.0, 910.0, 826.0, 328.0, 525.0, 690.0, 713.0, 1019.0, 810.0, 148.0, 609.0, 585.0, 1162.0, 318.0, 761.0, 572.0, 979.0, 1306.0, 1398.0, 442.0, 422.0, 441.0, 700.0, 340.0, 503.0, 718.0, 1159.0, 373.0, 1087.0, 808.0, 305.0, 401.0, 465.0, 402.0, 669.0, 554.0, 460.0, 548.0, 398.0, 620.0, 382.0, 413.0, 520.0, 488.0, 832.0, 1158.0, 745.0, 831.0, 413.0, 487.0, 408.0, 446.0, 1150.0, 840.0, 709.0, 480.0, 505.0, 449.0, 1010.0, 296.0, 308.0, 349.0, 657.0, 505.0, 294.0, 1145.0, 257.0, 321.0, 450.0, 845.0, 643.0, 752.0, 735.0, 639.0, 902.0, 632.0, 125.0, 282.0, 1279.0, 782.0, 375.0, 438.0, 540.0, 226.0, 302.0, 156.0, 730.0, 417.0, 505.0, 1077.0, 757.0, 754.0, 815.0, 268.0, 362.0, 504.0, 281.0, 521.0, 552.0, 246.0, 347.0, 272.0, 293.0, 254.0, 842.0, 484.0, 585.0, 244.0, 258.0, 271.0, 311.0, 327.0, 207.0, 683.0, 670.0, 570.0, 324.0, 553.0, 590.0, 638.0, 495.0, 528.0, 383.0, 284.0, 723.0, 333.0, 610.0, 481.0, 594.0, 509.0, 500.0, 512.0, 901.0, 934.0, 496.0, 398.0, 481.0, 557.0, 1284.0, 475.0, 435.0, 945.0, 1044.0, 375.0, 1023.0, 1350.0, 284.0, 823.0, 793.0, 587.0, 353.0, 479.0, 614.0, 1101.0, 652.0, 509.0, 437.0, 163.0, 589.0, 403.0, 22.0, 322.0, 566.0, 277.0, 822.0, 770.0, 345.0, 1090.0, 951.0, 1595.0, 410.0, 549.0, 166.0, 647.0, 793.0, 1084.0, 682.0, 645.0, 733.0, 262.0, 365.0, 950.0, 244.0, 343.0, 613.0, 561.0, 899.0, 957.0, 412.0, 979.0, 1709.0, 881.0, 1595.0, 309.0, 55.0, 442.0, 551.0, 1240.0, 886.0, 713.0, 606.0, 870.0, 410.0, 800.0, 420.0, 505.0, 752.0, 630.0, 982.0, 652.0, 451.0, 821.0, 255.0, 855.0, 625.0, 1653.0, 2315.0, 498.0, 787.0, 1668.0, 207.0, 579.0, 359.0, 330.0, 217.0, 763.0, 572.0, 922.0, 526.0, 1246.0, 228.0, 1730.0, 712.0, 780.0, 1200.0, 202.0, 979.0, 946.0, 1832.0, 508.0, 763.0, 326.0, 404.0, 336.0, 555.0, 417.0, 1255.0, 2550.0, 751.0, 243.0, 586.0, 924.0, 600.0, 1153.0, 164.0, 783.0, 1044.0, 719.0, 220.0, 887.0, 616.0, 559.0, 416.0, 701.0, 1983.0, 1896.0, 780.0, 1359.0, 646.0, 1433.0, 854.0, 1378.0, 345.0, 995.0, 205.0, 509.0, 588.0, 396.0, 693.0, 155.0, 133.0, 78.0, 568.0, 358.0, 123.0, 148.0, 1524.0, 713.0, 124.0, 1400.0, 609.0, 196.0, 189.0, 98.0, 13.0, 165.0, 507.0, 444.0, 448.0, 921.0, 1374.0, 266.0, 59.0, 159.0, 267.0, 130.0, 419.0, 505.0, 396.0, 280.0, 744.0, 619.0, 1204.0, 57.0, 246.0, 19.0, 16.0, 146.0], \"yaxis\": \"y\"}],\n",
              "                        {\"legend\": {\"tracegroupgap\": 0}, \"margin\": {\"t\": 60}, \"template\": {\"data\": {\"bar\": [{\"error_x\": {\"color\": \"#2a3f5f\"}, \"error_y\": {\"color\": \"#2a3f5f\"}, \"marker\": {\"line\": {\"color\": \"#E5ECF6\", \"width\": 0.5}}, \"type\": \"bar\"}], \"barpolar\": [{\"marker\": {\"line\": {\"color\": \"#E5ECF6\", \"width\": 0.5}}, \"type\": \"barpolar\"}], \"carpet\": [{\"aaxis\": {\"endlinecolor\": \"#2a3f5f\", \"gridcolor\": \"white\", \"linecolor\": \"white\", \"minorgridcolor\": \"white\", \"startlinecolor\": \"#2a3f5f\"}, \"baxis\": {\"endlinecolor\": \"#2a3f5f\", \"gridcolor\": \"white\", \"linecolor\": \"white\", \"minorgridcolor\": \"white\", \"startlinecolor\": \"#2a3f5f\"}, \"type\": \"carpet\"}], \"choropleth\": [{\"colorbar\": {\"outlinewidth\": 0, \"ticks\": \"\"}, \"type\": \"choropleth\"}], \"contour\": [{\"colorbar\": {\"outlinewidth\": 0, \"ticks\": \"\"}, \"colorscale\": [[0.0, \"#0d0887\"], [0.1111111111111111, \"#46039f\"], [0.2222222222222222, \"#7201a8\"], [0.3333333333333333, \"#9c179e\"], [0.4444444444444444, \"#bd3786\"], [0.5555555555555556, \"#d8576b\"], [0.6666666666666666, \"#ed7953\"], [0.7777777777777778, \"#fb9f3a\"], [0.8888888888888888, \"#fdca26\"], [1.0, \"#f0f921\"]], \"type\": \"contour\"}], \"contourcarpet\": [{\"colorbar\": {\"outlinewidth\": 0, \"ticks\": \"\"}, \"type\": \"contourcarpet\"}], \"heatmap\": [{\"colorbar\": {\"outlinewidth\": 0, \"ticks\": \"\"}, \"colorscale\": [[0.0, \"#0d0887\"], [0.1111111111111111, \"#46039f\"], [0.2222222222222222, \"#7201a8\"], [0.3333333333333333, \"#9c179e\"], [0.4444444444444444, \"#bd3786\"], [0.5555555555555556, \"#d8576b\"], [0.6666666666666666, \"#ed7953\"], [0.7777777777777778, \"#fb9f3a\"], [0.8888888888888888, \"#fdca26\"], [1.0, \"#f0f921\"]], \"type\": \"heatmap\"}], \"heatmapgl\": [{\"colorbar\": {\"outlinewidth\": 0, \"ticks\": \"\"}, \"colorscale\": [[0.0, \"#0d0887\"], [0.1111111111111111, \"#46039f\"], [0.2222222222222222, \"#7201a8\"], [0.3333333333333333, \"#9c179e\"], [0.4444444444444444, \"#bd3786\"], [0.5555555555555556, \"#d8576b\"], [0.6666666666666666, \"#ed7953\"], [0.7777777777777778, \"#fb9f3a\"], [0.8888888888888888, \"#fdca26\"], [1.0, \"#f0f921\"]], \"type\": \"heatmapgl\"}], \"histogram\": [{\"marker\": {\"colorbar\": {\"outlinewidth\": 0, \"ticks\": \"\"}}, \"type\": \"histogram\"}], \"histogram2d\": [{\"colorbar\": {\"outlinewidth\": 0, \"ticks\": \"\"}, \"colorscale\": [[0.0, \"#0d0887\"], [0.1111111111111111, \"#46039f\"], [0.2222222222222222, \"#7201a8\"], [0.3333333333333333, \"#9c179e\"], [0.4444444444444444, \"#bd3786\"], [0.5555555555555556, \"#d8576b\"], [0.6666666666666666, \"#ed7953\"], [0.7777777777777778, \"#fb9f3a\"], [0.8888888888888888, \"#fdca26\"], [1.0, \"#f0f921\"]], \"type\": \"histogram2d\"}], \"histogram2dcontour\": [{\"colorbar\": {\"outlinewidth\": 0, \"ticks\": \"\"}, \"colorscale\": [[0.0, \"#0d0887\"], [0.1111111111111111, \"#46039f\"], [0.2222222222222222, \"#7201a8\"], [0.3333333333333333, \"#9c179e\"], [0.4444444444444444, \"#bd3786\"], [0.5555555555555556, \"#d8576b\"], [0.6666666666666666, \"#ed7953\"], [0.7777777777777778, \"#fb9f3a\"], [0.8888888888888888, \"#fdca26\"], [1.0, \"#f0f921\"]], \"type\": \"histogram2dcontour\"}], \"mesh3d\": [{\"colorbar\": {\"outlinewidth\": 0, \"ticks\": \"\"}, \"type\": \"mesh3d\"}], \"parcoords\": [{\"line\": {\"colorbar\": {\"outlinewidth\": 0, \"ticks\": \"\"}}, \"type\": \"parcoords\"}], \"pie\": [{\"automargin\": true, \"type\": \"pie\"}], \"scatter\": [{\"marker\": {\"colorbar\": {\"outlinewidth\": 0, \"ticks\": \"\"}}, \"type\": \"scatter\"}], \"scatter3d\": [{\"line\": {\"colorbar\": {\"outlinewidth\": 0, \"ticks\": \"\"}}, \"marker\": {\"colorbar\": {\"outlinewidth\": 0, \"ticks\": \"\"}}, \"type\": \"scatter3d\"}], \"scattercarpet\": [{\"marker\": {\"colorbar\": {\"outlinewidth\": 0, \"ticks\": \"\"}}, \"type\": \"scattercarpet\"}], \"scattergeo\": [{\"marker\": {\"colorbar\": {\"outlinewidth\": 0, \"ticks\": \"\"}}, \"type\": \"scattergeo\"}], \"scattergl\": [{\"marker\": {\"colorbar\": {\"outlinewidth\": 0, \"ticks\": \"\"}}, \"type\": \"scattergl\"}], \"scattermapbox\": [{\"marker\": {\"colorbar\": {\"outlinewidth\": 0, \"ticks\": \"\"}}, \"type\": \"scattermapbox\"}], \"scatterpolar\": [{\"marker\": {\"colorbar\": {\"outlinewidth\": 0, \"ticks\": \"\"}}, \"type\": \"scatterpolar\"}], \"scatterpolargl\": [{\"marker\": {\"colorbar\": {\"outlinewidth\": 0, \"ticks\": \"\"}}, \"type\": \"scatterpolargl\"}], \"scatterternary\": [{\"marker\": {\"colorbar\": {\"outlinewidth\": 0, \"ticks\": \"\"}}, \"type\": \"scatterternary\"}], \"surface\": [{\"colorbar\": {\"outlinewidth\": 0, \"ticks\": \"\"}, \"colorscale\": [[0.0, \"#0d0887\"], [0.1111111111111111, \"#46039f\"], [0.2222222222222222, \"#7201a8\"], [0.3333333333333333, \"#9c179e\"], [0.4444444444444444, \"#bd3786\"], [0.5555555555555556, \"#d8576b\"], [0.6666666666666666, \"#ed7953\"], [0.7777777777777778, \"#fb9f3a\"], [0.8888888888888888, \"#fdca26\"], [1.0, \"#f0f921\"]], \"type\": \"surface\"}], \"table\": [{\"cells\": {\"fill\": {\"color\": \"#EBF0F8\"}, \"line\": {\"color\": \"white\"}}, \"header\": {\"fill\": {\"color\": \"#C8D4E3\"}, \"line\": {\"color\": \"white\"}}, \"type\": \"table\"}]}, \"layout\": {\"annotationdefaults\": {\"arrowcolor\": \"#2a3f5f\", \"arrowhead\": 0, \"arrowwidth\": 1}, \"coloraxis\": {\"colorbar\": {\"outlinewidth\": 0, \"ticks\": \"\"}}, \"colorscale\": {\"diverging\": [[0, \"#8e0152\"], [0.1, \"#c51b7d\"], [0.2, \"#de77ae\"], [0.3, \"#f1b6da\"], [0.4, \"#fde0ef\"], [0.5, \"#f7f7f7\"], [0.6, \"#e6f5d0\"], [0.7, \"#b8e186\"], [0.8, \"#7fbc41\"], [0.9, \"#4d9221\"], [1, \"#276419\"]], \"sequential\": [[0.0, \"#0d0887\"], [0.1111111111111111, \"#46039f\"], [0.2222222222222222, \"#7201a8\"], [0.3333333333333333, \"#9c179e\"], [0.4444444444444444, \"#bd3786\"], [0.5555555555555556, \"#d8576b\"], [0.6666666666666666, \"#ed7953\"], [0.7777777777777778, \"#fb9f3a\"], [0.8888888888888888, \"#fdca26\"], [1.0, \"#f0f921\"]], \"sequentialminus\": [[0.0, \"#0d0887\"], [0.1111111111111111, \"#46039f\"], [0.2222222222222222, \"#7201a8\"], [0.3333333333333333, \"#9c179e\"], [0.4444444444444444, \"#bd3786\"], [0.5555555555555556, \"#d8576b\"], [0.6666666666666666, \"#ed7953\"], [0.7777777777777778, \"#fb9f3a\"], [0.8888888888888888, \"#fdca26\"], [1.0, \"#f0f921\"]]}, \"colorway\": [\"#636efa\", \"#EF553B\", \"#00cc96\", \"#ab63fa\", \"#FFA15A\", \"#19d3f3\", \"#FF6692\", \"#B6E880\", \"#FF97FF\", \"#FECB52\"], \"font\": {\"color\": \"#2a3f5f\"}, \"geo\": {\"bgcolor\": \"white\", \"lakecolor\": \"white\", \"landcolor\": \"#E5ECF6\", \"showlakes\": true, \"showland\": true, \"subunitcolor\": \"white\"}, \"hoverlabel\": {\"align\": \"left\"}, \"hovermode\": \"closest\", \"mapbox\": {\"style\": \"light\"}, \"paper_bgcolor\": \"white\", \"plot_bgcolor\": \"#E5ECF6\", \"polar\": {\"angularaxis\": {\"gridcolor\": \"white\", \"linecolor\": \"white\", \"ticks\": \"\"}, \"bgcolor\": \"#E5ECF6\", \"radialaxis\": {\"gridcolor\": \"white\", \"linecolor\": \"white\", \"ticks\": \"\"}}, \"scene\": {\"xaxis\": {\"backgroundcolor\": \"#E5ECF6\", \"gridcolor\": \"white\", \"gridwidth\": 2, \"linecolor\": \"white\", \"showbackground\": true, \"ticks\": \"\", \"zerolinecolor\": \"white\"}, \"yaxis\": {\"backgroundcolor\": \"#E5ECF6\", \"gridcolor\": \"white\", \"gridwidth\": 2, \"linecolor\": \"white\", \"showbackground\": true, \"ticks\": \"\", \"zerolinecolor\": \"white\"}, \"zaxis\": {\"backgroundcolor\": \"#E5ECF6\", \"gridcolor\": \"white\", \"gridwidth\": 2, \"linecolor\": \"white\", \"showbackground\": true, \"ticks\": \"\", \"zerolinecolor\": \"white\"}}, \"shapedefaults\": {\"line\": {\"color\": \"#2a3f5f\"}}, \"ternary\": {\"aaxis\": {\"gridcolor\": \"white\", \"linecolor\": \"white\", \"ticks\": \"\"}, \"baxis\": {\"gridcolor\": \"white\", \"linecolor\": \"white\", \"ticks\": \"\"}, \"bgcolor\": \"#E5ECF6\", \"caxis\": {\"gridcolor\": \"white\", \"linecolor\": \"white\", \"ticks\": \"\"}}, \"title\": {\"x\": 0.05}, \"xaxis\": {\"automargin\": true, \"gridcolor\": \"white\", \"linecolor\": \"white\", \"ticks\": \"\", \"title\": {\"standoff\": 15}, \"zerolinecolor\": \"white\", \"zerolinewidth\": 2}, \"yaxis\": {\"automargin\": true, \"gridcolor\": \"white\", \"linecolor\": \"white\", \"ticks\": \"\", \"title\": {\"standoff\": 15}, \"zerolinecolor\": \"white\", \"zerolinewidth\": 2}}}, \"title\": {\"text\": \"\\ucd1d\\uc138\\ub300\\uc218, \\ub4f1\\ub85d\\ucc28\\ub7c9\\uc218\"}, \"xaxis\": {\"anchor\": \"y\", \"domain\": [0.0, 1.0], \"title\": {\"text\": \"\\ucd1d\\uc138\\ub300\\uc218\"}}, \"yaxis\": {\"anchor\": \"x\", \"domain\": [0.0, 1.0], \"title\": {\"text\": \"\\ub4f1\\ub85d\\ucc28\\ub7c9\\uc218\"}}},\n",
              "                        {\"responsive\": true}\n",
              "                    ).then(function(){\n",
              "                            \n",
              "var gd = document.getElementById('531e17c8-3499-4e7a-adba-628eb011c9ce');\n",
              "var x = new MutationObserver(function (mutations, observer) {{\n",
              "        var display = window.getComputedStyle(gd).display;\n",
              "        if (!display || display === 'none') {{\n",
              "            console.log([gd, 'removed!']);\n",
              "            Plotly.purge(gd);\n",
              "            observer.disconnect();\n",
              "        }}\n",
              "}});\n",
              "\n",
              "// Listen for the removal of the full notebook cells\n",
              "var notebookContainer = gd.closest('#notebook-container');\n",
              "if (notebookContainer) {{\n",
              "    x.observe(notebookContainer, {childList: true});\n",
              "}}\n",
              "\n",
              "// Listen for the clearing of the current output cell\n",
              "var outputEl = gd.closest('.output');\n",
              "if (outputEl) {{\n",
              "    x.observe(outputEl, {childList: true});\n",
              "}}\n",
              "\n",
              "                        })\n",
              "                };\n",
              "                \n",
              "            </script>\n",
              "        </div>\n",
              "</body>\n",
              "</html>"
            ]
          },
          "metadata": {}
        }
      ]
    },
    {
      "cell_type": "code",
      "metadata": {
        "colab": {
          "base_uri": "https://localhost:8080/",
          "height": 141
        },
        "id": "o99JmKiHywym",
        "outputId": "ed7dcdc5-21b2-4ec0-e43d-facef57e227b"
      },
      "source": [
        "temp = raw_train.drop_duplicates(['단지코드'], keep='first')[['단지코드','총세대수', '단지내주차면수', '등록차량수']]\n",
        "temp.iloc[:,1:].corr()"
      ],
      "execution_count": null,
      "outputs": [
        {
          "output_type": "execute_result",
          "data": {
            "text/html": [
              "<div>\n",
              "<style scoped>\n",
              "    .dataframe tbody tr th:only-of-type {\n",
              "        vertical-align: middle;\n",
              "    }\n",
              "\n",
              "    .dataframe tbody tr th {\n",
              "        vertical-align: top;\n",
              "    }\n",
              "\n",
              "    .dataframe thead th {\n",
              "        text-align: right;\n",
              "    }\n",
              "</style>\n",
              "<table border=\"1\" class=\"dataframe\">\n",
              "  <thead>\n",
              "    <tr style=\"text-align: right;\">\n",
              "      <th></th>\n",
              "      <th>총세대수</th>\n",
              "      <th>단지내주차면수</th>\n",
              "      <th>등록차량수</th>\n",
              "    </tr>\n",
              "  </thead>\n",
              "  <tbody>\n",
              "    <tr>\n",
              "      <th>총세대수</th>\n",
              "      <td>1.000000</td>\n",
              "      <td>0.741369</td>\n",
              "      <td>0.579290</td>\n",
              "    </tr>\n",
              "    <tr>\n",
              "      <th>단지내주차면수</th>\n",
              "      <td>0.741369</td>\n",
              "      <td>1.000000</td>\n",
              "      <td>0.848199</td>\n",
              "    </tr>\n",
              "    <tr>\n",
              "      <th>등록차량수</th>\n",
              "      <td>0.579290</td>\n",
              "      <td>0.848199</td>\n",
              "      <td>1.000000</td>\n",
              "    </tr>\n",
              "  </tbody>\n",
              "</table>\n",
              "</div>"
            ],
            "text/plain": [
              "             총세대수   단지내주차면수     등록차량수\n",
              "총세대수     1.000000  0.741369  0.579290\n",
              "단지내주차면수  0.741369  1.000000  0.848199\n",
              "등록차량수    0.579290  0.848199  1.000000"
            ]
          },
          "metadata": {},
          "execution_count": 18
        }
      ]
    },
    {
      "cell_type": "code",
      "metadata": {
        "colab": {
          "base_uri": "https://localhost:8080/",
          "height": 542
        },
        "id": "eMDm9nE30Mcq",
        "outputId": "ba16d9fb-b9e0-405e-ba4c-708fcd44c302"
      },
      "source": [
        "fig = go.Figure()\n",
        "fig = px.scatter(temp, x= '등록차량수', y = '단지내주차면수',\n",
        "                            color_discrete_sequence=px.colors.qualitative.Alphabet)\n",
        "fig.update_layout(title='등록차량수, 단지내주차면수 분포') #autosize =, width = 1000, height = 500)"
      ],
      "execution_count": null,
      "outputs": [
        {
          "output_type": "display_data",
          "data": {
            "text/html": [
              "<html>\n",
              "<head><meta charset=\"utf-8\" /></head>\n",
              "<body>\n",
              "    <div>\n",
              "            <script src=\"https://cdnjs.cloudflare.com/ajax/libs/mathjax/2.7.5/MathJax.js?config=TeX-AMS-MML_SVG\"></script><script type=\"text/javascript\">if (window.MathJax) {MathJax.Hub.Config({SVG: {font: \"STIX-Web\"}});}</script>\n",
              "                <script type=\"text/javascript\">window.PlotlyConfig = {MathJaxConfig: 'local'};</script>\n",
              "        <script src=\"https://cdn.plot.ly/plotly-latest.min.js\"></script>    \n",
              "            <div id=\"167718c2-6ffa-4959-91ed-4a4e42745a84\" class=\"plotly-graph-div\" style=\"height:525px; width:100%;\"></div>\n",
              "            <script type=\"text/javascript\">\n",
              "                \n",
              "                    window.PLOTLYENV=window.PLOTLYENV || {};\n",
              "                    \n",
              "                if (document.getElementById(\"167718c2-6ffa-4959-91ed-4a4e42745a84\")) {\n",
              "                    Plotly.newPlot(\n",
              "                        '167718c2-6ffa-4959-91ed-4a4e42745a84',\n",
              "                        [{\"hoverlabel\": {\"namelength\": 0}, \"hovertemplate\": \"\\ub4f1\\ub85d\\ucc28\\ub7c9\\uc218=%{x}<br>\\ub2e8\\uc9c0\\ub0b4\\uc8fc\\ucc28\\uba74\\uc218=%{y}\", \"legendgroup\": \"\", \"marker\": {\"color\": \"#AA0DFE\", \"symbol\": \"circle\"}, \"mode\": \"markers\", \"name\": \"\", \"showlegend\": false, \"type\": \"scatter\", \"x\": [1015.0, 205.0, 1064.0, 730.0, 553.0, 415.0, 1804.0, 700.0, 301.0, 820.0, 234.0, 841.0, 226.0, 75.0, 73.0, 359.0, 62.0, 159.0, 63.0, 91.0, 179.0, 671.0, 133.0, 386.0, 266.0, 98.0, 131.0, 78.0, 316.0, 108.0, 116.0, 649.0, 254.0, 129.0, 70.0, 236.0, 510.0, 253.0, 127.0, 132.0, 313.0, 382.0, 364.0, 94.0, 189.0, 873.0, 359.0, 172.0, 498.0, 149.0, 31.0, 125.0, 177.0, 90.0, 302.0, 496.0, 236.0, 839.0, 96.0, 235.0, 359.0, 120.0, 60.0, 65.0, 135.0, 376.0, 93.0, 209.0, 204.0, 86.0, 19.0, 62.0, 430.0, 1001.0, 334.0, 616.0, 548.0, 220.0, 451.0, 47.0, 799.0, 708.0, 739.0, 374.0, 557.0, 579.0, 1101.0, 762.0, 795.0, 995.0, 288.0, 960.0, 311.0, 648.0, 861.0, 521.0, 562.0, 422.0, 344.0, 596.0, 701.0, 1117.0, 297.0, 1665.0, 248.0, 457.0, 910.0, 826.0, 328.0, 525.0, 690.0, 713.0, 1019.0, 810.0, 148.0, 609.0, 585.0, 1162.0, 318.0, 761.0, 572.0, 979.0, 1306.0, 1398.0, 442.0, 422.0, 441.0, 700.0, 340.0, 503.0, 718.0, 1159.0, 373.0, 1087.0, 808.0, 305.0, 401.0, 465.0, 402.0, 669.0, 554.0, 460.0, 548.0, 398.0, 620.0, 382.0, 413.0, 520.0, 488.0, 832.0, 1158.0, 745.0, 831.0, 413.0, 487.0, 408.0, 446.0, 1150.0, 840.0, 709.0, 480.0, 505.0, 449.0, 1010.0, 296.0, 308.0, 349.0, 657.0, 505.0, 294.0, 1145.0, 257.0, 321.0, 450.0, 845.0, 643.0, 752.0, 735.0, 639.0, 902.0, 632.0, 125.0, 282.0, 1279.0, 782.0, 375.0, 438.0, 540.0, 226.0, 302.0, 156.0, 730.0, 417.0, 505.0, 1077.0, 757.0, 754.0, 815.0, 268.0, 362.0, 504.0, 281.0, 521.0, 552.0, 246.0, 347.0, 272.0, 293.0, 254.0, 842.0, 484.0, 585.0, 244.0, 258.0, 271.0, 311.0, 327.0, 207.0, 683.0, 670.0, 570.0, 324.0, 553.0, 590.0, 638.0, 495.0, 528.0, 383.0, 284.0, 723.0, 333.0, 610.0, 481.0, 594.0, 509.0, 500.0, 512.0, 901.0, 934.0, 496.0, 398.0, 481.0, 557.0, 1284.0, 475.0, 435.0, 945.0, 1044.0, 375.0, 1023.0, 1350.0, 284.0, 823.0, 793.0, 587.0, 353.0, 479.0, 614.0, 1101.0, 652.0, 509.0, 437.0, 163.0, 589.0, 403.0, 22.0, 322.0, 566.0, 277.0, 822.0, 770.0, 345.0, 1090.0, 951.0, 1595.0, 410.0, 549.0, 166.0, 647.0, 793.0, 1084.0, 682.0, 645.0, 733.0, 262.0, 365.0, 950.0, 244.0, 343.0, 613.0, 561.0, 899.0, 957.0, 412.0, 979.0, 1709.0, 881.0, 1595.0, 309.0, 55.0, 442.0, 551.0, 1240.0, 886.0, 713.0, 606.0, 870.0, 410.0, 800.0, 420.0, 505.0, 752.0, 630.0, 982.0, 652.0, 451.0, 821.0, 255.0, 855.0, 625.0, 1653.0, 2315.0, 498.0, 787.0, 1668.0, 207.0, 579.0, 359.0, 330.0, 217.0, 763.0, 572.0, 922.0, 526.0, 1246.0, 228.0, 1730.0, 712.0, 780.0, 1200.0, 202.0, 979.0, 946.0, 1832.0, 508.0, 763.0, 326.0, 404.0, 336.0, 555.0, 417.0, 1255.0, 2550.0, 751.0, 243.0, 586.0, 924.0, 600.0, 1153.0, 164.0, 783.0, 1044.0, 719.0, 220.0, 887.0, 616.0, 559.0, 416.0, 701.0, 1983.0, 1896.0, 780.0, 1359.0, 646.0, 1433.0, 854.0, 1378.0, 345.0, 995.0, 205.0, 509.0, 588.0, 396.0, 693.0, 155.0, 133.0, 78.0, 568.0, 358.0, 123.0, 148.0, 1524.0, 713.0, 124.0, 1400.0, 609.0, 196.0, 189.0, 98.0, 13.0, 165.0, 507.0, 444.0, 448.0, 921.0, 1374.0, 266.0, 59.0, 159.0, 267.0, 130.0, 419.0, 505.0, 396.0, 280.0, 744.0, 619.0, 1204.0, 57.0, 246.0, 19.0, 16.0, 146.0], \"xaxis\": \"x\", \"y\": [1425.0, 624.0, 1285.0, 734.0, 645.0, 517.0, 1483.0, 634.0, 288.0, 530.0, 168.0, 631.0, 222.0, 117.0, 296.0, 527.0, 97.0, 616.0, 154.0, 509.0, 517.0, 736.0, 277.0, 420.0, 548.0, 407.0, 162.0, 287.0, 986.0, 150.0, 487.0, 264.0, 226.0, 178.0, 107.0, 612.0, 804.0, 200.0, 262.0, 405.0, 351.0, 375.0, 240.0, 166.0, 217.0, 1043.0, 756.0, 270.0, 594.0, 97.0, 109.0, 120.0, 190.0, 88.0, 486.0, 682.0, 402.0, 1296.0, 131.0, 393.0, 376.0, 166.0, 117.0, 155.0, 235.0, 950.0, 153.0, 192.0, 246.0, 128.0, 164.0, 65.0, 477.0, 1505.0, 671.0, 802.0, 738.0, 198.0, 374.0, 54.0, 1299.0, 823.0, 763.0, 579.0, 478.0, 928.0, 1181.0, 658.0, 1082.0, 1240.0, 421.0, 985.0, 219.0, 405.0, 900.0, 521.0, 399.0, 205.0, 316.0, 472.0, 837.0, 1026.0, 222.0, 1119.0, 354.0, 384.0, 853.0, 895.0, 330.0, 347.0, 608.0, 573.0, 668.0, 574.0, 224.0, 483.0, 480.0, 958.0, 402.0, 508.0, 873.0, 827.0, 1137.0, 1488.0, 259.0, 299.0, 399.0, 567.0, 217.0, 660.0, 502.0, 894.0, 454.0, 862.0, 788.0, 240.0, 296.0, 638.0, 722.0, 546.0, 775.0, 325.0, 663.0, 428.0, 637.0, 362.0, 426.0, 465.0, 403.0, 661.0, 882.0, 665.0, 985.0, 358.0, 492.0, 385.0, 385.0, 834.0, 755.0, 527.0, 405.0, 413.0, 425.0, 941.0, 334.0, 335.0, 779.0, 1129.0, 448.0, 270.0, 1100.0, 480.0, 291.0, 352.0, 658.0, 572.0, 822.0, 909.0, 530.0, 771.0, 717.0, 136.0, 277.0, 1016.0, 692.0, 317.0, 552.0, 581.0, 280.0, 296.0, 195.0, 715.0, 525.0, 537.0, 728.0, 641.0, 761.0, 550.0, 227.0, 403.0, 436.0, 214.0, 422.0, 404.0, 362.0, 281.0, 253.0, 265.0, 222.0, 777.0, 583.0, 413.0, 200.0, 199.0, 329.0, 241.0, 306.0, 163.0, 733.0, 370.0, 596.0, 442.0, 449.0, 564.0, 612.0, 445.0, 442.0, 258.0, 330.0, 817.0, 360.0, 698.0, 374.0, 384.0, 393.0, 480.0, 550.0, 640.0, 911.0, 319.0, 366.0, 438.0, 812.0, 1050.0, 367.0, 600.0, 903.0, 1756.0, 362.0, 1105.0, 1741.0, 387.0, 707.0, 879.0, 515.0, 434.0, 770.0, 772.0, 1039.0, 584.0, 467.0, 409.0, 153.0, 506.0, 592.0, 27.0, 262.0, 527.0, 248.0, 845.0, 871.0, 484.0, 915.0, 629.0, 1590.0, 400.0, 528.0, 257.0, 615.0, 879.0, 936.0, 582.0, 673.0, 1154.0, 321.0, 438.0, 951.0, 230.0, 360.0, 652.0, 694.0, 759.0, 877.0, 380.0, 978.0, 1061.0, 988.0, 1590.0, 285.0, 50.0, 731.0, 551.0, 728.0, 1192.0, 1182.0, 680.0, 809.0, 523.0, 948.0, 349.0, 528.0, 876.0, 722.0, 752.0, 700.0, 437.0, 973.0, 268.0, 1066.0, 660.0, 944.0, 1636.0, 344.0, 939.0, 1275.0, 461.0, 1110.0, 1066.0, 297.0, 214.0, 865.0, 535.0, 1176.0, 549.0, 1534.0, 237.0, 1202.0, 983.0, 755.0, 986.0, 320.0, 804.0, 750.0, 1689.0, 676.0, 880.0, 239.0, 378.0, 200.0, 490.0, 500.0, 1117.0, 1798.0, 956.0, 333.0, 773.0, 1648.0, 490.0, 1670.0, 167.0, 1319.0, 1382.0, 434.0, 309.0, 772.0, 658.0, 573.0, 635.0, 878.0, 1500.0, 1713.0, 543.0, 897.0, 542.0, 1201.0, 727.0, 1306.0, 338.0, 1001.0, 318.0, 423.0, 719.0, 350.0, 629.0, 232.0, 183.0, 57.0, 496.0, 397.0, 109.0, 249.0, 1142.0, 533.0, 131.0, 995.0, 486.0, 1055.0, 287.0, 114.0, 13.0, 141.0, 857.0, 408.0, 842.0, 1140.0, 1239.0, 288.0, 54.0, 108.0, 188.0, 389.0, 212.0, 700.0, 772.0, 345.0, 664.0, 1493.0, 1570.0, 66.0, 521.0, 25.0, 30.0, 166.0], \"yaxis\": \"y\"}],\n",
              "                        {\"legend\": {\"tracegroupgap\": 0}, \"margin\": {\"t\": 60}, \"template\": {\"data\": {\"bar\": [{\"error_x\": {\"color\": \"#2a3f5f\"}, \"error_y\": {\"color\": \"#2a3f5f\"}, \"marker\": {\"line\": {\"color\": \"#E5ECF6\", \"width\": 0.5}}, \"type\": \"bar\"}], \"barpolar\": [{\"marker\": {\"line\": {\"color\": \"#E5ECF6\", \"width\": 0.5}}, \"type\": \"barpolar\"}], \"carpet\": [{\"aaxis\": {\"endlinecolor\": \"#2a3f5f\", \"gridcolor\": \"white\", \"linecolor\": \"white\", \"minorgridcolor\": \"white\", \"startlinecolor\": \"#2a3f5f\"}, \"baxis\": {\"endlinecolor\": \"#2a3f5f\", \"gridcolor\": \"white\", \"linecolor\": \"white\", \"minorgridcolor\": \"white\", \"startlinecolor\": \"#2a3f5f\"}, \"type\": \"carpet\"}], \"choropleth\": [{\"colorbar\": {\"outlinewidth\": 0, \"ticks\": \"\"}, \"type\": \"choropleth\"}], \"contour\": [{\"colorbar\": {\"outlinewidth\": 0, \"ticks\": \"\"}, \"colorscale\": [[0.0, \"#0d0887\"], [0.1111111111111111, \"#46039f\"], [0.2222222222222222, \"#7201a8\"], [0.3333333333333333, \"#9c179e\"], [0.4444444444444444, \"#bd3786\"], [0.5555555555555556, \"#d8576b\"], [0.6666666666666666, \"#ed7953\"], [0.7777777777777778, \"#fb9f3a\"], [0.8888888888888888, \"#fdca26\"], [1.0, \"#f0f921\"]], \"type\": \"contour\"}], \"contourcarpet\": [{\"colorbar\": {\"outlinewidth\": 0, \"ticks\": \"\"}, \"type\": \"contourcarpet\"}], \"heatmap\": [{\"colorbar\": {\"outlinewidth\": 0, \"ticks\": \"\"}, \"colorscale\": [[0.0, \"#0d0887\"], [0.1111111111111111, \"#46039f\"], [0.2222222222222222, \"#7201a8\"], [0.3333333333333333, \"#9c179e\"], [0.4444444444444444, \"#bd3786\"], [0.5555555555555556, \"#d8576b\"], [0.6666666666666666, \"#ed7953\"], [0.7777777777777778, \"#fb9f3a\"], [0.8888888888888888, \"#fdca26\"], [1.0, \"#f0f921\"]], \"type\": \"heatmap\"}], \"heatmapgl\": [{\"colorbar\": {\"outlinewidth\": 0, \"ticks\": \"\"}, \"colorscale\": [[0.0, \"#0d0887\"], [0.1111111111111111, \"#46039f\"], [0.2222222222222222, \"#7201a8\"], [0.3333333333333333, \"#9c179e\"], [0.4444444444444444, \"#bd3786\"], [0.5555555555555556, \"#d8576b\"], [0.6666666666666666, \"#ed7953\"], [0.7777777777777778, \"#fb9f3a\"], [0.8888888888888888, \"#fdca26\"], [1.0, \"#f0f921\"]], \"type\": \"heatmapgl\"}], \"histogram\": [{\"marker\": {\"colorbar\": {\"outlinewidth\": 0, \"ticks\": \"\"}}, \"type\": \"histogram\"}], \"histogram2d\": [{\"colorbar\": {\"outlinewidth\": 0, \"ticks\": \"\"}, \"colorscale\": [[0.0, \"#0d0887\"], [0.1111111111111111, \"#46039f\"], [0.2222222222222222, \"#7201a8\"], [0.3333333333333333, \"#9c179e\"], [0.4444444444444444, \"#bd3786\"], [0.5555555555555556, \"#d8576b\"], [0.6666666666666666, \"#ed7953\"], [0.7777777777777778, \"#fb9f3a\"], [0.8888888888888888, \"#fdca26\"], [1.0, \"#f0f921\"]], \"type\": \"histogram2d\"}], \"histogram2dcontour\": [{\"colorbar\": {\"outlinewidth\": 0, \"ticks\": \"\"}, \"colorscale\": [[0.0, \"#0d0887\"], [0.1111111111111111, \"#46039f\"], [0.2222222222222222, \"#7201a8\"], [0.3333333333333333, \"#9c179e\"], [0.4444444444444444, \"#bd3786\"], [0.5555555555555556, \"#d8576b\"], [0.6666666666666666, \"#ed7953\"], [0.7777777777777778, \"#fb9f3a\"], [0.8888888888888888, \"#fdca26\"], [1.0, \"#f0f921\"]], \"type\": \"histogram2dcontour\"}], \"mesh3d\": [{\"colorbar\": {\"outlinewidth\": 0, \"ticks\": \"\"}, \"type\": \"mesh3d\"}], \"parcoords\": [{\"line\": {\"colorbar\": {\"outlinewidth\": 0, \"ticks\": \"\"}}, \"type\": \"parcoords\"}], \"pie\": [{\"automargin\": true, \"type\": \"pie\"}], \"scatter\": [{\"marker\": {\"colorbar\": {\"outlinewidth\": 0, \"ticks\": \"\"}}, \"type\": \"scatter\"}], \"scatter3d\": [{\"line\": {\"colorbar\": {\"outlinewidth\": 0, \"ticks\": \"\"}}, \"marker\": {\"colorbar\": {\"outlinewidth\": 0, \"ticks\": \"\"}}, \"type\": \"scatter3d\"}], \"scattercarpet\": [{\"marker\": {\"colorbar\": {\"outlinewidth\": 0, \"ticks\": \"\"}}, \"type\": \"scattercarpet\"}], \"scattergeo\": [{\"marker\": {\"colorbar\": {\"outlinewidth\": 0, \"ticks\": \"\"}}, \"type\": \"scattergeo\"}], \"scattergl\": [{\"marker\": {\"colorbar\": {\"outlinewidth\": 0, \"ticks\": \"\"}}, \"type\": \"scattergl\"}], \"scattermapbox\": [{\"marker\": {\"colorbar\": {\"outlinewidth\": 0, \"ticks\": \"\"}}, \"type\": \"scattermapbox\"}], \"scatterpolar\": [{\"marker\": {\"colorbar\": {\"outlinewidth\": 0, \"ticks\": \"\"}}, \"type\": \"scatterpolar\"}], \"scatterpolargl\": [{\"marker\": {\"colorbar\": {\"outlinewidth\": 0, \"ticks\": \"\"}}, \"type\": \"scatterpolargl\"}], \"scatterternary\": [{\"marker\": {\"colorbar\": {\"outlinewidth\": 0, \"ticks\": \"\"}}, \"type\": \"scatterternary\"}], \"surface\": [{\"colorbar\": {\"outlinewidth\": 0, \"ticks\": \"\"}, \"colorscale\": [[0.0, \"#0d0887\"], [0.1111111111111111, \"#46039f\"], [0.2222222222222222, \"#7201a8\"], [0.3333333333333333, \"#9c179e\"], [0.4444444444444444, \"#bd3786\"], [0.5555555555555556, \"#d8576b\"], [0.6666666666666666, \"#ed7953\"], [0.7777777777777778, \"#fb9f3a\"], [0.8888888888888888, \"#fdca26\"], [1.0, \"#f0f921\"]], \"type\": \"surface\"}], \"table\": [{\"cells\": {\"fill\": {\"color\": \"#EBF0F8\"}, \"line\": {\"color\": \"white\"}}, \"header\": {\"fill\": {\"color\": \"#C8D4E3\"}, \"line\": {\"color\": \"white\"}}, \"type\": \"table\"}]}, \"layout\": {\"annotationdefaults\": {\"arrowcolor\": \"#2a3f5f\", \"arrowhead\": 0, \"arrowwidth\": 1}, \"coloraxis\": {\"colorbar\": {\"outlinewidth\": 0, \"ticks\": \"\"}}, \"colorscale\": {\"diverging\": [[0, \"#8e0152\"], [0.1, \"#c51b7d\"], [0.2, \"#de77ae\"], [0.3, \"#f1b6da\"], [0.4, \"#fde0ef\"], [0.5, \"#f7f7f7\"], [0.6, \"#e6f5d0\"], [0.7, \"#b8e186\"], [0.8, \"#7fbc41\"], [0.9, \"#4d9221\"], [1, \"#276419\"]], \"sequential\": [[0.0, \"#0d0887\"], [0.1111111111111111, \"#46039f\"], [0.2222222222222222, \"#7201a8\"], [0.3333333333333333, \"#9c179e\"], [0.4444444444444444, \"#bd3786\"], [0.5555555555555556, \"#d8576b\"], [0.6666666666666666, \"#ed7953\"], [0.7777777777777778, \"#fb9f3a\"], [0.8888888888888888, \"#fdca26\"], [1.0, \"#f0f921\"]], \"sequentialminus\": [[0.0, \"#0d0887\"], [0.1111111111111111, \"#46039f\"], [0.2222222222222222, \"#7201a8\"], [0.3333333333333333, \"#9c179e\"], [0.4444444444444444, \"#bd3786\"], [0.5555555555555556, \"#d8576b\"], [0.6666666666666666, \"#ed7953\"], [0.7777777777777778, \"#fb9f3a\"], [0.8888888888888888, \"#fdca26\"], [1.0, \"#f0f921\"]]}, \"colorway\": [\"#636efa\", \"#EF553B\", \"#00cc96\", \"#ab63fa\", \"#FFA15A\", \"#19d3f3\", \"#FF6692\", \"#B6E880\", \"#FF97FF\", \"#FECB52\"], \"font\": {\"color\": \"#2a3f5f\"}, \"geo\": {\"bgcolor\": \"white\", \"lakecolor\": \"white\", \"landcolor\": \"#E5ECF6\", \"showlakes\": true, \"showland\": true, \"subunitcolor\": \"white\"}, \"hoverlabel\": {\"align\": \"left\"}, \"hovermode\": \"closest\", \"mapbox\": {\"style\": \"light\"}, \"paper_bgcolor\": \"white\", \"plot_bgcolor\": \"#E5ECF6\", \"polar\": {\"angularaxis\": {\"gridcolor\": \"white\", \"linecolor\": \"white\", \"ticks\": \"\"}, \"bgcolor\": \"#E5ECF6\", \"radialaxis\": {\"gridcolor\": \"white\", \"linecolor\": \"white\", \"ticks\": \"\"}}, \"scene\": {\"xaxis\": {\"backgroundcolor\": \"#E5ECF6\", \"gridcolor\": \"white\", \"gridwidth\": 2, \"linecolor\": \"white\", \"showbackground\": true, \"ticks\": \"\", \"zerolinecolor\": \"white\"}, \"yaxis\": {\"backgroundcolor\": \"#E5ECF6\", \"gridcolor\": \"white\", \"gridwidth\": 2, \"linecolor\": \"white\", \"showbackground\": true, \"ticks\": \"\", \"zerolinecolor\": \"white\"}, \"zaxis\": {\"backgroundcolor\": \"#E5ECF6\", \"gridcolor\": \"white\", \"gridwidth\": 2, \"linecolor\": \"white\", \"showbackground\": true, \"ticks\": \"\", \"zerolinecolor\": \"white\"}}, \"shapedefaults\": {\"line\": {\"color\": \"#2a3f5f\"}}, \"ternary\": {\"aaxis\": {\"gridcolor\": \"white\", \"linecolor\": \"white\", \"ticks\": \"\"}, \"baxis\": {\"gridcolor\": \"white\", \"linecolor\": \"white\", \"ticks\": \"\"}, \"bgcolor\": \"#E5ECF6\", \"caxis\": {\"gridcolor\": \"white\", \"linecolor\": \"white\", \"ticks\": \"\"}}, \"title\": {\"x\": 0.05}, \"xaxis\": {\"automargin\": true, \"gridcolor\": \"white\", \"linecolor\": \"white\", \"ticks\": \"\", \"title\": {\"standoff\": 15}, \"zerolinecolor\": \"white\", \"zerolinewidth\": 2}, \"yaxis\": {\"automargin\": true, \"gridcolor\": \"white\", \"linecolor\": \"white\", \"ticks\": \"\", \"title\": {\"standoff\": 15}, \"zerolinecolor\": \"white\", \"zerolinewidth\": 2}}}, \"title\": {\"text\": \"\\ub4f1\\ub85d\\ucc28\\ub7c9\\uc218, \\ub2e8\\uc9c0\\ub0b4\\uc8fc\\ucc28\\uba74\\uc218 \\ubd84\\ud3ec\"}, \"xaxis\": {\"anchor\": \"y\", \"domain\": [0.0, 1.0], \"title\": {\"text\": \"\\ub4f1\\ub85d\\ucc28\\ub7c9\\uc218\"}}, \"yaxis\": {\"anchor\": \"x\", \"domain\": [0.0, 1.0], \"title\": {\"text\": \"\\ub2e8\\uc9c0\\ub0b4\\uc8fc\\ucc28\\uba74\\uc218\"}}},\n",
              "                        {\"responsive\": true}\n",
              "                    ).then(function(){\n",
              "                            \n",
              "var gd = document.getElementById('167718c2-6ffa-4959-91ed-4a4e42745a84');\n",
              "var x = new MutationObserver(function (mutations, observer) {{\n",
              "        var display = window.getComputedStyle(gd).display;\n",
              "        if (!display || display === 'none') {{\n",
              "            console.log([gd, 'removed!']);\n",
              "            Plotly.purge(gd);\n",
              "            observer.disconnect();\n",
              "        }}\n",
              "}});\n",
              "\n",
              "// Listen for the removal of the full notebook cells\n",
              "var notebookContainer = gd.closest('#notebook-container');\n",
              "if (notebookContainer) {{\n",
              "    x.observe(notebookContainer, {childList: true});\n",
              "}}\n",
              "\n",
              "// Listen for the clearing of the current output cell\n",
              "var outputEl = gd.closest('.output');\n",
              "if (outputEl) {{\n",
              "    x.observe(outputEl, {childList: true});\n",
              "}}\n",
              "\n",
              "                        })\n",
              "                };\n",
              "                \n",
              "            </script>\n",
              "        </div>\n",
              "</body>\n",
              "</html>"
            ]
          },
          "metadata": {}
        }
      ]
    },
    {
      "cell_type": "markdown",
      "metadata": {
        "id": "Tkkc5YP8Xzoq"
      },
      "source": [
        "위 그래프와 상관계수를 통해서 3개의 컬럼의 비율이 일정하지 않음을 알 수 있다.  \n",
        "다른 컬럼들을 확인후 비율변환 문제는 다시 검토"
      ]
    },
    {
      "cell_type": "code",
      "metadata": {
        "id": "G2k97Kfhm7PW"
      },
      "source": [
        "# 등록차량수, 단지내주차면수를 전용면적별세대수 비율에 맞추기\n",
        "raw_train['등록차량수'] = raw_train['등록차량수'] * raw_train['전용면적별세대수'].div(raw_train.groupby('단지코드')['전용면적별세대수'].transform(lambda x: x.sum()))\n",
        "raw_train['단지내주차면수'] = raw_train['단지내주차면수'] * raw_train['전용면적별세대수'].div(raw_train.groupby('단지코드')['전용면적별세대수'].transform(lambda x: x.sum()))"
      ],
      "execution_count": null,
      "outputs": []
    },
    {
      "cell_type": "code",
      "metadata": {
        "id": "9kx2nF5T8vIB"
      },
      "source": [
        "# 등록차량수, 단지내주차면수를 전용면적별세대수 비율에 맞추기\n",
        "raw_test['단지내주차면수'] = raw_test['단지내주차면수'] * raw_test['전용면적별세대수'].div(raw_test.groupby('단지코드')['전용면적별세대수'].transform(lambda x: x.sum()))"
      ],
      "execution_count": null,
      "outputs": []
    },
    {
      "cell_type": "markdown",
      "metadata": {
        "id": "e7Ro2Xbzamsz"
      },
      "source": [
        "### 임대건물구분 변수 삭제 및 상가유무 변수 생성\n",
        "- 결과\n",
        "    - 상가 O -> 단지내주차면수 하락, 등록차량수 하락 \n",
        "    - 임대건물구분 변수 삭제 -> 상가유무 변수 생성\n",
        "\n",
        "- 활용\n",
        "    - 상가와 같이 있는지에 따른 등록차량수 확인\n"
      ]
    },
    {
      "cell_type": "markdown",
      "metadata": {
        "id": "kod8Cgq5YNm_"
      },
      "source": [
        "----------------------------------------------------------------------\n",
        "총세대수와 단지내주차면수를 확인"
      ]
    },
    {
      "cell_type": "code",
      "metadata": {
        "id": "HhF_tOFIWghw"
      },
      "source": [
        "temp = raw_train.drop_duplicates(['단지코드'], keep='first')[['단지코드','총세대수', '단지내주차면수', '등록차량수']]"
      ],
      "execution_count": null,
      "outputs": []
    },
    {
      "cell_type": "code",
      "metadata": {
        "colab": {
          "base_uri": "https://localhost:8080/",
          "height": 542
        },
        "id": "wb9uh73Byqzx",
        "outputId": "a51a56be-d6ee-427d-d821-849f09733182"
      },
      "source": [
        "fig = go.Figure()\n",
        "fig = px.scatter(temp, x= '총세대수', y = '단지내주차면수',\n",
        "                            color_discrete_sequence=px.colors.qualitative.Alphabet)\n",
        "fig.update_layout(title='총세대수, 단지내주차면수 분포') #autosize =, width = 1000, height = 500)"
      ],
      "execution_count": null,
      "outputs": [
        {
          "output_type": "display_data",
          "data": {
            "text/html": [
              "<html>\n",
              "<head><meta charset=\"utf-8\" /></head>\n",
              "<body>\n",
              "    <div>\n",
              "            <script src=\"https://cdnjs.cloudflare.com/ajax/libs/mathjax/2.7.5/MathJax.js?config=TeX-AMS-MML_SVG\"></script><script type=\"text/javascript\">if (window.MathJax) {MathJax.Hub.Config({SVG: {font: \"STIX-Web\"}});}</script>\n",
              "                <script type=\"text/javascript\">window.PlotlyConfig = {MathJaxConfig: 'local'};</script>\n",
              "        <script src=\"https://cdn.plot.ly/plotly-latest.min.js\"></script>    \n",
              "            <div id=\"febb5714-e743-438e-9169-cd1dd1105107\" class=\"plotly-graph-div\" style=\"height:525px; width:100%;\"></div>\n",
              "            <script type=\"text/javascript\">\n",
              "                \n",
              "                    window.PLOTLYENV=window.PLOTLYENV || {};\n",
              "                    \n",
              "                if (document.getElementById(\"febb5714-e743-438e-9169-cd1dd1105107\")) {\n",
              "                    Plotly.newPlot(\n",
              "                        'febb5714-e743-438e-9169-cd1dd1105107',\n",
              "                        [{\"hoverlabel\": {\"namelength\": 0}, \"hovertemplate\": \"\\ucd1d\\uc138\\ub300\\uc218=%{x}<br>\\ub2e8\\uc9c0\\ub0b4\\uc8fc\\ucc28\\uba74\\uc218=%{y}\", \"legendgroup\": \"\", \"marker\": {\"color\": \"#AA0DFE\", \"symbol\": \"circle\"}, \"mode\": \"markers\", \"name\": \"\", \"showlegend\": false, \"type\": \"scatter\", \"x\": [900, 545, 1216, 755, 696, 566, 1722, 624, 361, 754, 240, 688, 623, 601, 405, 518, 619, 875, 560, 595, 625, 880, 1396, 970, 606, 1507, 639, 965, 946, 785, 2424, 809, 388, 1013, 453, 861, 806, 903, 1116, 1486, 1957, 802, 1527, 1005, 1988, 1350, 2428, 1755, 840, 390, 451, 410, 779, 755, 693, 753, 498, 1533, 711, 420, 590, 657, 495, 460, 338, 1144, 521, 1003, 306, 697, 213, 481, 468, 1364, 800, 830, 775, 261, 474, 72, 1473, 996, 870, 678, 632, 961, 1232, 676, 1300, 998, 493, 1117, 307, 501, 896, 521, 458, 290, 409, 586, 1084, 1174, 270, 1308, 355, 384, 853, 996, 355, 492, 861, 711, 901, 815, 312, 571, 594, 944, 410, 635, 962, 822, 1129, 1479, 330, 386, 456, 642, 302, 757, 705, 1072, 375, 853, 1018, 341, 416, 708, 475, 662, 1002, 462, 781, 496, 630, 512, 492, 534, 458, 762, 1005, 775, 890, 494, 571, 550, 383, 996, 882, 615, 470, 477, 496, 1260, 390, 330, 773, 1124, 550, 324, 1497, 531, 355, 389, 712, 561, 816, 898, 581, 851, 693, 136, 225, 742, 866, 383, 407, 720, 280, 307, 232, 602, 522, 457, 808, 712, 757, 356, 283, 467, 506, 243, 525, 445, 514, 374, 330, 378, 277, 856, 646, 511, 285, 256, 466, 314, 382, 212, 872, 508, 594, 514, 558, 758, 812, 504, 631, 332, 409, 773, 375, 747, 372, 434, 538, 498, 718, 818, 1035, 431, 467, 566, 861, 1116, 456, 648, 875, 1668, 443, 1215, 1647, 462, 806, 1017, 589, 504, 937, 840, 1144, 553, 424, 499, 200, 603, 700, 107, 318, 656, 306, 970, 992, 533, 1006, 478, 370, 560, 600, 291, 679, 1065, 1037, 715, 790, 1099, 374, 504, 1128, 304, 600, 690, 690, 749, 680, 376, 783, 1029, 919, 969, 368, 70, 922, 622, 600, 1366, 1122, 752, 886, 552, 850, 432, 1256, 960, 874, 1106, 772, 483, 1028, 326, 575, 532, 791, 1401, 344, 935, 1444, 452, 1105, 472, 354, 268, 984, 624, 1546, 640, 1460, 396, 1022, 1126, 1164, 924, 340, 922, 632, 1684, 794, 1454, 316, 580, 198, 556, 540, 938, 2568, 1058, 368, 1088, 1696, 404, 1934, 295, 1550, 1618, 363, 514, 636, 840, 659, 902, 1256, 1438, 2334, 528, 867, 542, 1124, 526, 947, 480, 908, 450, 890, 1020, 616, 820, 311, 270, 100, 847, 540, 203, 303, 1080, 442, 178, 818, 404, 1509, 412, 212, 26, 202, 1227, 581, 1206, 1048, 1077, 464, 100, 214, 266, 511, 307, 1004, 954, 362, 924, 1486, 2200, 90, 492, 40, 90, 239], \"xaxis\": \"x\", \"y\": [1425.0, 624.0, 1285.0, 734.0, 645.0, 517.0, 1483.0, 634.0, 288.0, 530.0, 168.0, 631.0, 222.0, 117.0, 296.0, 527.0, 97.0, 616.0, 154.0, 509.0, 517.0, 736.0, 277.0, 420.0, 548.0, 407.0, 162.0, 287.0, 986.0, 150.0, 487.0, 264.0, 226.0, 178.0, 107.0, 612.0, 804.0, 200.0, 262.0, 405.0, 351.0, 375.0, 240.0, 166.0, 217.0, 1043.0, 756.0, 270.0, 594.0, 97.0, 109.0, 120.0, 190.0, 88.0, 486.0, 682.0, 402.0, 1296.0, 131.0, 393.0, 376.0, 166.0, 117.0, 155.0, 235.0, 950.0, 153.0, 192.0, 246.0, 128.0, 164.0, 65.0, 477.0, 1505.0, 671.0, 802.0, 738.0, 198.0, 374.0, 54.0, 1299.0, 823.0, 763.0, 579.0, 478.0, 928.0, 1181.0, 658.0, 1082.0, 1240.0, 421.0, 985.0, 219.0, 405.0, 900.0, 521.0, 399.0, 205.0, 316.0, 472.0, 837.0, 1026.0, 222.0, 1119.0, 354.0, 384.0, 853.0, 895.0, 330.0, 347.0, 608.0, 573.0, 668.0, 574.0, 224.0, 483.0, 480.0, 958.0, 402.0, 508.0, 873.0, 827.0, 1137.0, 1488.0, 259.0, 299.0, 399.0, 567.0, 217.0, 660.0, 502.0, 894.0, 454.0, 862.0, 788.0, 240.0, 296.0, 638.0, 722.0, 546.0, 775.0, 325.0, 663.0, 428.0, 637.0, 362.0, 426.0, 465.0, 403.0, 661.0, 882.0, 665.0, 985.0, 358.0, 492.0, 385.0, 385.0, 834.0, 755.0, 527.0, 405.0, 413.0, 425.0, 941.0, 334.0, 335.0, 779.0, 1129.0, 448.0, 270.0, 1100.0, 480.0, 291.0, 352.0, 658.0, 572.0, 822.0, 909.0, 530.0, 771.0, 717.0, 136.0, 277.0, 1016.0, 692.0, 317.0, 552.0, 581.0, 280.0, 296.0, 195.0, 715.0, 525.0, 537.0, 728.0, 641.0, 761.0, 550.0, 227.0, 403.0, 436.0, 214.0, 422.0, 404.0, 362.0, 281.0, 253.0, 265.0, 222.0, 777.0, 583.0, 413.0, 200.0, 199.0, 329.0, 241.0, 306.0, 163.0, 733.0, 370.0, 596.0, 442.0, 449.0, 564.0, 612.0, 445.0, 442.0, 258.0, 330.0, 817.0, 360.0, 698.0, 374.0, 384.0, 393.0, 480.0, 550.0, 640.0, 911.0, 319.0, 366.0, 438.0, 812.0, 1050.0, 367.0, 600.0, 903.0, 1756.0, 362.0, 1105.0, 1741.0, 387.0, 707.0, 879.0, 515.0, 434.0, 770.0, 772.0, 1039.0, 584.0, 467.0, 409.0, 153.0, 506.0, 592.0, 27.0, 262.0, 527.0, 248.0, 845.0, 871.0, 484.0, 915.0, 629.0, 1590.0, 400.0, 528.0, 257.0, 615.0, 879.0, 936.0, 582.0, 673.0, 1154.0, 321.0, 438.0, 951.0, 230.0, 360.0, 652.0, 694.0, 759.0, 877.0, 380.0, 978.0, 1061.0, 988.0, 1590.0, 285.0, 50.0, 731.0, 551.0, 728.0, 1192.0, 1182.0, 680.0, 809.0, 523.0, 948.0, 349.0, 528.0, 876.0, 722.0, 752.0, 700.0, 437.0, 973.0, 268.0, 1066.0, 660.0, 944.0, 1636.0, 344.0, 939.0, 1275.0, 461.0, 1110.0, 1066.0, 297.0, 214.0, 865.0, 535.0, 1176.0, 549.0, 1534.0, 237.0, 1202.0, 983.0, 755.0, 986.0, 320.0, 804.0, 750.0, 1689.0, 676.0, 880.0, 239.0, 378.0, 200.0, 490.0, 500.0, 1117.0, 1798.0, 956.0, 333.0, 773.0, 1648.0, 490.0, 1670.0, 167.0, 1319.0, 1382.0, 434.0, 309.0, 772.0, 658.0, 573.0, 635.0, 878.0, 1500.0, 1713.0, 543.0, 897.0, 542.0, 1201.0, 727.0, 1306.0, 338.0, 1001.0, 318.0, 423.0, 719.0, 350.0, 629.0, 232.0, 183.0, 57.0, 496.0, 397.0, 109.0, 249.0, 1142.0, 533.0, 131.0, 995.0, 486.0, 1055.0, 287.0, 114.0, 13.0, 141.0, 857.0, 408.0, 842.0, 1140.0, 1239.0, 288.0, 54.0, 108.0, 188.0, 389.0, 212.0, 700.0, 772.0, 345.0, 664.0, 1493.0, 1570.0, 66.0, 521.0, 25.0, 30.0, 166.0], \"yaxis\": \"y\"}],\n",
              "                        {\"legend\": {\"tracegroupgap\": 0}, \"margin\": {\"t\": 60}, \"template\": {\"data\": {\"bar\": [{\"error_x\": {\"color\": \"#2a3f5f\"}, \"error_y\": {\"color\": \"#2a3f5f\"}, \"marker\": {\"line\": {\"color\": \"#E5ECF6\", \"width\": 0.5}}, \"type\": \"bar\"}], \"barpolar\": [{\"marker\": {\"line\": {\"color\": \"#E5ECF6\", \"width\": 0.5}}, \"type\": \"barpolar\"}], \"carpet\": [{\"aaxis\": {\"endlinecolor\": \"#2a3f5f\", \"gridcolor\": \"white\", \"linecolor\": \"white\", \"minorgridcolor\": \"white\", \"startlinecolor\": \"#2a3f5f\"}, \"baxis\": {\"endlinecolor\": \"#2a3f5f\", \"gridcolor\": \"white\", \"linecolor\": \"white\", \"minorgridcolor\": \"white\", \"startlinecolor\": \"#2a3f5f\"}, \"type\": \"carpet\"}], \"choropleth\": [{\"colorbar\": {\"outlinewidth\": 0, \"ticks\": \"\"}, \"type\": \"choropleth\"}], \"contour\": [{\"colorbar\": {\"outlinewidth\": 0, \"ticks\": \"\"}, \"colorscale\": [[0.0, \"#0d0887\"], [0.1111111111111111, \"#46039f\"], [0.2222222222222222, \"#7201a8\"], [0.3333333333333333, \"#9c179e\"], [0.4444444444444444, \"#bd3786\"], [0.5555555555555556, \"#d8576b\"], [0.6666666666666666, \"#ed7953\"], [0.7777777777777778, \"#fb9f3a\"], [0.8888888888888888, \"#fdca26\"], [1.0, \"#f0f921\"]], \"type\": \"contour\"}], \"contourcarpet\": [{\"colorbar\": {\"outlinewidth\": 0, \"ticks\": \"\"}, \"type\": \"contourcarpet\"}], \"heatmap\": [{\"colorbar\": {\"outlinewidth\": 0, \"ticks\": \"\"}, \"colorscale\": [[0.0, \"#0d0887\"], [0.1111111111111111, \"#46039f\"], [0.2222222222222222, \"#7201a8\"], [0.3333333333333333, \"#9c179e\"], [0.4444444444444444, \"#bd3786\"], [0.5555555555555556, \"#d8576b\"], [0.6666666666666666, \"#ed7953\"], [0.7777777777777778, \"#fb9f3a\"], [0.8888888888888888, \"#fdca26\"], [1.0, \"#f0f921\"]], \"type\": \"heatmap\"}], \"heatmapgl\": [{\"colorbar\": {\"outlinewidth\": 0, \"ticks\": \"\"}, \"colorscale\": [[0.0, \"#0d0887\"], [0.1111111111111111, \"#46039f\"], [0.2222222222222222, \"#7201a8\"], [0.3333333333333333, \"#9c179e\"], [0.4444444444444444, \"#bd3786\"], [0.5555555555555556, \"#d8576b\"], [0.6666666666666666, \"#ed7953\"], [0.7777777777777778, \"#fb9f3a\"], [0.8888888888888888, \"#fdca26\"], [1.0, \"#f0f921\"]], \"type\": \"heatmapgl\"}], \"histogram\": [{\"marker\": {\"colorbar\": {\"outlinewidth\": 0, \"ticks\": \"\"}}, \"type\": \"histogram\"}], \"histogram2d\": [{\"colorbar\": {\"outlinewidth\": 0, \"ticks\": \"\"}, \"colorscale\": [[0.0, \"#0d0887\"], [0.1111111111111111, \"#46039f\"], [0.2222222222222222, \"#7201a8\"], [0.3333333333333333, \"#9c179e\"], [0.4444444444444444, \"#bd3786\"], [0.5555555555555556, \"#d8576b\"], [0.6666666666666666, \"#ed7953\"], [0.7777777777777778, \"#fb9f3a\"], [0.8888888888888888, \"#fdca26\"], [1.0, \"#f0f921\"]], \"type\": \"histogram2d\"}], \"histogram2dcontour\": [{\"colorbar\": {\"outlinewidth\": 0, \"ticks\": \"\"}, \"colorscale\": [[0.0, \"#0d0887\"], [0.1111111111111111, \"#46039f\"], [0.2222222222222222, \"#7201a8\"], [0.3333333333333333, \"#9c179e\"], [0.4444444444444444, \"#bd3786\"], [0.5555555555555556, \"#d8576b\"], [0.6666666666666666, \"#ed7953\"], [0.7777777777777778, \"#fb9f3a\"], [0.8888888888888888, \"#fdca26\"], [1.0, \"#f0f921\"]], \"type\": \"histogram2dcontour\"}], \"mesh3d\": [{\"colorbar\": {\"outlinewidth\": 0, \"ticks\": \"\"}, \"type\": \"mesh3d\"}], \"parcoords\": [{\"line\": {\"colorbar\": {\"outlinewidth\": 0, \"ticks\": \"\"}}, \"type\": \"parcoords\"}], \"pie\": [{\"automargin\": true, \"type\": \"pie\"}], \"scatter\": [{\"marker\": {\"colorbar\": {\"outlinewidth\": 0, \"ticks\": \"\"}}, \"type\": \"scatter\"}], \"scatter3d\": [{\"line\": {\"colorbar\": {\"outlinewidth\": 0, \"ticks\": \"\"}}, \"marker\": {\"colorbar\": {\"outlinewidth\": 0, \"ticks\": \"\"}}, \"type\": \"scatter3d\"}], \"scattercarpet\": [{\"marker\": {\"colorbar\": {\"outlinewidth\": 0, \"ticks\": \"\"}}, \"type\": \"scattercarpet\"}], \"scattergeo\": [{\"marker\": {\"colorbar\": {\"outlinewidth\": 0, \"ticks\": \"\"}}, \"type\": \"scattergeo\"}], \"scattergl\": [{\"marker\": {\"colorbar\": {\"outlinewidth\": 0, \"ticks\": \"\"}}, \"type\": \"scattergl\"}], \"scattermapbox\": [{\"marker\": {\"colorbar\": {\"outlinewidth\": 0, \"ticks\": \"\"}}, \"type\": \"scattermapbox\"}], \"scatterpolar\": [{\"marker\": {\"colorbar\": {\"outlinewidth\": 0, \"ticks\": \"\"}}, \"type\": \"scatterpolar\"}], \"scatterpolargl\": [{\"marker\": {\"colorbar\": {\"outlinewidth\": 0, \"ticks\": \"\"}}, \"type\": \"scatterpolargl\"}], \"scatterternary\": [{\"marker\": {\"colorbar\": {\"outlinewidth\": 0, \"ticks\": \"\"}}, \"type\": \"scatterternary\"}], \"surface\": [{\"colorbar\": {\"outlinewidth\": 0, \"ticks\": \"\"}, \"colorscale\": [[0.0, \"#0d0887\"], [0.1111111111111111, \"#46039f\"], [0.2222222222222222, \"#7201a8\"], [0.3333333333333333, \"#9c179e\"], [0.4444444444444444, \"#bd3786\"], [0.5555555555555556, \"#d8576b\"], [0.6666666666666666, \"#ed7953\"], [0.7777777777777778, \"#fb9f3a\"], [0.8888888888888888, \"#fdca26\"], [1.0, \"#f0f921\"]], \"type\": \"surface\"}], \"table\": [{\"cells\": {\"fill\": {\"color\": \"#EBF0F8\"}, \"line\": {\"color\": \"white\"}}, \"header\": {\"fill\": {\"color\": \"#C8D4E3\"}, \"line\": {\"color\": \"white\"}}, \"type\": \"table\"}]}, \"layout\": {\"annotationdefaults\": {\"arrowcolor\": \"#2a3f5f\", \"arrowhead\": 0, \"arrowwidth\": 1}, \"coloraxis\": {\"colorbar\": {\"outlinewidth\": 0, \"ticks\": \"\"}}, \"colorscale\": {\"diverging\": [[0, \"#8e0152\"], [0.1, \"#c51b7d\"], [0.2, \"#de77ae\"], [0.3, \"#f1b6da\"], [0.4, \"#fde0ef\"], [0.5, \"#f7f7f7\"], [0.6, \"#e6f5d0\"], [0.7, \"#b8e186\"], [0.8, \"#7fbc41\"], [0.9, \"#4d9221\"], [1, \"#276419\"]], \"sequential\": [[0.0, \"#0d0887\"], [0.1111111111111111, \"#46039f\"], [0.2222222222222222, \"#7201a8\"], [0.3333333333333333, \"#9c179e\"], [0.4444444444444444, \"#bd3786\"], [0.5555555555555556, \"#d8576b\"], [0.6666666666666666, \"#ed7953\"], [0.7777777777777778, \"#fb9f3a\"], [0.8888888888888888, \"#fdca26\"], [1.0, \"#f0f921\"]], \"sequentialminus\": [[0.0, \"#0d0887\"], [0.1111111111111111, \"#46039f\"], [0.2222222222222222, \"#7201a8\"], [0.3333333333333333, \"#9c179e\"], [0.4444444444444444, \"#bd3786\"], [0.5555555555555556, \"#d8576b\"], [0.6666666666666666, \"#ed7953\"], [0.7777777777777778, \"#fb9f3a\"], [0.8888888888888888, \"#fdca26\"], [1.0, \"#f0f921\"]]}, \"colorway\": [\"#636efa\", \"#EF553B\", \"#00cc96\", \"#ab63fa\", \"#FFA15A\", \"#19d3f3\", \"#FF6692\", \"#B6E880\", \"#FF97FF\", \"#FECB52\"], \"font\": {\"color\": \"#2a3f5f\"}, \"geo\": {\"bgcolor\": \"white\", \"lakecolor\": \"white\", \"landcolor\": \"#E5ECF6\", \"showlakes\": true, \"showland\": true, \"subunitcolor\": \"white\"}, \"hoverlabel\": {\"align\": \"left\"}, \"hovermode\": \"closest\", \"mapbox\": {\"style\": \"light\"}, \"paper_bgcolor\": \"white\", \"plot_bgcolor\": \"#E5ECF6\", \"polar\": {\"angularaxis\": {\"gridcolor\": \"white\", \"linecolor\": \"white\", \"ticks\": \"\"}, \"bgcolor\": \"#E5ECF6\", \"radialaxis\": {\"gridcolor\": \"white\", \"linecolor\": \"white\", \"ticks\": \"\"}}, \"scene\": {\"xaxis\": {\"backgroundcolor\": \"#E5ECF6\", \"gridcolor\": \"white\", \"gridwidth\": 2, \"linecolor\": \"white\", \"showbackground\": true, \"ticks\": \"\", \"zerolinecolor\": \"white\"}, \"yaxis\": {\"backgroundcolor\": \"#E5ECF6\", \"gridcolor\": \"white\", \"gridwidth\": 2, \"linecolor\": \"white\", \"showbackground\": true, \"ticks\": \"\", \"zerolinecolor\": \"white\"}, \"zaxis\": {\"backgroundcolor\": \"#E5ECF6\", \"gridcolor\": \"white\", \"gridwidth\": 2, \"linecolor\": \"white\", \"showbackground\": true, \"ticks\": \"\", \"zerolinecolor\": \"white\"}}, \"shapedefaults\": {\"line\": {\"color\": \"#2a3f5f\"}}, \"ternary\": {\"aaxis\": {\"gridcolor\": \"white\", \"linecolor\": \"white\", \"ticks\": \"\"}, \"baxis\": {\"gridcolor\": \"white\", \"linecolor\": \"white\", \"ticks\": \"\"}, \"bgcolor\": \"#E5ECF6\", \"caxis\": {\"gridcolor\": \"white\", \"linecolor\": \"white\", \"ticks\": \"\"}}, \"title\": {\"x\": 0.05}, \"xaxis\": {\"automargin\": true, \"gridcolor\": \"white\", \"linecolor\": \"white\", \"ticks\": \"\", \"title\": {\"standoff\": 15}, \"zerolinecolor\": \"white\", \"zerolinewidth\": 2}, \"yaxis\": {\"automargin\": true, \"gridcolor\": \"white\", \"linecolor\": \"white\", \"ticks\": \"\", \"title\": {\"standoff\": 15}, \"zerolinecolor\": \"white\", \"zerolinewidth\": 2}}}, \"title\": {\"text\": \"\\ucd1d\\uc138\\ub300\\uc218, \\ub2e8\\uc9c0\\ub0b4\\uc8fc\\ucc28\\uba74\\uc218 \\ubd84\\ud3ec\"}, \"xaxis\": {\"anchor\": \"y\", \"domain\": [0.0, 1.0], \"title\": {\"text\": \"\\ucd1d\\uc138\\ub300\\uc218\"}}, \"yaxis\": {\"anchor\": \"x\", \"domain\": [0.0, 1.0], \"title\": {\"text\": \"\\ub2e8\\uc9c0\\ub0b4\\uc8fc\\ucc28\\uba74\\uc218\"}}},\n",
              "                        {\"responsive\": true}\n",
              "                    ).then(function(){\n",
              "                            \n",
              "var gd = document.getElementById('febb5714-e743-438e-9169-cd1dd1105107');\n",
              "var x = new MutationObserver(function (mutations, observer) {{\n",
              "        var display = window.getComputedStyle(gd).display;\n",
              "        if (!display || display === 'none') {{\n",
              "            console.log([gd, 'removed!']);\n",
              "            Plotly.purge(gd);\n",
              "            observer.disconnect();\n",
              "        }}\n",
              "}});\n",
              "\n",
              "// Listen for the removal of the full notebook cells\n",
              "var notebookContainer = gd.closest('#notebook-container');\n",
              "if (notebookContainer) {{\n",
              "    x.observe(notebookContainer, {childList: true});\n",
              "}}\n",
              "\n",
              "// Listen for the clearing of the current output cell\n",
              "var outputEl = gd.closest('.output');\n",
              "if (outputEl) {{\n",
              "    x.observe(outputEl, {childList: true});\n",
              "}}\n",
              "\n",
              "                        })\n",
              "                };\n",
              "                \n",
              "            </script>\n",
              "        </div>\n",
              "</body>\n",
              "</html>"
            ]
          },
          "metadata": {}
        }
      ]
    },
    {
      "cell_type": "markdown",
      "metadata": {
        "id": "WlLDmVgRzjWZ"
      },
      "source": [
        "총세대수, 단지내주차면수가 등록차량수화 강한 상관관계를 나타내고 있음.\n",
        "하지만, 총세대수가 높음에도 불구하고 등록차량수가 낮은 구간이 많음.\n",
        "하지만 단지내주차면수와 등록차량수가 0.8이라는 높은상관관계를 나타낸다. 이는 당연히 주차할 수 있는 공간이 많아지면 등록차량이 많다는 것을 의미한다.\n",
        "\n",
        "즉, **총세대수가 많은 단지에서 주차면수가 적을 수도 있다는 것을 파악할 수 있음**\n",
        "\n",
        "그렇다면 총세대수가 많은 단지에서 단지내 주차면수가 적은 곳을 확인해보자.  \n",
        "확인방법은 위 그래프를 참고해 단지내주차면수 / 총세대수가 0.5이하인 곳을 확인"
      ]
    },
    {
      "cell_type": "code",
      "metadata": {
        "colab": {
          "base_uri": "https://localhost:8080/"
        },
        "id": "aBb75nSzTrus",
        "outputId": "d16e541d-273c-4edc-fde7-62637daf3015"
      },
      "source": [
        "raw_train[(raw_train['단지내주차면수'] / raw_train['총세대수']) <= 0.5].drop_duplicates(['단지코드', '임대건물구분'], keep='first').groupby(['임대건물구분'])['단지코드'].count()"
      ],
      "execution_count": null,
      "outputs": [
        {
          "output_type": "execute_result",
          "data": {
            "text/plain": [
              "임대건물구분\n",
              "상가     33\n",
              "아파트    42\n",
              "Name: 단지코드, dtype: int64"
            ]
          },
          "metadata": {},
          "execution_count": 111
        }
      ]
    },
    {
      "cell_type": "code",
      "metadata": {
        "colab": {
          "base_uri": "https://localhost:8080/"
        },
        "id": "wwlMtYQGVElp",
        "outputId": "8293bdbe-851b-4aec-fa11-237f14b1cd86"
      },
      "source": [
        "raw_train[(raw_train['단지내주차면수'] / raw_train['총세대수']) >= 0.5].drop_duplicates(['단지코드', '임대건물구분'], keep='first').groupby(['임대건물구분'])['단지코드'].count()"
      ],
      "execution_count": null,
      "outputs": [
        {
          "output_type": "execute_result",
          "data": {
            "text/plain": [
              "임대건물구분\n",
              "아파트    382\n",
              "Name: 단지코드, dtype: int64"
            ]
          },
          "metadata": {},
          "execution_count": 112
        }
      ]
    },
    {
      "cell_type": "markdown",
      "metadata": {
        "id": "ABaGwFmxVIDx"
      },
      "source": [
        "위의 결과를 통해서 동일단지내에 상가가 있는 아파트는 총세대에 비해서 주차면수가 적다는 것을 파악할 수 있다.\n",
        "\n",
        "상가유무의 컬럼을 생성"
      ]
    },
    {
      "cell_type": "code",
      "metadata": {
        "id": "2FXyVdgDYpea"
      },
      "source": [
        "raw_train_lentType = copy.deepcopy(raw_train)"
      ],
      "execution_count": null,
      "outputs": []
    },
    {
      "cell_type": "code",
      "metadata": {
        "id": "k3LghwUM_H1I"
      },
      "source": [
        "#혹시 상가가 딸린 지역은 주차면수가 더 높나?\n",
        "raw_train_lentType['상가유무'] = raw_train_lentType['임대건물구분'].apply(lambda x: '상가있음' if x == '상가' else '상가없음')\n",
        "# raw_train.groupby(['단지코드', ''])"
      ],
      "execution_count": null,
      "outputs": []
    },
    {
      "cell_type": "code",
      "metadata": {
        "id": "W9X81GfLHv0p"
      },
      "source": [
        "raw_train_lentType['상가유무'] = raw_train_lentType['단지코드'].apply(lambda x: '상가있음' if x in raw_train_lentType[raw_train_lentType['상가유무'] == '상가있음']['단지코드'].unique() else '상가없음')"
      ],
      "execution_count": null,
      "outputs": []
    },
    {
      "cell_type": "markdown",
      "metadata": {
        "id": "u-RzGMTIUHdJ"
      },
      "source": [
        "--------------------\n",
        "상가만 있는 지 확인\n",
        "결과 : 없음"
      ]
    },
    {
      "cell_type": "code",
      "metadata": {
        "id": "XbNLo7ylUmgX",
        "colab": {
          "base_uri": "https://localhost:8080/"
        },
        "outputId": "cb38c072-a797-4841-c120-2580cc3cecd3"
      },
      "source": [
        "raw_train_lentType[raw_train_lentType['상가유무'] == '상가있음'].drop_duplicates(['단지코드','임대건물구분','상가유무'], keep='first').groupby(['단지코드'])['임대건물구분'].apply(lambda x: \"\".join(x))"
      ],
      "execution_count": null,
      "outputs": [
        {
          "output_type": "execute_result",
          "data": {
            "text/plain": [
              "단지코드\n",
              "C1004    아파트상가\n",
              "C1056    아파트상가\n",
              "C1109    아파트상가\n",
              "C1206    아파트상가\n",
              "C1439    아파트상가\n",
              "C1476    아파트상가\n",
              "C1616    아파트상가\n",
              "C1698    아파트상가\n",
              "C1704    아파트상가\n",
              "C1722    아파트상가\n",
              "C1775    아파트상가\n",
              "C1790    아파트상가\n",
              "C1859    아파트상가\n",
              "C1874    아파트상가\n",
              "C1875    아파트상가\n",
              "C1899    아파트상가\n",
              "C1925    아파트상가\n",
              "C1983    아파트상가\n",
              "C2034    아파트상가\n",
              "C2038    아파트상가\n",
              "C2109    아파트상가\n",
              "C2132    아파트상가\n",
              "C2135    아파트상가\n",
              "C2190    아파트상가\n",
              "C2212    아파트상가\n",
              "C2258    아파트상가\n",
              "C2289    아파트상가\n",
              "C2310    아파트상가\n",
              "C2416    아파트상가\n",
              "C2571    아파트상가\n",
              "C2597    아파트상가\n",
              "C2621    아파트상가\n",
              "C2644    아파트상가\n",
              "Name: 임대건물구분, dtype: object"
            ]
          },
          "metadata": {},
          "execution_count": 126
        }
      ]
    },
    {
      "cell_type": "code",
      "metadata": {
        "colab": {
          "base_uri": "https://localhost:8080/"
        },
        "id": "xCBIV8GMSBNF",
        "outputId": "3eed5be0-7319-4d45-f6b2-906283ab7948"
      },
      "source": [
        "#단지코드 고유 개수가 맞는지 확인\n",
        "len(raw_train_lentType['단지코드'].unique()) #423"
      ],
      "execution_count": null,
      "outputs": [
        {
          "output_type": "execute_result",
          "data": {
            "text/plain": [
              "423"
            ]
          },
          "metadata": {},
          "execution_count": 121
        }
      ]
    },
    {
      "cell_type": "code",
      "metadata": {
        "colab": {
          "base_uri": "https://localhost:8080/",
          "height": 542
        },
        "id": "sXDw553KcSWK",
        "outputId": "880f675a-8468-45cf-87a3-4a821fa06463"
      },
      "source": [
        "fig = go.Figure()\n",
        "fig = px.scatter(raw_train_lentType, x= '총세대수', y = '단지내주차면수', color='상가유무',\n",
        "                            color_discrete_sequence=px.colors.qualitative.Alphabet)\n",
        "fig.update_layout(title='상가유무에 따른 총세대수, 단지내주차면수 분포') #autosize =, width = 1000, height = 500)"
      ],
      "execution_count": null,
      "outputs": [
        {
          "output_type": "display_data",
          "data": {
            "text/html": [
              "<html>\n",
              "<head><meta charset=\"utf-8\" /></head>\n",
              "<body>\n",
              "    <div>\n",
              "            <script src=\"https://cdnjs.cloudflare.com/ajax/libs/mathjax/2.7.5/MathJax.js?config=TeX-AMS-MML_SVG\"></script><script type=\"text/javascript\">if (window.MathJax) {MathJax.Hub.Config({SVG: {font: \"STIX-Web\"}});}</script>\n",
              "                <script type=\"text/javascript\">window.PlotlyConfig = {MathJaxConfig: 'local'};</script>\n",
              "        <script src=\"https://cdn.plot.ly/plotly-latest.min.js\"></script>    \n",
              "            <div id=\"17b67dff-e59f-4d08-924c-556622060076\" class=\"plotly-graph-div\" style=\"height:525px; width:100%;\"></div>\n",
              "            <script type=\"text/javascript\">\n",
              "                \n",
              "                    window.PLOTLYENV=window.PLOTLYENV || {};\n",
              "                    \n",
              "                if (document.getElementById(\"17b67dff-e59f-4d08-924c-556622060076\")) {\n",
              "                    Plotly.newPlot(\n",
              "                        '17b67dff-e59f-4d08-924c-556622060076',\n",
              "                        [{\"hoverlabel\": {\"namelength\": 0}, \"hovertemplate\": \"\\uc0c1\\uac00\\uc720\\ubb34=\\uc0c1\\uac00\\uc5c6\\uc74c<br>\\ucd1d\\uc138\\ub300\\uc218=%{x}<br>\\ub2e8\\uc9c0\\ub0b4\\uc8fc\\ucc28\\uba74\\uc218=%{y}\", \"legendgroup\": \"\\uc0c1\\uac00\\uc720\\ubb34=\\uc0c1\\uac00\\uc5c6\\uc74c\", \"marker\": {\"color\": \"#AA0DFE\", \"symbol\": \"circle\"}, \"mode\": \"markers\", \"name\": \"\\uc0c1\\uac00\\uc720\\ubb34=\\uc0c1\\uac00\\uc5c6\\uc74c\", \"showlegend\": true, \"type\": \"scattergl\", \"x\": [900, 900, 900, 900, 900, 900, 900, 900, 545, 545, 545, 545, 545, 545, 545, 1216, 1216, 1216, 1216, 1216, 1216, 1216, 1216, 1216, 1216, 1216, 755, 755, 755, 755, 755, 755, 696, 696, 696, 696, 566, 566, 566, 566, 566, 566, 1722, 1722, 1722, 1722, 1722, 1722, 1722, 1722, 1722, 1722, 1722, 1722, 1722, 624, 624, 624, 624, 624, 624, 624, 624, 624, 624, 624, 624, 361, 361, 361, 361, 361, 361, 754, 754, 754, 240, 240, 240, 240, 688, 688, 688, 623, 623, 623, 405, 405, 518, 518, 518, 518, 875, 875, 875, 595, 595, 595, 625, 625, 625, 880, 880, 880, 880, 880, 880, 970, 606, 606, 606, 606, 946, 946, 946, 946, 946, 946, 388, 388, 388, 861, 861, 861, 806, 806, 806, 806, 806, 806, 802, 802, 1350, 1350, 840, 840, 840, 390, 390, 693, 693, 693, 753, 753, 498, 498, 498, 498, 1533, 1533, 1533, 1533, 420, 420, 590, 590, 590, 590, 590, 590, 590, 590, 338, 338, 338, 338, 1144, 1144, 1144, 306, 306, 306, 213, 213, 213, 468, 468, 468, 1364, 1364, 1364, 1364, 1364, 1364, 1364, 800, 800, 800, 800, 800, 800, 830, 830, 830, 830, 830, 830, 830, 830, 775, 775, 775, 775, 775, 775, 775, 775, 261, 261, 261, 261, 474, 474, 474, 474, 474, 474, 474, 474, 72, 72, 72, 1473, 1473, 1473, 1473, 1473, 1473, 1473, 1473, 1473, 1473, 1473, 1473, 1473, 1473, 1473, 1473, 1473, 1473, 1473, 996, 996, 996, 996, 996, 996, 996, 870, 870, 870, 870, 870, 870, 870, 678, 678, 678, 678, 678, 678, 632, 632, 632, 632, 632, 961, 961, 961, 961, 961, 961, 961, 961, 1232, 1232, 1232, 1232, 1232, 676, 676, 676, 676, 676, 1300, 1300, 1300, 1300, 1300, 1300, 1300, 998, 998, 998, 998, 998, 998, 998, 493, 493, 493, 493, 493, 493, 493, 1117, 1117, 1117, 1117, 1117, 1117, 1117, 1117, 1117, 1117, 307, 307, 501, 501, 501, 501, 501, 501, 896, 896, 896, 896, 521, 521, 521, 521, 458, 458, 458, 458, 458, 458, 458, 290, 290, 409, 409, 409, 409, 409, 586, 586, 586, 586, 586, 586, 586, 586, 1084, 1084, 1084, 1084, 1084, 1084, 1174, 1174, 1174, 1174, 1174, 1174, 1174, 1174, 1174, 1174, 1174, 270, 270, 270, 270, 270, 270, 270, 1308, 1308, 1308, 1308, 1308, 355, 355, 355, 355, 384, 384, 384, 853, 853, 853, 853, 853, 853, 853, 996, 996, 996, 996, 996, 996, 996, 996, 996, 355, 355, 355, 355, 355, 355, 492, 492, 492, 492, 492, 492, 492, 861, 861, 861, 861, 861, 711, 711, 711, 711, 711, 901, 901, 901, 901, 815, 815, 815, 815, 815, 312, 312, 312, 312, 312, 312, 571, 571, 571, 571, 571, 571, 571, 571, 571, 594, 594, 594, 594, 594, 944, 944, 944, 944, 944, 944, 944, 944, 410, 410, 410, 410, 410, 410, 410, 635, 635, 635, 635, 962, 962, 962, 962, 962, 962, 822, 822, 822, 822, 822, 1129, 1129, 1129, 1129, 1129, 1129, 1479, 1479, 1479, 1479, 1479, 1479, 1479, 1479, 1479, 330, 330, 330, 330, 330, 386, 386, 386, 386, 456, 456, 456, 456, 642, 642, 642, 642, 302, 302, 757, 757, 757, 757, 757, 757, 757, 757, 757, 757, 705, 705, 705, 705, 1072, 1072, 1072, 375, 375, 375, 853, 853, 853, 853, 1018, 1018, 1018, 1018, 341, 341, 416, 416, 416, 416, 708, 708, 708, 708, 708, 708, 708, 708, 708, 475, 475, 475, 475, 662, 662, 662, 662, 1002, 1002, 1002, 1002, 1002, 1002, 1002, 1002, 462, 462, 462, 781, 781, 781, 781, 781, 781, 781, 781, 781, 781, 496, 496, 496, 496, 496, 496, 630, 630, 630, 630, 630, 630, 512, 492, 492, 492, 492, 492, 492, 534, 534, 534, 534, 534, 534, 534, 534, 458, 458, 458, 458, 458, 458, 458, 762, 762, 762, 762, 762, 762, 762, 762, 762, 1005, 1005, 1005, 1005, 1005, 1005, 1005, 1005, 1005, 775, 775, 775, 775, 775, 775, 775, 775, 890, 890, 890, 890, 890, 890, 494, 494, 494, 494, 494, 571, 571, 571, 571, 571, 550, 550, 550, 550, 550, 550, 383, 383, 383, 383, 383, 383, 383, 996, 996, 996, 996, 996, 882, 882, 882, 882, 882, 882, 882, 882, 615, 615, 615, 615, 615, 615, 470, 470, 470, 470, 470, 470, 470, 477, 477, 477, 477, 477, 477, 477, 496, 496, 496, 496, 1260, 1260, 1260, 1260, 1260, 1260, 390, 390, 390, 390, 390, 390, 390, 330, 330, 330, 330, 330, 330, 773, 773, 773, 773, 773, 773, 773, 773, 773, 773, 773, 1124, 1124, 1124, 1124, 1124, 1124, 1124, 1124, 1124, 1124, 1124, 1124, 550, 550, 324, 324, 324, 324, 1497, 1497, 1497, 1497, 1497, 1497, 1497, 1497, 1497, 1497, 1497, 1497, 1497, 531, 531, 531, 531, 531, 531, 531, 531, 355, 355, 355, 355, 355, 389, 389, 389, 389, 712, 712, 712, 712, 712, 712, 561, 561, 561, 561, 816, 816, 816, 816, 898, 898, 898, 898, 898, 581, 581, 581, 581, 851, 851, 851, 851, 851, 851, 851, 851, 851, 851, 851, 851, 693, 693, 693, 136, 225, 225, 742, 742, 742, 742, 742, 742, 742, 866, 866, 866, 866, 866, 866, 866, 383, 383, 383, 383, 383, 407, 407, 720, 720, 720, 720, 720, 720, 720, 720, 280, 280, 280, 280, 280, 280, 307, 307, 307, 307, 307, 307, 232, 232, 232, 602, 602, 602, 602, 602, 602, 522, 522, 522, 522, 522, 522, 457, 457, 457, 457, 457, 457, 457, 808, 808, 808, 808, 808, 808, 808, 712, 712, 712, 712, 712, 757, 757, 757, 757, 757, 757, 757, 356, 356, 356, 283, 283, 283, 283, 467, 467, 467, 467, 467, 506, 506, 506, 506, 506, 506, 506, 506, 243, 243, 243, 243, 243, 525, 525, 525, 525, 445, 445, 445, 445, 514, 514, 514, 514, 514, 514, 374, 374, 374, 330, 330, 330, 378, 378, 378, 378, 378, 277, 277, 277, 277, 277, 277, 277, 277, 856, 856, 856, 856, 856, 856, 646, 646, 646, 646, 646, 511, 511, 511, 511, 511, 285, 285, 285, 256, 256, 256, 256, 466, 466, 466, 466, 314, 314, 314, 382, 382, 382, 382, 382, 382, 212, 212, 212, 212, 212, 212, 872, 872, 872, 872, 872, 872, 508, 508, 594, 594, 594, 594, 594, 514, 514, 514, 514, 514, 558, 558, 558, 558, 558, 758, 758, 758, 812, 812, 812, 812, 812, 812, 812, 504, 504, 504, 504, 631, 631, 631, 631, 631, 631, 631, 332, 332, 332, 332, 332, 409, 409, 409, 409, 409, 409, 409, 773, 773, 773, 773, 773, 773, 375, 375, 375, 375, 375, 375, 375, 747, 747, 747, 747, 747, 747, 747, 372, 372, 434, 434, 538, 538, 538, 538, 538, 538, 498, 498, 498, 498, 498, 718, 718, 718, 718, 718, 718, 718, 718, 818, 818, 818, 818, 1035, 1035, 1035, 1035, 1035, 1035, 431, 431, 431, 431, 467, 467, 467, 467, 467, 467, 566, 566, 566, 566, 566, 566, 566, 861, 861, 861, 861, 861, 861, 1116, 1116, 1116, 1116, 1116, 1116, 1116, 1116, 1116, 456, 456, 456, 456, 456, 648, 648, 648, 648, 648, 875, 875, 875, 875, 875, 875, 875, 875, 875, 875, 1668, 1668, 1668, 1668, 1668, 1668, 1668, 1668, 1668, 1668, 1668, 1668, 1668, 1668, 1668, 1668, 443, 443, 443, 443, 443, 443, 1215, 1215, 1215, 1215, 1215, 1215, 1215, 1215, 1647, 1647, 1647, 1647, 1647, 1647, 1647, 1647, 1647, 1647, 1647, 1647, 1647, 1647, 462, 462, 462, 462, 462, 462, 806, 806, 806, 806, 806, 806, 806, 806, 806, 1017, 1017, 1017, 1017, 1017, 1017, 589, 589, 589, 589, 589, 589, 589, 589, 589, 589, 504, 504, 504, 504, 504, 937, 937, 937, 937, 937, 937, 840, 840, 840, 840, 840, 840, 840, 840, 840, 1144, 1144, 1144, 1144, 1144, 1144, 1144, 1144, 1144, 1144, 1144, 553, 553, 553, 553, 553, 553, 424, 424, 424, 424, 424, 424, 499, 499, 499, 499, 499, 200, 200, 200, 200, 200, 603, 603, 603, 603, 603, 603, 603, 700, 700, 700, 700, 700, 700, 107, 107, 318, 318, 318, 318, 318, 318, 656, 656, 656, 656, 656, 656, 306, 306, 306, 306, 970, 970, 970, 970, 970, 970, 992, 992, 992, 992, 992, 992, 992, 992, 992, 992, 992, 533, 533, 533, 533, 533, 533, 1006, 1006, 1006, 1006, 1006, 1006, 1006, 1006, 1006, 1006, 1006, 1006, 478, 478, 478, 478, 370, 370, 370, 370, 370, 370, 560, 560, 560, 560, 560, 560, 600, 600, 600, 600, 600, 600, 600, 600, 600, 291, 291, 291, 291, 291, 291, 679, 679, 679, 679, 679, 679, 679, 1065, 1065, 1065, 1065, 1065, 1065, 1065, 1065, 1065, 1065, 1037, 1037, 1037, 1037, 1037, 1037, 1037, 1037, 1037, 715, 715, 715, 715, 790, 790, 790, 790, 790, 790, 790, 790, 790, 790, 790, 1099, 1099, 1099, 1099, 1099, 1099, 1099, 1099, 374, 374, 374, 374, 374, 504, 504, 504, 504, 504, 504, 504, 504, 504, 504, 504, 1128, 1128, 1128, 304, 304, 304, 600, 600, 600, 600, 600, 600, 600, 690, 690, 690, 690, 690, 690, 690, 690, 690, 690, 749, 749, 749, 749, 680, 680, 680, 680, 680, 680, 680, 680, 680, 680, 376, 376, 783, 783, 783, 783, 1029, 1029, 1029, 1029, 1029, 919, 919, 919, 969, 969, 969, 969, 969, 969, 969, 969, 368, 368, 368, 368, 368, 368, 70, 70, 70, 922, 922, 922, 922, 922, 922, 922, 922, 922, 622, 622, 622, 622, 622, 622, 622, 622, 622, 622, 600, 600, 600, 1366, 1366, 1366, 1366, 1366, 1366, 1122, 1122, 1122, 1122, 1122, 1122, 1122, 752, 752, 752, 752, 752, 752, 752, 886, 886, 886, 886, 886, 886, 886, 886, 886, 886, 886, 552, 552, 552, 552, 552, 850, 850, 850, 850, 850, 850, 432, 432, 432, 1256, 1256, 1256, 1256, 1256, 1256, 1256, 1256, 960, 960, 960, 874, 874, 874, 874, 1106, 1106, 1106, 1106, 1106, 1106, 1106, 1106, 1106, 1106, 1106, 772, 772, 772, 772, 772, 772, 483, 483, 483, 483, 483, 483, 1028, 1028, 1028, 1028, 326, 326, 326, 575, 575, 575, 575, 532, 532, 532, 532, 532, 791, 791, 791, 791, 791, 791, 791, 1401, 1401, 1401, 1401, 1401, 1401, 1401, 1401, 1401, 1401, 1401, 1401, 1401, 344, 344, 344, 344, 344, 935, 935, 935, 935, 1444, 1444, 1444, 1444, 1444, 1444, 1444, 1444, 452, 452, 452, 452, 452, 1105, 1105, 1105, 1105, 1105, 1105, 472, 472, 354, 354, 354, 268, 268, 268, 268, 268, 984, 984, 984, 984, 624, 624, 624, 1546, 1546, 1546, 1546, 1546, 1546, 1546, 1546, 1546, 1546, 1546, 1546, 1546, 640, 640, 640, 640, 640, 1460, 1460, 1460, 396, 396, 396, 396, 396, 396, 1022, 1022, 1022, 1022, 1022, 1022, 1126, 1126, 1126, 1126, 1164, 1164, 1164, 1164, 1164, 1164, 1164, 1164, 1164, 1164, 1164, 1164, 1164, 1164, 1164, 1164, 1164, 1164, 1164, 1164, 1164, 1164, 1164, 924, 924, 924, 924, 340, 340, 340, 922, 922, 922, 632, 632, 632, 632, 1684, 1684, 1684, 1684, 794, 794, 794, 794, 1454, 1454, 1454, 1454, 1454, 1454, 1454, 1454, 1454, 1454, 1454, 1454, 1454, 1454, 1454, 1454, 1454, 1454, 316, 316, 316, 580, 580, 580, 580, 580, 580, 198, 198, 556, 556, 556, 540, 540, 540, 540, 540, 938, 938, 938, 2568, 2568, 2568, 2568, 2568, 2568, 2568, 2568, 2568, 2568, 2568, 2568, 2568, 2568, 1058, 1058, 1058, 1058, 1058, 1058, 368, 368, 368, 1088, 1088, 1088, 1088, 1088, 1696, 1696, 1696, 1696, 404, 404, 404, 404, 1934, 1934, 1934, 1934, 1934, 295, 295, 295, 295, 295, 295, 295, 295, 295, 1550, 1550, 1550, 1550, 1550, 1618, 1618, 1618, 1618, 1618, 363, 363, 363, 363, 514, 514, 514, 514, 514, 636, 636, 636, 840, 840, 840, 840, 840, 840, 659, 659, 659, 659, 659, 659, 659, 902, 902, 902, 902, 902, 902, 902, 902, 902, 902, 902, 902, 902, 1256, 1256, 1256, 1256, 1256, 1256, 1256, 1256, 1256, 1256, 1438, 1438, 1438, 1438, 1438, 1438, 1438, 1438, 1438, 1438, 1438, 2334, 2334, 2334, 2334, 2334, 2334, 2334, 2334, 2334, 528, 528, 867, 867, 867, 867, 867, 542, 542, 542, 542, 542, 1124, 1124, 1124, 1124, 1124, 1124, 1124, 1124, 1124, 1124, 1124, 1124, 1124, 1124, 1124, 1124, 1124, 526, 526, 526, 526, 526, 526, 947, 947, 947, 947, 947, 947, 480, 480, 480, 480, 480, 908, 908, 908, 908, 450, 450, 450, 450, 450, 450, 450, 450, 890, 890, 890, 890, 890, 890, 890, 890, 890, 890, 890, 890, 1020, 1020, 1020, 1020, 616, 616, 616, 616, 616, 616, 616, 616, 616, 616, 820, 820, 820, 820, 820, 311, 311, 311, 270, 270, 270, 270, 270, 270, 270, 270, 270, 100, 100, 100, 100, 100, 100, 100, 100, 100, 100, 847, 847, 847, 847, 847, 847, 847, 540, 540, 540, 540, 540, 540, 203, 203, 203, 203, 203, 303, 303, 303, 1080, 1080, 1080, 1080, 1080, 1080, 1080, 1080, 1080, 442, 442, 442, 178, 178, 178, 178, 818, 818, 818, 818, 404, 404, 404, 404, 1509, 1509, 1509, 1509, 1509, 1509, 1509, 1509, 1509, 1509, 1509, 1509, 1509, 1509, 412, 412, 412, 412, 412, 212, 212, 212, 212, 212, 212, 212, 26, 26, 26, 202, 202, 202, 202, 202, 1227, 1227, 1227, 1227, 1227, 1227, 581, 581, 581, 581, 581, 1206, 1206, 1206, 1206, 1206, 1206, 1206, 1206, 1206, 1048, 1048, 1048, 1077, 1077, 1077, 1077, 1077, 1077, 1077, 464, 464, 464, 464, 100, 100, 100, 214, 214, 214, 214, 214, 266, 266, 266, 266, 266, 266, 511, 511, 511, 511, 511, 307, 307, 307, 307, 307, 307, 307, 307, 1004, 1004, 1004, 1004, 1004, 1004, 1004, 1004, 954, 954, 954, 954, 362, 362, 362, 362, 924, 924, 924, 924, 924, 924, 1486, 1486, 1486, 1486, 1486, 1486, 1486, 1486, 2200, 2200, 2200, 2200, 2200, 2200, 2200, 2200, 2200, 2200, 2200, 2200, 90, 90, 90, 90, 90, 492, 492, 492, 492, 492, 40, 40, 40, 90, 239, 239, 239, 239, 239, 239], \"xaxis\": \"x\", \"y\": [1425.0, 1425.0, 1425.0, 1425.0, 1425.0, 1425.0, 1425.0, 1425.0, 624.0, 624.0, 624.0, 624.0, 624.0, 624.0, 624.0, 1285.0, 1285.0, 1285.0, 1285.0, 1285.0, 1285.0, 1285.0, 1285.0, 1285.0, 1285.0, 1285.0, 734.0, 734.0, 734.0, 734.0, 734.0, 734.0, 645.0, 645.0, 645.0, 645.0, 517.0, 517.0, 517.0, 517.0, 517.0, 517.0, 1483.0, 1483.0, 1483.0, 1483.0, 1483.0, 1483.0, 1483.0, 1483.0, 1483.0, 1483.0, 1483.0, 1483.0, 1483.0, 634.0, 634.0, 634.0, 634.0, 634.0, 634.0, 634.0, 634.0, 634.0, 634.0, 634.0, 634.0, 288.0, 288.0, 288.0, 288.0, 288.0, 288.0, 530.0, 530.0, 530.0, 168.0, 168.0, 168.0, 168.0, 631.0, 631.0, 631.0, 222.0, 222.0, 222.0, 296.0, 296.0, 527.0, 527.0, 527.0, 527.0, 616.0, 616.0, 616.0, 509.0, 509.0, 509.0, 517.0, 517.0, 517.0, 736.0, 736.0, 736.0, 736.0, 736.0, 736.0, 420.0, 548.0, 548.0, 548.0, 548.0, 986.0, 986.0, 986.0, 986.0, 986.0, 986.0, 226.0, 226.0, 226.0, 612.0, 612.0, 612.0, 804.0, 804.0, 804.0, 804.0, 804.0, 804.0, 375.0, 375.0, 1043.0, 1043.0, 594.0, 594.0, 594.0, 97.0, 97.0, 486.0, 486.0, 486.0, 682.0, 682.0, 402.0, 402.0, 402.0, 402.0, 1296.0, 1296.0, 1296.0, 1296.0, 393.0, 393.0, 376.0, 376.0, 376.0, 376.0, 376.0, 376.0, 376.0, 376.0, 235.0, 235.0, 235.0, 235.0, 950.0, 950.0, 950.0, 246.0, 246.0, 246.0, 164.0, 164.0, 164.0, 477.0, 477.0, 477.0, 1505.0, 1505.0, 1505.0, 1505.0, 1505.0, 1505.0, 1505.0, 671.0, 671.0, 671.0, 671.0, 671.0, 671.0, 802.0, 802.0, 802.0, 802.0, 802.0, 802.0, 802.0, 802.0, 738.0, 738.0, 738.0, 738.0, 738.0, 738.0, 738.0, 738.0, 198.0, 198.0, 198.0, 198.0, 374.0, 374.0, 374.0, 374.0, 374.0, 374.0, 374.0, 374.0, 54.0, 54.0, 54.0, 1299.0, 1299.0, 1299.0, 1299.0, 1299.0, 1299.0, 1299.0, 1299.0, 1299.0, 1299.0, 1299.0, 1299.0, 1299.0, 1299.0, 1299.0, 1299.0, 1299.0, 1299.0, 1299.0, 823.0, 823.0, 823.0, 823.0, 823.0, 823.0, 823.0, 763.0, 763.0, 763.0, 763.0, 763.0, 763.0, 763.0, 579.0, 579.0, 579.0, 579.0, 579.0, 579.0, 478.0, 478.0, 478.0, 478.0, 478.0, 928.0, 928.0, 928.0, 928.0, 928.0, 928.0, 928.0, 928.0, 1181.0, 1181.0, 1181.0, 1181.0, 1181.0, 658.0, 658.0, 658.0, 658.0, 658.0, 1082.0, 1082.0, 1082.0, 1082.0, 1082.0, 1082.0, 1082.0, 1240.0, 1240.0, 1240.0, 1240.0, 1240.0, 1240.0, 1240.0, 421.0, 421.0, 421.0, 421.0, 421.0, 421.0, 421.0, 985.0, 985.0, 985.0, 985.0, 985.0, 985.0, 985.0, 985.0, 985.0, 985.0, 219.0, 219.0, 405.0, 405.0, 405.0, 405.0, 405.0, 405.0, 900.0, 900.0, 900.0, 900.0, 521.0, 521.0, 521.0, 521.0, 399.0, 399.0, 399.0, 399.0, 399.0, 399.0, 399.0, 205.0, 205.0, 316.0, 316.0, 316.0, 316.0, 316.0, 472.0, 472.0, 472.0, 472.0, 472.0, 472.0, 472.0, 472.0, 837.0, 837.0, 837.0, 837.0, 837.0, 837.0, 1026.0, 1026.0, 1026.0, 1026.0, 1026.0, 1026.0, 1026.0, 1026.0, 1026.0, 1026.0, 1026.0, 222.0, 222.0, 222.0, 222.0, 222.0, 222.0, 222.0, 1119.0, 1119.0, 1119.0, 1119.0, 1119.0, 354.0, 354.0, 354.0, 354.0, 384.0, 384.0, 384.0, 853.0, 853.0, 853.0, 853.0, 853.0, 853.0, 853.0, 895.0, 895.0, 895.0, 895.0, 895.0, 895.0, 895.0, 895.0, 895.0, 330.0, 330.0, 330.0, 330.0, 330.0, 330.0, 347.0, 347.0, 347.0, 347.0, 347.0, 347.0, 347.0, 608.0, 608.0, 608.0, 608.0, 608.0, 573.0, 573.0, 573.0, 573.0, 573.0, 668.0, 668.0, 668.0, 668.0, 574.0, 574.0, 574.0, 574.0, 574.0, 224.0, 224.0, 224.0, 224.0, 224.0, 224.0, 483.0, 483.0, 483.0, 483.0, 483.0, 483.0, 483.0, 483.0, 483.0, 480.0, 480.0, 480.0, 480.0, 480.0, 958.0, 958.0, 958.0, 958.0, 958.0, 958.0, 958.0, 958.0, 402.0, 402.0, 402.0, 402.0, 402.0, 402.0, 402.0, 508.0, 508.0, 508.0, 508.0, 873.0, 873.0, 873.0, 873.0, 873.0, 873.0, 827.0, 827.0, 827.0, 827.0, 827.0, 1137.0, 1137.0, 1137.0, 1137.0, 1137.0, 1137.0, 1488.0, 1488.0, 1488.0, 1488.0, 1488.0, 1488.0, 1488.0, 1488.0, 1488.0, 259.0, 259.0, 259.0, 259.0, 259.0, 299.0, 299.0, 299.0, 299.0, 399.0, 399.0, 399.0, 399.0, 567.0, 567.0, 567.0, 567.0, 217.0, 217.0, 660.0, 660.0, 660.0, 660.0, 660.0, 660.0, 660.0, 660.0, 660.0, 660.0, 502.0, 502.0, 502.0, 502.0, 894.0, 894.0, 894.0, 454.0, 454.0, 454.0, 862.0, 862.0, 862.0, 862.0, 788.0, 788.0, 788.0, 788.0, 240.0, 240.0, 296.0, 296.0, 296.0, 296.0, 638.0, 638.0, 638.0, 638.0, 638.0, 638.0, 638.0, 638.0, 638.0, 722.0, 722.0, 722.0, 722.0, 546.0, 546.0, 546.0, 546.0, 775.0, 775.0, 775.0, 775.0, 775.0, 775.0, 775.0, 775.0, 325.0, 325.0, 325.0, 663.0, 663.0, 663.0, 663.0, 663.0, 663.0, 663.0, 663.0, 663.0, 663.0, 428.0, 428.0, 428.0, 428.0, 428.0, 428.0, 637.0, 637.0, 637.0, 637.0, 637.0, 637.0, 362.0, 426.0, 426.0, 426.0, 426.0, 426.0, 426.0, 465.0, 465.0, 465.0, 465.0, 465.0, 465.0, 465.0, 465.0, 403.0, 403.0, 403.0, 403.0, 403.0, 403.0, 403.0, 661.0, 661.0, 661.0, 661.0, 661.0, 661.0, 661.0, 661.0, 661.0, 882.0, 882.0, 882.0, 882.0, 882.0, 882.0, 882.0, 882.0, 882.0, 665.0, 665.0, 665.0, 665.0, 665.0, 665.0, 665.0, 665.0, 985.0, 985.0, 985.0, 985.0, 985.0, 985.0, 358.0, 358.0, 358.0, 358.0, 358.0, 492.0, 492.0, 492.0, 492.0, 492.0, 385.0, 385.0, 385.0, 385.0, 385.0, 385.0, 385.0, 385.0, 385.0, 385.0, 385.0, 385.0, 385.0, 834.0, 834.0, 834.0, 834.0, 834.0, 755.0, 755.0, 755.0, 755.0, 755.0, 755.0, 755.0, 755.0, 527.0, 527.0, 527.0, 527.0, 527.0, 527.0, 405.0, 405.0, 405.0, 405.0, 405.0, 405.0, 405.0, 413.0, 413.0, 413.0, 413.0, 413.0, 413.0, 413.0, 425.0, 425.0, 425.0, 425.0, 941.0, 941.0, 941.0, 941.0, 941.0, 941.0, 334.0, 334.0, 334.0, 334.0, 334.0, 334.0, 334.0, 335.0, 335.0, 335.0, 335.0, 335.0, 335.0, 779.0, 779.0, 779.0, 779.0, 779.0, 779.0, 779.0, 779.0, 779.0, 779.0, 779.0, 1129.0, 1129.0, 1129.0, 1129.0, 1129.0, 1129.0, 1129.0, 1129.0, 1129.0, 1129.0, 1129.0, 1129.0, 448.0, 448.0, 270.0, 270.0, 270.0, 270.0, 1100.0, 1100.0, 1100.0, 1100.0, 1100.0, 1100.0, 1100.0, 1100.0, 1100.0, 1100.0, 1100.0, 1100.0, 1100.0, 480.0, 480.0, 480.0, 480.0, 480.0, 480.0, 480.0, 480.0, 291.0, 291.0, 291.0, 291.0, 291.0, 352.0, 352.0, 352.0, 352.0, 658.0, 658.0, 658.0, 658.0, 658.0, 658.0, 572.0, 572.0, 572.0, 572.0, 822.0, 822.0, 822.0, 822.0, 909.0, 909.0, 909.0, 909.0, 909.0, 530.0, 530.0, 530.0, 530.0, 771.0, 771.0, 771.0, 771.0, 771.0, 771.0, 771.0, 771.0, 771.0, 771.0, 771.0, 771.0, 717.0, 717.0, 717.0, 136.0, 277.0, 277.0, 1016.0, 1016.0, 1016.0, 1016.0, 1016.0, 1016.0, 1016.0, 692.0, 692.0, 692.0, 692.0, 692.0, 692.0, 692.0, 317.0, 317.0, 317.0, 317.0, 317.0, 552.0, 552.0, 581.0, 581.0, 581.0, 581.0, 581.0, 581.0, 581.0, 581.0, 280.0, 280.0, 280.0, 280.0, 280.0, 280.0, 296.0, 296.0, 296.0, 296.0, 296.0, 296.0, 195.0, 195.0, 195.0, 715.0, 715.0, 715.0, 715.0, 715.0, 715.0, 525.0, 525.0, 525.0, 525.0, 525.0, 525.0, 537.0, 537.0, 537.0, 537.0, 537.0, 537.0, 537.0, 728.0, 728.0, 728.0, 728.0, 728.0, 728.0, 728.0, 641.0, 641.0, 641.0, 641.0, 641.0, 761.0, 761.0, 761.0, 761.0, 761.0, 761.0, 761.0, 550.0, 550.0, 550.0, 227.0, 227.0, 227.0, 227.0, 403.0, 403.0, 403.0, 403.0, 403.0, 436.0, 436.0, 436.0, 436.0, 436.0, 436.0, 436.0, 436.0, 214.0, 214.0, 214.0, 214.0, 214.0, 422.0, 422.0, 422.0, 422.0, 404.0, 404.0, 404.0, 404.0, 362.0, 362.0, 362.0, 362.0, 362.0, 362.0, 281.0, 281.0, 281.0, 253.0, 253.0, 253.0, 265.0, 265.0, 265.0, 265.0, 265.0, 222.0, 222.0, 222.0, 222.0, 222.0, 222.0, 222.0, 222.0, 777.0, 777.0, 777.0, 777.0, 777.0, 777.0, 583.0, 583.0, 583.0, 583.0, 583.0, 413.0, 413.0, 413.0, 413.0, 413.0, 200.0, 200.0, 200.0, 199.0, 199.0, 199.0, 199.0, 329.0, 329.0, 329.0, 329.0, 241.0, 241.0, 241.0, 306.0, 306.0, 306.0, 306.0, 306.0, 306.0, 163.0, 163.0, 163.0, 163.0, 163.0, 163.0, 733.0, 733.0, 733.0, 733.0, 733.0, 733.0, 370.0, 370.0, 596.0, 596.0, 596.0, 596.0, 596.0, 442.0, 442.0, 442.0, 442.0, 442.0, 449.0, 449.0, 449.0, 449.0, 449.0, 564.0, 564.0, 564.0, 612.0, 612.0, 612.0, 612.0, 612.0, 612.0, 612.0, 445.0, 445.0, 445.0, 445.0, 442.0, 442.0, 442.0, 442.0, 442.0, 442.0, 442.0, 258.0, 258.0, 258.0, 258.0, 258.0, 330.0, 330.0, 330.0, 330.0, 330.0, 330.0, 330.0, 817.0, 817.0, 817.0, 817.0, 817.0, 817.0, 360.0, 360.0, 360.0, 360.0, 360.0, 360.0, 360.0, 698.0, 698.0, 698.0, 698.0, 698.0, 698.0, 698.0, 374.0, 374.0, 384.0, 384.0, 393.0, 393.0, 393.0, 393.0, 393.0, 393.0, 480.0, 480.0, 480.0, 480.0, 480.0, 550.0, 550.0, 550.0, 550.0, 550.0, 550.0, 550.0, 550.0, 640.0, 640.0, 640.0, 640.0, 911.0, 911.0, 911.0, 911.0, 911.0, 911.0, 319.0, 319.0, 319.0, 319.0, 366.0, 366.0, 366.0, 366.0, 366.0, 366.0, 438.0, 438.0, 438.0, 438.0, 438.0, 438.0, 438.0, 812.0, 812.0, 812.0, 812.0, 812.0, 812.0, 1050.0, 1050.0, 1050.0, 1050.0, 1050.0, 1050.0, 1050.0, 1050.0, 1050.0, 367.0, 367.0, 367.0, 367.0, 367.0, 600.0, 600.0, 600.0, 600.0, 600.0, 903.0, 903.0, 903.0, 903.0, 903.0, 903.0, 903.0, 903.0, 903.0, 903.0, 1756.0, 1756.0, 1756.0, 1756.0, 1756.0, 1756.0, 1756.0, 1756.0, 1756.0, 1756.0, 1756.0, 1756.0, 1756.0, 1756.0, 1756.0, 1756.0, 362.0, 362.0, 362.0, 362.0, 362.0, 362.0, 1105.0, 1105.0, 1105.0, 1105.0, 1105.0, 1105.0, 1105.0, 1105.0, 1741.0, 1741.0, 1741.0, 1741.0, 1741.0, 1741.0, 1741.0, 1741.0, 1741.0, 1741.0, 1741.0, 1741.0, 1741.0, 1741.0, 387.0, 387.0, 387.0, 387.0, 387.0, 387.0, 707.0, 707.0, 707.0, 707.0, 707.0, 707.0, 707.0, 707.0, 707.0, 879.0, 879.0, 879.0, 879.0, 879.0, 879.0, 515.0, 515.0, 515.0, 515.0, 515.0, 515.0, 515.0, 515.0, 515.0, 515.0, 434.0, 434.0, 434.0, 434.0, 434.0, 770.0, 770.0, 770.0, 770.0, 770.0, 770.0, 772.0, 772.0, 772.0, 772.0, 772.0, 772.0, 772.0, 772.0, 772.0, 1039.0, 1039.0, 1039.0, 1039.0, 1039.0, 1039.0, 1039.0, 1039.0, 1039.0, 1039.0, 1039.0, 584.0, 584.0, 584.0, 584.0, 584.0, 584.0, 467.0, 467.0, 467.0, 467.0, 467.0, 467.0, 409.0, 409.0, 409.0, 409.0, 409.0, 153.0, 153.0, 153.0, 153.0, 153.0, 506.0, 506.0, 506.0, 506.0, 506.0, 506.0, 506.0, 592.0, 592.0, 592.0, 592.0, 592.0, 592.0, 27.0, 27.0, 262.0, 262.0, 262.0, 262.0, 262.0, 262.0, 527.0, 527.0, 527.0, 527.0, 527.0, 527.0, 248.0, 248.0, 248.0, 248.0, 845.0, 845.0, 845.0, 845.0, 845.0, 845.0, 871.0, 871.0, 871.0, 871.0, 871.0, 871.0, 871.0, 871.0, 871.0, 871.0, 871.0, 484.0, 484.0, 484.0, 484.0, 484.0, 484.0, 915.0, 915.0, 915.0, 915.0, 915.0, 915.0, 915.0, 915.0, 915.0, 915.0, 915.0, 915.0, 629.0, 629.0, 629.0, 629.0, 1590.0, 1590.0, 1590.0, 1590.0, 1590.0, 1590.0, 400.0, 400.0, 400.0, 400.0, 400.0, 400.0, 528.0, 528.0, 528.0, 528.0, 528.0, 528.0, 528.0, 528.0, 528.0, 257.0, 257.0, 257.0, 257.0, 257.0, 257.0, 615.0, 615.0, 615.0, 615.0, 615.0, 615.0, 615.0, 879.0, 879.0, 879.0, 879.0, 879.0, 879.0, 879.0, 879.0, 879.0, 879.0, 936.0, 936.0, 936.0, 936.0, 936.0, 936.0, 936.0, 936.0, 936.0, 582.0, 582.0, 582.0, 582.0, 673.0, 673.0, 673.0, 673.0, 673.0, 673.0, 673.0, 673.0, 673.0, 673.0, 673.0, 1154.0, 1154.0, 1154.0, 1154.0, 1154.0, 1154.0, 1154.0, 1154.0, 321.0, 321.0, 321.0, 321.0, 321.0, 438.0, 438.0, 438.0, 438.0, 438.0, 438.0, 438.0, 438.0, 438.0, 438.0, 438.0, 951.0, 951.0, 951.0, 230.0, 230.0, 230.0, 360.0, 360.0, 360.0, 360.0, 360.0, 360.0, 360.0, 652.0, 652.0, 652.0, 652.0, 694.0, 694.0, 694.0, 694.0, 694.0, 694.0, 759.0, 759.0, 759.0, 759.0, 877.0, 877.0, 877.0, 877.0, 877.0, 877.0, 877.0, 877.0, 877.0, 877.0, 380.0, 380.0, 978.0, 978.0, 978.0, 978.0, 1061.0, 1061.0, 1061.0, 1061.0, 1061.0, 988.0, 988.0, 988.0, 1590.0, 1590.0, 1590.0, 1590.0, 1590.0, 1590.0, 1590.0, 1590.0, 285.0, 285.0, 285.0, 285.0, 285.0, 285.0, 50.0, 50.0, 50.0, 731.0, 731.0, 731.0, 731.0, 731.0, 731.0, 731.0, 731.0, 731.0, 551.0, 551.0, 551.0, 551.0, 551.0, 551.0, 551.0, 551.0, 551.0, 551.0, 728.0, 728.0, 728.0, 1192.0, 1192.0, 1192.0, 1192.0, 1192.0, 1192.0, 1182.0, 1182.0, 1182.0, 1182.0, 1182.0, 1182.0, 1182.0, 680.0, 680.0, 680.0, 680.0, 680.0, 680.0, 680.0, 809.0, 809.0, 809.0, 809.0, 809.0, 809.0, 809.0, 809.0, 809.0, 809.0, 809.0, 523.0, 523.0, 523.0, 523.0, 523.0, 948.0, 948.0, 948.0, 948.0, 948.0, 948.0, 349.0, 349.0, 349.0, 528.0, 528.0, 528.0, 528.0, 528.0, 528.0, 528.0, 528.0, 876.0, 876.0, 876.0, 722.0, 722.0, 722.0, 722.0, 752.0, 752.0, 752.0, 752.0, 752.0, 752.0, 752.0, 752.0, 752.0, 752.0, 752.0, 700.0, 700.0, 700.0, 700.0, 700.0, 700.0, 437.0, 437.0, 437.0, 437.0, 437.0, 437.0, 973.0, 973.0, 973.0, 973.0, 268.0, 268.0, 268.0, 1066.0, 1066.0, 1066.0, 1066.0, 660.0, 660.0, 660.0, 660.0, 660.0, 944.0, 944.0, 944.0, 944.0, 944.0, 944.0, 944.0, 1636.0, 1636.0, 1636.0, 1636.0, 1636.0, 1636.0, 1636.0, 1636.0, 1636.0, 1636.0, 1636.0, 1636.0, 1636.0, 344.0, 344.0, 344.0, 344.0, 344.0, 939.0, 939.0, 939.0, 939.0, 1275.0, 1275.0, 1275.0, 1275.0, 1275.0, 1275.0, 1275.0, 1275.0, 461.0, 461.0, 461.0, 461.0, 461.0, 1110.0, 1110.0, 1110.0, 1110.0, 1110.0, 1110.0, 1066.0, 1066.0, 297.0, 297.0, 297.0, 214.0, 214.0, 214.0, 214.0, 214.0, 865.0, 865.0, 865.0, 865.0, 535.0, 535.0, 535.0, 1176.0, 1176.0, 1176.0, 1176.0, 1176.0, 1176.0, 1176.0, 1176.0, 1176.0, 1176.0, 1176.0, 1176.0, 1176.0, 549.0, 549.0, 549.0, 549.0, 549.0, 1534.0, 1534.0, 1534.0, 237.0, 237.0, 237.0, 237.0, 237.0, 237.0, 1202.0, 1202.0, 1202.0, 1202.0, 1202.0, 1202.0, 983.0, 983.0, 983.0, 983.0, 755.0, 755.0, 755.0, 755.0, 755.0, 755.0, 755.0, 755.0, 755.0, 755.0, 755.0, 755.0, 755.0, 755.0, 755.0, 755.0, 755.0, 755.0, 755.0, 755.0, 755.0, 755.0, 755.0, 986.0, 986.0, 986.0, 986.0, 320.0, 320.0, 320.0, 804.0, 804.0, 804.0, 750.0, 750.0, 750.0, 750.0, 1689.0, 1689.0, 1689.0, 1689.0, 676.0, 676.0, 676.0, 676.0, 880.0, 880.0, 880.0, 880.0, 880.0, 880.0, 880.0, 880.0, 880.0, 880.0, 880.0, 880.0, 880.0, 880.0, 880.0, 880.0, 880.0, 880.0, 239.0, 239.0, 239.0, 378.0, 378.0, 378.0, 378.0, 378.0, 378.0, 200.0, 200.0, 490.0, 490.0, 490.0, 500.0, 500.0, 500.0, 500.0, 500.0, 1117.0, 1117.0, 1117.0, 1798.0, 1798.0, 1798.0, 1798.0, 1798.0, 1798.0, 1798.0, 1798.0, 1798.0, 1798.0, 1798.0, 1798.0, 1798.0, 1798.0, 956.0, 956.0, 956.0, 956.0, 956.0, 956.0, 333.0, 333.0, 333.0, 773.0, 773.0, 773.0, 773.0, 773.0, 1648.0, 1648.0, 1648.0, 1648.0, 490.0, 490.0, 490.0, 490.0, 1670.0, 1670.0, 1670.0, 1670.0, 1670.0, 167.0, 167.0, 167.0, 167.0, 167.0, 167.0, 167.0, 167.0, 167.0, 1319.0, 1319.0, 1319.0, 1319.0, 1319.0, 1382.0, 1382.0, 1382.0, 1382.0, 1382.0, 434.0, 434.0, 434.0, 434.0, 309.0, 309.0, 309.0, 309.0, 309.0, 772.0, 772.0, 772.0, 658.0, 658.0, 658.0, 658.0, 658.0, 658.0, 573.0, 573.0, 573.0, 573.0, 573.0, 573.0, 573.0, 635.0, 635.0, 635.0, 635.0, 635.0, 635.0, 635.0, 635.0, 635.0, 635.0, 635.0, 635.0, 635.0, 878.0, 878.0, 878.0, 878.0, 878.0, 878.0, 878.0, 878.0, 878.0, 878.0, 1500.0, 1500.0, 1500.0, 1500.0, 1500.0, 1500.0, 1500.0, 1500.0, 1500.0, 1500.0, 1500.0, 1713.0, 1713.0, 1713.0, 1713.0, 1713.0, 1713.0, 1713.0, 1713.0, 1713.0, 543.0, 543.0, 897.0, 897.0, 897.0, 897.0, 897.0, 542.0, 542.0, 542.0, 542.0, 542.0, 1201.0, 1201.0, 1201.0, 1201.0, 1201.0, 1201.0, 1201.0, 1201.0, 1201.0, 1201.0, 1201.0, 1201.0, 1201.0, 1201.0, 1201.0, 1201.0, 1201.0, 727.0, 727.0, 727.0, 727.0, 727.0, 727.0, 1306.0, 1306.0, 1306.0, 1306.0, 1306.0, 1306.0, 338.0, 338.0, 338.0, 338.0, 338.0, 1001.0, 1001.0, 1001.0, 1001.0, 318.0, 318.0, 318.0, 318.0, 318.0, 318.0, 318.0, 318.0, 423.0, 423.0, 423.0, 423.0, 423.0, 423.0, 423.0, 423.0, 423.0, 423.0, 423.0, 423.0, 719.0, 719.0, 719.0, 719.0, 350.0, 350.0, 350.0, 350.0, 350.0, 350.0, 350.0, 350.0, 350.0, 350.0, 629.0, 629.0, 629.0, 629.0, 629.0, 232.0, 232.0, 232.0, 183.0, 183.0, 183.0, 183.0, 183.0, 183.0, 183.0, 183.0, 183.0, 57.0, 57.0, 57.0, 57.0, 57.0, 57.0, 57.0, 57.0, 57.0, 57.0, 496.0, 496.0, 496.0, 496.0, 496.0, 496.0, 496.0, 397.0, 397.0, 397.0, 397.0, 397.0, 397.0, 109.0, 109.0, 109.0, 109.0, 109.0, 249.0, 249.0, 249.0, 1142.0, 1142.0, 1142.0, 1142.0, 1142.0, 1142.0, 1142.0, 1142.0, 1142.0, 533.0, 533.0, 533.0, 131.0, 131.0, 131.0, 131.0, 995.0, 995.0, 995.0, 995.0, 486.0, 486.0, 486.0, 486.0, 1055.0, 1055.0, 1055.0, 1055.0, 1055.0, 1055.0, 1055.0, 1055.0, 1055.0, 1055.0, 1055.0, 1055.0, 1055.0, 1055.0, 287.0, 287.0, 287.0, 287.0, 287.0, 114.0, 114.0, 114.0, 114.0, 114.0, 114.0, 114.0, 13.0, 13.0, 13.0, 141.0, 141.0, 141.0, 141.0, 141.0, 857.0, 857.0, 857.0, 857.0, 857.0, 857.0, 408.0, 408.0, 408.0, 408.0, 408.0, 842.0, 842.0, 842.0, 842.0, 842.0, 842.0, 842.0, 842.0, 842.0, 1140.0, 1140.0, 1140.0, 1239.0, 1239.0, 1239.0, 1239.0, 1239.0, 1239.0, 1239.0, 288.0, 288.0, 288.0, 288.0, 54.0, 54.0, 54.0, 108.0, 108.0, 108.0, 108.0, 108.0, 188.0, 188.0, 188.0, 188.0, 188.0, 188.0, 389.0, 389.0, 389.0, 389.0, 389.0, 212.0, 212.0, 212.0, 212.0, 212.0, 212.0, 212.0, 212.0, 700.0, 700.0, 700.0, 700.0, 700.0, 700.0, 700.0, 700.0, 772.0, 772.0, 772.0, 772.0, 345.0, 345.0, 345.0, 345.0, 664.0, 664.0, 664.0, 664.0, 664.0, 664.0, 1493.0, 1493.0, 1493.0, 1493.0, 1493.0, 1493.0, 1493.0, 1493.0, 1570.0, 1570.0, 1570.0, 1570.0, 1570.0, 1570.0, 1570.0, 1570.0, 1570.0, 1570.0, 1570.0, 1570.0, 66.0, 66.0, 66.0, 66.0, 66.0, 521.0, 521.0, 521.0, 521.0, 521.0, 25.0, 25.0, 25.0, 30.0, 166.0, 166.0, 166.0, 166.0, 166.0, 166.0], \"yaxis\": \"y\"}, {\"hoverlabel\": {\"namelength\": 0}, \"hovertemplate\": \"\\uc0c1\\uac00\\uc720\\ubb34=\\uc0c1\\uac00\\uc788\\uc74c<br>\\ucd1d\\uc138\\ub300\\uc218=%{x}<br>\\ub2e8\\uc9c0\\ub0b4\\uc8fc\\ucc28\\uba74\\uc218=%{y}\", \"legendgroup\": \"\\uc0c1\\uac00\\uc720\\ubb34=\\uc0c1\\uac00\\uc788\\uc74c\", \"marker\": {\"color\": \"#3283FE\", \"symbol\": \"circle\"}, \"mode\": \"markers\", \"name\": \"\\uc0c1\\uac00\\uc720\\ubb34=\\uc0c1\\uac00\\uc788\\uc74c\", \"showlegend\": true, \"type\": \"scattergl\", \"x\": [601, 601, 619, 619, 619, 560, 560, 1396, 1396, 1396, 1396, 1396, 1396, 1396, 1396, 1507, 1507, 1507, 639, 639, 965, 965, 965, 785, 785, 785, 2424, 2424, 2424, 2424, 2424, 809, 809, 809, 809, 809, 1013, 1013, 1013, 1013, 453, 453, 903, 903, 903, 903, 903, 1116, 1116, 1116, 1486, 1486, 1486, 1957, 1957, 1527, 1527, 1527, 1527, 1005, 1005, 1005, 1988, 1988, 1988, 2428, 2428, 2428, 2428, 1755, 1755, 1755, 451, 451, 410, 410, 779, 779, 779, 779, 755, 755, 711, 711, 657, 657, 657, 495, 495, 460, 460, 460, 460, 521, 521, 1003, 1003, 1003, 697, 697, 697, 481], \"xaxis\": \"x\", \"y\": [117.0, 117.0, 97.0, 97.0, 97.0, 154.0, 154.0, 277.0, 277.0, 277.0, 277.0, 277.0, 277.0, 277.0, 277.0, 407.0, 407.0, 407.0, 162.0, 162.0, 287.0, 287.0, 287.0, 150.0, 150.0, 150.0, 487.0, 487.0, 487.0, 487.0, 487.0, 264.0, 264.0, 264.0, 264.0, 264.0, 178.0, 178.0, 178.0, 178.0, 107.0, 107.0, 200.0, 200.0, 200.0, 200.0, 200.0, 262.0, 262.0, 262.0, 405.0, 405.0, 405.0, 351.0, 351.0, 240.0, 240.0, 240.0, 240.0, 166.0, 166.0, 166.0, 217.0, 217.0, 217.0, 756.0, 756.0, 756.0, 756.0, 270.0, 270.0, 270.0, 109.0, 109.0, 120.0, 120.0, 190.0, 190.0, 190.0, 190.0, 88.0, 88.0, 131.0, 131.0, 166.0, 166.0, 166.0, 117.0, 117.0, 155.0, 155.0, 155.0, 155.0, 153.0, 153.0, 192.0, 192.0, 192.0, 128.0, 128.0, 128.0, 65.0], \"yaxis\": \"y\"}],\n",
              "                        {\"legend\": {\"tracegroupgap\": 0}, \"margin\": {\"t\": 60}, \"template\": {\"data\": {\"bar\": [{\"error_x\": {\"color\": \"#2a3f5f\"}, \"error_y\": {\"color\": \"#2a3f5f\"}, \"marker\": {\"line\": {\"color\": \"#E5ECF6\", \"width\": 0.5}}, \"type\": \"bar\"}], \"barpolar\": [{\"marker\": {\"line\": {\"color\": \"#E5ECF6\", \"width\": 0.5}}, \"type\": \"barpolar\"}], \"carpet\": [{\"aaxis\": {\"endlinecolor\": \"#2a3f5f\", \"gridcolor\": \"white\", \"linecolor\": \"white\", \"minorgridcolor\": \"white\", \"startlinecolor\": \"#2a3f5f\"}, \"baxis\": {\"endlinecolor\": \"#2a3f5f\", \"gridcolor\": \"white\", \"linecolor\": \"white\", \"minorgridcolor\": \"white\", \"startlinecolor\": \"#2a3f5f\"}, \"type\": \"carpet\"}], \"choropleth\": [{\"colorbar\": {\"outlinewidth\": 0, \"ticks\": \"\"}, \"type\": \"choropleth\"}], \"contour\": [{\"colorbar\": {\"outlinewidth\": 0, \"ticks\": \"\"}, \"colorscale\": [[0.0, \"#0d0887\"], [0.1111111111111111, \"#46039f\"], [0.2222222222222222, \"#7201a8\"], [0.3333333333333333, \"#9c179e\"], [0.4444444444444444, \"#bd3786\"], [0.5555555555555556, \"#d8576b\"], [0.6666666666666666, \"#ed7953\"], [0.7777777777777778, \"#fb9f3a\"], [0.8888888888888888, \"#fdca26\"], [1.0, \"#f0f921\"]], \"type\": \"contour\"}], \"contourcarpet\": [{\"colorbar\": {\"outlinewidth\": 0, \"ticks\": \"\"}, \"type\": \"contourcarpet\"}], \"heatmap\": [{\"colorbar\": {\"outlinewidth\": 0, \"ticks\": \"\"}, \"colorscale\": [[0.0, \"#0d0887\"], [0.1111111111111111, \"#46039f\"], [0.2222222222222222, \"#7201a8\"], [0.3333333333333333, \"#9c179e\"], [0.4444444444444444, \"#bd3786\"], [0.5555555555555556, \"#d8576b\"], [0.6666666666666666, \"#ed7953\"], [0.7777777777777778, \"#fb9f3a\"], [0.8888888888888888, \"#fdca26\"], [1.0, \"#f0f921\"]], \"type\": \"heatmap\"}], \"heatmapgl\": [{\"colorbar\": {\"outlinewidth\": 0, \"ticks\": \"\"}, \"colorscale\": [[0.0, \"#0d0887\"], [0.1111111111111111, \"#46039f\"], [0.2222222222222222, \"#7201a8\"], [0.3333333333333333, \"#9c179e\"], [0.4444444444444444, \"#bd3786\"], [0.5555555555555556, \"#d8576b\"], [0.6666666666666666, \"#ed7953\"], [0.7777777777777778, \"#fb9f3a\"], [0.8888888888888888, \"#fdca26\"], [1.0, \"#f0f921\"]], \"type\": \"heatmapgl\"}], \"histogram\": [{\"marker\": {\"colorbar\": {\"outlinewidth\": 0, \"ticks\": \"\"}}, \"type\": \"histogram\"}], \"histogram2d\": [{\"colorbar\": {\"outlinewidth\": 0, \"ticks\": \"\"}, \"colorscale\": [[0.0, \"#0d0887\"], [0.1111111111111111, \"#46039f\"], [0.2222222222222222, \"#7201a8\"], [0.3333333333333333, \"#9c179e\"], [0.4444444444444444, \"#bd3786\"], [0.5555555555555556, \"#d8576b\"], [0.6666666666666666, \"#ed7953\"], [0.7777777777777778, \"#fb9f3a\"], [0.8888888888888888, \"#fdca26\"], [1.0, \"#f0f921\"]], \"type\": \"histogram2d\"}], \"histogram2dcontour\": [{\"colorbar\": {\"outlinewidth\": 0, \"ticks\": \"\"}, \"colorscale\": [[0.0, \"#0d0887\"], [0.1111111111111111, \"#46039f\"], [0.2222222222222222, \"#7201a8\"], [0.3333333333333333, \"#9c179e\"], [0.4444444444444444, \"#bd3786\"], [0.5555555555555556, \"#d8576b\"], [0.6666666666666666, \"#ed7953\"], [0.7777777777777778, \"#fb9f3a\"], [0.8888888888888888, \"#fdca26\"], [1.0, \"#f0f921\"]], \"type\": \"histogram2dcontour\"}], \"mesh3d\": [{\"colorbar\": {\"outlinewidth\": 0, \"ticks\": \"\"}, \"type\": \"mesh3d\"}], \"parcoords\": [{\"line\": {\"colorbar\": {\"outlinewidth\": 0, \"ticks\": \"\"}}, \"type\": \"parcoords\"}], \"pie\": [{\"automargin\": true, \"type\": \"pie\"}], \"scatter\": [{\"marker\": {\"colorbar\": {\"outlinewidth\": 0, \"ticks\": \"\"}}, \"type\": \"scatter\"}], \"scatter3d\": [{\"line\": {\"colorbar\": {\"outlinewidth\": 0, \"ticks\": \"\"}}, \"marker\": {\"colorbar\": {\"outlinewidth\": 0, \"ticks\": \"\"}}, \"type\": \"scatter3d\"}], \"scattercarpet\": [{\"marker\": {\"colorbar\": {\"outlinewidth\": 0, \"ticks\": \"\"}}, \"type\": \"scattercarpet\"}], \"scattergeo\": [{\"marker\": {\"colorbar\": {\"outlinewidth\": 0, \"ticks\": \"\"}}, \"type\": \"scattergeo\"}], \"scattergl\": [{\"marker\": {\"colorbar\": {\"outlinewidth\": 0, \"ticks\": \"\"}}, \"type\": \"scattergl\"}], \"scattermapbox\": [{\"marker\": {\"colorbar\": {\"outlinewidth\": 0, \"ticks\": \"\"}}, \"type\": \"scattermapbox\"}], \"scatterpolar\": [{\"marker\": {\"colorbar\": {\"outlinewidth\": 0, \"ticks\": \"\"}}, \"type\": \"scatterpolar\"}], \"scatterpolargl\": [{\"marker\": {\"colorbar\": {\"outlinewidth\": 0, \"ticks\": \"\"}}, \"type\": \"scatterpolargl\"}], \"scatterternary\": [{\"marker\": {\"colorbar\": {\"outlinewidth\": 0, \"ticks\": \"\"}}, \"type\": \"scatterternary\"}], \"surface\": [{\"colorbar\": {\"outlinewidth\": 0, \"ticks\": \"\"}, \"colorscale\": [[0.0, \"#0d0887\"], [0.1111111111111111, \"#46039f\"], [0.2222222222222222, \"#7201a8\"], [0.3333333333333333, \"#9c179e\"], [0.4444444444444444, \"#bd3786\"], [0.5555555555555556, \"#d8576b\"], [0.6666666666666666, \"#ed7953\"], [0.7777777777777778, \"#fb9f3a\"], [0.8888888888888888, \"#fdca26\"], [1.0, \"#f0f921\"]], \"type\": \"surface\"}], \"table\": [{\"cells\": {\"fill\": {\"color\": \"#EBF0F8\"}, \"line\": {\"color\": \"white\"}}, \"header\": {\"fill\": {\"color\": \"#C8D4E3\"}, \"line\": {\"color\": \"white\"}}, \"type\": \"table\"}]}, \"layout\": {\"annotationdefaults\": {\"arrowcolor\": \"#2a3f5f\", \"arrowhead\": 0, \"arrowwidth\": 1}, \"coloraxis\": {\"colorbar\": {\"outlinewidth\": 0, \"ticks\": \"\"}}, \"colorscale\": {\"diverging\": [[0, \"#8e0152\"], [0.1, \"#c51b7d\"], [0.2, \"#de77ae\"], [0.3, \"#f1b6da\"], [0.4, \"#fde0ef\"], [0.5, \"#f7f7f7\"], [0.6, \"#e6f5d0\"], [0.7, \"#b8e186\"], [0.8, \"#7fbc41\"], [0.9, \"#4d9221\"], [1, \"#276419\"]], \"sequential\": [[0.0, \"#0d0887\"], [0.1111111111111111, \"#46039f\"], [0.2222222222222222, \"#7201a8\"], [0.3333333333333333, \"#9c179e\"], [0.4444444444444444, \"#bd3786\"], [0.5555555555555556, \"#d8576b\"], [0.6666666666666666, \"#ed7953\"], [0.7777777777777778, \"#fb9f3a\"], [0.8888888888888888, \"#fdca26\"], [1.0, \"#f0f921\"]], \"sequentialminus\": [[0.0, \"#0d0887\"], [0.1111111111111111, \"#46039f\"], [0.2222222222222222, \"#7201a8\"], [0.3333333333333333, \"#9c179e\"], [0.4444444444444444, \"#bd3786\"], [0.5555555555555556, \"#d8576b\"], [0.6666666666666666, \"#ed7953\"], [0.7777777777777778, \"#fb9f3a\"], [0.8888888888888888, \"#fdca26\"], [1.0, \"#f0f921\"]]}, \"colorway\": [\"#636efa\", \"#EF553B\", \"#00cc96\", \"#ab63fa\", \"#FFA15A\", \"#19d3f3\", \"#FF6692\", \"#B6E880\", \"#FF97FF\", \"#FECB52\"], \"font\": {\"color\": \"#2a3f5f\"}, \"geo\": {\"bgcolor\": \"white\", \"lakecolor\": \"white\", \"landcolor\": \"#E5ECF6\", \"showlakes\": true, \"showland\": true, \"subunitcolor\": \"white\"}, \"hoverlabel\": {\"align\": \"left\"}, \"hovermode\": \"closest\", \"mapbox\": {\"style\": \"light\"}, \"paper_bgcolor\": \"white\", \"plot_bgcolor\": \"#E5ECF6\", \"polar\": {\"angularaxis\": {\"gridcolor\": \"white\", \"linecolor\": \"white\", \"ticks\": \"\"}, \"bgcolor\": \"#E5ECF6\", \"radialaxis\": {\"gridcolor\": \"white\", \"linecolor\": \"white\", \"ticks\": \"\"}}, \"scene\": {\"xaxis\": {\"backgroundcolor\": \"#E5ECF6\", \"gridcolor\": \"white\", \"gridwidth\": 2, \"linecolor\": \"white\", \"showbackground\": true, \"ticks\": \"\", \"zerolinecolor\": \"white\"}, \"yaxis\": {\"backgroundcolor\": \"#E5ECF6\", \"gridcolor\": \"white\", \"gridwidth\": 2, \"linecolor\": \"white\", \"showbackground\": true, \"ticks\": \"\", \"zerolinecolor\": \"white\"}, \"zaxis\": {\"backgroundcolor\": \"#E5ECF6\", \"gridcolor\": \"white\", \"gridwidth\": 2, \"linecolor\": \"white\", \"showbackground\": true, \"ticks\": \"\", \"zerolinecolor\": \"white\"}}, \"shapedefaults\": {\"line\": {\"color\": \"#2a3f5f\"}}, \"ternary\": {\"aaxis\": {\"gridcolor\": \"white\", \"linecolor\": \"white\", \"ticks\": \"\"}, \"baxis\": {\"gridcolor\": \"white\", \"linecolor\": \"white\", \"ticks\": \"\"}, \"bgcolor\": \"#E5ECF6\", \"caxis\": {\"gridcolor\": \"white\", \"linecolor\": \"white\", \"ticks\": \"\"}}, \"title\": {\"x\": 0.05}, \"xaxis\": {\"automargin\": true, \"gridcolor\": \"white\", \"linecolor\": \"white\", \"ticks\": \"\", \"title\": {\"standoff\": 15}, \"zerolinecolor\": \"white\", \"zerolinewidth\": 2}, \"yaxis\": {\"automargin\": true, \"gridcolor\": \"white\", \"linecolor\": \"white\", \"ticks\": \"\", \"title\": {\"standoff\": 15}, \"zerolinecolor\": \"white\", \"zerolinewidth\": 2}}}, \"title\": {\"text\": \"\\uc0c1\\uac00\\uc720\\ubb34\\uc5d0 \\ub530\\ub978 \\ucd1d\\uc138\\ub300\\uc218, \\ub2e8\\uc9c0\\ub0b4\\uc8fc\\ucc28\\uba74\\uc218 \\ubd84\\ud3ec\"}, \"xaxis\": {\"anchor\": \"y\", \"domain\": [0.0, 1.0], \"title\": {\"text\": \"\\ucd1d\\uc138\\ub300\\uc218\"}}, \"yaxis\": {\"anchor\": \"x\", \"domain\": [0.0, 1.0], \"title\": {\"text\": \"\\ub2e8\\uc9c0\\ub0b4\\uc8fc\\ucc28\\uba74\\uc218\"}}},\n",
              "                        {\"responsive\": true}\n",
              "                    ).then(function(){\n",
              "                            \n",
              "var gd = document.getElementById('17b67dff-e59f-4d08-924c-556622060076');\n",
              "var x = new MutationObserver(function (mutations, observer) {{\n",
              "        var display = window.getComputedStyle(gd).display;\n",
              "        if (!display || display === 'none') {{\n",
              "            console.log([gd, 'removed!']);\n",
              "            Plotly.purge(gd);\n",
              "            observer.disconnect();\n",
              "        }}\n",
              "}});\n",
              "\n",
              "// Listen for the removal of the full notebook cells\n",
              "var notebookContainer = gd.closest('#notebook-container');\n",
              "if (notebookContainer) {{\n",
              "    x.observe(notebookContainer, {childList: true});\n",
              "}}\n",
              "\n",
              "// Listen for the clearing of the current output cell\n",
              "var outputEl = gd.closest('.output');\n",
              "if (outputEl) {{\n",
              "    x.observe(outputEl, {childList: true});\n",
              "}}\n",
              "\n",
              "                        })\n",
              "                };\n",
              "                \n",
              "            </script>\n",
              "        </div>\n",
              "</body>\n",
              "</html>"
            ]
          },
          "metadata": {}
        }
      ]
    },
    {
      "cell_type": "markdown",
      "metadata": {
        "id": "WFHrNA1iXaO2"
      },
      "source": [
        "---------------------\n",
        "- 임대건물구분 컬럼 삭제,  임대건물구분이 '상가'인 데이터도 삭제\n",
        "임대건물구분 == 상가 인 데이터는 임대건물구분 컬럼이외의 데이터에 영향을 주는 것이 없음으로 삭제"
      ]
    },
    {
      "cell_type": "code",
      "metadata": {
        "id": "pFT-5tmhXZFK"
      },
      "source": [
        "raw_train_lentType = raw_train_lentType[raw_train_lentType['임대건물구분'] != '상가']\n",
        "del raw_train['임대건물구분']"
      ],
      "execution_count": null,
      "outputs": []
    },
    {
      "cell_type": "markdown",
      "metadata": {
        "id": "HGr8CY_hak2G"
      },
      "source": [
        "# 지역\n",
        "\n",
        "문제\n",
        "  - 지역에 따른 등록차량수의 차이 확인\n",
        "\n",
        "가설\n",
        "  - 광역시와 같이 인구밀집이 높은 지역에 따라 등록차량수가 다를 것인지?"
      ]
    },
    {
      "cell_type": "code",
      "metadata": {
        "id": "kC-Dq_0haow0"
      },
      "source": [
        "raw_train_lentType_loc = copy.deepcopy(raw_train_lentType)"
      ],
      "execution_count": null,
      "outputs": []
    },
    {
      "cell_type": "code",
      "metadata": {
        "id": "3K2jxjMia0_Q"
      },
      "source": [
        "temp = raw_train_lentType_loc.drop_duplicates('단지코드', keep='first')"
      ],
      "execution_count": null,
      "outputs": []
    },
    {
      "cell_type": "code",
      "metadata": {
        "id": "FLl7g5b0iJWO"
      },
      "source": [
        "raw_train_lentType_loc[raw_train_lentType_loc]"
      ],
      "execution_count": null,
      "outputs": []
    },
    {
      "cell_type": "markdown",
      "metadata": {
        "id": "621ULsJphyq_"
      },
      "source": [
        "수도권과 비수도권"
      ]
    },
    {
      "cell_type": "code",
      "metadata": {
        "colab": {
          "base_uri": "https://localhost:8080/"
        },
        "id": "LKB6qvaTgWJf",
        "outputId": "30a33694-aae8-4122-af80-21ccdd0c696d"
      },
      "source": [
        "temp['지역'].value_counts()"
      ],
      "execution_count": 154,
      "outputs": [
        {
          "output_type": "execute_result",
          "data": {
            "text/plain": [
              "경기도        88\n",
              "경상남도       55\n",
              "강원도        37\n",
              "충청북도       30\n",
              "부산광역시      25\n",
              "전라남도       25\n",
              "대전광역시      25\n",
              "광주광역시      24\n",
              "경상북도       22\n",
              "전라북도       21\n",
              "충청남도       19\n",
              "대구광역시      18\n",
              "제주특별자치도    14\n",
              "서울특별시       8\n",
              "울산광역시       8\n",
              "세종특별자치시     4\n",
              "Name: 지역, dtype: int64"
            ]
          },
          "metadata": {},
          "execution_count": 154
        }
      ]
    },
    {
      "cell_type": "code",
      "metadata": {
        "id": "0x2AvjALiBHt"
      },
      "source": [
        "def check_loc(x):\n",
        "  if x in ['경기도', '']"
      ],
      "execution_count": null,
      "outputs": []
    },
    {
      "cell_type": "code",
      "metadata": {
        "id": "wYMAgpNuh38J"
      },
      "source": [
        "temp['수도권/광역시여부'] = "
      ],
      "execution_count": null,
      "outputs": []
    },
    {
      "cell_type": "code",
      "metadata": {
        "colab": {
          "base_uri": "https://localhost:8080/",
          "height": 542
        },
        "id": "wQ2blCXQbAAM",
        "outputId": "9fc2c528-784c-4388-8c08-ba07a78d47c9"
      },
      "source": [
        "fig = go.Figure()\n",
        "fig = px.scatter(temp[temp['지역'] == '경기도'],  y = '등록차량수',\n",
        "                            color_discrete_sequence=px.colors.qualitative.Alphabet)\n",
        "fig.update_layout(title='상가유무에 따른 총세대수, 단지내주차면수 분포') #autosize =, width = 1000, height = 500)"
      ],
      "execution_count": 144,
      "outputs": [
        {
          "output_type": "display_data",
          "data": {
            "text/html": [
              "<html>\n",
              "<head><meta charset=\"utf-8\" /></head>\n",
              "<body>\n",
              "    <div>\n",
              "            <script src=\"https://cdnjs.cloudflare.com/ajax/libs/mathjax/2.7.5/MathJax.js?config=TeX-AMS-MML_SVG\"></script><script type=\"text/javascript\">if (window.MathJax) {MathJax.Hub.Config({SVG: {font: \"STIX-Web\"}});}</script>\n",
              "                <script type=\"text/javascript\">window.PlotlyConfig = {MathJaxConfig: 'local'};</script>\n",
              "        <script src=\"https://cdn.plot.ly/plotly-latest.min.js\"></script>    \n",
              "            <div id=\"2825a081-00ff-4f44-aed7-9e75c835c54d\" class=\"plotly-graph-div\" style=\"height:525px; width:100%;\"></div>\n",
              "            <script type=\"text/javascript\">\n",
              "                \n",
              "                    window.PLOTLYENV=window.PLOTLYENV || {};\n",
              "                    \n",
              "                if (document.getElementById(\"2825a081-00ff-4f44-aed7-9e75c835c54d\")) {\n",
              "                    Plotly.newPlot(\n",
              "                        '2825a081-00ff-4f44-aed7-9e75c835c54d',\n",
              "                        [{\"hoverlabel\": {\"namelength\": 0}, \"hovertemplate\": \"\\ub4f1\\ub85d\\ucc28\\ub7c9\\uc218=%{y}\", \"legendgroup\": \"\", \"marker\": {\"color\": \"#AA0DFE\", \"symbol\": \"circle\"}, \"mode\": \"markers\", \"name\": \"\", \"showlegend\": false, \"type\": \"scatter\", \"xaxis\": \"x\", \"y\": [730.0, 1804.0, 799.0, 960.0, 1117.0, 979.0, 1306.0, 1398.0, 442.0, 422.0, 441.0, 808.0, 548.0, 520.0, 488.0, 832.0, 1158.0, 745.0, 840.0, 709.0, 480.0, 505.0, 449.0, 296.0, 308.0, 349.0, 657.0, 505.0, 294.0, 450.0, 845.0, 643.0, 752.0, 735.0, 639.0, 902.0, 632.0, 125.0, 282.0, 1279.0, 782.0, 375.0, 362.0, 504.0, 281.0, 521.0, 552.0, 901.0, 934.0, 945.0, 793.0, 614.0, 1101.0, 822.0, 770.0, 951.0, 549.0, 647.0, 365.0, 606.0, 870.0, 505.0, 652.0, 451.0, 1668.0, 763.0, 922.0, 946.0, 763.0, 417.0, 2550.0, 751.0, 243.0, 783.0, 1044.0, 559.0, 1896.0, 646.0, 854.0, 1378.0, 133.0, 196.0, 13.0, 507.0, 921.0, 130.0, 419.0, 1204.0], \"yaxis\": \"y\"}],\n",
              "                        {\"legend\": {\"tracegroupgap\": 0}, \"margin\": {\"t\": 60}, \"template\": {\"data\": {\"bar\": [{\"error_x\": {\"color\": \"#2a3f5f\"}, \"error_y\": {\"color\": \"#2a3f5f\"}, \"marker\": {\"line\": {\"color\": \"#E5ECF6\", \"width\": 0.5}}, \"type\": \"bar\"}], \"barpolar\": [{\"marker\": {\"line\": {\"color\": \"#E5ECF6\", \"width\": 0.5}}, \"type\": \"barpolar\"}], \"carpet\": [{\"aaxis\": {\"endlinecolor\": \"#2a3f5f\", \"gridcolor\": \"white\", \"linecolor\": \"white\", \"minorgridcolor\": \"white\", \"startlinecolor\": \"#2a3f5f\"}, \"baxis\": {\"endlinecolor\": \"#2a3f5f\", \"gridcolor\": \"white\", \"linecolor\": \"white\", \"minorgridcolor\": \"white\", \"startlinecolor\": \"#2a3f5f\"}, \"type\": \"carpet\"}], \"choropleth\": [{\"colorbar\": {\"outlinewidth\": 0, \"ticks\": \"\"}, \"type\": \"choropleth\"}], \"contour\": [{\"colorbar\": {\"outlinewidth\": 0, \"ticks\": \"\"}, \"colorscale\": [[0.0, \"#0d0887\"], [0.1111111111111111, \"#46039f\"], [0.2222222222222222, \"#7201a8\"], [0.3333333333333333, \"#9c179e\"], [0.4444444444444444, \"#bd3786\"], [0.5555555555555556, \"#d8576b\"], [0.6666666666666666, \"#ed7953\"], [0.7777777777777778, \"#fb9f3a\"], [0.8888888888888888, \"#fdca26\"], [1.0, \"#f0f921\"]], \"type\": \"contour\"}], \"contourcarpet\": [{\"colorbar\": {\"outlinewidth\": 0, \"ticks\": \"\"}, \"type\": \"contourcarpet\"}], \"heatmap\": [{\"colorbar\": {\"outlinewidth\": 0, \"ticks\": \"\"}, \"colorscale\": [[0.0, \"#0d0887\"], [0.1111111111111111, \"#46039f\"], [0.2222222222222222, \"#7201a8\"], [0.3333333333333333, \"#9c179e\"], [0.4444444444444444, \"#bd3786\"], [0.5555555555555556, \"#d8576b\"], [0.6666666666666666, \"#ed7953\"], [0.7777777777777778, \"#fb9f3a\"], [0.8888888888888888, \"#fdca26\"], [1.0, \"#f0f921\"]], \"type\": \"heatmap\"}], \"heatmapgl\": [{\"colorbar\": {\"outlinewidth\": 0, \"ticks\": \"\"}, \"colorscale\": [[0.0, \"#0d0887\"], [0.1111111111111111, \"#46039f\"], [0.2222222222222222, \"#7201a8\"], [0.3333333333333333, \"#9c179e\"], [0.4444444444444444, \"#bd3786\"], [0.5555555555555556, \"#d8576b\"], [0.6666666666666666, \"#ed7953\"], [0.7777777777777778, \"#fb9f3a\"], [0.8888888888888888, \"#fdca26\"], [1.0, \"#f0f921\"]], \"type\": \"heatmapgl\"}], \"histogram\": [{\"marker\": {\"colorbar\": {\"outlinewidth\": 0, \"ticks\": \"\"}}, \"type\": \"histogram\"}], \"histogram2d\": [{\"colorbar\": {\"outlinewidth\": 0, \"ticks\": \"\"}, \"colorscale\": [[0.0, \"#0d0887\"], [0.1111111111111111, \"#46039f\"], [0.2222222222222222, \"#7201a8\"], [0.3333333333333333, \"#9c179e\"], [0.4444444444444444, \"#bd3786\"], [0.5555555555555556, \"#d8576b\"], [0.6666666666666666, \"#ed7953\"], [0.7777777777777778, \"#fb9f3a\"], [0.8888888888888888, \"#fdca26\"], [1.0, \"#f0f921\"]], \"type\": \"histogram2d\"}], \"histogram2dcontour\": [{\"colorbar\": {\"outlinewidth\": 0, \"ticks\": \"\"}, \"colorscale\": [[0.0, \"#0d0887\"], [0.1111111111111111, \"#46039f\"], [0.2222222222222222, \"#7201a8\"], [0.3333333333333333, \"#9c179e\"], [0.4444444444444444, \"#bd3786\"], [0.5555555555555556, \"#d8576b\"], [0.6666666666666666, \"#ed7953\"], [0.7777777777777778, \"#fb9f3a\"], [0.8888888888888888, \"#fdca26\"], [1.0, \"#f0f921\"]], \"type\": \"histogram2dcontour\"}], \"mesh3d\": [{\"colorbar\": {\"outlinewidth\": 0, \"ticks\": \"\"}, \"type\": \"mesh3d\"}], \"parcoords\": [{\"line\": {\"colorbar\": {\"outlinewidth\": 0, \"ticks\": \"\"}}, \"type\": \"parcoords\"}], \"pie\": [{\"automargin\": true, \"type\": \"pie\"}], \"scatter\": [{\"marker\": {\"colorbar\": {\"outlinewidth\": 0, \"ticks\": \"\"}}, \"type\": \"scatter\"}], \"scatter3d\": [{\"line\": {\"colorbar\": {\"outlinewidth\": 0, \"ticks\": \"\"}}, \"marker\": {\"colorbar\": {\"outlinewidth\": 0, \"ticks\": \"\"}}, \"type\": \"scatter3d\"}], \"scattercarpet\": [{\"marker\": {\"colorbar\": {\"outlinewidth\": 0, \"ticks\": \"\"}}, \"type\": \"scattercarpet\"}], \"scattergeo\": [{\"marker\": {\"colorbar\": {\"outlinewidth\": 0, \"ticks\": \"\"}}, \"type\": \"scattergeo\"}], \"scattergl\": [{\"marker\": {\"colorbar\": {\"outlinewidth\": 0, \"ticks\": \"\"}}, \"type\": \"scattergl\"}], \"scattermapbox\": [{\"marker\": {\"colorbar\": {\"outlinewidth\": 0, \"ticks\": \"\"}}, \"type\": \"scattermapbox\"}], \"scatterpolar\": [{\"marker\": {\"colorbar\": {\"outlinewidth\": 0, \"ticks\": \"\"}}, \"type\": \"scatterpolar\"}], \"scatterpolargl\": [{\"marker\": {\"colorbar\": {\"outlinewidth\": 0, \"ticks\": \"\"}}, \"type\": \"scatterpolargl\"}], \"scatterternary\": [{\"marker\": {\"colorbar\": {\"outlinewidth\": 0, \"ticks\": \"\"}}, \"type\": \"scatterternary\"}], \"surface\": [{\"colorbar\": {\"outlinewidth\": 0, \"ticks\": \"\"}, \"colorscale\": [[0.0, \"#0d0887\"], [0.1111111111111111, \"#46039f\"], [0.2222222222222222, \"#7201a8\"], [0.3333333333333333, \"#9c179e\"], [0.4444444444444444, \"#bd3786\"], [0.5555555555555556, \"#d8576b\"], [0.6666666666666666, \"#ed7953\"], [0.7777777777777778, \"#fb9f3a\"], [0.8888888888888888, \"#fdca26\"], [1.0, \"#f0f921\"]], \"type\": \"surface\"}], \"table\": [{\"cells\": {\"fill\": {\"color\": \"#EBF0F8\"}, \"line\": {\"color\": \"white\"}}, \"header\": {\"fill\": {\"color\": \"#C8D4E3\"}, \"line\": {\"color\": \"white\"}}, \"type\": \"table\"}]}, \"layout\": {\"annotationdefaults\": {\"arrowcolor\": \"#2a3f5f\", \"arrowhead\": 0, \"arrowwidth\": 1}, \"coloraxis\": {\"colorbar\": {\"outlinewidth\": 0, \"ticks\": \"\"}}, \"colorscale\": {\"diverging\": [[0, \"#8e0152\"], [0.1, \"#c51b7d\"], [0.2, \"#de77ae\"], [0.3, \"#f1b6da\"], [0.4, \"#fde0ef\"], [0.5, \"#f7f7f7\"], [0.6, \"#e6f5d0\"], [0.7, \"#b8e186\"], [0.8, \"#7fbc41\"], [0.9, \"#4d9221\"], [1, \"#276419\"]], \"sequential\": [[0.0, \"#0d0887\"], [0.1111111111111111, \"#46039f\"], [0.2222222222222222, \"#7201a8\"], [0.3333333333333333, \"#9c179e\"], [0.4444444444444444, \"#bd3786\"], [0.5555555555555556, \"#d8576b\"], [0.6666666666666666, \"#ed7953\"], [0.7777777777777778, \"#fb9f3a\"], [0.8888888888888888, \"#fdca26\"], [1.0, \"#f0f921\"]], \"sequentialminus\": [[0.0, \"#0d0887\"], [0.1111111111111111, \"#46039f\"], [0.2222222222222222, \"#7201a8\"], [0.3333333333333333, \"#9c179e\"], [0.4444444444444444, \"#bd3786\"], [0.5555555555555556, \"#d8576b\"], [0.6666666666666666, \"#ed7953\"], [0.7777777777777778, \"#fb9f3a\"], [0.8888888888888888, \"#fdca26\"], [1.0, \"#f0f921\"]]}, \"colorway\": [\"#636efa\", \"#EF553B\", \"#00cc96\", \"#ab63fa\", \"#FFA15A\", \"#19d3f3\", \"#FF6692\", \"#B6E880\", \"#FF97FF\", \"#FECB52\"], \"font\": {\"color\": \"#2a3f5f\"}, \"geo\": {\"bgcolor\": \"white\", \"lakecolor\": \"white\", \"landcolor\": \"#E5ECF6\", \"showlakes\": true, \"showland\": true, \"subunitcolor\": \"white\"}, \"hoverlabel\": {\"align\": \"left\"}, \"hovermode\": \"closest\", \"mapbox\": {\"style\": \"light\"}, \"paper_bgcolor\": \"white\", \"plot_bgcolor\": \"#E5ECF6\", \"polar\": {\"angularaxis\": {\"gridcolor\": \"white\", \"linecolor\": \"white\", \"ticks\": \"\"}, \"bgcolor\": \"#E5ECF6\", \"radialaxis\": {\"gridcolor\": \"white\", \"linecolor\": \"white\", \"ticks\": \"\"}}, \"scene\": {\"xaxis\": {\"backgroundcolor\": \"#E5ECF6\", \"gridcolor\": \"white\", \"gridwidth\": 2, \"linecolor\": \"white\", \"showbackground\": true, \"ticks\": \"\", \"zerolinecolor\": \"white\"}, \"yaxis\": {\"backgroundcolor\": \"#E5ECF6\", \"gridcolor\": \"white\", \"gridwidth\": 2, \"linecolor\": \"white\", \"showbackground\": true, \"ticks\": \"\", \"zerolinecolor\": \"white\"}, \"zaxis\": {\"backgroundcolor\": \"#E5ECF6\", \"gridcolor\": \"white\", \"gridwidth\": 2, \"linecolor\": \"white\", \"showbackground\": true, \"ticks\": \"\", \"zerolinecolor\": \"white\"}}, \"shapedefaults\": {\"line\": {\"color\": \"#2a3f5f\"}}, \"ternary\": {\"aaxis\": {\"gridcolor\": \"white\", \"linecolor\": \"white\", \"ticks\": \"\"}, \"baxis\": {\"gridcolor\": \"white\", \"linecolor\": \"white\", \"ticks\": \"\"}, \"bgcolor\": \"#E5ECF6\", \"caxis\": {\"gridcolor\": \"white\", \"linecolor\": \"white\", \"ticks\": \"\"}}, \"title\": {\"x\": 0.05}, \"xaxis\": {\"automargin\": true, \"gridcolor\": \"white\", \"linecolor\": \"white\", \"ticks\": \"\", \"title\": {\"standoff\": 15}, \"zerolinecolor\": \"white\", \"zerolinewidth\": 2}, \"yaxis\": {\"automargin\": true, \"gridcolor\": \"white\", \"linecolor\": \"white\", \"ticks\": \"\", \"title\": {\"standoff\": 15}, \"zerolinecolor\": \"white\", \"zerolinewidth\": 2}}}, \"title\": {\"text\": \"\\uc0c1\\uac00\\uc720\\ubb34\\uc5d0 \\ub530\\ub978 \\ucd1d\\uc138\\ub300\\uc218, \\ub2e8\\uc9c0\\ub0b4\\uc8fc\\ucc28\\uba74\\uc218 \\ubd84\\ud3ec\"}, \"xaxis\": {\"anchor\": \"y\", \"domain\": [0.0, 1.0]}, \"yaxis\": {\"anchor\": \"x\", \"domain\": [0.0, 1.0], \"title\": {\"text\": \"\\ub4f1\\ub85d\\ucc28\\ub7c9\\uc218\"}}},\n",
              "                        {\"responsive\": true}\n",
              "                    ).then(function(){\n",
              "                            \n",
              "var gd = document.getElementById('2825a081-00ff-4f44-aed7-9e75c835c54d');\n",
              "var x = new MutationObserver(function (mutations, observer) {{\n",
              "        var display = window.getComputedStyle(gd).display;\n",
              "        if (!display || display === 'none') {{\n",
              "            console.log([gd, 'removed!']);\n",
              "            Plotly.purge(gd);\n",
              "            observer.disconnect();\n",
              "        }}\n",
              "}});\n",
              "\n",
              "// Listen for the removal of the full notebook cells\n",
              "var notebookContainer = gd.closest('#notebook-container');\n",
              "if (notebookContainer) {{\n",
              "    x.observe(notebookContainer, {childList: true});\n",
              "}}\n",
              "\n",
              "// Listen for the clearing of the current output cell\n",
              "var outputEl = gd.closest('.output');\n",
              "if (outputEl) {{\n",
              "    x.observe(outputEl, {childList: true});\n",
              "}}\n",
              "\n",
              "                        })\n",
              "                };\n",
              "                \n",
              "            </script>\n",
              "        </div>\n",
              "</body>\n",
              "</html>"
            ]
          },
          "metadata": {}
        }
      ]
    },
    {
      "cell_type": "markdown",
      "metadata": {
        "id": "ya0JDQ0xaVeq"
      },
      "source": [
        "### 아파트유형 분류기준 파생변수 생성\n",
        "결과\n",
        "  - 단지내에 최다 아파트유형 개수를 기준으로 아파트유형을 적용시킬때 가장 아파트유형간 구분이 잘됨\n",
        "  - 아파트유형 변수 생성\n",
        "\n",
        "  - 단지지내에 해당하는 모든 아파트유형을 원핫인코딩으로 적용시키는 것과 비교하여 적용\n",
        "\n",
        "\n",
        "문제\n",
        "  - 아파트유형에따라서\n",
        "\n",
        "활용기준\n",
        "  - 아파트구분: 초소형, 소형, 중대형\n",
        "  - 기준-참고자료1: 전용면적 50m, 60m, 60m up"
      ]
    },
    {
      "cell_type": "markdown",
      "metadata": {
        "id": "I3FREO_hhN55"
      },
      "source": [
        "-----------------------\n",
        "아파트유형 컬럼 생성"
      ]
    },
    {
      "cell_type": "code",
      "metadata": {
        "id": "HfnPOeDcQlXq"
      },
      "source": [
        "raw_train_store = copy.deepcopy(raw_train)\n",
        "raw_train_store.reset_index(drop=True, inplace=True)"
      ],
      "execution_count": null,
      "outputs": []
    },
    {
      "cell_type": "markdown",
      "metadata": {
        "id": "hN9C9p_mRPx_"
      },
      "source": [
        "-----------------------\n",
        "동일 단지코드내에 2개이상의 아파트유형이 있는지 확인"
      ]
    },
    {
      "cell_type": "code",
      "metadata": {
        "id": "O_dFUax2cffx"
      },
      "source": [
        "def apart_type(x):\n",
        "  if x > 70: \n",
        "    return '중대형'\n",
        "  elif 50 < x <= 70:\n",
        "    return '소형'\n",
        "  else:\n",
        "    return '초소형'"
      ],
      "execution_count": null,
      "outputs": []
    },
    {
      "cell_type": "code",
      "metadata": {
        "id": "hio78vlbbFqX"
      },
      "source": [
        "raw_train_store['아파트유형'] = raw_train_store['전용면적'].apply(lambda x: apart_type(x))"
      ],
      "execution_count": null,
      "outputs": []
    },
    {
      "cell_type": "markdown",
      "metadata": {
        "id": "xflVo6f-bCyz"
      },
      "source": [
        "#### 보류"
      ]
    },
    {
      "cell_type": "code",
      "metadata": {
        "id": "DYadWhXARE08"
      },
      "source": [
        "raw_train_store['아파트유형'] = raw_train_store['전용면적'].apply(lambda x: apart_type(x))"
      ],
      "execution_count": null,
      "outputs": []
    },
    {
      "cell_type": "code",
      "metadata": {
        "colab": {
          "base_uri": "https://localhost:8080/"
        },
        "id": "HTMFqFhwhdoH",
        "outputId": "fa21d7b1-3fcf-4a7a-c7e2-8eec346808ba"
      },
      "source": [
        "raw_train_store[['단지코드', '아파트유형']].drop_duplicates(['단지코드', '아파트유형'], keep='first').groupby(['단지코드'])['아파트유형'].count()"
      ],
      "execution_count": null,
      "outputs": [
        {
          "output_type": "execute_result",
          "data": {
            "text/plain": [
              "단지코드\n",
              "C1000    2\n",
              "C1004    1\n",
              "C1005    1\n",
              "C1013    2\n",
              "C1014    2\n",
              "        ..\n",
              "C2663    2\n",
              "C2666    1\n",
              "C2670    2\n",
              "C2680    1\n",
              "C2692    2\n",
              "Name: 아파트유형, Length: 423, dtype: int64"
            ]
          },
          "metadata": {},
          "execution_count": 593
        }
      ]
    },
    {
      "cell_type": "markdown",
      "metadata": {
        "id": "UlKB10n6hTgg"
      },
      "source": [
        "위의 결과를 확인하면 동일 아파트에 아파트유형이 다른 곳이 존재한다는 것을 알 수 있음\n",
        "\n",
        "최대 아파트유형 개수 기준 : 동일한 단지코드내에 아파트유형이 2개이상인 경우 아파트유형이 많은 것으로 대표값 설정 \n",
        "\n",
        "평균 전용면적 기준 : 평균전용면적을 기준으로 아파트유형 설정\n",
        "\n",
        "최대 전용면적 기준 : 동일한 단지코드내에 최대 전용면적 기준"
      ]
    },
    {
      "cell_type": "markdown",
      "metadata": {
        "id": "fWT9Y6qks84W"
      },
      "source": [
        "-------------------------------\n",
        "아파트유형 기준 : 평균전용면적"
      ]
    },
    {
      "cell_type": "code",
      "metadata": {
        "colab": {
          "base_uri": "https://localhost:8080/"
        },
        "id": "OzoqY89Drby3",
        "outputId": "285bc4a4-1167-4691-b725-5438c2fd97c9"
      },
      "source": [
        "mean_apart_type = raw_train_store[['단지코드','전용면적']].groupby('단지코드')['전용면적'].mean().reset_index()\n",
        "mean_apart_type['아파트유형'] = mean_apart_type['전용면적'].apply(lambda x: apart_type(x))\n",
        "del mean_apart_type['전용면적']\n",
        "mean_apart_type['아파트유형'].value_counts()"
      ],
      "execution_count": null,
      "outputs": [
        {
          "output_type": "execute_result",
          "data": {
            "text/plain": [
              "초소형    333\n",
              "소형      67\n",
              "중대형     23\n",
              "Name: 아파트유형, dtype: int64"
            ]
          },
          "metadata": {},
          "execution_count": 594
        }
      ]
    },
    {
      "cell_type": "markdown",
      "metadata": {
        "id": "QX8xoF1FtByn"
      },
      "source": [
        "아파트유형 기준 : 다수 아파트유형"
      ]
    },
    {
      "cell_type": "code",
      "metadata": {
        "colab": {
          "base_uri": "https://localhost:8080/"
        },
        "id": "PW74x1XVaYY8",
        "outputId": "7f3374ed-6e5b-4148-c1b1-772c14f2eac5"
      },
      "source": [
        "count_apart_type = raw_train_store[['단지코드', '아파트유형','상가유무']].groupby(['단지코드','아파트유형'])['상가유무']\\\n",
        "    .count().reset_index().sort_values(['단지코드','상가유무'], ascending=[True, False])\\\n",
        "    .drop_duplicates('단지코드', keep='first')[['단지코드', '아파트유형']]\n",
        "count_apart_type['아파트유형'].value_counts()"
      ],
      "execution_count": null,
      "outputs": [
        {
          "output_type": "execute_result",
          "data": {
            "text/plain": [
              "초소형    321\n",
              "소형      79\n",
              "중대형     23\n",
              "Name: 아파트유형, dtype: int64"
            ]
          },
          "metadata": {},
          "execution_count": 595
        }
      ]
    },
    {
      "cell_type": "code",
      "metadata": {
        "colab": {
          "base_uri": "https://localhost:8080/"
        },
        "id": "hxMKhBoOPS8R",
        "outputId": "1c442b14-fc95-44f0-9453-e8a827419ea2"
      },
      "source": [
        "max_apart_type = raw_train_store[['단지코드','전용면적']].groupby('단지코드')['전용면적'].max().reset_index()\n",
        "max_apart_type['아파트유형'] = max_apart_type['전용면적'].apply(lambda x: apart_type(x))\n",
        "del max_apart_type['전용면적']\n",
        "max_apart_type['아파트유형'].value_counts()"
      ],
      "execution_count": null,
      "outputs": [
        {
          "output_type": "execute_result",
          "data": {
            "text/plain": [
              "소형     217\n",
              "초소형    178\n",
              "중대형     28\n",
              "Name: 아파트유형, dtype: int64"
            ]
          },
          "metadata": {},
          "execution_count": 596
        }
      ]
    },
    {
      "cell_type": "markdown",
      "metadata": {
        "id": "TQa5bp5ItVxA"
      },
      "source": [
        "----------------------------------\n",
        "각 기준대로 조인하여 결과 비교"
      ]
    },
    {
      "cell_type": "code",
      "metadata": {
        "id": "NXahUj3kYiQj"
      },
      "source": [
        "del raw_train_store['아파트유형']"
      ],
      "execution_count": null,
      "outputs": []
    },
    {
      "cell_type": "code",
      "metadata": {
        "colab": {
          "base_uri": "https://localhost:8080/",
          "height": 172
        },
        "id": "FVmyz3ONqrUS",
        "outputId": "6f764952-f0c7-4fce-a915-17a4ac53185f"
      },
      "source": [
        "temp_mean = pd.merge(raw_train_store , mean_apart_type, on='단지코드')\n",
        "temp_mean = temp_mean[['단지코드','총세대수', '아파트유형','상가유무','단지내주차면수', '등록차량수']].drop_duplicates('단지코드', keep='first').groupby(['상가유무', '아파트유형']).mean().reset_index()\n",
        "temp_mean"
      ],
      "execution_count": null,
      "outputs": [
        {
          "output_type": "execute_result",
          "data": {
            "text/html": [
              "<div>\n",
              "<style scoped>\n",
              "    .dataframe tbody tr th:only-of-type {\n",
              "        vertical-align: middle;\n",
              "    }\n",
              "\n",
              "    .dataframe tbody tr th {\n",
              "        vertical-align: top;\n",
              "    }\n",
              "\n",
              "    .dataframe thead th {\n",
              "        text-align: right;\n",
              "    }\n",
              "</style>\n",
              "<table border=\"1\" class=\"dataframe\">\n",
              "  <thead>\n",
              "    <tr style=\"text-align: right;\">\n",
              "      <th></th>\n",
              "      <th>상가유무</th>\n",
              "      <th>아파트유형</th>\n",
              "      <th>총세대수</th>\n",
              "      <th>단지내주차면수</th>\n",
              "      <th>등록차량수</th>\n",
              "    </tr>\n",
              "  </thead>\n",
              "  <tbody>\n",
              "    <tr>\n",
              "      <th>0</th>\n",
              "      <td>상가없음</td>\n",
              "      <td>소형</td>\n",
              "      <td>705.328358</td>\n",
              "      <td>167.311252</td>\n",
              "      <td>195.985056</td>\n",
              "    </tr>\n",
              "    <tr>\n",
              "      <th>1</th>\n",
              "      <td>상가없음</td>\n",
              "      <td>중대형</td>\n",
              "      <td>662.217391</td>\n",
              "      <td>137.368836</td>\n",
              "      <td>171.657129</td>\n",
              "    </tr>\n",
              "    <tr>\n",
              "      <th>2</th>\n",
              "      <td>상가없음</td>\n",
              "      <td>초소형</td>\n",
              "      <td>699.086667</td>\n",
              "      <td>151.589765</td>\n",
              "      <td>136.773102</td>\n",
              "    </tr>\n",
              "    <tr>\n",
              "      <th>3</th>\n",
              "      <td>상가있음</td>\n",
              "      <td>초소형</td>\n",
              "      <td>1010.787879</td>\n",
              "      <td>97.962314</td>\n",
              "      <td>59.557937</td>\n",
              "    </tr>\n",
              "  </tbody>\n",
              "</table>\n",
              "</div>"
            ],
            "text/plain": [
              "   상가유무 아파트유형         총세대수     단지내주차면수       등록차량수\n",
              "0  상가없음    소형   705.328358  167.311252  195.985056\n",
              "1  상가없음   중대형   662.217391  137.368836  171.657129\n",
              "2  상가없음   초소형   699.086667  151.589765  136.773102\n",
              "3  상가있음   초소형  1010.787879   97.962314   59.557937"
            ]
          },
          "metadata": {},
          "execution_count": 600
        }
      ]
    },
    {
      "cell_type": "code",
      "metadata": {
        "colab": {
          "base_uri": "https://localhost:8080/",
          "height": 172
        },
        "id": "sW7f_9XQAyt9",
        "outputId": "3226ec5d-56d4-46b3-d23a-f2b5e154a6c7"
      },
      "source": [
        "temp_count = pd.merge(raw_train_store , count_apart_type, on='단지코드')\n",
        "temp_count = temp_count[['단지코드','총세대수', '아파트유형','상가유무','단지내주차면수', '등록차량수']].drop_duplicates('단지코드', keep='first').groupby(['상가유무', '아파트유형']).mean().reset_index()\n",
        "temp_count"
      ],
      "execution_count": null,
      "outputs": [
        {
          "output_type": "execute_result",
          "data": {
            "text/html": [
              "<div>\n",
              "<style scoped>\n",
              "    .dataframe tbody tr th:only-of-type {\n",
              "        vertical-align: middle;\n",
              "    }\n",
              "\n",
              "    .dataframe tbody tr th {\n",
              "        vertical-align: top;\n",
              "    }\n",
              "\n",
              "    .dataframe thead th {\n",
              "        text-align: right;\n",
              "    }\n",
              "</style>\n",
              "<table border=\"1\" class=\"dataframe\">\n",
              "  <thead>\n",
              "    <tr style=\"text-align: right;\">\n",
              "      <th></th>\n",
              "      <th>상가유무</th>\n",
              "      <th>아파트유형</th>\n",
              "      <th>총세대수</th>\n",
              "      <th>단지내주차면수</th>\n",
              "      <th>등록차량수</th>\n",
              "    </tr>\n",
              "  </thead>\n",
              "  <tbody>\n",
              "    <tr>\n",
              "      <th>0</th>\n",
              "      <td>상가없음</td>\n",
              "      <td>소형</td>\n",
              "      <td>676.113924</td>\n",
              "      <td>164.914350</td>\n",
              "      <td>187.578942</td>\n",
              "    </tr>\n",
              "    <tr>\n",
              "      <th>1</th>\n",
              "      <td>상가없음</td>\n",
              "      <td>중대형</td>\n",
              "      <td>688.739130</td>\n",
              "      <td>151.491556</td>\n",
              "      <td>190.978743</td>\n",
              "    </tr>\n",
              "    <tr>\n",
              "      <th>2</th>\n",
              "      <td>상가없음</td>\n",
              "      <td>초소형</td>\n",
              "      <td>704.722222</td>\n",
              "      <td>150.464330</td>\n",
              "      <td>135.068735</td>\n",
              "    </tr>\n",
              "    <tr>\n",
              "      <th>3</th>\n",
              "      <td>상가있음</td>\n",
              "      <td>초소형</td>\n",
              "      <td>1010.787879</td>\n",
              "      <td>97.962314</td>\n",
              "      <td>59.557937</td>\n",
              "    </tr>\n",
              "  </tbody>\n",
              "</table>\n",
              "</div>"
            ],
            "text/plain": [
              "   상가유무 아파트유형         총세대수     단지내주차면수       등록차량수\n",
              "0  상가없음    소형   676.113924  164.914350  187.578942\n",
              "1  상가없음   중대형   688.739130  151.491556  190.978743\n",
              "2  상가없음   초소형   704.722222  150.464330  135.068735\n",
              "3  상가있음   초소형  1010.787879   97.962314   59.557937"
            ]
          },
          "metadata": {},
          "execution_count": 601
        }
      ]
    },
    {
      "cell_type": "code",
      "metadata": {
        "colab": {
          "base_uri": "https://localhost:8080/",
          "height": 204
        },
        "id": "WYlPLqm2P-1i",
        "outputId": "f8c20421-ffff-4ccf-a12a-6e8fc038319d"
      },
      "source": [
        "temp_max = pd.merge(raw_train_store , max_apart_type, on='단지코드')\n",
        "temp_max = temp_max[['단지코드','총세대수', '아파트유형','상가유무','단지내주차면수', '등록차량수']].drop_duplicates('단지코드', keep='first').groupby(['상가유무', '아파트유형']).mean().reset_index()\n",
        "temp_max"
      ],
      "execution_count": null,
      "outputs": [
        {
          "output_type": "execute_result",
          "data": {
            "text/html": [
              "<div>\n",
              "<style scoped>\n",
              "    .dataframe tbody tr th:only-of-type {\n",
              "        vertical-align: middle;\n",
              "    }\n",
              "\n",
              "    .dataframe tbody tr th {\n",
              "        vertical-align: top;\n",
              "    }\n",
              "\n",
              "    .dataframe thead th {\n",
              "        text-align: right;\n",
              "    }\n",
              "</style>\n",
              "<table border=\"1\" class=\"dataframe\">\n",
              "  <thead>\n",
              "    <tr style=\"text-align: right;\">\n",
              "      <th></th>\n",
              "      <th>상가유무</th>\n",
              "      <th>아파트유형</th>\n",
              "      <th>총세대수</th>\n",
              "      <th>단지내주차면수</th>\n",
              "      <th>등록차량수</th>\n",
              "    </tr>\n",
              "  </thead>\n",
              "  <tbody>\n",
              "    <tr>\n",
              "      <th>0</th>\n",
              "      <td>상가없음</td>\n",
              "      <td>소형</td>\n",
              "      <td>698.032558</td>\n",
              "      <td>153.683363</td>\n",
              "      <td>153.825707</td>\n",
              "    </tr>\n",
              "    <tr>\n",
              "      <th>1</th>\n",
              "      <td>상가없음</td>\n",
              "      <td>중대형</td>\n",
              "      <td>737.178571</td>\n",
              "      <td>166.636627</td>\n",
              "      <td>208.720597</td>\n",
              "    </tr>\n",
              "    <tr>\n",
              "      <th>2</th>\n",
              "      <td>상가없음</td>\n",
              "      <td>초소형</td>\n",
              "      <td>690.448980</td>\n",
              "      <td>150.602163</td>\n",
              "      <td>130.573738</td>\n",
              "    </tr>\n",
              "    <tr>\n",
              "      <th>3</th>\n",
              "      <td>상가있음</td>\n",
              "      <td>소형</td>\n",
              "      <td>1910.000000</td>\n",
              "      <td>275.645039</td>\n",
              "      <td>87.020719</td>\n",
              "    </tr>\n",
              "    <tr>\n",
              "      <th>4</th>\n",
              "      <td>상가있음</td>\n",
              "      <td>초소형</td>\n",
              "      <td>952.774194</td>\n",
              "      <td>86.498912</td>\n",
              "      <td>57.786145</td>\n",
              "    </tr>\n",
              "  </tbody>\n",
              "</table>\n",
              "</div>"
            ],
            "text/plain": [
              "   상가유무 아파트유형         총세대수     단지내주차면수       등록차량수\n",
              "0  상가없음    소형   698.032558  153.683363  153.825707\n",
              "1  상가없음   중대형   737.178571  166.636627  208.720597\n",
              "2  상가없음   초소형   690.448980  150.602163  130.573738\n",
              "3  상가있음    소형  1910.000000  275.645039   87.020719\n",
              "4  상가있음   초소형   952.774194   86.498912   57.786145"
            ]
          },
          "metadata": {},
          "execution_count": 603
        }
      ]
    },
    {
      "cell_type": "markdown",
      "metadata": {
        "id": "vum-W8i4BXUh"
      },
      "source": [
        "- 최다 아파트유형 수를 기준으로 하였을때 좀더 뚜렷하게 구분되는 것을 파악할 수 있음\n",
        "\n",
        "=> 아파트유형 컬럼에 최다아파트유형 수 적용"
      ]
    },
    {
      "cell_type": "code",
      "metadata": {
        "id": "CmjSHs0IBnDV"
      },
      "source": [
        "raw_train_store_apartType = pd.merge(raw_train_store , mean_apart_type, on='단지코드')"
      ],
      "execution_count": null,
      "outputs": []
    },
    {
      "cell_type": "code",
      "metadata": {
        "colab": {
          "base_uri": "https://localhost:8080/",
          "height": 542
        },
        "id": "dVnwJ1nyNDeZ",
        "outputId": "1b434c90-cdb4-4d96-b239-ca89563f5b92"
      },
      "source": [
        "fig = go.Figure()\n",
        "fig = px.scatter(raw_train_store_apartType, x= '전용면적', y = '전용면적별세대수', color='아파트유형',\n",
        "                            color_discrete_sequence=px.colors.qualitative.Alphabet)\n",
        "fig.update_layout(title='상가유무에 따른 총세대수, 단지내주차면수 분포') #autosize =, width = 1000, height = 500)"
      ],
      "execution_count": null,
      "outputs": [
        {
          "output_type": "display_data",
          "data": {
            "text/html": [
              "<html>\n",
              "<head><meta charset=\"utf-8\" /></head>\n",
              "<body>\n",
              "    <div>\n",
              "            <script src=\"https://cdnjs.cloudflare.com/ajax/libs/mathjax/2.7.5/MathJax.js?config=TeX-AMS-MML_SVG\"></script><script type=\"text/javascript\">if (window.MathJax) {MathJax.Hub.Config({SVG: {font: \"STIX-Web\"}});}</script>\n",
              "                <script type=\"text/javascript\">window.PlotlyConfig = {MathJaxConfig: 'local'};</script>\n",
              "        <script src=\"https://cdn.plot.ly/plotly-latest.min.js\"></script>    \n",
              "            <div id=\"c6684484-e519-4271-8f99-18872c7860c6\" class=\"plotly-graph-div\" style=\"height:525px; width:100%;\"></div>\n",
              "            <script type=\"text/javascript\">\n",
              "                \n",
              "                    window.PLOTLYENV=window.PLOTLYENV || {};\n",
              "                    \n",
              "                if (document.getElementById(\"c6684484-e519-4271-8f99-18872c7860c6\")) {\n",
              "                    Plotly.newPlot(\n",
              "                        'c6684484-e519-4271-8f99-18872c7860c6',\n",
              "                        [{\"hoverlabel\": {\"namelength\": 0}, \"hovertemplate\": \"\\uc544\\ud30c\\ud2b8\\uc720\\ud615=\\ucd08\\uc18c\\ud615<br>\\uc804\\uc6a9\\uba74\\uc801=%{x}<br>\\uc804\\uc6a9\\uba74\\uc801\\ubcc4\\uc138\\ub300\\uc218=%{y}\", \"legendgroup\": \"\\uc544\\ud30c\\ud2b8\\uc720\\ud615=\\ucd08\\uc18c\\ud615\", \"marker\": {\"color\": \"#AA0DFE\", \"symbol\": \"circle\"}, \"mode\": \"markers\", \"name\": \"\\uc544\\ud30c\\ud2b8\\uc720\\ud615=\\ucd08\\uc18c\\ud615\", \"showlegend\": true, \"type\": \"scattergl\", \"x\": [39.72, 39.72, 51.93, 51.93, 51.93, 51.95, 51.95, 59.88, 33.48, 39.6, 39.6, 46.9, 46.9, 51.97, 51.97, 30.95, 30.99, 30.99, 41.11, 41.39, 41.58, 41.58, 46.36, 46.36, 51.24, 51.24, 36.55, 36.55, 46.9, 51.93, 36.55, 36.55, 36.62, 46.9, 46.9, 51.93, 39.62, 39.62, 39.62, 39.72, 46.73, 46.81, 46.81, 46.81, 46.95, 46.95, 51.78, 51.78, 51.95, 33.38, 39.46, 39.46, 39.46, 46.66, 46.66, 46.87, 46.87, 46.88, 46.88, 51.96, 51.96, 39.63, 39.63, 46.9, 46.9, 46.96, 59.89, 37.67, 42.9, 49.44, 26.37, 31.32, 39.72, 39.98, 41.55, 46.9, 26.37, 26.37, 31.32, 36.44, 45.09, 45.32, 26.34, 30.48, 36.02, 36.38, 45.88, 39.99, 49.95, 49.95, 26.37, 26.37, 26.37, 26.37, 31.32, 52.74, 52.74, 52.74, 39.69, 26.37, 31.32, 40.32, 39.3, 39.69, 26.37, 31.32, 40.32, 26.37, 31.32, 40.32, 26.37, 26.37, 26.37, 31.32, 52.74, 37.67, 49.69, 49.69, 26.37, 31.32, 39.74, 49.62, 49.62, 26.37, 26.37, 26.37, 31.32, 26.37, 31.32, 36.65, 46.9, 51.93, 36.65, 36.98, 41.55, 46.86, 46.98, 51.93, 36.0, 35.28, 35.28, 26.37, 31.32, 26.37, 26.37, 31.32, 26.37, 26.37, 31.32, 26.37, 31.32, 39.41, 39.43, 26.37, 26.37, 31.32, 31.32, 26.37, 26.37, 31.32, 26.37, 26.37, 31.32, 26.37, 26.37, 31.32, 31.32, 26.37, 31.32, 40.32, 39.0, 39.39, 26.37, 31.32, 26.34, 30.48, 37.67, 37.67, 26.37, 26.37, 26.37, 31.32, 36.8, 45.48, 45.98, 46.9, 51.93, 39.54, 46.79, 46.9, 51.93, 26.34, 30.48, 36.2, 45.32, 49.5, 49.5, 49.5, 49.5, 49.57, 49.57, 49.57, 49.57, 26.37, 31.32, 31.32, 26.34, 30.48, 39.0, 39.0, 39.39, 39.39, 36.63, 39.51, 46.18, 46.71, 39.3, 39.69, 26.37, 26.37, 31.32, 36.55, 39.57, 51.93, 26.37, 31.32, 31.32, 39.72, 46.9, 59.88, 26.37, 33.4, 33.4, 39.57, 39.57, 46.9, 46.9, 51.95, 36.62, 36.62, 46.9, 46.9, 51.93, 51.93, 36.7, 36.7, 36.73, 36.73, 36.74, 46.74, 46.83, 46.83, 36.57, 36.7, 36.7, 36.7, 36.73, 36.73, 36.74, 51.73, 36.55, 36.55, 46.9, 46.9, 36.52, 36.52, 36.8, 46.9, 46.9, 46.94, 51.72, 51.93, 35.1, 35.1, 43.23, 26.47, 33.96, 33.96, 33.96, 33.96, 36.96, 36.96, 36.99, 46.4, 46.4, 46.96, 46.96, 51.91, 51.91, 51.91, 51.92, 51.92, 51.92, 51.92, 33.35, 46.8, 46.9, 46.9, 51.72, 59.23, 59.73, 33.4, 36.55, 36.55, 36.55, 46.9, 46.9, 51.93, 36.52, 36.52, 36.52, 36.52, 46.54, 51.93, 36.92, 36.92, 39.89, 39.89, 46.89, 36.66, 36.66, 36.94, 46.03, 46.46, 46.46, 59.48, 59.69, 36.37, 36.37, 46.72, 46.72, 46.74, 36.37, 36.37, 51.44, 51.72, 51.79, 36.65, 36.65, 39.48, 46.9, 46.9, 46.9, 59.88, 33.8, 39.9, 39.99, 39.99, 46.7, 46.75, 59.61, 36.16, 36.16, 36.16, 36.38, 46.61, 46.61, 51.75, 26.95, 36.78, 36.87, 46.48, 46.75, 46.75, 46.75, 46.95, 51.94, 51.94, 46.69, 46.9, 46.9, 51.92, 51.93, 51.93, 39.82, 46.9, 51.93, 51.93, 39.82, 46.9, 51.93, 51.93, 39.49, 39.62, 39.63, 46.59, 46.7, 46.9, 59.89, 29.91, 36.62, 46.9, 51.93, 51.93, 36.63, 36.63, 39.51, 46.73, 46.9, 46.9, 51.93, 51.93, 39.74, 39.96, 39.96, 46.56, 46.56, 46.77, 39.72, 39.72, 39.77, 46.9, 46.9, 46.9, 46.9, 46.96, 51.93, 51.93, 59.61, 39.72, 39.72, 46.79, 46.9, 46.9, 46.9, 46.9, 39.65, 46.22, 46.22, 46.76, 51.86, 39.72, 39.85, 46.9, 59.88, 39.72, 39.85, 59.88, 46.59, 46.9, 46.9, 46.9, 51.89, 51.93, 51.93, 39.48, 39.72, 39.72, 46.9, 46.9, 46.9, 46.9, 51.93, 51.93, 39.72, 39.72, 46.9, 46.9, 51.93, 51.93, 36.19, 36.23, 36.3, 36.63, 36.63, 46.22, 46.22, 39.84, 39.84, 39.84, 49.51, 49.51, 46.9, 46.9, 46.9, 51.93, 51.93, 39.77, 39.77, 39.77, 49.51, 49.51, 36.45, 36.57, 36.72, 46.21, 46.21, 46.7, 39.72, 39.72, 41.55, 46.9, 46.9, 46.9, 46.9, 51.93, 51.93, 36.66, 36.66, 51.93, 51.93, 59.88, 36.22, 36.22, 39.15, 39.15, 46.47, 46.48, 46.48, 39.72, 39.72, 39.73, 46.9, 51.93, 51.93, 39.72, 39.72, 46.9, 46.9, 46.9, 46.9, 46.9, 51.93, 51.93, 39.48, 46.81, 46.81, 59.57, 36.62, 36.62, 36.62, 39.68, 39.68, 46.9, 46.9, 46.9, 46.9, 46.9, 36.63, 36.63, 46.19, 46.19, 39.48, 46.81, 51.86, 59.57, 39.72, 39.72, 39.98, 46.79, 46.9, 46.9, 46.9, 51.93, 51.93, 36.63, 36.63, 46.22, 46.22, 39.72, 39.72, 39.77, 46.9, 46.9, 46.9, 51.93, 51.93, 36.79, 36.79, 36.98, 36.98, 46.71, 46.71, 46.71, 51.64, 51.98, 59.63, 29.96, 36.8, 36.8, 46.06, 50.83, 50.83, 36.72, 39.49, 46.45, 46.96, 51.86, 59.99, 39.82, 39.57, 46.73, 46.9, 46.9, 51.88, 59.89, 36.97, 36.97, 46.74, 46.97, 46.97, 51.85, 51.96, 51.96, 36.98, 36.98, 46.86, 46.97, 46.97, 51.99, 51.99, 36.97, 36.97, 46.94, 46.97, 46.97, 51.87, 51.96, 51.96, 59.89, 36.98, 36.98, 36.98, 46.95, 46.95, 46.95, 51.99, 51.99, 59.93, 39.99, 39.99, 46.85, 46.98, 46.98, 46.98, 51.9, 51.96, 36.55, 36.55, 46.9, 46.9, 51.93, 36.63, 36.63, 36.63, 46.22, 46.22, 46.22, 39.59, 46.59, 46.9, 46.9, 46.9, 51.93, 51.93, 36.91, 36.91, 46.57, 46.57, 46.85, 46.97, 51.91, 51.91, 36.91, 46.57, 46.57, 46.57, 46.59, 59.88, 36.91, 46.57, 46.57, 46.57, 46.59, 51.91, 51.91, 36.91, 36.91, 46.57, 46.85, 46.97, 51.91, 51.91, 36.63, 36.63, 46.22, 46.22, 36.61, 36.61, 36.61, 46.29, 46.29, 46.29, 39.51, 39.84, 39.84, 46.71, 46.71, 46.71, 46.71, 46.9, 46.9, 46.9, 46.9, 51.93, 51.93, 39.72, 39.72, 39.72, 46.9, 46.9, 46.9, 46.9, 49.7, 49.7, 49.7, 49.7, 39.72, 39.72, 39.72, 46.75, 46.9, 46.9, 46.9, 46.9, 49.7, 49.7, 49.7, 49.7, 36.65, 46.9, 46.9, 46.9, 39.51, 39.51, 39.84, 39.84, 39.84, 39.84, 39.84, 46.18, 46.18, 46.71, 46.71, 46.71, 46.71, 36.55, 36.55, 36.55, 46.53, 46.9, 46.9, 46.9, 51.93, 36.66, 36.66, 51.77, 51.77, 59.88, 46.9, 46.9, 46.9, 46.9, 39.59, 39.72, 46.9, 46.9, 46.9, 59.88, 39.48, 46.96, 46.96, 51.86, 39.48, 46.96, 46.96, 51.86, 39.48, 46.96, 46.96, 51.86, 59.57, 36.91, 46.83, 46.83, 46.83, 36.92, 46.82, 46.82, 46.82, 46.82, 46.82, 46.82, 46.82, 46.83, 51.9, 59.88, 59.99, 36.57, 36.78, 45.53, 39.42, 39.51, 46.18, 36.65, 46.9, 46.9, 46.9, 46.9, 51.93, 51.93, 36.65, 46.9, 46.9, 46.9, 46.9, 51.93, 51.93, 36.65, 46.9, 46.9, 51.93, 51.93, 46.9, 46.9, 39.45, 39.63, 39.63, 46.7, 46.9, 46.9, 51.93, 51.93, 39.63, 39.63, 46.9, 46.9, 59.89, 59.89, 39.93, 39.93, 46.96, 46.96, 59.78, 59.84, 36.62, 36.62, 51.93, 36.62, 46.9, 46.9, 47.4, 51.93, 51.93, 36.65, 36.65, 46.91, 46.91, 51.93, 51.93, 39.63, 39.63, 46.9, 46.9, 51.93, 51.93, 59.89, 39.48, 39.72, 39.72, 46.89, 46.9, 46.9, 46.9, 39.48, 46.89, 46.9, 46.9, 46.9, 36.65, 36.65, 59.88, 36.62, 46.9, 51.93, 51.93, 36.72, 36.72, 51.92, 51.92, 53.26, 36.91, 36.93, 46.96, 46.96, 46.96, 51.97, 51.97, 59.94, 36.63, 36.63, 46.22, 46.22, 46.9, 46.9, 51.93, 51.93, 39.51, 39.84, 39.84, 46.18, 46.73, 46.73, 36.64, 46.89, 46.89, 51.91, 51.91, 39.59, 39.63, 39.63, 46.9, 46.9, 46.9, 51.93, 51.93, 33.7, 36.47, 36.57, 46.75, 46.98, 51.88, 33.7, 36.47, 36.57, 46.75, 46.98, 36.63, 36.63, 46.22, 46.22, 39.51, 39.84, 39.84, 46.11, 46.11, 46.11, 39.39, 39.5, 39.63, 49.37, 49.63, 49.7, 36.62, 36.62, 46.9, 46.9, 51.93, 51.93, 39.48, 46.9, 46.9, 46.9, 59.88, 33.95, 39.8, 39.8, 46.99, 46.99, 36.63, 46.71, 46.71, 39.49, 39.88, 39.88, 46.45, 46.96, 46.96, 51.86, 36.62, 41.99, 46.9, 46.9, 36.19, 36.23, 36.3, 36.63, 36.63, 46.22, 46.22, 39.56, 46.9, 46.9, 46.9, 59.89, 39.72, 39.72, 46.9, 46.9, 46.9, 51.93, 51.93, 39.72, 39.72, 46.9, 46.9, 51.93, 51.93, 36.65, 46.91, 46.91, 46.91, 46.91, 51.93, 51.93, 39.72, 39.72, 46.9, 46.9, 46.9, 51.93, 51.93, 39.66, 39.66, 45.79, 45.79, 59.86, 39.51, 39.84, 39.84, 46.18, 46.71, 46.71, 51.71, 59.99, 36.72, 39.48, 46.96, 46.96, 51.86, 59.57, 46.84, 46.84, 51.93, 51.93, 33.48, 33.48, 46.9, 46.9, 51.97, 51.97, 39.57, 39.57, 39.93, 46.7, 46.9, 51.93, 51.93, 36.5, 36.5, 36.9, 46.73, 46.9, 46.93, 36.16, 36.16, 36.16, 46.61, 46.61, 33.52, 39.73, 39.84, 39.84, 51.66, 33.82, 33.82, 33.91, 39.52, 39.8, 39.91, 39.91, 39.91, 39.91, 39.94, 46.69, 46.84, 46.97, 51.76, 51.83, 51.9, 33.48, 41.99, 46.9, 46.9, 51.97, 51.97, 39.25, 39.77, 39.96, 46.54, 46.85, 46.9, 46.9, 46.98, 33.82, 33.82, 33.82, 33.91, 39.52, 39.91, 39.91, 46.69, 46.69, 46.97, 51.76, 51.76, 51.83, 51.9, 36.52, 36.74, 36.74, 46.46, 46.46, 51.6, 29.95, 29.96, 36.81, 36.81, 46.73, 46.73, 46.92, 51.87, 51.87, 26.9, 36.8, 46.93, 46.93, 46.93, 55.88, 29.95, 29.96, 36.81, 36.81, 36.81, 46.73, 46.73, 46.92, 51.87, 51.87, 33.39, 39.57, 39.57, 46.9, 46.9, 33.55, 33.55, 36.74, 36.74, 46.43, 51.55, 26.91, 36.76, 36.93, 46.73, 46.83, 46.83, 46.94, 55.7, 55.74, 26.47, 26.88, 36.64, 36.64, 36.73, 46.42, 46.7, 46.94, 51.98, 59.4, 59.4, 36.74, 36.74, 46.43, 46.43, 46.43, 46.43, 36.64, 36.64, 46.49, 46.49, 51.59, 36.77, 36.77, 36.77, 46.46, 46.48, 39.57, 39.57, 39.93, 46.9, 46.9, 51.93, 51.93, 39.57, 39.57, 46.9, 46.9, 46.9, 51.35, 33.76, 51.73, 36.55, 36.55, 36.57, 46.25, 46.25, 46.9, 36.5, 36.5, 36.5, 36.5, 46.54, 51.93, 36.74, 46.46, 46.51, 51.6, 26.9, 36.8, 46.93, 46.93, 46.93, 55.88, 26.12, 36.55, 36.55, 36.64, 36.78, 46.49, 46.49, 46.61, 46.61, 51.75, 51.75, 33.51, 39.64, 39.86, 46.21, 46.98, 51.3, 39.72, 39.72, 39.83, 46.9, 46.9, 46.9, 46.9, 46.9, 46.9, 51.93, 51.93, 59.88, 23.32, 46.79, 46.91, 51.96, 51.99, 59.93, 29.33, 29.89, 36.84, 46.5, 23.93, 26.67, 36.75, 36.75, 36.75, 46.9, 46.9, 46.9, 51.6, 51.6, 51.6, 46.53, 46.53, 46.53, 46.53, 51.55, 51.55, 36.64, 36.64, 46.42, 46.42, 46.42, 51.25, 51.25, 36.05, 36.08, 36.62, 46.01, 46.01, 46.05, 46.71, 21.78, 29.43, 29.43, 26.99, 39.97, 39.97, 39.98, 46.98, 46.98, 51.98, 51.98, 51.98, 36.88, 36.88, 46.98, 51.69, 51.32, 59.88, 59.94, 26.68, 36.7, 36.7, 36.87, 46.76, 46.96, 26.68, 33.11, 29.72, 36.89, 36.89, 36.89, 46.79, 46.98, 46.98, 46.98, 26.12, 36.57, 36.57, 36.57, 51.93, 26.66, 26.66, 36.56, 36.56, 36.56, 46.51, 21.63, 21.63, 26.66, 26.66, 26.66, 36.8, 36.8, 46.92, 33.42, 33.42, 36.94, 46.34, 21.81, 21.81, 26.44, 29.85, 29.9, 46.93, 51.68, 33.48, 33.92, 41.64, 41.96, 51.93, 51.93, 36.8, 36.8, 46.52, 46.52, 51.79, 51.79, 36.78, 36.78, 46.87, 36.03, 36.03, 36.03, 36.03, 36.03, 36.03, 46.25, 23.76, 23.76, 41.83, 41.83, 41.94, 41.97, 46.9, 46.9, 46.95, 46.95, 51.93, 51.93, 29.85, 36.93, 36.93, 46.69, 26.69, 26.69, 29.72, 29.72, 36.86, 36.86, 36.95, 46.66, 46.94, 36.64, 46.42, 46.42, 46.42, 51.85, 51.85, 51.85, 26.97, 36.73, 36.73, 46.42, 46.42, 46.42, 46.7, 46.7, 46.7, 51.5, 51.5, 29.79, 29.79, 36.83, 36.83, 46.61, 36.81, 36.81, 36.81, 46.9, 46.9, 51.95, 29.99, 36.84, 46.76, 29.95, 36.9, 36.98, 36.98, 46.94, 46.96, 51.7, 59.94, 29.66, 36.59, 46.45, 36.83, 36.83, 46.84, 59.72, 36.85, 36.85, 36.93, 36.93, 46.78, 46.78, 21.97, 26.9, 26.9, 26.9, 26.9, 26.98, 36.65, 36.94, 46.79, 46.79, 51.88, 36.64, 46.42, 46.42, 46.42, 51.57, 51.57, 29.68, 36.47, 46.73, 51.29, 36.79, 46.42, 51.5, 29.91, 36.71, 46.73, 51.51, 33.83, 39.56, 46.63, 46.63, 46.95, 33.83, 39.56, 46.63, 46.95, 51.96, 51.96, 36.77, 46.78, 26.99, 36.98, 46.96, 29.79, 29.81, 36.42, 36.48, 46.36, 26.89, 36.72, 46.4, 51.76, 39.93, 46.76, 49.81, 36.89, 36.89, 36.98, 36.98, 46.46, 46.46, 46.74, 46.74, 26.7, 26.7, 26.7, 33.91, 33.91, 29.99, 29.99, 36.84, 46.76, 46.76, 26.86, 36.68, 46.97, 29.91, 29.91, 36.7, 36.7, 46.94, 26.81, 29.13, 29.8, 36.96, 46.89, 26.92, 26.92, 33.97, 29.71, 29.71, 36.61, 46.41, 33.38, 39.46, 46.17, 46.8, 29.62, 29.72, 29.91, 36.02, 36.06, 36.07, 36.73, 46.39, 46.71, 46.76, 46.76, 46.91, 55.61, 21.72, 26.79, 26.81, 29.62, 29.72, 29.91, 36.53, 46.93, 26.79, 26.79, 36.92, 46.96, 24.95, 24.95, 21.97, 33.97, 46.96, 26.91, 26.92, 33.8, 33.8, 46.99, 26.9, 33.92, 46.94, 26.85, 26.85, 29.92, 29.92, 29.92, 36.96, 36.96, 36.96, 46.49, 46.49, 46.77, 21.95, 26.85, 26.85, 24.76, 24.77, 37.59, 46.75, 51.72, 59.45, 26.99, 37.98, 46.85, 21.56, 21.56, 21.56, 26.62, 36.74, 26.8, 33.88, 46.93, 46.93, 24.72, 24.79, 26.83, 37.7, 46.94, 26.04, 26.04, 26.07, 26.07, 26.24, 33.55, 42.57, 42.65, 43.07, 24.97, 36.9, 46.98, 23.86, 23.89, 26.97, 33.97, 43.9, 24.86, 24.96, 26.8, 26.92, 36.69, 46.86, 23.48, 39.9, 46.81, 59.95, 26.83, 26.9, 37.7, 46.94, 24.72, 24.79, 26.98, 26.98, 37.64, 45.71, 24.98, 24.98, 24.98, 16.99, 16.99, 26.54, 26.54, 26.54, 26.54, 26.54, 26.58, 36.81, 36.81, 36.93, 44.78, 44.96, 31.65, 24.74, 21.54, 21.54, 21.54, 21.9, 26.27, 26.37, 36.78, 36.89, 26.73, 26.73, 26.83, 26.83, 37.43, 37.43, 37.6, 37.6, 46.99, 16.91, 26.9, 26.9, 26.9, 36.91, 21.43, 23.54, 23.54, 26.6, 26.6, 26.6, 26.81, 36.17, 16.84, 29.76, 29.76, 29.76, 29.76, 29.76, 29.76, 36.85, 36.85, 36.85, 36.85, 44.83, 21.86, 21.86, 21.86, 36.92, 16.85, 16.85, 26.65, 26.65, 26.68, 26.68, 26.68, 36.46, 36.46, 36.46, 26.98, 33.09, 46.65, 24.43, 24.71, 26.94, 33.94, 46.95, 16.75, 26.24, 26.24, 26.4, 26.49, 36.14, 36.14, 36.3, 36.3, 16.67, 26.11, 26.11, 26.26, 26.26, 26.26, 36.16, 36.16, 36.16, 36.16, 26.82, 26.83, 37.01, 37.17, 46.16, 24.74, 24.75, 29.26, 29.26, 46.27, 16.8, 26.53, 36.78, 16.97, 26.72, 26.72, 26.72, 36.78, 36.4, 36.47, 46.65, 29.92, 29.92, 37.29, 46.69, 21.96, 21.96, 21.97, 21.98, 21.99, 26.85, 26.85, 26.86, 26.9, 26.9, 26.9, 36.71, 36.71, 36.9, 16.87, 26.95, 26.95, 36.63, 36.63, 16.71, 16.71, 26.95, 26.95, 26.95, 36.99, 36.99, 16.34, 16.34, 36.79, 16.9, 26.78, 26.79, 36.65, 36.92, 16.92, 16.92, 26.61, 26.61, 36.64, 36.64, 16.85, 26.64, 26.64, 36.86, 36.86, 16.02, 16.27, 16.29, 26.17, 26.17, 26.19, 36.03, 36.03, 36.05, 16.45, 26.52, 36.37, 26.44, 26.44, 36.72, 46.81, 21.88, 21.88, 39.78, 16.8, 26.97, 26.97, 26.97, 36.72, 16.76, 21.84, 21.84, 21.84, 26.7, 44.97, 16.89, 16.99, 26.26, 26.37, 36.57, 16.77, 16.77, 23.8, 23.92, 23.92, 30.1, 30.85, 36.87, 16.64, 16.64, 26.49, 26.51, 26.51, 26.62, 36.53, 36.53, 26.96, 26.96, 37.04, 46.25, 27.82, 27.82, 37.77, 46.7, 29.17, 29.34, 37.43, 46.51, 26.37, 26.54, 26.58, 26.58, 37.78, 37.78, 37.78, 37.78, 46.83, 46.97, 16.95, 16.95, 21.98, 21.98, 26.66, 26.66, 36.77, 36.77, 36.77, 44.56, 44.56, 44.56, 16.64, 26.52, 26.52, 26.68, 36.72, 29.53, 29.53, 37.44, 37.44, 46.81, 16.8, 26.42, 36.63, 24.83], \"xaxis\": \"x\", \"y\": [134, 15, 385, 15, 41, 89, 135, 86, 276, 60, 20, 38, 19, 106, 26, 288, 68, 34, 148, 74, 70, 70, 170, 170, 62, 62, 228, 26, 196, 246, 230, 28, 13, 194, 15, 86, 275, 126, 168, 219, 98, 144, 76, 76, 75, 75, 232, 83, 75, 190, 106, 43, 15, 38, 15, 46, 23, 78, 30, 20, 20, 94, 74, 97, 46, 10, 40, 89, 354, 180, 298, 298, 60, 89, 225, 143, 294, 149, 149, 557, 20, 298, 360, 192, 90, 237, 267, 268, 119, 237, 890, 141, 20, 20, 298, 9, 4, 4, 960, 588, 450, 450, 204, 420, 588, 180, 180, 588, 90, 90, 1865, 10, 10, 478, 26, 89, 267, 149, 149, 149, 89, 178, 118, 191, 358, 298, 149, 298, 149, 258, 277, 326, 200, 130, 252, 44, 88, 91, 40, 198, 78, 478, 99, 358, 294, 447, 596, 119, 745, 1490, 447, 357, 445, 382, 588, 239, 298, 588, 149, 239, 1074, 596, 298, 358, 1192, 239, 596, 1470, 120, 120, 210, 180, 298, 149, 200, 200, 89, 298, 239, 149, 239, 239, 435, 200, 58, 566, 187, 88, 88, 180, 142, 360, 336, 252, 168, 136, 61, 55, 110, 84, 35, 39, 70, 239, 239, 149, 288, 192, 60, 120, 156, 120, 195, 36, 36, 71, 240, 264, 596, 239, 149, 120, 120, 65, 298, 239, 149, 65, 104, 44, 468, 128, 174, 220, 280, 252, 90, 220, 414, 108, 45, 90, 104, 39, 174, 84, 120, 40, 80, 62, 54, 216, 22, 94, 34, 12, 150, 51, 102, 310, 86, 42, 90, 43, 42, 134, 88, 22, 96, 46, 24, 22, 40, 8, 24, 188, 202, 82, 40, 12, 259, 87, 24, 60, 15, 176, 45, 12, 117, 30, 72, 14, 24, 14, 516, 120, 119, 41, 116, 71, 13, 288, 120, 60, 60, 28, 178, 136, 216, 72, 124, 42, 84, 140, 139, 43, 203, 73, 174, 340, 56, 79, 40, 245, 95, 88, 18, 684, 25, 262, 87, 174, 369, 20, 152, 45, 90, 240, 30, 180, 135, 496, 69, 150, 184, 121, 122, 124, 115, 244, 88, 75, 15, 116, 15, 100, 52, 120, 186, 168, 276, 122, 16, 98, 30, 73, 100, 48, 44, 156, 24, 44, 198, 35, 176, 180, 450, 90, 134, 135, 207, 45, 82, 30, 60, 58, 56, 116, 56, 88, 131, 132, 40, 18, 90, 60, 86, 86, 72, 48, 120, 24, 178, 254, 26, 165, 289, 172, 172, 76, 174, 189, 25, 90, 45, 33, 124, 78, 168, 105, 15, 12, 45, 27, 26, 40, 291, 510, 70, 177, 260, 58, 56, 96, 145, 42, 42, 300, 61, 432, 2, 56, 22, 195, 85, 180, 176, 88, 165, 15, 78, 132, 135, 27, 115, 13, 48, 95, 70, 14, 52, 50, 26, 90, 30, 159, 85, 398, 87, 13, 324, 39, 208, 15, 132, 313, 43, 419, 64, 20, 258, 54, 27, 27, 123, 84, 27, 24, 70, 28, 98, 90, 135, 52, 26, 60, 12, 90, 30, 236, 58, 180, 90, 36, 64, 33, 97, 60, 30, 255, 90, 128, 129, 120, 240, 133, 133, 225, 223, 120, 75, 150, 360, 60, 120, 40, 80, 216, 217, 69, 51, 140, 28, 63, 50, 26, 63, 50, 268, 26, 372, 39, 177, 180, 260, 401, 96, 48, 135, 24, 72, 48, 135, 90, 60, 200, 43, 204, 28, 122, 26, 238, 276, 52, 180, 84, 24, 45, 12, 170, 39, 123, 61, 64, 102, 98, 67, 82, 156, 48, 82, 88, 40, 60, 129, 129, 30, 162, 120, 512, 180, 22, 100, 26, 90, 74, 209, 16, 30, 116, 74, 15, 44, 30, 196, 6, 44, 52, 112, 42, 6, 224, 54, 90, 100, 100, 15, 88, 13, 78, 114, 15, 220, 172, 116, 56, 130, 100, 82, 174, 72, 51, 87, 111, 87, 102, 91, 255, 69, 160, 15, 72, 161, 51, 5, 292, 31, 10, 87, 30, 87, 60, 29, 60, 30, 212, 95, 253, 52, 72, 60, 84, 54, 114, 114, 116, 61, 82, 128, 112, 112, 59, 35, 81, 45, 26, 159, 28, 86, 60, 30, 88, 26, 208, 82, 104, 102, 401, 141, 12, 603, 91, 12, 68, 161, 46, 32, 16, 44, 23, 72, 42, 6, 3, 126, 81, 116, 58, 174, 162, 28, 13, 2, 176, 28, 14, 2, 86, 41, 127, 10, 218, 41, 18, 3, 279, 37, 231, 33, 204, 54, 20, 46, 159, 43, 406, 55, 29, 134, 15, 159, 43, 196, 30, 198, 30, 13, 13, 78, 27, 172, 27, 25, 176, 72, 20, 117, 78, 68, 89, 62, 155, 83, 129, 123, 179, 108, 31, 142, 153, 52, 104, 252, 279, 94, 180, 263, 242, 82, 152, 302, 120, 238, 88, 130, 125, 225, 32, 42, 16, 14, 76, 6, 14, 147, 192, 29, 58, 347, 108, 238, 136, 113, 112, 135, 45, 171, 81, 90, 184, 36, 238, 74, 148, 102, 140, 134, 30, 133, 45, 85, 100, 20, 241, 166, 128, 105, 15, 85, 87, 15, 225, 60, 84, 12, 91, 45, 16, 32, 40, 13, 30, 15, 156, 53, 129, 45, 58, 150, 73, 148, 15, 76, 140, 120, 60, 170, 82, 75, 15, 103, 16, 52, 26, 78, 52, 130, 129, 54, 36, 44, 298, 118, 129, 129, 44, 280, 130, 129, 156, 52, 148, 90, 86, 87, 20, 86, 74, 204, 89, 14, 60, 95, 106, 9, 49, 118, 10, 59, 225, 45, 180, 75, 172, 68, 164, 41, 126, 91, 39, 126, 88, 44, 118, 80, 96, 57, 27, 56, 15, 15, 45, 15, 42, 14, 75, 150, 130, 76, 75, 315, 110, 116, 97, 220, 58, 155, 177, 68, 154, 67, 175, 34, 19, 136, 7, 11, 28, 25, 56, 28, 26, 49, 453, 89, 45, 90, 117, 78, 180, 45, 30, 135, 204, 180, 130, 42, 90, 72, 486, 149, 123, 127, 135, 60, 129, 45, 30, 286, 120, 120, 120, 144, 43, 46, 23, 227, 53, 200, 39, 80, 76, 36, 84, 56, 38, 25, 167, 39, 75, 26, 39, 177, 80, 222, 114, 150, 30, 109, 47, 24, 74, 37, 70, 14, 314, 67, 84, 15, 87, 150, 30, 174, 84, 120, 60, 60, 90, 60, 30, 88, 60, 30, 240, 120, 276, 108, 171, 282, 108, 90, 114, 89, 149, 79, 159, 73, 78, 39, 60, 58, 318, 26, 75, 36, 36, 60, 15, 232, 296, 24, 80, 116, 113, 205, 87, 22, 118, 24, 192, 144, 144, 24, 144, 262, 36, 241, 118, 7, 420, 11, 40, 9, 35, 154, 34, 72, 70, 12, 147, 172, 127, 48, 24, 48, 24, 299, 90, 201, 90, 116, 261, 85, 73, 396, 47, 19, 123, 246, 305, 37, 58, 30, 150, 116, 30, 15, 75, 12, 258, 28, 56, 24, 84, 75, 85, 295, 40, 16, 16, 75, 146, 58, 192, 339, 92, 86, 172, 136, 44, 65, 201, 20, 18, 20, 20, 44, 106, 51, 180, 43, 129, 62, 90, 88, 294, 68, 140, 234, 113, 141, 23, 292, 59, 133, 20, 60, 56, 56, 108, 132, 108, 60, 210, 72, 140, 64, 122, 50, 78, 308, 24, 24, 153, 24, 20, 277, 57, 60, 45, 60, 52, 18, 80, 10, 40, 228, 60, 46, 60, 12, 174, 23, 240, 112, 60, 60, 108, 120, 96, 11, 33, 17, 140, 36, 70, 22, 196, 84, 129, 45, 90, 112, 156, 90, 30, 30, 176, 332, 144, 62, 120, 136, 160, 144, 26, 207, 33, 69, 63, 92, 38, 128, 32, 99, 66, 99, 66, 38, 165, 30, 10, 179, 112, 30, 150, 30, 15, 60, 240, 90, 60, 51, 4, 69, 24, 80, 142, 24, 114, 178, 144, 34, 66, 80, 90, 45, 39, 39, 203, 65, 26, 13, 31, 128, 35, 6, 19, 72, 166, 114, 18, 228, 28, 28, 97, 25, 448, 84, 128, 52, 64, 72, 62, 94, 36, 150, 510, 30, 90, 90, 15, 30, 110, 12, 120, 360, 156, 79, 126, 49, 75, 26, 140, 14, 43, 192, 25, 70, 30, 154, 136, 54, 315, 40, 160, 160, 80, 96, 40, 52, 26, 160, 22, 4, 246, 6, 26, 110, 28, 6, 11, 33, 12, 250, 18, 36, 120, 16, 132, 72, 64, 8, 188, 280, 124, 224, 62, 240, 135, 90, 45, 135, 45, 210, 20, 58, 29, 25, 26, 58, 4, 8, 165, 9, 47, 3, 274, 18, 156, 232, 18, 98, 28, 108, 92, 14, 14, 100, 50, 80, 38, 124, 762, 32, 268, 140, 40, 120, 176, 78, 26, 342, 94, 286, 438, 70, 32, 36, 130, 24, 22, 34, 188, 94, 34, 17, 17, 192, 96, 94, 100, 20, 48, 152, 160, 32, 160, 276, 180, 36, 72, 214, 72, 164, 104, 164, 66, 36, 102, 320, 178, 240, 202, 112, 180, 360, 420, 289, 87, 322, 176, 24, 70, 604, 24, 72, 72, 60, 60, 36, 72, 12, 112, 180, 40, 300, 20, 120, 262, 53, 76, 44, 20, 28, 216, 540, 168, 104, 212, 78, 36, 269, 232, 268, 166, 174, 88, 138, 30, 22, 408, 366, 96, 44, 146, 45, 272, 200, 140, 110, 104, 48, 12, 28, 120, 60, 296, 296, 228, 164, 450, 116, 58, 18, 308, 536, 20, 120, 20, 138, 6, 90, 14, 144, 4, 128, 168, 12, 280, 168, 12, 324, 580, 556, 128, 10, 128, 12, 60, 58, 36, 272, 574, 244, 96, 24, 220, 628, 54, 620, 382, 260, 332, 44, 158, 43, 310, 48, 104, 23, 193, 33, 24, 6, 20, 14, 54, 44, 238, 30, 146, 15, 109, 88, 176, 52, 138, 12, 138, 172, 96, 24, 196, 160, 200, 18, 192, 170, 12, 148, 298, 252, 388, 150, 88, 90, 72, 340, 375, 144, 45, 58, 141, 515, 86, 300, 164, 186, 288, 368, 133, 19, 64, 176, 128, 64, 85, 57, 498, 76, 372, 616, 728, 184, 168, 472, 104, 590, 464, 304, 49, 38, 98, 15, 15, 72, 2, 2, 4, 430, 408, 368, 176, 168, 480, 600, 304, 100, 134, 232, 30, 52, 52, 148, 96, 264, 46, 224, 36, 330, 110, 122, 18, 230, 18, 156, 130, 54, 18, 52, 116, 120, 8, 90, 18, 238, 18, 24, 72, 120, 18, 48, 12, 210, 80, 22, 97, 33, 234, 344, 40, 172, 24, 168, 726, 6, 114, 56, 508, 8, 88, 660, 156, 136, 72, 24, 92, 160, 16, 8, 94, 22, 36, 24, 90, 188, 48, 24, 42, 118, 32, 72, 96, 4, 128, 4, 134, 548, 54, 48, 370, 216, 12, 58, 58, 28, 12, 28, 120, 68, 12, 204, 212, 120, 44, 240, 108, 138, 60, 96, 10, 4, 3, 22, 99, 17, 16, 3, 32, 3, 3, 16, 6, 6, 8, 8, 9, 9, 216, 12, 218, 8, 92, 266, 30, 134, 30, 96, 98, 56, 126, 89, 19, 8, 12, 72, 216, 16, 68, 108, 12, 20, 38, 144, 144, 188, 36, 24, 48, 48, 382, 8, 40, 12, 24, 26, 376, 140, 96, 24, 132, 18, 67, 5, 41, 12, 21, 60, 4, 9, 3, 14, 80, 12, 28, 70, 10, 39, 385, 38, 388, 341, 29, 96, 204, 30, 148, 100, 120, 44, 340, 110, 120, 16, 290, 60, 100, 336, 180, 524, 76, 100, 178, 110, 71, 5, 24, 76, 12, 28, 24, 60, 90, 14, 14, 6, 34, 106, 154, 26, 88, 16, 224, 110, 16, 8, 26, 24, 12, 8, 92, 182, 224, 52, 58, 10, 88, 256, 128, 268, 72, 390, 216, 88, 24, 130, 120, 238, 38, 220, 188, 219, 13, 199, 149, 313, 26, 179, 20, 250, 350, 12, 88, 40, 404, 396, 44, 36, 228, 296, 44, 366, 246, 12, 14, 10, 18, 36, 132, 24, 154, 2, 180, 20, 5, 15, 90], \"yaxis\": \"y\"}, {\"hoverlabel\": {\"namelength\": 0}, \"hovertemplate\": \"\\uc544\\ud30c\\ud2b8\\uc720\\ud615=\\uc18c\\ud615<br>\\uc804\\uc6a9\\uba74\\uc801=%{x}<br>\\uc804\\uc6a9\\uba74\\uc801\\ubcc4\\uc138\\ub300\\uc218=%{y}\", \"legendgroup\": \"\\uc544\\ud30c\\ud2b8\\uc720\\ud615=\\uc18c\\ud615\", \"marker\": {\"color\": \"#3283FE\", \"symbol\": \"circle\"}, \"mode\": \"markers\", \"name\": \"\\uc544\\ud30c\\ud2b8\\uc720\\ud615=\\uc18c\\ud615\", \"showlegend\": true, \"type\": \"scattergl\", \"x\": [39.72, 39.72, 51.93, 51.93, 59.88, 59.88, 51.88, 51.88, 51.93, 51.88, 51.88, 51.88, 51.93, 51.49, 51.95, 59.64, 46.9, 59.88, 51.51, 51.59, 51.9, 59.91, 59.94, 59.99, 51.86, 51.91, 51.96, 59.57, 39.65, 46.47, 51.84, 51.92, 59.99, 59.99, 51.88, 59.63, 51.49, 51.95, 59.64, 51.77, 51.86, 59.57, 59.99, 51.49, 51.95, 59.64, 46.9, 51.93, 59.88, 51.86, 59.57, 51.66, 59.99, 51.49, 51.95, 59.64, 59.64, 51.78, 51.78, 59.85, 59.85, 59.89, 59.92, 59.92, 59.95, 51.86, 51.92, 51.96, 59.99, 51.77, 51.77, 51.93, 51.93, 59.88, 46.9, 46.9, 46.9, 51.93, 51.93, 59.88, 51.86, 51.86, 59.83, 59.88, 59.88, 51.86, 51.86, 59.88, 59.88, 51.86, 51.91, 51.96, 59.99, 51.86, 59.57, 51.67, 51.86, 59.99, 51.63, 51.63, 59.65, 46.93, 51.6, 51.75, 59.96, 51.86, 59.88, 51.81, 51.86, 59.29, 59.57, 51.85, 51.86, 51.95, 59.99, 51.93, 51.93, 59.88, 51.77, 51.77, 51.77, 51.93, 51.93, 59.47, 46.9, 46.9, 51.93, 51.93, 59.88, 46.61, 46.61, 51.86, 59.29, 59.57, 51.86, 59.58, 46.9, 46.9, 46.91, 46.91, 51.93, 51.93, 59.88, 51.86, 51.9, 51.97, 51.97, 59.94, 51.93, 51.93, 59.88, 51.93, 51.93, 59.88, 51.61, 51.86, 51.87, 51.99, 59.57, 51.92, 51.99, 59.57, 46.9, 46.9, 46.9, 59.88, 51.93, 51.93, 59.88, 51.88, 59.57, 46.9, 46.9, 51.93, 51.93, 59.88, 51.86, 59.57, 51.86, 59.57, 46.79, 46.9, 46.9, 46.9, 59.29, 59.88, 51.86, 51.88, 59.57, 59.57, 46.85, 46.9, 46.9, 46.9, 51.26, 51.26, 51.82, 59.64, 59.69, 39.62, 39.62, 46.96, 51.81, 51.9, 59.59, 59.87, 59.87, 59.92, 59.94, 46.72, 51.56, 59.94, 51.59, 59.97, 59.95, 59.99, 74.9, 84.98, 51.87, 59.67, 59.89, 59.89, 59.95, 74.94, 74.94, 74.94, 84.94, 84.94, 84.96, 84.97, 51.99, 59.91, 59.92, 51.99, 59.91, 59.92, 51.79, 51.95, 59.68, 59.68, 59.72, 59.8, 59.89, 59.98, 66.85, 66.94, 66.94, 66.96, 74.73, 74.98, 59.97, 59.98, 59.98, 59.98, 51.98, 59.91, 59.93, 57.53, 57.87, 59.91, 59.91, 59.91, 59.92, 59.92, 59.92, 59.93, 59.97, 59.97, 59.72, 59.92, 51.05, 51.05, 51.08, 59.07, 59.07, 49.76, 49.76, 49.76, 59.92, 59.93, 59.98, 59.98, 59.98, 59.99, 59.99, 74.6, 74.7, 74.97, 74.97, 84.67, 84.67, 84.96, 59.87, 59.91, 59.94, 59.94, 59.94, 74.92, 74.93, 84.88, 84.94, 51.76, 59.31, 59.36, 59.47, 59.63, 59.64, 59.66, 46.61, 49.2, 51.08, 51.73, 51.96, 54.95], \"xaxis\": \"x\", \"y\": [120, 120, 207, 96, 160, 52, 517, 179, 58, 120, 60, 20, 40, 178, 360, 150, 313, 92, 46, 35, 589, 118, 46, 46, 98, 83, 157, 267, 68, 69, 63, 251, 171, 324, 886, 464, 220, 454, 166, 223, 258, 446, 606, 304, 600, 240, 198, 90, 180, 215, 92, 180, 110, 234, 480, 151, 36, 135, 22, 102, 178, 82, 157, 224, 44, 422, 31, 66, 116, 264, 172, 86, 16, 284, 221, 75, 150, 377, 66, 240, 141, 9, 30, 141, 9, 81, 9, 287, 9, 178, 84, 167, 213, 194, 108, 36, 566, 470, 160, 139, 76, 125, 145, 140, 443, 233, 108, 30, 176, 15, 195, 58, 354, 26, 224, 86, 148, 228, 250, 25, 147, 24, 144, 300, 43, 28, 54, 112, 257, 232, 112, 442, 90, 120, 220, 330, 141, 95, 63, 31, 29, 19, 379, 24, 24, 56, 83, 56, 116, 58, 200, 100, 50, 180, 29, 148, 15, 86, 233, 39, 78, 168, 29, 87, 58, 82, 50, 104, 160, 246, 262, 164, 30, 88, 132, 144, 288, 84, 322, 112, 30, 244, 115, 30, 30, 89, 388, 270, 120, 40, 80, 416, 130, 14, 156, 48, 160, 82, 30, 44, 22, 89, 15, 103, 142, 34, 262, 28, 136, 410, 488, 230, 116, 260, 200, 82, 107, 78, 150, 70, 224, 56, 32, 317, 137, 22, 164, 19, 26, 26, 106, 13, 223, 146, 32, 170, 350, 258, 33, 111, 31, 343, 177, 141, 100, 20, 20, 488, 94, 300, 174, 532, 174, 44, 572, 266, 84, 32, 2, 4, 410, 146, 625, 27, 16, 18, 2, 156, 59, 469, 47, 49, 98, 324, 24, 110, 100, 20, 20, 59, 266, 232, 39, 78, 20, 20, 20, 40, 20, 20, 20, 40, 456, 34, 58, 28, 30, 156, 78, 160, 80, 250, 24, 99, 4, 672, 4, 24, 19, 19, 34, 34, 114, 19], \"yaxis\": \"y\"}, {\"hoverlabel\": {\"namelength\": 0}, \"hovertemplate\": \"\\uc544\\ud30c\\ud2b8\\uc720\\ud615=\\uc911\\ub300\\ud615<br>\\uc804\\uc6a9\\uba74\\uc801=%{x}<br>\\uc804\\uc6a9\\uba74\\uc801\\ubcc4\\uc138\\ub300\\uc218=%{y}\", \"legendgroup\": \"\\uc544\\ud30c\\ud2b8\\uc720\\ud615=\\uc911\\ub300\\ud615\", \"marker\": {\"color\": \"#85660D\", \"symbol\": \"circle\"}, \"mode\": \"markers\", \"name\": \"\\uc544\\ud30c\\ud2b8\\uc720\\ud615=\\uc911\\ub300\\ud615\", \"showlegend\": true, \"type\": \"scattergl\", \"x\": [51.89, 59.93, 74.97, 84.95, 84.97, 84.99, 75.56, 84.64, 84.97, 84.98, 74.42, 74.92, 84.53, 84.86, 59.96, 74.89, 74.89, 74.97, 74.97, 84.83, 84.92, 84.92, 84.92, 84.96, 59.89, 59.9, 74.91, 84.72, 84.96, 74.91, 84.94, 84.96, 51.96, 51.99, 59.93, 74.8, 84.05, 84.05, 84.39, 84.39, 75.84, 75.99, 84.95, 74.97, 84.95, 84.96, 84.98, 67.86, 67.86, 67.88, 67.88, 74.93, 74.93, 84.83, 59.91, 59.91, 74.89, 84.92, 84.97, 59.39, 59.87, 59.87, 59.96, 65.39, 72.82, 74.55, 79.61, 79.74, 79.93, 84.32, 84.51, 84.58, 84.59, 84.82, 84.82, 84.86, 84.89, 84.91, 84.92, 84.93, 84.93, 84.93, 74.85, 84.97, 84.97, 84.98, 74.72, 84.95, 84.94, 84.94, 84.96, 84.99, 74.97, 74.97, 84.78, 84.78, 59.95, 59.96, 74.93, 84.9, 84.98, 74.55, 74.65, 74.8, 84.74, 84.9, 84.99, 74.55, 74.65, 74.8, 84.74, 84.9, 84.99, 74.84, 74.9, 74.9, 84.88, 74.96, 84.97, 84.98, 74.8, 84.86, 84.91, 84.98, 84.97, 84.97, 84.98, 84.98], \"xaxis\": \"x\", \"y\": [35, 43, 41, 39, 42, 100, 6, 4, 13, 3, 86, 75, 415, 79, 150, 41, 8, 102, 65, 34, 20, 35, 5, 17, 53, 197, 271, 146, 239, 192, 93, 634, 63, 41, 315, 208, 20, 4, 314, 4, 48, 54, 182, 80, 124, 289, 82, 38, 87, 38, 87, 116, 257, 168, 60, 30, 116, 39, 99, 2, 48, 241, 3, 24, 64, 267, 7, 35, 3, 22, 8, 2, 10, 6, 23, 163, 3, 126, 87, 2, 6, 12, 128, 74, 48, 382, 48, 150, 64, 72, 16, 252, 104, 72, 153, 34, 137, 557, 105, 60, 8, 112, 58, 58, 72, 38, 188, 200, 103, 105, 94, 155, 290, 80, 656, 20, 152, 146, 81, 215, 188, 395, 155, 80, 305, 25, 49, 25], \"yaxis\": \"y\"}],\n",
              "                        {\"legend\": {\"tracegroupgap\": 0}, \"margin\": {\"t\": 60}, \"template\": {\"data\": {\"bar\": [{\"error_x\": {\"color\": \"#2a3f5f\"}, \"error_y\": {\"color\": \"#2a3f5f\"}, \"marker\": {\"line\": {\"color\": \"#E5ECF6\", \"width\": 0.5}}, \"type\": \"bar\"}], \"barpolar\": [{\"marker\": {\"line\": {\"color\": \"#E5ECF6\", \"width\": 0.5}}, \"type\": \"barpolar\"}], \"carpet\": [{\"aaxis\": {\"endlinecolor\": \"#2a3f5f\", \"gridcolor\": \"white\", \"linecolor\": \"white\", \"minorgridcolor\": \"white\", \"startlinecolor\": \"#2a3f5f\"}, \"baxis\": {\"endlinecolor\": \"#2a3f5f\", \"gridcolor\": \"white\", \"linecolor\": \"white\", \"minorgridcolor\": \"white\", \"startlinecolor\": \"#2a3f5f\"}, \"type\": \"carpet\"}], \"choropleth\": [{\"colorbar\": {\"outlinewidth\": 0, \"ticks\": \"\"}, \"type\": \"choropleth\"}], \"contour\": [{\"colorbar\": {\"outlinewidth\": 0, \"ticks\": \"\"}, \"colorscale\": [[0.0, \"#0d0887\"], [0.1111111111111111, \"#46039f\"], [0.2222222222222222, \"#7201a8\"], [0.3333333333333333, \"#9c179e\"], [0.4444444444444444, \"#bd3786\"], [0.5555555555555556, \"#d8576b\"], [0.6666666666666666, \"#ed7953\"], [0.7777777777777778, \"#fb9f3a\"], [0.8888888888888888, \"#fdca26\"], [1.0, \"#f0f921\"]], \"type\": \"contour\"}], \"contourcarpet\": [{\"colorbar\": {\"outlinewidth\": 0, \"ticks\": \"\"}, \"type\": \"contourcarpet\"}], \"heatmap\": [{\"colorbar\": {\"outlinewidth\": 0, \"ticks\": \"\"}, \"colorscale\": [[0.0, \"#0d0887\"], [0.1111111111111111, \"#46039f\"], [0.2222222222222222, \"#7201a8\"], [0.3333333333333333, \"#9c179e\"], [0.4444444444444444, \"#bd3786\"], [0.5555555555555556, \"#d8576b\"], [0.6666666666666666, \"#ed7953\"], [0.7777777777777778, \"#fb9f3a\"], [0.8888888888888888, \"#fdca26\"], [1.0, \"#f0f921\"]], \"type\": \"heatmap\"}], \"heatmapgl\": [{\"colorbar\": {\"outlinewidth\": 0, \"ticks\": \"\"}, \"colorscale\": [[0.0, \"#0d0887\"], [0.1111111111111111, \"#46039f\"], [0.2222222222222222, \"#7201a8\"], [0.3333333333333333, \"#9c179e\"], [0.4444444444444444, \"#bd3786\"], [0.5555555555555556, \"#d8576b\"], [0.6666666666666666, \"#ed7953\"], [0.7777777777777778, \"#fb9f3a\"], [0.8888888888888888, \"#fdca26\"], [1.0, \"#f0f921\"]], \"type\": \"heatmapgl\"}], \"histogram\": [{\"marker\": {\"colorbar\": {\"outlinewidth\": 0, \"ticks\": \"\"}}, \"type\": \"histogram\"}], \"histogram2d\": [{\"colorbar\": {\"outlinewidth\": 0, \"ticks\": \"\"}, \"colorscale\": [[0.0, \"#0d0887\"], [0.1111111111111111, \"#46039f\"], [0.2222222222222222, \"#7201a8\"], [0.3333333333333333, \"#9c179e\"], [0.4444444444444444, \"#bd3786\"], [0.5555555555555556, \"#d8576b\"], [0.6666666666666666, \"#ed7953\"], [0.7777777777777778, \"#fb9f3a\"], [0.8888888888888888, \"#fdca26\"], [1.0, \"#f0f921\"]], \"type\": \"histogram2d\"}], \"histogram2dcontour\": [{\"colorbar\": {\"outlinewidth\": 0, \"ticks\": \"\"}, \"colorscale\": [[0.0, \"#0d0887\"], [0.1111111111111111, \"#46039f\"], [0.2222222222222222, \"#7201a8\"], [0.3333333333333333, \"#9c179e\"], [0.4444444444444444, \"#bd3786\"], [0.5555555555555556, \"#d8576b\"], [0.6666666666666666, \"#ed7953\"], [0.7777777777777778, \"#fb9f3a\"], [0.8888888888888888, \"#fdca26\"], [1.0, \"#f0f921\"]], \"type\": \"histogram2dcontour\"}], \"mesh3d\": [{\"colorbar\": {\"outlinewidth\": 0, \"ticks\": \"\"}, \"type\": \"mesh3d\"}], \"parcoords\": [{\"line\": {\"colorbar\": {\"outlinewidth\": 0, \"ticks\": \"\"}}, \"type\": \"parcoords\"}], \"pie\": [{\"automargin\": true, \"type\": \"pie\"}], \"scatter\": [{\"marker\": {\"colorbar\": {\"outlinewidth\": 0, \"ticks\": \"\"}}, \"type\": \"scatter\"}], \"scatter3d\": [{\"line\": {\"colorbar\": {\"outlinewidth\": 0, \"ticks\": \"\"}}, \"marker\": {\"colorbar\": {\"outlinewidth\": 0, \"ticks\": \"\"}}, \"type\": \"scatter3d\"}], \"scattercarpet\": [{\"marker\": {\"colorbar\": {\"outlinewidth\": 0, \"ticks\": \"\"}}, \"type\": \"scattercarpet\"}], \"scattergeo\": [{\"marker\": {\"colorbar\": {\"outlinewidth\": 0, \"ticks\": \"\"}}, \"type\": \"scattergeo\"}], \"scattergl\": [{\"marker\": {\"colorbar\": {\"outlinewidth\": 0, \"ticks\": \"\"}}, \"type\": \"scattergl\"}], \"scattermapbox\": [{\"marker\": {\"colorbar\": {\"outlinewidth\": 0, \"ticks\": \"\"}}, \"type\": \"scattermapbox\"}], \"scatterpolar\": [{\"marker\": {\"colorbar\": {\"outlinewidth\": 0, \"ticks\": \"\"}}, \"type\": \"scatterpolar\"}], \"scatterpolargl\": [{\"marker\": {\"colorbar\": {\"outlinewidth\": 0, \"ticks\": \"\"}}, \"type\": \"scatterpolargl\"}], \"scatterternary\": [{\"marker\": {\"colorbar\": {\"outlinewidth\": 0, \"ticks\": \"\"}}, \"type\": \"scatterternary\"}], \"surface\": [{\"colorbar\": {\"outlinewidth\": 0, \"ticks\": \"\"}, \"colorscale\": [[0.0, \"#0d0887\"], [0.1111111111111111, \"#46039f\"], [0.2222222222222222, \"#7201a8\"], [0.3333333333333333, \"#9c179e\"], [0.4444444444444444, \"#bd3786\"], [0.5555555555555556, \"#d8576b\"], [0.6666666666666666, \"#ed7953\"], [0.7777777777777778, \"#fb9f3a\"], [0.8888888888888888, \"#fdca26\"], [1.0, \"#f0f921\"]], \"type\": \"surface\"}], \"table\": [{\"cells\": {\"fill\": {\"color\": \"#EBF0F8\"}, \"line\": {\"color\": \"white\"}}, \"header\": {\"fill\": {\"color\": \"#C8D4E3\"}, \"line\": {\"color\": \"white\"}}, \"type\": \"table\"}]}, \"layout\": {\"annotationdefaults\": {\"arrowcolor\": \"#2a3f5f\", \"arrowhead\": 0, \"arrowwidth\": 1}, \"coloraxis\": {\"colorbar\": {\"outlinewidth\": 0, \"ticks\": \"\"}}, \"colorscale\": {\"diverging\": [[0, \"#8e0152\"], [0.1, \"#c51b7d\"], [0.2, \"#de77ae\"], [0.3, \"#f1b6da\"], [0.4, \"#fde0ef\"], [0.5, \"#f7f7f7\"], [0.6, \"#e6f5d0\"], [0.7, \"#b8e186\"], [0.8, \"#7fbc41\"], [0.9, \"#4d9221\"], [1, \"#276419\"]], \"sequential\": [[0.0, \"#0d0887\"], [0.1111111111111111, \"#46039f\"], [0.2222222222222222, \"#7201a8\"], [0.3333333333333333, \"#9c179e\"], [0.4444444444444444, \"#bd3786\"], [0.5555555555555556, \"#d8576b\"], [0.6666666666666666, \"#ed7953\"], [0.7777777777777778, \"#fb9f3a\"], [0.8888888888888888, \"#fdca26\"], [1.0, \"#f0f921\"]], \"sequentialminus\": [[0.0, \"#0d0887\"], [0.1111111111111111, \"#46039f\"], [0.2222222222222222, \"#7201a8\"], [0.3333333333333333, \"#9c179e\"], [0.4444444444444444, \"#bd3786\"], [0.5555555555555556, \"#d8576b\"], [0.6666666666666666, \"#ed7953\"], [0.7777777777777778, \"#fb9f3a\"], [0.8888888888888888, \"#fdca26\"], [1.0, \"#f0f921\"]]}, \"colorway\": [\"#636efa\", \"#EF553B\", \"#00cc96\", \"#ab63fa\", \"#FFA15A\", \"#19d3f3\", \"#FF6692\", \"#B6E880\", \"#FF97FF\", \"#FECB52\"], \"font\": {\"color\": \"#2a3f5f\"}, \"geo\": {\"bgcolor\": \"white\", \"lakecolor\": \"white\", \"landcolor\": \"#E5ECF6\", \"showlakes\": true, \"showland\": true, \"subunitcolor\": \"white\"}, \"hoverlabel\": {\"align\": \"left\"}, \"hovermode\": \"closest\", \"mapbox\": {\"style\": \"light\"}, \"paper_bgcolor\": \"white\", \"plot_bgcolor\": \"#E5ECF6\", \"polar\": {\"angularaxis\": {\"gridcolor\": \"white\", \"linecolor\": \"white\", \"ticks\": \"\"}, \"bgcolor\": \"#E5ECF6\", \"radialaxis\": {\"gridcolor\": \"white\", \"linecolor\": \"white\", \"ticks\": \"\"}}, \"scene\": {\"xaxis\": {\"backgroundcolor\": \"#E5ECF6\", \"gridcolor\": \"white\", \"gridwidth\": 2, \"linecolor\": \"white\", \"showbackground\": true, \"ticks\": \"\", \"zerolinecolor\": \"white\"}, \"yaxis\": {\"backgroundcolor\": \"#E5ECF6\", \"gridcolor\": \"white\", \"gridwidth\": 2, \"linecolor\": \"white\", \"showbackground\": true, \"ticks\": \"\", \"zerolinecolor\": \"white\"}, \"zaxis\": {\"backgroundcolor\": \"#E5ECF6\", \"gridcolor\": \"white\", \"gridwidth\": 2, \"linecolor\": \"white\", \"showbackground\": true, \"ticks\": \"\", \"zerolinecolor\": \"white\"}}, \"shapedefaults\": {\"line\": {\"color\": \"#2a3f5f\"}}, \"ternary\": {\"aaxis\": {\"gridcolor\": \"white\", \"linecolor\": \"white\", \"ticks\": \"\"}, \"baxis\": {\"gridcolor\": \"white\", \"linecolor\": \"white\", \"ticks\": \"\"}, \"bgcolor\": \"#E5ECF6\", \"caxis\": {\"gridcolor\": \"white\", \"linecolor\": \"white\", \"ticks\": \"\"}}, \"title\": {\"x\": 0.05}, \"xaxis\": {\"automargin\": true, \"gridcolor\": \"white\", \"linecolor\": \"white\", \"ticks\": \"\", \"title\": {\"standoff\": 15}, \"zerolinecolor\": \"white\", \"zerolinewidth\": 2}, \"yaxis\": {\"automargin\": true, \"gridcolor\": \"white\", \"linecolor\": \"white\", \"ticks\": \"\", \"title\": {\"standoff\": 15}, \"zerolinecolor\": \"white\", \"zerolinewidth\": 2}}}, \"title\": {\"text\": \"\\uc0c1\\uac00\\uc720\\ubb34\\uc5d0 \\ub530\\ub978 \\ucd1d\\uc138\\ub300\\uc218, \\ub2e8\\uc9c0\\ub0b4\\uc8fc\\ucc28\\uba74\\uc218 \\ubd84\\ud3ec\"}, \"xaxis\": {\"anchor\": \"y\", \"domain\": [0.0, 1.0], \"title\": {\"text\": \"\\uc804\\uc6a9\\uba74\\uc801\"}}, \"yaxis\": {\"anchor\": \"x\", \"domain\": [0.0, 1.0], \"title\": {\"text\": \"\\uc804\\uc6a9\\uba74\\uc801\\ubcc4\\uc138\\ub300\\uc218\"}}},\n",
              "                        {\"responsive\": true}\n",
              "                    ).then(function(){\n",
              "                            \n",
              "var gd = document.getElementById('c6684484-e519-4271-8f99-18872c7860c6');\n",
              "var x = new MutationObserver(function (mutations, observer) {{\n",
              "        var display = window.getComputedStyle(gd).display;\n",
              "        if (!display || display === 'none') {{\n",
              "            console.log([gd, 'removed!']);\n",
              "            Plotly.purge(gd);\n",
              "            observer.disconnect();\n",
              "        }}\n",
              "}});\n",
              "\n",
              "// Listen for the removal of the full notebook cells\n",
              "var notebookContainer = gd.closest('#notebook-container');\n",
              "if (notebookContainer) {{\n",
              "    x.observe(notebookContainer, {childList: true});\n",
              "}}\n",
              "\n",
              "// Listen for the clearing of the current output cell\n",
              "var outputEl = gd.closest('.output');\n",
              "if (outputEl) {{\n",
              "    x.observe(outputEl, {childList: true});\n",
              "}}\n",
              "\n",
              "                        })\n",
              "                };\n",
              "                \n",
              "            </script>\n",
              "        </div>\n",
              "</body>\n",
              "</html>"
            ]
          },
          "metadata": {}
        }
      ]
    },
    {
      "cell_type": "markdown",
      "metadata": {
        "id": "28F9BqtpWSEp"
      },
      "source": [
        "- 단지내에 소형 + 초소형, 소형 + 중대형을 많이 짓기 때문에 위와 같은 소형부분이 명확하지 않음.   \n",
        "단지내에 해당하는 모든 아파트유형을 원핫인코딩으로 적용시키는 것과 비교하여 적용"
      ]
    },
    {
      "cell_type": "markdown",
      "metadata": {
        "id": "bzl1o-9OBvfD"
      },
      "source": [
        "### 공급유형 관련 파생변수 생성"
      ]
    },
    {
      "cell_type": "code",
      "metadata": {
        "id": "cAzVuKEsbLtg"
      },
      "source": [
        "raw_train_store_apartType = copy.deepcopy(raw_train_store)"
      ],
      "execution_count": null,
      "outputs": []
    },
    {
      "cell_type": "code",
      "metadata": {
        "colab": {
          "base_uri": "https://localhost:8080/"
        },
        "id": "8egLvV4cCJWD",
        "outputId": "c7d0ddf1-2f14-4b9c-87b6-af8a861ad1b6"
      },
      "source": [
        "sum(raw_train_store_apartType.drop_duplicates(['단지코드','공급유형'], keep='first')['공급유형'].value_counts())"
      ],
      "execution_count": null,
      "outputs": [
        {
          "output_type": "execute_result",
          "data": {
            "text/plain": [
              "455"
            ]
          },
          "metadata": {},
          "execution_count": 612
        }
      ]
    },
    {
      "cell_type": "markdown",
      "metadata": {
        "id": "4nlHf3-1CnVp"
      },
      "source": [
        "- 동일한 단지에서 다른 공급유형이 존재함을 알 수 있음(단지코드 unique개수 :423)"
      ]
    },
    {
      "cell_type": "code",
      "metadata": {
        "id": "GY0hzDwUC0GH"
      },
      "source": [
        "temp_df = raw_train.drop_duplicates(['단지코드','공급유형'], keep='first').groupby('단지코드')['공급유형'].count().reset_index()"
      ],
      "execution_count": null,
      "outputs": []
    },
    {
      "cell_type": "code",
      "metadata": {
        "colab": {
          "base_uri": "https://localhost:8080/",
          "height": 605
        },
        "id": "ZlZYNN2QHrpx",
        "outputId": "a8b52c04-d85e-4b99-9b38-6dc379db62b5"
      },
      "source": [
        "raw_train_store_apartType.groupby(['상가유무','공급유형','아파트유형'])['전용면적','등록차량수', '단지내주차면수','단지코드'].agg({'전용면적': 'mean', '등록차량수': 'mean', '단지내주차면수': 'mean', '단지코드':'count'}).reset_index()"
      ],
      "execution_count": null,
      "outputs": [
        {
          "output_type": "execute_result",
          "data": {
            "text/html": [
              "<div>\n",
              "<style scoped>\n",
              "    .dataframe tbody tr th:only-of-type {\n",
              "        vertical-align: middle;\n",
              "    }\n",
              "\n",
              "    .dataframe tbody tr th {\n",
              "        vertical-align: top;\n",
              "    }\n",
              "\n",
              "    .dataframe thead th {\n",
              "        text-align: right;\n",
              "    }\n",
              "</style>\n",
              "<table border=\"1\" class=\"dataframe\">\n",
              "  <thead>\n",
              "    <tr style=\"text-align: right;\">\n",
              "      <th></th>\n",
              "      <th>상가유무</th>\n",
              "      <th>공급유형</th>\n",
              "      <th>아파트유형</th>\n",
              "      <th>전용면적</th>\n",
              "      <th>등록차량수</th>\n",
              "      <th>단지내주차면수</th>\n",
              "      <th>단지코드</th>\n",
              "    </tr>\n",
              "  </thead>\n",
              "  <tbody>\n",
              "    <tr>\n",
              "      <th>0</th>\n",
              "      <td>상가없음</td>\n",
              "      <td>공공분양</td>\n",
              "      <td>중대형</td>\n",
              "      <td>80.661429</td>\n",
              "      <td>167.835730</td>\n",
              "      <td>118.608749</td>\n",
              "      <td>7</td>\n",
              "    </tr>\n",
              "    <tr>\n",
              "      <th>1</th>\n",
              "      <td>상가없음</td>\n",
              "      <td>공공임대(10년)</td>\n",
              "      <td>소형</td>\n",
              "      <td>59.343371</td>\n",
              "      <td>193.257992</td>\n",
              "      <td>154.509856</td>\n",
              "      <td>89</td>\n",
              "    </tr>\n",
              "    <tr>\n",
              "      <th>2</th>\n",
              "      <td>상가없음</td>\n",
              "      <td>공공임대(10년)</td>\n",
              "      <td>중대형</td>\n",
              "      <td>81.016283</td>\n",
              "      <td>173.088072</td>\n",
              "      <td>138.346690</td>\n",
              "      <td>113</td>\n",
              "    </tr>\n",
              "    <tr>\n",
              "      <th>3</th>\n",
              "      <td>상가없음</td>\n",
              "      <td>공공임대(10년)</td>\n",
              "      <td>초소형</td>\n",
              "      <td>49.760000</td>\n",
              "      <td>97.743179</td>\n",
              "      <td>81.918743</td>\n",
              "      <td>3</td>\n",
              "    </tr>\n",
              "    <tr>\n",
              "      <th>4</th>\n",
              "      <td>상가없음</td>\n",
              "      <td>공공임대(50년)</td>\n",
              "      <td>초소형</td>\n",
              "      <td>45.300000</td>\n",
              "      <td>100.739130</td>\n",
              "      <td>112.826087</td>\n",
              "      <td>23</td>\n",
              "    </tr>\n",
              "    <tr>\n",
              "      <th>5</th>\n",
              "      <td>상가없음</td>\n",
              "      <td>공공임대(5년)</td>\n",
              "      <td>소형</td>\n",
              "      <td>59.950000</td>\n",
              "      <td>100.497537</td>\n",
              "      <td>87.467980</td>\n",
              "      <td>1</td>\n",
              "    </tr>\n",
              "    <tr>\n",
              "      <th>6</th>\n",
              "      <td>상가없음</td>\n",
              "      <td>공공임대(5년)</td>\n",
              "      <td>초소형</td>\n",
              "      <td>43.355000</td>\n",
              "      <td>393.251232</td>\n",
              "      <td>342.266010</td>\n",
              "      <td>2</td>\n",
              "    </tr>\n",
              "    <tr>\n",
              "      <th>7</th>\n",
              "      <td>상가없음</td>\n",
              "      <td>공공임대(분납)</td>\n",
              "      <td>소형</td>\n",
              "      <td>57.273333</td>\n",
              "      <td>191.677373</td>\n",
              "      <td>135.457530</td>\n",
              "      <td>3</td>\n",
              "    </tr>\n",
              "    <tr>\n",
              "      <th>8</th>\n",
              "      <td>상가없음</td>\n",
              "      <td>공공임대(분납)</td>\n",
              "      <td>중대형</td>\n",
              "      <td>82.395556</td>\n",
              "      <td>142.441640</td>\n",
              "      <td>138.672976</td>\n",
              "      <td>9</td>\n",
              "    </tr>\n",
              "    <tr>\n",
              "      <th>9</th>\n",
              "      <td>상가없음</td>\n",
              "      <td>국민임대</td>\n",
              "      <td>소형</td>\n",
              "      <td>53.934902</td>\n",
              "      <td>112.595850</td>\n",
              "      <td>108.630414</td>\n",
              "      <td>459</td>\n",
              "    </tr>\n",
              "    <tr>\n",
              "      <th>10</th>\n",
              "      <td>상가없음</td>\n",
              "      <td>국민임대</td>\n",
              "      <td>초소형</td>\n",
              "      <td>41.180185</td>\n",
              "      <td>97.701560</td>\n",
              "      <td>107.520064</td>\n",
              "      <td>1299</td>\n",
              "    </tr>\n",
              "    <tr>\n",
              "      <th>11</th>\n",
              "      <td>상가없음</td>\n",
              "      <td>영구임대</td>\n",
              "      <td>초소형</td>\n",
              "      <td>25.799138</td>\n",
              "      <td>58.936043</td>\n",
              "      <td>62.516783</td>\n",
              "      <td>58</td>\n",
              "    </tr>\n",
              "    <tr>\n",
              "      <th>12</th>\n",
              "      <td>상가없음</td>\n",
              "      <td>장기전세</td>\n",
              "      <td>소형</td>\n",
              "      <td>55.836667</td>\n",
              "      <td>210.762231</td>\n",
              "      <td>211.684970</td>\n",
              "      <td>6</td>\n",
              "    </tr>\n",
              "    <tr>\n",
              "      <th>13</th>\n",
              "      <td>상가없음</td>\n",
              "      <td>장기전세</td>\n",
              "      <td>초소형</td>\n",
              "      <td>39.006667</td>\n",
              "      <td>178.180180</td>\n",
              "      <td>177.621622</td>\n",
              "      <td>3</td>\n",
              "    </tr>\n",
              "    <tr>\n",
              "      <th>14</th>\n",
              "      <td>상가없음</td>\n",
              "      <td>행복주택</td>\n",
              "      <td>초소형</td>\n",
              "      <td>27.966948</td>\n",
              "      <td>47.266547</td>\n",
              "      <td>61.606239</td>\n",
              "      <td>213</td>\n",
              "    </tr>\n",
              "    <tr>\n",
              "      <th>15</th>\n",
              "      <td>상가있음</td>\n",
              "      <td>공공임대(50년)</td>\n",
              "      <td>초소형</td>\n",
              "      <td>39.868750</td>\n",
              "      <td>72.713073</td>\n",
              "      <td>41.162067</td>\n",
              "      <td>8</td>\n",
              "    </tr>\n",
              "    <tr>\n",
              "      <th>16</th>\n",
              "      <td>상가있음</td>\n",
              "      <td>영구임대</td>\n",
              "      <td>소형</td>\n",
              "      <td>52.740000</td>\n",
              "      <td>0.715963</td>\n",
              "      <td>2.149202</td>\n",
              "      <td>4</td>\n",
              "    </tr>\n",
              "    <tr>\n",
              "      <th>17</th>\n",
              "      <td>상가있음</td>\n",
              "      <td>영구임대</td>\n",
              "      <td>초소형</td>\n",
              "      <td>29.864667</td>\n",
              "      <td>47.395679</td>\n",
              "      <td>74.543316</td>\n",
              "      <td>90</td>\n",
              "    </tr>\n",
              "  </tbody>\n",
              "</table>\n",
              "</div>"
            ],
            "text/plain": [
              "    상가유무       공급유형 아파트유형       전용면적       등록차량수     단지내주차면수  단지코드\n",
              "0   상가없음       공공분양   중대형  80.661429  167.835730  118.608749     7\n",
              "1   상가없음  공공임대(10년)    소형  59.343371  193.257992  154.509856    89\n",
              "2   상가없음  공공임대(10년)   중대형  81.016283  173.088072  138.346690   113\n",
              "3   상가없음  공공임대(10년)   초소형  49.760000   97.743179   81.918743     3\n",
              "4   상가없음  공공임대(50년)   초소형  45.300000  100.739130  112.826087    23\n",
              "5   상가없음   공공임대(5년)    소형  59.950000  100.497537   87.467980     1\n",
              "6   상가없음   공공임대(5년)   초소형  43.355000  393.251232  342.266010     2\n",
              "7   상가없음   공공임대(분납)    소형  57.273333  191.677373  135.457530     3\n",
              "8   상가없음   공공임대(분납)   중대형  82.395556  142.441640  138.672976     9\n",
              "9   상가없음       국민임대    소형  53.934902  112.595850  108.630414   459\n",
              "10  상가없음       국민임대   초소형  41.180185   97.701560  107.520064  1299\n",
              "11  상가없음       영구임대   초소형  25.799138   58.936043   62.516783    58\n",
              "12  상가없음       장기전세    소형  55.836667  210.762231  211.684970     6\n",
              "13  상가없음       장기전세   초소형  39.006667  178.180180  177.621622     3\n",
              "14  상가없음       행복주택   초소형  27.966948   47.266547   61.606239   213\n",
              "15  상가있음  공공임대(50년)   초소형  39.868750   72.713073   41.162067     8\n",
              "16  상가있음       영구임대    소형  52.740000    0.715963    2.149202     4\n",
              "17  상가있음       영구임대   초소형  29.864667   47.395679   74.543316    90"
            ]
          },
          "metadata": {},
          "execution_count": 619
        }
      ]
    },
    {
      "cell_type": "code",
      "metadata": {
        "id": "EMD_AgWjgI9h"
      },
      "source": [
        "def supply_type(x):\n",
        "  if x == '장기전세' or x == '행복주택' or x == '공공분양' or x == '공공임대(분납)': \n",
        "    return x\n",
        "  else:\n",
        "    return '임대'"
      ],
      "execution_count": null,
      "outputs": []
    },
    {
      "cell_type": "code",
      "metadata": {
        "id": "Jd0Ju8u2f_HN"
      },
      "source": [
        "raw_train_store_apartType['공급유형'] = raw_train_store_apartType['공급유형'].apply(lambda x: supply_type(x))"
      ],
      "execution_count": null,
      "outputs": []
    },
    {
      "cell_type": "code",
      "metadata": {
        "colab": {
          "base_uri": "https://localhost:8080/",
          "height": 388
        },
        "id": "3jR5ZA09g9Du",
        "outputId": "dc9f912e-34c1-493b-df82-470592391aa6"
      },
      "source": [
        "raw_train_store_apartType.groupby(['상가유무','공급유형','아파트유형'])['전용면적','등록차량수', '단지내주차면수','단지코드'].agg({'전용면적': 'mean', '등록차량수': 'mean', '단지내주차면수': 'mean', '단지코드':'count'}).reset_index()"
      ],
      "execution_count": null,
      "outputs": [
        {
          "output_type": "execute_result",
          "data": {
            "text/html": [
              "<div>\n",
              "<style scoped>\n",
              "    .dataframe tbody tr th:only-of-type {\n",
              "        vertical-align: middle;\n",
              "    }\n",
              "\n",
              "    .dataframe tbody tr th {\n",
              "        vertical-align: top;\n",
              "    }\n",
              "\n",
              "    .dataframe thead th {\n",
              "        text-align: right;\n",
              "    }\n",
              "</style>\n",
              "<table border=\"1\" class=\"dataframe\">\n",
              "  <thead>\n",
              "    <tr style=\"text-align: right;\">\n",
              "      <th></th>\n",
              "      <th>상가유무</th>\n",
              "      <th>공급유형</th>\n",
              "      <th>아파트유형</th>\n",
              "      <th>전용면적</th>\n",
              "      <th>등록차량수</th>\n",
              "      <th>단지내주차면수</th>\n",
              "      <th>단지코드</th>\n",
              "    </tr>\n",
              "  </thead>\n",
              "  <tbody>\n",
              "    <tr>\n",
              "      <th>0</th>\n",
              "      <td>상가없음</td>\n",
              "      <td>공공분양</td>\n",
              "      <td>중대형</td>\n",
              "      <td>80.661429</td>\n",
              "      <td>167.835730</td>\n",
              "      <td>118.608749</td>\n",
              "      <td>7</td>\n",
              "    </tr>\n",
              "    <tr>\n",
              "      <th>1</th>\n",
              "      <td>상가없음</td>\n",
              "      <td>공공임대(분납)</td>\n",
              "      <td>소형</td>\n",
              "      <td>57.273333</td>\n",
              "      <td>191.677373</td>\n",
              "      <td>135.457530</td>\n",
              "      <td>3</td>\n",
              "    </tr>\n",
              "    <tr>\n",
              "      <th>2</th>\n",
              "      <td>상가없음</td>\n",
              "      <td>공공임대(분납)</td>\n",
              "      <td>중대형</td>\n",
              "      <td>82.395556</td>\n",
              "      <td>142.441640</td>\n",
              "      <td>138.672976</td>\n",
              "      <td>9</td>\n",
              "    </tr>\n",
              "    <tr>\n",
              "      <th>3</th>\n",
              "      <td>상가없음</td>\n",
              "      <td>임대</td>\n",
              "      <td>소형</td>\n",
              "      <td>54.822641</td>\n",
              "      <td>125.650189</td>\n",
              "      <td>116.029517</td>\n",
              "      <td>549</td>\n",
              "    </tr>\n",
              "    <tr>\n",
              "      <th>4</th>\n",
              "      <td>상가없음</td>\n",
              "      <td>임대</td>\n",
              "      <td>중대형</td>\n",
              "      <td>81.016283</td>\n",
              "      <td>173.088072</td>\n",
              "      <td>138.346690</td>\n",
              "      <td>113</td>\n",
              "    </tr>\n",
              "    <tr>\n",
              "      <th>5</th>\n",
              "      <td>상가없음</td>\n",
              "      <td>임대</td>\n",
              "      <td>초소형</td>\n",
              "      <td>40.626209</td>\n",
              "      <td>96.555486</td>\n",
              "      <td>106.007094</td>\n",
              "      <td>1385</td>\n",
              "    </tr>\n",
              "    <tr>\n",
              "      <th>6</th>\n",
              "      <td>상가없음</td>\n",
              "      <td>장기전세</td>\n",
              "      <td>소형</td>\n",
              "      <td>55.836667</td>\n",
              "      <td>210.762231</td>\n",
              "      <td>211.684970</td>\n",
              "      <td>6</td>\n",
              "    </tr>\n",
              "    <tr>\n",
              "      <th>7</th>\n",
              "      <td>상가없음</td>\n",
              "      <td>장기전세</td>\n",
              "      <td>초소형</td>\n",
              "      <td>39.006667</td>\n",
              "      <td>178.180180</td>\n",
              "      <td>177.621622</td>\n",
              "      <td>3</td>\n",
              "    </tr>\n",
              "    <tr>\n",
              "      <th>8</th>\n",
              "      <td>상가없음</td>\n",
              "      <td>행복주택</td>\n",
              "      <td>초소형</td>\n",
              "      <td>27.966948</td>\n",
              "      <td>47.266547</td>\n",
              "      <td>61.606239</td>\n",
              "      <td>213</td>\n",
              "    </tr>\n",
              "    <tr>\n",
              "      <th>9</th>\n",
              "      <td>상가있음</td>\n",
              "      <td>임대</td>\n",
              "      <td>소형</td>\n",
              "      <td>52.740000</td>\n",
              "      <td>0.715963</td>\n",
              "      <td>2.149202</td>\n",
              "      <td>4</td>\n",
              "    </tr>\n",
              "    <tr>\n",
              "      <th>10</th>\n",
              "      <td>상가있음</td>\n",
              "      <td>임대</td>\n",
              "      <td>초소형</td>\n",
              "      <td>30.681327</td>\n",
              "      <td>49.462405</td>\n",
              "      <td>71.818316</td>\n",
              "      <td>98</td>\n",
              "    </tr>\n",
              "  </tbody>\n",
              "</table>\n",
              "</div>"
            ],
            "text/plain": [
              "    상가유무      공급유형 아파트유형       전용면적       등록차량수     단지내주차면수  단지코드\n",
              "0   상가없음      공공분양   중대형  80.661429  167.835730  118.608749     7\n",
              "1   상가없음  공공임대(분납)    소형  57.273333  191.677373  135.457530     3\n",
              "2   상가없음  공공임대(분납)   중대형  82.395556  142.441640  138.672976     9\n",
              "3   상가없음        임대    소형  54.822641  125.650189  116.029517   549\n",
              "4   상가없음        임대   중대형  81.016283  173.088072  138.346690   113\n",
              "5   상가없음        임대   초소형  40.626209   96.555486  106.007094  1385\n",
              "6   상가없음      장기전세    소형  55.836667  210.762231  211.684970     6\n",
              "7   상가없음      장기전세   초소형  39.006667  178.180180  177.621622     3\n",
              "8   상가없음      행복주택   초소형  27.966948   47.266547   61.606239   213\n",
              "9   상가있음        임대    소형  52.740000    0.715963    2.149202     4\n",
              "10  상가있음        임대   초소형  30.681327   49.462405   71.818316    98"
            ]
          },
          "metadata": {},
          "execution_count": 629
        }
      ]
    },
    {
      "cell_type": "markdown",
      "metadata": {
        "id": "izyvvU0bfkYM"
      },
      "source": [
        "- 공공유형은 소수의 유형이 과반을 차지하고 의미가 없는 데이터로 보이기 때문에 삭제\n",
        "\n",
        "\n",
        "\n"
      ]
    },
    {
      "cell_type": "code",
      "metadata": {
        "colab": {
          "base_uri": "https://localhost:8080/",
          "height": 388
        },
        "id": "Lu_u_GsneDkY",
        "outputId": "e0678a63-35a3-47c7-b4ed-1fd003974baa"
      },
      "source": [
        "raw_train_store_apartType.groupby(['상가유무','공급유형'])['아파트유형'].count().reset_index()"
      ],
      "execution_count": null,
      "outputs": [
        {
          "output_type": "execute_result",
          "data": {
            "text/html": [
              "<div>\n",
              "<style scoped>\n",
              "    .dataframe tbody tr th:only-of-type {\n",
              "        vertical-align: middle;\n",
              "    }\n",
              "\n",
              "    .dataframe tbody tr th {\n",
              "        vertical-align: top;\n",
              "    }\n",
              "\n",
              "    .dataframe thead th {\n",
              "        text-align: right;\n",
              "    }\n",
              "</style>\n",
              "<table border=\"1\" class=\"dataframe\">\n",
              "  <thead>\n",
              "    <tr style=\"text-align: right;\">\n",
              "      <th></th>\n",
              "      <th>상가유무</th>\n",
              "      <th>공급유형</th>\n",
              "      <th>아파트유형</th>\n",
              "    </tr>\n",
              "  </thead>\n",
              "  <tbody>\n",
              "    <tr>\n",
              "      <th>0</th>\n",
              "      <td>상가없음</td>\n",
              "      <td>공공분양</td>\n",
              "      <td>7</td>\n",
              "    </tr>\n",
              "    <tr>\n",
              "      <th>1</th>\n",
              "      <td>상가없음</td>\n",
              "      <td>공공임대(10년)</td>\n",
              "      <td>205</td>\n",
              "    </tr>\n",
              "    <tr>\n",
              "      <th>2</th>\n",
              "      <td>상가없음</td>\n",
              "      <td>공공임대(50년)</td>\n",
              "      <td>23</td>\n",
              "    </tr>\n",
              "    <tr>\n",
              "      <th>3</th>\n",
              "      <td>상가없음</td>\n",
              "      <td>공공임대(5년)</td>\n",
              "      <td>3</td>\n",
              "    </tr>\n",
              "    <tr>\n",
              "      <th>4</th>\n",
              "      <td>상가없음</td>\n",
              "      <td>공공임대(분납)</td>\n",
              "      <td>12</td>\n",
              "    </tr>\n",
              "    <tr>\n",
              "      <th>5</th>\n",
              "      <td>상가없음</td>\n",
              "      <td>국민임대</td>\n",
              "      <td>1758</td>\n",
              "    </tr>\n",
              "    <tr>\n",
              "      <th>6</th>\n",
              "      <td>상가없음</td>\n",
              "      <td>영구임대</td>\n",
              "      <td>58</td>\n",
              "    </tr>\n",
              "    <tr>\n",
              "      <th>7</th>\n",
              "      <td>상가없음</td>\n",
              "      <td>장기전세</td>\n",
              "      <td>9</td>\n",
              "    </tr>\n",
              "    <tr>\n",
              "      <th>8</th>\n",
              "      <td>상가없음</td>\n",
              "      <td>행복주택</td>\n",
              "      <td>213</td>\n",
              "    </tr>\n",
              "    <tr>\n",
              "      <th>9</th>\n",
              "      <td>상가있음</td>\n",
              "      <td>공공임대(50년)</td>\n",
              "      <td>8</td>\n",
              "    </tr>\n",
              "    <tr>\n",
              "      <th>10</th>\n",
              "      <td>상가있음</td>\n",
              "      <td>영구임대</td>\n",
              "      <td>94</td>\n",
              "    </tr>\n",
              "  </tbody>\n",
              "</table>\n",
              "</div>"
            ],
            "text/plain": [
              "    상가유무       공급유형  아파트유형\n",
              "0   상가없음       공공분양      7\n",
              "1   상가없음  공공임대(10년)    205\n",
              "2   상가없음  공공임대(50년)     23\n",
              "3   상가없음   공공임대(5년)      3\n",
              "4   상가없음   공공임대(분납)     12\n",
              "5   상가없음       국민임대   1758\n",
              "6   상가없음       영구임대     58\n",
              "7   상가없음       장기전세      9\n",
              "8   상가없음       행복주택    213\n",
              "9   상가있음  공공임대(50년)      8\n",
              "10  상가있음       영구임대     94"
            ]
          },
          "metadata": {},
          "execution_count": 617
        }
      ]
    },
    {
      "cell_type": "code",
      "metadata": {
        "id": "5i6pZriZiDQQ"
      },
      "source": [
        "del raw_train_store_apartType['공급유형']"
      ],
      "execution_count": null,
      "outputs": []
    },
    {
      "cell_type": "markdown",
      "metadata": {
        "id": "4X-yP_VwiNNt"
      },
      "source": [
        "# 새 섹션"
      ]
    },
    {
      "cell_type": "code",
      "metadata": {
        "id": "d4USg4rkiKqZ"
      },
      "source": [
        "raw_train_store_apartType_supply = copy.deepcopy(raw_train_store_apartType)"
      ],
      "execution_count": null,
      "outputs": []
    },
    {
      "cell_type": "code",
      "metadata": {
        "id": "dKbPyun6iVIu"
      },
      "source": [
        "done = 임대, 공급유형, "
      ],
      "execution_count": null,
      "outputs": []
    },
    {
      "cell_type": "code",
      "metadata": {
        "colab": {
          "base_uri": "https://localhost:8080/"
        },
        "id": "pgZmB5x2oyF1",
        "outputId": "022cdf8b-7523-4773-df01-e66f1672f696"
      },
      "source": [
        "raw_train.columns"
      ],
      "execution_count": null,
      "outputs": [
        {
          "data": {
            "text/plain": [
              "Index(['단지코드', '총세대수', '지역', '공급유형', '전용면적', '전용면적별세대수', '공가수', '자격유형',\n",
              "       '임대보증금', '임대료', '도보 10분거리 내 지하철역 수(환승노선 수 반영)', '도보 10분거리 내 버스정류장 수',\n",
              "       '단지내주차면수', '등록차량수', '상가유무', '아파트유형'],\n",
              "      dtype='object')"
            ]
          },
          "execution_count": 214,
          "metadata": {},
          "output_type": "execute_result"
        }
      ]
    },
    {
      "cell_type": "code",
      "metadata": {
        "id": "ciKKaTk3hSjZ"
      },
      "source": [
        ""
      ],
      "execution_count": null,
      "outputs": []
    },
    {
      "cell_type": "markdown",
      "metadata": {
        "id": "j4IpDhVNYNdP"
      },
      "source": [
        "## 원핫 인코딩"
      ]
    },
    {
      "cell_type": "code",
      "metadata": {
        "id": "9UgnBGe1yaQn"
      },
      "source": [
        "features_index = raw_train.dtypes[raw_train.dtypes == 'object'].index[1:-2]"
      ],
      "execution_count": null,
      "outputs": []
    },
    {
      "cell_type": "code",
      "metadata": {
        "id": "oWMrL8CPhhoJ"
      },
      "source": [
        "#원핫인코딩\n",
        "ohe = OneHotEncoder(sparse=False, handle_unknown='ignore').fit(raw_train[features_index])"
      ],
      "execution_count": null,
      "outputs": []
    },
    {
      "cell_type": "code",
      "metadata": {
        "id": "zAB2LTOmh_Bo"
      },
      "source": [
        "raw_train_ohe = pd.DataFrame(ohe.transform(raw_train[features_index]), columns=ohe.get_feature_names()).reset_index(drop=True)"
      ],
      "execution_count": null,
      "outputs": []
    },
    {
      "cell_type": "code",
      "metadata": {
        "id": "gHvafd51yvY7"
      },
      "source": [
        "raw_train_ohe['단지코드'] = raw_train['단지코드'].sort_values()"
      ],
      "execution_count": null,
      "outputs": []
    },
    {
      "cell_type": "code",
      "metadata": {
        "id": "nlNq2CkCzj1n"
      },
      "source": [
        "raw_train_ohe_sum = raw_train_ohe.drop_duplicates().groupby(['단지코드']).sum().reset_index()"
      ],
      "execution_count": null,
      "outputs": []
    },
    {
      "cell_type": "code",
      "metadata": {
        "id": "X35JLnjKu4-y"
      },
      "source": [
        "for col in ohe.get_feature_names():\n",
        "  raw_train_ohe_sum[col] = raw_train_ohe_sum[col].apply(lambda x: 1 if x > 0 else 0)"
      ],
      "execution_count": null,
      "outputs": []
    },
    {
      "cell_type": "code",
      "metadata": {
        "id": "KgNFiH8Nlnvv"
      },
      "source": [
        "raw_test_ohe = pd.DataFrame(ohe.transform(raw_test[features_index]), columns=ohe.get_feature_names()).reset_index(drop=True)"
      ],
      "execution_count": null,
      "outputs": []
    },
    {
      "cell_type": "code",
      "metadata": {
        "id": "A3FlhYjy9yCb"
      },
      "source": [
        "raw_test_ohe['단지코드'] = raw_test['단지코드'].sort_values()"
      ],
      "execution_count": null,
      "outputs": []
    },
    {
      "cell_type": "code",
      "metadata": {
        "id": "lBSu8eHT9yCb"
      },
      "source": [
        "raw_test_ohe_sum = raw_test_ohe.drop_duplicates().groupby(['단지코드']).sum().reset_index()"
      ],
      "execution_count": null,
      "outputs": []
    },
    {
      "cell_type": "code",
      "metadata": {
        "id": "Jw-uRWjYvdx5"
      },
      "source": [
        "for col in ohe.get_feature_names():\n",
        "  raw_test_ohe_sum[col] = raw_test_ohe_sum[col].apply(lambda x: 1 if x > 0 else 0)"
      ],
      "execution_count": null,
      "outputs": []
    },
    {
      "cell_type": "markdown",
      "metadata": {
        "id": "vs1AlYJmuf16"
      },
      "source": [
        "## 데이터 그룹화\n",
        "- 코드와 공급유형, 잔격유형 별로 데이터집계"
      ]
    },
    {
      "cell_type": "code",
      "metadata": {
        "id": "qRmjI7ATvfFk"
      },
      "source": [
        "features_index_unobject = raw_train.dtypes[raw_train.dtypes != 'object'].index"
      ],
      "execution_count": null,
      "outputs": []
    },
    {
      "cell_type": "code",
      "metadata": {
        "id": "pZqXu4ua_QCt"
      },
      "source": [
        "raw_train_agg = raw_train.groupby(['단지코드'])[features_index_unobject]\\\n",
        ".agg({'총세대수':'mean', \"전용면적\": 'sum','전용면적별세대수': 'sum', '공가수': 'mean', '도보 10분거리 내 지하철역 수(환승노선 수 반영)': 'mean',\\\n",
        "      '도보 10분거리 내 버스정류장 수': 'mean', '단지내주차면수': 'sum', '등록차량수':'sum'}).reset_index()"
      ],
      "execution_count": null,
      "outputs": []
    },
    {
      "cell_type": "code",
      "metadata": {
        "id": "RBo4EvAW0eSD"
      },
      "source": [
        "new_train = pd.merge(raw_train_ohe_sum, raw_train_agg, on='단지코드', how='inner')"
      ],
      "execution_count": null,
      "outputs": []
    },
    {
      "cell_type": "code",
      "metadata": {
        "id": "28KuG1Oa-QW-"
      },
      "source": [
        "raw_test_agg = raw_test.groupby(['단지코드'])[[col for col in features_index_unobject if col != '등록차량수']]\\\n",
        ".agg({'총세대수':'mean', \"전용면적\": 'sum','전용면적별세대수': 'sum', '공가수': 'mean', '도보 10분거리 내 지하철역 수(환승노선 수 반영)': 'mean',\\\n",
        "      '도보 10분거리 내 버스정류장 수': 'mean', '단지내주차면수': 'sum'}).reset_index()"
      ],
      "execution_count": null,
      "outputs": []
    },
    {
      "cell_type": "code",
      "metadata": {
        "id": "O9IRaON9-QW-"
      },
      "source": [
        "new_test = pd.merge(raw_test_ohe_sum, raw_test_agg, on='단지코드', how='inner')"
      ],
      "execution_count": null,
      "outputs": []
    },
    {
      "cell_type": "markdown",
      "metadata": {
        "id": "QYHqyfLaWyET"
      },
      "source": [
        "## 왜곡 확인"
      ]
    },
    {
      "cell_type": "code",
      "metadata": {
        "colab": {
          "base_uri": "https://localhost:8080/"
        },
        "id": "WP3cYkP7o3LM",
        "outputId": "02bd37f1-034d-4d53-fab1-d6dde7f48d00"
      },
      "source": [
        "#target(등록차량수) 분포확인\n",
        "#분포를 확인하는 것은 타겟변수가 정상적인 데이터라는 것, 정규분포를 띨때 정확도가 올라감\n",
        "new_train['등록차량수'].hist()"
      ],
      "execution_count": null,
      "outputs": [
        {
          "data": {
            "text/plain": [
              "<matplotlib.axes._subplots.AxesSubplot at 0x7f012dab9e90>"
            ]
          },
          "execution_count": 361,
          "metadata": {},
          "output_type": "execute_result"
        },
        {
          "data": {
            "image/png": "[encoded data removed]",
            "text/plain": [
              "<Figure size 432x288 with 1 Axes>"
            ]
          },
          "metadata": {},
          "output_type": "display_data"
        }
      ]
    },
    {
      "cell_type": "code",
      "metadata": {
        "colab": {
          "base_uri": "https://localhost:8080/"
        },
        "id": "TBCH4TbSqrRn",
        "outputId": "0b41df0b-8a81-450a-964b-cf4f3b94ba55"
      },
      "source": [
        "np.log1p(new_train['등록차량수']).hist()"
      ],
      "execution_count": null,
      "outputs": [
        {
          "data": {
            "text/plain": [
              "<matplotlib.axes._subplots.AxesSubplot at 0x7f012db6bd50>"
            ]
          },
          "execution_count": 324,
          "metadata": {},
          "output_type": "execute_result"
        },
        {
          "data": {
            "image/png": "[encoded data removed]",
            "text/plain": [
              "<Figure size 432x288 with 1 Axes>"
            ]
          },
          "metadata": {},
          "output_type": "display_data"
        }
      ]
    },
    {
      "cell_type": "markdown",
      "metadata": {
        "id": "gsLJP0nyV_HK"
      },
      "source": [
        "- 로그변환후 타겟변수가 더 정규분포에 가까워진것을 확인할 수 있음  \n",
        "  따라서 타겟변수에 로그변환을 적용\n",
        "  나머지 변수에도 동일하게 적용"
      ]
    },
    {
      "cell_type": "code",
      "metadata": {
        "colab": {
          "base_uri": "https://localhost:8080/"
        },
        "id": "ytJBJfk7WakR",
        "outputId": "9bc00650-9cca-4d7b-9c5d-ae58ac197596"
      },
      "source": [
        "#타겟변수 이후의 것도 확인 - train\n",
        "skew_features = new_train[features_index_unobject].apply(lambda x: skew(x))\n",
        "skew_features_top = skew_features[skew_features > 1]\n",
        "print(skew_features_top.sort_values(ascending=False))"
      ],
      "execution_count": null,
      "outputs": [
        {
          "name": "stdout",
          "output_type": "stream",
          "text": [
            "전용면적                            4.113837\n",
            "도보 10분거리 내 지하철역 수(환승노선 수 반영)    3.563665\n",
            "도보 10분거리 내 버스정류장 수              2.789813\n",
            "등록차량수                           1.361853\n",
            "총세대수                            1.344617\n",
            "전용면적별세대수                        1.336908\n",
            "dtype: float64\n"
          ]
        }
      ]
    },
    {
      "cell_type": "code",
      "metadata": {
        "colab": {
          "base_uri": "https://localhost:8080/"
        },
        "id": "rXDxI8MKbGly",
        "outputId": "12fe1587-f68b-4310-e227-99b205df5b27"
      },
      "source": [
        "# 타겟변수 이후의 것도 확인 - test\n",
        "skew_features = new_test[[col for col in features_index_unobject if col != '등록차량수']].apply(lambda x: skew(x))\n",
        "skew_features_top = skew_features[skew_features > 1]\n",
        "print(skew_features_top.sort_values(ascending=False))"
      ],
      "execution_count": null,
      "outputs": [
        {
          "name": "stdout",
          "output_type": "stream",
          "text": [
            "전용면적                            4.528783\n",
            "도보 10분거리 내 지하철역 수(환승노선 수 반영)    4.037509\n",
            "도보 10분거리 내 버스정류장 수              2.165797\n",
            "총세대수                            1.246403\n",
            "전용면적별세대수                        1.245272\n",
            "dtype: float64\n"
          ]
        }
      ]
    },
    {
      "cell_type": "markdown",
      "metadata": {
        "id": "-XDaS0wHXnna"
      },
      "source": [
        "- 보통 1이상의 왜곡이 있을때 높다고 판단, 1이상인 컬럼에 대해서 로그처리 진행"
      ]
    },
    {
      "cell_type": "code",
      "metadata": {
        "id": "52ofSjPEXfhm"
      },
      "source": [
        "new_train[features_index_unobject] = np.log1p(new_train[features_index_unobject])\n",
        "new_test[[col for col in features_index_unobject if col != '등록차량수']] = np.log1p(new_test[[col for col in features_index_unobject if col != '등록차량수']])"
      ],
      "execution_count": null,
      "outputs": []
    },
    {
      "cell_type": "markdown",
      "metadata": {
        "id": "KEMB5O6Nbvs4"
      },
      "source": [
        "- train 데이터에서는 변환하지 않았던 도보 컬럼이 추가됨 train도 적용"
      ]
    },
    {
      "cell_type": "code",
      "metadata": {
        "id": "23xul8vg3xUn"
      },
      "source": [
        "new_train.drop('단지코드', axis=1, inplace=True)"
      ],
      "execution_count": null,
      "outputs": []
    },
    {
      "cell_type": "code",
      "metadata": {
        "id": "5CfmqEZ1AQzv"
      },
      "source": [
        "new_test.drop('단지코드', axis=1, inplace=True)"
      ],
      "execution_count": null,
      "outputs": []
    },
    {
      "cell_type": "markdown",
      "metadata": {
        "id": "xuLWx1Mnf5Im"
      },
      "source": [
        "## 데이터 분할"
      ]
    },
    {
      "cell_type": "code",
      "metadata": {
        "id": "09Fnmexwf9iQ"
      },
      "source": [
        "y_target = new_train.등록차량수\n",
        "X_features = new_train.drop('등록차량수', axis=1, inplace=False)\n",
        "X_train, X_test, y_train, y_test = train_test_split(X_features, y_target, test_size = 0.2, random_state=1001)\n",
        "\n",
        "ridge_params = {'alpha' : [0.05, 0.1, 1, 5, 8, 10, 12, 15, 20]}\n",
        "lasso_params = {'alpha' : [0.001, 0.005, 0.008, 0.05, 0.03, 0.1, 0.5, 1, 5, 10]} "
      ],
      "execution_count": null,
      "outputs": []
    },
    {
      "cell_type": "markdown",
      "metadata": {
        "id": "QBFWxsnFgUhs"
      },
      "source": [
        "# 모델 생성"
      ]
    },
    {
      "cell_type": "code",
      "metadata": {
        "id": "vKVUp4MCgTxs"
      },
      "source": [
        "def get_mae(model):\n",
        "    pred = model.predict(X_test)\n",
        "    mae = mean_absolute_error(y_test , pred)\n",
        "    return mae\n",
        "\n",
        "def get_maes(models):\n",
        "    maes = [ ]\n",
        "    for model in models:\n",
        "        mae = get_mae(model)\n",
        "        maes.append(mae)\n",
        "    return maes"
      ],
      "execution_count": null,
      "outputs": []
    },
    {
      "cell_type": "code",
      "metadata": {
        "colab": {
          "base_uri": "https://localhost:8080/"
        },
        "id": "31mYhcMkheS8",
        "outputId": "f3a14a79-58d6-4002-f30a-c522daa49d7d"
      },
      "source": [
        "# LinearRegression, Ridge, Lasso 학습, 예측, 평가\n",
        "lr_reg = LinearRegression()\n",
        "lr_reg.fit(X_train, y_train)\n",
        "\n",
        "ridge_reg = Ridge()\n",
        "ridge_reg.fit(X_train, y_train)\n",
        "\n",
        "lasso_reg = Lasso()\n",
        "lasso_reg.fit(X_train, y_train)\n",
        "\n",
        "models = [lr_reg, ridge_reg, lasso_reg]\n",
        "get_maes(models)"
      ],
      "execution_count": null,
      "outputs": [
        {
          "data": {
            "text/plain": [
              "[0.2293007790025757, 0.22322737567237605, 0.48601338122043636]"
            ]
          },
          "execution_count": 332,
          "metadata": {},
          "output_type": "execute_result"
        }
      ]
    },
    {
      "cell_type": "code",
      "metadata": {
        "id": "kiulb-6YhnRw"
      },
      "source": [
        "def get_top_bottom_coef(model):\n",
        "    # coef_ 속성을 기반으로 Series 객체를 생성. index는 컬럼명. \n",
        "    coef = pd.Series(model.coef_, index=X_features.columns)\n",
        "    \n",
        "    # + 상위 10개 , - 하위 10개 coefficient 추출하여 반환.\n",
        "    coef_high = coef.sort_values(ascending=False).head(10)\n",
        "    coef_low = coef.sort_values(ascending=False).tail(10)\n",
        "    return coef_high, coef_low"
      ],
      "execution_count": null,
      "outputs": []
    },
    {
      "cell_type": "code",
      "metadata": {
        "id": "4anRSkSg4bb1"
      },
      "source": [
        "def visualize_coefficient(models):\n",
        "    # 3개 회귀 모델의 시각화를 위해 3개의 컬럼을 가지는 subplot 생성\n",
        "    fig, axs = plt.subplots(figsize=(24,10),nrows=1, ncols=3)\n",
        "    fig.tight_layout() \n",
        "    # 입력인자로 받은 list객체인 models에서 차례로 model을 추출하여 회귀 계수 시각화. \n",
        "    for i_num, model in enumerate(models):\n",
        "        # 상위 10개, 하위 10개 회귀 계수를 구하고, 이를 판다스 concat으로 결합. \n",
        "        coef_high, coef_low = get_top_bottom_coef(model)\n",
        "        coef_concat = pd.concat( [coef_high , coef_low] )\n",
        "        # 순차적으로 ax subplot에 barchar로 표현. 한 화면에 표현하기 위해 tick label 위치와 font 크기 조정. \n",
        "        axs[i_num].set_title(model.__class__.__name__+' Coeffiecents', size=25)\n",
        "        axs[i_num].tick_params(axis=\"y\",direction=\"in\", pad=-120)\n",
        "        for label in (axs[i_num].get_xticklabels() + axs[i_num].get_yticklabels()):\n",
        "            label.set_fontsize(22)\n",
        "        sns.barplot(x=coef_concat.values, y=coef_concat.index , ax=axs[i_num])\n",
        "\n",
        "# 앞 예제에서 학습한 lr_reg, ridge_reg, lasso_reg 모델의 회귀 계수 시각화.    \n",
        "models = [lr_reg, ridge_reg, lasso_reg]\n",
        "# visualize_coefficient(models)"
      ],
      "execution_count": null,
      "outputs": []
    },
    {
      "cell_type": "code",
      "metadata": {
        "colab": {
          "base_uri": "https://localhost:8080/"
        },
        "id": "MJHIYGQm4fVu",
        "outputId": "e94289de-5eff-407a-fd01-4763c4b8eb07"
      },
      "source": [
        "def get_best_params(model, params):\n",
        "    grid_model = GridSearchCV(model, param_grid=params, \n",
        "                              scoring='neg_mean_squared_error', cv=5)\n",
        "    grid_model.fit(X_features, y_target)\n",
        "    mae = -1 * grid_model.best_score_\n",
        "    print('{0} 5 CV 시 최적 평균 MAE 값: {1}, 최적 alpha:{2}'.format(model.__class__.__name__,\n",
        "                                        np.round(mae, 4), grid_model.best_params_))\n",
        "    return grid_model.best_estimator_\n",
        "\n",
        "ridge_params = { 'alpha':[0.05, 0.1, 1, 5, 8, 10, 12, 15, 20] }\n",
        "lasso_params = { 'alpha':[0.001, 0.005, 0.008, 0.05, 0.03, 0.1, 0.5, 1,5, 10] }\n",
        "best_rige = get_best_params(ridge_reg, ridge_params)\n",
        "best_lasso = get_best_params(lasso_reg, lasso_params)"
      ],
      "execution_count": null,
      "outputs": [
        {
          "name": "stdout",
          "output_type": "stream",
          "text": [
            "Ridge 5 CV 시 최적 평균 MAE 값: 0.121, 최적 alpha:{'alpha': 8}\n",
            "Lasso 5 CV 시 최적 평균 MAE 값: 0.1223, 최적 alpha:{'alpha': 0.005}\n"
          ]
        }
      ]
    },
    {
      "cell_type": "code",
      "metadata": {
        "id": "LQ9q6j_g7S4A"
      },
      "source": [
        "def evaluate_regr(model, y):\n",
        "    # MSE 는 scikit learn의 mean_absolute_error() 로 계산\n",
        "    pred = model.predict(X_test)\n",
        "    mse_val = mean_absolute_error(y,pred)\n",
        "    print('MAE: {0:.3F}'.format(mse_val))"
      ],
      "execution_count": null,
      "outputs": []
    },
    {
      "cell_type": "code",
      "metadata": {
        "colab": {
          "base_uri": "https://localhost:8080/"
        },
        "id": "1OQfFl7b5CCJ",
        "outputId": "3a859c36-fbdb-4727-e79b-f455aa49c78d"
      },
      "source": [
        "evaluate_regr(best_rige, y_test)"
      ],
      "execution_count": null,
      "outputs": [
        {
          "name": "stdout",
          "output_type": "stream",
          "text": [
            "MAE: 0.200\n"
          ]
        }
      ]
    },
    {
      "cell_type": "markdown",
      "metadata": {
        "id": "lgJLvFfXzcjH"
      },
      "source": [
        "# 결과처리"
      ]
    },
    {
      "cell_type": "code",
      "metadata": {
        "id": "O4W7ChIXFtqh"
      },
      "source": [
        "sorterIndex = dict(zip(sorter, range(len(sorter))))"
      ],
      "execution_count": null,
      "outputs": []
    },
    {
      "cell_type": "code",
      "metadata": {
        "id": "UpczqLasnaS4"
      },
      "source": [
        "result = pd.DataFrame()\n",
        "result['code'] = raw_test['단지코드'].drop_duplicates(keep='first').sort_values().reset_index(drop=True)\n",
        "result['num'] = np.exp(best_rige.predict(new_test))\n",
        "result['Rank'] = result['code'].map(sorterIndex)"
      ],
      "execution_count": null,
      "outputs": []
    },
    {
      "cell_type": "code",
      "metadata": {
        "id": "SuF2LPLdsF2n"
      },
      "source": [
        "sub_ex = pd.read_csv(\"/content/drive/My Drive/머신러닝_실전예제/Dacon_주차수요예측/data/sample_submission.csv\")"
      ],
      "execution_count": null,
      "outputs": []
    },
    {
      "cell_type": "code",
      "metadata": {
        "colab": {
          "base_uri": "https://localhost:8080/",
          "height": 203
        },
        "id": "2hFUHem6q3TT",
        "outputId": "1ca00473-a86c-4be4-f649-77b67405a4c4"
      },
      "source": [
        "result.sort_values('Rank').head()"
      ],
      "execution_count": null,
      "outputs": [
        {
          "data": {
            "text/html": [
              "<div>\n",
              "<style scoped>\n",
              "    .dataframe tbody tr th:only-of-type {\n",
              "        vertical-align: middle;\n",
              "    }\n",
              "\n",
              "    .dataframe tbody tr th {\n",
              "        vertical-align: top;\n",
              "    }\n",
              "\n",
              "    .dataframe thead th {\n",
              "        text-align: right;\n",
              "    }\n",
              "</style>\n",
              "<table border=\"1\" class=\"dataframe\">\n",
              "  <thead>\n",
              "    <tr style=\"text-align: right;\">\n",
              "      <th></th>\n",
              "      <th>code</th>\n",
              "      <th>num</th>\n",
              "      <th>Rank</th>\n",
              "    </tr>\n",
              "  </thead>\n",
              "  <tbody>\n",
              "    <tr>\n",
              "      <th>10</th>\n",
              "      <td>C1072</td>\n",
              "      <td>743.479903</td>\n",
              "      <td>0</td>\n",
              "    </tr>\n",
              "    <tr>\n",
              "      <th>13</th>\n",
              "      <td>C1128</td>\n",
              "      <td>1281.918928</td>\n",
              "      <td>1</td>\n",
              "    </tr>\n",
              "    <tr>\n",
              "      <th>44</th>\n",
              "      <td>C1456</td>\n",
              "      <td>496.607600</td>\n",
              "      <td>2</td>\n",
              "    </tr>\n",
              "    <tr>\n",
              "      <th>83</th>\n",
              "      <td>C1840</td>\n",
              "      <td>496.347192</td>\n",
              "      <td>3</td>\n",
              "    </tr>\n",
              "    <tr>\n",
              "      <th>38</th>\n",
              "      <td>C1332</td>\n",
              "      <td>960.537965</td>\n",
              "      <td>4</td>\n",
              "    </tr>\n",
              "  </tbody>\n",
              "</table>\n",
              "</div>"
            ],
            "text/plain": [
              "     code          num  Rank\n",
              "10  C1072   743.479903     0\n",
              "13  C1128  1281.918928     1\n",
              "44  C1456   496.607600     2\n",
              "83  C1840   496.347192     3\n",
              "38  C1332   960.537965     4"
            ]
          },
          "execution_count": 345,
          "metadata": {},
          "output_type": "execute_result"
        }
      ]
    },
    {
      "cell_type": "code",
      "metadata": {
        "id": "eBVsLLWHyE1d"
      },
      "source": [
        "result = result.sort_values('Rank')"
      ],
      "execution_count": null,
      "outputs": []
    },
    {
      "cell_type": "code",
      "metadata": {
        "id": "iifcZqR0x1QR"
      },
      "source": [
        "result.drop('Rank', axis=1, inplace=True)"
      ],
      "execution_count": null,
      "outputs": []
    },
    {
      "cell_type": "code",
      "metadata": {
        "id": "qdYSv0v3pluW"
      },
      "source": [
        "result.to_csv(\"/content/drive/My Drive/머신러닝_실전예제/Dacon_주차수요예측/data/submission.csv\", index=False)"
      ],
      "execution_count": null,
      "outputs": []
    }
  ]
}